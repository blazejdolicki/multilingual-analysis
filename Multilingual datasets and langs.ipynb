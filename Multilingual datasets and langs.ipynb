{
 "cells": [
  {
   "cell_type": "code",
   "execution_count": 4,
   "metadata": {
    "ExecuteTime": {
     "end_time": "2020-04-17T11:54:23.754445Z",
     "start_time": "2020-04-17T11:54:23.738822Z"
    }
   },
   "outputs": [],
   "source": [
    "xnli=\"en, ar, bg, de, el, es, fr, hi, ru, sw, th, tr, ur, vi, zh\""
   ]
  },
  {
   "cell_type": "code",
   "execution_count": 1,
   "metadata": {
    "ExecuteTime": {
     "end_time": "2020-04-17T11:54:23.888459Z",
     "start_time": "2020-04-17T11:54:23.884469Z"
    }
   },
   "outputs": [],
   "source": [
    "tatoeba=\"af, ar, bg, bn, de, el, es, et, eu, fa, fi, fr, he, hi, hu, id, it, ja, jv, ka, kk, ko, ml, mr, nl, pt, ru, sw, ta, te, th, tl, ur, vi, zh\""
   ]
  },
  {
   "cell_type": "code",
   "execution_count": 2,
   "metadata": {
    "ExecuteTime": {
     "end_time": "2020-04-17T11:59:15.073392Z",
     "start_time": "2020-04-17T11:59:15.069402Z"
    }
   },
   "outputs": [],
   "source": [
    "pawsx=\"en, de, es, fr, ja, ko, zh\""
   ]
  },
  {
   "cell_type": "code",
   "execution_count": 3,
   "metadata": {
    "ExecuteTime": {
     "end_time": "2020-04-17T11:54:24.149706Z",
     "start_time": "2020-04-17T11:54:24.145716Z"
    }
   },
   "outputs": [],
   "source": [
    "bucc=\"de, fr, ru, zh\""
   ]
  },
  {
   "cell_type": "code",
   "execution_count": 5,
   "metadata": {
    "ExecuteTime": {
     "end_time": "2020-04-17T11:54:29.639637Z",
     "start_time": "2020-04-17T11:54:29.635647Z"
    }
   },
   "outputs": [],
   "source": [
    "ner=\"en, af, ar, bg, bn, de, el, es, et, eu, fa, fi, fr, he, hi, hu, id, it, ja, jv, ka, kk, ko, ml, mr, ms, my, nl, pt, ru, sw, ta, te, th, tl, tr, ur, vi, yo, zh\""
   ]
  },
  {
   "cell_type": "code",
   "execution_count": 6,
   "metadata": {
    "ExecuteTime": {
     "end_time": "2020-04-17T11:59:41.991342Z",
     "start_time": "2020-04-17T11:59:41.987352Z"
    }
   },
   "outputs": [],
   "source": [
    "pos=\"af, ar, bg, de, el, en, es, et, eu, fa, fi, fr, he, hi, hu, id, it, ja, kk, ko, mr, nl, pt, ru, ta, te, th, tl, tr, ur, vi, yo, zh\""
   ]
  },
  {
   "cell_type": "code",
   "execution_count": 7,
   "metadata": {
    "ExecuteTime": {
     "end_time": "2020-04-17T11:59:42.370134Z",
     "start_time": "2020-04-17T11:59:42.367136Z"
    }
   },
   "outputs": [],
   "source": [
    "mlqa=\"en, ar, de, es, hi, vi, zh\""
   ]
  },
  {
   "cell_type": "code",
   "execution_count": 8,
   "metadata": {
    "ExecuteTime": {
     "end_time": "2020-04-17T11:59:42.519891Z",
     "start_time": "2020-04-17T11:59:42.517916Z"
    }
   },
   "outputs": [],
   "source": [
    "tydiqa=\"en, ar, bn, fi, id, ko, ru, sw, te\""
   ]
  },
  {
   "cell_type": "code",
   "execution_count": 9,
   "metadata": {
    "ExecuteTime": {
     "end_time": "2020-04-17T11:59:42.645176Z",
     "start_time": "2020-04-17T11:59:42.642183Z"
    }
   },
   "outputs": [],
   "source": [
    "xquad=\"en, ar, de, el, es, hi, ru, th, tr, vi, zh\""
   ]
  },
  {
   "cell_type": "code",
   "execution_count": 10,
   "metadata": {
    "ExecuteTime": {
     "end_time": "2020-04-17T11:59:42.874048Z",
     "start_time": "2020-04-17T11:59:42.871067Z"
    }
   },
   "outputs": [],
   "source": [
    "tasks = [\"xnli\",\"tatoeba\",\"pawsx\",\"bucc\",\"ner\",\"pos\",\"mlqa\",\"tydiqa\",\"xquad\"]"
   ]
  },
  {
   "cell_type": "code",
   "execution_count": 11,
   "metadata": {
    "ExecuteTime": {
     "end_time": "2020-04-17T11:59:43.281945Z",
     "start_time": "2020-04-17T11:59:43.278920Z"
    }
   },
   "outputs": [],
   "source": [
    "langs = [xnli,tatoeba,pawsx,bucc,ner,pos,mlqa,tydiqa,xquad]"
   ]
  },
  {
   "cell_type": "code",
   "execution_count": 12,
   "metadata": {
    "ExecuteTime": {
     "end_time": "2020-04-17T11:59:43.901322Z",
     "start_time": "2020-04-17T11:59:43.897327Z"
    }
   },
   "outputs": [],
   "source": [
    "langs = [l.split(\", \") for l in langs]"
   ]
  },
  {
   "cell_type": "code",
   "execution_count": 13,
   "metadata": {
    "ExecuteTime": {
     "end_time": "2020-04-17T12:00:01.286194Z",
     "start_time": "2020-04-17T12:00:01.282204Z"
    }
   },
   "outputs": [],
   "source": [
    "unique_langs = sorted(list(set().union(*langs)))"
   ]
  },
  {
   "cell_type": "code",
   "execution_count": 14,
   "metadata": {
    "ExecuteTime": {
     "end_time": "2020-04-17T12:00:22.989242Z",
     "start_time": "2020-04-17T12:00:14.932268Z"
    }
   },
   "outputs": [],
   "source": [
    "import pandas as pd"
   ]
  },
  {
   "cell_type": "code",
   "execution_count": 15,
   "metadata": {
    "ExecuteTime": {
     "end_time": "2020-04-17T12:12:16.825778Z",
     "start_time": "2020-04-17T12:12:16.817800Z"
    }
   },
   "outputs": [],
   "source": [
    "df = pd.DataFrame(index=tasks,columns=unique_langs)"
   ]
  },
  {
   "cell_type": "code",
   "execution_count": 16,
   "metadata": {
    "ExecuteTime": {
     "end_time": "2020-04-17T12:12:17.339341Z",
     "start_time": "2020-04-17T12:12:17.333360Z"
    }
   },
   "outputs": [],
   "source": [
    "for i,task in enumerate(langs):\n",
    "    for j,l in enumerate(task):\n",
    "        df.iat[i,unique_langs.index(l)] = 1"
   ]
  },
  {
   "cell_type": "code",
   "execution_count": 17,
   "metadata": {
    "ExecuteTime": {
     "end_time": "2020-04-17T12:12:19.052059Z",
     "start_time": "2020-04-17T12:12:19.049068Z"
    }
   },
   "outputs": [],
   "source": [
    "pd.options.display.max_columns = 999"
   ]
  },
  {
   "cell_type": "code",
   "execution_count": 18,
   "metadata": {
    "ExecuteTime": {
     "end_time": "2020-04-17T12:12:19.494424Z",
     "start_time": "2020-04-17T12:12:19.489469Z"
    }
   },
   "outputs": [],
   "source": [
    "df.loc[\"sum\",:] = df.sum()"
   ]
  },
  {
   "cell_type": "code",
   "execution_count": 19,
   "metadata": {
    "ExecuteTime": {
     "end_time": "2020-04-17T12:12:19.803742Z",
     "start_time": "2020-04-17T12:12:19.799752Z"
    }
   },
   "outputs": [],
   "source": [
    "df['sum'] = df.sum(axis=1)"
   ]
  },
  {
   "cell_type": "code",
   "execution_count": 20,
   "metadata": {
    "ExecuteTime": {
     "end_time": "2020-04-17T12:12:20.318588Z",
     "start_time": "2020-04-17T12:12:20.286671Z"
    }
   },
   "outputs": [
    {
     "output_type": "execute_result",
     "data": {
      "text/plain": "        af ar bg bn de el en es et eu fa fi fr he hi hu id it ja jv ka kk ko  \\\nxnli        1  1     1  1  1  1              1     1                           \ntatoeba  1  1  1  1  1  1     1  1  1  1  1  1  1  1  1  1  1  1  1  1  1  1   \npawsx                1     1  1              1                 1           1   \nbucc                 1                       1                                 \nner      1  1  1  1  1  1  1  1  1  1  1  1  1  1  1  1  1  1  1  1  1  1  1   \npos      1  1  1     1  1  1  1  1  1  1  1  1  1  1  1  1  1  1        1  1   \nmlqa        1        1     1  1                    1                           \ntydiqa      1     1        1              1              1                 1   \nxquad       1        1  1  1  1                    1                           \nsum      3  7  4  3  8  5  7  7  3  3  3  4  6  3  6  3  4  3  4  2  2  3  5   \n\n        ml mr ms my nl pt ru sw ta te th tl tr ur vi yo zh    sum  \nxnli                       1  1        1     1  1  1     1   15.0  \ntatoeba  1  1        1  1  1  1  1  1  1  1     1  1     1   35.0  \npawsx                                                    1    7.0  \nbucc                       1                             1    4.0  \nner      1  1  1  1  1  1  1  1  1  1  1  1  1  1  1  1  1   40.0  \npos         1        1  1  1     1  1  1  1  1  1  1  1  1   33.0  \nmlqa                                               1     1    7.0  \ntydiqa                     1  1     1                         9.0  \nxquad                      1           1     1     1     1   11.0  \nsum      2  3  1  1  3  3  7  4  3  4  5  3  4  4  6  2  8  161.0  ",
      "text/html": "<div>\n<style scoped>\n    .dataframe tbody tr th:only-of-type {\n        vertical-align: middle;\n    }\n\n    .dataframe tbody tr th {\n        vertical-align: top;\n    }\n\n    .dataframe thead th {\n        text-align: right;\n    }\n</style>\n<table border=\"1\" class=\"dataframe\">\n  <thead>\n    <tr style=\"text-align: right;\">\n      <th></th>\n      <th>af</th>\n      <th>ar</th>\n      <th>bg</th>\n      <th>bn</th>\n      <th>de</th>\n      <th>el</th>\n      <th>en</th>\n      <th>es</th>\n      <th>et</th>\n      <th>eu</th>\n      <th>fa</th>\n      <th>fi</th>\n      <th>fr</th>\n      <th>he</th>\n      <th>hi</th>\n      <th>hu</th>\n      <th>id</th>\n      <th>it</th>\n      <th>ja</th>\n      <th>jv</th>\n      <th>ka</th>\n      <th>kk</th>\n      <th>ko</th>\n      <th>ml</th>\n      <th>mr</th>\n      <th>ms</th>\n      <th>my</th>\n      <th>nl</th>\n      <th>pt</th>\n      <th>ru</th>\n      <th>sw</th>\n      <th>ta</th>\n      <th>te</th>\n      <th>th</th>\n      <th>tl</th>\n      <th>tr</th>\n      <th>ur</th>\n      <th>vi</th>\n      <th>yo</th>\n      <th>zh</th>\n      <th>sum</th>\n    </tr>\n  </thead>\n  <tbody>\n    <tr>\n      <th>xnli</th>\n      <td></td>\n      <td>1</td>\n      <td>1</td>\n      <td></td>\n      <td>1</td>\n      <td>1</td>\n      <td>1</td>\n      <td>1</td>\n      <td></td>\n      <td></td>\n      <td></td>\n      <td></td>\n      <td>1</td>\n      <td></td>\n      <td>1</td>\n      <td></td>\n      <td></td>\n      <td></td>\n      <td></td>\n      <td></td>\n      <td></td>\n      <td></td>\n      <td></td>\n      <td></td>\n      <td></td>\n      <td></td>\n      <td></td>\n      <td></td>\n      <td></td>\n      <td>1</td>\n      <td>1</td>\n      <td></td>\n      <td></td>\n      <td>1</td>\n      <td></td>\n      <td>1</td>\n      <td>1</td>\n      <td>1</td>\n      <td></td>\n      <td>1</td>\n      <td>15.0</td>\n    </tr>\n    <tr>\n      <th>tatoeba</th>\n      <td>1</td>\n      <td>1</td>\n      <td>1</td>\n      <td>1</td>\n      <td>1</td>\n      <td>1</td>\n      <td></td>\n      <td>1</td>\n      <td>1</td>\n      <td>1</td>\n      <td>1</td>\n      <td>1</td>\n      <td>1</td>\n      <td>1</td>\n      <td>1</td>\n      <td>1</td>\n      <td>1</td>\n      <td>1</td>\n      <td>1</td>\n      <td>1</td>\n      <td>1</td>\n      <td>1</td>\n      <td>1</td>\n      <td>1</td>\n      <td>1</td>\n      <td></td>\n      <td></td>\n      <td>1</td>\n      <td>1</td>\n      <td>1</td>\n      <td>1</td>\n      <td>1</td>\n      <td>1</td>\n      <td>1</td>\n      <td>1</td>\n      <td></td>\n      <td>1</td>\n      <td>1</td>\n      <td></td>\n      <td>1</td>\n      <td>35.0</td>\n    </tr>\n    <tr>\n      <th>pawsx</th>\n      <td></td>\n      <td></td>\n      <td></td>\n      <td></td>\n      <td>1</td>\n      <td></td>\n      <td>1</td>\n      <td>1</td>\n      <td></td>\n      <td></td>\n      <td></td>\n      <td></td>\n      <td>1</td>\n      <td></td>\n      <td></td>\n      <td></td>\n      <td></td>\n      <td></td>\n      <td>1</td>\n      <td></td>\n      <td></td>\n      <td></td>\n      <td>1</td>\n      <td></td>\n      <td></td>\n      <td></td>\n      <td></td>\n      <td></td>\n      <td></td>\n      <td></td>\n      <td></td>\n      <td></td>\n      <td></td>\n      <td></td>\n      <td></td>\n      <td></td>\n      <td></td>\n      <td></td>\n      <td></td>\n      <td>1</td>\n      <td>7.0</td>\n    </tr>\n    <tr>\n      <th>bucc</th>\n      <td></td>\n      <td></td>\n      <td></td>\n      <td></td>\n      <td>1</td>\n      <td></td>\n      <td></td>\n      <td></td>\n      <td></td>\n      <td></td>\n      <td></td>\n      <td></td>\n      <td>1</td>\n      <td></td>\n      <td></td>\n      <td></td>\n      <td></td>\n      <td></td>\n      <td></td>\n      <td></td>\n      <td></td>\n      <td></td>\n      <td></td>\n      <td></td>\n      <td></td>\n      <td></td>\n      <td></td>\n      <td></td>\n      <td></td>\n      <td>1</td>\n      <td></td>\n      <td></td>\n      <td></td>\n      <td></td>\n      <td></td>\n      <td></td>\n      <td></td>\n      <td></td>\n      <td></td>\n      <td>1</td>\n      <td>4.0</td>\n    </tr>\n    <tr>\n      <th>ner</th>\n      <td>1</td>\n      <td>1</td>\n      <td>1</td>\n      <td>1</td>\n      <td>1</td>\n      <td>1</td>\n      <td>1</td>\n      <td>1</td>\n      <td>1</td>\n      <td>1</td>\n      <td>1</td>\n      <td>1</td>\n      <td>1</td>\n      <td>1</td>\n      <td>1</td>\n      <td>1</td>\n      <td>1</td>\n      <td>1</td>\n      <td>1</td>\n      <td>1</td>\n      <td>1</td>\n      <td>1</td>\n      <td>1</td>\n      <td>1</td>\n      <td>1</td>\n      <td>1</td>\n      <td>1</td>\n      <td>1</td>\n      <td>1</td>\n      <td>1</td>\n      <td>1</td>\n      <td>1</td>\n      <td>1</td>\n      <td>1</td>\n      <td>1</td>\n      <td>1</td>\n      <td>1</td>\n      <td>1</td>\n      <td>1</td>\n      <td>1</td>\n      <td>40.0</td>\n    </tr>\n    <tr>\n      <th>pos</th>\n      <td>1</td>\n      <td>1</td>\n      <td>1</td>\n      <td></td>\n      <td>1</td>\n      <td>1</td>\n      <td>1</td>\n      <td>1</td>\n      <td>1</td>\n      <td>1</td>\n      <td>1</td>\n      <td>1</td>\n      <td>1</td>\n      <td>1</td>\n      <td>1</td>\n      <td>1</td>\n      <td>1</td>\n      <td>1</td>\n      <td>1</td>\n      <td></td>\n      <td></td>\n      <td>1</td>\n      <td>1</td>\n      <td></td>\n      <td>1</td>\n      <td></td>\n      <td></td>\n      <td>1</td>\n      <td>1</td>\n      <td>1</td>\n      <td></td>\n      <td>1</td>\n      <td>1</td>\n      <td>1</td>\n      <td>1</td>\n      <td>1</td>\n      <td>1</td>\n      <td>1</td>\n      <td>1</td>\n      <td>1</td>\n      <td>33.0</td>\n    </tr>\n    <tr>\n      <th>mlqa</th>\n      <td></td>\n      <td>1</td>\n      <td></td>\n      <td></td>\n      <td>1</td>\n      <td></td>\n      <td>1</td>\n      <td>1</td>\n      <td></td>\n      <td></td>\n      <td></td>\n      <td></td>\n      <td></td>\n      <td></td>\n      <td>1</td>\n      <td></td>\n      <td></td>\n      <td></td>\n      <td></td>\n      <td></td>\n      <td></td>\n      <td></td>\n      <td></td>\n      <td></td>\n      <td></td>\n      <td></td>\n      <td></td>\n      <td></td>\n      <td></td>\n      <td></td>\n      <td></td>\n      <td></td>\n      <td></td>\n      <td></td>\n      <td></td>\n      <td></td>\n      <td></td>\n      <td>1</td>\n      <td></td>\n      <td>1</td>\n      <td>7.0</td>\n    </tr>\n    <tr>\n      <th>tydiqa</th>\n      <td></td>\n      <td>1</td>\n      <td></td>\n      <td>1</td>\n      <td></td>\n      <td></td>\n      <td>1</td>\n      <td></td>\n      <td></td>\n      <td></td>\n      <td></td>\n      <td>1</td>\n      <td></td>\n      <td></td>\n      <td></td>\n      <td></td>\n      <td>1</td>\n      <td></td>\n      <td></td>\n      <td></td>\n      <td></td>\n      <td></td>\n      <td>1</td>\n      <td></td>\n      <td></td>\n      <td></td>\n      <td></td>\n      <td></td>\n      <td></td>\n      <td>1</td>\n      <td>1</td>\n      <td></td>\n      <td>1</td>\n      <td></td>\n      <td></td>\n      <td></td>\n      <td></td>\n      <td></td>\n      <td></td>\n      <td></td>\n      <td>9.0</td>\n    </tr>\n    <tr>\n      <th>xquad</th>\n      <td></td>\n      <td>1</td>\n      <td></td>\n      <td></td>\n      <td>1</td>\n      <td>1</td>\n      <td>1</td>\n      <td>1</td>\n      <td></td>\n      <td></td>\n      <td></td>\n      <td></td>\n      <td></td>\n      <td></td>\n      <td>1</td>\n      <td></td>\n      <td></td>\n      <td></td>\n      <td></td>\n      <td></td>\n      <td></td>\n      <td></td>\n      <td></td>\n      <td></td>\n      <td></td>\n      <td></td>\n      <td></td>\n      <td></td>\n      <td></td>\n      <td>1</td>\n      <td></td>\n      <td></td>\n      <td></td>\n      <td>1</td>\n      <td></td>\n      <td>1</td>\n      <td></td>\n      <td>1</td>\n      <td></td>\n      <td>1</td>\n      <td>11.0</td>\n    </tr>\n    <tr>\n      <th>sum</th>\n      <td>3</td>\n      <td>7</td>\n      <td>4</td>\n      <td>3</td>\n      <td>8</td>\n      <td>5</td>\n      <td>7</td>\n      <td>7</td>\n      <td>3</td>\n      <td>3</td>\n      <td>3</td>\n      <td>4</td>\n      <td>6</td>\n      <td>3</td>\n      <td>6</td>\n      <td>3</td>\n      <td>4</td>\n      <td>3</td>\n      <td>4</td>\n      <td>2</td>\n      <td>2</td>\n      <td>3</td>\n      <td>5</td>\n      <td>2</td>\n      <td>3</td>\n      <td>1</td>\n      <td>1</td>\n      <td>3</td>\n      <td>3</td>\n      <td>7</td>\n      <td>4</td>\n      <td>3</td>\n      <td>4</td>\n      <td>5</td>\n      <td>3</td>\n      <td>4</td>\n      <td>4</td>\n      <td>6</td>\n      <td>2</td>\n      <td>8</td>\n      <td>161.0</td>\n    </tr>\n  </tbody>\n</table>\n</div>"
     },
     "metadata": {},
     "execution_count": 20
    }
   ],
   "source": [
    "df.fillna(\"\")"
   ]
  },
  {
   "cell_type": "code",
   "execution_count": null,
   "metadata": {},
   "outputs": [],
   "source": [
    "df.to_csv(\"langauges_xtreme.csv\",index_label=\"datasets\")"
   ]
  }
 ],
 "metadata": {
  "kernelspec": {
   "display_name": "Python 3",
   "language": "python",
   "name": "python3"
  },
  "language_info": {
   "codemirror_mode": {
    "name": "ipython",
    "version": 3
   },
   "file_extension": ".py",
   "mimetype": "text/x-python",
   "name": "python",
   "nbconvert_exporter": "python",
   "pygments_lexer": "ipython3",
   "version": "3.7.3-final"
  },
  "toc": {
   "base_numbering": 1,
   "nav_menu": {},
   "number_sections": false,
   "sideBar": true,
   "skip_h1_title": false,
   "title_cell": "Table of Contents",
   "title_sidebar": "Contents",
   "toc_cell": false,
   "toc_position": {},
   "toc_section_display": true,
   "toc_window_display": false
  }
 },
 "nbformat": 4,
 "nbformat_minor": 2
}