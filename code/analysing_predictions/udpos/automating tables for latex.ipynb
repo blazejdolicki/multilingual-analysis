{
 "cells": [
  {
   "cell_type": "code",
   "execution_count": 7,
   "metadata": {
    "ExecuteTime": {
     "end_time": "2020-05-14T12:18:56.657399Z",
     "start_time": "2020-05-14T12:18:56.640963Z"
    }
   },
   "outputs": [],
   "source": [
    "import pandas as pd\n",
    "import numpy as np\n"
   ]
  },
  {
   "cell_type": "markdown",
   "metadata": {},
   "source": [
    "Run the following cell and copy the output to Latex file inside the table about most confused **tags**."
   ]
  },
  {
   "cell_type": "code",
   "execution_count": 23,
   "metadata": {
    "ExecuteTime": {
     "end_time": "2020-05-14T12:27:28.425734Z",
     "start_time": "2020-05-14T12:27:28.409135Z"
    }
   },
   "outputs": [
    {
     "name": "stdout",
     "output_type": "stream",
     "text": [
      "1 & ADJ & 19.97 (396) & NOUN & 22.74 (103) \\\\\n",
      "2 & ADP & 14.73 (292) & PROPN & 18.32 (83) \\\\\n",
      "3 & ADV & 13.77 (273) & ADJ & 13.91 (63) \\\\\n",
      "4 & NOUN & 12.1 (240) & VERB & 11.04 (50) \\\\\n",
      "5 & VERB & 11.4 (226) & X & 7.51 (34) \\\\\n",
      "6 & PROPN & 6.2 (123) & SYM & 5.52 (25) \\\\\n",
      "7 & DET & 4.89 (97) & DET & 4.64 (21) \\\\\n",
      "8 & PRON & 4.54 (90) & ADP & 3.97 (18) \\\\\n",
      "9 & SYM & 4.24 (84) & ADV & 3.75 (17) \\\\\n",
      "10 & X & 3.13 (62) & NUM & 3.31 (15) \\\\\n"
     ]
    }
   ],
   "source": [
    "conf_zero = pd.read_csv(\"conf_count_zeroshot.csv\")\n",
    "conf_sup = pd.read_csv(\"conf_count_sup.csv\")\n",
    "\n",
    "for i in conf_zero.index[:10]:\n",
    "    print(\"{} & {} & {} ({}) & {} & {} ({}) \\\\\\\\\".format(\n",
    "        i+1,conf_zero.at[i,\"tag\"],np.round(conf_zero.at[i,\"percent\"]*100,2),int(conf_zero.at[i,\"count\"]),conf_sup.at[i,\"tag\"],np.round(conf_sup.at[i,\"percent\"]*100,2),int(conf_sup.at[i,\"count\"])\n",
    "    ))"
   ]
  },
  {
   "cell_type": "markdown",
   "metadata": {
    "ExecuteTime": {
     "end_time": "2020-05-14T12:34:03.409375Z",
     "start_time": "2020-05-14T12:34:03.404410Z"
    }
   },
   "source": [
    "Run the following cell and copy the output to Latex file inside the table about most confused **pairs**."
   ]
  },
  {
   "cell_type": "code",
   "execution_count": 42,
   "metadata": {
    "ExecuteTime": {
     "end_time": "2020-05-14T13:11:22.786752Z",
     "start_time": "2020-05-14T13:11:22.766163Z"
    }
   },
   "outputs": [],
   "source": [
    "conf_pairs_zero = pd.read_csv(\"conf_pairs_zeroshot.csv\")\n",
    "conf_pairs_sup = pd.read_csv(\"conf_pairs_sup.csv\")"
   ]
  },
  {
   "cell_type": "code",
   "execution_count": 43,
   "metadata": {
    "ExecuteTime": {
     "end_time": "2020-05-14T13:11:22.973585Z",
     "start_time": "2020-05-14T13:11:22.962554Z"
    }
   },
   "outputs": [
    {
     "data": {
      "text/html": [
       "<div>\n",
       "<style scoped>\n",
       "    .dataframe tbody tr th:only-of-type {\n",
       "        vertical-align: middle;\n",
       "    }\n",
       "\n",
       "    .dataframe tbody tr th {\n",
       "        vertical-align: top;\n",
       "    }\n",
       "\n",
       "    .dataframe thead th {\n",
       "        text-align: right;\n",
       "    }\n",
       "</style>\n",
       "<table border=\"1\" class=\"dataframe\">\n",
       "  <thead>\n",
       "    <tr style=\"text-align: right;\">\n",
       "      <th></th>\n",
       "      <th>pred</th>\n",
       "      <th>actual</th>\n",
       "      <th>count</th>\n",
       "      <th>percent</th>\n",
       "    </tr>\n",
       "  </thead>\n",
       "  <tbody>\n",
       "    <tr>\n",
       "      <th>0</th>\n",
       "      <td>ADV</td>\n",
       "      <td>ADJ</td>\n",
       "      <td>270.0</td>\n",
       "      <td>0.136157</td>\n",
       "    </tr>\n",
       "    <tr>\n",
       "      <th>1</th>\n",
       "      <td>PROPN</td>\n",
       "      <td>NOUN</td>\n",
       "      <td>191.0</td>\n",
       "      <td>0.096319</td>\n",
       "    </tr>\n",
       "    <tr>\n",
       "      <th>2</th>\n",
       "      <td>PART</td>\n",
       "      <td>ADP</td>\n",
       "      <td>143.0</td>\n",
       "      <td>0.072113</td>\n",
       "    </tr>\n",
       "    <tr>\n",
       "      <th>3</th>\n",
       "      <td>PRON</td>\n",
       "      <td>ADV</td>\n",
       "      <td>100.0</td>\n",
       "      <td>0.050429</td>\n",
       "    </tr>\n",
       "    <tr>\n",
       "      <th>4</th>\n",
       "      <td>ADJ</td>\n",
       "      <td>VERB</td>\n",
       "      <td>96.0</td>\n",
       "      <td>0.048411</td>\n",
       "    </tr>\n",
       "  </tbody>\n",
       "</table>\n",
       "</div>"
      ],
      "text/plain": [
       "    pred actual  count   percent\n",
       "0    ADV    ADJ  270.0  0.136157\n",
       "1  PROPN   NOUN  191.0  0.096319\n",
       "2   PART    ADP  143.0  0.072113\n",
       "3   PRON    ADV  100.0  0.050429\n",
       "4    ADJ   VERB   96.0  0.048411"
      ]
     },
     "execution_count": 43,
     "metadata": {},
     "output_type": "execute_result"
    }
   ],
   "source": [
    "conf_pairs_zero[:5]"
   ]
  },
  {
   "cell_type": "code",
   "execution_count": 45,
   "metadata": {
    "ExecuteTime": {
     "end_time": "2020-05-14T13:11:39.229763Z",
     "start_time": "2020-05-14T13:11:39.220756Z"
    }
   },
   "outputs": [
    {
     "name": "stdout",
     "output_type": "stream",
     "text": [
      "1 & ADV & ADJ & 13.62 (270) & PROPN & NOUN & 17.22(78) \\\\\n",
      "2 & PROPN & NOUN & 9.63 (191) & NOUN & PROPN & 11.04(50) \\\\\n",
      "3 & PART & ADP & 7.21 (143) & PROPN & X & 6.62(30) \\\\\n",
      "4 & PRON & ADV & 5.04 (100) & PROPN & ADJ & 5.74(26) \\\\\n",
      "5 & ADJ & VERB & 4.84 (96) & ADJ & VERB & 5.3(24) \\\\\n",
      "6 & PART & ADV & 4.08 (81) & AUX & VERB & 3.97(18) \\\\\n",
      "7 & AUX & VERB & 4.03 (80) & PUNCT & SYM & 3.75(17) \\\\\n",
      "8 & ADV & ADP & 3.78 (75) & ADV & ADJ & 3.09(14) \\\\\n",
      "9 & PROPN & ADJ & 3.33 (66) & SYM & NUM & 3.09(14) \\\\\n",
      "10 & SCONJ & ADP & 3.08 (61) & ADJ & PROPN & 2.87(13) \\\\\n"
     ]
    }
   ],
   "source": [
    "for i in conf_pairs_zero.index[:10]:\n",
    "    print(\"{} & {} & {} & {} ({}) & {} & {} & {}({}) \\\\\\\\\".format(\n",
    "        i+1,conf_pairs_zero.at[i,\"pred\"], conf_pairs_zero.at[i,\"actual\"],np.round(conf_pairs_zero.at[i,\"percent\"]*100,2),int(conf_pairs_zero.at[i,\"count\"]),conf_pairs_sup.at[i,\"pred\"],conf_pairs_sup.at[i,\"actual\"],np.round(conf_pairs_sup.at[i,\"percent\"]*100,2),int(conf_pairs_sup.at[i,\"count\"])\n",
    "    ))"
   ]
  },
  {
   "cell_type": "code",
   "execution_count": null,
   "metadata": {},
   "outputs": [],
   "source": []
  }
 ],
 "metadata": {
  "kernelspec": {
   "display_name": "Python 3",
   "language": "python",
   "name": "python3"
  },
  "language_info": {
   "codemirror_mode": {
    "name": "ipython",
    "version": 3
   },
   "file_extension": ".py",
   "mimetype": "text/x-python",
   "name": "python",
   "nbconvert_exporter": "python",
   "pygments_lexer": "ipython3",
   "version": "3.7.3"
  }
 },
 "nbformat": 4,
 "nbformat_minor": 2
}
