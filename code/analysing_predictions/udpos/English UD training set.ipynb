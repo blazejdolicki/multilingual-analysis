{
 "cells": [
  {
   "cell_type": "code",
   "execution_count": 1,
   "metadata": {
    "ExecuteTime": {
     "end_time": "2020-05-25T16:07:50.256698Z",
     "start_time": "2020-05-25T16:07:49.840241Z"
    }
   },
   "outputs": [],
   "source": [
    "import pandas as pd\n",
    "import utils \n",
    "\n",
    "pd.set_option('display.max_rows', None)\n",
    "pd.set_option('display.max_colwidth', None)"
   ]
  },
  {
   "cell_type": "code",
   "execution_count": 2,
   "metadata": {
    "ExecuteTime": {
     "end_time": "2020-05-25T16:07:50.265141Z",
     "start_time": "2020-05-25T16:07:50.256698Z"
    }
   },
   "outputs": [],
   "source": [
    "pa = utils.PredictionsAnalyzer()"
   ]
  },
  {
   "cell_type": "code",
   "execution_count": 3,
   "metadata": {
    "ExecuteTime": {
     "end_time": "2020-05-25T16:07:50.326089Z",
     "start_time": "2020-05-25T16:07:50.279010Z"
    }
   },
   "outputs": [],
   "source": [
    "ud_pos = pa.read_tag_data(\"dev-nl.tsv\")"
   ]
  },
  {
   "cell_type": "code",
   "execution_count": 4,
   "metadata": {
    "ExecuteTime": {
     "end_time": "2020-05-25T16:07:50.845683Z",
     "start_time": "2020-05-25T16:07:50.815652Z"
    }
   },
   "outputs": [
    {
     "data": {
      "text/html": [
       "<div>\n",
       "<style scoped>\n",
       "    .dataframe tbody tr th:only-of-type {\n",
       "        vertical-align: middle;\n",
       "    }\n",
       "\n",
       "    .dataframe tbody tr th {\n",
       "        vertical-align: top;\n",
       "    }\n",
       "\n",
       "    .dataframe thead th {\n",
       "        text-align: right;\n",
       "    }\n",
       "</style>\n",
       "<table border=\"1\" class=\"dataframe\">\n",
       "  <thead>\n",
       "    <tr style=\"text-align: right;\">\n",
       "      <th></th>\n",
       "      <th>sentences</th>\n",
       "      <th>ground_truth</th>\n",
       "    </tr>\n",
       "  </thead>\n",
       "  <tbody>\n",
       "    <tr>\n",
       "      <th>1</th>\n",
       "      <td>De afgelopen week twijfelde ze nog of ze wel moest meedoen aan het NK .</td>\n",
       "      <td>DET VERB NOUN VERB PRON ADV SCONJ PRON ADV AUX VERB ADP DET PROPN PUNCT</td>\n",
       "    </tr>\n",
       "    <tr>\n",
       "      <th>2</th>\n",
       "      <td>Moeder Mien spoorde haar aan toch op te stappen .</td>\n",
       "      <td>NOUN PROPN VERB PRON ADP ADV ADP ADP VERB PUNCT</td>\n",
       "    </tr>\n",
       "    <tr>\n",
       "      <th>3</th>\n",
       "      <td>Tot halverwege de koers had Van Alebeek moeite om zich volledig te concentreren op de wedstrijd .</td>\n",
       "      <td>ADP ADP DET NOUN VERB PROPN PROPN NOUN ADP PRON ADJ ADP VERB ADP DET NOUN PUNCT</td>\n",
       "    </tr>\n",
       "    <tr>\n",
       "      <th>7</th>\n",
       "      <td>Behalve Van Alebeek en haar ploeggenote Bertine Spijkerman was ook Saskia Kaagman uit de opleidingsploeg van Farm Frites meegesprongen .</td>\n",
       "      <td>SCONJ PROPN PROPN CCONJ PRON NOUN PROPN PROPN AUX ADV PROPN PROPN ADP DET NOUN ADP PROPN PROPN VERB PUNCT</td>\n",
       "    </tr>\n",
       "    <tr>\n",
       "      <th>8</th>\n",
       "      <td>Met venijnige demarrages matte de talentvolle Kaagman de concurrentie af .</td>\n",
       "      <td>ADP ADJ NOUN VERB DET ADJ PROPN DET NOUN ADP PUNCT</td>\n",
       "    </tr>\n",
       "  </tbody>\n",
       "</table>\n",
       "</div>"
      ],
      "text/plain": [
       "                                                                                                                                  sentences  \\\n",
       "1                                                                   De afgelopen week twijfelde ze nog of ze wel moest meedoen aan het NK .   \n",
       "2                                                                                         Moeder Mien spoorde haar aan toch op te stappen .   \n",
       "3                                         Tot halverwege de koers had Van Alebeek moeite om zich volledig te concentreren op de wedstrijd .   \n",
       "7  Behalve Van Alebeek en haar ploeggenote Bertine Spijkerman was ook Saskia Kaagman uit de opleidingsploeg van Farm Frites meegesprongen .   \n",
       "8                                                                Met venijnige demarrages matte de talentvolle Kaagman de concurrentie af .   \n",
       "\n",
       "                                                                                                ground_truth  \n",
       "1                                    DET VERB NOUN VERB PRON ADV SCONJ PRON ADV AUX VERB ADP DET PROPN PUNCT  \n",
       "2                                                            NOUN PROPN VERB PRON ADP ADV ADP ADP VERB PUNCT  \n",
       "3                            ADP ADP DET NOUN VERB PROPN PROPN NOUN ADP PRON ADJ ADP VERB ADP DET NOUN PUNCT  \n",
       "7  SCONJ PROPN PROPN CCONJ PRON NOUN PROPN PROPN AUX ADV PROPN PROPN ADP DET NOUN ADP PROPN PROPN VERB PUNCT  \n",
       "8                                                         ADP ADJ NOUN VERB DET ADJ PROPN DET NOUN ADP PUNCT  "
      ]
     },
     "execution_count": 4,
     "metadata": {},
     "output_type": "execute_result"
    }
   ],
   "source": [
    "ud_pos[ud_pos.ground_truth.str.contains(\"PROPN\")].head()"
   ]
  },
  {
   "cell_type": "code",
   "execution_count": 5,
   "metadata": {
    "ExecuteTime": {
     "end_time": "2020-05-25T16:07:51.014813Z",
     "start_time": "2020-05-25T16:07:50.976809Z"
    }
   },
   "outputs": [
    {
     "name": "stdout",
     "output_type": "stream",
     "text": [
      "Warning: Predictions are not loaded, if your condition contains a prediction, your output will be incorrect\n"
     ]
    }
   ],
   "source": [
    "def is_actual_proper_noun(actual,pred=None):\n",
    "    return actual==\"PROPN\"\n",
    "\n",
    "# get a table with rows for each token that is a proper noun\n",
    "actual_proper_nouns, _ = pa.transform_data(is_actual_proper_noun)"
   ]
  },
  {
   "cell_type": "code",
   "execution_count": 6,
   "metadata": {
    "ExecuteTime": {
     "end_time": "2020-05-25T16:07:51.139151Z",
     "start_time": "2020-05-25T16:07:51.128182Z"
    }
   },
   "outputs": [
    {
     "data": {
      "text/html": [
       "<div>\n",
       "<style scoped>\n",
       "    .dataframe tbody tr th:only-of-type {\n",
       "        vertical-align: middle;\n",
       "    }\n",
       "\n",
       "    .dataframe tbody tr th {\n",
       "        vertical-align: top;\n",
       "    }\n",
       "\n",
       "    .dataframe thead th {\n",
       "        text-align: right;\n",
       "    }\n",
       "</style>\n",
       "<table border=\"1\" class=\"dataframe\">\n",
       "  <thead>\n",
       "    <tr style=\"text-align: right;\">\n",
       "      <th></th>\n",
       "      <th>actual</th>\n",
       "      <th>token</th>\n",
       "      <th>sentence</th>\n",
       "      <th>actual_tokens</th>\n",
       "    </tr>\n",
       "  </thead>\n",
       "  <tbody>\n",
       "    <tr>\n",
       "      <th>0</th>\n",
       "      <td>PROPN</td>\n",
       "      <td>NK</td>\n",
       "      <td>De afgelopen week twijfelde ze nog of ze wel moest meedoen aan het NK .</td>\n",
       "      <td>DET VERB NOUN VERB PRON ADV SCONJ PRON ADV AUX VERB ADP DET PROPN PUNCT</td>\n",
       "    </tr>\n",
       "    <tr>\n",
       "      <th>1</th>\n",
       "      <td>PROPN</td>\n",
       "      <td>Mien</td>\n",
       "      <td>Moeder Mien spoorde haar aan toch op te stappen .</td>\n",
       "      <td>NOUN PROPN VERB PRON ADP ADV ADP ADP VERB PUNCT</td>\n",
       "    </tr>\n",
       "    <tr>\n",
       "      <th>2</th>\n",
       "      <td>PROPN</td>\n",
       "      <td>Van</td>\n",
       "      <td>Tot halverwege de koers had Van Alebeek moeite om zich volledig te concentreren op de wedstrijd .</td>\n",
       "      <td>ADP ADP DET NOUN VERB PROPN PROPN NOUN ADP PRON ADJ ADP VERB ADP DET NOUN PUNCT</td>\n",
       "    </tr>\n",
       "    <tr>\n",
       "      <th>3</th>\n",
       "      <td>PROPN</td>\n",
       "      <td>Alebeek</td>\n",
       "      <td>Tot halverwege de koers had Van Alebeek moeite om zich volledig te concentreren op de wedstrijd .</td>\n",
       "      <td>ADP ADP DET NOUN VERB PROPN PROPN NOUN ADP PRON ADJ ADP VERB ADP DET NOUN PUNCT</td>\n",
       "    </tr>\n",
       "    <tr>\n",
       "      <th>4</th>\n",
       "      <td>PROPN</td>\n",
       "      <td>Van</td>\n",
       "      <td>Behalve Van Alebeek en haar ploeggenote Bertine Spijkerman was ook Saskia Kaagman uit de opleidingsploeg van Farm Frites meegesprongen .</td>\n",
       "      <td>SCONJ PROPN PROPN CCONJ PRON NOUN PROPN PROPN AUX ADV PROPN PROPN ADP DET NOUN ADP PROPN PROPN VERB PUNCT</td>\n",
       "    </tr>\n",
       "  </tbody>\n",
       "</table>\n",
       "</div>"
      ],
      "text/plain": [
       "  actual    token  \\\n",
       "0  PROPN       NK   \n",
       "1  PROPN     Mien   \n",
       "2  PROPN      Van   \n",
       "3  PROPN  Alebeek   \n",
       "4  PROPN      Van   \n",
       "\n",
       "                                                                                                                                   sentence  \\\n",
       "0                                                                   De afgelopen week twijfelde ze nog of ze wel moest meedoen aan het NK .   \n",
       "1                                                                                         Moeder Mien spoorde haar aan toch op te stappen .   \n",
       "2                                         Tot halverwege de koers had Van Alebeek moeite om zich volledig te concentreren op de wedstrijd .   \n",
       "3                                         Tot halverwege de koers had Van Alebeek moeite om zich volledig te concentreren op de wedstrijd .   \n",
       "4  Behalve Van Alebeek en haar ploeggenote Bertine Spijkerman was ook Saskia Kaagman uit de opleidingsploeg van Farm Frites meegesprongen .   \n",
       "\n",
       "                                                                                               actual_tokens  \n",
       "0                                    DET VERB NOUN VERB PRON ADV SCONJ PRON ADV AUX VERB ADP DET PROPN PUNCT  \n",
       "1                                                            NOUN PROPN VERB PRON ADP ADV ADP ADP VERB PUNCT  \n",
       "2                            ADP ADP DET NOUN VERB PROPN PROPN NOUN ADP PRON ADJ ADP VERB ADP DET NOUN PUNCT  \n",
       "3                            ADP ADP DET NOUN VERB PROPN PROPN NOUN ADP PRON ADJ ADP VERB ADP DET NOUN PUNCT  \n",
       "4  SCONJ PROPN PROPN CCONJ PRON NOUN PROPN PROPN AUX ADV PROPN PROPN ADP DET NOUN ADP PROPN PROPN VERB PUNCT  "
      ]
     },
     "execution_count": 6,
     "metadata": {},
     "output_type": "execute_result"
    }
   ],
   "source": [
    "actual_proper_nouns.head()"
   ]
  },
  {
   "cell_type": "markdown",
   "metadata": {},
   "source": [
    "How many proper nouns are capitalized?"
   ]
  },
  {
   "cell_type": "code",
   "execution_count": 7,
   "metadata": {
    "ExecuteTime": {
     "end_time": "2020-05-25T16:07:51.644142Z",
     "start_time": "2020-05-25T16:07:51.634144Z"
    }
   },
   "outputs": [
    {
     "data": {
      "text/plain": [
       "True     2129\n",
       "False     210\n",
       "Name: token, dtype: int64"
      ]
     },
     "execution_count": 7,
     "metadata": {},
     "output_type": "execute_result"
    }
   ],
   "source": [
    "actual_proper_nouns.token.str[0].str.isupper().value_counts()"
   ]
  },
  {
   "cell_type": "code",
   "execution_count": 8,
   "metadata": {
    "ExecuteTime": {
     "end_time": "2020-05-25T16:07:51.993076Z",
     "start_time": "2020-05-25T16:07:51.895077Z"
    }
   },
   "outputs": [
    {
     "name": "stdout",
     "output_type": "stream",
     "text": [
      "Warning: Predictions are not loaded, if your condition contains a prediction, your output will be incorrect\n"
     ]
    }
   ],
   "source": [
    "def all_examples(actual,pred):\n",
    "    return True\n",
    "\n",
    "# get a table with rows for each token\n",
    "all_examples, _ = pa.transform_data(all_examples)"
   ]
  },
  {
   "cell_type": "code",
   "execution_count": 9,
   "metadata": {
    "ExecuteTime": {
     "end_time": "2020-05-25T16:07:52.185750Z",
     "start_time": "2020-05-25T16:07:52.175777Z"
    }
   },
   "outputs": [
    {
     "data": {
      "text/html": [
       "<div>\n",
       "<style scoped>\n",
       "    .dataframe tbody tr th:only-of-type {\n",
       "        vertical-align: middle;\n",
       "    }\n",
       "\n",
       "    .dataframe tbody tr th {\n",
       "        vertical-align: top;\n",
       "    }\n",
       "\n",
       "    .dataframe thead th {\n",
       "        text-align: right;\n",
       "    }\n",
       "</style>\n",
       "<table border=\"1\" class=\"dataframe\">\n",
       "  <thead>\n",
       "    <tr style=\"text-align: right;\">\n",
       "      <th></th>\n",
       "      <th>actual</th>\n",
       "      <th>token</th>\n",
       "      <th>sentence</th>\n",
       "      <th>actual_tokens</th>\n",
       "    </tr>\n",
       "  </thead>\n",
       "  <tbody>\n",
       "    <tr>\n",
       "      <th>0</th>\n",
       "      <td>PUNCT</td>\n",
       "      <td>,,</td>\n",
       "      <td>,, Mijn basisniveau is flink omhoog gegaan . ''</td>\n",
       "      <td>PUNCT PRON NOUN AUX ADJ ADV VERB PUNCT PUNCT</td>\n",
       "    </tr>\n",
       "    <tr>\n",
       "      <th>1</th>\n",
       "      <td>PRON</td>\n",
       "      <td>Mijn</td>\n",
       "      <td>,, Mijn basisniveau is flink omhoog gegaan . ''</td>\n",
       "      <td>PUNCT PRON NOUN AUX ADJ ADV VERB PUNCT PUNCT</td>\n",
       "    </tr>\n",
       "    <tr>\n",
       "      <th>2</th>\n",
       "      <td>NOUN</td>\n",
       "      <td>basisniveau</td>\n",
       "      <td>,, Mijn basisniveau is flink omhoog gegaan . ''</td>\n",
       "      <td>PUNCT PRON NOUN AUX ADJ ADV VERB PUNCT PUNCT</td>\n",
       "    </tr>\n",
       "    <tr>\n",
       "      <th>3</th>\n",
       "      <td>AUX</td>\n",
       "      <td>is</td>\n",
       "      <td>,, Mijn basisniveau is flink omhoog gegaan . ''</td>\n",
       "      <td>PUNCT PRON NOUN AUX ADJ ADV VERB PUNCT PUNCT</td>\n",
       "    </tr>\n",
       "    <tr>\n",
       "      <th>4</th>\n",
       "      <td>ADJ</td>\n",
       "      <td>flink</td>\n",
       "      <td>,, Mijn basisniveau is flink omhoog gegaan . ''</td>\n",
       "      <td>PUNCT PRON NOUN AUX ADJ ADV VERB PUNCT PUNCT</td>\n",
       "    </tr>\n",
       "  </tbody>\n",
       "</table>\n",
       "</div>"
      ],
      "text/plain": [
       "  actual        token                                         sentence  \\\n",
       "0  PUNCT           ,,  ,, Mijn basisniveau is flink omhoog gegaan . ''   \n",
       "1   PRON         Mijn  ,, Mijn basisniveau is flink omhoog gegaan . ''   \n",
       "2   NOUN  basisniveau  ,, Mijn basisniveau is flink omhoog gegaan . ''   \n",
       "3    AUX           is  ,, Mijn basisniveau is flink omhoog gegaan . ''   \n",
       "4    ADJ        flink  ,, Mijn basisniveau is flink omhoog gegaan . ''   \n",
       "\n",
       "                                  actual_tokens  \n",
       "0  PUNCT PRON NOUN AUX ADJ ADV VERB PUNCT PUNCT  \n",
       "1  PUNCT PRON NOUN AUX ADJ ADV VERB PUNCT PUNCT  \n",
       "2  PUNCT PRON NOUN AUX ADJ ADV VERB PUNCT PUNCT  \n",
       "3  PUNCT PRON NOUN AUX ADJ ADV VERB PUNCT PUNCT  \n",
       "4  PUNCT PRON NOUN AUX ADJ ADV VERB PUNCT PUNCT  "
      ]
     },
     "execution_count": 9,
     "metadata": {},
     "output_type": "execute_result"
    }
   ],
   "source": [
    "all_examples.head()"
   ]
  },
  {
   "cell_type": "markdown",
   "metadata": {},
   "source": [
    "Distribution of capitalized tokens over actual tags"
   ]
  },
  {
   "cell_type": "code",
   "execution_count": 10,
   "metadata": {
    "ExecuteTime": {
     "end_time": "2020-05-25T16:07:52.917362Z",
     "start_time": "2020-05-25T16:07:52.879360Z"
    }
   },
   "outputs": [
    {
     "data": {
      "text/plain": [
       "PROPN    0.556310\n",
       "DET      0.094068\n",
       "ADJ      0.079174\n",
       "NOUN     0.078913\n",
       "PRON     0.060099\n",
       "ADP      0.058270\n",
       "ADV      0.030834\n",
       "CCONJ    0.010452\n",
       "X        0.010452\n",
       "SCONJ    0.009407\n",
       "VERB     0.005226\n",
       "NUM      0.004442\n",
       "SYM      0.001045\n",
       "INTJ     0.000784\n",
       "AUX      0.000523\n",
       "Name: actual, dtype: float64"
      ]
     },
     "execution_count": 10,
     "metadata": {},
     "output_type": "execute_result"
    }
   ],
   "source": [
    "is_token_capitalized = all_examples.token.str[0].str.isupper()\n",
    "all_examples[is_token_capitalized].actual.value_counts()/all_examples[is_token_capitalized].shape[0]"
   ]
  },
  {
   "cell_type": "code",
   "execution_count": 11,
   "metadata": {
    "ExecuteTime": {
     "end_time": "2020-05-25T16:07:54.333086Z",
     "start_time": "2020-05-25T16:07:54.329078Z"
    }
   },
   "outputs": [],
   "source": [
    "import numpy as np, sys\n",
    "np.set_printoptions(threshold=sys.maxsize)"
   ]
  },
  {
   "cell_type": "code",
   "execution_count": 12,
   "metadata": {
    "ExecuteTime": {
     "end_time": "2020-05-25T16:07:56.014798Z",
     "start_time": "2020-05-25T16:07:55.976841Z"
    }
   },
   "outputs": [
    {
     "data": {
      "text/plain": [
       "array(['NK', 'Mien', 'Van', 'Alebeek', 'Van', 'Alebeek', 'Bertine',\n",
       "       'Spijkerman', 'Saskia', 'Kaagman', 'Farm', 'Frites', 'Kaagman',\n",
       "       'Van', 'Alebeek', 'Zijlaard', 'Spijkerman', 'Van', 'Moorsel',\n",
       "       'Yevgeny', 'Kafelnikov', 'Argentijn', 'Guillermo', 'Canas',\n",
       "       'Wimbledon', 'Amelie', 'Mauresmo', 'Tanasugarn', 'Canas', 'Rus',\n",
       "       'Londen', 'Argentijn', 'Wimbledon', 'Zuid-Amerikaan', 'Grand',\n",
       "       'Slam', 'Rosmalen', 'Hewitt', 'Canas', 'Buenos', 'Aires',\n",
       "       'januari', 'Egypte', 'Afrikanen', 'Rosario', 'Nederlanders',\n",
       "       'Oranje', 'Van', 'der', 'Vaart', 'Heitinga', 'Van', 'Gaal',\n",
       "       'Cordoba', 'Egypte', 'woensdag', 'Ghana', 'Brazilië', 'Buenos',\n",
       "       'Aires', 'Argentinië', 'Paraguay', 'Argentijnen', 'Frankrijk',\n",
       "       'Saviola', 'Zuid-Amerikanen', 'Paraguay', 'Tsjechië', 'Salcedo',\n",
       "       'Rosario', 'Oranje', 'Egypte', 'Argentinië', 'Egyptenaren',\n",
       "       'Verenigde', 'Staten', 'Louis', 'van', 'Gaal', 'Egyptenaren',\n",
       "       'Nederland', 'Van', 'der', 'Vaart', 'Argentinië', 'Van', 'der',\n",
       "       'Vaart', 'Martin', 'Van', 'der', 'Vaart', 'Oranje', 'Egypte',\n",
       "       'Amin', 'Coutinho', 'Van', 'Dieren', 'Van', 'Gaal', 'Oranje',\n",
       "       'Egyptenaren', 'El', 'Yamani', 'Standard', 'Luik', 'Egyptenaar',\n",
       "       'Oranje', 'Heitinga', 'Wout-Jan', 'van', 'der', 'Schans',\n",
       "       'Corland', 'Van', 'der', 'Schans', 'Van', 'der', 'Schans', 'Van',\n",
       "       'der', 'Schans', 'Jan', 'Tops', 'Jeroen', 'Dubbeldam', 'Van',\n",
       "       'der', 'Schans', 'Duitser', 'Beerbaum', 'Van', 'der', 'Schans',\n",
       "       'EK', 'Papendal', 'Van', 'der', 'Schans', 'EK', 'Jan', 'Tops',\n",
       "       'Roofs', 'Dubbeldam', 'Van', 'der', 'Schans', 'Beerbaum', 'Belg',\n",
       "       'Philippaerts', 'Van', 'der', 'Schans', 'Beerbaum', 'Corland',\n",
       "       'Beerbaum', 'donderdag', 'donderdag', 'EK', 'Tops', 'Dubbeldam',\n",
       "       'Angelique', 'Hoorn', 'donderdag', 'Bert', 'Romp', 'Corland',\n",
       "       'Roofs', 'De', 'Sjiem', 'Angelique', 'Hoorn', 'Wout-Jan',\n",
       "       'Wout-Jan', 'Theo', 'de', 'Rooij', 'NK', 'Nijmegen', \"Rabo's\",\n",
       "       \"Rabo's\", 'Jans', 'Koerts', 'Jan', 'Raas', 'Koerts', 'Rabo', 'Jan',\n",
       "       'Raas', 'Koerts', 'Raas', 'Rabobank', 'Tour', 'NK', 'Erik',\n",
       "       'Dekker', 'Rabobank', \"Rabo's\", 'Michael', 'Boogerd', 'De',\n",
       "       'Rooij', 'Karsten', 'Kroon', 'Rabo', 'Boogerd', 'Kroon', 'Boogerd',\n",
       "       'Boogerd', 'Rabo', 'Vierhouten', 'Löwik', 'Groenendaal', 'Boogerd',\n",
       "       'Koerts', 'Kemna', 'Van', 'Dijk', 'Boogerd', 'De', 'Rooij',\n",
       "       'Koerts', 'Theo', 'De', 'Rooij', 'Dekker', 'Van', 'Heeswijk',\n",
       "       'Van', 'Bon', 'Voskamp', 'De', 'Rooij', 'Boogerd', 'Boogerd',\n",
       "       'Kemna', 'Koerts', 'Jeroen', 'Blijlevens', 'Koerts', 'NK', 'Berg',\n",
       "       'en', 'Dal', 'Koerts', 'PDM', 'Festina', 'Rabobank', 'FarmFrites',\n",
       "       'Vuelta', 'Mercury-Viatel', 'Viatel', 'Koerts', 'John', 'Wordin',\n",
       "       'Nederland', 'Johan', 'Lammerts', 'Zuid', 'CSF', 'Copa', 'America',\n",
       "       'juli', 'Colombia', 'donderdag', 'Colombia', 'Buenos', 'Aires',\n",
       "       'zaterdag', 'Colombia', 'januari', 'Colombia', 'Hernan', 'Mejia',\n",
       "       'juni', 'Pereira', 'Mejia', 'Copa', 'America', 'mei', 'Cali',\n",
       "       'Medellin', 'Pereira', 'Bogota', 'Mexico', 'juni', 'Pastrana',\n",
       "       'Asunción', 'CSF', 'Colombia', 'Pastrana', 'Copa', 'CSF',\n",
       "       'Colombia', 'Mejia', 'Uruguay', 'Brazilië', 'Argentinië', 'CSF',\n",
       "       'Colombia', 'Brazilië', 'Leoz', 'donderdag', 'Mejia', 'Copa',\n",
       "       'Mejia', 'Copa', 'Colombia', 'Raul', 'Reyes', 'april', 'Copa',\n",
       "       'FARC', 'Mejia', 'Pastrana', 'Pastrana', 'Copa', 'Copa',\n",
       "       'Pastrana', 'Copa', 'Colombia', 'Colombia', 'Venezuela', 'Ecuador',\n",
       "       'Paraguay', 'Chili', 'Bolivia', 'Colombia', 'Buenos', 'Aires',\n",
       "       'Uruguay', 'Brazilië', 'Peru', 'Argentinië', 'CSF', 'El', 'Tiempo',\n",
       "       'Nemesio', 'Camacho', 'el', 'Camping', 'juli', 'Carmen', 'Bolivar',\n",
       "       'Copa', 'Colombia', 'januari', 'Lindsay', 'Davenport', 'Zaterdag',\n",
       "       'Wimbledon', 'Jelena', 'Dokic', 'Davenport', 'Corina', 'Morariu',\n",
       "       'maart', 'Davenport', 'Miami', 'Roland', 'Garros', 'Morariu',\n",
       "       'Davenport', 'Amerika', 'Grand', 'Slam', 'Jennifer', 'Capriati',\n",
       "       'Parijs', 'Slam', 'Davenport', 'Grand', 'Davenport', 'Eastbourne',\n",
       "       'Williams', 'Hingis', 'Capriati', 'Davenports', 'Patty',\n",
       "       'Schnyder', 'Corina', 'Morariu', 'Dublin', 'WOW', 'Dublin',\n",
       "       'Verenigde', 'Staten', 'Soline', 'Vitanel', 'Myra', 'Poole',\n",
       "       'Notre', 'Dame', 'M.C.', 'Maguire', 'Tipperary', 'Maguire', 'WOW',\n",
       "       'Oostenrijk', 'WOW', 'Ad', 'tuendam', 'fidem', 'Nederland',\n",
       "       'Brugge', 'mgr.', 'Robert', 'Vangheluwe', 'Rome', 'WOW', 'Joan',\n",
       "       'Chittister', 'Chittister', 'Chittister', 'Chittister', 'WOW',\n",
       "       'Chittister', 'Poole', 'J.', 'Wijngaards', 'India', 'Wijngaards',\n",
       "       'Indiancurrent', 'India', 'Wijngaards', 'zaterdag', 'Dublin',\n",
       "       'Wijngaards', 'Christus', 'Wijngaards', 'Jezus', 'Jovink', 'en',\n",
       "       'de', 'Voederbietels', 'Borculo', 'zaterdag', 'zondag',\n",
       "       'Rotterdammer', 'Rotterdam-Zuid', 'Amsterdam', 'Aids', 'zaterdag',\n",
       "       'Veldzicht', 'Balkbrug', 'dr.', 'Henri', 'Van', 'der',\n",
       "       'Hoeven-kliniek', 'Utrecht', 'F', 'Buschman', 'Veldzicht',\n",
       "       'Buschman', 'Amstelveen', 'Duiven', 'zaterdag', 'Markelo',\n",
       "       'NIJMEGEN', 'KARLSRUHE', 'Duitsland', 'Otters', 'Weihe',\n",
       "       'Katholieke', 'Universiteit', 'Nijmegen', 'KUN', 'Karlsruhe',\n",
       "       'Den', 'Ham', 'Twente', 'zaterdag', 'EHBO', 'zaterdag', 'zondag',\n",
       "       '5MCompany', 'Almelo', 'Rotterdam-Zuid', 'zaterdag', 'zondag',\n",
       "       'Jeanne', 'Roos', 'vrijdag', 'zaterdag', 'Jeanne', 'Roos',\n",
       "       'Inktvis', 'Parool', 'Annie', 'M.G.', 'Schmidt', 'Jeanne', 'Roos',\n",
       "       'Roos', 'NTS', 'Utrecht', 'zaterdag', 'Barend', 'Schreuders',\n",
       "       'Utrecht', 'Nederland', 'CPN', 'Schreuders', 'CPN', 'Utrecht',\n",
       "       'Schreuders', 'Mr.', 'J.W.', 'Weck', 'september', 'Weck',\n",
       "       'januari', 'februari', 'Weck', 'dr.', 'B.', 'Plesch', 'Chet',\n",
       "       'Atkins', 'zaterdag', 'Nashville', 'Atkins', 'Nashville', 'Sound',\n",
       "       'Atkins', \"Grammy's\", 'Country', 'Music', 'Hall', 'of', 'Fame',\n",
       "       'Nashville', 'Atkins', 'Mr.', 'Guitar', 'Chester', 'Burton',\n",
       "       'Atkins', 'juni', 'Luttrell', 'Tennessee', 'Merle', 'Travis',\n",
       "       'Chet', 'Atkins', 'Gallopin', 'Guitar', 'Teensville', 'Atkins',\n",
       "       'The', 'Everly', 'Brothers', 'Elvis', 'Presley', 'Roy', 'Orbison',\n",
       "       'Gullane', 'Guinness', 'World', 'Records', 'GWR', 'Diageo',\n",
       "       'Guinness', 'World', 'Records', 'GWR', 'Guinness', 'Book', 'of',\n",
       "       'World', 'Records', 'Diageo', 'Johnnie', 'Walker', 'Smirnoff',\n",
       "       'Guinness', 'Book', 'zaterdag', 'zondag', 'Interpay', 'Interpay',\n",
       "       'zaterdag', 'Zondag', 'Interpay', 'zaterdag', 'zondag', 'Jack',\n",
       "       'Welch', 'General', 'Electric', 'GE', 'Honeywell', 'Europese',\n",
       "       'Commissie', 'Europa', 'Honeywell', 'GE', 'Honeywell', 'Europese',\n",
       "       'Commissie', 'Welch', 'Drenthe', 'Limburg', 'J.', 'van', \"'t\",\n",
       "       'Hof', 'Sint-Annaland', 'Brinkhorst', 'Van', \"'t\", 'Hof', 'Van',\n",
       "       \"'t\", 'Hof', 'A1', 'A50', 'Apeldoorn', 'A28', 'IJsselburg',\n",
       "       'Zwolle', 'A12', 'De', 'Meern', 'Woerden', 'Nederland', 'A58',\n",
       "       'Wouw', 'Bergen', 'op', 'Zoom', 'Den', 'Haag', 'Brinkhorst',\n",
       "       'Salzburg', 'Salzburg', 'dinsdag', 'Oostenrijk', 'Oost-Europa',\n",
       "       'Simeon', 'II', 'El', 'Pais', 'Simeon', 'Vladimiro', 'Montesinos',\n",
       "       'Callao', 'Montesinos', 'zaterdag', 'Venezuela', 'Peru',\n",
       "       'Macedonië', 'Tetovo', 'Macedonië', 'Skopje', 'Radusa', 'FARC',\n",
       "       'zaterdag', 'FARC', 'ELN', 'Democratische', 'Republiek', 'Congo',\n",
       "       'Yuku', 'juni', 'Oeganda', 'Congo', 'Dwaze', 'Moeders', 'Plaza',\n",
       "       'de', 'Mayo', 'Dick', 'Cheney', 'zaterdag', 'Verenigde', 'Staten',\n",
       "       'Cheney', 'David', 'Trimble', 'Iers', 'Republikeins', 'Leger',\n",
       "       'Ira', 'juli', 'Trimble', 'Goede', 'Vrijdag', 'Ira', 'Sinn',\n",
       "       'Fein', 'Trimble', 'Goede', 'Trimble', 'Trimble', 'IRA', 'Ulster',\n",
       "       'Unionisten', 'Ira', 'Sinn', 'Fein', 'Ira', 'Ulster', 'Unionisten',\n",
       "       'Trimbles', 'Belfast', 'zaterdag', 'JERUZALEM', 'KFAR', 'SJOEBA',\n",
       "       'Bekaavallei', 'vrijdag', 'Syrië', 'Hezbollah', 'Israël',\n",
       "       'Hezbollah', 'Hezbollah', 'Sjaba', 'Israël', 'Kfar', 'Sjoeba',\n",
       "       'Syrië', 'Nasrallah', 'Israël', 'Damascus', 'Beiroet', 'april',\n",
       "       'Assad', 'Ben-Eliezer', 'God', 'Midden-Oosten', 'Syrië', 'CAPO',\n",
       "       \"D'ORLANDO\", 'Leontien', 'Zijlaard-Van', 'Moorsel', 'Ronde', 'van',\n",
       "       'Italië', 'Holden', 'Loek', 'van', 'Wely', 'Erik', 'van', 'den',\n",
       "       'Doel', 'Van', 'Wely', 'Van', 'den', 'Doel', 'Carolijn', 'Brouwer',\n",
       "       'WK', 'Europe', 'Vilamoura', 'Min', 'de', 'Zille', 'België',\n",
       "       'Tenerife', 'Italianen', 'Turkije', 'Noorwegen', 'IJsland',\n",
       "       'Polen', 'Nederland', 'WK', 'Pieter', 'van', 'den', 'Hoogenband',\n",
       "       'WK', 'Fukuoka', 'Mark', 'Foster', 'Bill', 'Sweetenham', 'ICC',\n",
       "       'Trophy', 'WK', 'B-landen', 'Verenigde', 'Arabische', 'Emiraten',\n",
       "       'Nederland', 'MAGNY-COURS', 'Michael', 'Schumacher', 'Formule',\n",
       "       '1', 'Duitser', 'Frankrijk', 'Ralf', 'Rubens', 'Barrichello',\n",
       "       'Jos', 'Verstappen', 'Patrick', 'van', 'Balkom', 'Troy', 'Douglas',\n",
       "       'Stadskanaal', 'Douglas', 'Hagenaar', 'Nelli', 'Cooman', 'Games',\n",
       "       'Douglas', 'Van', 'Balkom', 'Chiel', 'Warners', 'Ried', 'Europa',\n",
       "       'Cup', 'Warners', 'Wassenaar', 'Valkenburg', 'Oostenrijk',\n",
       "       'Warners', 'WK', 'Edmonton', 'Jean', 'Paul', 'de', 'Bruijn',\n",
       "       'Duisburg', 'Duitser', 'Fabian', 'Blondeel', 'De', 'Bruijn',\n",
       "       'AZ&PC', 'Amersfoort', 'DWK', 'Barneveld', 'Nederland',\n",
       "       'Donderdag', 'PSV', 'Amsterdam', 'augustus', 'Sportfondsenbad',\n",
       "       'AZ&PC', 'DWK', 'Nederland', 'PSV', 'Zuid-Nederland', 'Pieter',\n",
       "       'van', 'den', 'Hoogenband', 'Inge', 'de', 'Bruijn', 'Amsterdam',\n",
       "       'Cees', 'Vervoorn', 'Hans', 'Elzerman', 'De', 'Dolfijn', 'Michiel',\n",
       "       'Bloem', 'Amsterdam', 'STA', 'AZ&PC-DWK', 'Johan', 'Hoeksema',\n",
       "       'Ad', 'Roskam', 'KNZB', 'april', 'DWK', 'Olympische', 'Spelen',\n",
       "       'Sydney', 'PSV', 'Ad', 'van', 'de', 'Ven', 'Mark', 'Faber',\n",
       "       'september', 'Barneveld', 'NK', 'Eindhoven', 'Stefaan', 'Obreno',\n",
       "       'Roskam', 'Jacco', 'Verhaeren', 'Olympische', 'Spelen', 'PSV',\n",
       "       'Amsterdam', 'Amersfoort/Barneveld', 'MNC', 'Dordrecht', 'Erik',\n",
       "       'van', 'Heijningen', 'Rotterdam', 'Cuba', 'Eenhoorn', 'Italië',\n",
       "       'Nederland', 'Italië', 'Nederland', 'zondag', 'Oranje', 'Eelco',\n",
       "       'Jansen', 'Patrick', 'Beljaards', 'WK', 'november', 'Taiwan',\n",
       "       'Jansen', 'Jansen', 'EK', 'Bonn', 'Oranje', 'Italianen',\n",
       "       'Nederland', 'Ralph', 'Milliard', 'Dirk', 'van', \"'t\", 'Klooster',\n",
       "       'Balentina', 'Italianen', 'Jim', 'Davenport', 'Italianen', 'San',\n",
       "       'Francisco', 'Giants', 'Masin', 'Van', \"'t\", 'Klooster',\n",
       "       'Rotterdammer', 'Masin', 'Ginanneschi', 'Milliard', 'Antilliaan',\n",
       "       'Ginanneschi', 'Isenia', 'Palazzetti', 'Gumbs', 'Balentina', 'Van',\n",
       "       \"'t\", 'Klooster', 'Milliard', 'Van', \"'t\", 'Klooster', 'Jaarsma',\n",
       "       'Milliard', 'Van', \"'t\", 'Klooster', 'Eenhoorn', 'Italianen',\n",
       "       'Jansen', 'Italianen', 'Neptunus', 'Cuba', 'Cubanen', 'Nederland',\n",
       "       'Sydney', 'Oranje', 'Cuba', 'Kindelan', 'Linares', 'Mesa',\n",
       "       'Pacheco', 'Rotterdam', 'All', 'Stars', 'Cubanen', 'zaterdag',\n",
       "       'Nederland', 'Eenhoorn', 'Jurgen', 'van', 'den', 'Van', 'den',\n",
       "       'Goorbergh', 'TT', 'Assen', 'TT', 'Ukawa', 'Rossi', 'Biaggi',\n",
       "       'Capirossi', 'Barros', 'Rossi', 'Biaggi', 'Biaggi', 'Rossi',\n",
       "       'Capirossi', 'Nederland', 'World', 'League', 'World', 'Groningen',\n",
       "       'Amsterdam', 'Eindhoven', 'Nederland', 'Acosta', 'Katowice',\n",
       "       'Oranje', 'Brazilië', 'Zuid-Amerikanen', 'Spanje', 'Brazilianen',\n",
       "       'World', 'League', 'Katowice', 'Italië', 'Brazilië', 'Polen',\n",
       "       'Brazilië', 'World', 'League', 'Nalbert', 'Giba', 'Brazilië',\n",
       "       'Andre', 'Nascimento', 'Gustavo', 'Endres', 'Italië', 'Olympische',\n",
       "       'Spelen', 'Sydney', 'Joegoslavië', 'Katowice', 'Joost', 'Bellaart',\n",
       "       'HCKZ', 'Den', 'Haag', 'Pakistan', 'Bellaart', 'donderdag',\n",
       "       'Drachten', 'Nederland', 'zaterdag', 'Pakistan', 'Bellaart',\n",
       "       'Maurits', 'Hendriks', 'Sydney', 'Champions', 'Trophy', 'november',\n",
       "       'Lahore', 'Bellaart', 'HCKZ', 'Oranje', 'Pakistan', 'Veen',\n",
       "       'Brinkman', 'Van', 'Pelt', 'Jansen', 'Bellaart', 'Pakistan',\n",
       "       'Bellaart', 'De', 'Nooijer', 'Eikelboom', 'Delmee', 'Delmee',\n",
       "       'Pakistan', 'De', 'Nooijer', 'Bellaart', 'Lomans', 'Taekema',\n",
       "       'Oranje', 'Hamburg', 'Bellaart', 'Pakistan', 'Zaterdag', 'Oranje',\n",
       "       'De', 'Nooijer', 'Taekema', 'Bellaart', 'Heerenveen', 'Liepajas',\n",
       "       'Metalurgs', 'Heerenveen', 'Denneboom', 'Tatartsjoek',\n",
       "       'Heerenveen', 'Lurling', 'Katasonov', 'Hereenveen', 'Abe', 'Tibet',\n",
       "       'Himalaya', 'Kopenhagen', 'Groenland', 'Fifa', 'Shinji', 'Ono',\n",
       "       'Feyenoord', 'Paraguay', 'Kirin', 'Cup', 'Ono', 'Yanasigawa',\n",
       "       'Japan', 'Ono', 'Rotterdam', 'Paraguay', 'Sint', 'Petersburg',\n",
       "       'CD&V', 'N-VA', 'september', 'CD&V', 'N-VA', 'N-VA', 'februari',\n",
       "       'CD&V', 'N-VA', 'Vlaanderen', 'Bart', 'De', 'Wever', 'oktober',\n",
       "       'Frieda', 'Brepoels', 'Louis', 'Ide', 'Mark', 'Demesmaeker',\n",
       "       'Johan', 'De', 'Turck', 'Sebastian', 'Luyten', 'Jong', 'N-VA',\n",
       "       'Jan', 'Hofkens', 'Vlaams', 'Parlement', 'Kris', 'Van', 'Dijck',\n",
       "       'Mark', 'Demesmaeker', 'Bart', 'De', 'Wever', 'Jan', 'Loones',\n",
       "       'Jan', 'Peumans', 'Helga', 'Stevens', 'Nieuw-Vlaamse', 'Alliantie',\n",
       "       'Patrick', 'De', 'Groote', 'Europees', 'Parlement', 'Frieda',\n",
       "       'Brepoels', 'Geert', 'Bourgeois', 'Leterme', 'I', 'Antwerpen',\n",
       "       'Gerda', 'Van', 'Langendonck', 'West-Vlaanderen', 'Wilfried',\n",
       "       'Vandaele', 'Oost-Vlaanderen', 'Jan', 'De', 'Cuyper',\n",
       "       'Vlaams-Brabant', 'Herman', 'Van', 'Autgaerden', 'Limburg', 'Vic',\n",
       "       'Putzeys', 'Jong', 'N-VA', 'N-VA', 'Nieuw-Vlaamse', 'Alliantie',\n",
       "       'N-VA', 'N-VA', 'Volksunie', 'Lambermont-akkoord', 'Volksunie',\n",
       "       'Volksunie', 'Nieuw-Vlaamse', 'Alliantie', 'Vlaanderen', 'Europa',\n",
       "       'Bart', 'de', 'Wever', 'Vlaanderen', 'Wallonië', 'Laffer-curve',\n",
       "       'België', 'Ford-Genk', 'BASF-Antwerpen', 'N-VA', 'N-VA',\n",
       "       'Compassionate', 'Conservatism', 'Geert', 'Bourgeois',\n",
       "       'West-Vlaanderen', 'Geert', 'Bourgeois', 'juni', 'De', 'Lijn',\n",
       "       'Vlaams', 'Gewest', 'Vlaams', 'Gewest', 'Vlaanderen', 'Vlaanderen',\n",
       "       'Vlaanderen', 'Vlaanderen', 'Vlaams', 'Gewest', 'Vlaams', 'Gewest',\n",
       "       'België', 'Brussel', 'Vlaams', 'Gewest', 'Vlaanderen', 'Brussel',\n",
       "       'Vlaanderen', 'ISO', 'Vlaams', 'Gewest', 'Vlaanderen', 'Antwerpen',\n",
       "       'Limburg', 'Oost-Vlaanderen', 'Vlaams-Brabant', 'West-Vlaanderen',\n",
       "       'Vlaams-Brabant', 'CD&V', 'VLD', 'sp.a', 'Vlaams', 'Belang',\n",
       "       'Groen', '!', 'UF', 'N-VA', 'Lodewijk', 'De', 'Witte', 'Brabant',\n",
       "       'Vlaams-Brabant', 'Vlaams-Brabant', 'Leuven', 'België', 'Brabant',\n",
       "       'Vlaams-Brabant', 'Waals-Brabant', 'Brussels', 'Hoofdstedelijk',\n",
       "       'Gewest', 'januari', 'Vlaams-Brabant', 'Vlaams', 'Gewest',\n",
       "       'Waals-Brabant', 'Brussels', 'Hoofdstedelijk', 'Gewest',\n",
       "       'Vlaams-Brabant', 'juli', 'Nederlands', 'Brussel', 'Brussel',\n",
       "       'Brussel', 'Brussel', 'Wallonië', 'Brussel', 'Vlaams-Brabant',\n",
       "       'Vlaams-Brabant', 'Leuven', 'Halle-Vilvoorde', 'Brussels',\n",
       "       'Hoofdstedelijk', 'Gewest', 'Brussel-Halle-Vilvoorde', 'Leuven',\n",
       "       'Walshoutem', 'Dijle', 'Demer', 'Zenne', 'juli', 'Halle-Vilvoorde',\n",
       "       'Leuven', 'Brabants', 'Leuven', 'Vilvoorde', 'Halle', 'Tienen',\n",
       "       'Diest', 'Aarschot', 'Vlaams-Brabant', 'Sint-Michielspark', 'Park',\n",
       "       'Borgerstein', 'Park', 'Roosendael', 'Park', 'Ursulinen',\n",
       "       'Sint-Michielskasteel', 'Kasteel', 'Lombaardstein', 'Kasteel',\n",
       "       'Fruitenborg', 'Kasteel', 'Zorgvliet', 'Kasteel', 'Rozenhout',\n",
       "       'Sint-Katelijne-Waver', 'Sint-Katelijne-Waver',\n",
       "       'Sint-Katelijne-Waver', 'Onze-Lieve-Vrouw-Waver', 'Mechelen',\n",
       "       'Antwerpen', 'Rumst', 'Mechelen', 'Bonheiden', 'Putte', 'Lier',\n",
       "       'Duffel', 'KBVB', 'KSK', 'Wavria', 'Onze-Lieve-Vrouw-Waver', 'KFC',\n",
       "       'Katelijne', 'KGR', 'Katelijne', 'Mechelen', 'VK', 'Elzestraat',\n",
       "       'Duffel', 'KBVB', 'ZVK', 'Katelijne', 'Sint-Katelijne-Waver',\n",
       "       'Europa', 'België', 'Bernie', 'Ecclestone', 'België', 'Ardennen',\n",
       "       'Spa-Francorchamps', 'Spa-Francorchamps', 'Francorchamps', 'Luik',\n",
       "       'België', 'Francorchamps', 'Malmedy', 'Burnenville', 'Stavelot',\n",
       "       'Masta', 'Route', 'de', \"l'\", 'Eau', 'rouge', 'Francorchamps',\n",
       "       'Le', 'Mans', 'Grand', 'Prix', 'Formule', '1', 'België', 'Grand',\n",
       "       'Prix', 'België', 'Nijvel', 'Zolder', 'Spa-Francorchamps', 'Grand',\n",
       "       'Prix', 'Wegrace', 'België', 'Grand', 'Prix', 'België',\n",
       "       'Francorchamps', 'Formule', '3000', 'zaterdag', 'België', 'Zolder',\n",
       "       'Vlaanderen', 'Francorchamps', 'Vlaanderen', 'Zolder', 'Grand',\n",
       "       'Prix', 'Francorchamps', 'Blanchimont', 'Stavelot', 'Mezen',\n",
       "       'Rusland', 'Timan', 'Komi', 'Mezen', 'Archangelsk', 'Mezen',\n",
       "       'Vasjka', 'Mezen', 'mei', 'november', 'Aswoensdag', 'Aswoensdag',\n",
       "       'Aswoensdag', 'Paaszaterdag', 'Zaterdag', 'Aswoensdag', 'Pasen',\n",
       "       'Palmzondag', 'Aswoensdag', 'Palmpasen', 'Palmzondag', 'Goede',\n",
       "       'Vrijdag', 'Pasen', 'Aswoensdag', 'Goede', 'Vrijdag', 'februari',\n",
       "       'februari', 'februari', 'Aswoensdag', 'Uitgeverij', 'TYR', 'Paula',\n",
       "       \"D'Hondt\", 'Uitgeverij', 'TYR', 'Uitgeverij', 'TYR', 'Uitgeverij',\n",
       "       'TYR', 'Egmont', 'Egmont', 'Antwerpen', 'Egmont', 'Vlaams', 'Blok',\n",
       "       'Vlaams', 'Blok', 'Vlaanderen', 'Vlaams', 'Blok', 'Europa',\n",
       "       'August', 'Borms', 'Cyriel', 'Verschaeve', 'Irma', 'Laplasse',\n",
       "       'UFSIA', 'december', 'Tweede', 'Wereldoorlog', 'België',\n",
       "       'Antwerpen', 'mei', 'Filip', 'Dewinter', 'Metro', 'juni', 'Staf',\n",
       "       'de', 'Clercq', 'Vlaams', 'Belang', 'Vlaanderen', 'Duitsers',\n",
       "       \"Ha'aretz\", 'augustus', 'Staf', 'de', 'Clercq', 'Tweede',\n",
       "       'Wereldoorlog', 'Jood', 'april', 'oktober', 'Janssens',\n",
       "       'Borgerhout', 'maart', 'Le', 'Soir', 'Jean-Marie', 'Le', 'Pen',\n",
       "       'Filip', 'Dewinter', 'Filip', 'Dewinter', 'Philip', 'Dewinter',\n",
       "       'Brugge', 'september', 'Vlaams', 'Blok', 'november', 'Vlaams',\n",
       "       'Belang', 'Filip', 'Dewinter', 'Lutgarde', 'Karolien', 'An-Sofie',\n",
       "       'Veroniek', 'Sint-Franciscus-Xaveriusinstituut', 'Brugge', 'NJSV',\n",
       "       'september', 'Antwerpen', 'Sint-Ignatius', 'Antwerpen', 'NSV',\n",
       "       'Vlaams', 'Blok', 'Erasmushogeschool', 'Vlaams', 'Blok', 'Vlaams',\n",
       "       'Belang', 'Sint-Franciscus-Xaveriusinstituut', 'Brugge', 'UFSIA',\n",
       "       'NUHO', 'Erasmus', 'Vlaams', 'Blok', 'Vlaams', 'Belang',\n",
       "       'Antwerpen', 'Vlaams', 'Blok', 'Vlaams', 'Belang', 'Vlaams',\n",
       "       'Parlement', 'Gerolf', 'Annemans', 'Gerolf', 'Annemans',\n",
       "       'Antwerpen', 'november', 'Vlaams', 'Belang', 'Annemans',\n",
       "       'Antwerpen', 'SW-krant', 'Sofia', 'KVHV-Antwerpen', 'Annemans',\n",
       "       'Pallieterke', 'Gerolf', 'Annemans', 'Vlaams', 'Blok', 'november',\n",
       "       'Vlaams', 'Belang', 'februari', 'Vlaams', 'Blok', 'Annemans',\n",
       "       'Vlaams', 'Belang', 'Antwerpen', 'Annemans', 'Vlaams', 'Blok',\n",
       "       'Vlaams', 'Blok', 'Gerolf', 'Annemans', 'Monika', \"D'hooghe\",\n",
       "       'Gerolf', 'Emma', 'Tosca', 'Gerolf', 'Annemans', 'Hergé',\n",
       "       'Blumenstein', 'Bohlwinkel', 'Hergé', 'Brussels', 'Amerikanen',\n",
       "       'Hergé', 'Hergé', 'Jo', 'Suus', 'Jokko', 'Quick', 'Flupke',\n",
       "       'Hergé', 'Belg', 'Hergé', 'Dieweg', 'Ukkel', 'Brussel', 'Hergé',\n",
       "       'Genootschap', 'Latin', 'American', 'Club', 'of', 'Tintin',\n",
       "       'Hergé', 'Hergé', 'Georges', 'Rémi', 'Etterbeek', 'mei', 'Brussel',\n",
       "       'maart', 'RG', 'Frans', 'Frans', 'Hergé', 'Hergé', 'Franquin',\n",
       "       'Goscinny', 'Tintin', 'Kuifje', 'Hergé', 'Steven', 'Spielberg',\n",
       "       'Hergé', 'Spielberg', 'Indiana', 'Jones', 'Kuifje', 'Hergé',\n",
       "       'Hergé', 'Hergé', 'Japan', 'China', 'De', 'Blauwe', 'Lotus',\n",
       "       'Europa', 'De', 'Blauwe', 'Lotus', 'Kuifje', 'Hergé', 'Hergé',\n",
       "       'Leon', 'Degrelle', 'Hitler', 'Tweede', 'Wereldoorlog', 'Ensor',\n",
       "       'Ensor', 'Louis', 'Dubois', 'Dubar', 'Van', 'Cuyck', 'Mariakerke',\n",
       "       'Ensor', 'oktober', 'Brussel', 'Oostende', 'James',\n",
       "       'St.-Janstraat', 'Grote', 'Markt', 'Fernand', 'Khnopff',\n",
       "       'Oostende', 'Man', 'Ensor', 'Ensor', 'Brussel', 'Oostende',\n",
       "       'Vlaanderenramp', 'Van', 'Iseghemlaan', 'Vlaanderenstraat',\n",
       "       'Oostende', 'Les', 'vingt', 'Chrysalide', 'Exposition', 'Générale',\n",
       "       'des', 'Beaux-Arts', 'Brussel', 'Ensor', \"L'Essor\", \"L'Essor\",\n",
       "       'James', 'Ensor', 'Museum', 'voor', 'Schone', 'Kunsten',\n",
       "       'Antwerpen', 'Ensor', \"L'Essor\", 'Salon', 'des', 'Beaux-Arts',\n",
       "       'Antwerpen', 'Oostende', 'Ensor', 'Ensor', 'Ensor', 'Kursaal',\n",
       "       'Oostende', 'Triënnale', 'Gent', 'Société', 'Royale', 'des',\n",
       "       'Aquarellistes', 'Belges', 'Oostende', 'Téméraire', 'William',\n",
       "       'Turner', 'Ensor', 'Guillaume', 'Vogels', 'Londen', 'Turner',\n",
       "       'Octave', 'Maus', 'Les', 'vingt', 'Les', 'XX', 'oktober', 'James',\n",
       "       'Ensor', 'Octave', 'Maus', 'Brussel', 'Les', 'XX', 'Ensor',\n",
       "       'Romein', 'Ensor', 'Christus', 'Christus', 'Jeruzalem', 'Satan',\n",
       "       'Christus', 'Les', 'XX', 'Emile', 'Verhaeren', 'Rembrandt',\n",
       "       'Ensors', 'Christus', 'Ensors', 'Ensor', 'Ensor', 'Christus',\n",
       "       'Brussel', 'Salon', 'des', 'XX', 'James', 'Ensor', 'Oostende',\n",
       "       'april', 'november', 'België', 'Ensor', 'Christus', 'Ensor',\n",
       "       'Ensor', 'Dood', 'Fanfares', 'doctrinaires', 'Ensor', 'Ensor',\n",
       "       'Brussel', 'Vlaanderenramp', 'Vlaanderenstraat', 'Ensor-huis',\n",
       "       'Leopold', 'Parijs', 'Brussel', 'Eugène', 'Demolder', 'Ensor',\n",
       "       'Ensor', 'Demolder', 'Ensor', 'België', 'Ensor', 'Tweede',\n",
       "       'Wereldoorlog', 'Venetië', 'Knokke', 'Museum', 'voor', 'Schone',\n",
       "       'Kunsten', 'Oostende', 'Antwerpen', 'Chicago', 'New', 'York',\n",
       "       'Künsthaus', 'Zürich', 'Getty', 'Museum', 'Los', 'Angeles',\n",
       "       'Ensor', 'Christus', 'Christus', 'Christus', 'Christus',\n",
       "       'Christus', 'Christus', 'La', 'Libre', 'Esthétique', 'Octave',\n",
       "       'Maus', 'Les', 'XX', 'James', 'Ensor', 'Maus', 'La', 'Libre',\n",
       "       'Esthétique', 'Ensor', 'Brussels', 'Prentenkabinet', 'Ensor', 'La',\n",
       "       'Libre', 'Esthétique', 'Guillaume', 'Vogels', 'Cercle', 'des',\n",
       "       'Beaux', 'Arts', \"d'Ostende\", 'Prentenkabinet', 'Dresden',\n",
       "       'december', 'Eugène', 'Demolder', 'Comptoir', 'des', 'Arts',\n",
       "       'Industriels', 'La', 'Royale', 'Brussel', 'maart', 'Salon', 'des',\n",
       "       'Cents', 'Parijs', 'La', 'plume', 'Ensor', 'Albertina', 'Wenen',\n",
       "       'Ensor', 'Ensor', 'Mimi', 'Ensor', 'James', 'Ensor', 'Satan',\n",
       "       'Christus', 'Christus', 'Brussel', 'Wouse', 'Pierrot', 'Pierrot',\n",
       "       'James', 'Ensor', 'Ensor', 'Ensors', 'Hannover', 'Berlijn',\n",
       "       'Dresden', 'Mannheim', 'Leipzig', 'Ensor', 'Paleis', 'voor',\n",
       "       'Schone', 'Kunsten', 'Brussel', 'Christus', 'Brussel', 'James',\n",
       "       'Baron', 'Ensor', 'Baron', 'J.Ensor', 'april', 'Kursaal', 'James',\n",
       "       'Ensor', 'november', 'Heilig', 'Hart', 'Oostende',\n",
       "       'Onze-Lieve-Vrouw-ter-Duinen', 'Mariakerke', 'Oostende', 'Ensor',\n",
       "       'Xavier', 'Tricot', 'MIM/Pandora', 'Antwerpen', 'Xavier', 'Tricot',\n",
       "       'Ensoriana', 'Pandora', 'Antwerpen', 'Willy', 'Van', 'den',\n",
       "       'Bussche', 'Ensor', 'Delvaux', 'PMMK', 'Oostende', 'Ensor', 'KMSK',\n",
       "       'Antwerpen', 'Ensor', 'James', 'Frederic', 'Ensor', 'Ensor',\n",
       "       'Frans', 'Ensor', 'Maria', 'Catharina', 'Haegheman', 'Ensors',\n",
       "       'Ensors', 'Brussel', 'James', 'Frederic', 'Brighton', 'James',\n",
       "       'Rainford', 'Anne', 'Andrew', 'Sussex', 'Ensors', 'James',\n",
       "       'Verenigde', 'Staten', 'Ensor', 'Ensor', 'James', 'Ensor', 'James',\n",
       "       'Ensor', 'Augusta', 'Bogaerts', 'Ensor', 'Mietje', 'Mitche',\n",
       "       'Ensor', 'Chinees', 'Alex', 'Ensor', 'La', 'Chinoise', 'Ensor',\n",
       "       'Vandersteen', 'Vandersteen', 'Piwo', 'Vandersteen', 'Vandersteen',\n",
       "       'Casterman', 'Frans', 'Suske', 'en', 'Wiske', 'Vandersteen',\n",
       "       'Standaard', 'Uitgeverij', 'Suske', 'en', 'Wiske', 'maart',\n",
       "       'Rikki', 'Wiske', 'Rikki', 'Wiske', 'Vandersteen', 'Suske', 'en',\n",
       "       'Wiske', 'Willy', 'Vandersteen', 'Erik', 'Durnez', 'Standaard',\n",
       "       'Uitgeverij', 'Vandersteen', 'Rikki', 'Wiske', 'Rikki', 'Kuifje',\n",
       "       'Rikki', \"Wiske's\", 'Vandersteen', 'Wiske', 'Suske', 'Amoras',\n",
       "       'Sidonia', 'Sidonie', 'Barabas', 'Sus', 'Antigoon', 'Lambik',\n",
       "       'Jerom', 'Krimson', 'tuf-tuf-club', 'Suske', 'en', 'Wiske',\n",
       "       'Vandersteen', 'De', 'Standaard', 'Vlaanderen', 'Suske', 'en',\n",
       "       'Wiske', 'De', 'Standaard', 'Vandersteen', 'Marc', 'Sleen', 'Jef',\n",
       "       'Nys', 'Vlaanderen', 'Suske', 'en', 'Wiske', 'ABN', 'Nederland',\n",
       "       'Suske', 'en', 'Wiske', 'Sidonie', 'Sidonia', \"Wiske's\",\n",
       "       'Schabolleke', 'Schalulleke', 'Schanulleke', 'Suske', 'en',\n",
       "       'Wiske', 'Paul', 'Geerts', 'Marc', 'Verhaegen', 'Suske', 'en',\n",
       "       'Willy', 'Vandersteen', 'Hergé', \"Vandersteen's\", 'Hergé',\n",
       "       'Vandersteen', 'Kuifje', 'Vandersteen', 'België', 'Suske', 'en',\n",
       "       'Wiske', 'Hergé', 'Vandersteen', 'Wiske', 'Suske', 'Lambik',\n",
       "       'Sidonia', 'Barabas', 'Jerom', 'Vandersteen', 'Beersel', 'Rome',\n",
       "       'Mars', 'Vierkleurenreeks', 'Studio', 'Vandersteen',\n",
       "       \"Vandersteen's\", 'De', 'Standaard', 'Kuifje', 'Tijl',\n",
       "       'Uilenspiegel', 'Dr.', 'Jekyll', 'Mr.', 'Hyde', 'Snoek', 'Lambik',\n",
       "       'Vandersteen', 'Studio', 'Vandersteen', 'Vandersteen', 'Bessy',\n",
       "       'Lassie', 'Wirel', \"Vandersteen's\", 'Karel', 'Verschuere',\n",
       "       'Duitsland', 'Vandersteen', 'Leopold', 'Vermeiren', 'Karel',\n",
       "       'Biddeloo', 'Vandersteen', 'Karl', 'May', 'Karl', 'May', 'Old',\n",
       "       'Shatterhand', 'Winnetou', 'Biggles', 'Robert', 'Bertrand',\n",
       "       'Jerom', 'Pats', 'Tits', 'Vandersteen', 'Vandersteen', 'Suske',\n",
       "       'en', 'Wiske', 'Suske', 'en', 'Wiske', 'Willy', 'Vandersteen',\n",
       "       'Antwerpen', 'februari', 'augustus', 'Suske', 'en', 'Wiske',\n",
       "       'Kaproen', 'Willy', 'Vandersteen', 'Vandersteen', 'Vandersteen',\n",
       "       'Kaproen', 'Kaproen', 'Brussel', 'Militie-Zwarte', 'Brigade',\n",
       "       'Vandersteen', 'Kaproen', 'Vandersteen', 'Vandersteen',\n",
       "       'Vandersteens', 'Peter', 'Van', 'Hooydonck', 'Vandersteen',\n",
       "       'Kaproen', 'Vandersteens', 'Suske', 'en', 'Wiske', 'Suske', 'en',\n",
       "       'Wiske', 'Vandersteen', 'oud-Nederlands', 'Karel', 'Weyler',\n",
       "       'Pats', 'Suske', 'en', 'Vlaams/Nederlands', 'Suske', 'en', 'Wiske',\n",
       "       'Zoo', 'Suske', 'en', 'Wiske', 'Suske', 'en', 'Wiske', 'Suske',\n",
       "       'Wiske', 'Vandersteen', 'Belg', 'Vlaanderen', 'Suske', 'en',\n",
       "       'Wiske', 'Nederland', 'Suriname', \"Vandersteen's\", 'Vlaanderen',\n",
       "       'Marc', 'Sleen', 'Jef', 'Nys', 'Merho', 'Willy', 'Linthout',\n",
       "       'Urbanus', 'Jan', 'Bosschaert', 'Jean-Pol', 'Marc', 'Legendre',\n",
       "       'Jeroom', 'Kamagurka', 'Vandersteen', 'Suske', 'en', 'Wiske',\n",
       "       'Vandersteen', 'Urbanus', 'Kamagurka', 'Gummbah', 'Jeroom',\n",
       "       \"Vandersteen's\", 'Ridder', 'Bauknecht', 'Jeroom', 'Vandersteen',\n",
       "       'Jerom', 'Karl', 'May', 'Old', 'Shatterhand', 'Biggles', 'Safari',\n",
       "       'Robert', 'Bertrand', 'Pats', 'Tits', 'Schanulleke', 'Piwo',\n",
       "       'Suske', 'en', 'Wiske', 'Snoek', 'Tijl', 'Uilenspiegel', 'Bessy',\n",
       "       'Judi', 'Lambik', 'Willy', 'Vandersteen', 'Seefhoek', 'Heilig',\n",
       "       'Graf', 'Vandersteen', 'Jugendstil', 'Vandersteen', 'Innovation',\n",
       "       'Vandersteen', 'Vandersteen', 'Antwerpen', 'Brussel', 'Wil',\n",
       "       'Vandersteen', 'Pudifar', 'Wonderland', 'woensdag', 'Vlaming',\n",
       "       'Vandersteen', 'Vandersteen', 'J.', 'Meuwissen', 'Nederlander',\n",
       "       'Bravo', 'Vandersteen', 'Sindbad', 'Thor', 'Lancelot'],\n",
       "      dtype=object)"
      ]
     },
     "execution_count": 12,
     "metadata": {},
     "output_type": "execute_result"
    }
   ],
   "source": [
    "all_examples[all_examples.actual==\"PROPN\"].token.values"
   ]
  },
  {
   "cell_type": "code",
   "execution_count": 13,
   "metadata": {
    "ExecuteTime": {
     "end_time": "2020-05-25T16:07:56.575555Z",
     "start_time": "2020-05-25T16:07:56.561556Z"
    }
   },
   "outputs": [
    {
     "data": {
      "text/html": [
       "<div>\n",
       "<style scoped>\n",
       "    .dataframe tbody tr th:only-of-type {\n",
       "        vertical-align: middle;\n",
       "    }\n",
       "\n",
       "    .dataframe tbody tr th {\n",
       "        vertical-align: top;\n",
       "    }\n",
       "\n",
       "    .dataframe thead th {\n",
       "        text-align: right;\n",
       "    }\n",
       "</style>\n",
       "<table border=\"1\" class=\"dataframe\">\n",
       "  <thead>\n",
       "    <tr style=\"text-align: right;\">\n",
       "      <th></th>\n",
       "      <th>actual</th>\n",
       "      <th>token</th>\n",
       "      <th>sentence</th>\n",
       "      <th>actual_tokens</th>\n",
       "    </tr>\n",
       "  </thead>\n",
       "  <tbody>\n",
       "    <tr>\n",
       "      <th>0</th>\n",
       "      <td>PUNCT</td>\n",
       "      <td>,,</td>\n",
       "      <td>,, Mijn basisniveau is flink omhoog gegaan . ''</td>\n",
       "      <td>PUNCT PRON NOUN AUX ADJ ADV VERB PUNCT PUNCT</td>\n",
       "    </tr>\n",
       "    <tr>\n",
       "      <th>1</th>\n",
       "      <td>PRON</td>\n",
       "      <td>Mijn</td>\n",
       "      <td>,, Mijn basisniveau is flink omhoog gegaan . ''</td>\n",
       "      <td>PUNCT PRON NOUN AUX ADJ ADV VERB PUNCT PUNCT</td>\n",
       "    </tr>\n",
       "    <tr>\n",
       "      <th>2</th>\n",
       "      <td>NOUN</td>\n",
       "      <td>basisniveau</td>\n",
       "      <td>,, Mijn basisniveau is flink omhoog gegaan . ''</td>\n",
       "      <td>PUNCT PRON NOUN AUX ADJ ADV VERB PUNCT PUNCT</td>\n",
       "    </tr>\n",
       "    <tr>\n",
       "      <th>3</th>\n",
       "      <td>AUX</td>\n",
       "      <td>is</td>\n",
       "      <td>,, Mijn basisniveau is flink omhoog gegaan . ''</td>\n",
       "      <td>PUNCT PRON NOUN AUX ADJ ADV VERB PUNCT PUNCT</td>\n",
       "    </tr>\n",
       "    <tr>\n",
       "      <th>4</th>\n",
       "      <td>ADJ</td>\n",
       "      <td>flink</td>\n",
       "      <td>,, Mijn basisniveau is flink omhoog gegaan . ''</td>\n",
       "      <td>PUNCT PRON NOUN AUX ADJ ADV VERB PUNCT PUNCT</td>\n",
       "    </tr>\n",
       "  </tbody>\n",
       "</table>\n",
       "</div>"
      ],
      "text/plain": [
       "  actual        token                                         sentence  \\\n",
       "0  PUNCT           ,,  ,, Mijn basisniveau is flink omhoog gegaan . ''   \n",
       "1   PRON         Mijn  ,, Mijn basisniveau is flink omhoog gegaan . ''   \n",
       "2   NOUN  basisniveau  ,, Mijn basisniveau is flink omhoog gegaan . ''   \n",
       "3    AUX           is  ,, Mijn basisniveau is flink omhoog gegaan . ''   \n",
       "4    ADJ        flink  ,, Mijn basisniveau is flink omhoog gegaan . ''   \n",
       "\n",
       "                                  actual_tokens  \n",
       "0  PUNCT PRON NOUN AUX ADJ ADV VERB PUNCT PUNCT  \n",
       "1  PUNCT PRON NOUN AUX ADJ ADV VERB PUNCT PUNCT  \n",
       "2  PUNCT PRON NOUN AUX ADJ ADV VERB PUNCT PUNCT  \n",
       "3  PUNCT PRON NOUN AUX ADJ ADV VERB PUNCT PUNCT  \n",
       "4  PUNCT PRON NOUN AUX ADJ ADV VERB PUNCT PUNCT  "
      ]
     },
     "execution_count": 13,
     "metadata": {},
     "output_type": "execute_result"
    }
   ],
   "source": [
    "all_examples.head()"
   ]
  },
  {
   "cell_type": "code",
   "execution_count": 17,
   "metadata": {
    "ExecuteTime": {
     "end_time": "2020-05-25T16:19:40.004207Z",
     "start_time": "2020-05-25T16:19:39.973237Z"
    }
   },
   "outputs": [
    {
     "data": {
      "text/plain": [
       "243"
      ]
     },
     "execution_count": 17,
     "metadata": {},
     "output_type": "execute_result"
    }
   ],
   "source": [
    "all_examples[(all_examples.token.str[0].str.isupper())&(all_examples.actual==\"NOUN\")].token.nunique()"
   ]
  },
  {
   "cell_type": "code",
   "execution_count": 42,
   "metadata": {
    "ExecuteTime": {
     "end_time": "2020-05-15T09:36:23.325578Z",
     "start_time": "2020-05-15T09:36:23.064155Z"
    }
   },
   "outputs": [
    {
     "data": {
      "text/plain": [
       "2427"
      ]
     },
     "execution_count": 42,
     "metadata": {},
     "output_type": "execute_result"
    }
   ],
   "source": [
    "all_examples[(all_examples.token.str[0].str.isupper())&(all_examples.actual==\"PRON\")].token.nunique()"
   ]
  }
 ],
 "metadata": {
  "kernelspec": {
   "display_name": "Python 3",
   "language": "python",
   "name": "python3"
  },
  "language_info": {
   "codemirror_mode": {
    "name": "ipython",
    "version": 3
   },
   "file_extension": ".py",
   "mimetype": "text/x-python",
   "name": "python",
   "nbconvert_exporter": "python",
   "pygments_lexer": "ipython3",
   "version": "3.7.3"
  },
  "toc": {
   "base_numbering": 1,
   "nav_menu": {},
   "number_sections": false,
   "sideBar": true,
   "skip_h1_title": false,
   "title_cell": "Table of Contents",
   "title_sidebar": "Contents",
   "toc_cell": false,
   "toc_position": {},
   "toc_section_display": true,
   "toc_window_display": false
  }
 },
 "nbformat": 4,
 "nbformat_minor": 2
}
