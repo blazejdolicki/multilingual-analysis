{
 "cells": [
  {
   "cell_type": "markdown",
   "metadata": {},
   "source": [
    "## Analysing predictions of Universal Dependencies (POS TAGGING)"
   ]
  },
  {
   "cell_type": "code",
   "execution_count": 12,
   "metadata": {
    "ExecuteTime": {
     "end_time": "2020-05-25T16:44:21.308813Z",
     "start_time": "2020-05-25T16:44:20.832808Z"
    }
   },
   "outputs": [],
   "source": [
    "import pandas as pd\n",
    "import utils\n",
    "pd.options.display.max_rows = 100000\n",
    "pd.set_option('display.max_colwidth', -1)\n"
   ]
  },
  {
   "cell_type": "code",
   "execution_count": 14,
   "metadata": {
    "ExecuteTime": {
     "end_time": "2020-05-25T16:44:47.694773Z",
     "start_time": "2020-05-25T16:44:47.653760Z"
    }
   },
   "outputs": [],
   "source": [
    "pa = utils.PredictionsAnalyzer()\n",
    "ud_pos = pa.read_tag_data(\"dev-nl.tsv\",\"dev_nl_predictions.txt\")"
   ]
  },
  {
   "cell_type": "code",
   "execution_count": null,
   "metadata": {
    "ExecuteTime": {
     "end_time": "2020-05-25T16:44:48.745981Z",
     "start_time": "2020-05-25T16:44:48.734966Z"
    }
   },
   "outputs": [],
   "source": [
    "ud_pos.tail()"
   ]
  },
  {
   "cell_type": "code",
   "execution_count": 37,
   "metadata": {
    "ExecuteTime": {
     "end_time": "2020-05-25T16:44:53.075996Z",
     "start_time": "2020-05-25T16:44:52.684995Z"
    }
   },
   "outputs": [
    {
     "output_type": "execute_result",
     "data": {
      "text/plain": "                                                                                               sentences  \\\n1  De afgelopen week twijfelde ze nog of ze wel moest meedoen aan het NK .                                 \n2  Moeder Mien spoorde haar aan toch op te stappen .                                                       \n3  Tot halverwege de koers had Van Alebeek moeite om zich volledig te concentreren op de wedstrijd .       \n5  Om ongelukken te voorkomen heb ik mezelf gedwongen om me alleen nog met de koers bezig te houden . ''   \n6  Veertig kilometer voor het einde ontstond een kopgroep met zes vrouwen .                                \n\n                                                                                  ground_truth  \\\n1  DET VERB NOUN VERB PRON ADV SCONJ PRON ADV AUX VERB ADP DET PROPN PUNCT                       \n2  NOUN PROPN VERB PRON ADP ADV ADP ADP VERB PUNCT                                               \n3  ADP ADP DET NOUN VERB PROPN PROPN NOUN ADP PRON ADJ ADP VERB ADP DET NOUN PUNCT               \n5  ADP NOUN ADP VERB AUX PRON PRON VERB ADP PRON ADV ADV ADP DET NOUN ADJ ADP VERB PUNCT PUNCT   \n6  NUM NOUN ADP DET NOUN VERB DET NOUN ADP NUM NOUN PUNCT                                        \n\n                                                                                   predictions  \n1  DET VERB NOUN VERB PRON ADV SCONJ PRON ADV AUX VERB ADP DET PROPN PUNCT                      \n2  NOUN PROPN VERB PRON ADP ADV ADP ADP VERB PUNCT                                              \n3  ADP ADP DET NOUN VERB PROPN PROPN NOUN ADP PRON ADJ ADP VERB ADP DET NOUN PUNCT              \n5  ADP NOUN ADP VERB AUX PRON PRON VERB ADP PRON ADV ADV ADP DET NOUN ADJ ADP VERB PUNCT PUNCT  \n6  NUM NOUN ADP DET NOUN VERB DET NOUN ADP NUM NOUN PUNCT                                       ",
      "text/html": "<div>\n<style scoped>\n    .dataframe tbody tr th:only-of-type {\n        vertical-align: middle;\n    }\n\n    .dataframe tbody tr th {\n        vertical-align: top;\n    }\n\n    .dataframe thead th {\n        text-align: right;\n    }\n</style>\n<table border=\"1\" class=\"dataframe\">\n  <thead>\n    <tr style=\"text-align: right;\">\n      <th></th>\n      <th>sentences</th>\n      <th>ground_truth</th>\n      <th>predictions</th>\n    </tr>\n  </thead>\n  <tbody>\n    <tr>\n      <th>1</th>\n      <td>De afgelopen week twijfelde ze nog of ze wel moest meedoen aan het NK .</td>\n      <td>DET VERB NOUN VERB PRON ADV SCONJ PRON ADV AUX VERB ADP DET PROPN PUNCT</td>\n      <td>DET VERB NOUN VERB PRON ADV SCONJ PRON ADV AUX VERB ADP DET PROPN PUNCT</td>\n    </tr>\n    <tr>\n      <th>2</th>\n      <td>Moeder Mien spoorde haar aan toch op te stappen .</td>\n      <td>NOUN PROPN VERB PRON ADP ADV ADP ADP VERB PUNCT</td>\n      <td>NOUN PROPN VERB PRON ADP ADV ADP ADP VERB PUNCT</td>\n    </tr>\n    <tr>\n      <th>3</th>\n      <td>Tot halverwege de koers had Van Alebeek moeite om zich volledig te concentreren op de wedstrijd .</td>\n      <td>ADP ADP DET NOUN VERB PROPN PROPN NOUN ADP PRON ADJ ADP VERB ADP DET NOUN PUNCT</td>\n      <td>ADP ADP DET NOUN VERB PROPN PROPN NOUN ADP PRON ADJ ADP VERB ADP DET NOUN PUNCT</td>\n    </tr>\n    <tr>\n      <th>5</th>\n      <td>Om ongelukken te voorkomen heb ik mezelf gedwongen om me alleen nog met de koers bezig te houden . ''</td>\n      <td>ADP NOUN ADP VERB AUX PRON PRON VERB ADP PRON ADV ADV ADP DET NOUN ADJ ADP VERB PUNCT PUNCT</td>\n      <td>ADP NOUN ADP VERB AUX PRON PRON VERB ADP PRON ADV ADV ADP DET NOUN ADJ ADP VERB PUNCT PUNCT</td>\n    </tr>\n    <tr>\n      <th>6</th>\n      <td>Veertig kilometer voor het einde ontstond een kopgroep met zes vrouwen .</td>\n      <td>NUM NOUN ADP DET NOUN VERB DET NOUN ADP NUM NOUN PUNCT</td>\n      <td>NUM NOUN ADP DET NOUN VERB DET NOUN ADP NUM NOUN PUNCT</td>\n    </tr>\n  </tbody>\n</table>\n</div>"
     },
     "metadata": {},
     "execution_count": 37
    }
   ],
   "source": [
    "ud_pos[ud_pos.sentences.str.contains(\"de\")].head()"
   ]
  },
  {
   "cell_type": "code",
   "execution_count": 19,
   "metadata": {
    "ExecuteTime": {
     "end_time": "2020-05-25T16:45:34.791871Z",
     "start_time": "2020-05-25T16:45:34.768788Z"
    }
   },
   "outputs": [],
   "source": [
    "def is_pred_wrong(actual,pred=None):\n",
    "    return actual!=pred\n",
    "\n",
    "mistakes_df, conf_df = pa.transform_data(is_pred_wrong,conf_matrix=True) "
   ]
  },
  {
   "cell_type": "code",
   "execution_count": 21,
   "metadata": {
    "ExecuteTime": {
     "end_time": "2020-05-25T16:45:39.122131Z",
     "start_time": "2020-05-25T16:45:39.079129Z"
    }
   },
   "outputs": [
    {
     "output_type": "execute_result",
     "data": {
      "text/plain": "                                                                                                                                                                                                                                                                    \n178  PROPN AUX ADP DET ADJ NOUN ADJ PUNCT                                                                                                                                                                                                                                                                                                                                                                                                                                            \n188  PROPN PROPN PUNCT NOUN PROPN PROPN                                                                                                                                                                                                                                                                                                                                                                                                                                              \n189  PROPN PROPN PUNCT DET NOUN ADP DET PROPN                                                                                                                                                                                                                                                                                                                                                                                                                                        \n192  ADP ADJ NOUN VERB PRON DET NOUN PUNCT ADP DET NOUN ADP DET PROPN VERB ADP DET NOUN PUNCT ADJ ADP DET NOUN ADP DET NOUN CCONJ VERB PRON ADV ADP DET ADJ VERB NOUN PUNCT CCONJ ADV DET NOUN ADP NOUN AUX PUNCT ADP DET NOUN ADJ VERB ADP AUX PUNCT SCONJ PRON ADP PROPN NUM ADP DET ADJ AUX ADP DET ADJ NOUN PUNCT                                                                                                                                                                \n197  ADJ AUX PRON DET PROPN X ADJ VERB PUNCT CCONJ PRON ADP PROPN VERB PRON ADJ NOUN VERB PUNCT CCONJ ADJ VERB DET NOUN CCONJ VERB DET NOUN ADP DET ADJ PUNCT ADJ NOUN PUNCT PRON AUX DET NOUN ADV VERB ADP DET NOUN PUNCT CCONJ DET PUNCT PROPN PROPN PUNCT PUNCT ADV ADJ NOUN ADJ ADJ AUX ADP DET NOUN PUNCT PUNCT ADJ NOUN PUNCT ADP NOUN ADP DET NOUN PUNCT ADP DET NOUN PUNCT PUNCT PRON AUX DET ADJ NOUN ADP DET NOUN PUNCT PRON AUX DET NOUN ADV ADV DET ADJ NOUN VERB PUNCT  \n198  ADJ AUX PRON DET PROPN X ADJ VERB PUNCT CCONJ PRON ADP PROPN VERB PRON ADJ NOUN VERB PUNCT CCONJ ADJ VERB DET NOUN CCONJ VERB DET NOUN ADP DET ADJ PUNCT ADJ NOUN PUNCT PRON AUX DET NOUN ADV VERB ADP DET NOUN PUNCT CCONJ DET PUNCT PROPN PROPN PUNCT PUNCT ADV ADJ NOUN ADJ ADJ AUX ADP DET NOUN PUNCT PUNCT ADJ NOUN PUNCT ADP NOUN ADP DET NOUN PUNCT ADP DET NOUN PUNCT PUNCT PRON AUX DET ADJ NOUN ADP DET NOUN PUNCT PRON AUX DET NOUN ADV ADV DET ADJ NOUN VERB PUNCT  \n212  NOUN PUNCT PROPN PUNCT PROPN PROPN PUNCT PROPN PROPN PUNCT PROPN PROPN PUNCT PROPN PROPN                                                                                                                                                                                                                                                                                                                                                                                        \n213  NOUN PUNCT PROPN PUNCT PROPN PROPN PUNCT PROPN PROPN PUNCT PROPN PROPN PUNCT PROPN PROPN                                                                                                                                                                                                                                                                                                                                                                                        \n214  NOUN PUNCT PROPN PUNCT PROPN PROPN PUNCT PROPN PROPN PUNCT PROPN PROPN PUNCT PROPN PROPN                                                                                                                                                                                                                                                                                                                                                                                        \n215  NOUN PUNCT PROPN PUNCT PROPN PROPN PUNCT PROPN PROPN PUNCT PROPN PROPN PUNCT PROPN PROPN                                                                                                                                                                                                                                                                                                                                                                                        \n240  PROPN ADP SYM                                                                                                                                                                                                                                                                                                                                                                                                                                                                   \n241  PUNCT ADJ NOUN ADV PUNCT PUNCT PROPN PROPN PUNCT NUM PUNCT                                                                                                                                                                                                                                                                                                                                                                                                                      \n242  PUNCT NOUN ADP PROPN PROPN PUNCT PUNCT PROPN PROPN PUNCT NUM PUNCT                                                                                                                                                                                                                                                                                                                                                                                                              \n246  PUNCT DET ADP PRON SYM NOUN ADP DET ADJ NOUN PUNCT PUNCT PROPN PROPN PUNCT NUM PUNCT                                                                                                                                                                                                                                                                                                                                                                                            \n248  PUNCT NOUN SYM DET NOUN VERB PUNCT PUNCT PROPN PROPN PUNCT NUM PUNCT                                                                                                                                                                                                                                                                                                                                                                                                            \n295  PROPN AUX DET NOUN ADP PUNCT DET ADJ NOUN PUNCT PUNCT PRON VERB ADP DET VERB NOUN ADP DET ADJ NOUN PUNCT ADV PRON ADV ADV NOUN ADP DET NOUN ADP DET NOUN VERB AUX PUNCT                                                                                                                                                                                                                                                                                                         \n303  PROPN VERB ADP DET ADJ NOUN VERB SCONJ PRON DET ADJ NOUN ADP DET NOUN ADP PROPN ADP PROPN ADP DET NOUN PUNCT PROPN PROPN PROPN PUNCT VERB ADP VERB PUNCT                                                                                                                                                                                                                                                                                                                        \n304  PROPN VERB ADP DET ADJ NOUN VERB SCONJ PRON DET ADJ NOUN ADP DET NOUN ADP PROPN ADP PROPN ADP DET NOUN PUNCT PROPN PROPN PROPN PUNCT VERB ADP VERB PUNCT                                                                                                                                                                                                                                                                                                                        \n305  PROPN VERB ADP DET ADJ NOUN VERB SCONJ PRON DET ADJ NOUN ADP DET NOUN ADP PROPN ADP PROPN ADP DET NOUN PUNCT PROPN PROPN PROPN PUNCT VERB ADP VERB PUNCT                                                                                                                                                                                                                                                                                                                        \n306  PUNCT PROPN PROPN PROPN PUNCT AUX DET NOUN ADP DET NOUN ADP PROPN PUNCT                                                                                                                                                                                                                                                                                                                                                                                                         \n307  PUNCT PROPN PROPN PROPN PUNCT AUX DET NOUN ADP DET NOUN ADP PROPN PUNCT                                                                                                                                                                                                                                                                                                                                                                                                         \n308  PUNCT PROPN PROPN PROPN PUNCT AUX DET NOUN ADP DET NOUN ADP PROPN PUNCT                                                                                                                                                                                                                                                                                                                                                                                                         \n314  ADP DET NOUN VERB PUNCT NOUN ADP PROPN PUNCT PUNCT NUM PUNCT PUNCT PUNCT ADJ NOUN PUNCT PUNCT NUM PUNCT PUNCT PUNCT NOUN PUNCT PUNCT NUM PUNCT PUNCT PUNCT PROPN ADP DET ADJ NOUN PUNCT PUNCT NOUN NUM PUNCT PUNCT PUNCT NOUN PUNCT PUNCT NUM PUNCT PUNCT PUNCT DET NOUN ADP DET NOUN PUNCT PUNCT NUM PUNCT CCONJ PUNCT PROPN ADP DET NOUN PUNCT PUNCT NUM PUNCT PUNCT                                                                                                          \n316  PROPN PROPN                                                                                                                                                                                                                                                                                                                                                                                                                                                                     \n317  PROPN PROPN                                                                                                                                                                                                                                                                                                                                                                                                                                                                     \n320  PUNCT DET NOUN PUNCT AUX ADV NUM NOUN ADJ VERB ADP DET PROPN PROPN PROPN PROPN ADP PROPN PUNCT ADP DET ADJ NOUN ADP NUM PUNCT                                                                                                                                                                                                                                                                                                                                                   \n344  NUM ADJ NOUN VERB ADP DET NOUN ADP ADV VERB PUNCT ADP ADV VERB NOUN PUNCT ADV PROPN DET NOUN VERB PUNCT DET ADJ NOUN PUNCT VERB NOUN PUNCT NOUN PUNCT DET ADJ NOUN PUNCT DET ADJ ADJ NOUN PUNCT NOUN ADP NOUN PUNCT DET PROPN ADP NOUN PUNCT DET NOUN NOUN ADP DET PUNCT PROPN PROPN PUNCT CCONJ ADV PUNCT ADJ ADV PUNCT DET ADJ NOUN PRON NOUN VERB PUNCT                                                                                                                      \n345  NUM ADJ NOUN VERB ADP DET NOUN ADP ADV VERB PUNCT ADP ADV VERB NOUN PUNCT ADV PROPN DET NOUN VERB PUNCT DET ADJ NOUN PUNCT VERB NOUN PUNCT NOUN PUNCT DET ADJ NOUN PUNCT DET ADJ ADJ NOUN PUNCT NOUN ADP NOUN PUNCT DET PROPN ADP NOUN PUNCT DET NOUN NOUN ADP DET PUNCT PROPN PROPN PUNCT CCONJ ADV PUNCT ADJ ADV PUNCT DET ADJ NOUN PRON NOUN VERB PUNCT                                                                                                                      \n350  DET NOUN VERB ADV ADP ADJ NOUN PUNCT PROPN PUNCT NUM PUNCT PUNCT NOUN ADP PROPN PUNCT NUM PUNCT PUNCT PROPN PROPN PROPN PROPN ADP PROPN PUNCT SYM PUNCT PUNCT ADP NOUN ADP DET ADJ NOUN ADP ADJ NOUN ADP PROPN PUNCT PROPN CCONJ PROPN PROPN PUNCT NUM PUNCT PUNCT PROPN ADP PROPN PUNCT NUM PUNCT PUNCT                                                                                                                                                                        \n351  DET NOUN VERB ADV ADP ADJ NOUN PUNCT PROPN PUNCT NUM PUNCT PUNCT NOUN ADP PROPN PUNCT NUM PUNCT PUNCT PROPN PROPN PROPN PROPN ADP PROPN PUNCT SYM PUNCT PUNCT ADP NOUN ADP DET ADJ NOUN ADP ADJ NOUN ADP PROPN PUNCT PROPN CCONJ PROPN PROPN PUNCT NUM PUNCT PUNCT PROPN ADP PROPN PUNCT NUM PUNCT PUNCT                                                                                                                                                                        \n352  DET NOUN VERB ADV ADP ADJ NOUN PUNCT PROPN PUNCT NUM PUNCT PUNCT NOUN ADP PROPN PUNCT NUM PUNCT PUNCT PROPN PROPN PROPN PROPN ADP PROPN PUNCT SYM PUNCT PUNCT ADP NOUN ADP DET ADJ NOUN ADP ADJ NOUN ADP PROPN PUNCT PROPN CCONJ PROPN PROPN PUNCT NUM PUNCT PUNCT PROPN ADP PROPN PUNCT NUM PUNCT PUNCT                                                                                                                                                                        \n359  ADV VERB ADP NUM DET ADJ NOUN ADP PUNCT PROPN PROPN PUNCT PUNCT VERB ADP DET NOUN ADP PROPN ADP DET NOUN PUNCT                                                                                                                                                                                                                                                                                                                                                                  \n380  PRON VERB SCONJ PROPN NUM NOUN AUX PUNCT ADP DET PROPN NOUN PUNCT                                                                                                                                                                                                                                                                                                                                                                                                               \n390  DET NOUN AUX ADP DET ADJ VERB ADP PUNCT DET PROPN PUNCT PUNCT NUM PUNCT PUNCT                                                                                                                                                                                                                                                                                                                                                                                                   \n408  DET VERB NOUN AUX PROPN ADV ADJ ADJ NOUN VERB PUNCT ADJ VERB ADP NOUN PRON PRON ADP NOUN ADV VERB AUX CCONJ ADV PRON ADV PRON ADJ NOUN ADP VERB PUNCT PUNCT PROPN PROPN PUNCT PUNCT NOUN ADP DET NOUN PROPN PROPN ADP PROPN PROPN CCONJ PROPN PUNCT PUNCT PUNCT PROPN PUNCT CCONJ PUNCT PROPN CCONJ PROPN PUNCT PUNCT PUNCT                                                                                                                                                     \n409  CCONJ ADV ADJ ADJ NOUN SCONJ PUNCT PROPN PUNCT PUNCT CCONJ PUNCT PROPN PUNCT PUNCT PUNCT PROPN PUNCT PUNCT                                                                                                                                                                                                                                                                                                                                                                      \n414  PROPN PUNCT                                                                                                                                                                                                                                                                                                                                                                                                                                                                     \n423  ADV NOUN PUNCT ADJ PROPN PUNCT ADV VERB NOUN PUNCT NOUN PUNCT NOUN CCONJ NOUN ADP DET ADJ NOUN VERB ADJ ADP PUNCT                                                                                                                                                                                                                                                                                                                                                               \n426  DET NOUN VERB ADV PRON ADP PROPN PUNCT                                                                                                                                                                                                                                                                                                                                                                                                                                          \n436  PUNCT PROPN PUNCT SYM                                                                                                                                                                                                                                                                                                                                                                                                                                                           \n443  DET NOUN VERB PRON ADV SCONJ DET PROPN PROPN ADV VERB AUX PUNCT                                                                                                                                                                                                                                                                                                                                                                                                                 \n444  DET NOUN VERB PRON ADV SCONJ DET PROPN PROPN ADV VERB AUX PUNCT                                                                                                                                                                                                                                                                                                                                                                                                                 ",
      "text/html": "<div>\n<style scoped>\n    .dataframe tbody tr th:only-of-type {\n        vertical-align: middle;\n    }\n\n    .dataframe tbody tr th {\n        vertical-align: top;\n    }\n\n    .dataframe thead th {\n        text-align: right;\n    }\n</style>\n<table border=\"1\" class=\"dataframe\">\n  <thead>\n    <tr style=\"text-align: right;\">\n      <th></th>\n      <th>predicted</th>\n      <th>actual</th>\n      <th>token</th>\n      <th>sentence</th>\n      <th>actual_tokens</th>\n    </tr>\n  </thead>\n  <tbody>\n    <tr>\n      <th>5</th>\n      <td>NOUN</td>\n      <td>PROPN</td>\n      <td>Zuid-Amerikanen</td>\n      <td>Saviola was bij de Zuid-Amerikanen met drie treffers de grote man .</td>\n      <td>PROPN AUX ADP DET PROPN ADP NUM NOUN DET ADJ NOUN PUNCT</td>\n    </tr>\n    <tr>\n      <th>12</th>\n      <td>NOUN</td>\n      <td>PROPN</td>\n      <td>Duitser</td>\n      <td>Het verschil was miniem , 0,07 punt op de Duitser Beerbaum , maar hanteerbaar .</td>\n      <td>DET NOUN AUX ADJ PUNCT NUM NOUN ADP DET PROPN PROPN PUNCT CCONJ ADJ PUNCT</td>\n    </tr>\n    <tr>\n      <th>19</th>\n      <td>NOUN</td>\n      <td>PROPN</td>\n      <td>Rabo's</td>\n      <td>Op het vlakke parcours in Nijmegen slaagden de Rabo's er niet in de regie van start tot finish te bepalen .</td>\n      <td>ADP DET ADJ NOUN ADP PROPN VERB DET PROPN PRON ADV ADP DET NOUN ADP NOUN ADP NOUN ADP VERB PUNCT</td>\n    </tr>\n    <tr>\n      <th>22</th>\n      <td>NOUN</td>\n      <td>PROPN</td>\n      <td>Rabo's</td>\n      <td>Bij het ingaan van de laatste kilometers was het lot van de Rabo's in feite al bezegeld .</td>\n      <td>ADP DET VERB ADP DET ADJ NOUN AUX DET NOUN ADP DET PROPN ADP NOUN ADV VERB PUNCT</td>\n    </tr>\n    <tr>\n      <th>25</th>\n      <td>NOUN</td>\n      <td>PROPN</td>\n      <td>Rabo's</td>\n      <td>Het leidde tot een ontsnapping van veertien man , met vier Rabo's , onder wie ook Michael Boogerd .</td>\n      <td>PRON VERB ADP DET NOUN ADP NUM NOUN PUNCT ADP NUM PROPN PUNCT ADP PRON ADV PROPN PROPN PUNCT</td>\n    </tr>\n    <tr>\n      <th>26</th>\n      <td>NOUN</td>\n      <td>PROPN</td>\n      <td>Boogerd</td>\n      <td>Boogerd zelf voelde na een korte rustperiode wel weer kruit in zijn kuiten .</td>\n      <td>PROPN ADV VERB ADP DET ADJ NOUN ADV ADV NOUN ADP PRON NOUN PUNCT</td>\n    </tr>\n    <tr>\n      <th>27</th>\n      <td>ADJ</td>\n      <td>PROPN</td>\n      <td>Boogerd</td>\n      <td>Boogerd leek de pure sprinters nog even te verrassen toen hij in de laatste bocht tien meter voorsprong nam .</td>\n      <td>PROPN VERB DET ADJ NOUN ADV ADV ADP VERB SCONJ PRON ADP DET ADJ NOUN NUM NOUN NOUN VERB PUNCT</td>\n    </tr>\n    <tr>\n      <th>30</th>\n      <td>ADJ</td>\n      <td>PROPN</td>\n      <td>Zuid</td>\n      <td>De Zuid Amerikaanse voetbalfederatie CSF heeft besloten de Copa America uit te stellen .</td>\n      <td>DET PROPN ADJ NOUN PROPN AUX VERB DET PROPN PROPN ADP ADP VERB PUNCT</td>\n    </tr>\n    <tr>\n      <th>50</th>\n      <td>NOUN</td>\n      <td>PROPN</td>\n      <td>WOW</td>\n      <td>De tijd is rijp , roept de folder van de eerste internationale bijeenkomst van Women's Ordination Worldwide ( WOW ) .</td>\n      <td>DET NOUN AUX ADJ PUNCT VERB DET NOUN ADP DET ADJ ADJ NOUN ADP X X X PUNCT PROPN PUNCT PUNCT</td>\n    </tr>\n    <tr>\n      <th>60</th>\n      <td>X</td>\n      <td>PROPN</td>\n      <td>Ad</td>\n      <td>In het Vaticaanse geschrift Ad tuendam fidem ( 1998 ) kregen critici van het absolute pauselijke ' nee ' tegen de vrouwelijke priester de wind van voren .</td>\n      <td>ADP DET ADJ NOUN PROPN PROPN PROPN PUNCT NUM PUNCT VERB NOUN ADP DET ADJ ADJ PUNCT INTJ PUNCT ADP DET ADJ NOUN DET NOUN ADP ADV PUNCT</td>\n    </tr>\n    <tr>\n      <th>61</th>\n      <td>X</td>\n      <td>PROPN</td>\n      <td>tuendam</td>\n      <td>In het Vaticaanse geschrift Ad tuendam fidem ( 1998 ) kregen critici van het absolute pauselijke ' nee ' tegen de vrouwelijke priester de wind van voren .</td>\n      <td>ADP DET ADJ NOUN PROPN PROPN PROPN PUNCT NUM PUNCT VERB NOUN ADP DET ADJ ADJ PUNCT INTJ PUNCT ADP DET ADJ NOUN DET NOUN ADP ADV PUNCT</td>\n    </tr>\n    <tr>\n      <th>62</th>\n      <td>X</td>\n      <td>PROPN</td>\n      <td>fidem</td>\n      <td>In het Vaticaanse geschrift Ad tuendam fidem ( 1998 ) kregen critici van het absolute pauselijke ' nee ' tegen de vrouwelijke priester de wind van voren .</td>\n      <td>ADP DET ADJ NOUN PROPN PROPN PROPN PUNCT NUM PUNCT VERB NOUN ADP DET ADJ ADJ PUNCT INTJ PUNCT ADP DET ADJ NOUN DET NOUN ADP ADV PUNCT</td>\n    </tr>\n    <tr>\n      <th>73</th>\n      <td>CCONJ</td>\n      <td>PROPN</td>\n      <td>en</td>\n      <td>Een 24-jarige technisch medewerker van de Achterhoekse popgroep Jovink en de Voederbietels is zaterdagavond in Borculo bij het opbouwen van de lichtinstallatie om het leven gekomen .</td>\n      <td>DET ADJ ADJ NOUN ADP DET ADJ NOUN PROPN PROPN PROPN PROPN AUX NOUN ADP PROPN ADP DET VERB ADP DET NOUN ADP DET NOUN VERB PUNCT</td>\n    </tr>\n    <tr>\n      <th>74</th>\n      <td>DET</td>\n      <td>PROPN</td>\n      <td>de</td>\n      <td>Een 24-jarige technisch medewerker van de Achterhoekse popgroep Jovink en de Voederbietels is zaterdagavond in Borculo bij het opbouwen van de lichtinstallatie om het leven gekomen .</td>\n      <td>DET ADJ ADJ NOUN ADP DET ADJ NOUN PROPN PROPN PROPN PROPN AUX NOUN ADP PROPN ADP DET VERB ADP DET NOUN ADP DET NOUN VERB PUNCT</td>\n    </tr>\n    <tr>\n      <th>75</th>\n      <td>NOUN</td>\n      <td>PROPN</td>\n      <td>Voederbietels</td>\n      <td>Een 24-jarige technisch medewerker van de Achterhoekse popgroep Jovink en de Voederbietels is zaterdagavond in Borculo bij het opbouwen van de lichtinstallatie om het leven gekomen .</td>\n      <td>DET ADJ ADJ NOUN ADP DET ADJ NOUN PROPN PROPN PROPN PROPN AUX NOUN ADP PROPN ADP DET VERB ADP DET NOUN ADP DET NOUN VERB PUNCT</td>\n    </tr>\n    <tr>\n      <th>90</th>\n      <td>NOUN</td>\n      <td>PROPN</td>\n      <td>Schreuders</td>\n      <td>Schreuders vormde tientallen jaren het gezicht van de CPN in Utrecht .</td>\n      <td>PROPN VERB NOUN NOUN DET NOUN ADP DET PROPN ADP PROPN PUNCT</td>\n    </tr>\n    <tr>\n      <th>91</th>\n      <td>NOUN</td>\n      <td>PROPN</td>\n      <td>Schreuders</td>\n      <td>Schreuders , van beroep verwarmingsmonteur , overleed na een langdurig ziekbed .</td>\n      <td>PROPN PUNCT ADP NOUN NOUN PUNCT VERB ADP DET ADJ NOUN PUNCT</td>\n    </tr>\n    <tr>\n      <th>112</th>\n      <td>ADJ</td>\n      <td>PROPN</td>\n      <td>Europese</td>\n      <td>De Europese Commissie verwerpt de fusie .</td>\n      <td>DET PROPN PROPN VERB DET NOUN PUNCT</td>\n    </tr>\n    <tr>\n      <th>113</th>\n      <td>NOUN</td>\n      <td>PROPN</td>\n      <td>Commissie</td>\n      <td>De Europese Commissie verwerpt de fusie .</td>\n      <td>DET PROPN PROPN VERB DET NOUN PUNCT</td>\n    </tr>\n    <tr>\n      <th>116</th>\n      <td>ADJ</td>\n      <td>PROPN</td>\n      <td>Europese</td>\n      <td>Honeywell bood GE aan dat dit concern minder hoeft te betalen voor Honeywell als het bepaalde onderdelen afstoot zoals de Europese Commissie graag wil .</td>\n      <td>PROPN VERB PROPN ADP SCONJ DET NOUN PRON VERB ADP VERB ADP PROPN SCONJ PRON VERB NOUN VERB SCONJ DET PROPN PROPN ADV VERB PUNCT</td>\n    </tr>\n    <tr>\n      <th>117</th>\n      <td>NOUN</td>\n      <td>PROPN</td>\n      <td>Commissie</td>\n      <td>Honeywell bood GE aan dat dit concern minder hoeft te betalen voor Honeywell als het bepaalde onderdelen afstoot zoals de Europese Commissie graag wil .</td>\n      <td>PROPN VERB PROPN ADP SCONJ DET NOUN PRON VERB ADP VERB ADP PROPN SCONJ PRON VERB NOUN VERB SCONJ DET PROPN PROPN ADV VERB PUNCT</td>\n    </tr>\n    <tr>\n      <th>122</th>\n      <td>ADJ</td>\n      <td>PROPN</td>\n      <td>Dwaze</td>\n      <td>Hackers hebben de harde schijven van computers van de Argentijnse Dwaze Moeders vernietigd .</td>\n      <td>NOUN AUX DET ADJ NOUN ADP NOUN ADP DET ADJ PROPN PROPN VERB PUNCT</td>\n    </tr>\n    <tr>\n      <th>123</th>\n      <td>NOUN</td>\n      <td>PROPN</td>\n      <td>Moeders</td>\n      <td>Hackers hebben de harde schijven van computers van de Argentijnse Dwaze Moeders vernietigd .</td>\n      <td>NOUN AUX DET ADJ NOUN ADP NOUN ADP DET ADJ PROPN PROPN VERB PUNCT</td>\n    </tr>\n    <tr>\n      <th>130</th>\n      <td>NOUN</td>\n      <td>PROPN</td>\n      <td>WK</td>\n      <td>Nederland sloot het evenement als negende af en plaatste zich niet voor het WK .</td>\n      <td>PROPN VERB DET NOUN ADP ADJ ADP CCONJ VERB PRON ADV ADP DET PROPN PUNCT</td>\n    </tr>\n    <tr>\n      <th>131</th>\n      <td>NOUN</td>\n      <td>PROPN</td>\n      <td>WK</td>\n      <td>Het Nederlands cricketteam heeft de openingswedstrijd in de ICC Trophy , het WK voor B-landen , winnend afgesloten .</td>\n      <td>DET ADJ NOUN AUX DET NOUN ADP DET PROPN PROPN PUNCT DET PROPN ADP PROPN PUNCT VERB VERB PUNCT</td>\n    </tr>\n    <tr>\n      <th>132</th>\n      <td>NOUN</td>\n      <td>PROPN</td>\n      <td>B-landen</td>\n      <td>Het Nederlands cricketteam heeft de openingswedstrijd in de ICC Trophy , het WK voor B-landen , winnend afgesloten .</td>\n      <td>DET ADJ NOUN AUX DET NOUN ADP DET PROPN PROPN PUNCT DET PROPN ADP PROPN PUNCT VERB VERB PUNCT</td>\n    </tr>\n    <tr>\n      <th>134</th>\n      <td>NOUN</td>\n      <td>PROPN</td>\n      <td>Duitser</td>\n      <td>De Duitser zegevierde in de Grote Prijs van Frankrijk .</td>\n      <td>DET PROPN VERB ADP DET ADJ NOUN ADP PROPN PUNCT</td>\n    </tr>\n    <tr>\n      <th>138</th>\n      <td>NOUN</td>\n      <td>PROPN</td>\n      <td>Warners</td>\n      <td>Warners , Wassenaar en Valkenburg eindigden met 23.125 punten als tweede in de eerste liga achter Oostenrijk ( 23.654 ) .</td>\n      <td>PROPN PUNCT PROPN CCONJ PROPN VERB ADP NUM NOUN ADP ADJ ADP DET ADJ NOUN ADP PROPN PUNCT NUM PUNCT PUNCT</td>\n    </tr>\n    <tr>\n      <th>139</th>\n      <td>NOUN</td>\n      <td>PROPN</td>\n      <td>WK</td>\n      <td>Individueel won Warners de tienkamp met 8206 punten , boven de richtprestatie voor de WK in Edmonton ( 8150 ) .</td>\n      <td>ADJ VERB PROPN DET NOUN ADP NUM NOUN PUNCT ADP DET NOUN ADP DET PROPN ADP PROPN PUNCT NUM PUNCT PUNCT</td>\n    </tr>\n    <tr>\n      <th>140</th>\n      <td>NOUN</td>\n      <td>PROPN</td>\n      <td>Duitser</td>\n      <td>De Zeeuwse biljarter versloeg in de finale in Duisburg de Duitser Fabian Blondeel .</td>\n      <td>DET ADJ NOUN VERB ADP DET NOUN ADP PROPN DET PROPN PROPN PROPN PUNCT</td>\n    </tr>\n    <tr>\n      <th>145</th>\n      <td>DET</td>\n      <td>PROPN</td>\n      <td>De</td>\n      <td>Cees Vervoorn en Hans Elzerman , oud-trainers van De Dolfijn , richtten met Michiel Bloem de Stichting Topzwemmen Amsterdam ( STA ) op .</td>\n      <td>PROPN PROPN CCONJ PROPN PROPN PUNCT NOUN ADP PROPN PROPN PUNCT VERB ADP PROPN PROPN DET NOUN VERB PROPN PUNCT PROPN PUNCT ADP PUNCT</td>\n    </tr>\n    <tr>\n      <th>147</th>\n      <td>NOUN</td>\n      <td>PROPN</td>\n      <td>STA</td>\n      <td>Cees Vervoorn en Hans Elzerman , oud-trainers van De Dolfijn , richtten met Michiel Bloem de Stichting Topzwemmen Amsterdam ( STA ) op .</td>\n      <td>PROPN PROPN CCONJ PROPN PROPN PUNCT NOUN ADP PROPN PROPN PUNCT VERB ADP PROPN PROPN DET NOUN VERB PROPN PUNCT PROPN PUNCT ADP PUNCT</td>\n    </tr>\n    <tr>\n      <th>154</th>\n      <td>NOUN</td>\n      <td>PROPN</td>\n      <td>WK</td>\n      <td>Maar de operatie moet wachten , tot na het WK in november in Taiwan .</td>\n      <td>CCONJ DET NOUN AUX VERB PUNCT ADP ADP DET PROPN ADP PROPN ADP PROPN PUNCT</td>\n    </tr>\n    <tr>\n      <th>157</th>\n      <td>NOUN</td>\n      <td>PROPN</td>\n      <td>Italianen</td>\n      <td>Het trio doorkruiste op 3 - 3 in de zevende slagbeurt een tactisch spelletje van de Italianen .</td>\n      <td>DET NOUN VERB ADP NUM SYM NUM ADP DET ADJ NOUN DET ADJ NOUN ADP DET PROPN PUNCT</td>\n    </tr>\n    <tr>\n      <th>158</th>\n      <td>NOUN</td>\n      <td>PROPN</td>\n      <td>Italianen</td>\n      <td>Jim Davenport , de 61-jarige Amerikaanse coach van de Italianen en opgevoed bij de San Francisco Giants , stuurde de linkshander Masin naar de heuvel met de opdracht Van 't Klooster uit te schakelen .</td>\n      <td>PROPN PROPN PUNCT DET ADJ ADJ NOUN ADP DET PROPN CCONJ VERB ADP DET PROPN PROPN PROPN PUNCT VERB DET NOUN PROPN ADP DET NOUN ADP DET NOUN PROPN PROPN PROPN ADP ADP VERB PUNCT</td>\n    </tr>\n    <tr>\n      <th>159</th>\n      <td>DET</td>\n      <td>PROPN</td>\n      <td>'t</td>\n      <td>Jim Davenport , de 61-jarige Amerikaanse coach van de Italianen en opgevoed bij de San Francisco Giants , stuurde de linkshander Masin naar de heuvel met de opdracht Van 't Klooster uit te schakelen .</td>\n      <td>PROPN PROPN PUNCT DET ADJ ADJ NOUN ADP DET PROPN CCONJ VERB ADP DET PROPN PROPN PROPN PUNCT VERB DET NOUN PROPN ADP DET NOUN ADP DET NOUN PROPN PROPN PROPN ADP ADP VERB PUNCT</td>\n    </tr>\n    <tr>\n      <th>160</th>\n      <td>NOUN</td>\n      <td>PROPN</td>\n      <td>Gumbs</td>\n      <td>Gumbs en Balentina sloegen Van 't Klooster en Milliard over de thuisplaat ( 5 - 3 ) .</td>\n      <td>PROPN CCONJ PROPN VERB PROPN PROPN PROPN CCONJ PROPN ADP DET NOUN PUNCT NUM SYM NUM PUNCT PUNCT</td>\n    </tr>\n    <tr>\n      <th>162</th>\n      <td>NOUN</td>\n      <td>PROPN</td>\n      <td>Italianen</td>\n      <td>De Italianen produceerden 16 honkslagen maar scoorden slechts 4 keer .</td>\n      <td>DET PROPN VERB NUM NOUN CCONJ VERB ADV NUM NOUN PUNCT</td>\n    </tr>\n    <tr>\n      <th>163</th>\n      <td>NOUN</td>\n      <td>PROPN</td>\n      <td>Italianen</td>\n      <td>De Italianen moesten voor elk punt knokken .</td>\n      <td>DET PROPN AUX ADP DET NOUN VERB PUNCT</td>\n    </tr>\n    <tr>\n      <th>173</th>\n      <td>NOUN</td>\n      <td>PROPN</td>\n      <td>Zuid-Amerikanen</td>\n      <td>Mochten de Zuid-Amerikanen niet aan de voorwaarden voor de organisatie kunnen voldoen , dan gaat de finale naar Spanje .</td>\n      <td>AUX DET PROPN ADV ADP DET NOUN ADP DET NOUN AUX VERB PUNCT ADV VERB DET NOUN ADP PROPN PUNCT</td>\n    </tr>\n    <tr>\n      <th>176</th>\n      <td>ADV</td>\n      <td>PROPN</td>\n      <td>Delmee</td>\n      <td>Delmee : ,, Misschien moeten we wel toe naar een tactiek met twee spelsystemen .</td>\n      <td>PROPN PUNCT PUNCT ADV VERB PRON ADV ADP ADP DET NOUN ADP NUM NOUN PUNCT</td>\n    </tr>\n    <tr>\n      <th>178</th>\n      <td>NOUN</td>\n      <td>PROPN</td>\n      <td>Lurling</td>\n      <td>Lurling was in de 51ste minuut succesvol .</td>\n      <td>PROPN AUX ADP DET ADJ NOUN ADJ PUNCT</td>\n    </tr>\n    <tr>\n      <th>188</th>\n      <td>ADJ</td>\n      <td>PROPN</td>\n      <td>Jong</td>\n      <td>Sebastian Luyten : voorzitter Jong N-VA</td>\n      <td>PROPN PROPN PUNCT NOUN PROPN PROPN</td>\n    </tr>\n    <tr>\n      <th>189</th>\n      <td>ADJ</td>\n      <td>PROPN</td>\n      <td>Jong</td>\n      <td>Jong N-VA , de jongerenafdeling van de N-VA</td>\n      <td>PROPN PROPN PUNCT DET NOUN ADP DET PROPN</td>\n    </tr>\n    <tr>\n      <th>192</th>\n      <td>NOUN</td>\n      <td>PROPN</td>\n      <td>Laffer-curve</td>\n      <td>Op economisch vlak willen ze de belastingen , volgens de theorie van de Laffer-curve brengen naar een optimum , eventueel via een vervlakking van het belastingsstelsel en gaat men meer naar een ethisch gecorrigeerde aanbodeconomie , maar vooral de belasting op arbeid moet , volgens het N-VA-programma drastisch verlaagd te worden , omdat deze in België een van de hoogste is van de niet-communistische landen .</td>\n      <td>ADP ADJ NOUN VERB PRON DET NOUN PUNCT ADP DET NOUN ADP DET PROPN VERB ADP DET NOUN PUNCT ADJ ADP DET NOUN ADP DET NOUN CCONJ VERB PRON ADV ADP DET ADJ VERB NOUN PUNCT CCONJ ADV DET NOUN ADP NOUN AUX PUNCT ADP DET NOUN ADJ VERB ADP AUX PUNCT SCONJ PRON ADP PROPN NUM ADP DET ADJ AUX ADP DET ADJ NOUN PUNCT</td>\n    </tr>\n    <tr>\n      <th>197</th>\n      <td>X</td>\n      <td>PROPN</td>\n      <td>Compassionate</td>\n      <td>Algemeen kan je de N-VA centrum- rechts beschouwen , maar velen binnen N-VA gaan zich eerder centrum noemen , maar algemeen is de onderstroom en ligt het programma bij een sociaal , rechtse stroom , men kan de partij ook linken aan het Paleoconservatisme , en het « Compassionate Conservatism » , waar eigen responsabiliteit enorm belangrijk is in een gedachtevorming , « eigen verantwoordelijkheid , met respect voor de gemeenschap , voor het milieu » , dat is een belangrijk woordgebruik in het N-VA-programma ; men kan de partij ook wel een liberaal-conservatieve aard aanmeten .</td>\n      <td>ADJ AUX PRON DET PROPN X ADJ VERB PUNCT CCONJ PRON ADP PROPN VERB PRON ADJ NOUN VERB PUNCT CCONJ ADJ VERB DET NOUN CCONJ VERB DET NOUN ADP DET ADJ PUNCT ADJ NOUN PUNCT PRON AUX DET NOUN ADV VERB ADP DET NOUN PUNCT CCONJ DET PUNCT PROPN PROPN PUNCT PUNCT ADV ADJ NOUN ADJ ADJ AUX ADP DET NOUN PUNCT PUNCT ADJ NOUN PUNCT ADP NOUN ADP DET NOUN PUNCT ADP DET NOUN PUNCT PUNCT PRON AUX DET ADJ NOUN ADP DET NOUN PUNCT PRON AUX DET NOUN ADV ADV DET ADJ NOUN VERB PUNCT</td>\n    </tr>\n    <tr>\n      <th>198</th>\n      <td>X</td>\n      <td>PROPN</td>\n      <td>Conservatism</td>\n      <td>Algemeen kan je de N-VA centrum- rechts beschouwen , maar velen binnen N-VA gaan zich eerder centrum noemen , maar algemeen is de onderstroom en ligt het programma bij een sociaal , rechtse stroom , men kan de partij ook linken aan het Paleoconservatisme , en het « Compassionate Conservatism » , waar eigen responsabiliteit enorm belangrijk is in een gedachtevorming , « eigen verantwoordelijkheid , met respect voor de gemeenschap , voor het milieu » , dat is een belangrijk woordgebruik in het N-VA-programma ; men kan de partij ook wel een liberaal-conservatieve aard aanmeten .</td>\n      <td>ADJ AUX PRON DET PROPN X ADJ VERB PUNCT CCONJ PRON ADP PROPN VERB PRON ADJ NOUN VERB PUNCT CCONJ ADJ VERB DET NOUN CCONJ VERB DET NOUN ADP DET ADJ PUNCT ADJ NOUN PUNCT PRON AUX DET NOUN ADV VERB ADP DET NOUN PUNCT CCONJ DET PUNCT PROPN PROPN PUNCT PUNCT ADV ADJ NOUN ADJ ADJ AUX ADP DET NOUN PUNCT PUNCT ADJ NOUN PUNCT ADP NOUN ADP DET NOUN PUNCT ADP DET NOUN PUNCT PUNCT PRON AUX DET ADJ NOUN ADP DET NOUN PUNCT PRON AUX DET NOUN ADV ADV DET ADJ NOUN VERB PUNCT</td>\n    </tr>\n    <tr>\n      <th>212</th>\n      <td>NOUN</td>\n      <td>PROPN</td>\n      <td>Kasteel</td>\n      <td>Kastelen : Sint-Michielskasteel , Kasteel Lombaardstein , Kasteel Fruitenborg , Kasteel Zorgvliet , Kasteel Rozenhout</td>\n      <td>NOUN PUNCT PROPN PUNCT PROPN PROPN PUNCT PROPN PROPN PUNCT PROPN PROPN PUNCT PROPN PROPN</td>\n    </tr>\n    <tr>\n      <th>213</th>\n      <td>NOUN</td>\n      <td>PROPN</td>\n      <td>Kasteel</td>\n      <td>Kastelen : Sint-Michielskasteel , Kasteel Lombaardstein , Kasteel Fruitenborg , Kasteel Zorgvliet , Kasteel Rozenhout</td>\n      <td>NOUN PUNCT PROPN PUNCT PROPN PROPN PUNCT PROPN PROPN PUNCT PROPN PROPN PUNCT PROPN PROPN</td>\n    </tr>\n    <tr>\n      <th>214</th>\n      <td>NOUN</td>\n      <td>PROPN</td>\n      <td>Kasteel</td>\n      <td>Kastelen : Sint-Michielskasteel , Kasteel Lombaardstein , Kasteel Fruitenborg , Kasteel Zorgvliet , Kasteel Rozenhout</td>\n      <td>NOUN PUNCT PROPN PUNCT PROPN PROPN PUNCT PROPN PROPN PUNCT PROPN PROPN PUNCT PROPN PROPN</td>\n    </tr>\n    <tr>\n      <th>215</th>\n      <td>NOUN</td>\n      <td>PROPN</td>\n      <td>Kasteel</td>\n      <td>Kastelen : Sint-Michielskasteel , Kasteel Lombaardstein , Kasteel Fruitenborg , Kasteel Zorgvliet , Kasteel Rozenhout</td>\n      <td>NOUN PUNCT PROPN PUNCT PROPN PROPN PUNCT PROPN PROPN PUNCT PROPN PROPN PUNCT PROPN PROPN</td>\n    </tr>\n    <tr>\n      <th>240</th>\n      <td>NOUN</td>\n      <td>PROPN</td>\n      <td>Aswoensdag</td>\n      <td>Aswoensdag op www.katholieknederland.nl</td>\n      <td>PROPN ADP SYM</td>\n    </tr>\n    <tr>\n      <th>241</th>\n      <td>NOUN</td>\n      <td>PROPN</td>\n      <td>Uitgeverij</td>\n      <td>« Eigen volk eerst » , Uitgeverij TYR , 1989 .</td>\n      <td>PUNCT ADJ NOUN ADV PUNCT PUNCT PROPN PROPN PUNCT NUM PUNCT</td>\n    </tr>\n    <tr>\n      <th>242</th>\n      <td>NOUN</td>\n      <td>PROPN</td>\n      <td>Uitgeverij</td>\n      <td>- Antwoord aan Paula D'Hondt » , Uitgeverij TYR , 1991 .</td>\n      <td>PUNCT NOUN ADP PROPN PROPN PUNCT PUNCT PROPN PROPN PUNCT NUM PUNCT</td>\n    </tr>\n    <tr>\n      <th>246</th>\n      <td>NOUN</td>\n      <td>PROPN</td>\n      <td>Uitgeverij</td>\n      <td>« Een tegen Allen - Opkomst van het Vlaams Blok » , Uitgeverij TYR , 1993 .</td>\n      <td>PUNCT DET ADP PRON SYM NOUN ADP DET ADJ NOUN PUNCT PUNCT PROPN PROPN PUNCT NUM PUNCT</td>\n    </tr>\n    <tr>\n      <th>248</th>\n      <td>NOUN</td>\n      <td>PROPN</td>\n      <td>Uitgeverij</td>\n      <td>« Immigratie : De tijdbom tikt » , Uitgeverij TYR , 1996 .</td>\n      <td>PUNCT NOUN SYM DET NOUN VERB PUNCT PUNCT PROPN PROPN PUNCT NUM PUNCT</td>\n    </tr>\n    <tr>\n      <th>295</th>\n      <td>NOUN</td>\n      <td>PROPN</td>\n      <td>Amerikanen</td>\n      <td>Amerikanen waren de boeven in « De geheimzinnige ster » , die verscheen onder het toeziend oog van de Duitse bezetter , waardoor hem soms ook collaboratie met de nazi's in de schoenen geschoven wordt .</td>\n      <td>PROPN AUX DET NOUN ADP PUNCT DET ADJ NOUN PUNCT PUNCT PRON VERB ADP DET VERB NOUN ADP DET ADJ NOUN PUNCT ADV PRON ADV ADV NOUN ADP DET NOUN ADP DET NOUN VERB AUX PUNCT</td>\n    </tr>\n    <tr>\n      <th>303</th>\n      <td>DET</td>\n      <td>PROPN</td>\n      <td>De</td>\n      <td>Hergé raakte in een politiek conflict betrokken toen hij het ware verhaal van de aanval van Japan op China in het Kuifje-album « De Blauwe Lotus » probeerde te vertellen .</td>\n      <td>PROPN VERB ADP DET ADJ NOUN VERB SCONJ PRON DET ADJ NOUN ADP DET NOUN ADP PROPN ADP PROPN ADP DET NOUN PUNCT PROPN PROPN PROPN PUNCT VERB ADP VERB PUNCT</td>\n    </tr>\n    <tr>\n      <th>304</th>\n      <td>ADJ</td>\n      <td>PROPN</td>\n      <td>Blauwe</td>\n      <td>Hergé raakte in een politiek conflict betrokken toen hij het ware verhaal van de aanval van Japan op China in het Kuifje-album « De Blauwe Lotus » probeerde te vertellen .</td>\n      <td>PROPN VERB ADP DET ADJ NOUN VERB SCONJ PRON DET ADJ NOUN ADP DET NOUN ADP PROPN ADP PROPN ADP DET NOUN PUNCT PROPN PROPN PROPN PUNCT VERB ADP VERB PUNCT</td>\n    </tr>\n    <tr>\n      <th>305</th>\n      <td>NOUN</td>\n      <td>PROPN</td>\n      <td>Lotus</td>\n      <td>Hergé raakte in een politiek conflict betrokken toen hij het ware verhaal van de aanval van Japan op China in het Kuifje-album « De Blauwe Lotus » probeerde te vertellen .</td>\n      <td>PROPN VERB ADP DET ADJ NOUN VERB SCONJ PRON DET ADJ NOUN ADP DET NOUN ADP PROPN ADP PROPN ADP DET NOUN PUNCT PROPN PROPN PROPN PUNCT VERB ADP VERB PUNCT</td>\n    </tr>\n    <tr>\n      <th>306</th>\n      <td>DET</td>\n      <td>PROPN</td>\n      <td>De</td>\n      <td>« De Blauwe Lotus » is een keerpunt in de ontwikkeling van Kuifje .</td>\n      <td>PUNCT PROPN PROPN PROPN PUNCT AUX DET NOUN ADP DET NOUN ADP PROPN PUNCT</td>\n    </tr>\n    <tr>\n      <th>307</th>\n      <td>ADJ</td>\n      <td>PROPN</td>\n      <td>Blauwe</td>\n      <td>« De Blauwe Lotus » is een keerpunt in de ontwikkeling van Kuifje .</td>\n      <td>PUNCT PROPN PROPN PROPN PUNCT AUX DET NOUN ADP DET NOUN ADP PROPN PUNCT</td>\n    </tr>\n    <tr>\n      <th>308</th>\n      <td>NOUN</td>\n      <td>PROPN</td>\n      <td>Lotus</td>\n      <td>« De Blauwe Lotus » is een keerpunt in de ontwikkeling van Kuifje .</td>\n      <td>PUNCT PROPN PROPN PROPN PUNCT AUX DET NOUN ADP DET NOUN ADP PROPN PUNCT</td>\n    </tr>\n    <tr>\n      <th>314</th>\n      <td>NOUN</td>\n      <td>PROPN</td>\n      <td>Man</td>\n      <td>Uit die periode dateert \" Golfbreker te Oostende \" ( 1878 ) , \" Naakte jongen \" ( 1878 ) , \" Polderlandschap \" ( 1878 ) , \" Man met de gewonde arm \" ( begin 1879 ) , \" Zelfportret \" ( 1879 ) , \" Het meisje met de wipneus \" ( 1879 ) en \" Ensor voor de schildersezel \" ( 1879 ) .</td>\n      <td>ADP DET NOUN VERB PUNCT NOUN ADP PROPN PUNCT PUNCT NUM PUNCT PUNCT PUNCT ADJ NOUN PUNCT PUNCT NUM PUNCT PUNCT PUNCT NOUN PUNCT PUNCT NUM PUNCT PUNCT PUNCT PROPN ADP DET ADJ NOUN PUNCT PUNCT NOUN NUM PUNCT PUNCT PUNCT NOUN PUNCT PUNCT NUM PUNCT PUNCT PUNCT DET NOUN ADP DET NOUN PUNCT PUNCT NUM PUNCT CCONJ PUNCT PROPN ADP DET NOUN PUNCT PUNCT NUM PUNCT PUNCT</td>\n    </tr>\n    <tr>\n      <th>316</th>\n      <td>X</td>\n      <td>PROPN</td>\n      <td>Les</td>\n      <td>Les vingt</td>\n      <td>PROPN PROPN</td>\n    </tr>\n    <tr>\n      <th>317</th>\n      <td>X</td>\n      <td>PROPN</td>\n      <td>vingt</td>\n      <td>Les vingt</td>\n      <td>PROPN PROPN</td>\n    </tr>\n    <tr>\n      <th>320</th>\n      <td>ADP</td>\n      <td>PROPN</td>\n      <td>voor</td>\n      <td>\" De oestereetster \" werd trouwens 20 jaar later aangekocht door het Museum voor Schone Kunsten te Antwerpen , op het Triënnale Salon van 1904 .</td>\n      <td>PUNCT DET NOUN PUNCT AUX ADV NUM NOUN ADJ VERB ADP DET PROPN PROPN PROPN PROPN ADP PROPN PUNCT ADP DET ADJ NOUN ADP NUM PUNCT</td>\n    </tr>\n    <tr>\n      <th>344</th>\n      <td>X</td>\n      <td>PROPN</td>\n      <td>Fanfares</td>\n      <td>Duizenden groteske figuren komen uit de achtergrond naar voren gestroomd , met vooraan gemaskerde personages , waarmee Ensor de spot drijft : de verwaande rechter , grijnzende militairen , vissersvrouwen , de zelfvoldane burgerij , een bespottelijk verliefd koppeltje , dokter met tovenaarshoed , de Dood in frak , een stel muzikanten van de \" Fanfares doctrinaires \" en tenslotte , gans vooraan , een pompeuze bisschop die tamboer-majoor speelt .</td>\n      <td>NUM ADJ NOUN VERB ADP DET NOUN ADP ADV VERB PUNCT ADP ADV VERB NOUN PUNCT ADV PROPN DET NOUN VERB PUNCT DET ADJ NOUN PUNCT VERB NOUN PUNCT NOUN PUNCT DET ADJ NOUN PUNCT DET ADJ ADJ NOUN PUNCT NOUN ADP NOUN PUNCT DET PROPN ADP NOUN PUNCT DET NOUN NOUN ADP DET PUNCT PROPN PROPN PUNCT CCONJ ADV PUNCT ADJ ADV PUNCT DET ADJ NOUN PRON NOUN VERB PUNCT</td>\n    </tr>\n    <tr>\n      <th>345</th>\n      <td>X</td>\n      <td>PROPN</td>\n      <td>doctrinaires</td>\n      <td>Duizenden groteske figuren komen uit de achtergrond naar voren gestroomd , met vooraan gemaskerde personages , waarmee Ensor de spot drijft : de verwaande rechter , grijnzende militairen , vissersvrouwen , de zelfvoldane burgerij , een bespottelijk verliefd koppeltje , dokter met tovenaarshoed , de Dood in frak , een stel muzikanten van de \" Fanfares doctrinaires \" en tenslotte , gans vooraan , een pompeuze bisschop die tamboer-majoor speelt .</td>\n      <td>NUM ADJ NOUN VERB ADP DET NOUN ADP ADV VERB PUNCT ADP ADV VERB NOUN PUNCT ADV PROPN DET NOUN VERB PUNCT DET ADJ NOUN PUNCT VERB NOUN PUNCT NOUN PUNCT DET ADJ NOUN PUNCT DET ADJ ADJ NOUN PUNCT NOUN ADP NOUN PUNCT DET PROPN ADP NOUN PUNCT DET NOUN NOUN ADP DET PUNCT PROPN PROPN PUNCT CCONJ ADV PUNCT ADJ ADV PUNCT DET ADJ NOUN PRON NOUN VERB PUNCT</td>\n    </tr>\n    <tr>\n      <th>350</th>\n      <td>NOUN</td>\n      <td>PROPN</td>\n      <td>Museum</td>\n      <td>Het doek hing dan op verschillende plaatsen : Venetië ( 1950 ) , Casino van Knokke ( 1971 ) , Museum voor Schone Kunsten te Oostende ( 1977-1978 ) , in bruikleen aan het Koninklijk Museum voor Schone Kunsten te Antwerpen , Chicago en New York ( 1976 ) , Künsthaus te Zürich ( 1983 ) .</td>\n      <td>DET NOUN VERB ADV ADP ADJ NOUN PUNCT PROPN PUNCT NUM PUNCT PUNCT NOUN ADP PROPN PUNCT NUM PUNCT PUNCT PROPN PROPN PROPN PROPN ADP PROPN PUNCT SYM PUNCT PUNCT ADP NOUN ADP DET ADJ NOUN ADP ADJ NOUN ADP PROPN PUNCT PROPN CCONJ PROPN PROPN PUNCT NUM PUNCT PUNCT PROPN ADP PROPN PUNCT NUM PUNCT PUNCT</td>\n    </tr>\n    <tr>\n      <th>351</th>\n      <td>ADP</td>\n      <td>PROPN</td>\n      <td>voor</td>\n      <td>Het doek hing dan op verschillende plaatsen : Venetië ( 1950 ) , Casino van Knokke ( 1971 ) , Museum voor Schone Kunsten te Oostende ( 1977-1978 ) , in bruikleen aan het Koninklijk Museum voor Schone Kunsten te Antwerpen , Chicago en New York ( 1976 ) , Künsthaus te Zürich ( 1983 ) .</td>\n      <td>DET NOUN VERB ADV ADP ADJ NOUN PUNCT PROPN PUNCT NUM PUNCT PUNCT NOUN ADP PROPN PUNCT NUM PUNCT PUNCT PROPN PROPN PROPN PROPN ADP PROPN PUNCT SYM PUNCT PUNCT ADP NOUN ADP DET ADJ NOUN ADP ADJ NOUN ADP PROPN PUNCT PROPN CCONJ PROPN PROPN PUNCT NUM PUNCT PUNCT PROPN ADP PROPN PUNCT NUM PUNCT PUNCT</td>\n    </tr>\n    <tr>\n      <th>352</th>\n      <td>NOUN</td>\n      <td>PROPN</td>\n      <td>Kunsten</td>\n      <td>Het doek hing dan op verschillende plaatsen : Venetië ( 1950 ) , Casino van Knokke ( 1971 ) , Museum voor Schone Kunsten te Oostende ( 1977-1978 ) , in bruikleen aan het Koninklijk Museum voor Schone Kunsten te Antwerpen , Chicago en New York ( 1976 ) , Künsthaus te Zürich ( 1983 ) .</td>\n      <td>DET NOUN VERB ADV ADP ADJ NOUN PUNCT PROPN PUNCT NUM PUNCT PUNCT NOUN ADP PROPN PUNCT NUM PUNCT PUNCT PROPN PROPN PROPN PROPN ADP PROPN PUNCT SYM PUNCT PUNCT ADP NOUN ADP DET ADJ NOUN ADP ADJ NOUN ADP PROPN PUNCT PROPN CCONJ PROPN PROPN PUNCT NUM PUNCT PUNCT PROPN ADP PROPN PUNCT NUM PUNCT PUNCT</td>\n    </tr>\n    <tr>\n      <th>359</th>\n      <td>X</td>\n      <td>PROPN</td>\n      <td>plume</td>\n      <td>Toch verschijnt in 1899 een speciaal nummer van \" La plume \" , gewijd aan de werken van Ensor op deze tentoonstelling .</td>\n      <td>ADV VERB ADP NUM DET ADJ NOUN ADP PUNCT PROPN PROPN PUNCT PUNCT VERB ADP DET NOUN ADP PROPN ADP DET NOUN PUNCT</td>\n    </tr>\n    <tr>\n      <th>380</th>\n      <td>ADJ</td>\n      <td>PROPN</td>\n      <td>Chinees</td>\n      <td>Ze trouwde toen Ensor 32 jaar was , met een Chinees handelaar .</td>\n      <td>PRON VERB SCONJ PROPN NUM NOUN AUX PUNCT ADP DET PROPN NOUN PUNCT</td>\n    </tr>\n    <tr>\n      <th>390</th>\n      <td>NOUN</td>\n      <td>PROPN</td>\n      <td>tuf-tuf-club</td>\n      <td>De teletijdmachine werd voor het eerst gebruikt in « De tuf-tuf-club » ( 1952 ) .</td>\n      <td>DET NOUN AUX ADP DET ADJ VERB ADP PUNCT DET PROPN PUNCT PUNCT NUM PUNCT PUNCT</td>\n    </tr>\n    <tr>\n      <th>408</th>\n      <td>NOUN</td>\n      <td>PROPN</td>\n      <td>Biggles</td>\n      <td>De komende decennia zou Vandersteen nog regelmatig nieuwe reeksen beginnen , vaak gebaseerd op romans die hij als kind graag gelezen had en waar hij dan zijn eigen verhalen rond bedacht ( « Karl May » ( verhalen van de schrijver Karl May rond Old Shatterhand en Winnetou ) , « Biggles » en « Robert en Bertrand » ) .</td>\n      <td>DET VERB NOUN AUX PROPN ADV ADJ ADJ NOUN VERB PUNCT ADJ VERB ADP NOUN PRON PRON ADP NOUN ADV VERB AUX CCONJ ADV PRON ADV PRON ADJ NOUN ADP VERB PUNCT PUNCT PROPN PROPN PUNCT PUNCT NOUN ADP DET NOUN PROPN PROPN ADP PROPN PROPN CCONJ PROPN PUNCT PUNCT PUNCT PROPN PUNCT CCONJ PUNCT PROPN CCONJ PROPN PUNCT PUNCT PUNCT</td>\n    </tr>\n    <tr>\n      <th>409</th>\n      <td>X</td>\n      <td>PROPN</td>\n      <td>Tits</td>\n      <td>Maar ook puur eigen creaties zoals « Jerom » , en « Pats » / « Tits » .</td>\n      <td>CCONJ ADV ADJ ADJ NOUN SCONJ PUNCT PROPN PUNCT PUNCT CCONJ PUNCT PROPN PUNCT PUNCT PUNCT PROPN PUNCT PUNCT</td>\n    </tr>\n    <tr>\n      <th>414</th>\n      <td>NOUN</td>\n      <td>PROPN</td>\n      <td>Kaproen</td>\n      <td>Kaproen ?</td>\n      <td>PROPN PUNCT</td>\n    </tr>\n    <tr>\n      <th>423</th>\n      <td>ADJ</td>\n      <td>PROPN</td>\n      <td>oud-Nederlands</td>\n      <td>Ook rijm , pseudo oud-Nederlands , achterstevoren uitgesproken zinnen , woordspelingen , alliteraties en vervormingen van het Antwerpse dialect komen veelvuldig voor .</td>\n      <td>ADV NOUN PUNCT ADJ PROPN PUNCT ADV VERB NOUN PUNCT NOUN PUNCT NOUN CCONJ NOUN ADP DET ADJ NOUN VERB ADJ ADP PUNCT</td>\n    </tr>\n    <tr>\n      <th>426</th>\n      <td>ADJ</td>\n      <td>PROPN</td>\n      <td>Vlaams/Nederlands</td>\n      <td>De verhalen bleken echter veel te Vlaams/Nederlands .</td>\n      <td>DET NOUN VERB ADV PRON ADP PROPN PUNCT</td>\n    </tr>\n    <tr>\n      <th>436</th>\n      <td>NOUN</td>\n      <td>PROPN</td>\n      <td>Tits</td>\n      <td>« Tits » 1977-1986</td>\n      <td>PUNCT PROPN PUNCT SYM</td>\n    </tr>\n    <tr>\n      <th>443</th>\n      <td>ADJ</td>\n      <td>PROPN</td>\n      <td>Heilig</td>\n      <td>De onderpastoor zei hen echter dat het Heilig Graf al bevrijd was .</td>\n      <td>DET NOUN VERB PRON ADV SCONJ DET PROPN PROPN ADV VERB AUX PUNCT</td>\n    </tr>\n    <tr>\n      <th>444</th>\n      <td>NOUN</td>\n      <td>PROPN</td>\n      <td>Graf</td>\n      <td>De onderpastoor zei hen echter dat het Heilig Graf al bevrijd was .</td>\n      <td>DET NOUN VERB PRON ADV SCONJ DET PROPN PROPN ADV VERB AUX PUNCT</td>\n    </tr>\n  </tbody>\n</table>\n</div>"
     },
     "metadata": {},
     "execution_count": 21
    }
   ],
   "source": [
    "mistakes_df[(mistakes_df.actual==\"PROPN\")]"
   ]
  },
  {
   "cell_type": "markdown",
   "metadata": {},
   "source": [
    "How many words predicted as PROPN are capitalized?"
   ]
  },
  {
   "cell_type": "code",
   "execution_count": 23,
   "metadata": {
    "ExecuteTime": {
     "end_time": "2020-05-25T16:45:53.297509Z",
     "start_time": "2020-05-25T16:45:53.288472Z"
    },
    "scrolled": true
   },
   "outputs": [
    {
     "output_type": "execute_result",
     "data": {
      "text/plain": "True     234\nFalse    219\nName: token, dtype: int64"
     },
     "metadata": {},
     "execution_count": 23
    }
   ],
   "source": [
    "mistakes_df[mistakes_df.predicted!=mistakes_df.actual].token.str[0].str.isupper().value_counts()"
   ]
  },
  {
   "cell_type": "code",
   "execution_count": 25,
   "metadata": {
    "ExecuteTime": {
     "end_time": "2020-05-25T16:46:03.154731Z",
     "start_time": "2020-05-25T16:46:02.991733Z"
    }
   },
   "outputs": [
    {
     "output_type": "execute_result",
     "data": {
      "text/plain": "N PUNCT NOUN DET NOUN PROPN PROPN NOUN ADP DET NOUN PRON ADJ ADV ADP NOUN AUX VERB PUNCT                                                                                                                                                                                                                                                                                                                                                                                                                                                                                                                                                                                    \n425  DET NOUN VERB ADV PRON ADP PROPN PUNCT                                                                                                                                                                                                                                                                                                                                                                                                                                                                                                                                                                                                                                                                       \n426  DET NOUN VERB ADV PRON ADP PROPN PUNCT                                                                                                                                                                                                                                                                                                                                                                                                                                                                                                                                                                                                                                                                       \n427  ADP NUM ADP NUM NOUN AUX ADV DET ADJ PROPN PROPN PROPN NOUN ADP PRON ADJ NOUN ADV VERB ADP DET ADJ NOUN PUNCT                                                                                                                                                                                                                                                                                                                                                                                                                                                                                                                                                                                                \n428  ADP NUM ADP NUM NOUN AUX ADV DET ADJ PROPN PROPN PROPN NOUN ADP PRON ADJ NOUN ADV VERB ADP DET ADJ NOUN PUNCT                                                                                                                                                                                                                                                                                                                                                                                                                                                                                                                                                                                                \n429  ADP NUM CCONJ NUM VERB ADV DET NOUN PUNCT PROPN CCONJ PROPN SYM DET NOUN PUNCT CCONJ PUNCT DET NOUN PUNCT PUNCT                                                                                                                                                                                                                                                                                                                                                                                                                                                                                                                                                                                              \n430  ADP NUM VERB PROPN VERB ADP NUM ADP DET NUM NOUN ADP DET NOUN DET ADJ PROPN ADP DET ADJ NOUN PUNCT                                                                                                                                                                                                                                                                                                                                                                                                                                                                                                                                                                                                           \n431  ADV PRON ADP PROPN AUX ADP PRON NOUN CCONJ ADJ ADV PUNCT PROPN PROPN PROPN PUNCT VERB PUNCT                                                                                                                                                                                                                                                                                                                                                                                                                                                                                                                                                                                                                  \n432  ADV PROPN ADJ NOUN VERB ADV DET NOUN ADP PROPN PUNCT PROPN PROPN PUNCT PROPN PROPN PUNCT PROPN PUNCT PROPN PROPN CCONJ PROPN PUNCT PROPN PROPN PUNCT PROPN PUNCT PROPN PROPN PUNCT PROPN CCONJ PROPN PUNCT                                                                                                                                                                                                                                                                                                                                                                                                                                                                                                   \n433  ADV AUX PROPN PROPN ADP PROPN DET NOUN ADP DET ADJ NOUN PUNCT                                                                                                                                                                                                                                                                                                                                                                                                                                                                                                                                                                                                                                                \n434  ADV AUX PROPN PROPN ADP PROPN DET NOUN ADP DET ADJ NOUN PUNCT                                                                                                                                                                                                                                                                                                                                                                                                                                                                                                                                                                                                                                                \n435  ADV AUX PROPN PROPN ADP PROPN DET NOUN ADP DET ADJ NOUN PUNCT                                                                                                                                                                                                                                                                                                                                                                                                                                                                                                                                                                                                                                                \n436  PUNCT PROPN PUNCT SYM                                                                                                                                                                                                                                                                                                                                                                                                                                                                                                                                                                                                                                                                                        \n437  PUNCT PROPN SYM DET ADJ NOUN PUNCT SYM                                                                                                                                                                                                                                                                                                                                                                                                                                                                                                                                                                                                                                                                       \n438  PUNCT DET NOUN PUNCT SYM                                                                                                                                                                                                                                                                                                                                                                                                                                                                                                                                                                                                                                                                                     \n439  PUNCT DET NOUN PUNCT SYM                                                                                                                                                                                                                                                                                                                                                                                                                                                                                                                                                                                                                                                                                     \n440  PUNCT DET ADJ NOUN PUNCT SYM                                                                                                                                                                                                                                                                                                                                                                                                                                                                                                                                                                                                                                                                                 \n441  PUNCT DET ADJ NOUN PUNCT SYM                                                                                                                                                                                                                                                                                                                                                                                                                                                                                                                                                                                                                                                                                 \n442  PUNCT DET ADJ NOUN PUNCT SYM                                                                                                                                                                                                                                                                                                                                                                                                                                                                                                                                                                                                                                                                                 \n443  DET NOUN VERB PRON ADV SCONJ DET PROPN PROPN ADV VERB AUX PUNCT                                                                                                                                                                                                                                                                                                                                                                                                                                                                                                                                                                                                                                              \n444  DET NOUN VERB PRON ADV SCONJ DET PROPN PROPN ADV VERB AUX PUNCT                                                                                                                                                                                                                                                                                                                                                                                                                                                                                                                                                                                                                                              \n445  PRON NOUN VERB PRON ADJ ADP DET NOUN PUNCT PUNCT DET PRON PRON PRON ADJ VERB AUX VERB CCONJ VERB PUNCT CCONJ ADV AUX PRON ADJ ADV ADV PRON NOUN ADP VERB PUNCT PUNCT                                                                                                                                                                                                                                                                                                                                                                                                                                                                                                                                         \n446  SCONJ PRON NOUN VERB VERB ADP DET ADJ NOUN ADP ADJ NOUN VERB PROPN ADV ADJ PRON NOUN ADP DET NOUN PUNCT                                                                                                                                                                                                                                                                                                                                                                                                                                                                                                                                                                                                      \n447  SCONJ PRON NOUN VERB VERB ADP DET ADJ NOUN ADP ADJ NOUN VERB PROPN ADV ADJ PRON NOUN ADP DET NOUN PUNCT                                                                                                                                                                                                                                                                                                                                                                                                                                                                                                                                                                                                      \n448  SCONJ PRON NOUN VERB VERB ADP DET ADJ NOUN ADP ADJ NOUN VERB PROPN ADV ADJ PRON NOUN ADP DET NOUN PUNCT                                                                                                                                                                                                                                                                                                                                                                                                                                                                                                                                                                                                      \n449  DET NOUN AUX ADJ PUNCT PROPN VERB DET NOUN ADP PROPN CCONJ PROPN CCONJ AUX ADV ADV ADP NUM NOUN ADV ADV PRON ADV ADV ADP DET NOUN AUX VERB PUNCT                                                                                                                                                                                                                                                                                                                                                                                                                                                                                                                                                             \n450  ADP DET NOUN PUNCT PROPN PUNCT VERB PROPN PUNCT DET ADJ NOUN ADP PROPN PUNCT ADP PROPN PUNCT DET NOUN ADP PROPN ADP DET NOUN PUNCT DET NOUN PUNCT PUNCT                                                                                                                                                                                                                                                                                                                                                                                                                                                                                                                                                      \n451  ADP DET NOUN PUNCT PROPN PUNCT VERB PROPN PUNCT DET ADJ NOUN ADP PROPN PUNCT ADP PROPN PUNCT DET NOUN ADP PROPN ADP DET NOUN PUNCT DET NOUN PUNCT PUNCT                                                                                                                                                                                                                                                                                                                                                                                                                                                                                                                                                      \n452  ADV VERB PRON ADP NOUN ADP PROPN PROPN PUNCT DET PROPN PRON ADP NUM DET NOUN PROPN VERB CCONJ ADP NOUN AUX ADP ADJ CCONJ ADJ NOUN SCONJ ADV DET ADJ NOUN ADV AUX VERB AUX PUNCT                                                                                                                                                                                                                                                                                                                                                                                                                                                                                                                              ",
      "text/html": "<div>\n<style scoped>\n    .dataframe tbody tr th:only-of-type {\n        vertical-align: middle;\n    }\n\n    .dataframe tbody tr th {\n        vertical-align: top;\n    }\n\n    .dataframe thead th {\n        text-align: right;\n    }\n</style>\n<table border=\"1\" class=\"dataframe\">\n  <thead>\n    <tr style=\"text-align: right;\">\n      <th></th>\n      <th>predicted</th>\n      <th>actual</th>\n      <th>token</th>\n      <th>sentence</th>\n      <th>actual_tokens</th>\n    </tr>\n  </thead>\n  <tbody>\n    <tr>\n      <th>0</th>\n      <td>SYM</td>\n      <td>NUM</td>\n      <td>6</td>\n      <td>De uitschakeling van de nummer zeven van de plaatsingslijst ( 3 - 6 6 - 1 6 - 3 7 - 6 ) was de grootste verrassing bij de mannen dit weekeinde op Wimbledon .</td>\n      <td>DET NOUN ADP DET NOUN NUM ADP DET NOUN PUNCT NUM SYM NUM NUM SYM NUM NUM SYM NUM NUM SYM NUM PUNCT AUX DET ADJ NOUN ADP DET NOUN DET NOUN ADP PROPN PUNCT</td>\n    </tr>\n    <tr>\n      <th>1</th>\n      <td>SYM</td>\n      <td>NUM</td>\n      <td>6</td>\n      <td>De uitschakeling van de nummer zeven van de plaatsingslijst ( 3 - 6 6 - 1 6 - 3 7 - 6 ) was de grootste verrassing bij de mannen dit weekeinde op Wimbledon .</td>\n      <td>DET NOUN ADP DET NOUN NUM ADP DET NOUN PUNCT NUM SYM NUM NUM SYM NUM NUM SYM NUM NUM SYM NUM PUNCT AUX DET ADJ NOUN ADP DET NOUN DET NOUN ADP PROPN PUNCT</td>\n    </tr>\n    <tr>\n      <th>2</th>\n      <td>SYM</td>\n      <td>NUM</td>\n      <td>7</td>\n      <td>De uitschakeling van de nummer zeven van de plaatsingslijst ( 3 - 6 6 - 1 6 - 3 7 - 6 ) was de grootste verrassing bij de mannen dit weekeinde op Wimbledon .</td>\n      <td>DET NOUN ADP DET NOUN NUM ADP DET NOUN PUNCT NUM SYM NUM NUM SYM NUM NUM SYM NUM NUM SYM NUM PUNCT AUX DET ADJ NOUN ADP DET NOUN DET NOUN ADP PROPN PUNCT</td>\n    </tr>\n    <tr>\n      <th>3</th>\n      <td>VERB</td>\n      <td>ADJ</td>\n      <td>beschaamd</td>\n      <td>De Afrikanen boekten in de kwartfinale in Rosario een 2 - 1 zege , de Nederlanders dropen gefrustreerd en beschaamd af .</td>\n      <td>DET PROPN VERB ADP DET NOUN ADP PROPN DET NUM SYM NUM NOUN PUNCT DET PROPN VERB VERB CCONJ ADJ ADP PUNCT</td>\n    </tr>\n    <tr>\n      <th>4</th>\n      <td>PUNCT</td>\n      <td>SYM</td>\n      <td>-</td>\n      <td>De Argentijnen troefden gisteren Frankrijk af ( 3 - 1 ) .</td>\n      <td>DET PROPN VERB ADV PROPN ADP PUNCT NUM SYM NUM PUNCT PUNCT</td>\n    </tr>\n    <tr>\n      <th>5</th>\n      <td>NOUN</td>\n      <td>PROPN</td>\n      <td>Zuid-Amerikanen</td>\n      <td>Saviola was bij de Zuid-Amerikanen met drie treffers de grote man .</td>\n      <td>PROPN AUX ADP DET PROPN ADP NUM NOUN DET ADJ NOUN PUNCT</td>\n    </tr>\n    <tr>\n      <th>6</th>\n      <td>PUNCT</td>\n      <td>SYM</td>\n      <td>-</td>\n      <td>In de kwartfinale hadden de Egyptenaren echter redelijk overtuigend afgerekend met de Verenigde Staten ( 2 - 0 ) .</td>\n      <td>ADP DET NOUN AUX DET PROPN ADV ADJ VERB VERB ADP DET PROPN PROPN PUNCT NUM SYM NUM PUNCT PUNCT</td>\n    </tr>\n    <tr>\n      <th>7</th>\n      <td>PUNCT</td>\n      <td>SYM</td>\n      <td>-</td>\n      <td>Verdediger Amin passeerde doelman Coutinho van dichtbij ( 1 - 1 ) , na een fout van invaller Van Dieren die door Van Gaal al voor rust was opgeroepen .</td>\n      <td>NOUN PROPN VERB NOUN PROPN ADP ADJ PUNCT NUM SYM NUM PUNCT PUNCT ADP DET NOUN ADP NOUN PROPN PROPN PRON ADP PROPN PROPN ADV ADP NOUN AUX VERB PUNCT</td>\n    </tr>\n    <tr>\n      <th>8</th>\n      <td>ADJ</td>\n      <td>VERB</td>\n      <td>bejubelde</td>\n      <td>In de 68ste minuut namen de Egyptenaren een luid bejubelde en beslissende voorsprong .</td>\n      <td>ADP DET ADJ NOUN VERB DET PROPN DET ADJ VERB CCONJ VERB NOUN PUNCT</td>\n    </tr>\n    <tr>\n      <th>9</th>\n      <td>ADV</td>\n      <td>NOUN</td>\n      <td>solo</td>\n      <td>El Yamani , die bij Standard Luik speelt , liet zich fêteren na een solo door de ontmantelde Nederlandse defensie ( 1 - 2 ) .</td>\n      <td>PROPN PROPN PUNCT PRON ADP PROPN PROPN VERB PUNCT VERB PRON VERB ADP DET NOUN ADP DET VERB ADJ NOUN PUNCT NUM SYM NUM PUNCT PUNCT</td>\n    </tr>\n    <tr>\n      <th>10</th>\n      <td>ADJ</td>\n      <td>VERB</td>\n      <td>gedesillusioneerde</td>\n      <td>Maar de meeste pijn deed het gedesillusioneerde Oranje zichzelf .</td>\n      <td>CCONJ DET ADV NOUN VERB DET VERB PROPN PRON PUNCT</td>\n    </tr>\n    <tr>\n      <th>11</th>\n      <td>DET</td>\n      <td>ADJ</td>\n      <td>luttele</td>\n      <td>Glinstering van goud maakte in luttele seconden plaats voor inktzwarte realiteit .</td>\n      <td>NOUN ADP NOUN VERB ADP ADJ NOUN NOUN ADP ADJ NOUN PUNCT</td>\n    </tr>\n    <tr>\n      <th>12</th>\n      <td>NOUN</td>\n      <td>PROPN</td>\n      <td>Duitser</td>\n      <td>Het verschil was miniem , 0,07 punt op de Duitser Beerbaum , maar hanteerbaar .</td>\n      <td>DET NOUN AUX ADJ PUNCT NUM NOUN ADP DET PROPN PROPN PUNCT CCONJ ADJ PUNCT</td>\n    </tr>\n    <tr>\n      <th>13</th>\n      <td>ADJ</td>\n      <td>NOUN</td>\n      <td>dramatiek</td>\n      <td>Sport is het decor waarin dramatiek gedijt .</td>\n      <td>NOUN AUX DET NOUN ADV NOUN VERB PUNCT</td>\n    </tr>\n    <tr>\n      <th>14</th>\n      <td>ADV</td>\n      <td>ADP</td>\n      <td>neer</td>\n      <td>Het kwam gisteren neer op nog één rondje , een omloop van tien hindernissen , twaalf sprongen .</td>\n      <td>PRON VERB ADV ADP ADP ADV NUM NOUN PUNCT DET NOUN ADP NUM NOUN PUNCT NUM NOUN PUNCT</td>\n    </tr>\n    <tr>\n      <th>15</th>\n      <td>VERB</td>\n      <td>ADJ</td>\n      <td>onthutst</td>\n      <td>En hoe onthutst waren de reacties .</td>\n      <td>CCONJ ADV ADJ AUX DET NOUN PUNCT</td>\n    </tr>\n    <tr>\n      <th>16</th>\n      <td>AUX</td>\n      <td>VERB</td>\n      <td>bent</td>\n      <td>Als je zo dichtbij bent , is de teleurstelling groot .</td>\n      <td>SCONJ PRON ADV ADJ VERB PUNCT AUX DET NOUN ADJ PUNCT</td>\n    </tr>\n    <tr>\n      <th>17</th>\n      <td>ADJ</td>\n      <td>VERB</td>\n      <td>Gelaten</td>\n      <td>Gelaten legde hij zich neer bij de ingecalculeerde nederlaag die zijn Rabo-ploeg op het NK had geleden .</td>\n      <td>VERB VERB PRON PRON ADP ADP DET VERB NOUN PRON PRON NOUN ADP DET PROPN AUX VERB PUNCT</td>\n    </tr>\n    <tr>\n      <th>18</th>\n      <td>ADV</td>\n      <td>ADP</td>\n      <td>neer</td>\n      <td>Gelaten legde hij zich neer bij de ingecalculeerde nederlaag die zijn Rabo-ploeg op het NK had geleden .</td>\n      <td>VERB VERB PRON PRON ADP ADP DET VERB NOUN PRON PRON NOUN ADP DET PROPN AUX VERB PUNCT</td>\n    </tr>\n    <tr>\n      <th>19</th>\n      <td>NOUN</td>\n      <td>PROPN</td>\n      <td>Rabo's</td>\n      <td>Op het vlakke parcours in Nijmegen slaagden de Rabo's er niet in de regie van start tot finish te bepalen .</td>\n      <td>ADP DET ADJ NOUN ADP PROPN VERB DET PROPN PRON ADV ADP DET NOUN ADP NOUN ADP NOUN ADP VERB PUNCT</td>\n    </tr>\n    <tr>\n      <th>20</th>\n      <td>VERB</td>\n      <td>AUX</td>\n      <td>konden</td>\n      <td>In de chaotische en vermakelijke eindfase konden ze de gevreesde massasprint niet voorkomen .</td>\n      <td>ADP DET ADJ CCONJ ADJ NOUN AUX PRON DET VERB NOUN ADV VERB PUNCT</td>\n    </tr>\n    <tr>\n      <th>21</th>\n      <td>ADJ</td>\n      <td>VERB</td>\n      <td>gevreesde</td>\n      <td>In de chaotische en vermakelijke eindfase konden ze de gevreesde massasprint niet voorkomen .</td>\n      <td>ADP DET ADJ CCONJ ADJ NOUN AUX PRON DET VERB NOUN ADV VERB PUNCT</td>\n    </tr>\n    <tr>\n      <th>22</th>\n      <td>NOUN</td>\n      <td>PROPN</td>\n      <td>Rabo's</td>\n      <td>Bij het ingaan van de laatste kilometers was het lot van de Rabo's in feite al bezegeld .</td>\n      <td>ADP DET VERB ADP DET ADJ NOUN AUX DET NOUN ADP DET PROPN ADP NOUN ADV VERB PUNCT</td>\n    </tr>\n    <tr>\n      <th>23</th>\n      <td>PRON</td>\n      <td>ADV</td>\n      <td>weinig</td>\n      <td>,, Mij is alleen verteld dat ik te weinig won .</td>\n      <td>PUNCT PRON AUX ADV VERB SCONJ PRON ADV ADV VERB PUNCT</td>\n    </tr>\n    <tr>\n      <th>24</th>\n      <td>SCONJ</td>\n      <td>ADP</td>\n      <td>als</td>\n      <td>Erik Dekker , de personificatie van de vrijbuitersgeest binnen de Rabobank , nam als zo vaak het initiatief .</td>\n      <td>PROPN PROPN PUNCT DET NOUN ADP DET NOUN ADP DET PROPN PUNCT VERB ADP ADV ADJ DET NOUN PUNCT</td>\n    </tr>\n    <tr>\n      <th>25</th>\n      <td>NOUN</td>\n      <td>PROPN</td>\n      <td>Rabo's</td>\n      <td>Het leidde tot een ontsnapping van veertien man , met vier Rabo's , onder wie ook Michael Boogerd .</td>\n      <td>PRON VERB ADP DET NOUN ADP NUM NOUN PUNCT ADP NUM PROPN PUNCT ADP PRON ADV PROPN PROPN PUNCT</td>\n    </tr>\n    <tr>\n      <th>26</th>\n      <td>NOUN</td>\n      <td>PROPN</td>\n      <td>Boogerd</td>\n      <td>Boogerd zelf voelde na een korte rustperiode wel weer kruit in zijn kuiten .</td>\n      <td>PROPN ADV VERB ADP DET ADJ NOUN ADV ADV NOUN ADP PRON NOUN PUNCT</td>\n    </tr>\n    <tr>\n      <th>27</th>\n      <td>ADJ</td>\n      <td>PROPN</td>\n      <td>Boogerd</td>\n      <td>Boogerd leek de pure sprinters nog even te verrassen toen hij in de laatste bocht tien meter voorsprong nam .</td>\n      <td>PROPN VERB DET ADJ NOUN ADV ADV ADP VERB SCONJ PRON ADP DET ADJ NOUN NUM NOUN NOUN VERB PUNCT</td>\n    </tr>\n    <tr>\n      <th>28</th>\n      <td>SCONJ</td>\n      <td>ADP</td>\n      <td>als</td>\n      <td>Koerts heeft hij lang moeten vechten voor een status als topsprinter , te lang werd hij beschouwd als een veredeld kermiscoureur .</td>\n      <td>PROPN AUX PRON ADJ AUX VERB ADP DET NOUN ADP NOUN PUNCT ADV ADJ AUX PRON VERB ADP DET VERB NOUN PUNCT</td>\n    </tr>\n    <tr>\n      <th>29</th>\n      <td>ADJ</td>\n      <td>VERB</td>\n      <td>veredeld</td>\n      <td>Koerts heeft hij lang moeten vechten voor een status als topsprinter , te lang werd hij beschouwd als een veredeld kermiscoureur .</td>\n      <td>PROPN AUX PRON ADJ AUX VERB ADP DET NOUN ADP NOUN PUNCT ADV ADJ AUX PRON VERB ADP DET VERB NOUN PUNCT</td>\n    </tr>\n    <tr>\n      <th>30</th>\n      <td>ADJ</td>\n      <td>PROPN</td>\n      <td>Zuid</td>\n      <td>De Zuid Amerikaanse voetbalfederatie CSF heeft besloten de Copa America uit te stellen .</td>\n      <td>DET PROPN ADJ NOUN PROPN AUX VERB DET PROPN PROPN ADP ADP VERB PUNCT</td>\n    </tr>\n    <tr>\n      <th>31</th>\n      <td>ADV</td>\n      <td>ADJ</td>\n      <td>eerder</td>\n      <td>De directe aanleiding voor de afgelasting van het toernooi , dat nooit eerder in Colombia is georganiseerd , was de ontvoering van de vice-voorzitter van de Colombiaanse voetbalbond , Hernan Mejia .</td>\n      <td>DET ADJ NOUN ADP DET NOUN ADP DET NOUN PUNCT PRON ADV ADJ ADP PROPN AUX VERB PUNCT AUX DET NOUN ADP DET NOUN ADP DET ADJ NOUN PUNCT PROPN PROPN PUNCT</td>\n    </tr>\n    <tr>\n      <th>32</th>\n      <td>PROPN</td>\n      <td>NOUN</td>\n      <td>FARC-rebellen</td>\n      <td>De ontvoering van Mejia - vermoedelijk door FARC-rebellen - was de laatste in een reeks van incidenten die in verband gebracht werden met de Copa America .</td>\n      <td>DET NOUN ADP PROPN PUNCT ADJ ADP NOUN PUNCT AUX DET ADJ ADP DET NOUN ADP NOUN PRON ADP NOUN VERB AUX ADP DET PROPN PROPN PUNCT</td>\n    </tr>\n    <tr>\n      <th>33</th>\n      <td>PROPN</td>\n      <td>NOUN</td>\n      <td>FARC-rebellen</td>\n      <td>Hij zou ' per ongeluk ' ontvoerd zijn door de FARC-rebellen .</td>\n      <td>PRON AUX PUNCT ADP NOUN PUNCT VERB AUX ADP DET NOUN PUNCT</td>\n    </tr>\n    <tr>\n      <th>34</th>\n      <td>PROPN</td>\n      <td>NOUN</td>\n      <td>FARC-woordvoerder</td>\n      <td>De ironie wil dat FARC-woordvoerder Raul Reyes in april 2000 een akkoord had gesloten met de Colombiaanse regering om de Copa te respecteren .</td>\n      <td>DET NOUN VERB SCONJ NOUN PROPN PROPN ADP PROPN NUM DET NOUN AUX VERB ADP DET ADJ NOUN ADP DET PROPN ADP VERB PUNCT</td>\n    </tr>\n    <tr>\n      <th>35</th>\n      <td>ADJ</td>\n      <td>VERB</td>\n      <td>schouderophalend</td>\n      <td>Op de vraag of ze blij is dat het toernooi in januari doorgaat , antwoordt ze schouderophalend .</td>\n      <td>ADP DET NOUN SCONJ PRON ADJ AUX SCONJ DET NOUN ADP PROPN VERB PUNCT VERB PRON VERB PUNCT</td>\n    </tr>\n    <tr>\n      <th>36</th>\n      <td>NOUN</td>\n      <td>SYM</td>\n      <td>C</td>\n      <td>De gouden C aan haar halsketting herinnert aan een belofte .</td>\n      <td>DET ADJ SYM ADP PRON NOUN VERB ADP DET NOUN PUNCT</td>\n    </tr>\n    <tr>\n      <th>37</th>\n      <td>AUX</td>\n      <td>VERB</td>\n      <td>is</td>\n      <td>Lindsay Davenport is vast van plan om meer te genieten van haar beroep .</td>\n      <td>PROPN PROPN VERB ADJ ADP NOUN ADP ADV ADP VERB ADP PRON NOUN PUNCT</td>\n    </tr>\n    <tr>\n      <th>38</th>\n      <td>SCONJ</td>\n      <td>ADP</td>\n      <td>als</td>\n      <td>Meer dan ooit voel ik het als een privilege om hier überhaupt op de baan te mogen staan . ''</td>\n      <td>ADV SCONJ ADV VERB PRON PRON ADP DET NOUN ADP ADV ADV ADP DET NOUN ADP AUX VERB PUNCT PUNCT</td>\n    </tr>\n    <tr>\n      <th>39</th>\n      <td>ADV</td>\n      <td>ADJ</td>\n      <td>Juist</td>\n      <td>Juist niet meer . ''</td>\n      <td>ADJ ADV ADV PUNCT PUNCT</td>\n    </tr>\n    <tr>\n      <th>40</th>\n      <td>ADJ</td>\n      <td>ADV</td>\n      <td>Daags</td>\n      <td>Daags voor Roland Garros kreeg ze een telefoontje van meneer Morariu .</td>\n      <td>ADV ADP PROPN PROPN VERB PRON DET NOUN ADP NOUN PROPN PUNCT</td>\n    </tr>\n    <tr>\n      <th>41</th>\n      <td>ADJ</td>\n      <td>NOUN</td>\n      <td>ouder</td>\n      <td>,, Achteraf gezien was ik liever wat ouder geweest voor ik professional werd .</td>\n      <td>PUNCT ADV VERB AUX PRON ADV PRON NOUN AUX ADP PRON NOUN VERB PUNCT</td>\n    </tr>\n    <tr>\n      <th>42</th>\n      <td>VERB</td>\n      <td>AUX</td>\n      <td>zijn</td>\n      <td>Zo zijn de wetten van het vrouwentennis nou eenmaal . ''</td>\n      <td>ADV AUX DET NOUN ADP DET NOUN ADV ADV PUNCT PUNCT</td>\n    </tr>\n    <tr>\n      <th>43</th>\n      <td>VERB</td>\n      <td>NOUN</td>\n      <td>leven</td>\n      <td>,, Het is een moeilijke manier van leven , zeker voor een meisje .</td>\n      <td>PUNCT PRON AUX DET ADJ NOUN ADP NOUN PUNCT ADJ ADP DET NOUN PUNCT</td>\n    </tr>\n    <tr>\n      <th>44</th>\n      <td>PRON</td>\n      <td>ADV</td>\n      <td>meer</td>\n      <td>Davenport is meer nog dan voorheen de gewone in een abnormale wereld .</td>\n      <td>PROPN AUX ADV ADV SCONJ ADV DET ADJ ADP DET ADJ NOUN PUNCT</td>\n    </tr>\n    <tr>\n      <th>45</th>\n      <td>ADJ</td>\n      <td>ADV</td>\n      <td>Vrij</td>\n      <td>Vrij van verwachtingen won ze ruim een week geleden bij haar rentree meteen het grastoernooi van Eastbourne .</td>\n      <td>ADV ADP NOUN VERB PRON ADJ DET NOUN ADV ADP PRON NOUN ADV DET NOUN ADP PROPN PUNCT</td>\n    </tr>\n    <tr>\n      <th>46</th>\n      <td>SCONJ</td>\n      <td>ADP</td>\n      <td>als</td>\n      <td>De zusjes Williams praten op persconferenties ' als moeders ' zoveel over hun schoothondjes , Hingis kickt op de glamour en Capriati , ja die ontspoorde al eens helemaal .</td>\n      <td>DET NOUN PROPN VERB ADP NOUN PUNCT ADP NOUN PUNCT NUM ADP PRON NOUN PUNCT PROPN VERB ADP DET NOUN CCONJ PROPN PUNCT INTJ PRON VERB ADV ADV ADV PUNCT</td>\n    </tr>\n    <tr>\n      <th>47</th>\n      <td>PROPN</td>\n      <td>X</td>\n      <td>Women's</td>\n      <td>De tijd is rijp , roept de folder van de eerste internationale bijeenkomst van Women's Ordination Worldwide ( WOW ) .</td>\n      <td>DET NOUN AUX ADJ PUNCT VERB DET NOUN ADP DET ADJ ADJ NOUN ADP X X X PUNCT PROPN PUNCT PUNCT</td>\n    </tr>\n    <tr>\n      <th>48</th>\n      <td>PROPN</td>\n      <td>X</td>\n      <td>Ordination</td>\n      <td>De tijd is rijp , roept de folder van de eerste internationale bijeenkomst van Women's Ordination Worldwide ( WOW ) .</td>\n      <td>DET NOUN AUX ADJ PUNCT VERB DET NOUN ADP DET ADJ ADJ NOUN ADP X X X PUNCT PROPN PUNCT PUNCT</td>\n    </tr>\n    <tr>\n      <th>49</th>\n      <td>PROPN</td>\n      <td>X</td>\n      <td>Worldwide</td>\n      <td>De tijd is rijp , roept de folder van de eerste internationale bijeenkomst van Women's Ordination Worldwide ( WOW ) .</td>\n      <td>DET NOUN AUX ADJ PUNCT VERB DET NOUN ADP DET ADJ ADJ NOUN ADP X X X PUNCT PROPN PUNCT PUNCT</td>\n    </tr>\n    <tr>\n      <th>50</th>\n      <td>NOUN</td>\n      <td>PROPN</td>\n      <td>WOW</td>\n      <td>De tijd is rijp , roept de folder van de eerste internationale bijeenkomst van Women's Ordination Worldwide ( WOW ) .</td>\n      <td>DET NOUN AUX ADJ PUNCT VERB DET NOUN ADP DET ADJ ADJ NOUN ADP X X X PUNCT PROPN PUNCT PUNCT</td>\n    </tr>\n    <tr>\n      <th>51</th>\n      <td>VERB</td>\n      <td>ADJ</td>\n      <td>gevat</td>\n      <td>Of het historisch is , valt te bezien , maar het antwoord van de heilige Vader was gevat : It's a long way to Tipperary .</td>\n      <td>SCONJ PRON ADJ AUX PUNCT VERB ADP VERB PUNCT CCONJ DET NOUN ADP DET ADJ NOUN AUX ADJ PUNCT X X X X X X PUNCT</td>\n    </tr>\n    <tr>\n      <th>52</th>\n      <td>PROPN</td>\n      <td>X</td>\n      <td>Tipperary</td>\n      <td>Of het historisch is , valt te bezien , maar het antwoord van de heilige Vader was gevat : It's a long way to Tipperary .</td>\n      <td>SCONJ PRON ADJ AUX PUNCT VERB ADP VERB PUNCT CCONJ DET NOUN ADP DET ADJ NOUN AUX ADJ PUNCT X X X X X X PUNCT</td>\n    </tr>\n    <tr>\n      <th>53</th>\n      <td>NOUN</td>\n      <td>X</td>\n      <td>rem</td>\n      <td>De rk kerk reageert meestal minder ad rem op vragen in die richting , eerder verbeten .</td>\n      <td>DET ADJ NOUN VERB ADV ADV X X ADP NOUN ADP DET NOUN PUNCT ADJ ADJ PUNCT</td>\n    </tr>\n    <tr>\n      <th>54</th>\n      <td>ADV</td>\n      <td>ADJ</td>\n      <td>eerder</td>\n      <td>De rk kerk reageert meestal minder ad rem op vragen in die richting , eerder verbeten .</td>\n      <td>DET ADJ NOUN VERB ADV ADV X X ADP NOUN ADP DET NOUN PUNCT ADJ ADJ PUNCT</td>\n    </tr>\n    <tr>\n      <th>55</th>\n      <td>VERB</td>\n      <td>ADJ</td>\n      <td>verbeten</td>\n      <td>De rk kerk reageert meestal minder ad rem op vragen in die richting , eerder verbeten .</td>\n      <td>DET ADJ NOUN VERB ADV ADV X X ADP NOUN ADP DET NOUN PUNCT ADJ ADJ PUNCT</td>\n    </tr>\n    <tr>\n      <th>56</th>\n      <td>PROPN</td>\n      <td>NOUN</td>\n      <td>Nobelprijswinnaar</td>\n      <td>De Noord-Ierse Nobelprijswinnaar M.C. Maguire opende de conferentie in het land van Tipperary .</td>\n      <td>DET ADJ NOUN PROPN PROPN VERB DET NOUN ADP DET NOUN ADP PROPN PUNCT</td>\n    </tr>\n    <tr>\n      <th>57</th>\n      <td>CCONJ</td>\n      <td>INTJ</td>\n      <td>ja</td>\n      <td>De rk kerk kan het ' grievende geestelijk geweld tegen vrouwen ' , ja zelfs ' misbruik ' toch niet volhouden .</td>\n      <td>DET ADJ NOUN AUX DET PUNCT VERB ADJ NOUN ADP NOUN PUNCT PUNCT INTJ ADV PUNCT NOUN PUNCT ADV ADV VERB PUNCT</td>\n    </tr>\n    <tr>\n      <th>58</th>\n      <td>ADV</td>\n      <td>DET</td>\n      <td>méér</td>\n      <td>De organisatie , een internationaal netwerk opgezet na de eerste Europese vrouwensynode in Oostenrijk ( 1996 ) , wil het priesterambt vernieuwen , want mannen zijn niet méér gelijk dan vrouwen .</td>\n      <td>DET NOUN PUNCT DET ADJ NOUN VERB ADP DET ADJ ADJ NOUN ADP PROPN PUNCT NUM PUNCT PUNCT VERB DET NOUN VERB PUNCT CCONJ NOUN AUX ADV DET ADJ SCONJ NOUN PUNCT</td>\n    </tr>\n    <tr>\n      <th>59</th>\n      <td>PROPN</td>\n      <td>ADJ</td>\n      <td>Vaticaanse</td>\n      <td>In het Vaticaanse geschrift Ad tuendam fidem ( 1998 ) kregen critici van het absolute pauselijke ' nee ' tegen de vrouwelijke priester de wind van voren .</td>\n      <td>ADP DET ADJ NOUN PROPN PROPN PROPN PUNCT NUM PUNCT VERB NOUN ADP DET ADJ ADJ PUNCT INTJ PUNCT ADP DET ADJ NOUN DET NOUN ADP ADV PUNCT</td>\n    </tr>\n    <tr>\n      <th>60</th>\n      <td>X</td>\n      <td>PROPN</td>\n      <td>Ad</td>\n      <td>In het Vaticaanse geschrift Ad tuendam fidem ( 1998 ) kregen critici van het absolute pauselijke ' nee ' tegen de vrouwelijke priester de wind van voren .</td>\n      <td>ADP DET ADJ NOUN PROPN PROPN PROPN PUNCT NUM PUNCT VERB NOUN ADP DET ADJ ADJ PUNCT INTJ PUNCT ADP DET ADJ NOUN DET NOUN ADP ADV PUNCT</td>\n    </tr>\n    <tr>\n      <th>61</th>\n      <td>X</td>\n      <td>PROPN</td>\n      <td>tuendam</td>\n      <td>In het Vaticaanse geschrift Ad tuendam fidem ( 1998 ) kregen critici van het absolute pauselijke ' nee ' tegen de vrouwelijke priester de wind van voren .</td>\n      <td>ADP DET ADJ NOUN PROPN PROPN PROPN PUNCT NUM PUNCT VERB NOUN ADP DET ADJ ADJ PUNCT INTJ PUNCT ADP DET ADJ NOUN DET NOUN ADP ADV PUNCT</td>\n    </tr>\n    <tr>\n      <th>62</th>\n      <td>X</td>\n      <td>PROPN</td>\n      <td>fidem</td>\n      <td>In het Vaticaanse geschrift Ad tuendam fidem ( 1998 ) kregen critici van het absolute pauselijke ' nee ' tegen de vrouwelijke priester de wind van voren .</td>\n      <td>ADP DET ADJ NOUN PROPN PROPN PROPN PUNCT NUM PUNCT VERB NOUN ADP DET ADJ ADJ PUNCT INTJ PUNCT ADP DET ADJ NOUN DET NOUN ADP ADV PUNCT</td>\n    </tr>\n    <tr>\n      <th>63</th>\n      <td>NOUN</td>\n      <td>ADJ</td>\n      <td>ketters</td>\n      <td>Tegenstanders zijn bijna ketters .</td>\n      <td>NOUN AUX ADV ADJ PUNCT</td>\n    </tr>\n    <tr>\n      <th>64</th>\n      <td>AUX</td>\n      <td>VERB</td>\n      <td>heeft</td>\n      <td>De benedictines Joan Chittister is de enige spreekster op het congres die wat te vrezen heeft van haar kerk ; de anderen zijn niet of niet meer rk.</td>\n      <td>DET NOUN PROPN PROPN AUX DET PRON NOUN ADP DET NOUN PRON PRON ADP VERB VERB ADP PRON NOUN PUNCT DET ADJ AUX ADV CCONJ ADV ADV ADJ</td>\n    </tr>\n    <tr>\n      <th>65</th>\n      <td>NOUN</td>\n      <td>VERB</td>\n      <td>dansen</td>\n      <td>Boeddhistische vrouwen willen een wijding , Indiase wagen zich aan heilige dansen , jodinnen bestuderen de tora , zegt Chittister , alleen in de meest achterlijke en wettische culturen zijn vrouwen onzichtbaar , nauwelijks menselijk en minder begiftigd met de Geest .</td>\n      <td>ADJ NOUN VERB DET NOUN PUNCT ADJ VERB PRON ADP ADJ VERB PUNCT NOUN VERB DET NOUN PUNCT VERB PROPN PUNCT ADV ADP DET ADV ADJ CCONJ ADJ NOUN AUX NOUN ADJ PUNCT ADV ADJ CCONJ ADV VERB ADP DET NOUN PUNCT</td>\n    </tr>\n    <tr>\n      <th>66</th>\n      <td>PROPN</td>\n      <td>NOUN</td>\n      <td>Geest</td>\n      <td>Boeddhistische vrouwen willen een wijding , Indiase wagen zich aan heilige dansen , jodinnen bestuderen de tora , zegt Chittister , alleen in de meest achterlijke en wettische culturen zijn vrouwen onzichtbaar , nauwelijks menselijk en minder begiftigd met de Geest .</td>\n      <td>ADJ NOUN VERB DET NOUN PUNCT ADJ VERB PRON ADP ADJ VERB PUNCT NOUN VERB DET NOUN PUNCT VERB PROPN PUNCT ADV ADP DET ADV ADJ CCONJ ADJ NOUN AUX NOUN ADJ PUNCT ADV ADJ CCONJ ADV VERB ADP DET NOUN PUNCT</td>\n    </tr>\n    <tr>\n      <th>67</th>\n      <td>VERB</td>\n      <td>ADJ</td>\n      <td>treffend</td>\n      <td>Voor de non is de parallel met haar eigen rk kerk treffend en vraagt om niets minder dan een pijnlijke bekering , zoals ze ooit de slavernij afzwoer - op het gevaar af dat de pleitbezorgsters daarvoor de rekening gepresenteerd krijgen .</td>\n      <td>ADP DET NOUN AUX DET NOUN ADP PRON ADJ ADJ NOUN ADJ CCONJ VERB ADP PRON PRON SCONJ DET ADJ NOUN PUNCT SCONJ PRON ADV DET NOUN VERB PUNCT ADP DET NOUN ADP SCONJ DET NOUN ADV DET NOUN VERB AUX PUNCT</td>\n    </tr>\n    <tr>\n      <th>68</th>\n      <td>ADV</td>\n      <td>ADJ</td>\n      <td>eerder</td>\n      <td>Chittister weet waarover ze het heeft , ze stak al eerder haar nek uit .</td>\n      <td>PROPN VERB ADV PRON PRON VERB PUNCT PRON VERB ADV ADJ PRON NOUN ADP PUNCT</td>\n    </tr>\n    <tr>\n      <th>69</th>\n      <td>ADP</td>\n      <td>SCONJ</td>\n      <td>als</td>\n      <td>De WOW pleit nu voor financiële steun aan religieuzen als Chittister en Poole die vanwege hun opvattingen over vrouwenwijding niet meer in hun levensonderhoud kunnen voorzien .</td>\n      <td>DET PROPN VERB ADV ADP ADJ NOUN ADP ADJ SCONJ PROPN CCONJ PROPN PRON ADP PRON NOUN ADP NOUN ADV ADV ADP PRON NOUN AUX VERB PUNCT</td>\n    </tr>\n    <tr>\n      <th>70</th>\n      <td>VERB</td>\n      <td>NOUN</td>\n      <td>disputen</td>\n      <td>Gevraagd of ze niet wat anders aan hun hoofd hebben dan de luxe van disputen over vrouwenwijding , zei Wijngaards onlangs in Indiancurrent : ,, Word wakker !</td>\n      <td>VERB SCONJ PRON ADV PRON ADJ ADP PRON NOUN VERB SCONJ DET NOUN ADP NOUN ADP NOUN PUNCT VERB PROPN ADV ADP PROPN PUNCT PUNCT VERB ADJ PUNCT</td>\n    </tr>\n    <tr>\n      <th>71</th>\n      <td>ADJ</td>\n      <td>VERB</td>\n      <td>steekhoudende</td>\n      <td>Vorig jaar was ik weer in India en hoorde de frustraties ; ze stuiten alleen op mannelijke onwil en middeleeuwse vooroordelen , niet op steekhoudende theologische argumenten . ''</td>\n      <td>ADJ NOUN VERB PRON ADV ADP PROPN CCONJ VERB DET NOUN PUNCT PRON VERB ADV ADP ADJ NOUN CCONJ ADJ NOUN PUNCT ADV ADP VERB ADJ NOUN PUNCT PUNCT</td>\n    </tr>\n    <tr>\n      <th>72</th>\n      <td>AUX</td>\n      <td>VERB</td>\n      <td>heeft</td>\n      <td>Daarmee heeft Wijngaards de gevoelige plek te pakken : het argument waarmee ' de kerk ' nee zegt , is op zichzelf niet inhoudelijk .</td>\n      <td>ADV VERB PROPN DET ADJ NOUN ADP VERB PUNCT DET NOUN ADV PUNCT DET NOUN PUNCT INTJ VERB PUNCT AUX ADP PRON ADV ADJ PUNCT</td>\n    </tr>\n    <tr>\n      <th>73</th>\n      <td>CCONJ</td>\n      <td>PROPN</td>\n      <td>en</td>\n      <td>Een 24-jarige technisch medewerker van de Achterhoekse popgroep Jovink en de Voederbietels is zaterdagavond in Borculo bij het opbouwen van de lichtinstallatie om het leven gekomen .</td>\n      <td>DET ADJ ADJ NOUN ADP DET ADJ NOUN PROPN PROPN PROPN PROPN AUX NOUN ADP PROPN ADP DET VERB ADP DET NOUN ADP DET NOUN VERB PUNCT</td>\n    </tr>\n    <tr>\n      <th>74</th>\n      <td>DET</td>\n      <td>PROPN</td>\n      <td>de</td>\n      <td>Een 24-jarige technisch medewerker van de Achterhoekse popgroep Jovink en de Voederbietels is zaterdagavond in Borculo bij het opbouwen van de lichtinstallatie om het leven gekomen .</td>\n      <td>DET ADJ ADJ NOUN ADP DET ADJ NOUN PROPN PROPN PROPN PROPN AUX NOUN ADP PROPN ADP DET VERB ADP DET NOUN ADP DET NOUN VERB PUNCT</td>\n    </tr>\n    <tr>\n      <th>75</th>\n      <td>NOUN</td>\n      <td>PROPN</td>\n      <td>Voederbietels</td>\n      <td>Een 24-jarige technisch medewerker van de Achterhoekse popgroep Jovink en de Voederbietels is zaterdagavond in Borculo bij het opbouwen van de lichtinstallatie om het leven gekomen .</td>\n      <td>DET ADJ ADJ NOUN ADP DET ADJ NOUN PROPN PROPN PROPN PROPN AUX NOUN ADP PROPN ADP DET VERB ADP DET NOUN ADP DET NOUN VERB PUNCT</td>\n    </tr>\n    <tr>\n      <th>76</th>\n      <td>VERB</td>\n      <td>NOUN</td>\n      <td>optreden</td>\n      <td>De groep besloot het optreden af te blazen .</td>\n      <td>DET NOUN VERB DET NOUN ADP ADP VERB PUNCT</td>\n    </tr>\n    <tr>\n      <th>77</th>\n      <td>NUM</td>\n      <td>SYM</td>\n      <td>0.30</td>\n      <td>Bij de schotenwisseling op een kruising in Rotterdam-Zuid kwam rond 0.30 uur een 35-jarige Rotterdamse om het leven .</td>\n      <td>ADP DET NOUN ADP DET NOUN ADP PROPN VERB ADP SYM NOUN DET ADJ ADJ ADP DET NOUN PUNCT</td>\n    </tr>\n    <tr>\n      <th>78</th>\n      <td>PROPN</td>\n      <td>NOUN</td>\n      <td>Aidsfonds</td>\n      <td>Het jaarlijkse benefietdiner in Amsterdam voor het Aidsfonds heeft dit jaar ongeveer 350000 gulden opgebracht .</td>\n      <td>DET ADJ NOUN ADP PROPN ADP DET NOUN AUX DET NOUN ADV NUM NOUN VERB PUNCT</td>\n    </tr>\n    <tr>\n      <th>79</th>\n      <td>PROPN</td>\n      <td>VERB</td>\n      <td>Stop</td>\n      <td>De opbrengst gaat naar Stop Aids Now ! , waarmee het Aidsfonds zich inzet voor mensen in ontwikkelingslanden met hiv of aids .</td>\n      <td>DET NOUN VERB ADP VERB PROPN X SYM PUNCT ADV DET NOUN PRON VERB ADP NOUN ADP NOUN ADP NOUN CCONJ NOUN PUNCT</td>\n    </tr>\n    <tr>\n      <th>80</th>\n      <td>PROPN</td>\n      <td>X</td>\n      <td>Now</td>\n      <td>De opbrengst gaat naar Stop Aids Now ! , waarmee het Aidsfonds zich inzet voor mensen in ontwikkelingslanden met hiv of aids .</td>\n      <td>DET NOUN VERB ADP VERB PROPN X SYM PUNCT ADV DET NOUN PRON VERB ADP NOUN ADP NOUN ADP NOUN CCONJ NOUN PUNCT</td>\n    </tr>\n    <tr>\n      <th>81</th>\n      <td>PROPN</td>\n      <td>SYM</td>\n      <td>!</td>\n      <td>De opbrengst gaat naar Stop Aids Now ! , waarmee het Aidsfonds zich inzet voor mensen in ontwikkelingslanden met hiv of aids .</td>\n      <td>DET NOUN VERB ADP VERB PROPN X SYM PUNCT ADV DET NOUN PRON VERB ADP NOUN ADP NOUN ADP NOUN CCONJ NOUN PUNCT</td>\n    </tr>\n    <tr>\n      <th>82</th>\n      <td>PROPN</td>\n      <td>NOUN</td>\n      <td>Aidsfonds</td>\n      <td>De opbrengst gaat naar Stop Aids Now ! , waarmee het Aidsfonds zich inzet voor mensen in ontwikkelingslanden met hiv of aids .</td>\n      <td>DET NOUN VERB ADP VERB PROPN X SYM PUNCT ADV DET NOUN PRON VERB ADP NOUN ADP NOUN ADP NOUN CCONJ NOUN PUNCT</td>\n    </tr>\n    <tr>\n      <th>83</th>\n      <td>NOUN</td>\n      <td>VERB</td>\n      <td>ondervraagde</td>\n      <td>,, Het meet de bloeddruk van een ondervraagde , maar ook zijn hartslag en de mate van transpiratie . ''</td>\n      <td>PUNCT PRON VERB DET NOUN ADP DET VERB PUNCT CCONJ ADV PRON NOUN CCONJ DET NOUN ADP NOUN PUNCT PUNCT</td>\n    </tr>\n    <tr>\n      <th>84</th>\n      <td>ADJ</td>\n      <td>DET</td>\n      <td>onvoldoende</td>\n      <td>De politie vermoedt dat de aanwezigheid van een geiser en onvoldoende ventilatie de meisjes fataal is geworden .</td>\n      <td>DET NOUN VERB SCONJ DET NOUN ADP DET NOUN CCONJ DET NOUN DET NOUN ADJ AUX VERB PUNCT</td>\n    </tr>\n    <tr>\n      <th>85</th>\n      <td>PROPN</td>\n      <td>SYM</td>\n      <td>A5</td>\n      <td>NIJMEGEN , KARLSRUHE - Bij een verkeersongeval op de A5 in Duitsland bij Otters Weihe , zijn zaterdagavond een hoogleraar ( 63 ) en een studente ( 23 ) van de Katholieke Universiteit Nijmegen ( KUN ) om het leven gekomen .</td>\n      <td>PROPN PUNCT PROPN PUNCT ADP DET NOUN ADP DET SYM ADP PROPN ADP PROPN PROPN PUNCT AUX NOUN DET NOUN PUNCT NUM PUNCT CCONJ DET NOUN PUNCT NUM PUNCT ADP DET PROPN PROPN PROPN PUNCT PROPN PUNCT ADP DET NOUN VERB PUNCT</td>\n    </tr>\n    <tr>\n      <th>86</th>\n      <td>VERB</td>\n      <td>ADJ</td>\n      <td>getinte</td>\n      <td>In de jaren zestig en zeventig maakte Roos naam met een persoonlijk getinte human-interest-pagina .</td>\n      <td>ADP DET NOUN NUM CCONJ NUM VERB PROPN NOUN ADP DET ADJ ADJ NOUN PUNCT</td>\n    </tr>\n    <tr>\n      <th>87</th>\n      <td>PROPN</td>\n      <td>ADJ</td>\n      <td>Communistische</td>\n      <td>In zijn woonplaats Utrecht is zaterdag op 82-jarige leeftijd Barend Schreuders overleden , voormalig gemeenteraadslid en statenlid in de provincie Utrecht voor de Communistische Partij van Nederland ( CPN ) .</td>\n      <td>ADP PRON NOUN PROPN AUX PROPN ADP ADJ NOUN PROPN PROPN VERB PUNCT ADJ NOUN CCONJ NOUN ADP DET NOUN PROPN ADP DET ADJ NOUN ADP PROPN PUNCT PROPN PUNCT PUNCT</td>\n    </tr>\n    <tr>\n      <th>88</th>\n      <td>PROPN</td>\n      <td>NOUN</td>\n      <td>Partij</td>\n      <td>In zijn woonplaats Utrecht is zaterdag op 82-jarige leeftijd Barend Schreuders overleden , voormalig gemeenteraadslid en statenlid in de provincie Utrecht voor de Communistische Partij van Nederland ( CPN ) .</td>\n      <td>ADP PRON NOUN PROPN AUX PROPN ADP ADJ NOUN PROPN PROPN VERB PUNCT ADJ NOUN CCONJ NOUN ADP DET NOUN PROPN ADP DET ADJ NOUN ADP PROPN PUNCT PROPN PUNCT PUNCT</td>\n    </tr>\n    <tr>\n      <th>89</th>\n      <td>PROPN</td>\n      <td>ADP</td>\n      <td>van</td>\n      <td>In zijn woonplaats Utrecht is zaterdag op 82-jarige leeftijd Barend Schreuders overleden , voormalig gemeenteraadslid en statenlid in de provincie Utrecht voor de Communistische Partij van Nederland ( CPN ) .</td>\n      <td>ADP PRON NOUN PROPN AUX PROPN ADP ADJ NOUN PROPN PROPN VERB PUNCT ADJ NOUN CCONJ NOUN ADP DET NOUN PROPN ADP DET ADJ NOUN ADP PROPN PUNCT PROPN PUNCT PUNCT</td>\n    </tr>\n    <tr>\n      <th>90</th>\n      <td>NOUN</td>\n      <td>PROPN</td>\n      <td>Schreuders</td>\n      <td>Schreuders vormde tientallen jaren het gezicht van de CPN in Utrecht .</td>\n      <td>PROPN VERB NOUN NOUN DET NOUN ADP DET PROPN ADP PROPN PUNCT</td>\n    </tr>\n    <tr>\n      <th>91</th>\n      <td>NOUN</td>\n      <td>PROPN</td>\n      <td>Schreuders</td>\n      <td>Schreuders , van beroep verwarmingsmonteur , overleed na een langdurig ziekbed .</td>\n      <td>PROPN PUNCT ADP NOUN NOUN PUNCT VERB ADP DET ADJ NOUN PUNCT</td>\n    </tr>\n    <tr>\n      <th>92</th>\n      <td>PROPN</td>\n      <td>NOUN</td>\n      <td>Bestuursdienst</td>\n      <td>Mr. J.W. Weck wordt vanaf 17 september de nieuwe directeur-generaal Bestuursdienst bij het ministerie van binnenlandse zaken .</td>\n      <td>PROPN PROPN PROPN VERB ADP NUM PROPN DET ADJ NOUN NOUN ADP DET NOUN ADP ADJ NOUN PUNCT</td>\n    </tr>\n    <tr>\n      <th>93</th>\n      <td>PROPN</td>\n      <td>NOUN</td>\n      <td>Telecommunicatie</td>\n      <td>Weck is sinds januari 1999 directeur-generaal Telecommunicatie en Post bij het ministerie van verkeer en waterstaat .</td>\n      <td>PROPN AUX ADP PROPN NUM NOUN NOUN CCONJ NOUN ADP DET NOUN ADP NOUN CCONJ NOUN PUNCT</td>\n    </tr>\n    <tr>\n      <th>94</th>\n      <td>PROPN</td>\n      <td>NOUN</td>\n      <td>Post</td>\n      <td>Weck is sinds januari 1999 directeur-generaal Telecommunicatie en Post bij het ministerie van verkeer en waterstaat .</td>\n      <td>PROPN AUX ADP PROPN NUM NOUN NOUN CCONJ NOUN ADP DET NOUN ADP NOUN CCONJ NOUN PUNCT</td>\n    </tr>\n    <tr>\n      <th>95</th>\n      <td>PROPN</td>\n      <td>NOUN</td>\n      <td>Rijksluchtvaartdienst</td>\n      <td>Daarvoor was hij directeur-generaal Rijksluchtvaartdienst .</td>\n      <td>ADV AUX PRON NOUN NOUN PUNCT</td>\n    </tr>\n    <tr>\n      <th>96</th>\n      <td>NOUN</td>\n      <td>ADJ</td>\n      <td>non-actief</td>\n      <td>In die functie is hij februari 1999 een maand op non-actief gesteld .</td>\n      <td>ADP DET NOUN AUX PRON PROPN NUM DET NOUN ADP ADJ VERB PUNCT</td>\n    </tr>\n    <tr>\n      <th>97</th>\n      <td>PROPN</td>\n      <td>NOUN</td>\n      <td>Bijlmerramp</td>\n      <td>Dit was op eigen verzoek tijdens de parlementaire enquête naar de Bijlmerramp .</td>\n      <td>PRON VERB ADP ADJ NOUN ADP DET ADJ NOUN ADP DET NOUN PUNCT</td>\n    </tr>\n    <tr>\n      <th>98</th>\n      <td>VERB</td>\n      <td>AUX</td>\n      <td>werd</td>\n      <td>Chester Burton Atkins werd geboren op 20 juni 1924 in Luttrell ( Tennessee ) in een muzikale familie .</td>\n      <td>PROPN PROPN PROPN AUX VERB ADP NUM PROPN NUM ADP PROPN PUNCT PROPN PUNCT ADP DET ADJ NOUN PUNCT</td>\n    </tr>\n    <tr>\n      <th>99</th>\n      <td>ADJ</td>\n      <td>VERB</td>\n      <td>geboren</td>\n      <td>Chester Burton Atkins werd geboren op 20 juni 1924 in Luttrell ( Tennessee ) in een muzikale familie .</td>\n      <td>PROPN PROPN PROPN AUX VERB ADP NUM PROPN NUM ADP PROPN PUNCT PROPN PUNCT ADP DET ADJ NOUN PUNCT</td>\n    </tr>\n    <tr>\n      <th>100</th>\n      <td>PROPN</td>\n      <td>X</td>\n      <td>Chet</td>\n      <td>Begonnen met ' Chet Atkins Gallopin Guitar ' ( 1953 ) schreef hij meer dan honderd platen op zijn naam , waaronder ' Teensville ' ( 1960 ) , ' Chet Atkins Picks the Best ' ( 1967 ) , ' A Man and his Guitar ' ( 1984 ) en ' Almost Alone ' ( 1996 ) .</td>\n      <td>VERB ADP PUNCT PROPN PROPN PROPN PROPN PUNCT PUNCT NUM PUNCT VERB PRON PRON SCONJ NUM NOUN ADP PRON NOUN PUNCT ADV PUNCT PROPN PUNCT PUNCT NUM PUNCT PUNCT PUNCT X X X X X PUNCT PUNCT NUM PUNCT PUNCT PUNCT X X X X X PUNCT PUNCT NUM PUNCT CCONJ PUNCT X X PUNCT PUNCT NUM PUNCT PUNCT</td>\n    </tr>\n    <tr>\n      <th>101</th>\n      <td>PROPN</td>\n      <td>X</td>\n      <td>Atkins</td>\n      <td>Begonnen met ' Chet Atkins Gallopin Guitar ' ( 1953 ) schreef hij meer dan honderd platen op zijn naam , waaronder ' Teensville ' ( 1960 ) , ' Chet Atkins Picks the Best ' ( 1967 ) , ' A Man and his Guitar ' ( 1984 ) en ' Almost Alone ' ( 1996 ) .</td>\n      <td>VERB ADP PUNCT PROPN PROPN PROPN PROPN PUNCT PUNCT NUM PUNCT VERB PRON PRON SCONJ NUM NOUN ADP PRON NOUN PUNCT ADV PUNCT PROPN PUNCT PUNCT NUM PUNCT PUNCT PUNCT X X X X X PUNCT PUNCT NUM PUNCT PUNCT PUNCT X X X X X PUNCT PUNCT NUM PUNCT CCONJ PUNCT X X PUNCT PUNCT NUM PUNCT PUNCT</td>\n    </tr>\n    <tr>\n      <th>102</th>\n      <td>PROPN</td>\n      <td>X</td>\n      <td>Best</td>\n      <td>Begonnen met ' Chet Atkins Gallopin Guitar ' ( 1953 ) schreef hij meer dan honderd platen op zijn naam , waaronder ' Teensville ' ( 1960 ) , ' Chet Atkins Picks the Best ' ( 1967 ) , ' A Man and his Guitar ' ( 1984 ) en ' Almost Alone ' ( 1996 ) .</td>\n      <td>VERB ADP PUNCT PROPN PROPN PROPN PROPN PUNCT PUNCT NUM PUNCT VERB PRON PRON SCONJ NUM NOUN ADP PRON NOUN PUNCT ADV PUNCT PROPN PUNCT PUNCT NUM PUNCT PUNCT PUNCT X X X X X PUNCT PUNCT NUM PUNCT PUNCT PUNCT X X X X X PUNCT PUNCT NUM PUNCT CCONJ PUNCT X X PUNCT PUNCT NUM PUNCT PUNCT</td>\n    </tr>\n    <tr>\n      <th>103</th>\n      <td>PROPN</td>\n      <td>X</td>\n      <td>A</td>\n      <td>Begonnen met ' Chet Atkins Gallopin Guitar ' ( 1953 ) schreef hij meer dan honderd platen op zijn naam , waaronder ' Teensville ' ( 1960 ) , ' Chet Atkins Picks the Best ' ( 1967 ) , ' A Man and his Guitar ' ( 1984 ) en ' Almost Alone ' ( 1996 ) .</td>\n      <td>VERB ADP PUNCT PROPN PROPN PROPN PROPN PUNCT PUNCT NUM PUNCT VERB PRON PRON SCONJ NUM NOUN ADP PRON NOUN PUNCT ADV PUNCT PROPN PUNCT PUNCT NUM PUNCT PUNCT PUNCT X X X X X PUNCT PUNCT NUM PUNCT PUNCT PUNCT X X X X X PUNCT PUNCT NUM PUNCT CCONJ PUNCT X X PUNCT PUNCT NUM PUNCT PUNCT</td>\n    </tr>\n    <tr>\n      <th>104</th>\n      <td>PROPN</td>\n      <td>X</td>\n      <td>Man</td>\n      <td>Begonnen met ' Chet Atkins Gallopin Guitar ' ( 1953 ) schreef hij meer dan honderd platen op zijn naam , waaronder ' Teensville ' ( 1960 ) , ' Chet Atkins Picks the Best ' ( 1967 ) , ' A Man and his Guitar ' ( 1984 ) en ' Almost Alone ' ( 1996 ) .</td>\n      <td>VERB ADP PUNCT PROPN PROPN PROPN PROPN PUNCT PUNCT NUM PUNCT VERB PRON PRON SCONJ NUM NOUN ADP PRON NOUN PUNCT ADV PUNCT PROPN PUNCT PUNCT NUM PUNCT PUNCT PUNCT X X X X X PUNCT PUNCT NUM PUNCT PUNCT PUNCT X X X X X PUNCT PUNCT NUM PUNCT CCONJ PUNCT X X PUNCT PUNCT NUM PUNCT PUNCT</td>\n    </tr>\n    <tr>\n      <th>105</th>\n      <td>ADV</td>\n      <td>X</td>\n      <td>Almost</td>\n      <td>Begonnen met ' Chet Atkins Gallopin Guitar ' ( 1953 ) schreef hij meer dan honderd platen op zijn naam , waaronder ' Teensville ' ( 1960 ) , ' Chet Atkins Picks the Best ' ( 1967 ) , ' A Man and his Guitar ' ( 1984 ) en ' Almost Alone ' ( 1996 ) .</td>\n      <td>VERB ADP PUNCT PROPN PROPN PROPN PROPN PUNCT PUNCT NUM PUNCT VERB PRON PRON SCONJ NUM NOUN ADP PRON NOUN PUNCT ADV PUNCT PROPN PUNCT PUNCT NUM PUNCT PUNCT PUNCT X X X X X PUNCT PUNCT NUM PUNCT PUNCT PUNCT X X X X X PUNCT PUNCT NUM PUNCT CCONJ PUNCT X X PUNCT PUNCT NUM PUNCT PUNCT</td>\n    </tr>\n    <tr>\n      <th>106</th>\n      <td>PROPN</td>\n      <td>X</td>\n      <td>Alone</td>\n      <td>Begonnen met ' Chet Atkins Gallopin Guitar ' ( 1953 ) schreef hij meer dan honderd platen op zijn naam , waaronder ' Teensville ' ( 1960 ) , ' Chet Atkins Picks the Best ' ( 1967 ) , ' A Man and his Guitar ' ( 1984 ) en ' Almost Alone ' ( 1996 ) .</td>\n      <td>VERB ADP PUNCT PROPN PROPN PROPN PROPN PUNCT PUNCT NUM PUNCT VERB PRON PRON SCONJ NUM NOUN ADP PRON NOUN PUNCT ADV PUNCT PROPN PUNCT PUNCT NUM PUNCT PUNCT PUNCT X X X X X PUNCT PUNCT NUM PUNCT PUNCT PUNCT X X X X X PUNCT PUNCT NUM PUNCT CCONJ PUNCT X X PUNCT PUNCT NUM PUNCT PUNCT</td>\n    </tr>\n    <tr>\n      <th>107</th>\n      <td>ADJ</td>\n      <td>VERB</td>\n      <td>gewild</td>\n      <td>Atkins , die beschikte over een unieke speelstijl , was decennialang zeer gewild als studiomuzikant .</td>\n      <td>PROPN PUNCT PRON VERB ADP DET ADJ NOUN PUNCT AUX ADJ ADV VERB ADP NOUN PUNCT</td>\n    </tr>\n    <tr>\n      <th>108</th>\n      <td>PROPN</td>\n      <td>X</td>\n      <td>Wake</td>\n      <td>Hij speelde mee op hits als ' Wake up little Susie ' van The Everly Brothers .</td>\n      <td>PRON VERB ADP ADP NOUN SCONJ PUNCT X X X X PUNCT ADP PROPN PROPN PROPN PUNCT</td>\n    </tr>\n    <tr>\n      <th>109</th>\n      <td>PROPN</td>\n      <td>X</td>\n      <td>little</td>\n      <td>Hij speelde mee op hits als ' Wake up little Susie ' van The Everly Brothers .</td>\n      <td>PRON VERB ADP ADP NOUN SCONJ PUNCT X X X X PUNCT ADP PROPN PROPN PROPN PUNCT</td>\n    </tr>\n    <tr>\n      <th>110</th>\n      <td>PROPN</td>\n      <td>X</td>\n      <td>Susie</td>\n      <td>Hij speelde mee op hits als ' Wake up little Susie ' van The Everly Brothers .</td>\n      <td>PRON VERB ADP ADP NOUN SCONJ PUNCT X X X X PUNCT ADP PROPN PROPN PROPN PUNCT</td>\n    </tr>\n    <tr>\n      <th>111</th>\n      <td>VERB</td>\n      <td>ADJ</td>\n      <td>gebaarde</td>\n      <td>Van de grootste legpuzzel tot het aantal door één vrouw gebaarde kinderen .</td>\n      <td>ADP DET ADJ NOUN ADP DET NOUN ADP NUM NOUN ADJ NOUN PUNCT</td>\n    </tr>\n    <tr>\n      <th>112</th>\n      <td>ADJ</td>\n      <td>PROPN</td>\n      <td>Europese</td>\n      <td>De Europese Commissie verwerpt de fusie .</td>\n      <td>DET PROPN PROPN VERB DET NOUN PUNCT</td>\n    </tr>\n    <tr>\n      <th>113</th>\n      <td>NOUN</td>\n      <td>PROPN</td>\n      <td>Commissie</td>\n      <td>De Europese Commissie verwerpt de fusie .</td>\n      <td>DET PROPN PROPN VERB DET NOUN PUNCT</td>\n    </tr>\n    <tr>\n      <th>114</th>\n      <td>VERB</td>\n      <td>ADJ</td>\n      <td>dominante</td>\n      <td>Met name in de luchtvaart voorziet de commissie een dominante positie voor het fusieconcern .</td>\n      <td>ADP NOUN ADP DET NOUN VERB DET NOUN DET ADJ NOUN ADP DET NOUN PUNCT</td>\n    </tr>\n    <tr>\n      <th>115</th>\n      <td>ADV</td>\n      <td>PRON</td>\n      <td>minder</td>\n      <td>Honeywell bood GE aan dat dit concern minder hoeft te betalen voor Honeywell als het bepaalde onderdelen afstoot zoals de Europese Commissie graag wil .</td>\n      <td>PROPN VERB PROPN ADP SCONJ DET NOUN PRON VERB ADP VERB ADP PROPN SCONJ PRON VERB NOUN VERB SCONJ DET PROPN PROPN ADV VERB PUNCT</td>\n    </tr>\n    <tr>\n      <th>116</th>\n      <td>ADJ</td>\n      <td>PROPN</td>\n      <td>Europese</td>\n      <td>Honeywell bood GE aan dat dit concern minder hoeft te betalen voor Honeywell als het bepaalde onderdelen afstoot zoals de Europese Commissie graag wil .</td>\n      <td>PROPN VERB PROPN ADP SCONJ DET NOUN PRON VERB ADP VERB ADP PROPN SCONJ PRON VERB NOUN VERB SCONJ DET PROPN PROPN ADV VERB PUNCT</td>\n    </tr>\n    <tr>\n      <th>117</th>\n      <td>NOUN</td>\n      <td>PROPN</td>\n      <td>Commissie</td>\n      <td>Honeywell bood GE aan dat dit concern minder hoeft te betalen voor Honeywell als het bepaalde onderdelen afstoot zoals de Europese Commissie graag wil .</td>\n      <td>PROPN VERB PROPN ADP SCONJ DET NOUN PRON VERB ADP VERB ADP PROPN SCONJ PRON VERB NOUN VERB SCONJ DET PROPN PROPN ADV VERB PUNCT</td>\n    </tr>\n    <tr>\n      <th>118</th>\n      <td>ADP</td>\n      <td>ADJ</td>\n      <td>Rond</td>\n      <td>Rond 700 betogers hebben gisteren in de Oostenrijkse stad Salzburg urenlang tegen globalisering gedemonstreerd .</td>\n      <td>ADJ NUM NOUN AUX ADV ADP DET ADJ NOUN PROPN ADJ ADP NOUN VERB PUNCT</td>\n    </tr>\n    <tr>\n      <th>119</th>\n      <td>PROPN</td>\n      <td>X</td>\n      <td>Weltwirtschafsforum</td>\n      <td>In Salzburg wordt tot dinsdag het ' Weltwirtschafsforum Osteuropa ' gehouden .</td>\n      <td>ADP PROPN AUX ADP PROPN DET PUNCT X X PUNCT VERB PUNCT</td>\n    </tr>\n    <tr>\n      <th>120</th>\n      <td>PROPN</td>\n      <td>X</td>\n      <td>Osteuropa</td>\n      <td>In Salzburg wordt tot dinsdag het ' Weltwirtschafsforum Osteuropa ' gehouden .</td>\n      <td>ADP PROPN AUX ADP PROPN DET PUNCT X X PUNCT VERB PUNCT</td>\n    </tr>\n    <tr>\n      <th>121</th>\n      <td>PROPN</td>\n      <td>X</td>\n      <td>Midden-</td>\n      <td>Ongeveer 650 politici en zakenlieden uit Oostenrijk en landen in Midden- en Oost-Europa praten er over de economische ontwikkelingen in de regio en over de Europese integratie .</td>\n      <td>ADV NUM NOUN CCONJ NOUN ADP PROPN CCONJ NOUN ADP X CCONJ PROPN VERB ADV ADP DET ADJ NOUN ADP DET NOUN CCONJ ADP DET ADJ NOUN PUNCT</td>\n    </tr>\n    <tr>\n      <th>122</th>\n      <td>ADJ</td>\n      <td>PROPN</td>\n      <td>Dwaze</td>\n      <td>Hackers hebben de harde schijven van computers van de Argentijnse Dwaze Moeders vernietigd .</td>\n      <td>NOUN AUX DET ADJ NOUN ADP NOUN ADP DET ADJ PROPN PROPN VERB PUNCT</td>\n    </tr>\n    <tr>\n      <th>123</th>\n      <td>NOUN</td>\n      <td>PROPN</td>\n      <td>Moeders</td>\n      <td>Hackers hebben de harde schijven van computers van de Argentijnse Dwaze Moeders vernietigd .</td>\n      <td>NOUN AUX DET ADJ NOUN ADP NOUN ADP DET ADJ PROPN PROPN VERB PUNCT</td>\n    </tr>\n    <tr>\n      <th>124</th>\n      <td>SCONJ</td>\n      <td>ADV</td>\n      <td>wanneer</td>\n      <td>De ingebrachte ' pacemaker-plus ' dient zowel om de hartslag te vertragen als , wanneer nodig , te versnellen .</td>\n      <td>DET VERB PUNCT NOUN PUNCT VERB CCONJ ADP DET NOUN ADP VERB SCONJ PUNCT ADV ADJ PUNCT ADP VERB PUNCT</td>\n    </tr>\n    <tr>\n      <th>125</th>\n      <td>PROPN</td>\n      <td>NOUN</td>\n      <td>Vrijdag-akkoord</td>\n      <td>Volgens het Goede Vrijdag-akkoord heeft de regering zes weken om Trimble te vragen terug te komen óf hem te vervangen , anders komen er verkiezingen .</td>\n      <td>ADP DET PROPN NOUN VERB DET NOUN NUM NOUN ADP PROPN ADP VERB ADV ADP VERB CCONJ PRON ADP VERB PUNCT ADV VERB ADV NOUN PUNCT</td>\n    </tr>\n    <tr>\n      <th>126</th>\n      <td>PROPN</td>\n      <td>NOUN</td>\n      <td>Hezbollah-strijders</td>\n      <td>De Israëlische actie is onderdeel van het beleid om Syrië te laten betalen voor de aanvallen van de Hezbollah-strijders .</td>\n      <td>DET ADJ NOUN AUX NOUN ADP DET NOUN ADP PROPN ADP VERB VERB ADP DET NOUN ADP DET NOUN PUNCT</td>\n    </tr>\n    <tr>\n      <th>127</th>\n      <td>VERB</td>\n      <td>NOUN</td>\n      <td>dank</td>\n      <td>,, God zij dank zijn we omgeven door landen die het Midden-Oosten niet in een oorlog storten .</td>\n      <td>PUNCT PROPN VERB NOUN AUX PRON VERB ADP NOUN PRON DET PROPN ADV ADP DET NOUN VERB PUNCT</td>\n    </tr>\n    <tr>\n      <th>128</th>\n      <td>ADJ</td>\n      <td>VERB</td>\n      <td>omgekeerd</td>\n      <td>Min de Zille uit België zette , omgekeerd , dezelfde prestaties neer .</td>\n      <td>PROPN PROPN PROPN ADP PROPN VERB PUNCT VERB PUNCT DET NOUN ADP PUNCT</td>\n    </tr>\n    <tr>\n      <th>129</th>\n      <td>ADV</td>\n      <td>ADP</td>\n      <td>neer</td>\n      <td>Min de Zille uit België zette , omgekeerd , dezelfde prestaties neer .</td>\n      <td>PROPN PROPN PROPN ADP PROPN VERB PUNCT VERB PUNCT DET NOUN ADP PUNCT</td>\n    </tr>\n    <tr>\n      <th>130</th>\n      <td>NOUN</td>\n      <td>PROPN</td>\n      <td>WK</td>\n      <td>Nederland sloot het evenement als negende af en plaatste zich niet voor het WK .</td>\n      <td>PROPN VERB DET NOUN ADP ADJ ADP CCONJ VERB PRON ADV ADP DET PROPN PUNCT</td>\n    </tr>\n    <tr>\n      <th>131</th>\n      <td>NOUN</td>\n      <td>PROPN</td>\n      <td>WK</td>\n      <td>Het Nederlands cricketteam heeft de openingswedstrijd in de ICC Trophy , het WK voor B-landen , winnend afgesloten .</td>\n      <td>DET ADJ NOUN AUX DET NOUN ADP DET PROPN PROPN PUNCT DET PROPN ADP PROPN PUNCT VERB VERB PUNCT</td>\n    </tr>\n    <tr>\n      <th>132</th>\n      <td>NOUN</td>\n      <td>PROPN</td>\n      <td>B-landen</td>\n      <td>Het Nederlands cricketteam heeft de openingswedstrijd in de ICC Trophy , het WK voor B-landen , winnend afgesloten .</td>\n      <td>DET ADJ NOUN AUX DET NOUN ADP DET PROPN PROPN PUNCT DET PROPN ADP PROPN PUNCT VERB VERB PUNCT</td>\n    </tr>\n    <tr>\n      <th>133</th>\n      <td>ADP</td>\n      <td>ADV</td>\n      <td>halverwege</td>\n      <td>De tegenstander had halverwege nog de beste papieren en gooide Nederland uit voor slechts 144 runs .</td>\n      <td>DET NOUN VERB ADV ADV DET ADJ NOUN CCONJ VERB PROPN ADP ADP ADV NUM NOUN PUNCT</td>\n    </tr>\n    <tr>\n      <th>134</th>\n      <td>NOUN</td>\n      <td>PROPN</td>\n      <td>Duitser</td>\n      <td>De Duitser zegevierde in de Grote Prijs van Frankrijk .</td>\n      <td>DET PROPN VERB ADP DET ADJ NOUN ADP PROPN PUNCT</td>\n    </tr>\n    <tr>\n      <th>135</th>\n      <td>PROPN</td>\n      <td>NOUN</td>\n      <td>Prijs</td>\n      <td>De Duitser zegevierde in de Grote Prijs van Frankrijk .</td>\n      <td>DET PROPN VERB ADP DET ADJ NOUN ADP PROPN PUNCT</td>\n    </tr>\n    <tr>\n      <th>136</th>\n      <td>PRON</td>\n      <td>DET</td>\n      <td>beider</td>\n      <td>Interessanter was dat Douglas Van Balkom met 20,67 om 20,91 voorbleef op hun beider specialisme .</td>\n      <td>ADJ AUX SCONJ PROPN PROPN PROPN ADP NUM ADP NUM VERB ADP PRON DET NOUN PUNCT</td>\n    </tr>\n    <tr>\n      <th>137</th>\n      <td>PROPN</td>\n      <td>NOUN</td>\n      <td>meerkamp</td>\n      <td>Onder leiding van Chiel Warners is de Nederlandse ploeg in het Oostenrijkse Ried gepromoveerd naar de superliga van de Europa Cup meerkamp .</td>\n      <td>ADP NOUN ADP PROPN PROPN AUX DET ADJ NOUN ADP DET ADJ PROPN VERB ADP DET NOUN ADP DET PROPN PROPN NOUN PUNCT</td>\n    </tr>\n    <tr>\n      <th>138</th>\n      <td>NOUN</td>\n      <td>PROPN</td>\n      <td>Warners</td>\n      <td>Warners , Wassenaar en Valkenburg eindigden met 23.125 punten als tweede in de eerste liga achter Oostenrijk ( 23.654 ) .</td>\n      <td>PROPN PUNCT PROPN CCONJ PROPN VERB ADP NUM NOUN ADP ADJ ADP DET ADJ NOUN ADP PROPN PUNCT NUM PUNCT PUNCT</td>\n    </tr>\n    <tr>\n      <th>139</th>\n      <td>NOUN</td>\n      <td>PROPN</td>\n      <td>WK</td>\n      <td>Individueel won Warners de tienkamp met 8206 punten , boven de richtprestatie voor de WK in Edmonton ( 8150 ) .</td>\n      <td>ADJ VERB PROPN DET NOUN ADP NUM NOUN PUNCT ADP DET NOUN ADP DET PROPN ADP PROPN PUNCT NUM PUNCT PUNCT</td>\n    </tr>\n    <tr>\n      <th>140</th>\n      <td>NOUN</td>\n      <td>PROPN</td>\n      <td>Duitser</td>\n      <td>De Zeeuwse biljarter versloeg in de finale in Duisburg de Duitser Fabian Blondeel .</td>\n      <td>DET ADJ NOUN VERB ADP DET NOUN ADP PROPN DET PROPN PROPN PROPN PUNCT</td>\n    </tr>\n    <tr>\n      <th>141</th>\n      <td>VERB</td>\n      <td>AUX</td>\n      <td>zijn</td>\n      <td>De onderhandelingen met een hoofdsponsor zijn in een gevorderd stadium .</td>\n      <td>DET NOUN ADP DET NOUN AUX ADP DET VERB NOUN PUNCT</td>\n    </tr>\n    <tr>\n      <th>142</th>\n      <td>ADJ</td>\n      <td>VERB</td>\n      <td>gemotiveerde</td>\n      <td>Het ' Veluwse zwemproject ' kan op termijn plaats bieden aan zestien tot twintig gemotiveerde en getalenteerde zwemmers en zwemsters .</td>\n      <td>DET PUNCT ADJ NOUN PUNCT AUX ADP NOUN NOUN VERB ADP NUM ADP NUM VERB CCONJ ADJ NOUN CCONJ NOUN PUNCT</td>\n    </tr>\n    <tr>\n      <th>143</th>\n      <td>PROPN</td>\n      <td>VERB</td>\n      <td>Topzwemmen</td>\n      <td>PSV gaf al jaren geleden het voorbeeld met de Stichting Topzwemmen Zuid-Nederland en vervolgens het commerciële Philips-team rond Pieter van den Hoogenband en Inge de Bruijn .</td>\n      <td>PROPN VERB ADV NOUN ADV DET NOUN ADP DET NOUN VERB PROPN CCONJ ADV DET ADJ NOUN ADP PROPN PROPN PROPN PROPN CCONJ PROPN PROPN PROPN PUNCT</td>\n    </tr>\n    <tr>\n      <th>144</th>\n      <td>DET</td>\n      <td>PRON</td>\n      <td>dat</td>\n      <td>In Amsterdam vond dat begin dit jaar navolging .</td>\n      <td>ADP PROPN VERB PRON NOUN DET NOUN NOUN PUNCT</td>\n    </tr>\n    <tr>\n      <th>145</th>\n      <td>DET</td>\n      <td>PROPN</td>\n      <td>De</td>\n      <td>Cees Vervoorn en Hans Elzerman , oud-trainers van De Dolfijn , richtten met Michiel Bloem de Stichting Topzwemmen Amsterdam ( STA ) op .</td>\n      <td>PROPN PROPN CCONJ PROPN PROPN PUNCT NOUN ADP PROPN PROPN PUNCT VERB ADP PROPN PROPN DET NOUN VERB PROPN PUNCT PROPN PUNCT ADP PUNCT</td>\n    </tr>\n    <tr>\n      <th>146</th>\n      <td>PROPN</td>\n      <td>VERB</td>\n      <td>Topzwemmen</td>\n      <td>Cees Vervoorn en Hans Elzerman , oud-trainers van De Dolfijn , richtten met Michiel Bloem de Stichting Topzwemmen Amsterdam ( STA ) op .</td>\n      <td>PROPN PROPN CCONJ PROPN PROPN PUNCT NOUN ADP PROPN PROPN PUNCT VERB ADP PROPN PROPN DET NOUN VERB PROPN PUNCT PROPN PUNCT ADP PUNCT</td>\n    </tr>\n    <tr>\n      <th>147</th>\n      <td>NOUN</td>\n      <td>PROPN</td>\n      <td>STA</td>\n      <td>Cees Vervoorn en Hans Elzerman , oud-trainers van De Dolfijn , richtten met Michiel Bloem de Stichting Topzwemmen Amsterdam ( STA ) op .</td>\n      <td>PROPN PROPN CCONJ PROPN PROPN PUNCT NOUN ADP PROPN PROPN PUNCT VERB ADP PROPN PROPN DET NOUN VERB PROPN PUNCT PROPN PUNCT ADP PUNCT</td>\n    </tr>\n    <tr>\n      <th>148</th>\n      <td>AUX</td>\n      <td>VERB</td>\n      <td>is</td>\n      <td>De respectieve trainers Ad van de Ven en Mark Faber , die na vijf jaar met ingang van 1 september stopt in Barneveld en dus in de markt is voor een nieuwe baan , kregen het bij de NK in Eindhoven opnieuw niet voor elkaar de belangen van het individuele talent en de vereniging goed te scheiden .</td>\n      <td>DET ADJ NOUN PROPN PROPN PROPN PROPN CCONJ PROPN PROPN PUNCT PRON ADP NUM NOUN ADP NOUN ADP NUM PROPN VERB ADP PROPN CCONJ ADV ADP DET NOUN VERB ADP DET ADJ NOUN PUNCT VERB PRON ADP DET PROPN ADP PROPN ADV ADV ADP PRON DET NOUN ADP DET ADJ NOUN CCONJ DET NOUN ADJ ADP VERB PUNCT</td>\n    </tr>\n    <tr>\n      <th>149</th>\n      <td>ADV</td>\n      <td>ADJ</td>\n      <td>juist</td>\n      <td>Ze wezen op de juist gebleken aanpak van PSV en de noodzaak van vergelijkbare initiatieven .</td>\n      <td>PRON VERB ADP DET ADJ VERB NOUN ADP PROPN CCONJ DET NOUN ADP ADJ NOUN PUNCT</td>\n    </tr>\n    <tr>\n      <th>150</th>\n      <td>PROPN</td>\n      <td>X</td>\n      <td>World</td>\n      <td>De Nederlandse honkbalploeg ligt in het World Port Tournament in Rotterdam op koers , richting finale .</td>\n      <td>DET ADJ NOUN VERB ADP DET X X X ADP PROPN ADP NOUN PUNCT NOUN NOUN PUNCT</td>\n    </tr>\n    <tr>\n      <th>151</th>\n      <td>PROPN</td>\n      <td>X</td>\n      <td>Port</td>\n      <td>De Nederlandse honkbalploeg ligt in het World Port Tournament in Rotterdam op koers , richting finale .</td>\n      <td>DET ADJ NOUN VERB ADP DET X X X ADP PROPN ADP NOUN PUNCT NOUN NOUN PUNCT</td>\n    </tr>\n    <tr>\n      <th>152</th>\n      <td>PROPN</td>\n      <td>X</td>\n      <td>Tournament</td>\n      <td>De Nederlandse honkbalploeg ligt in het World Port Tournament in Rotterdam op koers , richting finale .</td>\n      <td>DET ADJ NOUN VERB ADP DET X X X ADP PROPN ADP NOUN PUNCT NOUN NOUN PUNCT</td>\n    </tr>\n    <tr>\n      <th>153</th>\n      <td>DET</td>\n      <td>ADJ</td>\n      <td>2/3</td>\n      <td>Hij loste starter Patrick Beljaards na 5 2/3 innings af .</td>\n      <td>PRON VERB NOUN PROPN PROPN ADP NUM ADJ NOUN ADP PUNCT</td>\n    </tr>\n    <tr>\n      <th>154</th>\n      <td>NOUN</td>\n      <td>PROPN</td>\n      <td>WK</td>\n      <td>Maar de operatie moet wachten , tot na het WK in november in Taiwan .</td>\n      <td>CCONJ DET NOUN AUX VERB PUNCT ADP ADP DET PROPN ADP PROPN ADP PROPN PUNCT</td>\n    </tr>\n    <tr>\n      <th>155</th>\n      <td>ADV</td>\n      <td>PRON</td>\n      <td>meer</td>\n      <td>Ook in dit toernooi waarin we wat meer uitproberen en wat vaker improviseren . ''</td>\n      <td>ADV ADP DET NOUN ADV PRON PRON PRON VERB CCONJ PRON ADJ VERB PUNCT PUNCT</td>\n    </tr>\n    <tr>\n      <th>156</th>\n      <td>NOUN</td>\n      <td>NUM</td>\n      <td>drieën</td>\n      <td>Ralph Milliard ( 3 uit 3 ) , Dirk van 't Klooster ( 4 uit 5 ) , Balentina ( 3 uit 5 ) namen er met zijn drieën tien voor hun rekening .</td>\n      <td>PROPN PROPN PUNCT NUM ADP NUM PUNCT PUNCT PROPN PROPN PROPN PROPN PUNCT NUM ADP NUM PUNCT PUNCT PROPN PUNCT NUM ADP NUM PUNCT VERB ADV ADP PRON NUM NUM ADP PRON NOUN PUNCT</td>\n    </tr>\n    <tr>\n      <th>157</th>\n      <td>NOUN</td>\n      <td>PROPN</td>\n      <td>Italianen</td>\n      <td>Het trio doorkruiste op 3 - 3 in de zevende slagbeurt een tactisch spelletje van de Italianen .</td>\n      <td>DET NOUN VERB ADP NUM SYM NUM ADP DET ADJ NOUN DET ADJ NOUN ADP DET PROPN PUNCT</td>\n    </tr>\n    <tr>\n      <th>158</th>\n      <td>NOUN</td>\n      <td>PROPN</td>\n      <td>Italianen</td>\n      <td>Jim Davenport , de 61-jarige Amerikaanse coach van de Italianen en opgevoed bij de San Francisco Giants , stuurde de linkshander Masin naar de heuvel met de opdracht Van 't Klooster uit te schakelen .</td>\n      <td>PROPN PROPN PUNCT DET ADJ ADJ NOUN ADP DET PROPN CCONJ VERB ADP DET PROPN PROPN PROPN PUNCT VERB DET NOUN PROPN ADP DET NOUN ADP DET NOUN PROPN PROPN PROPN ADP ADP VERB PUNCT</td>\n    </tr>\n    <tr>\n      <th>159</th>\n      <td>DET</td>\n      <td>PROPN</td>\n      <td>'t</td>\n      <td>Jim Davenport , de 61-jarige Amerikaanse coach van de Italianen en opgevoed bij de San Francisco Giants , stuurde de linkshander Masin naar de heuvel met de opdracht Van 't Klooster uit te schakelen .</td>\n      <td>PROPN PROPN PUNCT DET ADJ ADJ NOUN ADP DET PROPN CCONJ VERB ADP DET PROPN PROPN PROPN PUNCT VERB DET NOUN PROPN ADP DET NOUN ADP DET NOUN PROPN PROPN PROPN ADP ADP VERB PUNCT</td>\n    </tr>\n    <tr>\n      <th>160</th>\n      <td>NOUN</td>\n      <td>PROPN</td>\n      <td>Gumbs</td>\n      <td>Gumbs en Balentina sloegen Van 't Klooster en Milliard over de thuisplaat ( 5 - 3 ) .</td>\n      <td>PROPN CCONJ PROPN VERB PROPN PROPN PROPN CCONJ PROPN ADP DET NOUN PUNCT NUM SYM NUM PUNCT PUNCT</td>\n    </tr>\n    <tr>\n      <th>161</th>\n      <td>PUNCT</td>\n      <td>SYM</td>\n      <td>-</td>\n      <td>Gumbs en Balentina sloegen Van 't Klooster en Milliard over de thuisplaat ( 5 - 3 ) .</td>\n      <td>PROPN CCONJ PROPN VERB PROPN PROPN PROPN CCONJ PROPN ADP DET NOUN PUNCT NUM SYM NUM PUNCT PUNCT</td>\n    </tr>\n    <tr>\n      <th>162</th>\n      <td>NOUN</td>\n      <td>PROPN</td>\n      <td>Italianen</td>\n      <td>De Italianen produceerden 16 honkslagen maar scoorden slechts 4 keer .</td>\n      <td>DET PROPN VERB NUM NOUN CCONJ VERB ADV NUM NOUN PUNCT</td>\n    </tr>\n    <tr>\n      <th>163</th>\n      <td>NOUN</td>\n      <td>PROPN</td>\n      <td>Italianen</td>\n      <td>De Italianen moesten voor elk punt knokken .</td>\n      <td>DET PROPN AUX ADP DET NOUN VERB PUNCT</td>\n    </tr>\n    <tr>\n      <th>164</th>\n      <td>ADV</td>\n      <td>ADJ</td>\n      <td>eerder</td>\n      <td>Een dag eerder kleurde het stadion van Neptunus rood .</td>\n      <td>DET NOUN ADJ VERB DET NOUN ADP PROPN ADJ PUNCT</td>\n    </tr>\n    <tr>\n      <th>165</th>\n      <td>PRON</td>\n      <td>ADV</td>\n      <td>er</td>\n      <td>Eenhoorn hield er rekening mee door vier internationaal onervaren werpers naar de heuvel te sturen .</td>\n      <td>PROPN VERB ADV NOUN ADP ADP NUM ADJ ADJ NOUN ADP DET NOUN ADP VERB PUNCT</td>\n    </tr>\n    <tr>\n      <th>166</th>\n      <td>PROPN</td>\n      <td>NOUN</td>\n      <td>Goorbergh-tribune</td>\n      <td>Voor zijn eigen Jurgen van den Goorbergh-tribune voerde hij een show op met een zogeheten burn-out .</td>\n      <td>ADP PRON ADJ PROPN PROPN PROPN NOUN VERB PRON DET NOUN ADP ADP DET ADJ NOUN PUNCT</td>\n    </tr>\n    <tr>\n      <th>167</th>\n      <td>X</td>\n      <td>NOUN</td>\n      <td>burn-out</td>\n      <td>Voor zijn eigen Jurgen van den Goorbergh-tribune voerde hij een show op met een zogeheten burn-out .</td>\n      <td>ADP PRON ADJ PROPN PROPN PROPN NOUN VERB PRON DET NOUN ADP ADP DET ADJ NOUN PUNCT</td>\n    </tr>\n    <tr>\n      <th>168</th>\n      <td>SYM</td>\n      <td>NOUN</td>\n      <td>500cc</td>\n      <td>Maar de negende plaats in de 500cc was voor Van den Goorbergh naar eigen zeggen het hoogst haalbare tijdens de TT van Assen en dat wilde hij vieren .</td>\n      <td>CCONJ DET ADJ NOUN ADP DET NOUN AUX ADP PROPN PROPN PROPN ADP ADJ VERB DET ADJ ADJ ADP DET PROPN ADP PROPN CCONJ PRON VERB PRON VERB PUNCT</td>\n    </tr>\n    <tr>\n      <th>169</th>\n      <td>ADJ</td>\n      <td>NOUN</td>\n      <td>gek</td>\n      <td>,, Dat ik zo populair ben , vind ik grandioos , maar er zal maar een gek tussen zitten '' , lachte hij opgelucht .</td>\n      <td>PUNCT SCONJ PRON ADV ADJ AUX PUNCT VERB PRON ADJ PUNCT CCONJ ADV AUX ADV DET NOUN ADP VERB PUNCT PUNCT VERB PRON VERB PUNCT</td>\n    </tr>\n    <tr>\n      <th>170</th>\n      <td>NOUN</td>\n      <td>ADV</td>\n      <td>Weg</td>\n      <td>Weg podiumplaats .</td>\n      <td>ADV NOUN PUNCT</td>\n    </tr>\n    <tr>\n      <th>171</th>\n      <td>ADP</td>\n      <td>ADV</td>\n      <td>gaandeweg</td>\n      <td>Hij lag aan kop in het begin , maar zag gaandeweg de race de Italiaanse duivels op de racebanen voorbij komen .</td>\n      <td>PRON VERB ADP NOUN ADP DET NOUN PUNCT CCONJ VERB ADV DET NOUN DET ADJ NOUN ADP DET NOUN ADJ VERB PUNCT</td>\n    </tr>\n    <tr>\n      <th>172</th>\n      <td>ADJ</td>\n      <td>DET</td>\n      <td>voldoende</td>\n      <td>De internationale volleybalfederatie had aan verlenging van het verblijf de voorwaarde gesteld dat de wedstrijden voldoende belangstelling moesten trekken .</td>\n      <td>DET ADJ NOUN AUX ADP NOUN ADP DET NOUN DET NOUN VERB SCONJ DET NOUN DET NOUN AUX VERB PUNCT</td>\n    </tr>\n    <tr>\n      <th>173</th>\n      <td>NOUN</td>\n      <td>PROPN</td>\n      <td>Zuid-Amerikanen</td>\n      <td>Mochten de Zuid-Amerikanen niet aan de voorwaarden voor de organisatie kunnen voldoen , dan gaat de finale naar Spanje .</td>\n      <td>AUX DET PROPN ADV ADP DET NOUN ADP DET NOUN AUX VERB PUNCT ADV VERB DET NOUN ADP PROPN PUNCT</td>\n    </tr>\n    <tr>\n      <th>174</th>\n      <td>VERB</td>\n      <td>NOUN</td>\n      <td>spelen</td>\n      <td>Zeven interlands , met drie nederlagen , drie gelijke spelen en slechts één overwinning .</td>\n      <td>NUM NOUN PUNCT ADP NUM NOUN PUNCT NUM ADJ NOUN CCONJ ADV NUM NOUN PUNCT</td>\n    </tr>\n    <tr>\n      <th>175</th>\n      <td>ADV</td>\n      <td>ADJ</td>\n      <td>waar</td>\n      <td>Er moet heel wat gebeuren om onze ambities en onze potenties bij de komende Champions Trophy in november in Lahore waar te maken . ''</td>\n      <td>ADV AUX ADJ PRON VERB ADP PRON NOUN CCONJ PRON NOUN ADP DET VERB PROPN PROPN ADP PROPN ADP PROPN ADJ ADP VERB PUNCT PUNCT</td>\n    </tr>\n    <tr>\n      <th>176</th>\n      <td>ADV</td>\n      <td>PROPN</td>\n      <td>Delmee</td>\n      <td>Delmee : ,, Misschien moeten we wel toe naar een tactiek met twee spelsystemen .</td>\n      <td>PROPN PUNCT PUNCT ADV VERB PRON ADV ADP ADP DET NOUN ADP NUM NOUN PUNCT</td>\n    </tr>\n    <tr>\n      <th>177</th>\n      <td>ADJ</td>\n      <td>VERB</td>\n      <td>bedroevend</td>\n      <td>Ronduit bedroevend was de uitvoering van de strafcorner in het eerste halfjaar van Bellaart .</td>\n      <td>ADV VERB AUX DET NOUN ADP DET NOUN ADP DET ADJ NOUN ADP PROPN PUNCT</td>\n    </tr>\n    <tr>\n      <th>178</th>\n      <td>NOUN</td>\n      <td>PROPN</td>\n      <td>Lurling</td>\n      <td>Lurling was in de 51ste minuut succesvol .</td>\n      <td>PROPN AUX ADP DET ADJ NOUN ADJ PUNCT</td>\n    </tr>\n    <tr>\n      <th>179</th>\n      <td>PROPN</td>\n      <td>NOUN</td>\n      <td>Lenstra-stadion</td>\n      <td>Volgende week is de return in het Abe Lenstra-stadion .</td>\n      <td>VERB NOUN VERB DET NOUN ADP DET PROPN NOUN PUNCT</td>\n    </tr>\n    <tr>\n      <th>180</th>\n      <td>VERB</td>\n      <td>ADJ</td>\n      <td>opvallendste</td>\n      <td>De Japanse international was de opvallendste speler in de interland tegen Paraguay , in het kader van de Kirin Cup .</td>\n      <td>DET ADJ NOUN AUX DET ADJ NOUN ADP DET NOUN ADP PROPN PUNCT ADP DET NOUN ADP DET PROPN PROPN PUNCT</td>\n    </tr>\n    <tr>\n      <th>181</th>\n      <td>ADV</td>\n      <td>DET</td>\n      <td>wel</td>\n      <td>De partij haalde in de verkiezingen van 2003 in totaal wel meer stemmen dan een aantal Franstalige partijen , die toch vertegenwoordigd zijn in de Kamer en de Senaat .</td>\n      <td>DET NOUN VERB ADP DET NOUN ADP NUM ADP NOUN DET PRON NOUN SCONJ DET NOUN ADJ NOUN PUNCT PRON ADV VERB AUX ADP DET NOUN CCONJ DET NOUN PUNCT</td>\n    </tr>\n    <tr>\n      <th>182</th>\n      <td>DET</td>\n      <td>PRON</td>\n      <td>meer</td>\n      <td>De partij haalde in de verkiezingen van 2003 in totaal wel meer stemmen dan een aantal Franstalige partijen , die toch vertegenwoordigd zijn in de Kamer en de Senaat .</td>\n      <td>DET NOUN VERB ADP DET NOUN ADP NUM ADP NOUN DET PRON NOUN SCONJ DET NOUN ADJ NOUN PUNCT PRON ADV VERB AUX ADP DET NOUN CCONJ DET NOUN PUNCT</td>\n    </tr>\n    <tr>\n      <th>183</th>\n      <td>PROPN</td>\n      <td>ADJ</td>\n      <td>Vlaams</td>\n      <td>Vlaams Kartel</td>\n      <td>ADJ NOUN</td>\n    </tr>\n    <tr>\n      <th>184</th>\n      <td>PROPN</td>\n      <td>NOUN</td>\n      <td>Kartel</td>\n      <td>Vlaams Kartel</td>\n      <td>ADJ NOUN</td>\n    </tr>\n    <tr>\n      <th>185</th>\n      <td>PROPN</td>\n      <td>SYM</td>\n      <td>CD&amp;V/N-VA</td>\n      <td>Onder de kartelnaam CD&amp;V/N-VA namen ze vervolgens deel aan de Vlaamse parlementsverkiezingen van 2004 .</td>\n      <td>ADP DET NOUN SYM VERB PRON ADV NOUN ADP DET ADJ NOUN ADP NUM PUNCT</td>\n    </tr>\n    <tr>\n      <th>186</th>\n      <td>PRON</td>\n      <td>DET</td>\n      <td>meer</td>\n      <td>Het kartel werd de grootste politieke formatie in Vlaanderen met iets meer dan 1 miljoen stemmen , of 26% .</td>\n      <td>DET NOUN VERB DET ADJ ADJ NOUN ADP PROPN ADP PRON DET SCONJ NUM NOUN NOUN PUNCT CCONJ DET PUNCT</td>\n    </tr>\n    <tr>\n      <th>187</th>\n      <td>SYM</td>\n      <td>DET</td>\n      <td>26%</td>\n      <td>Het kartel werd de grootste politieke formatie in Vlaanderen met iets meer dan 1 miljoen stemmen , of 26% .</td>\n      <td>DET NOUN VERB DET ADJ ADJ NOUN ADP PROPN ADP PRON DET SCONJ NUM NOUN NOUN PUNCT CCONJ DET PUNCT</td>\n    </tr>\n    <tr>\n      <th>188</th>\n      <td>ADJ</td>\n      <td>PROPN</td>\n      <td>Jong</td>\n      <td>Sebastian Luyten : voorzitter Jong N-VA</td>\n      <td>PROPN PROPN PUNCT NOUN PROPN PROPN</td>\n    </tr>\n    <tr>\n      <th>189</th>\n      <td>ADJ</td>\n      <td>PROPN</td>\n      <td>Jong</td>\n      <td>Jong N-VA , de jongerenafdeling van de N-VA</td>\n      <td>PROPN PROPN PUNCT DET NOUN ADP DET PROPN</td>\n    </tr>\n    <tr>\n      <th>190</th>\n      <td>ADV</td>\n      <td>DET</td>\n      <td>net</td>\n      <td>Omdat net geen 50% van de leden zich achter de groep Vlaams-Nationaal schaarden , mocht ze de naam Volksunie niet behouden .</td>\n      <td>SCONJ DET DET SYM ADP DET NOUN PRON ADP DET NOUN ADJ VERB PUNCT AUX PRON DET NOUN PROPN ADV VERB PUNCT</td>\n    </tr>\n    <tr>\n      <th>191</th>\n      <td>PRON</td>\n      <td>DET</td>\n      <td>geen</td>\n      <td>Omdat net geen 50% van de leden zich achter de groep Vlaams-Nationaal schaarden , mocht ze de naam Volksunie niet behouden .</td>\n      <td>SCONJ DET DET SYM ADP DET NOUN PRON ADP DET NOUN ADJ VERB PUNCT AUX PRON DET NOUN PROPN ADV VERB PUNCT</td>\n    </tr>\n    <tr>\n      <th>192</th>\n      <td>NOUN</td>\n      <td>PROPN</td>\n      <td>Laffer-curve</td>\n      <td>Op economisch vlak willen ze de belastingen , volgens de theorie van de Laffer-curve brengen naar een optimum , eventueel via een vervlakking van het belastingsstelsel en gaat men meer naar een ethisch gecorrigeerde aanbodeconomie , maar vooral de belasting op arbeid moet , volgens het N-VA-programma drastisch verlaagd te worden , omdat deze in België een van de hoogste is van de niet-communistische landen .</td>\n      <td>ADP ADJ NOUN VERB PRON DET NOUN PUNCT ADP DET NOUN ADP DET PROPN VERB ADP DET NOUN PUNCT ADJ ADP DET NOUN ADP DET NOUN CCONJ VERB PRON ADV ADP DET ADJ VERB NOUN PUNCT CCONJ ADV DET NOUN ADP NOUN AUX PUNCT ADP DET NOUN ADJ VERB ADP AUX PUNCT SCONJ PRON ADP PROPN NUM ADP DET ADJ AUX ADP DET ADJ NOUN PUNCT</td>\n    </tr>\n    <tr>\n      <th>193</th>\n      <td>ADJ</td>\n      <td>VERB</td>\n      <td>volksvertegenwoordigend</td>\n      <td>Voorts zijn ze niet voor directe democratie , en geloven in een , verbeterde , Vlaamse , volksvertegenwoordigend stelsel , met een sterke parlementaire inmenging .</td>\n      <td>ADV VERB PRON ADV ADP ADJ NOUN PUNCT CCONJ VERB ADP DET PUNCT VERB PUNCT ADJ PUNCT VERB NOUN PUNCT ADP DET ADJ ADJ NOUN PUNCT</td>\n    </tr>\n    <tr>\n      <th>194</th>\n      <td>ADV</td>\n      <td>ADJ</td>\n      <td>eerder</td>\n      <td>Algemeen kan je de N-VA centrum- rechts beschouwen , maar velen binnen N-VA gaan zich eerder centrum noemen , maar algemeen is de onderstroom en ligt het programma bij een sociaal , rechtse stroom , men kan de partij ook linken aan het Paleoconservatisme , en het « Compassionate Conservatism » , waar eigen responsabiliteit enorm belangrijk is in een gedachtevorming , « eigen verantwoordelijkheid , met respect voor de gemeenschap , voor het milieu » , dat is een belangrijk woordgebruik in het N-VA-programma ; men kan de partij ook wel een liberaal-conservatieve aard aanmeten .</td>\n      <td>ADJ AUX PRON DET PROPN X ADJ VERB PUNCT CCONJ PRON ADP PROPN VERB PRON ADJ NOUN VERB PUNCT CCONJ ADJ VERB DET NOUN CCONJ VERB DET NOUN ADP DET ADJ PUNCT ADJ NOUN PUNCT PRON AUX DET NOUN ADV VERB ADP DET NOUN PUNCT CCONJ DET PUNCT PROPN PROPN PUNCT PUNCT ADV ADJ NOUN ADJ ADJ AUX ADP DET NOUN PUNCT PUNCT ADJ NOUN PUNCT ADP NOUN ADP DET NOUN PUNCT ADP DET NOUN PUNCT PUNCT PRON AUX DET ADJ NOUN ADP DET NOUN PUNCT PRON AUX DET NOUN ADV ADV DET ADJ NOUN VERB PUNCT</td>\n    </tr>\n    <tr>\n      <th>195</th>\n      <td>AUX</td>\n      <td>VERB</td>\n      <td>is</td>\n      <td>Algemeen kan je de N-VA centrum- rechts beschouwen , maar velen binnen N-VA gaan zich eerder centrum noemen , maar algemeen is de onderstroom en ligt het programma bij een sociaal , rechtse stroom , men kan de partij ook linken aan het Paleoconservatisme , en het « Compassionate Conservatism » , waar eigen responsabiliteit enorm belangrijk is in een gedachtevorming , « eigen verantwoordelijkheid , met respect voor de gemeenschap , voor het milieu » , dat is een belangrijk woordgebruik in het N-VA-programma ; men kan de partij ook wel een liberaal-conservatieve aard aanmeten .</td>\n      <td>ADJ AUX PRON DET PROPN X ADJ VERB PUNCT CCONJ PRON ADP PROPN VERB PRON ADJ NOUN VERB PUNCT CCONJ ADJ VERB DET NOUN CCONJ VERB DET NOUN ADP DET ADJ PUNCT ADJ NOUN PUNCT PRON AUX DET NOUN ADV VERB ADP DET NOUN PUNCT CCONJ DET PUNCT PROPN PROPN PUNCT PUNCT ADV ADJ NOUN ADJ ADJ AUX ADP DET NOUN PUNCT PUNCT ADJ NOUN PUNCT ADP NOUN ADP DET NOUN PUNCT ADP DET NOUN PUNCT PUNCT PRON AUX DET ADJ NOUN ADP DET NOUN PUNCT PRON AUX DET NOUN ADV ADV DET ADJ NOUN VERB PUNCT</td>\n    </tr>\n    <tr>\n      <th>196</th>\n      <td>PROPN</td>\n      <td>NOUN</td>\n      <td>Paleoconservatisme</td>\n      <td>Algemeen kan je de N-VA centrum- rechts beschouwen , maar velen binnen N-VA gaan zich eerder centrum noemen , maar algemeen is de onderstroom en ligt het programma bij een sociaal , rechtse stroom , men kan de partij ook linken aan het Paleoconservatisme , en het « Compassionate Conservatism » , waar eigen responsabiliteit enorm belangrijk is in een gedachtevorming , « eigen verantwoordelijkheid , met respect voor de gemeenschap , voor het milieu » , dat is een belangrijk woordgebruik in het N-VA-programma ; men kan de partij ook wel een liberaal-conservatieve aard aanmeten .</td>\n      <td>ADJ AUX PRON DET PROPN X ADJ VERB PUNCT CCONJ PRON ADP PROPN VERB PRON ADJ NOUN VERB PUNCT CCONJ ADJ VERB DET NOUN CCONJ VERB DET NOUN ADP DET ADJ PUNCT ADJ NOUN PUNCT PRON AUX DET NOUN ADV VERB ADP DET NOUN PUNCT CCONJ DET PUNCT PROPN PROPN PUNCT PUNCT ADV ADJ NOUN ADJ ADJ AUX ADP DET NOUN PUNCT PUNCT ADJ NOUN PUNCT ADP NOUN ADP DET NOUN PUNCT ADP DET NOUN PUNCT PUNCT PRON AUX DET ADJ NOUN ADP DET NOUN PUNCT PRON AUX DET NOUN ADV ADV DET ADJ NOUN VERB PUNCT</td>\n    </tr>\n    <tr>\n      <th>197</th>\n      <td>X</td>\n      <td>PROPN</td>\n      <td>Compassionate</td>\n      <td>Algemeen kan je de N-VA centrum- rechts beschouwen , maar velen binnen N-VA gaan zich eerder centrum noemen , maar algemeen is de onderstroom en ligt het programma bij een sociaal , rechtse stroom , men kan de partij ook linken aan het Paleoconservatisme , en het « Compassionate Conservatism » , waar eigen responsabiliteit enorm belangrijk is in een gedachtevorming , « eigen verantwoordelijkheid , met respect voor de gemeenschap , voor het milieu » , dat is een belangrijk woordgebruik in het N-VA-programma ; men kan de partij ook wel een liberaal-conservatieve aard aanmeten .</td>\n      <td>ADJ AUX PRON DET PROPN X ADJ VERB PUNCT CCONJ PRON ADP PROPN VERB PRON ADJ NOUN VERB PUNCT CCONJ ADJ VERB DET NOUN CCONJ VERB DET NOUN ADP DET ADJ PUNCT ADJ NOUN PUNCT PRON AUX DET NOUN ADV VERB ADP DET NOUN PUNCT CCONJ DET PUNCT PROPN PROPN PUNCT PUNCT ADV ADJ NOUN ADJ ADJ AUX ADP DET NOUN PUNCT PUNCT ADJ NOUN PUNCT ADP NOUN ADP DET NOUN PUNCT ADP DET NOUN PUNCT PUNCT PRON AUX DET ADJ NOUN ADP DET NOUN PUNCT PRON AUX DET NOUN ADV ADV DET ADJ NOUN VERB PUNCT</td>\n    </tr>\n    <tr>\n      <th>198</th>\n      <td>X</td>\n      <td>PROPN</td>\n      <td>Conservatism</td>\n      <td>Algemeen kan je de N-VA centrum- rechts beschouwen , maar velen binnen N-VA gaan zich eerder centrum noemen , maar algemeen is de onderstroom en ligt het programma bij een sociaal , rechtse stroom , men kan de partij ook linken aan het Paleoconservatisme , en het « Compassionate Conservatism » , waar eigen responsabiliteit enorm belangrijk is in een gedachtevorming , « eigen verantwoordelijkheid , met respect voor de gemeenschap , voor het milieu » , dat is een belangrijk woordgebruik in het N-VA-programma ; men kan de partij ook wel een liberaal-conservatieve aard aanmeten .</td>\n      <td>ADJ AUX PRON DET PROPN X ADJ VERB PUNCT CCONJ PRON ADP PROPN VERB PRON ADJ NOUN VERB PUNCT CCONJ ADJ VERB DET NOUN CCONJ VERB DET NOUN ADP DET ADJ PUNCT ADJ NOUN PUNCT PRON AUX DET NOUN ADV VERB ADP DET NOUN PUNCT CCONJ DET PUNCT PROPN PROPN PUNCT PUNCT ADV ADJ NOUN ADJ ADJ AUX ADP DET NOUN PUNCT PUNCT ADJ NOUN PUNCT ADP NOUN ADP DET NOUN PUNCT ADP DET NOUN PUNCT PUNCT PRON AUX DET ADJ NOUN ADP DET NOUN PUNCT PRON AUX DET NOUN ADV ADV DET ADJ NOUN VERB PUNCT</td>\n    </tr>\n    <tr>\n      <th>199</th>\n      <td>PROPN</td>\n      <td>ADJ</td>\n      <td>Nederlands</td>\n      <td>De officiële taal is Nederlands .</td>\n      <td>DET ADJ NOUN AUX ADJ PUNCT</td>\n    </tr>\n    <tr>\n      <th>200</th>\n      <td>NUM</td>\n      <td>NOUN</td>\n      <td>3166-2-code</td>\n      <td>De ISO 3166-2-code van het Vlaams Gewest is « BE-VLG » .</td>\n      <td>DET PROPN NOUN ADP DET PROPN PROPN AUX PUNCT SYM PUNCT PUNCT</td>\n    </tr>\n    <tr>\n      <th>201</th>\n      <td>PROPN</td>\n      <td>SYM</td>\n      <td>BE-VLG</td>\n      <td>De ISO 3166-2-code van het Vlaams Gewest is « BE-VLG » .</td>\n      <td>DET PROPN NOUN ADP DET PROPN PROPN AUX PUNCT SYM PUNCT PUNCT</td>\n    </tr>\n    <tr>\n      <th>202</th>\n      <td>AUX</td>\n      <td>VERB</td>\n      <td>is</td>\n      <td>Het dagelijks bestuur is in handen van de bestendige deputatie .</td>\n      <td>DET ADJ NOUN VERB ADP NOUN ADP DET ADJ NOUN PUNCT</td>\n    </tr>\n    <tr>\n      <th>203</th>\n      <td>PROPN</td>\n      <td>ADJ</td>\n      <td>Vlaams</td>\n      <td>Officiële website Vlaams Brabant</td>\n      <td>ADJ NOUN ADJ PROPN</td>\n    </tr>\n    <tr>\n      <th>204</th>\n      <td>PUNCT</td>\n      <td>SYM</td>\n      <td>(</td>\n      <td>De groep inwijkelingen valt sociologisch en demografisch uiteen in vier grote groepen : ( 1 ) Nederlandstaligen die dichter bij hun werk in Brussel komen wonen of die precies uit Brussel vertrekken , ( 2 ) Franstaligen , eveneens afkomstig uit Brussel en ook uit Wallonië , ( 3 ) Noord-Amerikaanse en EU-burgers , werkzaam voor internationale bedrijven en Europese instellingen en dikwijls hier voor slechts enkele jaren , en ( 4 ) Noord-Afrikaanse en Turkse immigranten , die vaak ook eerst in Brussel gewoond hebben .</td>\n      <td>DET NOUN NOUN VERB ADJ CCONJ ADJ ADV ADP NUM ADJ NOUN PUNCT SYM NUM SYM ADJ PRON ADJ ADP PRON NOUN ADP PROPN VERB VERB CCONJ PRON ADJ ADP PROPN VERB PUNCT SYM NUM SYM ADJ PUNCT ADV ADJ ADP PROPN CCONJ ADV ADP PROPN PUNCT SYM NUM SYM ADJ CCONJ NOUN PUNCT ADJ ADP ADJ NOUN CCONJ ADJ NOUN CCONJ ADV ADV ADP ADV DET NOUN PUNCT CCONJ SYM NUM SYM ADJ CCONJ ADJ NOUN PUNCT PRON ADJ ADV ADV ADP PROPN VERB AUX PUNCT</td>\n    </tr>\n    <tr>\n      <th>205</th>\n      <td>PUNCT</td>\n      <td>SYM</td>\n      <td>)</td>\n      <td>De groep inwijkelingen valt sociologisch en demografisch uiteen in vier grote groepen : ( 1 ) Nederlandstaligen die dichter bij hun werk in Brussel komen wonen of die precies uit Brussel vertrekken , ( 2 ) Franstaligen , eveneens afkomstig uit Brussel en ook uit Wallonië , ( 3 ) Noord-Amerikaanse en EU-burgers , werkzaam voor internationale bedrijven en Europese instellingen en dikwijls hier voor slechts enkele jaren , en ( 4 ) Noord-Afrikaanse en Turkse immigranten , die vaak ook eerst in Brussel gewoond hebben .</td>\n      <td>DET NOUN NOUN VERB ADJ CCONJ ADJ ADV ADP NUM ADJ NOUN PUNCT SYM NUM SYM ADJ PRON ADJ ADP PRON NOUN ADP PROPN VERB VERB CCONJ PRON ADJ ADP PROPN VERB PUNCT SYM NUM SYM ADJ PUNCT ADV ADJ ADP PROPN CCONJ ADV ADP PROPN PUNCT SYM NUM SYM ADJ CCONJ NOUN PUNCT ADJ ADP ADJ NOUN CCONJ ADJ NOUN CCONJ ADV ADV ADP ADV DET NOUN PUNCT CCONJ SYM NUM SYM ADJ CCONJ ADJ NOUN PUNCT PRON ADJ ADV ADV ADP PROPN VERB AUX PUNCT</td>\n    </tr>\n    <tr>\n      <th>206</th>\n      <td>PUNCT</td>\n      <td>SYM</td>\n      <td>(</td>\n      <td>De groep inwijkelingen valt sociologisch en demografisch uiteen in vier grote groepen : ( 1 ) Nederlandstaligen die dichter bij hun werk in Brussel komen wonen of die precies uit Brussel vertrekken , ( 2 ) Franstaligen , eveneens afkomstig uit Brussel en ook uit Wallonië , ( 3 ) Noord-Amerikaanse en EU-burgers , werkzaam voor internationale bedrijven en Europese instellingen en dikwijls hier voor slechts enkele jaren , en ( 4 ) Noord-Afrikaanse en Turkse immigranten , die vaak ook eerst in Brussel gewoond hebben .</td>\n      <td>DET NOUN NOUN VERB ADJ CCONJ ADJ ADV ADP NUM ADJ NOUN PUNCT SYM NUM SYM ADJ PRON ADJ ADP PRON NOUN ADP PROPN VERB VERB CCONJ PRON ADJ ADP PROPN VERB PUNCT SYM NUM SYM ADJ PUNCT ADV ADJ ADP PROPN CCONJ ADV ADP PROPN PUNCT SYM NUM SYM ADJ CCONJ NOUN PUNCT ADJ ADP ADJ NOUN CCONJ ADJ NOUN CCONJ ADV ADV ADP ADV DET NOUN PUNCT CCONJ SYM NUM SYM ADJ CCONJ ADJ NOUN PUNCT PRON ADJ ADV ADV ADP PROPN VERB AUX PUNCT</td>\n    </tr>\n    <tr>\n      <th>207</th>\n      <td>PUNCT</td>\n      <td>SYM</td>\n      <td>)</td>\n      <td>De groep inwijkelingen valt sociologisch en demografisch uiteen in vier grote groepen : ( 1 ) Nederlandstaligen die dichter bij hun werk in Brussel komen wonen of die precies uit Brussel vertrekken , ( 2 ) Franstaligen , eveneens afkomstig uit Brussel en ook uit Wallonië , ( 3 ) Noord-Amerikaanse en EU-burgers , werkzaam voor internationale bedrijven en Europese instellingen en dikwijls hier voor slechts enkele jaren , en ( 4 ) Noord-Afrikaanse en Turkse immigranten , die vaak ook eerst in Brussel gewoond hebben .</td>\n      <td>DET NOUN NOUN VERB ADJ CCONJ ADJ ADV ADP NUM ADJ NOUN PUNCT SYM NUM SYM ADJ PRON ADJ ADP PRON NOUN ADP PROPN VERB VERB CCONJ PRON ADJ ADP PROPN VERB PUNCT SYM NUM SYM ADJ PUNCT ADV ADJ ADP PROPN CCONJ ADV ADP PROPN PUNCT SYM NUM SYM ADJ CCONJ NOUN PUNCT ADJ ADP ADJ NOUN CCONJ ADJ NOUN CCONJ ADV ADV ADP ADV DET NOUN PUNCT CCONJ SYM NUM SYM ADJ CCONJ ADJ NOUN PUNCT PRON ADJ ADV ADV ADP PROPN VERB AUX PUNCT</td>\n    </tr>\n    <tr>\n      <th>208</th>\n      <td>PUNCT</td>\n      <td>SYM</td>\n      <td>(</td>\n      <td>De groep inwijkelingen valt sociologisch en demografisch uiteen in vier grote groepen : ( 1 ) Nederlandstaligen die dichter bij hun werk in Brussel komen wonen of die precies uit Brussel vertrekken , ( 2 ) Franstaligen , eveneens afkomstig uit Brussel en ook uit Wallonië , ( 3 ) Noord-Amerikaanse en EU-burgers , werkzaam voor internationale bedrijven en Europese instellingen en dikwijls hier voor slechts enkele jaren , en ( 4 ) Noord-Afrikaanse en Turkse immigranten , die vaak ook eerst in Brussel gewoond hebben .</td>\n      <td>DET NOUN NOUN VERB ADJ CCONJ ADJ ADV ADP NUM ADJ NOUN PUNCT SYM NUM SYM ADJ PRON ADJ ADP PRON NOUN ADP PROPN VERB VERB CCONJ PRON ADJ ADP PROPN VERB PUNCT SYM NUM SYM ADJ PUNCT ADV ADJ ADP PROPN CCONJ ADV ADP PROPN PUNCT SYM NUM SYM ADJ CCONJ NOUN PUNCT ADJ ADP ADJ NOUN CCONJ ADJ NOUN CCONJ ADV ADV ADP ADV DET NOUN PUNCT CCONJ SYM NUM SYM ADJ CCONJ ADJ NOUN PUNCT PRON ADJ ADV ADV ADP PROPN VERB AUX PUNCT</td>\n    </tr>\n    <tr>\n      <th>209</th>\n      <td>PUNCT</td>\n      <td>SYM</td>\n      <td>)</td>\n      <td>De groep inwijkelingen valt sociologisch en demografisch uiteen in vier grote groepen : ( 1 ) Nederlandstaligen die dichter bij hun werk in Brussel komen wonen of die precies uit Brussel vertrekken , ( 2 ) Franstaligen , eveneens afkomstig uit Brussel en ook uit Wallonië , ( 3 ) Noord-Amerikaanse en EU-burgers , werkzaam voor internationale bedrijven en Europese instellingen en dikwijls hier voor slechts enkele jaren , en ( 4 ) Noord-Afrikaanse en Turkse immigranten , die vaak ook eerst in Brussel gewoond hebben .</td>\n      <td>DET NOUN NOUN VERB ADJ CCONJ ADJ ADV ADP NUM ADJ NOUN PUNCT SYM NUM SYM ADJ PRON ADJ ADP PRON NOUN ADP PROPN VERB VERB CCONJ PRON ADJ ADP PROPN VERB PUNCT SYM NUM SYM ADJ PUNCT ADV ADJ ADP PROPN CCONJ ADV ADP PROPN PUNCT SYM NUM SYM ADJ CCONJ NOUN PUNCT ADJ ADP ADJ NOUN CCONJ ADJ NOUN CCONJ ADV ADV ADP ADV DET NOUN PUNCT CCONJ SYM NUM SYM ADJ CCONJ ADJ NOUN PUNCT PRON ADJ ADV ADV ADP PROPN VERB AUX PUNCT</td>\n    </tr>\n    <tr>\n      <th>210</th>\n      <td>PUNCT</td>\n      <td>SYM</td>\n      <td>(</td>\n      <td>De groep inwijkelingen valt sociologisch en demografisch uiteen in vier grote groepen : ( 1 ) Nederlandstaligen die dichter bij hun werk in Brussel komen wonen of die precies uit Brussel vertrekken , ( 2 ) Franstaligen , eveneens afkomstig uit Brussel en ook uit Wallonië , ( 3 ) Noord-Amerikaanse en EU-burgers , werkzaam voor internationale bedrijven en Europese instellingen en dikwijls hier voor slechts enkele jaren , en ( 4 ) Noord-Afrikaanse en Turkse immigranten , die vaak ook eerst in Brussel gewoond hebben .</td>\n      <td>DET NOUN NOUN VERB ADJ CCONJ ADJ ADV ADP NUM ADJ NOUN PUNCT SYM NUM SYM ADJ PRON ADJ ADP PRON NOUN ADP PROPN VERB VERB CCONJ PRON ADJ ADP PROPN VERB PUNCT SYM NUM SYM ADJ PUNCT ADV ADJ ADP PROPN CCONJ ADV ADP PROPN PUNCT SYM NUM SYM ADJ CCONJ NOUN PUNCT ADJ ADP ADJ NOUN CCONJ ADJ NOUN CCONJ ADV ADV ADP ADV DET NOUN PUNCT CCONJ SYM NUM SYM ADJ CCONJ ADJ NOUN PUNCT PRON ADJ ADV ADV ADP PROPN VERB AUX PUNCT</td>\n    </tr>\n    <tr>\n      <th>211</th>\n      <td>PUNCT</td>\n      <td>SYM</td>\n      <td>)</td>\n      <td>De groep inwijkelingen valt sociologisch en demografisch uiteen in vier grote groepen : ( 1 ) Nederlandstaligen die dichter bij hun werk in Brussel komen wonen of die precies uit Brussel vertrekken , ( 2 ) Franstaligen , eveneens afkomstig uit Brussel en ook uit Wallonië , ( 3 ) Noord-Amerikaanse en EU-burgers , werkzaam voor internationale bedrijven en Europese instellingen en dikwijls hier voor slechts enkele jaren , en ( 4 ) Noord-Afrikaanse en Turkse immigranten , die vaak ook eerst in Brussel gewoond hebben .</td>\n      <td>DET NOUN NOUN VERB ADJ CCONJ ADJ ADV ADP NUM ADJ NOUN PUNCT SYM NUM SYM ADJ PRON ADJ ADP PRON NOUN ADP PROPN VERB VERB CCONJ PRON ADJ ADP PROPN VERB PUNCT SYM NUM SYM ADJ PUNCT ADV ADJ ADP PROPN CCONJ ADV ADP PROPN PUNCT SYM NUM SYM ADJ CCONJ NOUN PUNCT ADJ ADP ADJ NOUN CCONJ ADJ NOUN CCONJ ADV ADV ADP ADV DET NOUN PUNCT CCONJ SYM NUM SYM ADJ CCONJ ADJ NOUN PUNCT PRON ADJ ADV ADV ADP PROPN VERB AUX PUNCT</td>\n    </tr>\n    <tr>\n      <th>212</th>\n      <td>NOUN</td>\n      <td>PROPN</td>\n      <td>Kasteel</td>\n      <td>Kastelen : Sint-Michielskasteel , Kasteel Lombaardstein , Kasteel Fruitenborg , Kasteel Zorgvliet , Kasteel Rozenhout</td>\n      <td>NOUN PUNCT PROPN PUNCT PROPN PROPN PUNCT PROPN PROPN PUNCT PROPN PROPN PUNCT PROPN PROPN</td>\n    </tr>\n    <tr>\n      <th>213</th>\n      <td>NOUN</td>\n      <td>PROPN</td>\n      <td>Kasteel</td>\n      <td>Kastelen : Sint-Michielskasteel , Kasteel Lombaardstein , Kasteel Fruitenborg , Kasteel Zorgvliet , Kasteel Rozenhout</td>\n      <td>NOUN PUNCT PROPN PUNCT PROPN PROPN PUNCT PROPN PROPN PUNCT PROPN PROPN PUNCT PROPN PROPN</td>\n    </tr>\n    <tr>\n      <th>214</th>\n      <td>NOUN</td>\n      <td>PROPN</td>\n      <td>Kasteel</td>\n      <td>Kastelen : Sint-Michielskasteel , Kasteel Lombaardstein , Kasteel Fruitenborg , Kasteel Zorgvliet , Kasteel Rozenhout</td>\n      <td>NOUN PUNCT PROPN PUNCT PROPN PROPN PUNCT PROPN PROPN PUNCT PROPN PROPN PUNCT PROPN PROPN</td>\n    </tr>\n    <tr>\n      <th>215</th>\n      <td>NOUN</td>\n      <td>PROPN</td>\n      <td>Kasteel</td>\n      <td>Kastelen : Sint-Michielskasteel , Kasteel Lombaardstein , Kasteel Fruitenborg , Kasteel Zorgvliet , Kasteel Rozenhout</td>\n      <td>NOUN PUNCT PROPN PUNCT PROPN PROPN PUNCT PROPN PROPN PUNCT PROPN PROPN PUNCT PROPN PROPN</td>\n    </tr>\n    <tr>\n      <th>216</th>\n      <td>PROPN</td>\n      <td>NOUN</td>\n      <td>Prijs</td>\n      <td>In 2003 verdween de Grote Prijs van België voor een jaar van de kalender onder druk van F1-baas Bernie Ecclestone omdat België niet langer tabaksreclame toeliet .</td>\n      <td>ADP NUM VERB DET ADJ NOUN ADP PROPN ADP DET NOUN ADP DET NOUN ADP NOUN ADP NOUN PROPN PROPN SCONJ PROPN ADV ADJ NOUN VERB PUNCT</td>\n    </tr>\n    <tr>\n      <th>217</th>\n      <td>PROPN</td>\n      <td>ADP</td>\n      <td>van</td>\n      <td>In 2003 verdween de Grote Prijs van België voor een jaar van de kalender onder druk van F1-baas Bernie Ecclestone omdat België niet langer tabaksreclame toeliet .</td>\n      <td>ADP NUM VERB DET ADJ NOUN ADP PROPN ADP DET NOUN ADP DET NOUN ADP NOUN ADP NOUN PROPN PROPN SCONJ PROPN ADV ADJ NOUN VERB PUNCT</td>\n    </tr>\n    <tr>\n      <th>218</th>\n      <td>PROPN</td>\n      <td>NOUN</td>\n      <td>F1</td>\n      <td>Na veel heisa kwam er een politiek compromis uit de bus zodat er vanaf 2004 weer F1 wagens rijden in de Ardennen .</td>\n      <td>ADP DET NOUN VERB ADV DET ADJ NOUN ADP DET NOUN SCONJ ADV ADP NUM ADV NOUN NOUN VERB ADP DET PROPN PUNCT</td>\n    </tr>\n    <tr>\n      <th>219</th>\n      <td>PROPN</td>\n      <td>NOUN</td>\n      <td>F1</td>\n      <td>Na enkele dodelijke ongevallen in de jaren 60 werd het protest van de piloten tegen het ultrasnelle en onveilige circuit steeds groter , in 1969 bleef de F1 voor het eerst weg , en in 1970 werd voorlopig de laatste Grand Prix gereden .</td>\n      <td>ADP DET ADJ NOUN ADP DET NOUN NUM VERB DET NOUN ADP DET NOUN ADP DET ADJ CCONJ ADJ NOUN ADV ADJ PUNCT ADP NUM VERB DET NOUN ADP DET ADJ ADV PUNCT CCONJ ADP NUM AUX ADJ DET ADJ PROPN PROPN VERB PUNCT</td>\n    </tr>\n    <tr>\n      <th>220</th>\n      <td>PROPN</td>\n      <td>NOUN</td>\n      <td>F1</td>\n      <td>In afwachting van de bouw van een vernieuwd circuit zou België het ook in 1971 zonder F1 moeten stellen , daarna werd uitgeweken naar de circuits van Nijvel ( in 1972 en 1974 ) en Zolder ( 1973 , 1975 t/m 1982 en 1984 ) .</td>\n      <td>ADP NOUN ADP DET NOUN ADP DET VERB NOUN AUX PROPN PRON ADV ADP NUM ADP NOUN AUX VERB PUNCT ADV AUX VERB ADP DET NOUN ADP PROPN PUNCT ADP NUM CCONJ NUM PUNCT CCONJ PROPN PUNCT NUM PUNCT NUM X NUM CCONJ NUM PUNCT PUNCT</td>\n    </tr>\n    <tr>\n      <th>221</th>\n      <td>ADP</td>\n      <td>X</td>\n      <td>t/m</td>\n      <td>In afwachting van de bouw van een vernieuwd circuit zou België het ook in 1971 zonder F1 moeten stellen , daarna werd uitgeweken naar de circuits van Nijvel ( in 1972 en 1974 ) en Zolder ( 1973 , 1975 t/m 1982 en 1984 ) .</td>\n      <td>ADP NOUN ADP DET NOUN ADP DET VERB NOUN AUX PROPN PRON ADV ADP NUM ADP NOUN AUX VERB PUNCT ADV AUX VERB ADP DET NOUN ADP PROPN PUNCT ADP NUM CCONJ NUM PUNCT CCONJ PROPN PUNCT NUM PUNCT NUM X NUM CCONJ NUM PUNCT PUNCT</td>\n    </tr>\n    <tr>\n      <th>222</th>\n      <td>NOUN</td>\n      <td>VERB</td>\n      <td>motorfietsen</td>\n      <td>Op het circuit werd overigens ook de Grand Prix Wegrace van België verreden , een wedstrijd voor de Grand Prix motorfietsen .</td>\n      <td>ADP DET NOUN AUX ADV ADV DET PROPN PROPN PROPN ADP PROPN VERB PUNCT DET NOUN ADP DET PROPN PROPN VERB PUNCT</td>\n    </tr>\n    <tr>\n      <th>223</th>\n      <td>PROPN</td>\n      <td>ADJ</td>\n      <td>Grote</td>\n      <td>Omdat aanpassingen aan stands en in verband met de veiligheid nog niet uitgevoerd waren , kwam de Grote Prijs van België F1 echter pas in 1983 terug naar Francorchamps .</td>\n      <td>SCONJ NOUN ADP NOUN CCONJ ADP NOUN ADP DET NOUN ADV ADV VERB AUX PUNCT VERB DET ADJ NOUN ADP PROPN NOUN ADV ADV ADP NUM ADV ADP PROPN PUNCT</td>\n    </tr>\n    <tr>\n      <th>224</th>\n      <td>PROPN</td>\n      <td>NOUN</td>\n      <td>Prijs</td>\n      <td>Omdat aanpassingen aan stands en in verband met de veiligheid nog niet uitgevoerd waren , kwam de Grote Prijs van België F1 echter pas in 1983 terug naar Francorchamps .</td>\n      <td>SCONJ NOUN ADP NOUN CCONJ ADP NOUN ADP DET NOUN ADV ADV VERB AUX PUNCT VERB DET ADJ NOUN ADP PROPN NOUN ADV ADV ADP NUM ADV ADP PROPN PUNCT</td>\n    </tr>\n    <tr>\n      <th>225</th>\n      <td>PROPN</td>\n      <td>ADP</td>\n      <td>van</td>\n      <td>Omdat aanpassingen aan stands en in verband met de veiligheid nog niet uitgevoerd waren , kwam de Grote Prijs van België F1 echter pas in 1983 terug naar Francorchamps .</td>\n      <td>SCONJ NOUN ADP NOUN CCONJ ADP NOUN ADP DET NOUN ADV ADV VERB AUX PUNCT VERB DET ADJ NOUN ADP PROPN NOUN ADV ADV ADP NUM ADV ADP PROPN PUNCT</td>\n    </tr>\n    <tr>\n      <th>226</th>\n      <td>PROPN</td>\n      <td>NOUN</td>\n      <td>F1</td>\n      <td>Omdat aanpassingen aan stands en in verband met de veiligheid nog niet uitgevoerd waren , kwam de Grote Prijs van België F1 echter pas in 1983 terug naar Francorchamps .</td>\n      <td>SCONJ NOUN ADP NOUN CCONJ ADP NOUN ADP DET NOUN ADV ADV VERB AUX PUNCT VERB DET ADJ NOUN ADP PROPN NOUN ADV ADV ADP NUM ADV ADP PROPN PUNCT</td>\n    </tr>\n    <tr>\n      <th>227</th>\n      <td>PROPN</td>\n      <td>NOUN</td>\n      <td>F1</td>\n      <td>De nieuwe start verliep niet bepaald vlekkeloos , de race diende bij een eerste poging uitgesteld te worden tot het najaar , omdat de F1 wagens het nieuwe , maar duidelijk niet op zijn taak berekende asfalt aan flarden reden .</td>\n      <td>DET ADJ NOUN VERB ADV VERB ADJ PUNCT DET NOUN VERB ADP DET ADJ NOUN VERB ADP AUX ADP DET NOUN PUNCT SCONJ DET NOUN NOUN DET ADJ PUNCT CCONJ ADJ ADV ADP PRON NOUN VERB NOUN ADP NOUN VERB PUNCT</td>\n    </tr>\n    <tr>\n      <th>228</th>\n      <td>ADJ</td>\n      <td>ADV</td>\n      <td>grotendeels</td>\n      <td>Deze blamage kreeg in België al meteen een communautair tintje , aangezien de aanpassingswerken grotendeels met overheidsgeld werden uitgevoerd , waarbij het circuit van Zolder ( in Vlaanderen ) zich benadeeld voelde tegenover het Waalse Francorchamps , was er in Vlaanderen behoorlijk wat leedvermaak .</td>\n      <td>DET NOUN VERB ADP PROPN ADV ADV DET ADJ NOUN PUNCT SCONJ DET NOUN ADV ADP NOUN AUX VERB PUNCT ADV DET NOUN ADP PROPN PUNCT ADP PROPN PUNCT PRON VERB VERB ADP DET ADJ PROPN PUNCT VERB ADV ADP PROPN ADJ DET NOUN PUNCT</td>\n    </tr>\n    <tr>\n      <th>229</th>\n      <td>PROPN</td>\n      <td>ADJ</td>\n      <td>Witte</td>\n      <td>De rivier ontspringt in de bauxietrijke heuvelrug Timan in de deelrepubliek Komi , stroomt in noordwestelijke richting en bereikt de Witte Zee bij de stad die dezelfde naam draagt als de rivier : Mezen , in het oblast Archangelsk .</td>\n      <td>DET NOUN VERB ADP DET ADJ NOUN PROPN ADP DET NOUN PROPN PUNCT VERB ADP ADJ NOUN CCONJ VERB DET ADJ NOUN ADP DET NOUN PRON DET NOUN VERB ADP DET NOUN PUNCT PROPN PUNCT ADP DET NOUN PROPN PUNCT</td>\n    </tr>\n    <tr>\n      <th>230</th>\n      <td>PROPN</td>\n      <td>NOUN</td>\n      <td>Zee</td>\n      <td>De rivier ontspringt in de bauxietrijke heuvelrug Timan in de deelrepubliek Komi , stroomt in noordwestelijke richting en bereikt de Witte Zee bij de stad die dezelfde naam draagt als de rivier : Mezen , in het oblast Archangelsk .</td>\n      <td>DET NOUN VERB ADP DET ADJ NOUN PROPN ADP DET NOUN PROPN PUNCT VERB ADP ADJ NOUN CCONJ VERB DET ADJ NOUN ADP DET NOUN PRON DET NOUN VERB ADP DET NOUN PUNCT PROPN PUNCT ADP DET NOUN PROPN PUNCT</td>\n    </tr>\n    <tr>\n      <th>231</th>\n      <td>ADJ</td>\n      <td>DET</td>\n      <td>dezelfde</td>\n      <td>De rivier ontspringt in de bauxietrijke heuvelrug Timan in de deelrepubliek Komi , stroomt in noordwestelijke richting en bereikt de Witte Zee bij de stad die dezelfde naam draagt als de rivier : Mezen , in het oblast Archangelsk .</td>\n      <td>DET NOUN VERB ADP DET ADJ NOUN PROPN ADP DET NOUN PROPN PUNCT VERB ADP ADJ NOUN CCONJ VERB DET ADJ NOUN ADP DET NOUN PRON DET NOUN VERB ADP DET NOUN PUNCT PROPN PUNCT ADP DET NOUN PROPN PUNCT</td>\n    </tr>\n    <tr>\n      <th>232</th>\n      <td>SCONJ</td>\n      <td>ADP</td>\n      <td>als</td>\n      <td>De rivier ontspringt in de bauxietrijke heuvelrug Timan in de deelrepubliek Komi , stroomt in noordwestelijke richting en bereikt de Witte Zee bij de stad die dezelfde naam draagt als de rivier : Mezen , in het oblast Archangelsk .</td>\n      <td>DET NOUN VERB ADP DET ADJ NOUN PROPN ADP DET NOUN PROPN PUNCT VERB ADP ADJ NOUN CCONJ VERB DET ADJ NOUN ADP DET NOUN PRON DET NOUN VERB ADP DET NOUN PUNCT PROPN PUNCT ADP DET NOUN PROPN PUNCT</td>\n    </tr>\n    <tr>\n      <th>233</th>\n      <td>PROPN</td>\n      <td>NOUN</td>\n      <td>Vastentijd</td>\n      <td>In de katholieke traditie is Aswoensdag het begin van de 40 dagen durende Vastentijd , die loopt tot Paaszaterdag , ook Stille Zaterdag genoemd .</td>\n      <td>ADP DET ADJ NOUN AUX PROPN DET NOUN ADP DET NUM NOUN VERB NOUN PUNCT PRON VERB ADP PROPN PUNCT ADV ADJ PROPN VERB PUNCT</td>\n    </tr>\n    <tr>\n      <th>234</th>\n      <td>PROPN</td>\n      <td>ADJ</td>\n      <td>Stille</td>\n      <td>In de katholieke traditie is Aswoensdag het begin van de 40 dagen durende Vastentijd , die loopt tot Paaszaterdag , ook Stille Zaterdag genoemd .</td>\n      <td>ADP DET ADJ NOUN AUX PROPN DET NOUN ADP DET NUM NOUN VERB NOUN PUNCT PRON VERB ADP PROPN PUNCT ADV ADJ PROPN VERB PUNCT</td>\n    </tr>\n    <tr>\n      <th>235</th>\n      <td>ADJ</td>\n      <td>NOUN</td>\n      <td>gelovigen</td>\n      <td>Op Aswoensdag laten katholieke en sommige protestantse gelovigen in de kerk een kruis met as op hun voorhoofd tekenen , het zogenaamde askruisje .</td>\n      <td>ADP PROPN VERB ADJ CCONJ DET ADJ NOUN ADP DET NOUN DET NOUN ADP NOUN ADP PRON NOUN VERB PUNCT DET ADJ NOUN PUNCT</td>\n    </tr>\n    <tr>\n      <th>236</th>\n      <td>AUX</td>\n      <td>VERB</td>\n      <td>is</td>\n      <td>Aswoensdag is , net zoals Goede Vrijdag , sinds het Tweede Vaticaans Concilie een verplichte vastendag voor katholieken .</td>\n      <td>PROPN VERB PUNCT ADV SCONJ PROPN PROPN PUNCT ADP DET ADJ ADJ NOUN DET VERB NOUN ADP NOUN PUNCT</td>\n    </tr>\n    <tr>\n      <th>237</th>\n      <td>PROPN</td>\n      <td>ADJ</td>\n      <td>Tweede</td>\n      <td>Aswoensdag is , net zoals Goede Vrijdag , sinds het Tweede Vaticaans Concilie een verplichte vastendag voor katholieken .</td>\n      <td>PROPN VERB PUNCT ADV SCONJ PROPN PROPN PUNCT ADP DET ADJ ADJ NOUN DET VERB NOUN ADP NOUN PUNCT</td>\n    </tr>\n    <tr>\n      <th>238</th>\n      <td>PROPN</td>\n      <td>ADJ</td>\n      <td>Vaticaans</td>\n      <td>Aswoensdag is , net zoals Goede Vrijdag , sinds het Tweede Vaticaans Concilie een verplichte vastendag voor katholieken .</td>\n      <td>PROPN VERB PUNCT ADV SCONJ PROPN PROPN PUNCT ADP DET ADJ ADJ NOUN DET VERB NOUN ADP NOUN PUNCT</td>\n    </tr>\n    <tr>\n      <th>239</th>\n      <td>PROPN</td>\n      <td>NOUN</td>\n      <td>Concilie</td>\n      <td>Aswoensdag is , net zoals Goede Vrijdag , sinds het Tweede Vaticaans Concilie een verplichte vastendag voor katholieken .</td>\n      <td>PROPN VERB PUNCT ADV SCONJ PROPN PROPN PUNCT ADP DET ADJ ADJ NOUN DET VERB NOUN ADP NOUN PUNCT</td>\n    </tr>\n    <tr>\n      <th>240</th>\n      <td>NOUN</td>\n      <td>PROPN</td>\n      <td>Aswoensdag</td>\n      <td>Aswoensdag op www.katholieknederland.nl</td>\n      <td>PROPN ADP SYM</td>\n    </tr>\n    <tr>\n      <th>241</th>\n      <td>NOUN</td>\n      <td>PROPN</td>\n      <td>Uitgeverij</td>\n      <td>« Eigen volk eerst » , Uitgeverij TYR , 1989 .</td>\n      <td>PUNCT ADJ NOUN ADV PUNCT PUNCT PROPN PROPN PUNCT NUM PUNCT</td>\n    </tr>\n    <tr>\n      <th>242</th>\n      <td>NOUN</td>\n      <td>PROPN</td>\n      <td>Uitgeverij</td>\n      <td>- Antwoord aan Paula D'Hondt » , Uitgeverij TYR , 1991 .</td>\n      <td>PUNCT NOUN ADP PROPN PROPN PUNCT PUNCT PROPN PROPN PUNCT NUM PUNCT</td>\n    </tr>\n    <tr>\n      <th>243</th>\n      <td>NUM</td>\n      <td>DET</td>\n      <td>Een</td>\n      <td>« Een tegen Allen - Opkomst van het Vlaams Blok » , Uitgeverij TYR , 1993 .</td>\n      <td>PUNCT DET ADP PRON SYM NOUN ADP DET ADJ NOUN PUNCT PUNCT PROPN PROPN PUNCT NUM PUNCT</td>\n    </tr>\n    <tr>\n      <th>244</th>\n      <td>PROPN</td>\n      <td>ADJ</td>\n      <td>Vlaams</td>\n      <td>« Een tegen Allen - Opkomst van het Vlaams Blok » , Uitgeverij TYR , 1993 .</td>\n      <td>PUNCT DET ADP PRON SYM NOUN ADP DET ADJ NOUN PUNCT PUNCT PROPN PROPN PUNCT NUM PUNCT</td>\n    </tr>\n    <tr>\n      <th>245</th>\n      <td>PROPN</td>\n      <td>NOUN</td>\n      <td>Blok</td>\n      <td>« Een tegen Allen - Opkomst van het Vlaams Blok » , Uitgeverij TYR , 1993 .</td>\n      <td>PUNCT DET ADP PRON SYM NOUN ADP DET ADJ NOUN PUNCT PUNCT PROPN PROPN PUNCT NUM PUNCT</td>\n    </tr>\n    <tr>\n      <th>246</th>\n      <td>NOUN</td>\n      <td>PROPN</td>\n      <td>Uitgeverij</td>\n      <td>« Een tegen Allen - Opkomst van het Vlaams Blok » , Uitgeverij TYR , 1993 .</td>\n      <td>PUNCT DET ADP PRON SYM NOUN ADP DET ADJ NOUN PUNCT PUNCT PROPN PROPN PUNCT NUM PUNCT</td>\n    </tr>\n    <tr>\n      <th>247</th>\n      <td>PUNCT</td>\n      <td>SYM</td>\n      <td>:</td>\n      <td>« Immigratie : De tijdbom tikt » , Uitgeverij TYR , 1996 .</td>\n      <td>PUNCT NOUN SYM DET NOUN VERB PUNCT PUNCT PROPN PROPN PUNCT NUM PUNCT</td>\n    </tr>\n    <tr>\n      <th>248</th>\n      <td>NOUN</td>\n      <td>PROPN</td>\n      <td>Uitgeverij</td>\n      <td>« Immigratie : De tijdbom tikt » , Uitgeverij TYR , 1996 .</td>\n      <td>PUNCT NOUN SYM DET NOUN VERB PUNCT PUNCT PROPN PROPN PUNCT NUM PUNCT</td>\n    </tr>\n    <tr>\n      <th>249</th>\n      <td>PUNCT</td>\n      <td>SYM</td>\n      <td>-</td>\n      <td>« Baas in eigen land - Over identiteit , culturele eigenheid en nationaliteit » , Uitgeverij Egmont , 2000 .</td>\n      <td>PUNCT NOUN ADP ADJ NOUN SYM ADP NOUN SYM ADJ NOUN CCONJ NOUN PUNCT PUNCT NOUN PROPN PUNCT NUM PUNCT</td>\n    </tr>\n    <tr>\n      <th>250</th>\n      <td>PUNCT</td>\n      <td>SYM</td>\n      <td>,</td>\n      <td>« Baas in eigen land - Over identiteit , culturele eigenheid en nationaliteit » , Uitgeverij Egmont , 2000 .</td>\n      <td>PUNCT NOUN ADP ADJ NOUN SYM ADP NOUN SYM ADJ NOUN CCONJ NOUN PUNCT PUNCT NOUN PROPN PUNCT NUM PUNCT</td>\n    </tr>\n    <tr>\n      <th>251</th>\n      <td>PROPN</td>\n      <td>NOUN</td>\n      <td>Uitgeverij</td>\n      <td>« Baas in eigen land - Over identiteit , culturele eigenheid en nationaliteit » , Uitgeverij Egmont , 2000 .</td>\n      <td>PUNCT NOUN ADP ADJ NOUN SYM ADP NOUN SYM ADJ NOUN CCONJ NOUN PUNCT PUNCT NOUN PROPN PUNCT NUM PUNCT</td>\n    </tr>\n    <tr>\n      <th>252</th>\n      <td>PUNCT</td>\n      <td>SYM</td>\n      <td>-</td>\n      <td>« Zerotolerantie tegen criminaliteit - Over de aanpak van de misdaad » , Uitgeverij Egmont , 2004 .</td>\n      <td>PUNCT NOUN ADP NOUN SYM ADP DET NOUN ADP DET NOUN PUNCT PUNCT NOUN PROPN PUNCT NUM PUNCT</td>\n    </tr>\n    <tr>\n      <th>253</th>\n      <td>PROPN</td>\n      <td>NOUN</td>\n      <td>Uitgeverij</td>\n      <td>« Zerotolerantie tegen criminaliteit - Over de aanpak van de misdaad » , Uitgeverij Egmont , 2004 .</td>\n      <td>PUNCT NOUN ADP NOUN SYM ADP DET NOUN ADP DET NOUN PUNCT PUNCT NOUN PROPN PUNCT NUM PUNCT</td>\n    </tr>\n    <tr>\n      <th>254</th>\n      <td>PROPN</td>\n      <td>NOUN</td>\n      <td>Troef</td>\n      <td>« Antwerpen Troef » , Uitgeverij Egmont , 2006</td>\n      <td>PUNCT PROPN NOUN PUNCT PUNCT NOUN PROPN PUNCT NUM</td>\n    </tr>\n    <tr>\n      <th>255</th>\n      <td>PROPN</td>\n      <td>NOUN</td>\n      <td>Uitgeverij</td>\n      <td>« Antwerpen Troef » , Uitgeverij Egmont , 2006</td>\n      <td>PUNCT PROPN NOUN PUNCT PUNCT NOUN PROPN PUNCT NUM</td>\n    </tr>\n    <tr>\n      <th>256</th>\n      <td>PROPN</td>\n      <td>ADJ</td>\n      <td>Vlaams</td>\n      <td>( « Vlaams Blok-meeting » , 1991 )</td>\n      <td>PUNCT PUNCT ADJ NOUN PUNCT PUNCT NUM PUNCT</td>\n    </tr>\n    <tr>\n      <th>257</th>\n      <td>ADV</td>\n      <td>ADJ</td>\n      <td>eerst</td>\n      <td>\" Het ` werk voor eigen volk eerst ' - principe moet in Antwerpen meer dan ooit de leidraad vormen van het stedelijk werkgelegenheidsbeleid . \"</td>\n      <td>PUNCT DET PUNCT NOUN ADP ADJ NOUN ADJ PUNCT PUNCT NOUN AUX ADP PROPN ADV SCONJ ADV DET NOUN VERB ADP DET ADJ NOUN PUNCT PUNCT</td>\n    </tr>\n    <tr>\n      <th>258</th>\n      <td>ADJ</td>\n      <td>VERB</td>\n      <td>gematigde</td>\n      <td>\" Ik geloof niet in een gematigde islam .</td>\n      <td>PUNCT PRON VERB ADV ADP DET VERB NOUN PUNCT</td>\n    </tr>\n    <tr>\n      <th>259</th>\n      <td>ADJ</td>\n      <td>VERB</td>\n      <td>bepaalde</td>\n      <td>Zo doen ze zich een bepaalde tijd voor , maar dat is schone schijn .</td>\n      <td>ADV VERB PRON PRON DET VERB NOUN ADP PUNCT CCONJ PRON AUX ADJ NOUN PUNCT</td>\n    </tr>\n    <tr>\n      <th>260</th>\n      <td>VERB</td>\n      <td>AUX</td>\n      <td>konden</td>\n      <td>Hoewel ik me realiseer dat dit voor Joodse lezers moeilijk te begrijpen valt , dachten de meeste collaborateurs dat zij een onafhankelijk Vlaanderen konden realiseren door met de Duitsers samen te werken .</td>\n      <td>SCONJ PRON PRON VERB SCONJ PRON ADP ADJ NOUN ADJ ADP VERB VERB PUNCT VERB DET ADV NOUN SCONJ PRON DET ADJ PROPN AUX VERB ADP ADP DET PROPN ADV ADP VERB PUNCT</td>\n    </tr>\n    <tr>\n      <th>261</th>\n      <td>ADJ</td>\n      <td>PRON</td>\n      <td>enige</td>\n      <td>Het enige wat ik vandaag de dag kan doen , is begrip tonen voor het lijden van het Joodse volk . \"</td>\n      <td>DET PRON PRON PRON ADV DET NOUN AUX VERB PUNCT AUX NOUN VERB ADP DET VERB ADP DET ADJ NOUN PUNCT PUNCT</td>\n    </tr>\n    <tr>\n      <th>262</th>\n      <td>NOUN</td>\n      <td>VERB</td>\n      <td>lijden</td>\n      <td>Het enige wat ik vandaag de dag kan doen , is begrip tonen voor het lijden van het Joodse volk . \"</td>\n      <td>DET PRON PRON PRON ADV DET NOUN AUX VERB PUNCT AUX NOUN VERB ADP DET VERB ADP DET ADJ NOUN PUNCT PUNCT</td>\n    </tr>\n    <tr>\n      <th>263</th>\n      <td>ADP</td>\n      <td>NOUN</td>\n      <td>getuige</td>\n      <td>Staf de Clercq was een collaborateur tijdens de Tweede Wereldoorlog , die fel antisemitisch was getuige zijn uitspraak : \" Er is maar één oplossing : zuivering van ons gehele volkslichaam , totale en volledige uitschakeling van de Jood uit het gezonde volkslichaam . \" )</td>\n      <td>PROPN PROPN PROPN AUX DET NOUN ADP DET PROPN PROPN PUNCT PRON ADJ ADJ AUX NOUN PRON NOUN PUNCT PUNCT ADV VERB ADV NUM NOUN PUNCT NOUN ADP PRON ADJ NOUN PUNCT ADJ CCONJ ADJ NOUN ADP DET PROPN ADP DET ADJ NOUN PUNCT PUNCT PUNCT</td>\n    </tr>\n    <tr>\n      <th>264</th>\n      <td>SCONJ</td>\n      <td>ADP</td>\n      <td>als</td>\n      <td>Op de veiligheidsmeeting van de partij in april 2006 verklaarde hij : \" Wij hebben er genoeg van om als autochtoon opgejaagd wild te fungeren .</td>\n      <td>ADP DET NOUN ADP DET NOUN ADP PROPN NUM VERB PRON PUNCT PUNCT PRON VERB PRON ADV ADP ADP ADP ADJ VERB ADJ ADP VERB PUNCT</td>\n    </tr>\n    <tr>\n      <th>265</th>\n      <td>SCONJ</td>\n      <td>ADP</td>\n      <td>als</td>\n      <td>In plaats van als angsthazen door het leven te gaan , kunnen wij maar beter boswachter worden . \"</td>\n      <td>ADP NOUN ADP ADP NOUN ADP DET NOUN ADP VERB PUNCT AUX PRON ADV ADJ NOUN VERB PUNCT PUNCT</td>\n    </tr>\n    <tr>\n      <th>266</th>\n      <td>PROPN</td>\n      <td>NOUN</td>\n      <td>Scholieren</td>\n      <td>Hij richtte er in 1978 als zestienjarige de Vlaamse Scholieren Actie Groep op , die later uitgroeide tot het NJSV .</td>\n      <td>PRON VERB ADV ADP NUM ADP ADJ DET ADJ NOUN NOUN NOUN ADP PUNCT PRON ADJ VERB ADP DET PROPN PUNCT</td>\n    </tr>\n    <tr>\n      <th>267</th>\n      <td>PROPN</td>\n      <td>NOUN</td>\n      <td>Actie</td>\n      <td>Hij richtte er in 1978 als zestienjarige de Vlaamse Scholieren Actie Groep op , die later uitgroeide tot het NJSV .</td>\n      <td>PRON VERB ADV ADP NUM ADP ADJ DET ADJ NOUN NOUN NOUN ADP PUNCT PRON ADJ VERB ADP DET PROPN PUNCT</td>\n    </tr>\n    <tr>\n      <th>268</th>\n      <td>PROPN</td>\n      <td>NOUN</td>\n      <td>Groep</td>\n      <td>Hij richtte er in 1978 als zestienjarige de Vlaamse Scholieren Actie Groep op , die later uitgroeide tot het NJSV .</td>\n      <td>PRON VERB ADV ADP NUM ADP ADJ DET ADJ NOUN NOUN NOUN ADP PUNCT PRON ADJ VERB ADP DET PROPN PUNCT</td>\n    </tr>\n    <tr>\n      <th>269</th>\n      <td>PROPN</td>\n      <td>NOUN</td>\n      <td>Volkspartij</td>\n      <td>Datzelfde jaar nog was hij ook kortstondig lid van de Vlaamse Volkspartij .</td>\n      <td>DET NOUN ADV AUX PRON ADV ADJ NOUN ADP DET ADJ NOUN PUNCT</td>\n    </tr>\n    <tr>\n      <th>270</th>\n      <td>PROPN</td>\n      <td>NOUN</td>\n      <td>Pol&amp;Soc</td>\n      <td>In september 1982 verhuisde hij naar Antwerpen om er politieke en sociale wetenschappen ( = « Pol&amp;Soc » ) te kunnen gaan studeren aan de Universitaire Faculteiten Sint-Ignatius Antwerpen en werd er lid van de NSV .</td>\n      <td>ADP PROPN NUM VERB PRON ADP PROPN ADP ADV ADJ CCONJ ADJ NOUN PUNCT SYM PUNCT NOUN PUNCT PUNCT ADP AUX VERB VERB ADP DET ADJ NOUN PROPN PROPN CCONJ VERB ADV NOUN ADP DET PROPN PUNCT</td>\n    </tr>\n    <tr>\n      <th>271</th>\n      <td>PROPN</td>\n      <td>NOUN</td>\n      <td>Faculteiten</td>\n      <td>In september 1982 verhuisde hij naar Antwerpen om er politieke en sociale wetenschappen ( = « Pol&amp;Soc » ) te kunnen gaan studeren aan de Universitaire Faculteiten Sint-Ignatius Antwerpen en werd er lid van de NSV .</td>\n      <td>ADP PROPN NUM VERB PRON ADP PROPN ADP ADV ADJ CCONJ ADJ NOUN PUNCT SYM PUNCT NOUN PUNCT PUNCT ADP AUX VERB VERB ADP DET ADJ NOUN PROPN PROPN CCONJ VERB ADV NOUN ADP DET PROPN PUNCT</td>\n    </tr>\n    <tr>\n      <th>272</th>\n      <td>ADJ</td>\n      <td>NOUN</td>\n      <td>journalistiek</td>\n      <td>Twee jaar later verliet hij de universiteit en ging journalistiek studeren aan de Erasmushogeschool .</td>\n      <td>NUM NOUN ADJ VERB PRON DET NOUN CCONJ VERB NOUN VERB ADP DET PROPN PUNCT</td>\n    </tr>\n    <tr>\n      <th>273</th>\n      <td>AUX</td>\n      <td>VERB</td>\n      <td>hebben</td>\n      <td>Na enkele jaren als journalist gewerkt te hebben , werd hij in 1992 fractievoorzitter , wat hij nu nog altijd is bij het Vlaams Belang .</td>\n      <td>ADP DET NOUN ADP NOUN VERB ADP VERB PUNCT VERB PRON ADP NUM NOUN PUNCT PRON PRON ADV ADV ADV AUX ADP DET PROPN PROPN PUNCT</td>\n    </tr>\n    <tr>\n      <th>274</th>\n      <td>PROPN</td>\n      <td>ADJ</td>\n      <td>Hogere</td>\n      <td>NUHO journalistiek , Hogere Handelsschool Erasmus ( 1985 )</td>\n      <td>PROPN NOUN PUNCT ADJ NOUN PROPN PUNCT NUM PUNCT</td>\n    </tr>\n    <tr>\n      <th>275</th>\n      <td>PROPN</td>\n      <td>NOUN</td>\n      <td>Handelsschool</td>\n      <td>NUHO journalistiek , Hogere Handelsschool Erasmus ( 1985 )</td>\n      <td>PROPN NOUN PUNCT ADJ NOUN PROPN PUNCT NUM PUNCT</td>\n    </tr>\n    <tr>\n      <th>276</th>\n      <td>PROPN</td>\n      <td>ADJ</td>\n      <td>Vlaams</td>\n      <td>Voorzitter Vlaams Blok Jongeren ( 1987-1989 )</td>\n      <td>NOUN ADJ NOUN ADJ PUNCT NUM PUNCT</td>\n    </tr>\n    <tr>\n      <th>277</th>\n      <td>PROPN</td>\n      <td>NOUN</td>\n      <td>Blok</td>\n      <td>Voorzitter Vlaams Blok Jongeren ( 1987-1989 )</td>\n      <td>NOUN ADJ NOUN ADJ PUNCT NUM PUNCT</td>\n    </tr>\n    <tr>\n      <th>278</th>\n      <td>PROPN</td>\n      <td>ADJ</td>\n      <td>Jongeren</td>\n      <td>Voorzitter Vlaams Blok Jongeren ( 1987-1989 )</td>\n      <td>NOUN ADJ NOUN ADJ PUNCT NUM PUNCT</td>\n    </tr>\n    <tr>\n      <th>279</th>\n      <td>SYM</td>\n      <td>NUM</td>\n      <td>1987-1989</td>\n      <td>Voorzitter Vlaams Blok Jongeren ( 1987-1989 )</td>\n      <td>NOUN ADJ NOUN ADJ PUNCT NUM PUNCT</td>\n    </tr>\n    <tr>\n      <th>280</th>\n      <td>SYM</td>\n      <td>NUM</td>\n      <td>1987-2004</td>\n      <td>Partijbestuurslid Vlaams Blok ( 1987-2004 ) en Vlaams Belang ( 2004-... )</td>\n      <td>NOUN PROPN PROPN PUNCT NUM PUNCT CCONJ PROPN PROPN PUNCT NUM PUNCT</td>\n    </tr>\n    <tr>\n      <th>281</th>\n      <td>SYM</td>\n      <td>NUM</td>\n      <td>2004-...</td>\n      <td>Partijbestuurslid Vlaams Blok ( 1987-2004 ) en Vlaams Belang ( 2004-... )</td>\n      <td>NOUN PROPN PROPN PUNCT NUM PUNCT CCONJ PROPN PROPN PUNCT NUM PUNCT</td>\n    </tr>\n    <tr>\n      <th>282</th>\n      <td>SYM</td>\n      <td>NUM</td>\n      <td>1995-...</td>\n      <td>Gemeenteraadslid Antwerpen ( 1995-... )</td>\n      <td>NOUN PROPN PUNCT NUM PUNCT</td>\n    </tr>\n    <tr>\n      <th>283</th>\n      <td>SYM</td>\n      <td>NUM</td>\n      <td>1985-1987</td>\n      <td>Provincieraadslid ( 1985-1987 )</td>\n      <td>NOUN PUNCT NUM PUNCT</td>\n    </tr>\n    <tr>\n      <th>284</th>\n      <td>SYM</td>\n      <td>NUM</td>\n      <td>1985-1987</td>\n      <td>Volksvertegenwoordiger ( 1985-1987 )</td>\n      <td>NOUN PUNCT NUM PUNCT</td>\n    </tr>\n    <tr>\n      <th>285</th>\n      <td>SYM</td>\n      <td>NUM</td>\n      <td>1988-1995</td>\n      <td>Lid Vlaamse Raad ( 1988-1995 )</td>\n      <td>NOUN ADJ NOUN PUNCT NUM PUNCT</td>\n    </tr>\n    <tr>\n      <th>286</th>\n      <td>SYM</td>\n      <td>NUM</td>\n      <td>1995-...</td>\n      <td>Vlaams Volksvertegenwoordiger ( 1995-... )</td>\n      <td>ADJ NOUN PUNCT NUM PUNCT</td>\n    </tr>\n    <tr>\n      <th>287</th>\n      <td>SYM</td>\n      <td>NUM</td>\n      <td>1992-2004</td>\n      <td>Fractievoorzitter Vlaams Blok ( 1992-2004 ) en Vlaams Belang ( 2004-... )</td>\n      <td>NOUN PROPN PROPN PUNCT NUM PUNCT CCONJ PROPN PROPN PUNCT NUM PUNCT</td>\n    </tr>\n    <tr>\n      <th>288</th>\n      <td>SYM</td>\n      <td>NUM</td>\n      <td>2004-...</td>\n      <td>Fractievoorzitter Vlaams Blok ( 1992-2004 ) en Vlaams Belang ( 2004-... )</td>\n      <td>NOUN PROPN PROPN PUNCT NUM PUNCT CCONJ PROPN PROPN PUNCT NUM PUNCT</td>\n    </tr>\n    <tr>\n      <th>289</th>\n      <td>SYM</td>\n      <td>NUM</td>\n      <td>1992-...</td>\n      <td>Lid uitgebreid bureau Vlaams Parlement ( 1992-... )</td>\n      <td>NOUN VERB NOUN PROPN PROPN PUNCT NUM PUNCT</td>\n    </tr>\n    <tr>\n      <th>290</th>\n      <td>PROPN</td>\n      <td>ADJ</td>\n      <td>Universitaire</td>\n      <td>Hij was onder meer lid van de departementsraad rechten en de raad van beheer en het dagelijks bestuur van de Universitaire Instelling Antwerpen , hoofdredacteur van de SW-krant en lid van het presidium van Sofia , de studentenvereniging van de rechten .</td>\n      <td>PRON AUX ADP PRON NOUN ADP DET NOUN NOUN CCONJ DET NOUN ADP NOUN CCONJ DET ADJ NOUN ADP DET ADJ NOUN PROPN PUNCT NOUN ADP DET PROPN CCONJ NOUN ADP DET NOUN ADP PROPN PUNCT DET NOUN ADP DET NOUN PUNCT</td>\n    </tr>\n    <tr>\n      <th>291</th>\n      <td>PROPN</td>\n      <td>NOUN</td>\n      <td>Instelling</td>\n      <td>Hij was onder meer lid van de departementsraad rechten en de raad van beheer en het dagelijks bestuur van de Universitaire Instelling Antwerpen , hoofdredacteur van de SW-krant en lid van het presidium van Sofia , de studentenvereniging van de rechten .</td>\n      <td>PRON AUX ADP PRON NOUN ADP DET NOUN NOUN CCONJ DET NOUN ADP NOUN CCONJ DET ADJ NOUN ADP DET ADJ NOUN PROPN PUNCT NOUN ADP DET PROPN CCONJ NOUN ADP DET NOUN ADP PROPN PUNCT DET NOUN ADP DET NOUN PUNCT</td>\n    </tr>\n    <tr>\n      <th>292</th>\n      <td>PROPN</td>\n      <td>NOUN</td>\n      <td>Tegenstroom</td>\n      <td>In het academiejaar 1980-1981 was hij bovendien hoofdredacteur van het studentenblad « Tegenstroom » , tijdschrift van KVHV-Antwerpen .</td>\n      <td>ADP DET NOUN NUM AUX PRON ADV NOUN ADP DET NOUN PUNCT NOUN PUNCT PUNCT NOUN ADP PROPN PUNCT</td>\n    </tr>\n    <tr>\n      <th>293</th>\n      <td>PROPN</td>\n      <td>DET</td>\n      <td>'t</td>\n      <td>Annemans verzorgde ook enkele rubrieken in het weekblad 't Pallieterke , waarvan hij op termijn mogelijk hoofdredacteur zou worden , maar uiteindelijk koos hij voor een engagement in de politiek .</td>\n      <td>PROPN VERB ADV DET NOUN ADP DET NOUN DET PROPN PUNCT ADV PRON ADP NOUN ADJ NOUN AUX VERB PUNCT CCONJ ADJ VERB PRON ADP DET NOUN ADP DET NOUN PUNCT</td>\n    </tr>\n    <tr>\n      <th>294</th>\n      <td>PROPN</td>\n      <td>NOUN</td>\n      <td>Project</td>\n      <td>Project Vlaamse Staat</td>\n      <td>NOUN ADJ NOUN</td>\n    </tr>\n    <tr>\n      <th>295</th>\n      <td>NOUN</td>\n      <td>PROPN</td>\n      <td>Amerikanen</td>\n      <td>Amerikanen waren de boeven in « De geheimzinnige ster » , die verscheen onder het toeziend oog van de Duitse bezetter , waardoor hem soms ook collaboratie met de nazi's in de schoenen geschoven wordt .</td>\n      <td>PROPN AUX DET NOUN ADP PUNCT DET ADJ NOUN PUNCT PUNCT PRON VERB ADP DET VERB NOUN ADP DET ADJ NOUN PUNCT ADV PRON ADV ADV NOUN ADP DET NOUN ADP DET NOUN VERB AUX PUNCT</td>\n    </tr>\n    <tr>\n      <th>296</th>\n      <td>SCONJ</td>\n      <td>ADP</td>\n      <td>Ondanks</td>\n      <td>Ondanks dat het bewijs al meermaals geleverd is dat Hergé geen uitgesproken mening had over zulke zaken , blijven sommigen hem echter betichten van racisme en collaboratie .</td>\n      <td>ADP SCONJ DET NOUN ADV ADV VERB AUX SCONJ PROPN DET VERB NOUN VERB ADP DET NOUN PUNCT VERB PRON PRON ADV VERB ADP NOUN CCONJ NOUN PUNCT</td>\n    </tr>\n    <tr>\n      <th>297</th>\n      <td>PROPN</td>\n      <td>SYM</td>\n      <td>&amp;</td>\n      <td>Andere strips van Hergé zijn Jo , Suus en Jokko en Quick &amp; Flupke .</td>\n      <td>ADJ NOUN ADP PROPN AUX PROPN PUNCT PROPN CCONJ PROPN CCONJ PROPN SYM PROPN PUNCT</td>\n    </tr>\n    <tr>\n      <th>298</th>\n      <td>PROPN</td>\n      <td>NOUN</td>\n      <td>Begraafplaats</td>\n      <td>Hergé ligt begraven op de ' Begraafplaats van Dieweg ' in Ukkel in Brussel .</td>\n      <td>PROPN VERB VERB ADP DET PUNCT NOUN ADP PROPN PUNCT ADP PROPN ADP PROPN PUNCT</td>\n    </tr>\n    <tr>\n      <th>299</th>\n      <td>PRON</td>\n      <td>SCONJ</td>\n      <td>dat</td>\n      <td>Als je de initialen van zijn naam omdraait ( RG ) en in het Frans uitspreekt , klinkt dat als « erzjee » wat je in het Frans kunt schrijven als « Hergé » .</td>\n      <td>SCONJ PRON DET NOUN ADP PRON NOUN VERB PUNCT PROPN PUNCT CCONJ ADP DET PROPN VERB PUNCT VERB SCONJ ADP PUNCT X PUNCT PRON PRON ADP DET PROPN AUX VERB ADP PUNCT PROPN PUNCT PUNCT</td>\n    </tr>\n    <tr>\n      <th>300</th>\n      <td>SCONJ</td>\n      <td>ADP</td>\n      <td>als</td>\n      <td>Als je de initialen van zijn naam omdraait ( RG ) en in het Frans uitspreekt , klinkt dat als « erzjee » wat je in het Frans kunt schrijven als « Hergé » .</td>\n      <td>SCONJ PRON DET NOUN ADP PRON NOUN VERB PUNCT PROPN PUNCT CCONJ ADP DET PROPN VERB PUNCT VERB SCONJ ADP PUNCT X PUNCT PRON PRON ADP DET PROPN AUX VERB ADP PUNCT PROPN PUNCT PUNCT</td>\n    </tr>\n    <tr>\n      <th>301</th>\n      <td>ADJ</td>\n      <td>ADV</td>\n      <td>ongetwijfeld</td>\n      <td>Zijn bekendste creatie is ongetwijfeld Tintin ( Kuifje ) , een jonge krantenverslaggever die over de hele wereld in avonturen verzeild raakt .</td>\n      <td>PRON ADJ NOUN AUX ADV PROPN PUNCT PROPN PUNCT PUNCT DET ADJ NOUN PRON ADP DET ADJ NOUN ADP NOUN VERB VERB PUNCT</td>\n    </tr>\n    <tr>\n      <th>302</th>\n      <td>ADJ</td>\n      <td>VERB</td>\n      <td>begenadigd</td>\n      <td>Het grootste talent van Hergé was wellicht dat hij een begenadigd regisseur was .</td>\n      <td>DET ADJ NOUN ADP PROPN AUX ADV SCONJ PRON DET VERB NOUN AUX PUNCT</td>\n    </tr>\n    <tr>\n      <th>303</th>\n      <td>DET</td>\n      <td>PROPN</td>\n      <td>De</td>\n      <td>Hergé raakte in een politiek conflict betrokken toen hij het ware verhaal van de aanval van Japan op China in het Kuifje-album « De Blauwe Lotus » probeerde te vertellen .</td>\n      <td>PROPN VERB ADP DET ADJ NOUN VERB SCONJ PRON DET ADJ NOUN ADP DET NOUN ADP PROPN ADP PROPN ADP DET NOUN PUNCT PROPN PROPN PROPN PUNCT VERB ADP VERB PUNCT</td>\n    </tr>\n    <tr>\n      <th>304</th>\n      <td>ADJ</td>\n      <td>PROPN</td>\n      <td>Blauwe</td>\n      <td>Hergé raakte in een politiek conflict betrokken toen hij het ware verhaal van de aanval van Japan op China in het Kuifje-album « De Blauwe Lotus » probeerde te vertellen .</td>\n      <td>PROPN VERB ADP DET ADJ NOUN VERB SCONJ PRON DET ADJ NOUN ADP DET NOUN ADP PROPN ADP PROPN ADP DET NOUN PUNCT PROPN PROPN PROPN PUNCT VERB ADP VERB PUNCT</td>\n    </tr>\n    <tr>\n      <th>305</th>\n      <td>NOUN</td>\n      <td>PROPN</td>\n      <td>Lotus</td>\n      <td>Hergé raakte in een politiek conflict betrokken toen hij het ware verhaal van de aanval van Japan op China in het Kuifje-album « De Blauwe Lotus » probeerde te vertellen .</td>\n      <td>PROPN VERB ADP DET ADJ NOUN VERB SCONJ PRON DET ADJ NOUN ADP DET NOUN ADP PROPN ADP PROPN ADP DET NOUN PUNCT PROPN PROPN PROPN PUNCT VERB ADP VERB PUNCT</td>\n    </tr>\n    <tr>\n      <th>306</th>\n      <td>DET</td>\n      <td>PROPN</td>\n      <td>De</td>\n      <td>« De Blauwe Lotus » is een keerpunt in de ontwikkeling van Kuifje .</td>\n      <td>PUNCT PROPN PROPN PROPN PUNCT AUX DET NOUN ADP DET NOUN ADP PROPN PUNCT</td>\n    </tr>\n    <tr>\n      <th>307</th>\n      <td>ADJ</td>\n      <td>PROPN</td>\n      <td>Blauwe</td>\n      <td>« De Blauwe Lotus » is een keerpunt in de ontwikkeling van Kuifje .</td>\n      <td>PUNCT PROPN PROPN PROPN PUNCT AUX DET NOUN ADP DET NOUN ADP PROPN PUNCT</td>\n    </tr>\n    <tr>\n      <th>308</th>\n      <td>NOUN</td>\n      <td>PROPN</td>\n      <td>Lotus</td>\n      <td>« De Blauwe Lotus » is een keerpunt in de ontwikkeling van Kuifje .</td>\n      <td>PUNCT PROPN PROPN PROPN PUNCT AUX DET NOUN ADP DET NOUN ADP PROPN PUNCT</td>\n    </tr>\n    <tr>\n      <th>309</th>\n      <td>SCONJ</td>\n      <td>ADP</td>\n      <td>als</td>\n      <td>Dankzij deze stereotypen en latere vergissingen , wordt Hergé nog vaak gezien als racist , temeer omdat hij Leon Degrelle , dé Belgische aanhanger van Hitler tijdens de Tweede Wereldoorlog , gekend heeft voor deze in de politiek stapte .</td>\n      <td>ADP DET NOUN CCONJ ADJ NOUN PUNCT AUX PROPN ADV ADJ VERB ADP NOUN PUNCT ADV SCONJ PRON PROPN PROPN PUNCT DET ADJ NOUN ADP PROPN ADP DET PROPN PROPN PUNCT VERB AUX ADP PRON ADP DET NOUN VERB PUNCT</td>\n    </tr>\n    <tr>\n      <th>310</th>\n      <td>PROPN</td>\n      <td>NOUN</td>\n      <td>O.L.V.-college</td>\n      <td>In 1873 liep de jonge Ensor school op het Oostendse O.L.V.-college .</td>\n      <td>ADP NUM VERB DET ADJ PROPN NOUN ADP DET ADJ NOUN PUNCT</td>\n    </tr>\n    <tr>\n      <th>311</th>\n      <td>PROPN</td>\n      <td>NOUN</td>\n      <td>Onze-Lieve-Vrouwecollege</td>\n      <td>De archieven van het Onze-Lieve-Vrouwecollege bevat een boekje \" Le petit sécrétaire \" met op het titelblad \" Een ruiter te paard \" , getekend door de jonge Ensor .</td>\n      <td>DET NOUN ADP DET NOUN VERB DET NOUN PUNCT X X X PUNCT ADP ADP DET NOUN PUNCT DET NOUN ADP NOUN PUNCT PUNCT VERB ADP DET ADJ PROPN PUNCT</td>\n    </tr>\n    <tr>\n      <th>312</th>\n      <td>PROPN</td>\n      <td>X</td>\n      <td>Le</td>\n      <td>De archieven van het Onze-Lieve-Vrouwecollege bevat een boekje \" Le petit sécrétaire \" met op het titelblad \" Een ruiter te paard \" , getekend door de jonge Ensor .</td>\n      <td>DET NOUN ADP DET NOUN VERB DET NOUN PUNCT X X X PUNCT ADP ADP DET NOUN PUNCT DET NOUN ADP NOUN PUNCT PUNCT VERB ADP DET ADJ PROPN PUNCT</td>\n    </tr>\n    <tr>\n      <th>313</th>\n      <td>PROPN</td>\n      <td>NOUN</td>\n      <td>Academie</td>\n      <td>Ensor was 17 jaar toen hij , op 8 oktober 1877 , zich liet inschrijven aan de Koninklijke Academie voor Schone Kunsten te Brussel .</td>\n      <td>PROPN AUX NUM NOUN SCONJ PRON PUNCT ADP NUM PROPN NUM PUNCT PRON VERB VERB ADP DET ADJ NOUN ADP ADJ NOUN ADP PROPN PUNCT</td>\n    </tr>\n    <tr>\n      <th>314</th>\n      <td>NOUN</td>\n      <td>PROPN</td>\n      <td>Man</td>\n      <td>Uit die periode dateert \" Golfbreker te Oostende \" ( 1878 ) , \" Naakte jongen \" ( 1878 ) , \" Polderlandschap \" ( 1878 ) , \" Man met de gewonde arm \" ( begin 1879 ) , \" Zelfportret \" ( 1879 ) , \" Het meisje met de wipneus \" ( 1879 ) en \" Ensor voor de schildersezel \" ( 1879 ) .</td>\n      <td>ADP DET NOUN VERB PUNCT NOUN ADP PROPN PUNCT PUNCT NUM PUNCT PUNCT PUNCT ADJ NOUN PUNCT PUNCT NUM PUNCT PUNCT PUNCT NOUN PUNCT PUNCT NUM PUNCT PUNCT PUNCT PROPN ADP DET ADJ NOUN PUNCT PUNCT NOUN NUM PUNCT PUNCT PUNCT NOUN PUNCT PUNCT NUM PUNCT PUNCT PUNCT DET NOUN ADP DET NOUN PUNCT PUNCT NUM PUNCT CCONJ PUNCT PROPN ADP DET NOUN PUNCT PUNCT NUM PUNCT PUNCT</td>\n    </tr>\n    <tr>\n      <th>315</th>\n      <td>AUX</td>\n      <td>VERB</td>\n      <td>was</td>\n      <td>Toen Ensor 20 jaar was , in 1880 , verliet hij de academie en verliet daarmee ook meteen Brussel .</td>\n      <td>SCONJ PROPN NUM NOUN VERB PUNCT ADP NUM PUNCT VERB PRON DET NOUN CCONJ VERB ADV ADV ADV PROPN PUNCT</td>\n    </tr>\n    <tr>\n      <th>316</th>\n      <td>X</td>\n      <td>PROPN</td>\n      <td>Les</td>\n      <td>Les vingt</td>\n      <td>PROPN PROPN</td>\n    </tr>\n    <tr>\n      <th>317</th>\n      <td>X</td>\n      <td>PROPN</td>\n      <td>vingt</td>\n      <td>Les vingt</td>\n      <td>PROPN PROPN</td>\n    </tr>\n    <tr>\n      <th>318</th>\n      <td>PROPN</td>\n      <td>X</td>\n      <td>Nature</td>\n      <td>Hij stuurt , gesteund in zijn talent door de Brusselse avant-garde , in 1881 drie schilderijen ( « De koloriste » , « Het burgersalon » en « Nature morte » ) naar het progressieve salon « Chrysalide » en in 1882 het schilderij \" De Russische muziek \" naar de tentoonstelling « Exposition Générale des Beaux-Arts » te Brussel .</td>\n      <td>PRON VERB PUNCT VERB ADP PRON NOUN ADP DET ADJ NOUN PUNCT ADP NUM NUM NOUN PUNCT PUNCT DET NOUN PUNCT PUNCT PUNCT DET NOUN PUNCT CCONJ PUNCT X X PUNCT PUNCT ADP DET ADJ NOUN PUNCT PROPN PUNCT CCONJ ADP NUM DET NOUN PUNCT DET ADJ NOUN PUNCT ADP DET NOUN PUNCT PROPN PROPN PROPN PROPN PUNCT ADP PROPN PUNCT</td>\n    </tr>\n    <tr>\n      <th>319</th>\n      <td>PROPN</td>\n      <td>X</td>\n      <td>morte</td>\n      <td>Hij stuurt , gesteund in zijn talent door de Brusselse avant-garde , in 1881 drie schilderijen ( « De koloriste » , « Het burgersalon » en « Nature morte » ) naar het progressieve salon « Chrysalide » en in 1882 het schilderij \" De Russische muziek \" naar de tentoonstelling « Exposition Générale des Beaux-Arts » te Brussel .</td>\n      <td>PRON VERB PUNCT VERB ADP PRON NOUN ADP DET ADJ NOUN PUNCT ADP NUM NUM NOUN PUNCT PUNCT DET NOUN PUNCT PUNCT PUNCT DET NOUN PUNCT CCONJ PUNCT X X PUNCT PUNCT ADP DET ADJ NOUN PUNCT PROPN PUNCT CCONJ ADP NUM DET NOUN PUNCT DET ADJ NOUN PUNCT ADP DET NOUN PUNCT PROPN PROPN PROPN PROPN PUNCT ADP PROPN PUNCT</td>\n    </tr>\n    <tr>\n      <th>320</th>\n      <td>ADP</td>\n      <td>PROPN</td>\n      <td>voor</td>\n      <td>\" De oestereetster \" werd trouwens 20 jaar later aangekocht door het Museum voor Schone Kunsten te Antwerpen , op het Triënnale Salon van 1904 .</td>\n      <td>PUNCT DET NOUN PUNCT AUX ADV NUM NOUN ADJ VERB ADP DET PROPN PROPN PROPN PROPN ADP PROPN PUNCT ADP DET ADJ NOUN ADP NUM PUNCT</td>\n    </tr>\n    <tr>\n      <th>321</th>\n      <td>PROPN</td>\n      <td>ADJ</td>\n      <td>Triënnale</td>\n      <td>\" De oestereetster \" werd trouwens 20 jaar later aangekocht door het Museum voor Schone Kunsten te Antwerpen , op het Triënnale Salon van 1904 .</td>\n      <td>PUNCT DET NOUN PUNCT AUX ADV NUM NOUN ADJ VERB ADP DET PROPN PROPN PROPN PROPN ADP PROPN PUNCT ADP DET ADJ NOUN ADP NUM PUNCT</td>\n    </tr>\n    <tr>\n      <th>322</th>\n      <td>PROPN</td>\n      <td>NOUN</td>\n      <td>Salon</td>\n      <td>\" De oestereetster \" werd trouwens 20 jaar later aangekocht door het Museum voor Schone Kunsten te Antwerpen , op het Triënnale Salon van 1904 .</td>\n      <td>PUNCT DET NOUN PUNCT AUX ADV NUM NOUN ADJ VERB ADP DET PROPN PROPN PROPN PROPN ADP PROPN PUNCT ADP DET ADJ NOUN ADP NUM PUNCT</td>\n    </tr>\n    <tr>\n      <th>323</th>\n      <td>VERB</td>\n      <td>NOUN</td>\n      <td>werken</td>\n      <td>Daarin zaten o.a. \" Namiddag te Oostende \" ( 1881 ) en \" De oestereetster \" ( 1882 ) , twee werken die later tot zijn meesterstukken zouden gerekend worden .</td>\n      <td>ADV VERB X PUNCT NOUN ADP PROPN PUNCT PUNCT NUM PUNCT CCONJ PUNCT DET NOUN PUNCT PUNCT NUM PUNCT PUNCT NUM NOUN PRON ADJ ADP PRON NOUN AUX VERB AUX PUNCT</td>\n    </tr>\n    <tr>\n      <th>324</th>\n      <td>VERB</td>\n      <td>AUX</td>\n      <td>werd</td>\n      <td>Les XX werd geboren in oktober 1883 en zou uitgroeien tot een merkwaardige groep vernieuwers in de Belgische kunstwereld .</td>\n      <td>PROPN PROPN AUX VERB ADP PROPN NUM CCONJ AUX VERB ADP DET ADJ NOUN NOUN ADP DET ADJ NOUN PUNCT</td>\n    </tr>\n    <tr>\n      <th>325</th>\n      <td>ADJ</td>\n      <td>VERB</td>\n      <td>geboren</td>\n      <td>Les XX werd geboren in oktober 1883 en zou uitgroeien tot een merkwaardige groep vernieuwers in de Belgische kunstwereld .</td>\n      <td>PROPN PROPN AUX VERB ADP PROPN NUM CCONJ AUX VERB ADP DET ADJ NOUN NOUN ADP DET ADJ NOUN PUNCT</td>\n    </tr>\n    <tr>\n      <th>326</th>\n      <td>VERB</td>\n      <td>NOUN</td>\n      <td>werken</td>\n      <td>Hij exposeert op hun eerste tentoonstelling in 1884 met zes werken .</td>\n      <td>PRON VERB ADP PRON ADJ NOUN ADP NUM ADP NUM NOUN PUNCT</td>\n    </tr>\n    <tr>\n      <th>327</th>\n      <td>NOUN</td>\n      <td>ADJ</td>\n      <td>eerde</td>\n      <td>Hij krijgt nu een eerde geringschattende kritiek , met o.a. een eerste artikel in L'Art Moderne ( een tijdschrift geleid door Octave Maus ) .</td>\n      <td>PRON VERB ADV DET ADJ VERB NOUN PUNCT ADP X DET ADJ NOUN ADP X X PUNCT DET NOUN VERB ADP PROPN PROPN PUNCT PUNCT</td>\n    </tr>\n    <tr>\n      <th>328</th>\n      <td>ADJ</td>\n      <td>VERB</td>\n      <td>geringschattende</td>\n      <td>Hij krijgt nu een eerde geringschattende kritiek , met o.a. een eerste artikel in L'Art Moderne ( een tijdschrift geleid door Octave Maus ) .</td>\n      <td>PRON VERB ADV DET ADJ VERB NOUN PUNCT ADP X DET ADJ NOUN ADP X X PUNCT DET NOUN VERB ADP PROPN PROPN PUNCT PUNCT</td>\n    </tr>\n    <tr>\n      <th>329</th>\n      <td>PROPN</td>\n      <td>X</td>\n      <td>L'Art</td>\n      <td>Hij krijgt nu een eerde geringschattende kritiek , met o.a. een eerste artikel in L'Art Moderne ( een tijdschrift geleid door Octave Maus ) .</td>\n      <td>PRON VERB ADV DET ADJ VERB NOUN PUNCT ADP X DET ADJ NOUN ADP X X PUNCT DET NOUN VERB ADP PROPN PROPN PUNCT PUNCT</td>\n    </tr>\n    <tr>\n      <th>330</th>\n      <td>PROPN</td>\n      <td>X</td>\n      <td>Moderne</td>\n      <td>Hij krijgt nu een eerde geringschattende kritiek , met o.a. een eerste artikel in L'Art Moderne ( een tijdschrift geleid door Octave Maus ) .</td>\n      <td>PRON VERB ADV DET ADJ VERB NOUN PUNCT ADP X DET ADJ NOUN ADP X X PUNCT DET NOUN VERB ADP PROPN PROPN PUNCT PUNCT</td>\n    </tr>\n    <tr>\n      <th>331</th>\n      <td>PROPN</td>\n      <td>NOUN</td>\n      <td>Salon</td>\n      <td>Maar zijn inzending voor het Salon van Brussel wordt opnieuw geweigerd .</td>\n      <td>CCONJ PRON NOUN ADP DET NOUN ADP PROPN AUX ADV VERB PUNCT</td>\n    </tr>\n    <tr>\n      <th>332</th>\n      <td>VERB</td>\n      <td>NOUN</td>\n      <td>werken</td>\n      <td>Hij stuurde twintig werken naar het salon van Les XX van 1886 , maar de kritiek besprak enkel zijn techniek en niet de kunstwaarde van zijn werken .</td>\n      <td>PRON VERB NUM NOUN ADP DET NOUN ADP PROPN PROPN ADP NUM PUNCT CCONJ DET NOUN VERB ADV PRON NOUN CCONJ ADV DET NOUN ADP PRON NOUN PUNCT</td>\n    </tr>\n    <tr>\n      <th>333</th>\n      <td>PROPN</td>\n      <td>NOUN</td>\n      <td>Calvarie</td>\n      <td>Hij zal deze kritiek afkraken in zijn werk \" De Calvarie \" met Ensor aan het kruis , als slachtoffer van onbegrip , en de criticus als Romein die zijn zijde opensteekt .</td>\n      <td>PRON AUX DET NOUN VERB ADP PRON NOUN PUNCT DET NOUN PUNCT ADP PROPN ADP DET NOUN PUNCT ADP NOUN ADP NOUN PUNCT CCONJ DET NOUN ADP PROPN PRON PRON NOUN VERB PUNCT</td>\n    </tr>\n    <tr>\n      <th>334</th>\n      <td>PROPN</td>\n      <td>NOUN</td>\n      <td>Aureolen</td>\n      <td>Zijn eerste tekeningen van de reeks \" Aureolen van Christus \" of \" De gevoeligheden van het Licht \" zagen inderdaad het licht ( \" De aanbidding van de herders \" , \" Christus wordt aan het volk getoond \" , \" Intrede te Jeruzalem \" , \" Satan en de fantastische legioenen pijnigen de Gekruisigde \" , \" de kruisafneming en de Hemelvaart van Christus \" ) .</td>\n      <td>PRON ADJ NOUN ADP DET NOUN PUNCT NOUN ADP PROPN PUNCT CCONJ PUNCT DET NOUN ADP DET NOUN PUNCT VERB ADV DET NOUN PUNCT PUNCT DET NOUN ADP DET NOUN PUNCT PUNCT PUNCT PROPN VERB ADP DET NOUN VERB PUNCT PUNCT PUNCT NOUN ADP PROPN PUNCT PUNCT PUNCT PROPN CCONJ DET ADJ NOUN VERB DET VERB PUNCT PUNCT PUNCT DET NOUN CCONJ DET NOUN ADP PROPN PUNCT PUNCT PUNCT</td>\n    </tr>\n    <tr>\n      <th>335</th>\n      <td>AUX</td>\n      <td>VERB</td>\n      <td>wordt</td>\n      <td>Zijn eerste tekeningen van de reeks \" Aureolen van Christus \" of \" De gevoeligheden van het Licht \" zagen inderdaad het licht ( \" De aanbidding van de herders \" , \" Christus wordt aan het volk getoond \" , \" Intrede te Jeruzalem \" , \" Satan en de fantastische legioenen pijnigen de Gekruisigde \" , \" de kruisafneming en de Hemelvaart van Christus \" ) .</td>\n      <td>PRON ADJ NOUN ADP DET NOUN PUNCT NOUN ADP PROPN PUNCT CCONJ PUNCT DET NOUN ADP DET NOUN PUNCT VERB ADV DET NOUN PUNCT PUNCT DET NOUN ADP DET NOUN PUNCT PUNCT PUNCT PROPN VERB ADP DET NOUN VERB PUNCT PUNCT PUNCT NOUN ADP PROPN PUNCT PUNCT PUNCT PROPN CCONJ DET ADJ NOUN VERB DET VERB PUNCT PUNCT PUNCT DET NOUN CCONJ DET NOUN ADP PROPN PUNCT PUNCT PUNCT</td>\n    </tr>\n    <tr>\n      <th>336</th>\n      <td>NOUN</td>\n      <td>VERB</td>\n      <td>Gekruisigde</td>\n      <td>Zijn eerste tekeningen van de reeks \" Aureolen van Christus \" of \" De gevoeligheden van het Licht \" zagen inderdaad het licht ( \" De aanbidding van de herders \" , \" Christus wordt aan het volk getoond \" , \" Intrede te Jeruzalem \" , \" Satan en de fantastische legioenen pijnigen de Gekruisigde \" , \" de kruisafneming en de Hemelvaart van Christus \" ) .</td>\n      <td>PRON ADJ NOUN ADP DET NOUN PUNCT NOUN ADP PROPN PUNCT CCONJ PUNCT DET NOUN ADP DET NOUN PUNCT VERB ADV DET NOUN PUNCT PUNCT DET NOUN ADP DET NOUN PUNCT PUNCT PUNCT PROPN VERB ADP DET NOUN VERB PUNCT PUNCT PUNCT NOUN ADP PROPN PUNCT PUNCT PUNCT PROPN CCONJ DET ADJ NOUN VERB DET VERB PUNCT PUNCT PUNCT DET NOUN CCONJ DET NOUN ADP PROPN PUNCT PUNCT PUNCT</td>\n    </tr>\n    <tr>\n      <th>337</th>\n      <td>VERB</td>\n      <td>NOUN</td>\n      <td>werken</td>\n      <td>Maar Emile Verhaeren bespeurde in die werken de invloed van Rembrandt</td>\n      <td>CCONJ PROPN PROPN VERB ADP DET NOUN DET NOUN ADP PROPN</td>\n    </tr>\n    <tr>\n      <th>338</th>\n      <td>AUX</td>\n      <td>VERB</td>\n      <td>was</td>\n      <td>Twee jaar later , Ensor was inmiddels 28 jaar , in 1888 , begon Ensor aan zijn magistrale \" Intrede van Christus in Brussel \" .</td>\n      <td>NUM NOUN ADJ PUNCT PROPN VERB ADV NUM NOUN PUNCT ADP NUM PUNCT VERB PROPN ADP PRON ADJ PUNCT NOUN ADP PROPN ADP PROPN PUNCT PUNCT</td>\n    </tr>\n    <tr>\n      <th>339</th>\n      <td>NOUN</td>\n      <td>SYM</td>\n      <td>kg.</td>\n      <td>Ensor vraagt aan een huisschilder verf te bereiden in potten van 5 en 10 kg.</td>\n      <td>PROPN VERB ADP DET NOUN NOUN ADP VERB ADP NOUN ADP NUM CCONJ NUM SYM</td>\n    </tr>\n    <tr>\n      <th>340</th>\n      <td>NOUN</td>\n      <td>ADJ</td>\n      <td>laag</td>\n      <td>Hij schildert dan laag per laag , waarbij het schilderij telkens een beetje opgerold wordt .</td>\n      <td>PRON VERB ADV ADJ ADP ADJ PUNCT ADV DET NOUN ADV DET NOUN VERB AUX PUNCT</td>\n    </tr>\n    <tr>\n      <th>341</th>\n      <td>NOUN</td>\n      <td>ADJ</td>\n      <td>laag</td>\n      <td>Hij schildert dan laag per laag , waarbij het schilderij telkens een beetje opgerold wordt .</td>\n      <td>PRON VERB ADV ADJ ADP ADJ PUNCT ADV DET NOUN ADV DET NOUN VERB AUX PUNCT</td>\n    </tr>\n    <tr>\n      <th>342</th>\n      <td>VERB</td>\n      <td>ADJ</td>\n      <td>Verdoken</td>\n      <td>Verdoken in het doek zit Christus ( gelaatstrekken van Ensor ? ) op een ezel , begeleid door een juichende menigte , een fanfare en een bonte stoet met maskers .</td>\n      <td>ADJ ADP DET NOUN VERB PROPN PUNCT NOUN ADP PROPN PUNCT PUNCT ADP DET NOUN PUNCT VERB ADP DET VERB NOUN PUNCT DET NOUN CCONJ DET ADJ NOUN ADP NOUN PUNCT</td>\n    </tr>\n    <tr>\n      <th>343</th>\n      <td>VERB</td>\n      <td>ADJ</td>\n      <td>verwaande</td>\n      <td>Duizenden groteske figuren komen uit de achtergrond naar voren gestroomd , met vooraan gemaskerde personages , waarmee Ensor de spot drijft : de verwaande rechter , grijnzende militairen , vissersvrouwen , de zelfvoldane burgerij , een bespottelijk verliefd koppeltje , dokter met tovenaarshoed , de Dood in frak , een stel muzikanten van de \" Fanfares doctrinaires \" en tenslotte , gans vooraan , een pompeuze bisschop die tamboer-majoor speelt .</td>\n      <td>NUM ADJ NOUN VERB ADP DET NOUN ADP ADV VERB PUNCT ADP ADV VERB NOUN PUNCT ADV PROPN DET NOUN VERB PUNCT DET ADJ NOUN PUNCT VERB NOUN PUNCT NOUN PUNCT DET ADJ NOUN PUNCT DET ADJ ADJ NOUN PUNCT NOUN ADP NOUN PUNCT DET PROPN ADP NOUN PUNCT DET NOUN NOUN ADP DET PUNCT PROPN PROPN PUNCT CCONJ ADV PUNCT ADJ ADV PUNCT DET ADJ NOUN PRON NOUN VERB PUNCT</td>\n    </tr>\n    <tr>\n      <th>344</th>\n      <td>X</td>\n      <td>PROPN</td>\n      <td>Fanfares</td>\n      <td>Duizenden groteske figuren komen uit de achtergrond naar voren gestroomd , met vooraan gemaskerde personages , waarmee Ensor de spot drijft : de verwaande rechter , grijnzende militairen , vissersvrouwen , de zelfvoldane burgerij , een bespottelijk verliefd koppeltje , dokter met tovenaarshoed , de Dood in frak , een stel muzikanten van de \" Fanfares doctrinaires \" en tenslotte , gans vooraan , een pompeuze bisschop die tamboer-majoor speelt .</td>\n      <td>NUM ADJ NOUN VERB ADP DET NOUN ADP ADV VERB PUNCT ADP ADV VERB NOUN PUNCT ADV PROPN DET NOUN VERB PUNCT DET ADJ NOUN PUNCT VERB NOUN PUNCT NOUN PUNCT DET ADJ NOUN PUNCT DET ADJ ADJ NOUN PUNCT NOUN ADP NOUN PUNCT DET PROPN ADP NOUN PUNCT DET NOUN NOUN ADP DET PUNCT PROPN PROPN PUNCT CCONJ ADV PUNCT ADJ ADV PUNCT DET ADJ NOUN PRON NOUN VERB PUNCT</td>\n    </tr>\n    <tr>\n      <th>345</th>\n      <td>X</td>\n      <td>PROPN</td>\n      <td>doctrinaires</td>\n      <td>Duizenden groteske figuren komen uit de achtergrond naar voren gestroomd , met vooraan gemaskerde personages , waarmee Ensor de spot drijft : de verwaande rechter , grijnzende militairen , vissersvrouwen , de zelfvoldane burgerij , een bespottelijk verliefd koppeltje , dokter met tovenaarshoed , de Dood in frak , een stel muzikanten van de \" Fanfares doctrinaires \" en tenslotte , gans vooraan , een pompeuze bisschop die tamboer-majoor speelt .</td>\n      <td>NUM ADJ NOUN VERB ADP DET NOUN ADP ADV VERB PUNCT ADP ADV VERB NOUN PUNCT ADV PROPN DET NOUN VERB PUNCT DET ADJ NOUN PUNCT VERB NOUN PUNCT NOUN PUNCT DET ADJ NOUN PUNCT DET ADJ ADJ NOUN PUNCT NOUN ADP NOUN PUNCT DET PROPN ADP NOUN PUNCT DET NOUN NOUN ADP DET PUNCT PROPN PROPN PUNCT CCONJ ADV PUNCT ADJ ADV PUNCT DET ADJ NOUN PRON NOUN VERB PUNCT</td>\n    </tr>\n    <tr>\n      <th>346</th>\n      <td>NOUN</td>\n      <td>ADJ</td>\n      <td>pompeuze</td>\n      <td>Duizenden groteske figuren komen uit de achtergrond naar voren gestroomd , met vooraan gemaskerde personages , waarmee Ensor de spot drijft : de verwaande rechter , grijnzende militairen , vissersvrouwen , de zelfvoldane burgerij , een bespottelijk verliefd koppeltje , dokter met tovenaarshoed , de Dood in frak , een stel muzikanten van de \" Fanfares doctrinaires \" en tenslotte , gans vooraan , een pompeuze bisschop die tamboer-majoor speelt .</td>\n      <td>NUM ADJ NOUN VERB ADP DET NOUN ADP ADV VERB PUNCT ADP ADV VERB NOUN PUNCT ADV PROPN DET NOUN VERB PUNCT DET ADJ NOUN PUNCT VERB NOUN PUNCT NOUN PUNCT DET ADJ NOUN PUNCT DET ADJ ADJ NOUN PUNCT NOUN ADP NOUN PUNCT DET PROPN ADP NOUN PUNCT DET NOUN NOUN ADP DET PUNCT PROPN PROPN PUNCT CCONJ ADV PUNCT ADJ ADV PUNCT DET ADJ NOUN PRON NOUN VERB PUNCT</td>\n    </tr>\n    <tr>\n      <th>347</th>\n      <td>ADP</td>\n      <td>ADV</td>\n      <td>Bovenaan</td>\n      <td>Bovenaan spant een vaandel met de tekst \" Vive la Sociale \" ( opkomst van de socialistische partij ) .</td>\n      <td>ADV VERB DET NOUN ADP DET NOUN PUNCT X X X PUNCT PUNCT NOUN ADP DET ADJ NOUN PUNCT PUNCT</td>\n    </tr>\n    <tr>\n      <th>348</th>\n      <td>ADV</td>\n      <td>ADJ</td>\n      <td>juist</td>\n      <td>Ensor situeert deze intrede in Brussel omdat hij juist daar zoveel ontgoochelingen heeft meegemaakt .</td>\n      <td>PROPN VERB DET NOUN ADP PROPN SCONJ PRON ADJ ADV NUM NOUN AUX VERB PUNCT</td>\n    </tr>\n    <tr>\n      <th>349</th>\n      <td>NOUN</td>\n      <td>ADJ</td>\n      <td>licht</td>\n      <td>Het doek wordt licht beschadigd door enkele schrapnels gedurende de Tweede Wereldoorlog .</td>\n      <td>DET NOUN AUX ADJ VERB ADP DET NOUN ADP DET PROPN PROPN PUNCT</td>\n    </tr>\n    <tr>\n      <th>350</th>\n      <td>NOUN</td>\n      <td>PROPN</td>\n      <td>Museum</td>\n      <td>Het doek hing dan op verschillende plaatsen : Venetië ( 1950 ) , Casino van Knokke ( 1971 ) , Museum voor Schone Kunsten te Oostende ( 1977-1978 ) , in bruikleen aan het Koninklijk Museum voor Schone Kunsten te Antwerpen , Chicago en New York ( 1976 ) , Künsthaus te Zürich ( 1983 ) .</td>\n      <td>DET NOUN VERB ADV ADP ADJ NOUN PUNCT PROPN PUNCT NUM PUNCT PUNCT NOUN ADP PROPN PUNCT NUM PUNCT PUNCT PROPN PROPN PROPN PROPN ADP PROPN PUNCT SYM PUNCT PUNCT ADP NOUN ADP DET ADJ NOUN ADP ADJ NOUN ADP PROPN PUNCT PROPN CCONJ PROPN PROPN PUNCT NUM PUNCT PUNCT PROPN ADP PROPN PUNCT NUM PUNCT PUNCT</td>\n    </tr>\n    <tr>\n      <th>351</th>\n      <td>ADP</td>\n      <td>PROPN</td>\n      <td>voor</td>\n      <td>Het doek hing dan op verschillende plaatsen : Venetië ( 1950 ) , Casino van Knokke ( 1971 ) , Museum voor Schone Kunsten te Oostende ( 1977-1978 ) , in bruikleen aan het Koninklijk Museum voor Schone Kunsten te Antwerpen , Chicago en New York ( 1976 ) , Künsthaus te Zürich ( 1983 ) .</td>\n      <td>DET NOUN VERB ADV ADP ADJ NOUN PUNCT PROPN PUNCT NUM PUNCT PUNCT NOUN ADP PROPN PUNCT NUM PUNCT PUNCT PROPN PROPN PROPN PROPN ADP PROPN PUNCT SYM PUNCT PUNCT ADP NOUN ADP DET ADJ NOUN ADP ADJ NOUN ADP PROPN PUNCT PROPN CCONJ PROPN PROPN PUNCT NUM PUNCT PUNCT PROPN ADP PROPN PUNCT NUM PUNCT PUNCT</td>\n    </tr>\n    <tr>\n      <th>352</th>\n      <td>NOUN</td>\n      <td>PROPN</td>\n      <td>Kunsten</td>\n      <td>Het doek hing dan op verschillende plaatsen : Venetië ( 1950 ) , Casino van Knokke ( 1971 ) , Museum voor Schone Kunsten te Oostende ( 1977-1978 ) , in bruikleen aan het Koninklijk Museum voor Schone Kunsten te Antwerpen , Chicago en New York ( 1976 ) , Künsthaus te Zürich ( 1983 ) .</td>\n      <td>DET NOUN VERB ADV ADP ADJ NOUN PUNCT PROPN PUNCT NUM PUNCT PUNCT NOUN ADP PROPN PUNCT NUM PUNCT PUNCT PROPN PROPN PROPN PROPN ADP PROPN PUNCT SYM PUNCT PUNCT ADP NOUN ADP DET ADJ NOUN ADP ADJ NOUN ADP PROPN PUNCT PROPN CCONJ PROPN PROPN PUNCT NUM PUNCT PUNCT PROPN ADP PROPN PUNCT NUM PUNCT PUNCT</td>\n    </tr>\n    <tr>\n      <th>353</th>\n      <td>PROPN</td>\n      <td>ADJ</td>\n      <td>Schone</td>\n      <td>Het doek hing dan op verschillende plaatsen : Venetië ( 1950 ) , Casino van Knokke ( 1971 ) , Museum voor Schone Kunsten te Oostende ( 1977-1978 ) , in bruikleen aan het Koninklijk Museum voor Schone Kunsten te Antwerpen , Chicago en New York ( 1976 ) , Künsthaus te Zürich ( 1983 ) .</td>\n      <td>DET NOUN VERB ADV ADP ADJ NOUN PUNCT PROPN PUNCT NUM PUNCT PUNCT NOUN ADP PROPN PUNCT NUM PUNCT PUNCT PROPN PROPN PROPN PROPN ADP PROPN PUNCT SYM PUNCT PUNCT ADP NOUN ADP DET ADJ NOUN ADP ADJ NOUN ADP PROPN PUNCT PROPN CCONJ PROPN PROPN PUNCT NUM PUNCT PUNCT PROPN ADP PROPN PUNCT NUM PUNCT PUNCT</td>\n    </tr>\n    <tr>\n      <th>354</th>\n      <td>ADJ</td>\n      <td>ADV</td>\n      <td>ditmaal</td>\n      <td>Maus richt een nieuwe kunstkring op « La Libre Esthétique » , ditmaal zonder leden , maar uitsluitend uitgenodigden .</td>\n      <td>PROPN VERB DET ADJ NOUN ADP PUNCT PROPN PROPN PROPN PUNCT PUNCT ADV ADP NOUN PUNCT CCONJ ADJ VERB PUNCT</td>\n    </tr>\n    <tr>\n      <th>355</th>\n      <td>ADV</td>\n      <td>ADJ</td>\n      <td>juist</td>\n      <td>In zijn tegenspoed , miskend en bekritiseerd door zijn tijdgenoten , doet hij dan maar verder , maar juist hierdoor groeit nog zijn scheppende kracht .</td>\n      <td>ADP PRON NOUN PUNCT VERB CCONJ VERB ADP PRON NOUN PUNCT VERB PRON ADV ADV ADJ PUNCT CCONJ ADJ ADV VERB ADV PRON VERB NOUN PUNCT</td>\n    </tr>\n    <tr>\n      <th>356</th>\n      <td>PROPN</td>\n      <td>NOUN</td>\n      <td>Lampenist</td>\n      <td>Dit initiatief wekte de belangstelling van het Koninklijk Museum voor Schone Kunsten en \" De Lampenist \" , het schitterende werk uit 1880 , werd in maart van het jaar daarop aangekocht voor 2500 Belgische frank .</td>\n      <td>DET NOUN VERB DET NOUN ADP DET ADJ NOUN ADP ADJ NOUN CCONJ PUNCT DET NOUN PUNCT PUNCT DET VERB NOUN ADP NUM PUNCT AUX ADP PROPN ADP DET NOUN ADV VERB ADP NUM ADJ NOUN PUNCT</td>\n    </tr>\n    <tr>\n      <th>357</th>\n      <td>ADJ</td>\n      <td>VERB</td>\n      <td>schitterende</td>\n      <td>Dit initiatief wekte de belangstelling van het Koninklijk Museum voor Schone Kunsten en \" De Lampenist \" , het schitterende werk uit 1880 , werd in maart van het jaar daarop aangekocht voor 2500 Belgische frank .</td>\n      <td>DET NOUN VERB DET NOUN ADP DET ADJ NOUN ADP ADJ NOUN CCONJ PUNCT DET NOUN PUNCT PUNCT DET VERB NOUN ADP NUM PUNCT AUX ADP PROPN ADP DET NOUN ADV VERB ADP NUM ADJ NOUN PUNCT</td>\n    </tr>\n    <tr>\n      <th>358</th>\n      <td>VERB</td>\n      <td>NOUN</td>\n      <td>werken</td>\n      <td>In 1898 nam hij deel aan het « Salon des Cents » te Parijs met 25 werken , maar het verwachte succes blijft uit .</td>\n      <td>ADP NUM VERB PRON NOUN ADP DET PUNCT PROPN PROPN PROPN PUNCT ADP PROPN ADP NUM NOUN PUNCT CCONJ DET VERB NOUN VERB ADP PUNCT</td>\n    </tr>\n    <tr>\n      <th>359</th>\n      <td>X</td>\n      <td>PROPN</td>\n      <td>plume</td>\n      <td>Toch verschijnt in 1899 een speciaal nummer van \" La plume \" , gewijd aan de werken van Ensor op deze tentoonstelling .</td>\n      <td>ADV VERB ADP NUM DET ADJ NOUN ADP PUNCT PROPN PROPN PUNCT PUNCT VERB ADP DET NOUN ADP PROPN ADP DET NOUN PUNCT</td>\n    </tr>\n    <tr>\n      <th>360</th>\n      <td>PROPN</td>\n      <td>NOUN</td>\n      <td>Olie</td>\n      <td>De moeder van Ensor stierf in 1914 op tachtigjarige leeftijd ( Olie op doek \" Mijn dode moeder \" 1915 ) .</td>\n      <td>DET NOUN ADP PROPN VERB ADP NUM ADP ADJ NOUN PUNCT NOUN ADP NOUN PUNCT PRON ADJ NOUN PUNCT NUM PUNCT PUNCT</td>\n    </tr>\n    <tr>\n      <th>361</th>\n      <td>ADJ</td>\n      <td>VERB</td>\n      <td>geladen</td>\n      <td>Er ontstond een conflictsituatie tussen hem en de maatschappij , zodat hij sterk geladen beelden gebruikt , zoals maskers , skeletten , de dood , carnaval en travestieten om die maatschappij voor schut te doen staan .</td>\n      <td>ADV VERB DET NOUN ADP PRON CCONJ DET NOUN PUNCT SCONJ PRON ADJ VERB NOUN VERB PUNCT SCONJ NOUN PUNCT NOUN PUNCT DET NOUN PUNCT NOUN CCONJ NOUN ADP DET NOUN ADP NOUN ADP VERB VERB PUNCT</td>\n    </tr>\n    <tr>\n      <th>362</th>\n      <td>ADJ</td>\n      <td>VERB</td>\n      <td>Geërgerde</td>\n      <td>Een eerste werk met maskers \" Geërgerde maskers \" dateert uit 1883 .</td>\n      <td>DET ADJ NOUN ADP NOUN PUNCT VERB NOUN PUNCT VERB ADP NUM PUNCT</td>\n    </tr>\n    <tr>\n      <th>363</th>\n      <td>AUX</td>\n      <td>VERB</td>\n      <td>is</td>\n      <td>Maar is het is nog niet zo symbolisch geladen , maar eerder een weergave van een carnavalvermomming .</td>\n      <td>CCONJ VERB PRON AUX ADV ADV ADV ADJ VERB PUNCT CCONJ ADJ DET NOUN ADP DET NOUN PUNCT</td>\n    </tr>\n    <tr>\n      <th>364</th>\n      <td>ADJ</td>\n      <td>VERB</td>\n      <td>geladen</td>\n      <td>Maar is het is nog niet zo symbolisch geladen , maar eerder een weergave van een carnavalvermomming .</td>\n      <td>CCONJ VERB PRON AUX ADV ADV ADV ADJ VERB PUNCT CCONJ ADJ DET NOUN ADP DET NOUN PUNCT</td>\n    </tr>\n    <tr>\n      <th>365</th>\n      <td>ADV</td>\n      <td>ADJ</td>\n      <td>eerder</td>\n      <td>Maar is het is nog niet zo symbolisch geladen , maar eerder een weergave van een carnavalvermomming .</td>\n      <td>CCONJ VERB PRON AUX ADV ADV ADV ADJ VERB PUNCT CCONJ ADJ DET NOUN ADP DET NOUN PUNCT</td>\n    </tr>\n    <tr>\n      <th>366</th>\n      <td>PROPN</td>\n      <td>NOUN</td>\n      <td>Aureolen</td>\n      <td>Skeletten komen voor het eerst voor in het schilderij \" Geraamte bekijkt chinoiserieën \" van 1885 en demonen in de ets \" Satan en de fantastische legioenen pijnigen de gekruisigde \" uit 1886 ( reeks Aureolen van Christus ) .</td>\n      <td>NOUN VERB ADP DET ADJ ADP ADP DET NOUN PUNCT NOUN VERB NOUN PUNCT ADP NUM CCONJ NOUN ADP DET NOUN PUNCT PROPN CCONJ DET ADJ NOUN VERB DET VERB PUNCT ADP NUM PUNCT NOUN NOUN ADP PROPN PUNCT PUNCT</td>\n    </tr>\n    <tr>\n      <th>367</th>\n      <td>PROPN</td>\n      <td>NOUN</td>\n      <td>Carnaval</td>\n      <td>Carnaval en travestie verschijnen in \" Carnaval op strand \" uit 1887 .</td>\n      <td>NOUN CCONJ NOUN VERB ADP PUNCT NOUN ADP NOUN PUNCT ADP NUM PUNCT</td>\n    </tr>\n    <tr>\n      <th>368</th>\n      <td>VERB</td>\n      <td>NOUN</td>\n      <td>werken</td>\n      <td>Vanaf 1888 gaat het in stijgende lijn : zijn bekende werken : \" De intrede van Christus te Brussel \" ( 1888 ) , \" Maskers tarten de dood \" ( 1888 ) , \" Maskers bekijken een neger goochelaar \" ( 1888 ) ( in feite een overschilderd werk uit zijn academietijd uit 1879 ) , \" De verbazing van het masker Wouse \" ( 1889 ) , \" De oude met de maskers \" ( 1889 ) en tenslotte zijn overbekende \" De intrige \" ( 1890 ) , \" De maskers en de dood \" ( 1897 ) , \" Doop van de maskers \" ( 1891 ) , \" De wanhoop van Pierrot \" ( 1892 ) , \" Zelfportret met schelpen en maskers \" ( 1917 ) .</td>\n      <td>ADP NUM VERB PRON ADP VERB NOUN PUNCT PRON ADJ NOUN PUNCT PUNCT DET NOUN ADP PROPN ADP PROPN PUNCT PUNCT NUM PUNCT PUNCT PUNCT NOUN VERB DET NOUN PUNCT PUNCT NUM PUNCT PUNCT PUNCT NOUN VERB DET NOUN NOUN PUNCT PUNCT NUM PUNCT PUNCT ADP NOUN DET VERB NOUN ADP PRON NOUN ADP NUM PUNCT PUNCT PUNCT DET NOUN ADP DET NOUN PROPN PUNCT PUNCT NUM PUNCT PUNCT PUNCT DET ADJ ADP DET NOUN PUNCT PUNCT NUM PUNCT CCONJ ADV PRON ADJ PUNCT DET NOUN PUNCT PUNCT NUM PUNCT PUNCT PUNCT DET NOUN CCONJ DET NOUN PUNCT PUNCT NUM PUNCT PUNCT PUNCT NOUN ADP DET NOUN PUNCT PUNCT NUM PUNCT PUNCT PUNCT DET NOUN ADP PROPN PUNCT PUNCT NUM PUNCT PUNCT PUNCT NOUN ADP NOUN CCONJ NOUN PUNCT PUNCT NUM PUNCT PUNCT</td>\n    </tr>\n    <tr>\n      <th>369</th>\n      <td>ADJ</td>\n      <td>NOUN</td>\n      <td>neger</td>\n      <td>Vanaf 1888 gaat het in stijgende lijn : zijn bekende werken : \" De intrede van Christus te Brussel \" ( 1888 ) , \" Maskers tarten de dood \" ( 1888 ) , \" Maskers bekijken een neger goochelaar \" ( 1888 ) ( in feite een overschilderd werk uit zijn academietijd uit 1879 ) , \" De verbazing van het masker Wouse \" ( 1889 ) , \" De oude met de maskers \" ( 1889 ) en tenslotte zijn overbekende \" De intrige \" ( 1890 ) , \" De maskers en de dood \" ( 1897 ) , \" Doop van de maskers \" ( 1891 ) , \" De wanhoop van Pierrot \" ( 1892 ) , \" Zelfportret met schelpen en maskers \" ( 1917 ) .</td>\n      <td>ADP NUM VERB PRON ADP VERB NOUN PUNCT PRON ADJ NOUN PUNCT PUNCT DET NOUN ADP PROPN ADP PROPN PUNCT PUNCT NUM PUNCT PUNCT PUNCT NOUN VERB DET NOUN PUNCT PUNCT NUM PUNCT PUNCT PUNCT NOUN VERB DET NOUN NOUN PUNCT PUNCT NUM PUNCT PUNCT ADP NOUN DET VERB NOUN ADP PRON NOUN ADP NUM PUNCT PUNCT PUNCT DET NOUN ADP DET NOUN PROPN PUNCT PUNCT NUM PUNCT PUNCT PUNCT DET ADJ ADP DET NOUN PUNCT PUNCT NUM PUNCT CCONJ ADV PRON ADJ PUNCT DET NOUN PUNCT PUNCT NUM PUNCT PUNCT PUNCT DET NOUN CCONJ DET NOUN PUNCT PUNCT NUM PUNCT PUNCT PUNCT NOUN ADP DET NOUN PUNCT PUNCT NUM PUNCT PUNCT PUNCT DET NOUN ADP PROPN PUNCT PUNCT NUM PUNCT PUNCT PUNCT NOUN ADP NOUN CCONJ NOUN PUNCT PUNCT NUM PUNCT PUNCT</td>\n    </tr>\n    <tr>\n      <th>370</th>\n      <td>PROPN</td>\n      <td>NOUN</td>\n      <td>Baron</td>\n      <td>Ensors gloriejaar : Baron</td>\n      <td>PROPN NOUN PUNCT NOUN</td>\n    </tr>\n    <tr>\n      <th>371</th>\n      <td>PROPN</td>\n      <td>DET</td>\n      <td>het</td>\n      <td>James Ensor stierf op 19 november 1949 , op 89-jarige leeftijd , in de kliniek van het Heilig Hart te Oostende en ligt begraven naast de toren van zijn geliefde duinenkerkje Onze-Lieve-Vrouw-ter-Duinen , op de wijk Mariakerke te Oostende .</td>\n      <td>PROPN PROPN VERB ADP NUM PROPN NUM PUNCT ADP ADJ NOUN PUNCT ADP DET NOUN ADP DET PROPN PROPN ADP PROPN CCONJ VERB VERB ADP DET NOUN ADP PRON ADJ NOUN PROPN PUNCT ADP DET NOUN PROPN ADP PROPN PUNCT</td>\n    </tr>\n    <tr>\n      <th>372</th>\n      <td>PROPN</td>\n      <td>X</td>\n      <td>James</td>\n      <td>Xavier Tricot ( 1992 ) - James Ensor : Catalogue Raisonne of the Paintings/1875-1902/1902-1941 ; MIM/Pandora , Antwerpen</td>\n      <td>PROPN PROPN PUNCT NUM PUNCT PUNCT X X X X X X X X PUNCT PROPN PUNCT PROPN</td>\n    </tr>\n    <tr>\n      <th>373</th>\n      <td>PROPN</td>\n      <td>X</td>\n      <td>Ensor</td>\n      <td>Xavier Tricot ( 1992 ) - James Ensor : Catalogue Raisonne of the Paintings/1875-1902/1902-1941 ; MIM/Pandora , Antwerpen</td>\n      <td>PROPN PROPN PUNCT NUM PUNCT PUNCT X X X X X X X X PUNCT PROPN PUNCT PROPN</td>\n    </tr>\n    <tr>\n      <th>374</th>\n      <td>PUNCT</td>\n      <td>X</td>\n      <td>:</td>\n      <td>Xavier Tricot ( 1992 ) - James Ensor : Catalogue Raisonne of the Paintings/1875-1902/1902-1941 ; MIM/Pandora , Antwerpen</td>\n      <td>PROPN PROPN PUNCT NUM PUNCT PUNCT X X X X X X X X PUNCT PROPN PUNCT PROPN</td>\n    </tr>\n    <tr>\n      <th>375</th>\n      <td>PROPN</td>\n      <td>X</td>\n      <td>Catalogue</td>\n      <td>Xavier Tricot ( 1992 ) - James Ensor : Catalogue Raisonne of the Paintings/1875-1902/1902-1941 ; MIM/Pandora , Antwerpen</td>\n      <td>PROPN PROPN PUNCT NUM PUNCT PUNCT X X X X X X X X PUNCT PROPN PUNCT PROPN</td>\n    </tr>\n    <tr>\n      <th>376</th>\n      <td>PROPN</td>\n      <td>X</td>\n      <td>Raisonne</td>\n      <td>Xavier Tricot ( 1992 ) - James Ensor : Catalogue Raisonne of the Paintings/1875-1902/1902-1941 ; MIM/Pandora , Antwerpen</td>\n      <td>PROPN PROPN PUNCT NUM PUNCT PUNCT X X X X X X X X PUNCT PROPN PUNCT PROPN</td>\n    </tr>\n    <tr>\n      <th>377</th>\n      <td>PROPN</td>\n      <td>X</td>\n      <td>Paintings/1875-1902/1902-1941</td>\n      <td>Xavier Tricot ( 1992 ) - James Ensor : Catalogue Raisonne of the Paintings/1875-1902/1902-1941 ; MIM/Pandora , Antwerpen</td>\n      <td>PROPN PROPN PUNCT NUM PUNCT PUNCT X X X X X X X X PUNCT PROPN PUNCT PROPN</td>\n    </tr>\n    <tr>\n      <th>378</th>\n      <td>VERB</td>\n      <td>AUX</td>\n      <td>konden</td>\n      <td>Ensors moeder was een dochter van winkeliers in kantwerk die beiden lezen noch schrijven konden .</td>\n      <td>PROPN NOUN AUX DET NOUN ADP NOUN ADP NOUN PRON PRON VERB CCONJ VERB AUX PUNCT</td>\n    </tr>\n    <tr>\n      <th>379</th>\n      <td>PROPN</td>\n      <td>NOUN</td>\n      <td>Sirene</td>\n      <td>Wel had hij een uitverkoren vriendin Augusta Bogaerts , de \" Sirene \" , die hij trouwens schilderde in het bekende dubbelportret van 1905 , toen ze 35 was .</td>\n      <td>ADV VERB PRON DET VERB NOUN PROPN PROPN PUNCT DET PUNCT NOUN PUNCT PUNCT PRON PRON ADV VERB ADP DET ADJ NOUN ADP NUM PUNCT SCONJ PRON NUM AUX PUNCT</td>\n    </tr>\n    <tr>\n      <th>380</th>\n      <td>ADJ</td>\n      <td>PROPN</td>\n      <td>Chinees</td>\n      <td>Ze trouwde toen Ensor 32 jaar was , met een Chinees handelaar .</td>\n      <td>PRON VERB SCONJ PROPN NUM NOUN AUX PUNCT ADP DET PROPN NOUN PUNCT</td>\n    </tr>\n    <tr>\n      <th>381</th>\n      <td>ADJ</td>\n      <td>VERB</td>\n      <td>geslaagd</td>\n      <td>Het werd geen geslaagd huwelijk .</td>\n      <td>PRON VERB DET VERB NOUN PUNCT</td>\n    </tr>\n    <tr>\n      <th>382</th>\n      <td>AUX</td>\n      <td>VERB</td>\n      <td>was</td>\n      <td>Er volgden 4 kleurrijke boekjes ; « Zoo ik een Indiaantje was » , « Zoo ik een een Eskimootje was » , « Zoo ik een Zeerovertje was » en « Zoo ik een Riddertje was » .</td>\n      <td>ADV VERB NUM ADJ NOUN PUNCT PUNCT ADV PRON DET NOUN VERB PUNCT PUNCT PUNCT ADV PRON DET DET NOUN VERB PUNCT PUNCT PUNCT ADV PRON DET NOUN VERB PUNCT CCONJ PUNCT ADV PRON DET NOUN VERB PUNCT PUNCT</td>\n    </tr>\n    <tr>\n      <th>383</th>\n      <td>AUX</td>\n      <td>VERB</td>\n      <td>was</td>\n      <td>Er volgden 4 kleurrijke boekjes ; « Zoo ik een Indiaantje was » , « Zoo ik een een Eskimootje was » , « Zoo ik een Zeerovertje was » en « Zoo ik een Riddertje was » .</td>\n      <td>ADV VERB NUM ADJ NOUN PUNCT PUNCT ADV PRON DET NOUN VERB PUNCT PUNCT PUNCT ADV PRON DET DET NOUN VERB PUNCT PUNCT PUNCT ADV PRON DET NOUN VERB PUNCT CCONJ PUNCT ADV PRON DET NOUN VERB PUNCT PUNCT</td>\n    </tr>\n    <tr>\n      <th>384</th>\n      <td>AUX</td>\n      <td>VERB</td>\n      <td>was</td>\n      <td>Er volgden 4 kleurrijke boekjes ; « Zoo ik een Indiaantje was » , « Zoo ik een een Eskimootje was » , « Zoo ik een Zeerovertje was » en « Zoo ik een Riddertje was » .</td>\n      <td>ADV VERB NUM ADJ NOUN PUNCT PUNCT ADV PRON DET NOUN VERB PUNCT PUNCT PUNCT ADV PRON DET DET NOUN VERB PUNCT PUNCT PUNCT ADV PRON DET NOUN VERB PUNCT CCONJ PUNCT ADV PRON DET NOUN VERB PUNCT PUNCT</td>\n    </tr>\n    <tr>\n      <th>385</th>\n      <td>AUX</td>\n      <td>VERB</td>\n      <td>was</td>\n      <td>Er volgden 4 kleurrijke boekjes ; « Zoo ik een Indiaantje was » , « Zoo ik een een Eskimootje was » , « Zoo ik een Zeerovertje was » en « Zoo ik een Riddertje was » .</td>\n      <td>ADV VERB NUM ADJ NOUN PUNCT PUNCT ADV PRON DET NOUN VERB PUNCT PUNCT PUNCT ADV PRON DET DET NOUN VERB PUNCT PUNCT PUNCT ADV PRON DET NOUN VERB PUNCT CCONJ PUNCT ADV PRON DET NOUN VERB PUNCT PUNCT</td>\n    </tr>\n    <tr>\n      <th>386</th>\n      <td>PROPN</td>\n      <td>CCONJ</td>\n      <td>en</td>\n      <td>Op 30 maart 1945 was de strip voor het eerst in een krant te lezen , al had de uitgever de reeks wel omgedoopt in « Rikki en Wiske » .</td>\n      <td>ADP NUM PROPN NUM AUX DET NOUN ADP DET ADJ ADP DET NOUN ADP VERB PUNCT ADV AUX DET NOUN DET NOUN ADV VERB ADP PUNCT PROPN CCONJ PROPN PUNCT PUNCT</td>\n    </tr>\n    <tr>\n      <th>387</th>\n      <td>ADV</td>\n      <td>ADJ</td>\n      <td>juist</td>\n      <td>Ook Vandersteen zelf wist dat hij toen juist op het goede moment kwam :</td>\n      <td>ADV PROPN ADV VERB SCONJ PRON ADV ADJ ADP DET ADJ NOUN VERB PUNCT</td>\n    </tr>\n    <tr>\n      <th>388</th>\n      <td>VERB</td>\n      <td>ADJ</td>\n      <td>ontspannends</td>\n      <td>Na vijf jaar oorlogsmisère hadden we hier behoefte aan iets luchtigs , iets ontspannends .</td>\n      <td>ADP NUM NOUN NOUN VERB PRON ADV NOUN ADP PRON ADJ PUNCT PRON ADJ PUNCT</td>\n    </tr>\n    <tr>\n      <th>389</th>\n      <td>DET</td>\n      <td>PRON</td>\n      <td>elke</td>\n      <td>( Willy Vandersteen in : \" Ik vier het elke dag , 65 \" door Erik Durnez , Standaard Uitgeverij , 1978 )</td>\n      <td>PUNCT PROPN PROPN ADP PUNCT PUNCT PRON VERB PRON PRON NOUN SYM NUM PUNCT ADP PROPN PROPN PUNCT PROPN PROPN PUNCT NUM PUNCT</td>\n    </tr>\n    <tr>\n      <th>390</th>\n      <td>NOUN</td>\n      <td>PROPN</td>\n      <td>tuf-tuf-club</td>\n      <td>De teletijdmachine werd voor het eerst gebruikt in « De tuf-tuf-club » ( 1952 ) .</td>\n      <td>DET NOUN AUX ADP DET ADJ VERB ADP PUNCT DET PROPN PUNCT PUNCT NUM PUNCT PUNCT</td>\n    </tr>\n    <tr>\n      <th>391</th>\n      <td>PROPN</td>\n      <td>ADJ</td>\n      <td>Vlaams</td>\n      <td>Vanaf eind jaren '50 , begin jaren '60 spraken zijn figuren ook geen Vlaams meer , maar ABN zodat de reeks ook in Nederland een succes kon worden .</td>\n      <td>ADP NOUN NOUN NUM PUNCT NOUN NOUN NUM VERB PRON NOUN ADV DET ADJ ADV PUNCT CCONJ PROPN SCONJ DET NOUN ADV ADP PROPN DET NOUN AUX VERB PUNCT</td>\n    </tr>\n    <tr>\n      <th>392</th>\n      <td>PROPN</td>\n      <td>NOUN</td>\n      <td>Bruegel</td>\n      <td>De Bruegel van het beeldverhaal</td>\n      <td>DET NOUN ADP DET NOUN</td>\n    </tr>\n    <tr>\n      <th>393</th>\n      <td>PROPN</td>\n      <td>NOUN</td>\n      <td>Bruegel</td>\n      <td>Hergé noemde Vandersteen zelfs \" De Bruegel van het Beeldverhaal \" .</td>\n      <td>PROPN VERB PROPN ADV PUNCT DET NOUN ADP DET NOUN PUNCT PUNCT</td>\n    </tr>\n    <tr>\n      <th>394</th>\n      <td>ADJ</td>\n      <td>VERB</td>\n      <td>bekendstaan</td>\n      <td>Hij zou van 1948 tot 1959 voor het weekblad verscheidene verhalen rond Suske en Wiske tekenen die later bijna allemaal in een blauwe kaft gebundeld zouden worden en daarom bekendstaan als de Blauwe reeks .</td>\n      <td>PRON AUX ADP NUM ADP NUM ADP DET NOUN ADJ NOUN ADP PROPN PROPN PROPN VERB PRON ADJ ADV ADV ADP DET ADJ NOUN VERB AUX AUX CCONJ ADV VERB ADP DET ADJ NOUN PUNCT</td>\n    </tr>\n    <tr>\n      <th>395</th>\n      <td>SCONJ</td>\n      <td>ADP</td>\n      <td>als</td>\n      <td>De verhalen uit deze reeks worden gezien als enkele van de beste die Vandersteen ooit tekende : « Het Spaanse spook » , « De bronzen sleutel » , « De Tartaarse helm » , « De schat van Beersel » , « Goud voor Rome » , « De gezanten van Mars » , « De groene splinter » en « Het gouden paard » .</td>\n      <td>DET NOUN ADP DET NOUN AUX VERB ADP PRON ADP DET ADJ PRON PROPN ADV VERB PUNCT PUNCT DET ADJ NOUN PUNCT PUNCT PUNCT DET ADJ NOUN PUNCT PUNCT PUNCT DET ADJ NOUN PUNCT PUNCT PUNCT DET NOUN ADP PROPN PUNCT PUNCT PUNCT NOUN ADP PROPN PUNCT PUNCT PUNCT DET NOUN ADP PROPN PUNCT PUNCT PUNCT DET ADJ NOUN PUNCT CCONJ PUNCT DET ADJ NOUN PUNCT PUNCT</td>\n    </tr>\n    <tr>\n      <th>396</th>\n      <td>PROPN</td>\n      <td>PRON</td>\n      <td>Ons</td>\n      <td>Vandersteen's strips verschenen nu in \" De Standaard \" , maar ook in de afgeleide weekbladen van die krant : \" Ons Volk \" , \" Ons Volkske \" , \" 't Kapoentje \" .</td>\n      <td>PROPN NOUN VERB ADV ADP PUNCT PROPN PROPN PUNCT PUNCT CCONJ ADV ADP DET VERB NOUN ADP DET NOUN PUNCT PUNCT PRON NOUN PUNCT PUNCT PUNCT PRON NOUN PUNCT PUNCT PUNCT DET NOUN PUNCT PUNCT</td>\n    </tr>\n    <tr>\n      <th>397</th>\n      <td>PROPN</td>\n      <td>NOUN</td>\n      <td>Volk</td>\n      <td>Vandersteen's strips verschenen nu in \" De Standaard \" , maar ook in de afgeleide weekbladen van die krant : \" Ons Volk \" , \" Ons Volkske \" , \" 't Kapoentje \" .</td>\n      <td>PROPN NOUN VERB ADV ADP PUNCT PROPN PROPN PUNCT PUNCT CCONJ ADV ADP DET VERB NOUN ADP DET NOUN PUNCT PUNCT PRON NOUN PUNCT PUNCT PUNCT PRON NOUN PUNCT PUNCT PUNCT DET NOUN PUNCT PUNCT</td>\n    </tr>\n    <tr>\n      <th>398</th>\n      <td>PROPN</td>\n      <td>PRON</td>\n      <td>Ons</td>\n      <td>Vandersteen's strips verschenen nu in \" De Standaard \" , maar ook in de afgeleide weekbladen van die krant : \" Ons Volk \" , \" Ons Volkske \" , \" 't Kapoentje \" .</td>\n      <td>PROPN NOUN VERB ADV ADP PUNCT PROPN PROPN PUNCT PUNCT CCONJ ADV ADP DET VERB NOUN ADP DET NOUN PUNCT PUNCT PRON NOUN PUNCT PUNCT PUNCT PRON NOUN PUNCT PUNCT PUNCT DET NOUN PUNCT PUNCT</td>\n    </tr>\n    <tr>\n      <th>399</th>\n      <td>PROPN</td>\n      <td>NOUN</td>\n      <td>Volkske</td>\n      <td>Vandersteen's strips verschenen nu in \" De Standaard \" , maar ook in de afgeleide weekbladen van die krant : \" Ons Volk \" , \" Ons Volkske \" , \" 't Kapoentje \" .</td>\n      <td>PROPN NOUN VERB ADV ADP PUNCT PROPN PROPN PUNCT PUNCT CCONJ ADV ADP DET VERB NOUN ADP DET NOUN PUNCT PUNCT PRON NOUN PUNCT PUNCT PUNCT PRON NOUN PUNCT PUNCT PUNCT DET NOUN PUNCT PUNCT</td>\n    </tr>\n    <tr>\n      <th>400</th>\n      <td>PROPN</td>\n      <td>NOUN</td>\n      <td>Kapoentje</td>\n      <td>Vandersteen's strips verschenen nu in \" De Standaard \" , maar ook in de afgeleide weekbladen van die krant : \" Ons Volk \" , \" Ons Volkske \" , \" 't Kapoentje \" .</td>\n      <td>PROPN NOUN VERB ADV ADP PUNCT PROPN PROPN PUNCT PUNCT CCONJ ADV ADP DET VERB NOUN ADP DET NOUN PUNCT PUNCT PRON NOUN PUNCT PUNCT PUNCT PRON NOUN PUNCT PUNCT PUNCT DET NOUN PUNCT PUNCT</td>\n    </tr>\n    <tr>\n      <th>401</th>\n      <td>ADV</td>\n      <td>NOUN</td>\n      <td>Overal</td>\n      <td>Ook in \" Kuifje \" , \" Overal \" en \" De Bond \" verschenen zijn tekeningen .</td>\n      <td>ADV ADP PUNCT PROPN PUNCT PUNCT PUNCT NOUN PUNCT CCONJ PUNCT DET NOUN PUNCT VERB PRON NOUN PUNCT</td>\n    </tr>\n    <tr>\n      <th>402</th>\n      <td>X</td>\n      <td>NOUN</td>\n      <td>science-fiction</td>\n      <td>Veel van de verhalen waren eenmalige vertellingen die in een meer realistische stijl getekend waren , zoals « Tijl Uilenspiegel » , « Dr. Jekyll &amp; Mr. Hyde » en meer historische , science-fiction en detectiveverhalen .</td>\n      <td>PRON ADP DET NOUN AUX ADJ NOUN PRON ADP DET ADV ADJ NOUN VERB AUX PUNCT SCONJ PUNCT PROPN PROPN PUNCT PUNCT PUNCT PROPN PROPN SYM PROPN PROPN PUNCT CCONJ ADV ADJ PUNCT NOUN CCONJ NOUN PUNCT</td>\n    </tr>\n    <tr>\n      <th>403</th>\n      <td>VERB</td>\n      <td>NOUN</td>\n      <td>kleuren</td>\n      <td>Zijn vrouw inkte al de tekeningen en spoedig nam hij talloze medewerkers in dienst die zich het inkten , kleuren , de lettering en het decors tekenen van hem overnamen .</td>\n      <td>PRON NOUN VERB DET DET NOUN CCONJ ADJ VERB PRON ADJ NOUN ADP NOUN PRON PRON DET VERB PUNCT NOUN PUNCT DET NOUN CCONJ DET NOUN VERB ADP PRON VERB PUNCT</td>\n    </tr>\n    <tr>\n      <th>404</th>\n      <td>ADP</td>\n      <td>ADJ</td>\n      <td>naast</td>\n      <td>De collie was duidelijk gebaseerd op de populaire televisiehond « Lassie » en verscheen in het begin onder de schuilnaam \" Wirel \" ( een samenvoeging van Vandersteen's voornaam en die van naast medewerker Karel Verschuere . ) .</td>\n      <td>DET NOUN AUX ADJ VERB ADP DET ADJ NOUN PUNCT PROPN PUNCT CCONJ VERB ADP DET NOUN ADP DET NOUN PUNCT PROPN PUNCT PUNCT DET NOUN ADP PROPN NOUN CCONJ PRON ADP ADJ NOUN PROPN PROPN PUNCT PUNCT PUNCT</td>\n    </tr>\n    <tr>\n      <th>405</th>\n      <td>ADV</td>\n      <td>DET</td>\n      <td>al</td>\n      <td>Vandersteen liep ook al een paar jaar rond met het idee een ridderstrip te maken .</td>\n      <td>PROPN VERB ADV DET DET NOUN NOUN ADP ADP DET NOUN DET NOUN ADP VERB PUNCT</td>\n    </tr>\n    <tr>\n      <th>406</th>\n      <td>PROPN</td>\n      <td>ADJ</td>\n      <td>Rode</td>\n      <td>Van jeugdschrijver Leopold Vermeiren kreeg hij de toestemming diens romanfiguur « De Rode Ridder » te gebruiken .</td>\n      <td>ADP NOUN PROPN PROPN VERB PRON DET NOUN DET NOUN PUNCT DET ADJ NOUN PUNCT ADP VERB PUNCT</td>\n    </tr>\n    <tr>\n      <th>407</th>\n      <td>PROPN</td>\n      <td>NOUN</td>\n      <td>Ridder</td>\n      <td>Van jeugdschrijver Leopold Vermeiren kreeg hij de toestemming diens romanfiguur « De Rode Ridder » te gebruiken .</td>\n      <td>ADP NOUN PROPN PROPN VERB PRON DET NOUN DET NOUN PUNCT DET ADJ NOUN PUNCT ADP VERB PUNCT</td>\n    </tr>\n    <tr>\n      <th>408</th>\n      <td>NOUN</td>\n      <td>PROPN</td>\n      <td>Biggles</td>\n      <td>De komende decennia zou Vandersteen nog regelmatig nieuwe reeksen beginnen , vaak gebaseerd op romans die hij als kind graag gelezen had en waar hij dan zijn eigen verhalen rond bedacht ( « Karl May » ( verhalen van de schrijver Karl May rond Old Shatterhand en Winnetou ) , « Biggles » en « Robert en Bertrand » ) .</td>\n      <td>DET VERB NOUN AUX PROPN ADV ADJ ADJ NOUN VERB PUNCT ADJ VERB ADP NOUN PRON PRON ADP NOUN ADV VERB AUX CCONJ ADV PRON ADV PRON ADJ NOUN ADP VERB PUNCT PUNCT PROPN PROPN PUNCT PUNCT NOUN ADP DET NOUN PROPN PROPN ADP PROPN PROPN CCONJ PROPN PUNCT PUNCT PUNCT PROPN PUNCT CCONJ PUNCT PROPN CCONJ PROPN PUNCT PUNCT PUNCT</td>\n    </tr>\n    <tr>\n      <th>409</th>\n      <td>X</td>\n      <td>PROPN</td>\n      <td>Tits</td>\n      <td>Maar ook puur eigen creaties zoals « Jerom » , en « Pats » / « Tits » .</td>\n      <td>CCONJ ADV ADJ ADJ NOUN SCONJ PUNCT PROPN PUNCT PUNCT CCONJ PUNCT PROPN PUNCT PUNCT PUNCT PROPN PUNCT PUNCT</td>\n    </tr>\n    <tr>\n      <th>410</th>\n      <td>ADV</td>\n      <td>SCONJ</td>\n      <td>zogauw</td>\n      <td>Veel van deze reeksen waren minder populair en werden zogauw hij de serie beu was doorgegeven aan zijn medewerkers .</td>\n      <td>PRON ADP DET NOUN AUX ADV ADJ CCONJ AUX SCONJ PRON DET NOUN ADJ AUX VERB ADP PRON NOUN PUNCT</td>\n    </tr>\n    <tr>\n      <th>411</th>\n      <td>PROPN</td>\n      <td>DET</td>\n      <td>De</td>\n      <td>Van de oude succesreeksen weten echter enkel De Rode Ridder en Suske en Wiske zich nog staande te houden .</td>\n      <td>ADP DET ADJ NOUN VERB ADV ADV DET ADJ NOUN CCONJ PROPN PROPN PROPN PRON ADV VERB ADP VERB PUNCT</td>\n    </tr>\n    <tr>\n      <th>412</th>\n      <td>PROPN</td>\n      <td>ADJ</td>\n      <td>Rode</td>\n      <td>Van de oude succesreeksen weten echter enkel De Rode Ridder en Suske en Wiske zich nog staande te houden .</td>\n      <td>ADP DET ADJ NOUN VERB ADV ADV DET ADJ NOUN CCONJ PROPN PROPN PROPN PRON ADV VERB ADP VERB PUNCT</td>\n    </tr>\n    <tr>\n      <th>413</th>\n      <td>PROPN</td>\n      <td>NOUN</td>\n      <td>Ridder</td>\n      <td>Van de oude succesreeksen weten echter enkel De Rode Ridder en Suske en Wiske zich nog staande te houden .</td>\n      <td>ADP DET ADJ NOUN VERB ADV ADV DET ADJ NOUN CCONJ PROPN PROPN PROPN PRON ADV VERB ADP VERB PUNCT</td>\n    </tr>\n    <tr>\n      <th>414</th>\n      <td>NOUN</td>\n      <td>PROPN</td>\n      <td>Kaproen</td>\n      <td>Kaproen ?</td>\n      <td>PROPN PUNCT</td>\n    </tr>\n    <tr>\n      <th>415</th>\n      <td>ADV</td>\n      <td>ADJ</td>\n      <td>Juist</td>\n      <td>Juist in de periode dat er een gat was in Vandersteen zijn werk , half 1942 tot voorjaar 1943 , was er tevens een striptekenaar actief met een gelijkaardige stijl als die van Vandersteen , onder de naam Kaproen .</td>\n      <td>ADJ ADP DET NOUN SCONJ ADV DET NOUN VERB ADP PROPN ADV NOUN PUNCT ADJ NUM ADP NOUN NUM PUNCT AUX ADV ADV DET NOUN ADJ ADP DET ADJ NOUN SCONJ PRON ADP PROPN PUNCT ADP DET NOUN PROPN PUNCT</td>\n    </tr>\n    <tr>\n      <th>416</th>\n      <td>PRON</td>\n      <td>ADV</td>\n      <td>zijn</td>\n      <td>Juist in de periode dat er een gat was in Vandersteen zijn werk , half 1942 tot voorjaar 1943 , was er tevens een striptekenaar actief met een gelijkaardige stijl als die van Vandersteen , onder de naam Kaproen .</td>\n      <td>ADJ ADP DET NOUN SCONJ ADV DET NOUN VERB ADP PROPN ADV NOUN PUNCT ADJ NUM ADP NOUN NUM PUNCT AUX ADV ADV DET NOUN ADJ ADP DET ADJ NOUN SCONJ PRON ADP PROPN PUNCT ADP DET NOUN PROPN PUNCT</td>\n    </tr>\n    <tr>\n      <th>417</th>\n      <td>PROPN</td>\n      <td>DET</td>\n      <td>De</td>\n      <td>Deze werden gepubliceerd in o.m. Volk en Staat , De Nationaal-Socialist en de brochure « Zoo zag Brussel de Dietsche militanten » van de Dietsche Militie-Zwarte Brigade .</td>\n      <td>PRON AUX VERB ADP X NOUN CCONJ NOUN PUNCT DET NOUN CCONJ DET NOUN PUNCT ADV VERB PROPN DET ADJ NOUN PUNCT ADP DET ADJ PROPN PROPN PUNCT</td>\n    </tr>\n    <tr>\n      <th>418</th>\n      <td>PROPN</td>\n      <td>NOUN</td>\n      <td>Nationaal-Socialist</td>\n      <td>Deze werden gepubliceerd in o.m. Volk en Staat , De Nationaal-Socialist en de brochure « Zoo zag Brussel de Dietsche militanten » van de Dietsche Militie-Zwarte Brigade .</td>\n      <td>PRON AUX VERB ADP X NOUN CCONJ NOUN PUNCT DET NOUN CCONJ DET NOUN PUNCT ADV VERB PROPN DET ADJ NOUN PUNCT ADP DET ADJ PROPN PROPN PUNCT</td>\n    </tr>\n    <tr>\n      <th>419</th>\n      <td>PROPN</td>\n      <td>ADJ</td>\n      <td>Dietsche</td>\n      <td>Deze werden gepubliceerd in o.m. Volk en Staat , De Nationaal-Socialist en de brochure « Zoo zag Brussel de Dietsche militanten » van de Dietsche Militie-Zwarte Brigade .</td>\n      <td>PRON AUX VERB ADP X NOUN CCONJ NOUN PUNCT DET NOUN CCONJ DET NOUN PUNCT ADV VERB PROPN DET ADJ NOUN PUNCT ADP DET ADJ PROPN PROPN PUNCT</td>\n    </tr>\n    <tr>\n      <th>420</th>\n      <td>ADJ</td>\n      <td>ADV</td>\n      <td>Hoogstens</td>\n      <td>Hoogstens vage aanwijzingen , zoals dat Vandersteen tekende voor De Dag , een flamingantische krant die steeds verder in de collaboratie kwam .</td>\n      <td>ADV ADJ NOUN PUNCT SCONJ SCONJ PROPN VERB ADP DET NOUN PUNCT DET ADJ NOUN PRON ADV ADJ ADP DET NOUN VERB PUNCT</td>\n    </tr>\n    <tr>\n      <th>421</th>\n      <td>PROPN</td>\n      <td>DET</td>\n      <td>De</td>\n      <td>Hoogstens vage aanwijzingen , zoals dat Vandersteen tekende voor De Dag , een flamingantische krant die steeds verder in de collaboratie kwam .</td>\n      <td>ADV ADJ NOUN PUNCT SCONJ SCONJ PROPN VERB ADP DET NOUN PUNCT DET ADJ NOUN PRON ADV ADJ ADP DET NOUN VERB PUNCT</td>\n    </tr>\n    <tr>\n      <th>422</th>\n      <td>PROPN</td>\n      <td>NOUN</td>\n      <td>Dag</td>\n      <td>Hoogstens vage aanwijzingen , zoals dat Vandersteen tekende voor De Dag , een flamingantische krant die steeds verder in de collaboratie kwam .</td>\n      <td>ADV ADJ NOUN PUNCT SCONJ SCONJ PROPN VERB ADP DET NOUN PUNCT DET ADJ NOUN PRON ADV ADJ ADP DET NOUN VERB PUNCT</td>\n    </tr>\n    <tr>\n      <th>423</th>\n      <td>ADJ</td>\n      <td>PROPN</td>\n      <td>oud-Nederlands</td>\n      <td>Ook rijm , pseudo oud-Nederlands , achterstevoren uitgesproken zinnen , woordspelingen , alliteraties en vervormingen van het Antwerpse dialect komen veelvuldig voor .</td>\n      <td>ADV NOUN PUNCT ADJ PROPN PUNCT ADV VERB NOUN PUNCT NOUN PUNCT NOUN CCONJ NOUN ADP DET ADJ NOUN VERB ADJ ADP PUNCT</td>\n    </tr>\n    <tr>\n      <th>424</th>\n      <td>PROPN</td>\n      <td>NOUN</td>\n      <td>Wiskeverhalen</td>\n      <td>In 1949 bewerkte Karel Weyler van Pats ' poppenspel een aantal Suske en Wiskeverhalen voor het poppentheater die later ook op tv werden uitgezonden .</td>\n      <td>ADP NUM VERB PROPN PROPN ADP PROPN PUNCT NOUN DET NOUN PROPN PROPN NOUN ADP DET NOUN PRON ADJ ADV ADP NOUN AUX VERB PUNCT</td>\n    </tr>\n    <tr>\n      <th>425</th>\n      <td>ADV</td>\n      <td>ADP</td>\n      <td>te</td>\n      <td>De verhalen bleken echter veel te Vlaams/Nederlands .</td>\n      <td>DET NOUN VERB ADV PRON ADP PROPN PUNCT</td>\n    </tr>\n    <tr>\n      <th>426</th>\n      <td>ADJ</td>\n      <td>PROPN</td>\n      <td>Vlaams/Nederlands</td>\n      <td>De verhalen bleken echter veel te Vlaams/Nederlands .</td>\n      <td>DET NOUN VERB ADV PRON ADP PROPN PUNCT</td>\n    </tr>\n    <tr>\n      <th>427</th>\n      <td>PROPN</td>\n      <td>ADJ</td>\n      <td>Klassiek</td>\n      <td>Van 1993 tot 1999 jaar werden ook de oude Suske en Wiske verhalen in hun oorspronkelijke krantenverschijning opnieuw uitgebracht in de Klassiek Reeks .</td>\n      <td>ADP NUM ADP NUM NOUN AUX ADV DET ADJ PROPN PROPN PROPN NOUN ADP PRON ADJ NOUN ADV VERB ADP DET ADJ NOUN PUNCT</td>\n    </tr>\n    <tr>\n      <th>428</th>\n      <td>PROPN</td>\n      <td>NOUN</td>\n      <td>Reeks</td>\n      <td>Van 1993 tot 1999 jaar werden ook de oude Suske en Wiske verhalen in hun oorspronkelijke krantenverschijning opnieuw uitgebracht in de Klassiek Reeks .</td>\n      <td>ADP NUM ADP NUM NOUN AUX ADV DET ADJ PROPN PROPN PROPN NOUN ADP PRON ADJ NOUN ADV VERB ADP DET ADJ NOUN PUNCT</td>\n    </tr>\n    <tr>\n      <th>429</th>\n      <td>PROPN</td>\n      <td>CCONJ</td>\n      <td>en</td>\n      <td>In 1994 en 2002 volgden er de musicals « Suske en Wiske - De musical » en « De spokenjagers » .</td>\n      <td>ADP NUM CCONJ NUM VERB ADV DET NOUN PUNCT PROPN CCONJ PROPN SYM DET NOUN PUNCT CCONJ PUNCT DET NOUN PUNCT PUNCT</td>\n    </tr>\n    <tr>\n      <th>430</th>\n      <td>AUX</td>\n      <td>VERB</td>\n      <td>werd</td>\n      <td>In 2005 werd Vandersteen genomineerd als één van de 111 kanshebbers op de titel De Grootste Belg in de Vlaamse versie .</td>\n      <td>ADP NUM VERB PROPN VERB ADP NUM ADP DET NUM NOUN ADP DET NOUN DET ADJ PROPN ADP DET ADJ NOUN PUNCT</td>\n    </tr>\n    <tr>\n      <th>431</th>\n      <td>DET</td>\n      <td>ADV</td>\n      <td>Bijna</td>\n      <td>Bijna iedereen in Vlaanderen heeft in zijn jeugd of later minstens \" Suske en Wiske \" gelezen .</td>\n      <td>ADV PRON ADP PROPN AUX ADP PRON NOUN CCONJ ADJ ADV PUNCT PROPN PROPN PROPN PUNCT VERB PUNCT</td>\n    </tr>\n    <tr>\n      <th>432</th>\n      <td>DET</td>\n      <td>ADV</td>\n      <td>vrijwel</td>\n      <td>Ook Vandersteen's andere reeksen beïnvloedden vrijwel elke striptekenaar in Vlaanderen : Marc Sleen , Jef Nys , Merho , Willy Linthout en Urbanus , Jan Bosschaert , Jean-Pol , Marc Legendre , Jeroom en Kamagurka .</td>\n      <td>ADV PROPN ADJ NOUN VERB ADV DET NOUN ADP PROPN PUNCT PROPN PROPN PUNCT PROPN PROPN PUNCT PROPN PUNCT PROPN PROPN CCONJ PROPN PUNCT PROPN PROPN PUNCT PROPN PUNCT PROPN PROPN PUNCT PROPN CCONJ PROPN PUNCT</td>\n    </tr>\n    <tr>\n      <th>433</th>\n      <td>PROPN</td>\n      <td>DET</td>\n      <td>De</td>\n      <td>Zo is Ridder Bauknecht van Jeroom een parodie op De Rode Ridder .</td>\n      <td>ADV AUX PROPN PROPN ADP PROPN DET NOUN ADP DET ADJ NOUN PUNCT</td>\n    </tr>\n    <tr>\n      <th>434</th>\n      <td>PROPN</td>\n      <td>ADJ</td>\n      <td>Rode</td>\n      <td>Zo is Ridder Bauknecht van Jeroom een parodie op De Rode Ridder .</td>\n      <td>ADV AUX PROPN PROPN ADP PROPN DET NOUN ADP DET ADJ NOUN PUNCT</td>\n    </tr>\n    <tr>\n      <th>435</th>\n      <td>PROPN</td>\n      <td>NOUN</td>\n      <td>Ridder</td>\n      <td>Zo is Ridder Bauknecht van Jeroom een parodie op De Rode Ridder .</td>\n      <td>ADV AUX PROPN PROPN ADP PROPN DET NOUN ADP DET ADJ NOUN PUNCT</td>\n    </tr>\n    <tr>\n      <th>436</th>\n      <td>NOUN</td>\n      <td>PROPN</td>\n      <td>Tits</td>\n      <td>« Tits » 1977-1986</td>\n      <td>PUNCT PROPN PUNCT SYM</td>\n    </tr>\n    <tr>\n      <th>437</th>\n      <td>PUNCT</td>\n      <td>SYM</td>\n      <td>,</td>\n      <td>« Piwo , het houten paard » 1943-1946</td>\n      <td>PUNCT PROPN SYM DET ADJ NOUN PUNCT SYM</td>\n    </tr>\n    <tr>\n      <th>438</th>\n      <td>PROPN</td>\n      <td>DET</td>\n      <td>'t</td>\n      <td>« 't Prinske » 1953-1959</td>\n      <td>PUNCT DET NOUN PUNCT SYM</td>\n    </tr>\n    <tr>\n      <th>439</th>\n      <td>PROPN</td>\n      <td>NOUN</td>\n      <td>Prinske</td>\n      <td>« 't Prinske » 1953-1959</td>\n      <td>PUNCT DET NOUN PUNCT SYM</td>\n    </tr>\n    <tr>\n      <th>440</th>\n      <td>PROPN</td>\n      <td>DET</td>\n      <td>De</td>\n      <td>« De Rode Ridder » 1959-heden</td>\n      <td>PUNCT DET ADJ NOUN PUNCT SYM</td>\n    </tr>\n    <tr>\n      <th>441</th>\n      <td>PROPN</td>\n      <td>ADJ</td>\n      <td>Rode</td>\n      <td>« De Rode Ridder » 1959-heden</td>\n      <td>PUNCT DET ADJ NOUN PUNCT SYM</td>\n    </tr>\n    <tr>\n      <th>442</th>\n      <td>PROPN</td>\n      <td>NOUN</td>\n      <td>Ridder</td>\n      <td>« De Rode Ridder » 1959-heden</td>\n      <td>PUNCT DET ADJ NOUN PUNCT SYM</td>\n    </tr>\n    <tr>\n      <th>443</th>\n      <td>ADJ</td>\n      <td>PROPN</td>\n      <td>Heilig</td>\n      <td>De onderpastoor zei hen echter dat het Heilig Graf al bevrijd was .</td>\n      <td>DET NOUN VERB PRON ADV SCONJ DET PROPN PROPN ADV VERB AUX PUNCT</td>\n    </tr>\n    <tr>\n      <th>444</th>\n      <td>NOUN</td>\n      <td>PROPN</td>\n      <td>Graf</td>\n      <td>De onderpastoor zei hen echter dat het Heilig Graf al bevrijd was .</td>\n      <td>DET NOUN VERB PRON ADV SCONJ DET PROPN PROPN ADV VERB AUX PUNCT</td>\n    </tr>\n    <tr>\n      <th>445</th>\n      <td>ADJ</td>\n      <td>PRON</td>\n      <td>enige</td>\n      <td>Zijn leraren berispten hem regelmatig met de woorden : \" Het enige wat jij goed kunt is tekenen en schrijven , maar daar kun je later toch nooit je brood mee verdienen . \"</td>\n      <td>PRON NOUN VERB PRON ADJ ADP DET NOUN PUNCT PUNCT DET PRON PRON PRON ADJ VERB AUX VERB CCONJ VERB PUNCT CCONJ ADV AUX PRON ADJ ADV ADV PRON NOUN ADP VERB PUNCT PUNCT</td>\n    </tr>\n    <tr>\n      <th>446</th>\n      <td>PROPN</td>\n      <td>NOUN</td>\n      <td>Akademie</td>\n      <td>Terwijl hij avondlessen tekenen volgde aan de Antwerpse Akademie voor Schone Kunsten hielp Vandersteen ook regelmatig zijn vader in diens werkatelier .</td>\n      <td>SCONJ PRON NOUN VERB VERB ADP DET ADJ NOUN ADP ADJ NOUN VERB PROPN ADV ADJ PRON NOUN ADP DET NOUN PUNCT</td>\n    </tr>\n    <tr>\n      <th>447</th>\n      <td>PROPN</td>\n      <td>ADJ</td>\n      <td>Schone</td>\n      <td>Terwijl hij avondlessen tekenen volgde aan de Antwerpse Akademie voor Schone Kunsten hielp Vandersteen ook regelmatig zijn vader in diens werkatelier .</td>\n      <td>SCONJ PRON NOUN VERB VERB ADP DET ADJ NOUN ADP ADJ NOUN VERB PROPN ADV ADJ PRON NOUN ADP DET NOUN PUNCT</td>\n    </tr>\n    <tr>\n      <th>448</th>\n      <td>PROPN</td>\n      <td>NOUN</td>\n      <td>Kunsten</td>\n      <td>Terwijl hij avondlessen tekenen volgde aan de Antwerpse Akademie voor Schone Kunsten hielp Vandersteen ook regelmatig zijn vader in diens werkatelier .</td>\n      <td>SCONJ PRON NOUN VERB VERB ADP DET ADJ NOUN ADP ADJ NOUN VERB PROPN ADV ADJ PRON NOUN ADP DET NOUN PUNCT</td>\n    </tr>\n    <tr>\n      <th>449</th>\n      <td>VERB</td>\n      <td>AUX</td>\n      <td>was</td>\n      <td>Het werk was zwaar : Vandersteen pendelde elke weekdag tussen Antwerpen en Brussel en was meestal pas om 9 uur thuis waarna hij dan pas aan het tekenwerk kon beginnen .</td>\n      <td>DET NOUN AUX ADJ PUNCT PROPN VERB DET NOUN ADP PROPN CCONJ PROPN CCONJ AUX ADV ADV ADP NUM NOUN ADV ADV PRON ADV ADV ADP DET NOUN AUX VERB PUNCT</td>\n    </tr>\n    <tr>\n      <th>450</th>\n      <td>PROPN</td>\n      <td>DET</td>\n      <td>De</td>\n      <td>Onder het pseudoniem \" Wil \" tekende Vandersteen « De lollige avonturen van Pudifar » voor Wonderland , de kindereditie op woensdag van het blad \" De Dag \" .</td>\n      <td>ADP DET NOUN PUNCT PROPN PUNCT VERB PROPN PUNCT DET ADJ NOUN ADP PROPN PUNCT ADP PROPN PUNCT DET NOUN ADP PROPN ADP DET NOUN PUNCT DET NOUN PUNCT PUNCT</td>\n    </tr>\n    <tr>\n      <th>451</th>\n      <td>PROPN</td>\n      <td>NOUN</td>\n      <td>Dag</td>\n      <td>Onder het pseudoniem \" Wil \" tekende Vandersteen « De lollige avonturen van Pudifar » voor Wonderland , de kindereditie op woensdag van het blad \" De Dag \" .</td>\n      <td>ADP DET NOUN PUNCT PROPN PUNCT VERB PROPN PUNCT DET ADJ NOUN ADP PROPN PUNCT ADP PROPN PUNCT DET NOUN ADP PROPN ADP DET NOUN PUNCT DET NOUN PUNCT PUNCT</td>\n    </tr>\n    <tr>\n      <th>452</th>\n      <td>ADV</td>\n      <td>SCONJ</td>\n      <td>nu</td>\n      <td>Zo kwam hij in contact met J. Meuwissen , een Nederlander die sinds 1936 het blad Bravo uitgaf en op zoek was naar Vlaams en Nederlands tekentalent nu er geen Amerikaanse strips meer mochten gepubliceerd worden .</td>\n      <td>ADV VERB PRON ADP NOUN ADP PROPN PROPN PUNCT DET PROPN PRON ADP NUM DET NOUN PROPN VERB CCONJ ADP NOUN AUX ADP ADJ CCONJ ADJ NOUN SCONJ ADV DET ADJ NOUN ADV AUX VERB AUX PUNCT</td>\n    </tr>\n  </tbody>\n</table>\n</div>"
     },
     "metadata": {},
     "execution_count": 25
    }
   ],
   "source": [
    "mistakes_df"
   ]
  },
  {
   "cell_type": "markdown",
   "metadata": {},
   "source": [
    "Tokens predicted as proper nouns that are not uppercase"
   ]
  },
  {
   "cell_type": "code",
   "execution_count": 26,
   "metadata": {
    "ExecuteTime": {
     "end_time": "2020-05-19T09:01:19.063899Z",
     "start_time": "2020-05-19T09:01:19.039893Z"
    }
   },
   "outputs": [
    {
     "output_type": "execute_result",
     "data": {
      "text/plain": "0      6                      \n1      6                      \n2      7                      \n3      beschaamd              \n4      -                      \n6      -                      \n7      -                      \n8      bejubelde              \n9      solo                   \n10     gedesillusioneerde     \n11     luttele                \n13     dramatiek              \n14     neer                   \n15     onthutst               \n16     bent                   \n18     neer                   \n20     konden                 \n21     gevreesde              \n23     weinig                 \n24     als                    \n28     als                    \n29     veredeld               \n31     eerder                 \n35     schouderophalend       \n37     is                     \n38     als                    \n41     ouder                  \n42     zijn                   \n43     leven                  \n44     meer                   \n46     als                    \n51     gevat                  \n53     rem                    \n54     eerder                 \n55     verbeten               \n57     ja                     \n58     méér                   \n61     tuendam                \n62     fidem                  \n63     ketters                \n64     heeft                  \n65     dansen                 \n67     treffend               \n68     eerder                 \n69     als                    \n70     disputen               \n71     steekhoudende          \n72     heeft                  \n73     en                     \n74     de                     \n76     optreden               \n77     0.30                   \n81     !                      \n83     ondervraagde           \n84     onvoldoende            \n86     getinte                \n89     van                    \n96     non-actief             \n98     werd                   \n99     geboren                \n107    gewild                 \n109    little                 \n111    gebaarde               \n114    dominante              \n115    minder                 \n124    wanneer                \n127    dank                   \n128    omgekeerd              \n129    neer                   \n133    halverwege             \n136    beider                 \n137    meerkamp               \n141    zijn                   \n142    gemotiveerde           \n144    dat                    \n148    is                     \n149    juist                  \n153    2/3                    \n155    meer                   \n156    drieën                 \n159    't                     \n161    -                      \n164    eerder                 \n165    er                     \n167    burn-out               \n168    500cc                  \n169    gek                    \n171    gaandeweg              \n172    voldoende              \n174    spelen                 \n175    waar                   \n177    bedroevend             \n180    opvallendste           \n181    wel                    \n182    meer                   \n186    meer                   \n187    26%                    \n190    net                    \n191    geen                   \n193    volksvertegenwoordigend\n194    eerder                 \n195    is                     \n200    3166-2-code            \n202    is                     \n204    (                      \n205    )                      \n206    (                      \n207    )                      \n208    (                      \n209    )                      \n210    (                      \n211    )                      \n217    van                    \n221    t/m                    \n222    motorfietsen           \n225    van                    \n228    grotendeels            \n231    dezelfde               \n232    als                    \n235    gelovigen              \n236    is                     \n247    :                      \n249    -                      \n250    ,                      \n252    -                      \n257    eerst                  \n258    gematigde              \n259    bepaalde               \n260    konden                 \n261    enige                  \n262    lijden                 \n263    getuige                \n264    als                    \n265    als                    \n272    journalistiek          \n273    hebben                 \n279    1987-1989              \n280    1987-2004              \n281    2004-...               \n282    1995-...               \n283    1985-1987              \n284    1985-1987              \n285    1988-1995              \n286    1995-...               \n287    1992-2004              \n288    2004-...               \n289    1992-...               \n293    't                     \n297    &                      \n299    dat                    \n300    als                    \n301    ongetwijfeld           \n302    begenadigd             \n309    als                    \n315    was                    \n317    vingt                  \n319    morte                  \n320    voor                   \n323    werken                 \n324    werd                   \n325    geboren                \n326    werken                 \n327    eerde                  \n328    geringschattende       \n332    werken                 \n335    wordt                  \n337    werken                 \n338    was                    \n339    kg.                    \n340    laag                   \n341    laag                   \n343    verwaande              \n345    doctrinaires           \n346    pompeuze               \n348    juist                  \n349    licht                  \n351    voor                   \n354    ditmaal                \n355    juist                  \n357    schitterende           \n358    werken                 \n359    plume                  \n361    geladen                \n363    is                     \n364    geladen                \n365    eerder                 \n368    werken                 \n369    neger                  \n371    het                    \n374    :                      \n378    konden                 \n381    geslaagd               \n382    was                    \n383    was                    \n384    was                    \n385    was                    \n386    en                     \n387    juist                  \n388    ontspannends           \n389    elke                   \n390    tuf-tuf-club           \n394    bekendstaan            \n395    als                    \n402    science-fiction        \n403    kleuren                \n404    naast                  \n405    al                     \n410    zogauw                 \n416    zijn                   \n423    oud-Nederlands         \n425    te                     \n429    en                     \n430    werd                   \n432    vrijwel                \n437    ,                      \n438    't                     \n445    enige                  \n449    was                    \n452    nu                     \nName: token, dtype: object"
     },
     "metadata": {},
     "execution_count": 26
    }
   ],
   "source": [
    "propn = mistakes_df[mistakes_df.predicted!=mistakes_df.actual].token.str[0]\n",
    "mistakes_df[mistakes_df.predicted!=mistakes_df.actual].token[~propn.str.isupper()]"
   ]
  },
  {
   "cell_type": "code",
   "execution_count": 27,
   "metadata": {
    "ExecuteTime": {
     "end_time": "2020-05-19T09:02:01.973043Z",
     "start_time": "2020-05-19T09:02:01.958044Z"
    }
   },
   "outputs": [
    {
     "output_type": "execute_result",
     "data": {
      "text/plain": "als                              0.024283\nDe                               0.019868\nwas                              0.015453\nUitgeverij                       0.015453\nwerken                           0.013245\nVlaams                           0.013245\n-                                0.013245\neerder                           0.013245\nis                               0.013245\nF1                               0.011038\n)                                0.008830\nItalianen                        0.008830\njuist                            0.008830\nmeer                             0.008830\nWK                               0.008830\nRidder                           0.008830\nRode                             0.008830\nKasteel                          0.008830\n(                                0.008830\nvan                              0.006623\nPrijs                            0.006623\n't                               0.006623\nDuitser                          0.006623\nkonden                           0.006623\nwerd                             0.006623\nen                               0.006623\nzijn                             0.006623\nRabo's                           0.006623\nneer                             0.006623\nEuropese                         0.004415\nTopzwemmen                       0.004415\nAureolen                         0.004415\nTits                             0.004415\n1985-1987                        0.004415\nenige                            0.004415\n,                                0.004415\nKunsten                          0.004415\nJong                             0.004415\nheeft                            0.004415\nSalon                            0.004415\nOns                              0.004415\nlaag                             0.004415\nJuist                            0.004415\nAidsfonds                        0.004415\nBlok                             0.004415\nLotus                            0.004415\nFARC-rebellen                    0.004415\ndat                              0.004415\n2004-...                         0.004415\nBlauwe                           0.004415\nvoor                             0.004415\n:                                0.004415\nBoogerd                          0.004415\nCommissie                        0.004415\nZuid-Amerikanen                  0.004415\nSchreuders                       0.004415\n1995-...                         0.004415\ngeboren                          0.004415\ngeladen                          0.004415\nDag                              0.004415\nSchone                           0.004415\nBruegel                          0.004415\n6                                0.004415\nMan                              0.004415\nInstelling                       0.002208\nStille                           0.002208\nGelaten                          0.002208\nplume                            0.002208\nvingt                            0.002208\nChet                             0.002208\nGrote                            0.002208\nNationaal-Socialist              0.002208\ngeringschattende                 0.002208\ngeslaagd                         0.002208\nbent                             0.002208\ngewild                           0.002208\nneger                            0.002208\n7                                0.002208\nReeks                            0.002208\nOsteuropa                        0.002208\nmeerkamp                         0.002208\nMidden-                          0.002208\nsteekhoudende                    0.002208\nAlone                            0.002208\ngevreesde                        0.002208\nOnze-Lieve-Vrouwecollege         0.002208\nAcademie                         0.002208\nVrij                             0.002208\nAswoensdag                       0.002208\nRaisonne                         0.002208\nConservatism                     0.002208\njournalistiek                    0.002208\nWarners                          0.002208\ngevat                            0.002208\nbeschaamd                        0.002208\ntuf-tuf-club                     0.002208\nHeilig                           0.002208\nDaags                            0.002208\nspelen                           0.002208\nhet                              0.002208\nwel                              0.002208\nPol&Soc                          0.002208\nOveral                           0.002208\nVaticaanse                       0.002208\nBiggles                          0.002208\nSusie                            0.002208\ngedesillusioneerde               0.002208\ndrieën                           0.002208\nOndanks                          0.002208\nt/m                              0.002208\ndansen                           0.002208\nkleuren                          0.002208\nsolo                             0.002208\nLe                               0.002208\nGeest                            0.002208\nL'Art                            0.002208\nC                                0.002208\ndramatiek                        0.002208\nTipperary                        0.002208\nTriënnale                        0.002208\nBegraafplaats                    0.002208\nal                               0.002208\nditmaal                          0.002208\ngematigde                        0.002208\nTournament                       0.002208\ntuendam                          0.002208\nCalvarie                         0.002208\nLes                              0.002208\neerde                            0.002208\nja                               0.002208\nActie                            0.002208\nvrijwel                          0.002208\nCD&V/N-VA                        0.002208\nmorte                            0.002208\n1987-1989                        0.002208\n!                                0.002208\nEnsor                            0.002208\nlittle                           0.002208\nTroef                            0.002208\noud-Nederlands                   0.002208\nA                                0.002208\nmotorfietsen                     0.002208\nondervraagde                     0.002208\nWiskeverhalen                    0.002208\nWomen's                          0.002208\ner                               0.002208\nCompassionate                    0.002208\nBestuursdienst                   0.002208\nGumbs                            0.002208\nO.L.V.-college                   0.002208\nnu                               0.002208\ngeen                             0.002208\nVolkske                          0.002208\nMuseum                           0.002208\nKlassiek                         0.002208\nProject                          0.002208\nMoeders                          0.002208\nJames                            0.002208\nVlaams/Nederlands                0.002208\nnet                              0.002208\nDelmee                           0.002208\ngrotendeels                      0.002208\nAd                               0.002208\nPrinske                          0.002208\nelke                             0.002208\n1992-...                         0.002208\ngek                              0.002208\nAkademie                         0.002208\nVolkspartij                      0.002208\ngetuige                          0.002208\n3166-2-code                      0.002208\nopvallendste                     0.002208\nschouderophalend                 0.002208\n0.30                             0.002208\nouder                            0.002208\nGeërgerde                        0.002208\nVerdoken                         0.002208\nWeltwirtschafsforum              0.002208\nOlie                             0.002208\ngemotiveerde                     0.002208\nte                               0.002208\nNow                              0.002208\nminder                           0.002208\nschitterende                     0.002208\nFanfares                         0.002208\nomgekeerd                        0.002208\nhalverwege                       0.002208\nUniversitaire                    0.002208\nbegenadigd                       0.002208\nveredeld                         0.002208\nTelecommunicatie                 0.002208\nDwaze                            0.002208\nbepaalde                         0.002208\nA5                               0.002208\nConcilie                         0.002208\ngetinte                          0.002208\nChinees                          0.002208\nScholieren                       0.002208\nzogauw                           0.002208\nBE-VLG                           0.002208\nbeider                           0.002208\nverbeten                         0.002208\nleven                            0.002208\nCommunistische                   0.002208\nlijden                           0.002208\ndezelfde                         0.002208\nZee                              0.002208\nFaculteiten                      0.002208\nnaast                            0.002208\nBovenaan                         0.002208\nWorldwide                        0.002208\n26%                              0.002208\nPartij                           0.002208\nAmerikanen                       0.002208\nZuid                             0.002208\nvolksvertegenwoordigend          0.002208\ndominante                        0.002208\nfidem                            0.002208\nWorld                            0.002208\nPost                             0.002208\nbejubelde                        0.002208\nAtkins                           0.002208\nTweede                           0.002208\nhebben                           0.002208\ndank                             0.002208\n500cc                            0.002208\nTegenstroom                      0.002208\nSirene                           0.002208\nkg.                              0.002208\nonvoldoende                      0.002208\nVoederbietels                    0.002208\nHogere                           0.002208\nwordt                            0.002208\nPort                             0.002208\n2/3                              0.002208\neerst                            0.002208\nnon-actief                       0.002208\n1988-1995                        0.002208\nEen                              0.002208\nburn-out                         0.002208\ndoctrinaires                     0.002208\nGraf                             0.002208\nongetwijfeld                     0.002208\nBaron                            0.002208\nRond                             0.002208\ngaandeweg                        0.002208\nbekendstaan                      0.002208\nB-landen                         0.002208\nWOW                              0.002208\ntreffend                         0.002208\nWake                             0.002208\n1987-2004                        0.002208\ngebaarde                         0.002208\nJongeren                         0.002208\nde                               0.002208\nLurling                          0.002208\nonthutst                         0.002208\nwanneer                          0.002208\nméér                             0.002208\nBest                             0.002208\nlicht                            0.002208\nWeg                              0.002208\nBijna                            0.002208\nHezbollah-strijders              0.002208\nVaticaans                        0.002208\nHoogstens                        0.002208\nCatalogue                        0.002208\nbedroevend                       0.002208\nWitte                            0.002208\nOrdination                       0.002208\nPaintings/1875-1902/1902-1941    0.002208\nVrijdag-akkoord                  0.002208\nGoorbergh-tribune                0.002208\nKaproen                          0.002208\nrem                              0.002208\nSTA                              0.002208\nNederlands                       0.002208\ngelovigen                        0.002208\nPaleoconservatisme               0.002208\nModerne                          0.002208\nGroep                            0.002208\nAlmost                           0.002208\nLampenist                        0.002208\nNature                           0.002208\nGekruisigde                      0.002208\nontspannends                     0.002208\nLenstra-stadion                  0.002208\nweinig                           0.002208\ndisputen                         0.002208\nFARC-woordvoerder                0.002208\n1992-2004                        0.002208\nKartel                           0.002208\nluttele                          0.002208\nStop                             0.002208\nvoldoende                        0.002208\nverwaande                        0.002208\noptreden                         0.002208\nNobelprijswinnaar                0.002208\nHandelsschool                    0.002208\nwaar                             0.002208\nscience-fiction                  0.002208\nketters                          0.002208\nVolk                             0.002208\nKapoentje                        0.002208\nCarnaval                         0.002208\nVastentijd                       0.002208\nLaffer-curve                     0.002208\n&                                0.002208\nDietsche                         0.002208\npompeuze                         0.002208\nRijksluchtvaartdienst            0.002208\nBijlmerramp                      0.002208\nName: token, dtype: float64"
     },
     "metadata": {},
     "execution_count": 27
    }
   ],
   "source": [
    "mistakes_df.token.value_counts()/mistakes_df.token.value_counts().sum()"
   ]
  },
  {
   "cell_type": "code",
   "execution_count": 28,
   "metadata": {
    "ExecuteTime": {
     "end_time": "2020-05-19T09:01:22.796166Z",
     "start_time": "2020-05-19T09:01:22.783161Z"
    }
   },
   "outputs": [
    {
     "output_type": "execute_result",
     "data": {
      "text/plain": "                                                                                                                                                                                    sentences  \\\n210  Op 1 juni reisde de Colombiaanse president Pastrana naar de Paraguayaanse hoofdstad Asunción .                                                                                             \n224  Zichtbaar geëmotioneerd en lijkbleek legde Mejia vrijdagavond in het bijzijn van president Pastrana een verklaring af voor de Colombiaanse televisie .                                     \n488  Alsof het een weekend-uitje betrof , heeft de Amerikaanse vice-president Dick Cheney zaterdag ' even ' een operatie ondergaan .                                                            \n516  Na een soortgelijke Israëlische wraakaanval op een Syrische positie buiten Beiroet in april , liet de Syrische president Assad waarschuwende geluiden horen , maar ondernam geen actie .   \n\n                                                                                                                               ground_truth  \\\n210  ADP NUM PROPN VERB DET ADJ NOUN PROPN ADP DET ADJ NOUN PROPN PUNCT                                                                       \n224  ADJ VERB CCONJ ADJ VERB PROPN NOUN ADP DET NOUN ADP NOUN PROPN DET NOUN ADP ADP DET ADJ NOUN PUNCT                                       \n488  SCONJ PRON DET NOUN VERB PUNCT AUX DET ADJ NOUN PROPN PROPN PROPN PUNCT ADV PUNCT DET NOUN VERB PUNCT                                    \n516  ADP DET ADJ ADJ NOUN ADP DET ADJ NOUN ADP PROPN ADP PROPN PUNCT VERB DET ADJ NOUN PROPN VERB NOUN VERB PUNCT CCONJ VERB DET NOUN PUNCT   \n\n                                                                                                                                predictions  \n210  ADP NUM PROPN VERB DET ADJ NOUN PROPN ADP DET ADJ NOUN PROPN PUNCT                                                                      \n224  ADJ VERB CCONJ ADJ VERB PROPN NOUN ADP DET NOUN ADP NOUN PROPN DET NOUN ADP ADP DET ADJ NOUN PUNCT                                      \n488  SCONJ PRON DET NOUN VERB PUNCT AUX DET ADJ NOUN PROPN PROPN PROPN PUNCT ADV PUNCT DET NOUN VERB PUNCT                                   \n516  ADP DET ADJ ADJ NOUN ADP DET ADJ NOUN ADP PROPN ADP PROPN PUNCT VERB DET ADJ NOUN PROPN VERB NOUN VERB PUNCT CCONJ VERB DET NOUN PUNCT  ",
      "text/html": "<div>\n<style scoped>\n    .dataframe tbody tr th:only-of-type {\n        vertical-align: middle;\n    }\n\n    .dataframe tbody tr th {\n        vertical-align: top;\n    }\n\n    .dataframe thead th {\n        text-align: right;\n    }\n</style>\n<table border=\"1\" class=\"dataframe\">\n  <thead>\n    <tr style=\"text-align: right;\">\n      <th></th>\n      <th>sentences</th>\n      <th>ground_truth</th>\n      <th>predictions</th>\n    </tr>\n  </thead>\n  <tbody>\n    <tr>\n      <th>210</th>\n      <td>Op 1 juni reisde de Colombiaanse president Pastrana naar de Paraguayaanse hoofdstad Asunción .</td>\n      <td>ADP NUM PROPN VERB DET ADJ NOUN PROPN ADP DET ADJ NOUN PROPN PUNCT</td>\n      <td>ADP NUM PROPN VERB DET ADJ NOUN PROPN ADP DET ADJ NOUN PROPN PUNCT</td>\n    </tr>\n    <tr>\n      <th>224</th>\n      <td>Zichtbaar geëmotioneerd en lijkbleek legde Mejia vrijdagavond in het bijzijn van president Pastrana een verklaring af voor de Colombiaanse televisie .</td>\n      <td>ADJ VERB CCONJ ADJ VERB PROPN NOUN ADP DET NOUN ADP NOUN PROPN DET NOUN ADP ADP DET ADJ NOUN PUNCT</td>\n      <td>ADJ VERB CCONJ ADJ VERB PROPN NOUN ADP DET NOUN ADP NOUN PROPN DET NOUN ADP ADP DET ADJ NOUN PUNCT</td>\n    </tr>\n    <tr>\n      <th>488</th>\n      <td>Alsof het een weekend-uitje betrof , heeft de Amerikaanse vice-president Dick Cheney zaterdag ' even ' een operatie ondergaan .</td>\n      <td>SCONJ PRON DET NOUN VERB PUNCT AUX DET ADJ NOUN PROPN PROPN PROPN PUNCT ADV PUNCT DET NOUN VERB PUNCT</td>\n      <td>SCONJ PRON DET NOUN VERB PUNCT AUX DET ADJ NOUN PROPN PROPN PROPN PUNCT ADV PUNCT DET NOUN VERB PUNCT</td>\n    </tr>\n    <tr>\n      <th>516</th>\n      <td>Na een soortgelijke Israëlische wraakaanval op een Syrische positie buiten Beiroet in april , liet de Syrische president Assad waarschuwende geluiden horen , maar ondernam geen actie .</td>\n      <td>ADP DET ADJ ADJ NOUN ADP DET ADJ NOUN ADP PROPN ADP PROPN PUNCT VERB DET ADJ NOUN PROPN VERB NOUN VERB PUNCT CCONJ VERB DET NOUN PUNCT</td>\n      <td>ADP DET ADJ ADJ NOUN ADP DET ADJ NOUN ADP PROPN ADP PROPN PUNCT VERB DET ADJ NOUN PROPN VERB NOUN VERB PUNCT CCONJ VERB DET NOUN PUNCT</td>\n    </tr>\n  </tbody>\n</table>\n</div>"
     },
     "metadata": {},
     "execution_count": 28
    }
   ],
   "source": [
    "ud_pos[ud_pos.sentences.str.contains(\"president\")]"
   ]
  },
  {
   "cell_type": "code",
   "execution_count": 29,
   "metadata": {
    "ExecuteTime": {
     "end_time": "2020-05-19T09:01:22.836159Z",
     "start_time": "2020-05-19T09:01:22.799159Z"
    }
   },
   "outputs": [
    {
     "output_type": "execute_result",
     "data": {
      "text/plain": "                                                                                                                                                                                                                                                                    \n266  PRON VERB ADV ADP NUM ADP ADJ DET ADJ NOUN NOUN NOUN ADP PUNCT PRON ADJ VERB ADP DET PROPN PUNCT                                                                                                                                                                                                                                                                                                                                                                                \n267  PRON VERB ADV ADP NUM ADP ADJ DET ADJ NOUN NOUN NOUN ADP PUNCT PRON ADJ VERB ADP DET PROPN PUNCT                                                                                                                                                                                                                                                                                                                                                                                \n268  PRON VERB ADV ADP NUM ADP ADJ DET ADJ NOUN NOUN NOUN ADP PUNCT PRON ADJ VERB ADP DET PROPN PUNCT                                                                                                                                                                                                                                                                                                                                                                                \n269  DET NOUN ADV AUX PRON ADV ADJ NOUN ADP DET ADJ NOUN PUNCT                                                                                                                                                                                                                                                                                                                                                                                                                       \n270  ADP PROPN NUM VERB PRON ADP PROPN ADP ADV ADJ CCONJ ADJ NOUN PUNCT SYM PUNCT NOUN PUNCT PUNCT ADP AUX VERB VERB ADP DET ADJ NOUN PROPN PROPN CCONJ VERB ADV NOUN ADP DET PROPN PUNCT                                                                                                                                                                                                                                                                                            \n271  ADP PROPN NUM VERB PRON ADP PROPN ADP ADV ADJ CCONJ ADJ NOUN PUNCT SYM PUNCT NOUN PUNCT PUNCT ADP AUX VERB VERB ADP DET ADJ NOUN PROPN PROPN CCONJ VERB ADV NOUN ADP DET PROPN PUNCT                                                                                                                                                                                                                                                                                            \n275  PROPN NOUN PUNCT ADJ NOUN PROPN PUNCT NUM PUNCT                                                                                                                                                                                                                                                                                                                                                                                                                                 \n277  NOUN ADJ NOUN ADJ PUNCT NUM PUNCT                                                                                                                                                                                                                                                                                                                                                                                                                                               \n291  PRON AUX ADP PRON NOUN ADP DET NOUN NOUN CCONJ DET NOUN ADP NOUN CCONJ DET ADJ NOUN ADP DET ADJ NOUN PROPN PUNCT NOUN ADP DET PROPN CCONJ NOUN ADP DET NOUN ADP PROPN PUNCT DET NOUN ADP DET NOUN PUNCT                                                                                                                                                                                                                                                                         \n292  ADP DET NOUN NUM AUX PRON ADV NOUN ADP DET NOUN PUNCT NOUN PUNCT PUNCT NOUN ADP PROPN PUNCT                                                                                                                                                                                                                                                                                                                                                                                     \n294  NOUN ADJ NOUN                                                                                                                                                                                                                                                                                                                                                                                                                                                                   \n298  PROPN VERB VERB ADP DET PUNCT NOUN ADP PROPN PUNCT ADP PROPN ADP PROPN PUNCT                                                                                                                                                                                                                                                                                                                                                                                                    \n310  ADP NUM VERB DET ADJ PROPN NOUN ADP DET ADJ NOUN PUNCT                                                                                                                                                                                                                                                                                                                                                                                                                          \n311  DET NOUN ADP DET NOUN VERB DET NOUN PUNCT X X X PUNCT ADP ADP DET NOUN PUNCT DET NOUN ADP NOUN PUNCT PUNCT VERB ADP DET ADJ PROPN PUNCT                                                                                                                                                                                                                                                                                                                                         \n313  PROPN AUX NUM NOUN SCONJ PRON PUNCT ADP NUM PROPN NUM PUNCT PRON VERB VERB ADP DET ADJ NOUN ADP ADJ NOUN ADP PROPN PUNCT                                                                                                                                                                                                                                                                                                                                                        \n322  PUNCT DET NOUN PUNCT AUX ADV NUM NOUN ADJ VERB ADP DET PROPN PROPN PROPN PROPN ADP PROPN PUNCT ADP DET ADJ NOUN ADP NUM PUNCT                                                                                                                                                                                                                                                                                                                                                   \n331  CCONJ PRON NOUN ADP DET NOUN ADP PROPN AUX ADV VERB PUNCT                                                                                                                                                                                                                                                                                                                                                                                                                       \n333  PRON AUX DET NOUN VERB ADP PRON NOUN PUNCT DET NOUN PUNCT ADP PROPN ADP DET NOUN PUNCT ADP NOUN ADP NOUN PUNCT CCONJ DET NOUN ADP PROPN PRON PRON NOUN VERB PUNCT                                                                                                                                                                                                                                                                                                               \n334  PRON ADJ NOUN ADP DET NOUN PUNCT NOUN ADP PROPN PUNCT CCONJ PUNCT DET NOUN ADP DET NOUN PUNCT VERB ADV DET NOUN PUNCT PUNCT DET NOUN ADP DET NOUN PUNCT PUNCT PUNCT PROPN VERB ADP DET NOUN VERB PUNCT PUNCT PUNCT NOUN ADP PROPN PUNCT PUNCT PUNCT PROPN CCONJ DET ADJ NOUN VERB DET VERB PUNCT PUNCT PUNCT DET NOUN CCONJ DET NOUN ADP PROPN PUNCT PUNCT PUNCT                                                                                                                \n356  DET NOUN VERB DET NOUN ADP DET ADJ NOUN ADP ADJ NOUN CCONJ PUNCT DET NOUN PUNCT PUNCT DET VERB NOUN ADP NUM PUNCT AUX ADP PROPN ADP DET NOUN ADV VERB ADP NUM ADJ NOUN PUNCT                                                                                                                                                                                                                                                                                                    \n360  DET NOUN ADP PROPN VERB ADP NUM ADP ADJ NOUN PUNCT NOUN ADP NOUN PUNCT PRON ADJ NOUN PUNCT NUM PUNCT PUNCT                                                                                                                                                                                                                                                                                                                                                                      \n366  NOUN VERB ADP DET ADJ ADP ADP DET NOUN PUNCT NOUN VERB NOUN PUNCT ADP NUM CCONJ NOUN ADP DET NOUN PUNCT PROPN CCONJ DET ADJ NOUN VERB DET VERB PUNCT ADP NUM PUNCT NOUN NOUN ADP PROPN PUNCT PUNCT                                                                                                                                                                                                                                                                              \n367  NOUN CCONJ NOUN VERB ADP PUNCT NOUN ADP NOUN PUNCT ADP NUM PUNCT                                                                                                                                                                                                                                                                                                                                                                                                                \n370  PROPN NOUN PUNCT NOUN                                                                                                                                                                                                                                                                                                                                                                                                                                                           \n379  ADV VERB PRON DET VERB NOUN PROPN PROPN PUNCT DET PUNCT NOUN PUNCT PUNCT PRON PRON ADV VERB ADP DET ADJ NOUN ADP NUM PUNCT SCONJ PRON NUM AUX PUNCT                                                                                                                                                                                                                                                                                                                             \n392  DET NOUN ADP DET NOUN                                                                                                                                                                                                                                                                                                                                                                                                                                                           \n393  PROPN VERB PROPN ADV PUNCT DET NOUN ADP DET NOUN PUNCT PUNCT                                                                                                                                                                                                                                                                                                                                                                                                                    \n397  PROPN NOUN VERB ADV ADP PUNCT PROPN PROPN PUNCT PUNCT CCONJ ADV ADP DET VERB NOUN ADP DET NOUN PUNCT PUNCT PRON NOUN PUNCT PUNCT PUNCT PRON NOUN PUNCT PUNCT PUNCT DET NOUN PUNCT PUNCT                                                                                                                                                                                                                                                                                         \n399  PROPN NOUN VERB ADV ADP PUNCT PROPN PROPN PUNCT PUNCT CCONJ ADV ADP DET VERB NOUN ADP DET NOUN PUNCT PUNCT PRON NOUN PUNCT PUNCT PUNCT PRON NOUN PUNCT PUNCT PUNCT DET NOUN PUNCT PUNCT                                                                                                                                                                                                                                                                                         \n400  PROPN NOUN VERB ADV ADP PUNCT PROPN PROPN PUNCT PUNCT CCONJ ADV ADP DET VERB NOUN ADP DET NOUN PUNCT PUNCT PRON NOUN PUNCT PUNCT PUNCT PRON NOUN PUNCT PUNCT PUNCT DET NOUN PUNCT PUNCT                                                                                                                                                                                                                                                                                         \n407  ADP NOUN PROPN PROPN VERB PRON DET NOUN DET NOUN PUNCT DET ADJ NOUN PUNCT ADP VERB PUNCT                                                                                                                                                                                                                                                                                                                                                                                        \n413  ADP DET ADJ NOUN VERB ADV ADV DET ADJ NOUN CCONJ PROPN PROPN PROPN PRON ADV VERB ADP VERB PUNCT                                                                                                                                                                                                                                                                                                                                                                                 \n418  PRON AUX VERB ADP X NOUN CCONJ NOUN PUNCT DET NOUN CCONJ DET NOUN PUNCT ADV VERB PROPN DET ADJ NOUN PUNCT ADP DET ADJ PROPN PROPN PUNCT                                                                                                                                                                                                                                                                                                                                         \n422  ADV ADJ NOUN PUNCT SCONJ SCONJ PROPN VERB ADP DET NOUN PUNCT DET ADJ NOUN PRON ADV ADJ ADP DET NOUN VERB PUNCT                                                                                                                                                                                                                                                                                                                                                                  \n424  ADP NUM VERB PROPN PROPN ADP PROPN PUNCT NOUN DET NOUN PROPN PROPN NOUN ADP DET NOUN PRON ADJ ADV ADP NOUN AUX VERB PUNCT                                                                                                                                                                                                                                                                                                                                                       \n428  ADP NUM ADP NUM NOUN AUX ADV DET ADJ PROPN PROPN PROPN NOUN ADP PRON ADJ NOUN ADV VERB ADP DET ADJ NOUN PUNCT                                                                                                                                                                                                                                                                                                                                                                   \n435  ADV AUX PROPN PROPN ADP PROPN DET NOUN ADP DET ADJ NOUN PUNCT                                                                                                                                                                                                                                                                                                                                                                                                                   \n439  PUNCT DET NOUN PUNCT SYM                                                                                                                                                                                                                                                                                                                                                                                                                                                        \n442  PUNCT DET ADJ NOUN PUNCT SYM                                                                                                                                                                                                                                                                                                                                                                                                                                                    \n446  SCONJ PRON NOUN VERB VERB ADP DET ADJ NOUN ADP ADJ NOUN VERB PROPN ADV ADJ PRON NOUN ADP DET NOUN PUNCT                                                                                                                                                                                                                                                                                                                                                                         \n448  SCONJ PRON NOUN VERB VERB ADP DET ADJ NOUN ADP ADJ NOUN VERB PROPN ADV ADJ PRON NOUN ADP DET NOUN PUNCT                                                                                                                                                                                                                                                                                                                                                                         \n451  ADP DET NOUN PUNCT PROPN PUNCT VERB PROPN PUNCT DET ADJ NOUN ADP PROPN PUNCT ADP PROPN PUNCT DET NOUN ADP PROPN ADP DET NOUN PUNCT DET NOUN PUNCT PUNCT                                                                                                                                                                                                                                                                                                                         ",
      "text/html": "<div>\n<style scoped>\n    .dataframe tbody tr th:only-of-type {\n        vertical-align: middle;\n    }\n\n    .dataframe tbody tr th {\n        vertical-align: top;\n    }\n\n    .dataframe thead th {\n        text-align: right;\n    }\n</style>\n<table border=\"1\" class=\"dataframe\">\n  <thead>\n    <tr style=\"text-align: right;\">\n      <th></th>\n      <th>predicted</th>\n      <th>actual</th>\n      <th>token</th>\n      <th>sentence</th>\n      <th>actual_tokens</th>\n    </tr>\n  </thead>\n  <tbody>\n    <tr>\n      <th>32</th>\n      <td>PROPN</td>\n      <td>NOUN</td>\n      <td>FARC-rebellen</td>\n      <td>De ontvoering van Mejia - vermoedelijk door FARC-rebellen - was de laatste in een reeks van incidenten die in verband gebracht werden met de Copa America .</td>\n      <td>DET NOUN ADP PROPN PUNCT ADJ ADP NOUN PUNCT AUX DET ADJ ADP DET NOUN ADP NOUN PRON ADP NOUN VERB AUX ADP DET PROPN PROPN PUNCT</td>\n    </tr>\n    <tr>\n      <th>33</th>\n      <td>PROPN</td>\n      <td>NOUN</td>\n      <td>FARC-rebellen</td>\n      <td>Hij zou ' per ongeluk ' ontvoerd zijn door de FARC-rebellen .</td>\n      <td>PRON AUX PUNCT ADP NOUN PUNCT VERB AUX ADP DET NOUN PUNCT</td>\n    </tr>\n    <tr>\n      <th>34</th>\n      <td>PROPN</td>\n      <td>NOUN</td>\n      <td>FARC-woordvoerder</td>\n      <td>De ironie wil dat FARC-woordvoerder Raul Reyes in april 2000 een akkoord had gesloten met de Colombiaanse regering om de Copa te respecteren .</td>\n      <td>DET NOUN VERB SCONJ NOUN PROPN PROPN ADP PROPN NUM DET NOUN AUX VERB ADP DET ADJ NOUN ADP DET PROPN ADP VERB PUNCT</td>\n    </tr>\n    <tr>\n      <th>56</th>\n      <td>PROPN</td>\n      <td>NOUN</td>\n      <td>Nobelprijswinnaar</td>\n      <td>De Noord-Ierse Nobelprijswinnaar M.C. Maguire opende de conferentie in het land van Tipperary .</td>\n      <td>DET ADJ NOUN PROPN PROPN VERB DET NOUN ADP DET NOUN ADP PROPN PUNCT</td>\n    </tr>\n    <tr>\n      <th>66</th>\n      <td>PROPN</td>\n      <td>NOUN</td>\n      <td>Geest</td>\n      <td>Boeddhistische vrouwen willen een wijding , Indiase wagen zich aan heilige dansen , jodinnen bestuderen de tora , zegt Chittister , alleen in de meest achterlijke en wettische culturen zijn vrouwen onzichtbaar , nauwelijks menselijk en minder begiftigd met de Geest .</td>\n      <td>ADJ NOUN VERB DET NOUN PUNCT ADJ VERB PRON ADP ADJ VERB PUNCT NOUN VERB DET NOUN PUNCT VERB PROPN PUNCT ADV ADP DET ADV ADJ CCONJ ADJ NOUN AUX NOUN ADJ PUNCT ADV ADJ CCONJ ADV VERB ADP DET NOUN PUNCT</td>\n    </tr>\n    <tr>\n      <th>78</th>\n      <td>PROPN</td>\n      <td>NOUN</td>\n      <td>Aidsfonds</td>\n      <td>Het jaarlijkse benefietdiner in Amsterdam voor het Aidsfonds heeft dit jaar ongeveer 350000 gulden opgebracht .</td>\n      <td>DET ADJ NOUN ADP PROPN ADP DET NOUN AUX DET NOUN ADV NUM NOUN VERB PUNCT</td>\n    </tr>\n    <tr>\n      <th>82</th>\n      <td>PROPN</td>\n      <td>NOUN</td>\n      <td>Aidsfonds</td>\n      <td>De opbrengst gaat naar Stop Aids Now ! , waarmee het Aidsfonds zich inzet voor mensen in ontwikkelingslanden met hiv of aids .</td>\n      <td>DET NOUN VERB ADP VERB PROPN X SYM PUNCT ADV DET NOUN PRON VERB ADP NOUN ADP NOUN ADP NOUN CCONJ NOUN PUNCT</td>\n    </tr>\n    <tr>\n      <th>88</th>\n      <td>PROPN</td>\n      <td>NOUN</td>\n      <td>Partij</td>\n      <td>In zijn woonplaats Utrecht is zaterdag op 82-jarige leeftijd Barend Schreuders overleden , voormalig gemeenteraadslid en statenlid in de provincie Utrecht voor de Communistische Partij van Nederland ( CPN ) .</td>\n      <td>ADP PRON NOUN PROPN AUX PROPN ADP ADJ NOUN PROPN PROPN VERB PUNCT ADJ NOUN CCONJ NOUN ADP DET NOUN PROPN ADP DET ADJ NOUN ADP PROPN PUNCT PROPN PUNCT PUNCT</td>\n    </tr>\n    <tr>\n      <th>92</th>\n      <td>PROPN</td>\n      <td>NOUN</td>\n      <td>Bestuursdienst</td>\n      <td>Mr. J.W. Weck wordt vanaf 17 september de nieuwe directeur-generaal Bestuursdienst bij het ministerie van binnenlandse zaken .</td>\n      <td>PROPN PROPN PROPN VERB ADP NUM PROPN DET ADJ NOUN NOUN ADP DET NOUN ADP ADJ NOUN PUNCT</td>\n    </tr>\n    <tr>\n      <th>93</th>\n      <td>PROPN</td>\n      <td>NOUN</td>\n      <td>Telecommunicatie</td>\n      <td>Weck is sinds januari 1999 directeur-generaal Telecommunicatie en Post bij het ministerie van verkeer en waterstaat .</td>\n      <td>PROPN AUX ADP PROPN NUM NOUN NOUN CCONJ NOUN ADP DET NOUN ADP NOUN CCONJ NOUN PUNCT</td>\n    </tr>\n    <tr>\n      <th>94</th>\n      <td>PROPN</td>\n      <td>NOUN</td>\n      <td>Post</td>\n      <td>Weck is sinds januari 1999 directeur-generaal Telecommunicatie en Post bij het ministerie van verkeer en waterstaat .</td>\n      <td>PROPN AUX ADP PROPN NUM NOUN NOUN CCONJ NOUN ADP DET NOUN ADP NOUN CCONJ NOUN PUNCT</td>\n    </tr>\n    <tr>\n      <th>95</th>\n      <td>PROPN</td>\n      <td>NOUN</td>\n      <td>Rijksluchtvaartdienst</td>\n      <td>Daarvoor was hij directeur-generaal Rijksluchtvaartdienst .</td>\n      <td>ADV AUX PRON NOUN NOUN PUNCT</td>\n    </tr>\n    <tr>\n      <th>97</th>\n      <td>PROPN</td>\n      <td>NOUN</td>\n      <td>Bijlmerramp</td>\n      <td>Dit was op eigen verzoek tijdens de parlementaire enquête naar de Bijlmerramp .</td>\n      <td>PRON VERB ADP ADJ NOUN ADP DET ADJ NOUN ADP DET NOUN PUNCT</td>\n    </tr>\n    <tr>\n      <th>125</th>\n      <td>PROPN</td>\n      <td>NOUN</td>\n      <td>Vrijdag-akkoord</td>\n      <td>Volgens het Goede Vrijdag-akkoord heeft de regering zes weken om Trimble te vragen terug te komen óf hem te vervangen , anders komen er verkiezingen .</td>\n      <td>ADP DET PROPN NOUN VERB DET NOUN NUM NOUN ADP PROPN ADP VERB ADV ADP VERB CCONJ PRON ADP VERB PUNCT ADV VERB ADV NOUN PUNCT</td>\n    </tr>\n    <tr>\n      <th>126</th>\n      <td>PROPN</td>\n      <td>NOUN</td>\n      <td>Hezbollah-strijders</td>\n      <td>De Israëlische actie is onderdeel van het beleid om Syrië te laten betalen voor de aanvallen van de Hezbollah-strijders .</td>\n      <td>DET ADJ NOUN AUX NOUN ADP DET NOUN ADP PROPN ADP VERB VERB ADP DET NOUN ADP DET NOUN PUNCT</td>\n    </tr>\n    <tr>\n      <th>135</th>\n      <td>PROPN</td>\n      <td>NOUN</td>\n      <td>Prijs</td>\n      <td>De Duitser zegevierde in de Grote Prijs van Frankrijk .</td>\n      <td>DET PROPN VERB ADP DET ADJ NOUN ADP PROPN PUNCT</td>\n    </tr>\n    <tr>\n      <th>137</th>\n      <td>PROPN</td>\n      <td>NOUN</td>\n      <td>meerkamp</td>\n      <td>Onder leiding van Chiel Warners is de Nederlandse ploeg in het Oostenrijkse Ried gepromoveerd naar de superliga van de Europa Cup meerkamp .</td>\n      <td>ADP NOUN ADP PROPN PROPN AUX DET ADJ NOUN ADP DET ADJ PROPN VERB ADP DET NOUN ADP DET PROPN PROPN NOUN PUNCT</td>\n    </tr>\n    <tr>\n      <th>166</th>\n      <td>PROPN</td>\n      <td>NOUN</td>\n      <td>Goorbergh-tribune</td>\n      <td>Voor zijn eigen Jurgen van den Goorbergh-tribune voerde hij een show op met een zogeheten burn-out .</td>\n      <td>ADP PRON ADJ PROPN PROPN PROPN NOUN VERB PRON DET NOUN ADP ADP DET ADJ NOUN PUNCT</td>\n    </tr>\n    <tr>\n      <th>179</th>\n      <td>PROPN</td>\n      <td>NOUN</td>\n      <td>Lenstra-stadion</td>\n      <td>Volgende week is de return in het Abe Lenstra-stadion .</td>\n      <td>VERB NOUN VERB DET NOUN ADP DET PROPN NOUN PUNCT</td>\n    </tr>\n    <tr>\n      <th>184</th>\n      <td>PROPN</td>\n      <td>NOUN</td>\n      <td>Kartel</td>\n      <td>Vlaams Kartel</td>\n      <td>ADJ NOUN</td>\n    </tr>\n    <tr>\n      <th>196</th>\n      <td>PROPN</td>\n      <td>NOUN</td>\n      <td>Paleoconservatisme</td>\n      <td>Algemeen kan je de N-VA centrum- rechts beschouwen , maar velen binnen N-VA gaan zich eerder centrum noemen , maar algemeen is de onderstroom en ligt het programma bij een sociaal , rechtse stroom , men kan de partij ook linken aan het Paleoconservatisme , en het « Compassionate Conservatism » , waar eigen responsabiliteit enorm belangrijk is in een gedachtevorming , « eigen verantwoordelijkheid , met respect voor de gemeenschap , voor het milieu » , dat is een belangrijk woordgebruik in het N-VA-programma ; men kan de partij ook wel een liberaal-conservatieve aard aanmeten .</td>\n      <td>ADJ AUX PRON DET PROPN X ADJ VERB PUNCT CCONJ PRON ADP PROPN VERB PRON ADJ NOUN VERB PUNCT CCONJ ADJ VERB DET NOUN CCONJ VERB DET NOUN ADP DET ADJ PUNCT ADJ NOUN PUNCT PRON AUX DET NOUN ADV VERB ADP DET NOUN PUNCT CCONJ DET PUNCT PROPN PROPN PUNCT PUNCT ADV ADJ NOUN ADJ ADJ AUX ADP DET NOUN PUNCT PUNCT ADJ NOUN PUNCT ADP NOUN ADP DET NOUN PUNCT ADP DET NOUN PUNCT PUNCT PRON AUX DET ADJ NOUN ADP DET NOUN PUNCT PRON AUX DET NOUN ADV ADV DET ADJ NOUN VERB PUNCT</td>\n    </tr>\n    <tr>\n      <th>216</th>\n      <td>PROPN</td>\n      <td>NOUN</td>\n      <td>Prijs</td>\n      <td>In 2003 verdween de Grote Prijs van België voor een jaar van de kalender onder druk van F1-baas Bernie Ecclestone omdat België niet langer tabaksreclame toeliet .</td>\n      <td>ADP NUM VERB DET ADJ NOUN ADP PROPN ADP DET NOUN ADP DET NOUN ADP NOUN ADP NOUN PROPN PROPN SCONJ PROPN ADV ADJ NOUN VERB PUNCT</td>\n    </tr>\n    <tr>\n      <th>218</th>\n      <td>PROPN</td>\n      <td>NOUN</td>\n      <td>F1</td>\n      <td>Na veel heisa kwam er een politiek compromis uit de bus zodat er vanaf 2004 weer F1 wagens rijden in de Ardennen .</td>\n      <td>ADP DET NOUN VERB ADV DET ADJ NOUN ADP DET NOUN SCONJ ADV ADP NUM ADV NOUN NOUN VERB ADP DET PROPN PUNCT</td>\n    </tr>\n    <tr>\n      <th>219</th>\n      <td>PROPN</td>\n      <td>NOUN</td>\n      <td>F1</td>\n      <td>Na enkele dodelijke ongevallen in de jaren 60 werd het protest van de piloten tegen het ultrasnelle en onveilige circuit steeds groter , in 1969 bleef de F1 voor het eerst weg , en in 1970 werd voorlopig de laatste Grand Prix gereden .</td>\n      <td>ADP DET ADJ NOUN ADP DET NOUN NUM VERB DET NOUN ADP DET NOUN ADP DET ADJ CCONJ ADJ NOUN ADV ADJ PUNCT ADP NUM VERB DET NOUN ADP DET ADJ ADV PUNCT CCONJ ADP NUM AUX ADJ DET ADJ PROPN PROPN VERB PUNCT</td>\n    </tr>\n    <tr>\n      <th>220</th>\n      <td>PROPN</td>\n      <td>NOUN</td>\n      <td>F1</td>\n      <td>In afwachting van de bouw van een vernieuwd circuit zou België het ook in 1971 zonder F1 moeten stellen , daarna werd uitgeweken naar de circuits van Nijvel ( in 1972 en 1974 ) en Zolder ( 1973 , 1975 t/m 1982 en 1984 ) .</td>\n      <td>ADP NOUN ADP DET NOUN ADP DET VERB NOUN AUX PROPN PRON ADV ADP NUM ADP NOUN AUX VERB PUNCT ADV AUX VERB ADP DET NOUN ADP PROPN PUNCT ADP NUM CCONJ NUM PUNCT CCONJ PROPN PUNCT NUM PUNCT NUM X NUM CCONJ NUM PUNCT PUNCT</td>\n    </tr>\n    <tr>\n      <th>224</th>\n      <td>PROPN</td>\n      <td>NOUN</td>\n      <td>Prijs</td>\n      <td>Omdat aanpassingen aan stands en in verband met de veiligheid nog niet uitgevoerd waren , kwam de Grote Prijs van België F1 echter pas in 1983 terug naar Francorchamps .</td>\n      <td>SCONJ NOUN ADP NOUN CCONJ ADP NOUN ADP DET NOUN ADV ADV VERB AUX PUNCT VERB DET ADJ NOUN ADP PROPN NOUN ADV ADV ADP NUM ADV ADP PROPN PUNCT</td>\n    </tr>\n    <tr>\n      <th>226</th>\n      <td>PROPN</td>\n      <td>NOUN</td>\n      <td>F1</td>\n      <td>Omdat aanpassingen aan stands en in verband met de veiligheid nog niet uitgevoerd waren , kwam de Grote Prijs van België F1 echter pas in 1983 terug naar Francorchamps .</td>\n      <td>SCONJ NOUN ADP NOUN CCONJ ADP NOUN ADP DET NOUN ADV ADV VERB AUX PUNCT VERB DET ADJ NOUN ADP PROPN NOUN ADV ADV ADP NUM ADV ADP PROPN PUNCT</td>\n    </tr>\n    <tr>\n      <th>227</th>\n      <td>PROPN</td>\n      <td>NOUN</td>\n      <td>F1</td>\n      <td>De nieuwe start verliep niet bepaald vlekkeloos , de race diende bij een eerste poging uitgesteld te worden tot het najaar , omdat de F1 wagens het nieuwe , maar duidelijk niet op zijn taak berekende asfalt aan flarden reden .</td>\n      <td>DET ADJ NOUN VERB ADV VERB ADJ PUNCT DET NOUN VERB ADP DET ADJ NOUN VERB ADP AUX ADP DET NOUN PUNCT SCONJ DET NOUN NOUN DET ADJ PUNCT CCONJ ADJ ADV ADP PRON NOUN VERB NOUN ADP NOUN VERB PUNCT</td>\n    </tr>\n    <tr>\n      <th>230</th>\n      <td>PROPN</td>\n      <td>NOUN</td>\n      <td>Zee</td>\n      <td>De rivier ontspringt in de bauxietrijke heuvelrug Timan in de deelrepubliek Komi , stroomt in noordwestelijke richting en bereikt de Witte Zee bij de stad die dezelfde naam draagt als de rivier : Mezen , in het oblast Archangelsk .</td>\n      <td>DET NOUN VERB ADP DET ADJ NOUN PROPN ADP DET NOUN PROPN PUNCT VERB ADP ADJ NOUN CCONJ VERB DET ADJ NOUN ADP DET NOUN PRON DET NOUN VERB ADP DET NOUN PUNCT PROPN PUNCT ADP DET NOUN PROPN PUNCT</td>\n    </tr>\n    <tr>\n      <th>233</th>\n      <td>PROPN</td>\n      <td>NOUN</td>\n      <td>Vastentijd</td>\n      <td>In de katholieke traditie is Aswoensdag het begin van de 40 dagen durende Vastentijd , die loopt tot Paaszaterdag , ook Stille Zaterdag genoemd .</td>\n      <td>ADP DET ADJ NOUN AUX PROPN DET NOUN ADP DET NUM NOUN VERB NOUN PUNCT PRON VERB ADP PROPN PUNCT ADV ADJ PROPN VERB PUNCT</td>\n    </tr>\n    <tr>\n      <th>239</th>\n      <td>PROPN</td>\n      <td>NOUN</td>\n      <td>Concilie</td>\n      <td>Aswoensdag is , net zoals Goede Vrijdag , sinds het Tweede Vaticaans Concilie een verplichte vastendag voor katholieken .</td>\n      <td>PROPN VERB PUNCT ADV SCONJ PROPN PROPN PUNCT ADP DET ADJ ADJ NOUN DET VERB NOUN ADP NOUN PUNCT</td>\n    </tr>\n    <tr>\n      <th>245</th>\n      <td>PROPN</td>\n      <td>NOUN</td>\n      <td>Blok</td>\n      <td>« Een tegen Allen - Opkomst van het Vlaams Blok » , Uitgeverij TYR , 1993 .</td>\n      <td>PUNCT DET ADP PRON SYM NOUN ADP DET ADJ NOUN PUNCT PUNCT PROPN PROPN PUNCT NUM PUNCT</td>\n    </tr>\n    <tr>\n      <th>251</th>\n      <td>PROPN</td>\n      <td>NOUN</td>\n      <td>Uitgeverij</td>\n      <td>« Baas in eigen land - Over identiteit , culturele eigenheid en nationaliteit » , Uitgeverij Egmont , 2000 .</td>\n      <td>PUNCT NOUN ADP ADJ NOUN SYM ADP NOUN SYM ADJ NOUN CCONJ NOUN PUNCT PUNCT NOUN PROPN PUNCT NUM PUNCT</td>\n    </tr>\n    <tr>\n      <th>253</th>\n      <td>PROPN</td>\n      <td>NOUN</td>\n      <td>Uitgeverij</td>\n      <td>« Zerotolerantie tegen criminaliteit - Over de aanpak van de misdaad » , Uitgeverij Egmont , 2004 .</td>\n      <td>PUNCT NOUN ADP NOUN SYM ADP DET NOUN ADP DET NOUN PUNCT PUNCT NOUN PROPN PUNCT NUM PUNCT</td>\n    </tr>\n    <tr>\n      <th>254</th>\n      <td>PROPN</td>\n      <td>NOUN</td>\n      <td>Troef</td>\n      <td>« Antwerpen Troef » , Uitgeverij Egmont , 2006</td>\n      <td>PUNCT PROPN NOUN PUNCT PUNCT NOUN PROPN PUNCT NUM</td>\n    </tr>\n    <tr>\n      <th>255</th>\n      <td>PROPN</td>\n      <td>NOUN</td>\n      <td>Uitgeverij</td>\n      <td>« Antwerpen Troef » , Uitgeverij Egmont , 2006</td>\n      <td>PUNCT PROPN NOUN PUNCT PUNCT NOUN PROPN PUNCT NUM</td>\n    </tr>\n    <tr>\n      <th>266</th>\n      <td>PROPN</td>\n      <td>NOUN</td>\n      <td>Scholieren</td>\n      <td>Hij richtte er in 1978 als zestienjarige de Vlaamse Scholieren Actie Groep op , die later uitgroeide tot het NJSV .</td>\n      <td>PRON VERB ADV ADP NUM ADP ADJ DET ADJ NOUN NOUN NOUN ADP PUNCT PRON ADJ VERB ADP DET PROPN PUNCT</td>\n    </tr>\n    <tr>\n      <th>267</th>\n      <td>PROPN</td>\n      <td>NOUN</td>\n      <td>Actie</td>\n      <td>Hij richtte er in 1978 als zestienjarige de Vlaamse Scholieren Actie Groep op , die later uitgroeide tot het NJSV .</td>\n      <td>PRON VERB ADV ADP NUM ADP ADJ DET ADJ NOUN NOUN NOUN ADP PUNCT PRON ADJ VERB ADP DET PROPN PUNCT</td>\n    </tr>\n    <tr>\n      <th>268</th>\n      <td>PROPN</td>\n      <td>NOUN</td>\n      <td>Groep</td>\n      <td>Hij richtte er in 1978 als zestienjarige de Vlaamse Scholieren Actie Groep op , die later uitgroeide tot het NJSV .</td>\n      <td>PRON VERB ADV ADP NUM ADP ADJ DET ADJ NOUN NOUN NOUN ADP PUNCT PRON ADJ VERB ADP DET PROPN PUNCT</td>\n    </tr>\n    <tr>\n      <th>269</th>\n      <td>PROPN</td>\n      <td>NOUN</td>\n      <td>Volkspartij</td>\n      <td>Datzelfde jaar nog was hij ook kortstondig lid van de Vlaamse Volkspartij .</td>\n      <td>DET NOUN ADV AUX PRON ADV ADJ NOUN ADP DET ADJ NOUN PUNCT</td>\n    </tr>\n    <tr>\n      <th>270</th>\n      <td>PROPN</td>\n      <td>NOUN</td>\n      <td>Pol&amp;Soc</td>\n      <td>In september 1982 verhuisde hij naar Antwerpen om er politieke en sociale wetenschappen ( = « Pol&amp;Soc » ) te kunnen gaan studeren aan de Universitaire Faculteiten Sint-Ignatius Antwerpen en werd er lid van de NSV .</td>\n      <td>ADP PROPN NUM VERB PRON ADP PROPN ADP ADV ADJ CCONJ ADJ NOUN PUNCT SYM PUNCT NOUN PUNCT PUNCT ADP AUX VERB VERB ADP DET ADJ NOUN PROPN PROPN CCONJ VERB ADV NOUN ADP DET PROPN PUNCT</td>\n    </tr>\n    <tr>\n      <th>271</th>\n      <td>PROPN</td>\n      <td>NOUN</td>\n      <td>Faculteiten</td>\n      <td>In september 1982 verhuisde hij naar Antwerpen om er politieke en sociale wetenschappen ( = « Pol&amp;Soc » ) te kunnen gaan studeren aan de Universitaire Faculteiten Sint-Ignatius Antwerpen en werd er lid van de NSV .</td>\n      <td>ADP PROPN NUM VERB PRON ADP PROPN ADP ADV ADJ CCONJ ADJ NOUN PUNCT SYM PUNCT NOUN PUNCT PUNCT ADP AUX VERB VERB ADP DET ADJ NOUN PROPN PROPN CCONJ VERB ADV NOUN ADP DET PROPN PUNCT</td>\n    </tr>\n    <tr>\n      <th>275</th>\n      <td>PROPN</td>\n      <td>NOUN</td>\n      <td>Handelsschool</td>\n      <td>NUHO journalistiek , Hogere Handelsschool Erasmus ( 1985 )</td>\n      <td>PROPN NOUN PUNCT ADJ NOUN PROPN PUNCT NUM PUNCT</td>\n    </tr>\n    <tr>\n      <th>277</th>\n      <td>PROPN</td>\n      <td>NOUN</td>\n      <td>Blok</td>\n      <td>Voorzitter Vlaams Blok Jongeren ( 1987-1989 )</td>\n      <td>NOUN ADJ NOUN ADJ PUNCT NUM PUNCT</td>\n    </tr>\n    <tr>\n      <th>291</th>\n      <td>PROPN</td>\n      <td>NOUN</td>\n      <td>Instelling</td>\n      <td>Hij was onder meer lid van de departementsraad rechten en de raad van beheer en het dagelijks bestuur van de Universitaire Instelling Antwerpen , hoofdredacteur van de SW-krant en lid van het presidium van Sofia , de studentenvereniging van de rechten .</td>\n      <td>PRON AUX ADP PRON NOUN ADP DET NOUN NOUN CCONJ DET NOUN ADP NOUN CCONJ DET ADJ NOUN ADP DET ADJ NOUN PROPN PUNCT NOUN ADP DET PROPN CCONJ NOUN ADP DET NOUN ADP PROPN PUNCT DET NOUN ADP DET NOUN PUNCT</td>\n    </tr>\n    <tr>\n      <th>292</th>\n      <td>PROPN</td>\n      <td>NOUN</td>\n      <td>Tegenstroom</td>\n      <td>In het academiejaar 1980-1981 was hij bovendien hoofdredacteur van het studentenblad « Tegenstroom » , tijdschrift van KVHV-Antwerpen .</td>\n      <td>ADP DET NOUN NUM AUX PRON ADV NOUN ADP DET NOUN PUNCT NOUN PUNCT PUNCT NOUN ADP PROPN PUNCT</td>\n    </tr>\n    <tr>\n      <th>294</th>\n      <td>PROPN</td>\n      <td>NOUN</td>\n      <td>Project</td>\n      <td>Project Vlaamse Staat</td>\n      <td>NOUN ADJ NOUN</td>\n    </tr>\n    <tr>\n      <th>298</th>\n      <td>PROPN</td>\n      <td>NOUN</td>\n      <td>Begraafplaats</td>\n      <td>Hergé ligt begraven op de ' Begraafplaats van Dieweg ' in Ukkel in Brussel .</td>\n      <td>PROPN VERB VERB ADP DET PUNCT NOUN ADP PROPN PUNCT ADP PROPN ADP PROPN PUNCT</td>\n    </tr>\n    <tr>\n      <th>310</th>\n      <td>PROPN</td>\n      <td>NOUN</td>\n      <td>O.L.V.-college</td>\n      <td>In 1873 liep de jonge Ensor school op het Oostendse O.L.V.-college .</td>\n      <td>ADP NUM VERB DET ADJ PROPN NOUN ADP DET ADJ NOUN PUNCT</td>\n    </tr>\n    <tr>\n      <th>311</th>\n      <td>PROPN</td>\n      <td>NOUN</td>\n      <td>Onze-Lieve-Vrouwecollege</td>\n      <td>De archieven van het Onze-Lieve-Vrouwecollege bevat een boekje \" Le petit sécrétaire \" met op het titelblad \" Een ruiter te paard \" , getekend door de jonge Ensor .</td>\n      <td>DET NOUN ADP DET NOUN VERB DET NOUN PUNCT X X X PUNCT ADP ADP DET NOUN PUNCT DET NOUN ADP NOUN PUNCT PUNCT VERB ADP DET ADJ PROPN PUNCT</td>\n    </tr>\n    <tr>\n      <th>313</th>\n      <td>PROPN</td>\n      <td>NOUN</td>\n      <td>Academie</td>\n      <td>Ensor was 17 jaar toen hij , op 8 oktober 1877 , zich liet inschrijven aan de Koninklijke Academie voor Schone Kunsten te Brussel .</td>\n      <td>PROPN AUX NUM NOUN SCONJ PRON PUNCT ADP NUM PROPN NUM PUNCT PRON VERB VERB ADP DET ADJ NOUN ADP ADJ NOUN ADP PROPN PUNCT</td>\n    </tr>\n    <tr>\n      <th>322</th>\n      <td>PROPN</td>\n      <td>NOUN</td>\n      <td>Salon</td>\n      <td>\" De oestereetster \" werd trouwens 20 jaar later aangekocht door het Museum voor Schone Kunsten te Antwerpen , op het Triënnale Salon van 1904 .</td>\n      <td>PUNCT DET NOUN PUNCT AUX ADV NUM NOUN ADJ VERB ADP DET PROPN PROPN PROPN PROPN ADP PROPN PUNCT ADP DET ADJ NOUN ADP NUM PUNCT</td>\n    </tr>\n    <tr>\n      <th>331</th>\n      <td>PROPN</td>\n      <td>NOUN</td>\n      <td>Salon</td>\n      <td>Maar zijn inzending voor het Salon van Brussel wordt opnieuw geweigerd .</td>\n      <td>CCONJ PRON NOUN ADP DET NOUN ADP PROPN AUX ADV VERB PUNCT</td>\n    </tr>\n    <tr>\n      <th>333</th>\n      <td>PROPN</td>\n      <td>NOUN</td>\n      <td>Calvarie</td>\n      <td>Hij zal deze kritiek afkraken in zijn werk \" De Calvarie \" met Ensor aan het kruis , als slachtoffer van onbegrip , en de criticus als Romein die zijn zijde opensteekt .</td>\n      <td>PRON AUX DET NOUN VERB ADP PRON NOUN PUNCT DET NOUN PUNCT ADP PROPN ADP DET NOUN PUNCT ADP NOUN ADP NOUN PUNCT CCONJ DET NOUN ADP PROPN PRON PRON NOUN VERB PUNCT</td>\n    </tr>\n    <tr>\n      <th>334</th>\n      <td>PROPN</td>\n      <td>NOUN</td>\n      <td>Aureolen</td>\n      <td>Zijn eerste tekeningen van de reeks \" Aureolen van Christus \" of \" De gevoeligheden van het Licht \" zagen inderdaad het licht ( \" De aanbidding van de herders \" , \" Christus wordt aan het volk getoond \" , \" Intrede te Jeruzalem \" , \" Satan en de fantastische legioenen pijnigen de Gekruisigde \" , \" de kruisafneming en de Hemelvaart van Christus \" ) .</td>\n      <td>PRON ADJ NOUN ADP DET NOUN PUNCT NOUN ADP PROPN PUNCT CCONJ PUNCT DET NOUN ADP DET NOUN PUNCT VERB ADV DET NOUN PUNCT PUNCT DET NOUN ADP DET NOUN PUNCT PUNCT PUNCT PROPN VERB ADP DET NOUN VERB PUNCT PUNCT PUNCT NOUN ADP PROPN PUNCT PUNCT PUNCT PROPN CCONJ DET ADJ NOUN VERB DET VERB PUNCT PUNCT PUNCT DET NOUN CCONJ DET NOUN ADP PROPN PUNCT PUNCT PUNCT</td>\n    </tr>\n    <tr>\n      <th>356</th>\n      <td>PROPN</td>\n      <td>NOUN</td>\n      <td>Lampenist</td>\n      <td>Dit initiatief wekte de belangstelling van het Koninklijk Museum voor Schone Kunsten en \" De Lampenist \" , het schitterende werk uit 1880 , werd in maart van het jaar daarop aangekocht voor 2500 Belgische frank .</td>\n      <td>DET NOUN VERB DET NOUN ADP DET ADJ NOUN ADP ADJ NOUN CCONJ PUNCT DET NOUN PUNCT PUNCT DET VERB NOUN ADP NUM PUNCT AUX ADP PROPN ADP DET NOUN ADV VERB ADP NUM ADJ NOUN PUNCT</td>\n    </tr>\n    <tr>\n      <th>360</th>\n      <td>PROPN</td>\n      <td>NOUN</td>\n      <td>Olie</td>\n      <td>De moeder van Ensor stierf in 1914 op tachtigjarige leeftijd ( Olie op doek \" Mijn dode moeder \" 1915 ) .</td>\n      <td>DET NOUN ADP PROPN VERB ADP NUM ADP ADJ NOUN PUNCT NOUN ADP NOUN PUNCT PRON ADJ NOUN PUNCT NUM PUNCT PUNCT</td>\n    </tr>\n    <tr>\n      <th>366</th>\n      <td>PROPN</td>\n      <td>NOUN</td>\n      <td>Aureolen</td>\n      <td>Skeletten komen voor het eerst voor in het schilderij \" Geraamte bekijkt chinoiserieën \" van 1885 en demonen in de ets \" Satan en de fantastische legioenen pijnigen de gekruisigde \" uit 1886 ( reeks Aureolen van Christus ) .</td>\n      <td>NOUN VERB ADP DET ADJ ADP ADP DET NOUN PUNCT NOUN VERB NOUN PUNCT ADP NUM CCONJ NOUN ADP DET NOUN PUNCT PROPN CCONJ DET ADJ NOUN VERB DET VERB PUNCT ADP NUM PUNCT NOUN NOUN ADP PROPN PUNCT PUNCT</td>\n    </tr>\n    <tr>\n      <th>367</th>\n      <td>PROPN</td>\n      <td>NOUN</td>\n      <td>Carnaval</td>\n      <td>Carnaval en travestie verschijnen in \" Carnaval op strand \" uit 1887 .</td>\n      <td>NOUN CCONJ NOUN VERB ADP PUNCT NOUN ADP NOUN PUNCT ADP NUM PUNCT</td>\n    </tr>\n    <tr>\n      <th>370</th>\n      <td>PROPN</td>\n      <td>NOUN</td>\n      <td>Baron</td>\n      <td>Ensors gloriejaar : Baron</td>\n      <td>PROPN NOUN PUNCT NOUN</td>\n    </tr>\n    <tr>\n      <th>379</th>\n      <td>PROPN</td>\n      <td>NOUN</td>\n      <td>Sirene</td>\n      <td>Wel had hij een uitverkoren vriendin Augusta Bogaerts , de \" Sirene \" , die hij trouwens schilderde in het bekende dubbelportret van 1905 , toen ze 35 was .</td>\n      <td>ADV VERB PRON DET VERB NOUN PROPN PROPN PUNCT DET PUNCT NOUN PUNCT PUNCT PRON PRON ADV VERB ADP DET ADJ NOUN ADP NUM PUNCT SCONJ PRON NUM AUX PUNCT</td>\n    </tr>\n    <tr>\n      <th>392</th>\n      <td>PROPN</td>\n      <td>NOUN</td>\n      <td>Bruegel</td>\n      <td>De Bruegel van het beeldverhaal</td>\n      <td>DET NOUN ADP DET NOUN</td>\n    </tr>\n    <tr>\n      <th>393</th>\n      <td>PROPN</td>\n      <td>NOUN</td>\n      <td>Bruegel</td>\n      <td>Hergé noemde Vandersteen zelfs \" De Bruegel van het Beeldverhaal \" .</td>\n      <td>PROPN VERB PROPN ADV PUNCT DET NOUN ADP DET NOUN PUNCT PUNCT</td>\n    </tr>\n    <tr>\n      <th>397</th>\n      <td>PROPN</td>\n      <td>NOUN</td>\n      <td>Volk</td>\n      <td>Vandersteen's strips verschenen nu in \" De Standaard \" , maar ook in de afgeleide weekbladen van die krant : \" Ons Volk \" , \" Ons Volkske \" , \" 't Kapoentje \" .</td>\n      <td>PROPN NOUN VERB ADV ADP PUNCT PROPN PROPN PUNCT PUNCT CCONJ ADV ADP DET VERB NOUN ADP DET NOUN PUNCT PUNCT PRON NOUN PUNCT PUNCT PUNCT PRON NOUN PUNCT PUNCT PUNCT DET NOUN PUNCT PUNCT</td>\n    </tr>\n    <tr>\n      <th>399</th>\n      <td>PROPN</td>\n      <td>NOUN</td>\n      <td>Volkske</td>\n      <td>Vandersteen's strips verschenen nu in \" De Standaard \" , maar ook in de afgeleide weekbladen van die krant : \" Ons Volk \" , \" Ons Volkske \" , \" 't Kapoentje \" .</td>\n      <td>PROPN NOUN VERB ADV ADP PUNCT PROPN PROPN PUNCT PUNCT CCONJ ADV ADP DET VERB NOUN ADP DET NOUN PUNCT PUNCT PRON NOUN PUNCT PUNCT PUNCT PRON NOUN PUNCT PUNCT PUNCT DET NOUN PUNCT PUNCT</td>\n    </tr>\n    <tr>\n      <th>400</th>\n      <td>PROPN</td>\n      <td>NOUN</td>\n      <td>Kapoentje</td>\n      <td>Vandersteen's strips verschenen nu in \" De Standaard \" , maar ook in de afgeleide weekbladen van die krant : \" Ons Volk \" , \" Ons Volkske \" , \" 't Kapoentje \" .</td>\n      <td>PROPN NOUN VERB ADV ADP PUNCT PROPN PROPN PUNCT PUNCT CCONJ ADV ADP DET VERB NOUN ADP DET NOUN PUNCT PUNCT PRON NOUN PUNCT PUNCT PUNCT PRON NOUN PUNCT PUNCT PUNCT DET NOUN PUNCT PUNCT</td>\n    </tr>\n    <tr>\n      <th>407</th>\n      <td>PROPN</td>\n      <td>NOUN</td>\n      <td>Ridder</td>\n      <td>Van jeugdschrijver Leopold Vermeiren kreeg hij de toestemming diens romanfiguur « De Rode Ridder » te gebruiken .</td>\n      <td>ADP NOUN PROPN PROPN VERB PRON DET NOUN DET NOUN PUNCT DET ADJ NOUN PUNCT ADP VERB PUNCT</td>\n    </tr>\n    <tr>\n      <th>413</th>\n      <td>PROPN</td>\n      <td>NOUN</td>\n      <td>Ridder</td>\n      <td>Van de oude succesreeksen weten echter enkel De Rode Ridder en Suske en Wiske zich nog staande te houden .</td>\n      <td>ADP DET ADJ NOUN VERB ADV ADV DET ADJ NOUN CCONJ PROPN PROPN PROPN PRON ADV VERB ADP VERB PUNCT</td>\n    </tr>\n    <tr>\n      <th>418</th>\n      <td>PROPN</td>\n      <td>NOUN</td>\n      <td>Nationaal-Socialist</td>\n      <td>Deze werden gepubliceerd in o.m. Volk en Staat , De Nationaal-Socialist en de brochure « Zoo zag Brussel de Dietsche militanten » van de Dietsche Militie-Zwarte Brigade .</td>\n      <td>PRON AUX VERB ADP X NOUN CCONJ NOUN PUNCT DET NOUN CCONJ DET NOUN PUNCT ADV VERB PROPN DET ADJ NOUN PUNCT ADP DET ADJ PROPN PROPN PUNCT</td>\n    </tr>\n    <tr>\n      <th>422</th>\n      <td>PROPN</td>\n      <td>NOUN</td>\n      <td>Dag</td>\n      <td>Hoogstens vage aanwijzingen , zoals dat Vandersteen tekende voor De Dag , een flamingantische krant die steeds verder in de collaboratie kwam .</td>\n      <td>ADV ADJ NOUN PUNCT SCONJ SCONJ PROPN VERB ADP DET NOUN PUNCT DET ADJ NOUN PRON ADV ADJ ADP DET NOUN VERB PUNCT</td>\n    </tr>\n    <tr>\n      <th>424</th>\n      <td>PROPN</td>\n      <td>NOUN</td>\n      <td>Wiskeverhalen</td>\n      <td>In 1949 bewerkte Karel Weyler van Pats ' poppenspel een aantal Suske en Wiskeverhalen voor het poppentheater die later ook op tv werden uitgezonden .</td>\n      <td>ADP NUM VERB PROPN PROPN ADP PROPN PUNCT NOUN DET NOUN PROPN PROPN NOUN ADP DET NOUN PRON ADJ ADV ADP NOUN AUX VERB PUNCT</td>\n    </tr>\n    <tr>\n      <th>428</th>\n      <td>PROPN</td>\n      <td>NOUN</td>\n      <td>Reeks</td>\n      <td>Van 1993 tot 1999 jaar werden ook de oude Suske en Wiske verhalen in hun oorspronkelijke krantenverschijning opnieuw uitgebracht in de Klassiek Reeks .</td>\n      <td>ADP NUM ADP NUM NOUN AUX ADV DET ADJ PROPN PROPN PROPN NOUN ADP PRON ADJ NOUN ADV VERB ADP DET ADJ NOUN PUNCT</td>\n    </tr>\n    <tr>\n      <th>435</th>\n      <td>PROPN</td>\n      <td>NOUN</td>\n      <td>Ridder</td>\n      <td>Zo is Ridder Bauknecht van Jeroom een parodie op De Rode Ridder .</td>\n      <td>ADV AUX PROPN PROPN ADP PROPN DET NOUN ADP DET ADJ NOUN PUNCT</td>\n    </tr>\n    <tr>\n      <th>439</th>\n      <td>PROPN</td>\n      <td>NOUN</td>\n      <td>Prinske</td>\n      <td>« 't Prinske » 1953-1959</td>\n      <td>PUNCT DET NOUN PUNCT SYM</td>\n    </tr>\n    <tr>\n      <th>442</th>\n      <td>PROPN</td>\n      <td>NOUN</td>\n      <td>Ridder</td>\n      <td>« De Rode Ridder » 1959-heden</td>\n      <td>PUNCT DET ADJ NOUN PUNCT SYM</td>\n    </tr>\n    <tr>\n      <th>446</th>\n      <td>PROPN</td>\n      <td>NOUN</td>\n      <td>Akademie</td>\n      <td>Terwijl hij avondlessen tekenen volgde aan de Antwerpse Akademie voor Schone Kunsten hielp Vandersteen ook regelmatig zijn vader in diens werkatelier .</td>\n      <td>SCONJ PRON NOUN VERB VERB ADP DET ADJ NOUN ADP ADJ NOUN VERB PROPN ADV ADJ PRON NOUN ADP DET NOUN PUNCT</td>\n    </tr>\n    <tr>\n      <th>448</th>\n      <td>PROPN</td>\n      <td>NOUN</td>\n      <td>Kunsten</td>\n      <td>Terwijl hij avondlessen tekenen volgde aan de Antwerpse Akademie voor Schone Kunsten hielp Vandersteen ook regelmatig zijn vader in diens werkatelier .</td>\n      <td>SCONJ PRON NOUN VERB VERB ADP DET ADJ NOUN ADP ADJ NOUN VERB PROPN ADV ADJ PRON NOUN ADP DET NOUN PUNCT</td>\n    </tr>\n    <tr>\n      <th>451</th>\n      <td>PROPN</td>\n      <td>NOUN</td>\n      <td>Dag</td>\n      <td>Onder het pseudoniem \" Wil \" tekende Vandersteen « De lollige avonturen van Pudifar » voor Wonderland , de kindereditie op woensdag van het blad \" De Dag \" .</td>\n      <td>ADP DET NOUN PUNCT PROPN PUNCT VERB PROPN PUNCT DET ADJ NOUN ADP PROPN PUNCT ADP PROPN PUNCT DET NOUN ADP PROPN ADP DET NOUN PUNCT DET NOUN PUNCT PUNCT</td>\n    </tr>\n  </tbody>\n</table>\n</div>"
     },
     "metadata": {},
     "execution_count": 29
    }
   ],
   "source": [
    "mistakes_df[(mistakes_df.predicted==\"PROPN\")&(mistakes_df.actual==\"NOUN\")]"
   ]
  },
  {
   "cell_type": "code",
   "execution_count": 30,
   "metadata": {
    "ExecuteTime": {
     "end_time": "2020-05-19T09:01:22.844162Z",
     "start_time": "2020-05-19T09:01:22.839159Z"
    },
    "scrolled": true
   },
   "outputs": [
    {
     "output_type": "error",
     "ename": "NameError",
     "evalue": "name 'confusion_matrix' is not defined",
     "traceback": [
      "\u001b[1;31m---------------------------------------------------------------------------\u001b[0m",
      "\u001b[1;31mNameError\u001b[0m                                 Traceback (most recent call last)",
      "\u001b[1;32m<ipython-input-30-583380b5b28a>\u001b[0m in \u001b[0;36m<module>\u001b[1;34m\u001b[0m\n\u001b[1;32m----> 1\u001b[1;33m \u001b[0mconf_df\u001b[0m \u001b[1;33m=\u001b[0m \u001b[0mpd\u001b[0m\u001b[1;33m.\u001b[0m\u001b[0mDataFrame\u001b[0m\u001b[1;33m(\u001b[0m\u001b[0mdata\u001b[0m\u001b[1;33m=\u001b[0m\u001b[0mconfusion_matrix\u001b[0m\u001b[1;33m,\u001b[0m\u001b[0mindex\u001b[0m\u001b[1;33m=\u001b[0m\u001b[0munique_tags\u001b[0m\u001b[1;33m,\u001b[0m\u001b[0mcolumns\u001b[0m\u001b[1;33m=\u001b[0m\u001b[0munique_tags\u001b[0m\u001b[1;33m)\u001b[0m\u001b[1;33m\u001b[0m\u001b[1;33m\u001b[0m\u001b[0m\n\u001b[0m",
      "\u001b[1;31mNameError\u001b[0m: name 'confusion_matrix' is not defined"
     ]
    }
   ],
   "source": [
    "conf_df = pd.DataFrame(data=confusion_matrix,index=unique_tags,columns=unique_tags)"
   ]
  },
  {
   "cell_type": "markdown",
   "metadata": {
    "ExecuteTime": {
     "end_time": "2020-05-13T14:44:17.818770Z",
     "start_time": "2020-05-13T14:44:17.319771Z"
    }
   },
   "source": [
    "#### How many times each tag is misclassified"
   ]
  },
  {
   "cell_type": "code",
   "execution_count": 31,
   "metadata": {
    "ExecuteTime": {
     "end_time": "2020-05-19T09:01:22.875158Z",
     "start_time": "2020-05-19T09:01:22.846160Z"
    }
   },
   "outputs": [
    {
     "output_type": "execute_result",
     "data": {
      "text/plain": "       count   percent\nNOUN   103.0  0.227373\nPROPN  83.0   0.183223\nADJ    63.0   0.139073\nVERB   50.0   0.110375\nX      34.0   0.075055\nSYM    25.0   0.055188\nDET    21.0   0.046358\nADP    18.0   0.039735\nADV    17.0   0.037528\nNUM    15.0   0.033113",
      "text/html": "<div>\n<style scoped>\n    .dataframe tbody tr th:only-of-type {\n        vertical-align: middle;\n    }\n\n    .dataframe tbody tr th {\n        vertical-align: top;\n    }\n\n    .dataframe thead th {\n        text-align: right;\n    }\n</style>\n<table border=\"1\" class=\"dataframe\">\n  <thead>\n    <tr style=\"text-align: right;\">\n      <th></th>\n      <th>count</th>\n      <th>percent</th>\n    </tr>\n  </thead>\n  <tbody>\n    <tr>\n      <th>NOUN</th>\n      <td>103.0</td>\n      <td>0.227373</td>\n    </tr>\n    <tr>\n      <th>PROPN</th>\n      <td>83.0</td>\n      <td>0.183223</td>\n    </tr>\n    <tr>\n      <th>ADJ</th>\n      <td>63.0</td>\n      <td>0.139073</td>\n    </tr>\n    <tr>\n      <th>VERB</th>\n      <td>50.0</td>\n      <td>0.110375</td>\n    </tr>\n    <tr>\n      <th>X</th>\n      <td>34.0</td>\n      <td>0.075055</td>\n    </tr>\n    <tr>\n      <th>SYM</th>\n      <td>25.0</td>\n      <td>0.055188</td>\n    </tr>\n    <tr>\n      <th>DET</th>\n      <td>21.0</td>\n      <td>0.046358</td>\n    </tr>\n    <tr>\n      <th>ADP</th>\n      <td>18.0</td>\n      <td>0.039735</td>\n    </tr>\n    <tr>\n      <th>ADV</th>\n      <td>17.0</td>\n      <td>0.037528</td>\n    </tr>\n    <tr>\n      <th>NUM</th>\n      <td>15.0</td>\n      <td>0.033113</td>\n    </tr>\n  </tbody>\n</table>\n</div>"
     },
     "metadata": {},
     "execution_count": 31
    }
   ],
   "source": [
    "conf_count = pd.DataFrame()\n",
    "conf_count[\"count\"] = conf_df.sum().sort_values(ascending=False); \n",
    "conf_count[\"percent\"] = conf_count/conf_count.sum()\n",
    "conf_count[:10]"
   ]
  },
  {
   "cell_type": "code",
   "execution_count": 32,
   "metadata": {
    "ExecuteTime": {
     "end_time": "2020-05-19T09:01:22.887158Z",
     "start_time": "2020-05-19T09:01:22.879168Z"
    }
   },
   "outputs": [],
   "source": [
    "conf_count.to_csv(\"conf_count_sup.csv\",index_label=\"tag\")"
   ]
  },
  {
   "cell_type": "code",
   "execution_count": 33,
   "metadata": {
    "ExecuteTime": {
     "end_time": "2020-05-19T09:01:22.949157Z",
     "start_time": "2020-05-19T09:01:22.890158Z"
    }
   },
   "outputs": [
    {
     "output_type": "execute_result",
     "data": {
      "text/plain": "      pred actual  count   percent\n130  PROPN  NOUN   78.0   0.172185\n194  NOUN   PROPN  50.0   0.110375\n283  PROPN  X      30.0   0.066225\n11   PROPN  ADJ    26.0   0.057395\n255  ADJ    VERB   24.0   0.052980\n258  AUX    VERB   18.0   0.039735\n250  PUNCT  SYM    17.0   0.037528\n2    ADV    ADJ    14.0   0.030905\n150  SYM    NUM    14.0   0.030905\n187  ADJ    PROPN  13.0   0.028698\n134  VERB   NOUN   12.0   0.026490\n15   VERB   ADJ    12.0   0.026490\n30   SCONJ  ADP    11.0   0.024283\n203  X      PROPN  11.0   0.024283\n96   PROPN  DET    9.0    0.019868\n66   VERB   AUX    8.0    0.017660\n7    NOUN   ADJ    7.0    0.015453\n34   ADJ    ADV    6.0    0.013245\n119  ADJ    NOUN   6.0    0.013245\n249  PROPN  SYM    5.0    0.011038\n262  NOUN   VERB   5.0    0.011038\n192  DET    PROPN  5.0    0.011038\n87   ADV    DET    4.0    0.008830\n44   PRON   ADV    4.0    0.008830\n19   ADV    ADP    4.0    0.008830\n175  DET    PRON   3.0    0.006623\n28   PROPN  ADP    3.0    0.006623\n266  PROPN  VERB   3.0    0.006623\n95   PRON   DET    3.0    0.006623\n35   ADP    ADV    3.0    0.006623\n85   ADJ    DET    3.0    0.006623\n223  ADV    SCONJ  2.0    0.004415\n79   PROPN  CCONJ  2.0    0.004415\n245  NOUN   SYM    2.0    0.004415\n188  ADP    PROPN  2.0    0.004415\n121  ADV    NOUN   2.0    0.004415\n181  PROPN  PRON   2.0    0.004415\n39   DET    ADV    2.0    0.004415\n135  X      NOUN   2.0    0.004415\n1    ADP    ADJ    2.0    0.004415\n170  ADJ    PRON   2.0    0.004415\n172  ADV    PRON   2.0    0.004415\n5    DET    ADJ    2.0    0.004415\n231  PRON   SCONJ  1.0    0.002208\n93   NUM    DET    1.0    0.002208\n189  ADV    PROPN  1.0    0.002208\n127  NUM    NOUN   1.0    0.002208\n279  NOUN   X      1.0    0.002208\n246  NUM    SYM    1.0    0.002208\n284  PUNCT  X      1.0    0.002208\n274  ADV    X      1.0    0.002208\n273  ADP    X      1.0    0.002208\n120  ADP    NOUN   1.0    0.002208\n133  SYM    NOUN   1.0    0.002208\n99   SYM    DET    1.0    0.002208\n106  CCONJ  INTJ   1.0    0.002208\n47   SCONJ  ADV    1.0    0.002208\n143  NOUN   NUM    1.0    0.002208\n222  ADP    SCONJ  1.0    0.002208\n41   NOUN   ADV    1.0    0.002208\n191  CCONJ  PROPN  1.0    0.002208\n210  INTJ   PUNCT  0.0    0.000000\n198  PROPN  PROPN  0.0    0.000000\n199  PUNCT  PROPN  0.0    0.000000\n209  DET    PUNCT  0.0    0.000000\n197  PRON   PROPN  0.0    0.000000\n200  SCONJ  PROPN  0.0    0.000000\n208  CCONJ  PUNCT  0.0    0.000000\n204  ADJ    PUNCT  0.0    0.000000\n201  SYM    PROPN  0.0    0.000000\n206  ADV    PUNCT  0.0    0.000000\n202  VERB   PROPN  0.0    0.000000\n205  ADP    PUNCT  0.0    0.000000\n207  AUX    PUNCT  0.0    0.000000\n0    ADJ    ADJ    0.0    0.000000\n196  PART   PROPN  0.0    0.000000\n195  NUM    PROPN  0.0    0.000000\n164  PROPN  PART   0.0    0.000000\n165  PUNCT  PART   0.0    0.000000\n166  SCONJ  PART   0.0    0.000000\n167  SYM    PART   0.0    0.000000\n168  VERB   PART   0.0    0.000000\n169  X      PART   0.0    0.000000\n171  ADP    PRON   0.0    0.000000\n173  AUX    PRON   0.0    0.000000\n174  CCONJ  PRON   0.0    0.000000\n176  INTJ   PRON   0.0    0.000000\n177  NOUN   PRON   0.0    0.000000\n178  NUM    PRON   0.0    0.000000\n179  PART   PRON   0.0    0.000000\n180  PRON   PRON   0.0    0.000000\n182  PUNCT  PRON   0.0    0.000000\n183  SCONJ  PRON   0.0    0.000000\n184  SYM    PRON   0.0    0.000000\n185  VERB   PRON   0.0    0.000000\n186  X      PRON   0.0    0.000000\n190  AUX    PROPN  0.0    0.000000\n193  INTJ   PROPN  0.0    0.000000\n211  NOUN   PUNCT  0.0    0.000000\n225  CCONJ  SCONJ  0.0    0.000000\n212  NUM    PUNCT  0.0    0.000000\n248  PRON   SYM    0.0    0.000000\n252  SYM    SYM    0.0    0.000000\n253  VERB   SYM    0.0    0.000000\n254  X      SYM    0.0    0.000000\n256  ADP    VERB   0.0    0.000000\n257  ADV    VERB   0.0    0.000000\n259  CCONJ  VERB   0.0    0.000000\n260  DET    VERB   0.0    0.000000\n261  INTJ   VERB   0.0    0.000000\n263  NUM    VERB   0.0    0.000000\n264  PART   VERB   0.0    0.000000\n265  PRON   VERB   0.0    0.000000\n267  PUNCT  VERB   0.0    0.000000\n268  SCONJ  VERB   0.0    0.000000\n269  SYM    VERB   0.0    0.000000\n270  VERB   VERB   0.0    0.000000\n271  X      VERB   0.0    0.000000\n272  ADJ    X      0.0    0.000000\n275  AUX    X      0.0    0.000000\n276  CCONJ  X      0.0    0.000000\n277  DET    X      0.0    0.000000\n278  INTJ   X      0.0    0.000000\n280  NUM    X      0.0    0.000000\n281  PART   X      0.0    0.000000\n282  PRON   X      0.0    0.000000\n285  SCONJ  X      0.0    0.000000\n286  SYM    X      0.0    0.000000\n287  VERB   X      0.0    0.000000\n251  SCONJ  SYM    0.0    0.000000\n247  PART   SYM    0.0    0.000000\n213  PART   PUNCT  0.0    0.000000\n244  INTJ   SYM    0.0    0.000000\n214  PRON   PUNCT  0.0    0.000000\n215  PROPN  PUNCT  0.0    0.000000\n216  PUNCT  PUNCT  0.0    0.000000\n217  SCONJ  PUNCT  0.0    0.000000\n218  SYM    PUNCT  0.0    0.000000\n219  VERB   PUNCT  0.0    0.000000\n220  X      PUNCT  0.0    0.000000\n221  ADJ    SCONJ  0.0    0.000000\n224  AUX    SCONJ  0.0    0.000000\n162  PART   PART   0.0    0.000000\n226  DET    SCONJ  0.0    0.000000\n227  INTJ   SCONJ  0.0    0.000000\n228  NOUN   SCONJ  0.0    0.000000\n229  NUM    SCONJ  0.0    0.000000\n230  PART   SCONJ  0.0    0.000000\n232  PROPN  SCONJ  0.0    0.000000\n233  PUNCT  SCONJ  0.0    0.000000\n234  SCONJ  SCONJ  0.0    0.000000\n235  SYM    SCONJ  0.0    0.000000\n236  VERB   SCONJ  0.0    0.000000\n237  X      SCONJ  0.0    0.000000\n238  ADJ    SYM    0.0    0.000000\n239  ADP    SYM    0.0    0.000000\n240  ADV    SYM    0.0    0.000000\n241  AUX    SYM    0.0    0.000000\n242  CCONJ  SYM    0.0    0.000000\n243  DET    SYM    0.0    0.000000\n163  PRON   PART   0.0    0.000000\n144  NUM    NUM    0.0    0.000000\n161  NUM    PART   0.0    0.000000\n61   PRON   AUX    0.0    0.000000\n48   SYM    ADV    0.0    0.000000\n49   VERB   ADV    0.0    0.000000\n50   X      ADV    0.0    0.000000\n51   ADJ    AUX    0.0    0.000000\n52   ADP    AUX    0.0    0.000000\n53   ADV    AUX    0.0    0.000000\n54   AUX    AUX    0.0    0.000000\n55   CCONJ  AUX    0.0    0.000000\n56   DET    AUX    0.0    0.000000\n57   INTJ   AUX    0.0    0.000000\n58   NOUN   AUX    0.0    0.000000\n59   NUM    AUX    0.0    0.000000\n60   PART   AUX    0.0    0.000000\n62   PROPN  AUX    0.0    0.000000\n45   PROPN  ADV    0.0    0.000000\n63   PUNCT  AUX    0.0    0.000000\n64   SCONJ  AUX    0.0    0.000000\n65   SYM    AUX    0.0    0.000000\n67   X      AUX    0.0    0.000000\n68   ADJ    CCONJ  0.0    0.000000\n69   ADP    CCONJ  0.0    0.000000\n70   ADV    CCONJ  0.0    0.000000\n71   AUX    CCONJ  0.0    0.000000\n72   CCONJ  CCONJ  0.0    0.000000\n73   DET    CCONJ  0.0    0.000000\n74   INTJ   CCONJ  0.0    0.000000\n75   NOUN   CCONJ  0.0    0.000000\n76   NUM    CCONJ  0.0    0.000000\n46   PUNCT  ADV    0.0    0.000000\n43   PART   ADV    0.0    0.000000\n78   PRON   CCONJ  0.0    0.000000\n21   CCONJ  ADP    0.0    0.000000\n3    AUX    ADJ    0.0    0.000000\n4    CCONJ  ADJ    0.0    0.000000\n6    INTJ   ADJ    0.0    0.000000\n8    NUM    ADJ    0.0    0.000000\n9    PART   ADJ    0.0    0.000000\n10   PRON   ADJ    0.0    0.000000\n12   PUNCT  ADJ    0.0    0.000000\n13   SCONJ  ADJ    0.0    0.000000\n14   SYM    ADJ    0.0    0.000000\n16   X      ADJ    0.0    0.000000\n17   ADJ    ADP    0.0    0.000000\n18   ADP    ADP    0.0    0.000000\n20   AUX    ADP    0.0    0.000000\n22   DET    ADP    0.0    0.000000\n42   NUM    ADV    0.0    0.000000\n23   INTJ   ADP    0.0    0.000000\n24   NOUN   ADP    0.0    0.000000\n25   NUM    ADP    0.0    0.000000\n26   PART   ADP    0.0    0.000000\n27   PRON   ADP    0.0    0.000000\n29   PUNCT  ADP    0.0    0.000000\n31   SYM    ADP    0.0    0.000000\n32   VERB   ADP    0.0    0.000000\n33   X      ADP    0.0    0.000000\n36   ADV    ADV    0.0    0.000000\n37   AUX    ADV    0.0    0.000000\n38   CCONJ  ADV    0.0    0.000000\n40   INTJ   ADV    0.0    0.000000\n77   PART   CCONJ  0.0    0.000000\n80   PUNCT  CCONJ  0.0    0.000000\n160  NOUN   PART   0.0    0.000000\n142  INTJ   NUM    0.0    0.000000\n124  DET    NOUN   0.0    0.000000\n125  INTJ   NOUN   0.0    0.000000\n126  NOUN   NOUN   0.0    0.000000\n128  PART   NOUN   0.0    0.000000\n129  PRON   NOUN   0.0    0.000000\n131  PUNCT  NOUN   0.0    0.000000\n132  SCONJ  NOUN   0.0    0.000000\n136  ADJ    NUM    0.0    0.000000\n137  ADP    NUM    0.0    0.000000\n138  ADV    NUM    0.0    0.000000\n139  AUX    NUM    0.0    0.000000\n140  CCONJ  NUM    0.0    0.000000\n141  DET    NUM    0.0    0.000000\n145  PART   NUM    0.0    0.000000\n122  AUX    NOUN   0.0    0.000000\n146  PRON   NUM    0.0    0.000000\n147  PROPN  NUM    0.0    0.000000\n148  PUNCT  NUM    0.0    0.000000\n149  SCONJ  NUM    0.0    0.000000\n151  VERB   NUM    0.0    0.000000\n152  X      NUM    0.0    0.000000\n153  ADJ    PART   0.0    0.000000\n154  ADP    PART   0.0    0.000000\n155  ADV    PART   0.0    0.000000\n156  AUX    PART   0.0    0.000000\n157  CCONJ  PART   0.0    0.000000\n158  DET    PART   0.0    0.000000\n159  INTJ   PART   0.0    0.000000\n123  CCONJ  NOUN   0.0    0.000000\n118  X      INTJ   0.0    0.000000\n81   SCONJ  CCONJ  0.0    0.000000\n101  X      DET    0.0    0.000000\n82   SYM    CCONJ  0.0    0.000000\n83   VERB   CCONJ  0.0    0.000000\n84   X      CCONJ  0.0    0.000000\n86   ADP    DET    0.0    0.000000\n88   AUX    DET    0.0    0.000000\n89   CCONJ  DET    0.0    0.000000\n90   DET    DET    0.0    0.000000\n91   INTJ   DET    0.0    0.000000\n92   NOUN   DET    0.0    0.000000\n94   PART   DET    0.0    0.000000\n97   PUNCT  DET    0.0    0.000000\n98   SCONJ  DET    0.0    0.000000\n100  VERB   DET    0.0    0.000000\n102  ADJ    INTJ   0.0    0.000000\n117  VERB   INTJ   0.0    0.000000\n103  ADP    INTJ   0.0    0.000000\n104  ADV    INTJ   0.0    0.000000\n105  AUX    INTJ   0.0    0.000000\n107  DET    INTJ   0.0    0.000000\n108  INTJ   INTJ   0.0    0.000000\n109  NOUN   INTJ   0.0    0.000000\n110  NUM    INTJ   0.0    0.000000\n111  PART   INTJ   0.0    0.000000\n112  PRON   INTJ   0.0    0.000000\n113  PROPN  INTJ   0.0    0.000000\n114  PUNCT  INTJ   0.0    0.000000\n115  SCONJ  INTJ   0.0    0.000000\n116  SYM    INTJ   0.0    0.000000\n288  X      X      0.0    0.000000",
      "text/html": "<div>\n<style scoped>\n    .dataframe tbody tr th:only-of-type {\n        vertical-align: middle;\n    }\n\n    .dataframe tbody tr th {\n        vertical-align: top;\n    }\n\n    .dataframe thead th {\n        text-align: right;\n    }\n</style>\n<table border=\"1\" class=\"dataframe\">\n  <thead>\n    <tr style=\"text-align: right;\">\n      <th></th>\n      <th>pred</th>\n      <th>actual</th>\n      <th>count</th>\n      <th>percent</th>\n    </tr>\n  </thead>\n  <tbody>\n    <tr>\n      <th>130</th>\n      <td>PROPN</td>\n      <td>NOUN</td>\n      <td>78.0</td>\n      <td>0.172185</td>\n    </tr>\n    <tr>\n      <th>194</th>\n      <td>NOUN</td>\n      <td>PROPN</td>\n      <td>50.0</td>\n      <td>0.110375</td>\n    </tr>\n    <tr>\n      <th>283</th>\n      <td>PROPN</td>\n      <td>X</td>\n      <td>30.0</td>\n      <td>0.066225</td>\n    </tr>\n    <tr>\n      <th>11</th>\n      <td>PROPN</td>\n      <td>ADJ</td>\n      <td>26.0</td>\n      <td>0.057395</td>\n    </tr>\n    <tr>\n      <th>255</th>\n      <td>ADJ</td>\n      <td>VERB</td>\n      <td>24.0</td>\n      <td>0.052980</td>\n    </tr>\n    <tr>\n      <th>258</th>\n      <td>AUX</td>\n      <td>VERB</td>\n      <td>18.0</td>\n      <td>0.039735</td>\n    </tr>\n    <tr>\n      <th>250</th>\n      <td>PUNCT</td>\n      <td>SYM</td>\n      <td>17.0</td>\n      <td>0.037528</td>\n    </tr>\n    <tr>\n      <th>2</th>\n      <td>ADV</td>\n      <td>ADJ</td>\n      <td>14.0</td>\n      <td>0.030905</td>\n    </tr>\n    <tr>\n      <th>150</th>\n      <td>SYM</td>\n      <td>NUM</td>\n      <td>14.0</td>\n      <td>0.030905</td>\n    </tr>\n    <tr>\n      <th>187</th>\n      <td>ADJ</td>\n      <td>PROPN</td>\n      <td>13.0</td>\n      <td>0.028698</td>\n    </tr>\n    <tr>\n      <th>134</th>\n      <td>VERB</td>\n      <td>NOUN</td>\n      <td>12.0</td>\n      <td>0.026490</td>\n    </tr>\n    <tr>\n      <th>15</th>\n      <td>VERB</td>\n      <td>ADJ</td>\n      <td>12.0</td>\n      <td>0.026490</td>\n    </tr>\n    <tr>\n      <th>30</th>\n      <td>SCONJ</td>\n      <td>ADP</td>\n      <td>11.0</td>\n      <td>0.024283</td>\n    </tr>\n    <tr>\n      <th>203</th>\n      <td>X</td>\n      <td>PROPN</td>\n      <td>11.0</td>\n      <td>0.024283</td>\n    </tr>\n    <tr>\n      <th>96</th>\n      <td>PROPN</td>\n      <td>DET</td>\n      <td>9.0</td>\n      <td>0.019868</td>\n    </tr>\n    <tr>\n      <th>66</th>\n      <td>VERB</td>\n      <td>AUX</td>\n      <td>8.0</td>\n      <td>0.017660</td>\n    </tr>\n    <tr>\n      <th>7</th>\n      <td>NOUN</td>\n      <td>ADJ</td>\n      <td>7.0</td>\n      <td>0.015453</td>\n    </tr>\n    <tr>\n      <th>34</th>\n      <td>ADJ</td>\n      <td>ADV</td>\n      <td>6.0</td>\n      <td>0.013245</td>\n    </tr>\n    <tr>\n      <th>119</th>\n      <td>ADJ</td>\n      <td>NOUN</td>\n      <td>6.0</td>\n      <td>0.013245</td>\n    </tr>\n    <tr>\n      <th>249</th>\n      <td>PROPN</td>\n      <td>SYM</td>\n      <td>5.0</td>\n      <td>0.011038</td>\n    </tr>\n    <tr>\n      <th>262</th>\n      <td>NOUN</td>\n      <td>VERB</td>\n      <td>5.0</td>\n      <td>0.011038</td>\n    </tr>\n    <tr>\n      <th>192</th>\n      <td>DET</td>\n      <td>PROPN</td>\n      <td>5.0</td>\n      <td>0.011038</td>\n    </tr>\n    <tr>\n      <th>87</th>\n      <td>ADV</td>\n      <td>DET</td>\n      <td>4.0</td>\n      <td>0.008830</td>\n    </tr>\n    <tr>\n      <th>44</th>\n      <td>PRON</td>\n      <td>ADV</td>\n      <td>4.0</td>\n      <td>0.008830</td>\n    </tr>\n    <tr>\n      <th>19</th>\n      <td>ADV</td>\n      <td>ADP</td>\n      <td>4.0</td>\n      <td>0.008830</td>\n    </tr>\n    <tr>\n      <th>175</th>\n      <td>DET</td>\n      <td>PRON</td>\n      <td>3.0</td>\n      <td>0.006623</td>\n    </tr>\n    <tr>\n      <th>28</th>\n      <td>PROPN</td>\n      <td>ADP</td>\n      <td>3.0</td>\n      <td>0.006623</td>\n    </tr>\n    <tr>\n      <th>266</th>\n      <td>PROPN</td>\n      <td>VERB</td>\n      <td>3.0</td>\n      <td>0.006623</td>\n    </tr>\n    <tr>\n      <th>95</th>\n      <td>PRON</td>\n      <td>DET</td>\n      <td>3.0</td>\n      <td>0.006623</td>\n    </tr>\n    <tr>\n      <th>35</th>\n      <td>ADP</td>\n      <td>ADV</td>\n      <td>3.0</td>\n      <td>0.006623</td>\n    </tr>\n    <tr>\n      <th>85</th>\n      <td>ADJ</td>\n      <td>DET</td>\n      <td>3.0</td>\n      <td>0.006623</td>\n    </tr>\n    <tr>\n      <th>223</th>\n      <td>ADV</td>\n      <td>SCONJ</td>\n      <td>2.0</td>\n      <td>0.004415</td>\n    </tr>\n    <tr>\n      <th>79</th>\n      <td>PROPN</td>\n      <td>CCONJ</td>\n      <td>2.0</td>\n      <td>0.004415</td>\n    </tr>\n    <tr>\n      <th>245</th>\n      <td>NOUN</td>\n      <td>SYM</td>\n      <td>2.0</td>\n      <td>0.004415</td>\n    </tr>\n    <tr>\n      <th>188</th>\n      <td>ADP</td>\n      <td>PROPN</td>\n      <td>2.0</td>\n      <td>0.004415</td>\n    </tr>\n    <tr>\n      <th>121</th>\n      <td>ADV</td>\n      <td>NOUN</td>\n      <td>2.0</td>\n      <td>0.004415</td>\n    </tr>\n    <tr>\n      <th>181</th>\n      <td>PROPN</td>\n      <td>PRON</td>\n      <td>2.0</td>\n      <td>0.004415</td>\n    </tr>\n    <tr>\n      <th>39</th>\n      <td>DET</td>\n      <td>ADV</td>\n      <td>2.0</td>\n      <td>0.004415</td>\n    </tr>\n    <tr>\n      <th>135</th>\n      <td>X</td>\n      <td>NOUN</td>\n      <td>2.0</td>\n      <td>0.004415</td>\n    </tr>\n    <tr>\n      <th>1</th>\n      <td>ADP</td>\n      <td>ADJ</td>\n      <td>2.0</td>\n      <td>0.004415</td>\n    </tr>\n    <tr>\n      <th>170</th>\n      <td>ADJ</td>\n      <td>PRON</td>\n      <td>2.0</td>\n      <td>0.004415</td>\n    </tr>\n    <tr>\n      <th>172</th>\n      <td>ADV</td>\n      <td>PRON</td>\n      <td>2.0</td>\n      <td>0.004415</td>\n    </tr>\n    <tr>\n      <th>5</th>\n      <td>DET</td>\n      <td>ADJ</td>\n      <td>2.0</td>\n      <td>0.004415</td>\n    </tr>\n    <tr>\n      <th>231</th>\n      <td>PRON</td>\n      <td>SCONJ</td>\n      <td>1.0</td>\n      <td>0.002208</td>\n    </tr>\n    <tr>\n      <th>93</th>\n      <td>NUM</td>\n      <td>DET</td>\n      <td>1.0</td>\n      <td>0.002208</td>\n    </tr>\n    <tr>\n      <th>189</th>\n      <td>ADV</td>\n      <td>PROPN</td>\n      <td>1.0</td>\n      <td>0.002208</td>\n    </tr>\n    <tr>\n      <th>127</th>\n      <td>NUM</td>\n      <td>NOUN</td>\n      <td>1.0</td>\n      <td>0.002208</td>\n    </tr>\n    <tr>\n      <th>279</th>\n      <td>NOUN</td>\n      <td>X</td>\n      <td>1.0</td>\n      <td>0.002208</td>\n    </tr>\n    <tr>\n      <th>246</th>\n      <td>NUM</td>\n      <td>SYM</td>\n      <td>1.0</td>\n      <td>0.002208</td>\n    </tr>\n    <tr>\n      <th>284</th>\n      <td>PUNCT</td>\n      <td>X</td>\n      <td>1.0</td>\n      <td>0.002208</td>\n    </tr>\n    <tr>\n      <th>274</th>\n      <td>ADV</td>\n      <td>X</td>\n      <td>1.0</td>\n      <td>0.002208</td>\n    </tr>\n    <tr>\n      <th>273</th>\n      <td>ADP</td>\n      <td>X</td>\n      <td>1.0</td>\n      <td>0.002208</td>\n    </tr>\n    <tr>\n      <th>120</th>\n      <td>ADP</td>\n      <td>NOUN</td>\n      <td>1.0</td>\n      <td>0.002208</td>\n    </tr>\n    <tr>\n      <th>133</th>\n      <td>SYM</td>\n      <td>NOUN</td>\n      <td>1.0</td>\n      <td>0.002208</td>\n    </tr>\n    <tr>\n      <th>99</th>\n      <td>SYM</td>\n      <td>DET</td>\n      <td>1.0</td>\n      <td>0.002208</td>\n    </tr>\n    <tr>\n      <th>106</th>\n      <td>CCONJ</td>\n      <td>INTJ</td>\n      <td>1.0</td>\n      <td>0.002208</td>\n    </tr>\n    <tr>\n      <th>47</th>\n      <td>SCONJ</td>\n      <td>ADV</td>\n      <td>1.0</td>\n      <td>0.002208</td>\n    </tr>\n    <tr>\n      <th>143</th>\n      <td>NOUN</td>\n      <td>NUM</td>\n      <td>1.0</td>\n      <td>0.002208</td>\n    </tr>\n    <tr>\n      <th>222</th>\n      <td>ADP</td>\n      <td>SCONJ</td>\n      <td>1.0</td>\n      <td>0.002208</td>\n    </tr>\n    <tr>\n      <th>41</th>\n      <td>NOUN</td>\n      <td>ADV</td>\n      <td>1.0</td>\n      <td>0.002208</td>\n    </tr>\n    <tr>\n      <th>191</th>\n      <td>CCONJ</td>\n      <td>PROPN</td>\n      <td>1.0</td>\n      <td>0.002208</td>\n    </tr>\n    <tr>\n      <th>210</th>\n      <td>INTJ</td>\n      <td>PUNCT</td>\n      <td>0.0</td>\n      <td>0.000000</td>\n    </tr>\n    <tr>\n      <th>198</th>\n      <td>PROPN</td>\n      <td>PROPN</td>\n      <td>0.0</td>\n      <td>0.000000</td>\n    </tr>\n    <tr>\n      <th>199</th>\n      <td>PUNCT</td>\n      <td>PROPN</td>\n      <td>0.0</td>\n      <td>0.000000</td>\n    </tr>\n    <tr>\n      <th>209</th>\n      <td>DET</td>\n      <td>PUNCT</td>\n      <td>0.0</td>\n      <td>0.000000</td>\n    </tr>\n    <tr>\n      <th>197</th>\n      <td>PRON</td>\n      <td>PROPN</td>\n      <td>0.0</td>\n      <td>0.000000</td>\n    </tr>\n    <tr>\n      <th>200</th>\n      <td>SCONJ</td>\n      <td>PROPN</td>\n      <td>0.0</td>\n      <td>0.000000</td>\n    </tr>\n    <tr>\n      <th>208</th>\n      <td>CCONJ</td>\n      <td>PUNCT</td>\n      <td>0.0</td>\n      <td>0.000000</td>\n    </tr>\n    <tr>\n      <th>204</th>\n      <td>ADJ</td>\n      <td>PUNCT</td>\n      <td>0.0</td>\n      <td>0.000000</td>\n    </tr>\n    <tr>\n      <th>201</th>\n      <td>SYM</td>\n      <td>PROPN</td>\n      <td>0.0</td>\n      <td>0.000000</td>\n    </tr>\n    <tr>\n      <th>206</th>\n      <td>ADV</td>\n      <td>PUNCT</td>\n      <td>0.0</td>\n      <td>0.000000</td>\n    </tr>\n    <tr>\n      <th>202</th>\n      <td>VERB</td>\n      <td>PROPN</td>\n      <td>0.0</td>\n      <td>0.000000</td>\n    </tr>\n    <tr>\n      <th>205</th>\n      <td>ADP</td>\n      <td>PUNCT</td>\n      <td>0.0</td>\n      <td>0.000000</td>\n    </tr>\n    <tr>\n      <th>207</th>\n      <td>AUX</td>\n      <td>PUNCT</td>\n      <td>0.0</td>\n      <td>0.000000</td>\n    </tr>\n    <tr>\n      <th>0</th>\n      <td>ADJ</td>\n      <td>ADJ</td>\n      <td>0.0</td>\n      <td>0.000000</td>\n    </tr>\n    <tr>\n      <th>196</th>\n      <td>PART</td>\n      <td>PROPN</td>\n      <td>0.0</td>\n      <td>0.000000</td>\n    </tr>\n    <tr>\n      <th>195</th>\n      <td>NUM</td>\n      <td>PROPN</td>\n      <td>0.0</td>\n      <td>0.000000</td>\n    </tr>\n    <tr>\n      <th>164</th>\n      <td>PROPN</td>\n      <td>PART</td>\n      <td>0.0</td>\n      <td>0.000000</td>\n    </tr>\n    <tr>\n      <th>165</th>\n      <td>PUNCT</td>\n      <td>PART</td>\n      <td>0.0</td>\n      <td>0.000000</td>\n    </tr>\n    <tr>\n      <th>166</th>\n      <td>SCONJ</td>\n      <td>PART</td>\n      <td>0.0</td>\n      <td>0.000000</td>\n    </tr>\n    <tr>\n      <th>167</th>\n      <td>SYM</td>\n      <td>PART</td>\n      <td>0.0</td>\n      <td>0.000000</td>\n    </tr>\n    <tr>\n      <th>168</th>\n      <td>VERB</td>\n      <td>PART</td>\n      <td>0.0</td>\n      <td>0.000000</td>\n    </tr>\n    <tr>\n      <th>169</th>\n      <td>X</td>\n      <td>PART</td>\n      <td>0.0</td>\n      <td>0.000000</td>\n    </tr>\n    <tr>\n      <th>171</th>\n      <td>ADP</td>\n      <td>PRON</td>\n      <td>0.0</td>\n      <td>0.000000</td>\n    </tr>\n    <tr>\n      <th>173</th>\n      <td>AUX</td>\n      <td>PRON</td>\n      <td>0.0</td>\n      <td>0.000000</td>\n    </tr>\n    <tr>\n      <th>174</th>\n      <td>CCONJ</td>\n      <td>PRON</td>\n      <td>0.0</td>\n      <td>0.000000</td>\n    </tr>\n    <tr>\n      <th>176</th>\n      <td>INTJ</td>\n      <td>PRON</td>\n      <td>0.0</td>\n      <td>0.000000</td>\n    </tr>\n    <tr>\n      <th>177</th>\n      <td>NOUN</td>\n      <td>PRON</td>\n      <td>0.0</td>\n      <td>0.000000</td>\n    </tr>\n    <tr>\n      <th>178</th>\n      <td>NUM</td>\n      <td>PRON</td>\n      <td>0.0</td>\n      <td>0.000000</td>\n    </tr>\n    <tr>\n      <th>179</th>\n      <td>PART</td>\n      <td>PRON</td>\n      <td>0.0</td>\n      <td>0.000000</td>\n    </tr>\n    <tr>\n      <th>180</th>\n      <td>PRON</td>\n      <td>PRON</td>\n      <td>0.0</td>\n      <td>0.000000</td>\n    </tr>\n    <tr>\n      <th>182</th>\n      <td>PUNCT</td>\n      <td>PRON</td>\n      <td>0.0</td>\n      <td>0.000000</td>\n    </tr>\n    <tr>\n      <th>183</th>\n      <td>SCONJ</td>\n      <td>PRON</td>\n      <td>0.0</td>\n      <td>0.000000</td>\n    </tr>\n    <tr>\n      <th>184</th>\n      <td>SYM</td>\n      <td>PRON</td>\n      <td>0.0</td>\n      <td>0.000000</td>\n    </tr>\n    <tr>\n      <th>185</th>\n      <td>VERB</td>\n      <td>PRON</td>\n      <td>0.0</td>\n      <td>0.000000</td>\n    </tr>\n    <tr>\n      <th>186</th>\n      <td>X</td>\n      <td>PRON</td>\n      <td>0.0</td>\n      <td>0.000000</td>\n    </tr>\n    <tr>\n      <th>190</th>\n      <td>AUX</td>\n      <td>PROPN</td>\n      <td>0.0</td>\n      <td>0.000000</td>\n    </tr>\n    <tr>\n      <th>193</th>\n      <td>INTJ</td>\n      <td>PROPN</td>\n      <td>0.0</td>\n      <td>0.000000</td>\n    </tr>\n    <tr>\n      <th>211</th>\n      <td>NOUN</td>\n      <td>PUNCT</td>\n      <td>0.0</td>\n      <td>0.000000</td>\n    </tr>\n    <tr>\n      <th>225</th>\n      <td>CCONJ</td>\n      <td>SCONJ</td>\n      <td>0.0</td>\n      <td>0.000000</td>\n    </tr>\n    <tr>\n      <th>212</th>\n      <td>NUM</td>\n      <td>PUNCT</td>\n      <td>0.0</td>\n      <td>0.000000</td>\n    </tr>\n    <tr>\n      <th>248</th>\n      <td>PRON</td>\n      <td>SYM</td>\n      <td>0.0</td>\n      <td>0.000000</td>\n    </tr>\n    <tr>\n      <th>252</th>\n      <td>SYM</td>\n      <td>SYM</td>\n      <td>0.0</td>\n      <td>0.000000</td>\n    </tr>\n    <tr>\n      <th>253</th>\n      <td>VERB</td>\n      <td>SYM</td>\n      <td>0.0</td>\n      <td>0.000000</td>\n    </tr>\n    <tr>\n      <th>254</th>\n      <td>X</td>\n      <td>SYM</td>\n      <td>0.0</td>\n      <td>0.000000</td>\n    </tr>\n    <tr>\n      <th>256</th>\n      <td>ADP</td>\n      <td>VERB</td>\n      <td>0.0</td>\n      <td>0.000000</td>\n    </tr>\n    <tr>\n      <th>257</th>\n      <td>ADV</td>\n      <td>VERB</td>\n      <td>0.0</td>\n      <td>0.000000</td>\n    </tr>\n    <tr>\n      <th>259</th>\n      <td>CCONJ</td>\n      <td>VERB</td>\n      <td>0.0</td>\n      <td>0.000000</td>\n    </tr>\n    <tr>\n      <th>260</th>\n      <td>DET</td>\n      <td>VERB</td>\n      <td>0.0</td>\n      <td>0.000000</td>\n    </tr>\n    <tr>\n      <th>261</th>\n      <td>INTJ</td>\n      <td>VERB</td>\n      <td>0.0</td>\n      <td>0.000000</td>\n    </tr>\n    <tr>\n      <th>263</th>\n      <td>NUM</td>\n      <td>VERB</td>\n      <td>0.0</td>\n      <td>0.000000</td>\n    </tr>\n    <tr>\n      <th>264</th>\n      <td>PART</td>\n      <td>VERB</td>\n      <td>0.0</td>\n      <td>0.000000</td>\n    </tr>\n    <tr>\n      <th>265</th>\n      <td>PRON</td>\n      <td>VERB</td>\n      <td>0.0</td>\n      <td>0.000000</td>\n    </tr>\n    <tr>\n      <th>267</th>\n      <td>PUNCT</td>\n      <td>VERB</td>\n      <td>0.0</td>\n      <td>0.000000</td>\n    </tr>\n    <tr>\n      <th>268</th>\n      <td>SCONJ</td>\n      <td>VERB</td>\n      <td>0.0</td>\n      <td>0.000000</td>\n    </tr>\n    <tr>\n      <th>269</th>\n      <td>SYM</td>\n      <td>VERB</td>\n      <td>0.0</td>\n      <td>0.000000</td>\n    </tr>\n    <tr>\n      <th>270</th>\n      <td>VERB</td>\n      <td>VERB</td>\n      <td>0.0</td>\n      <td>0.000000</td>\n    </tr>\n    <tr>\n      <th>271</th>\n      <td>X</td>\n      <td>VERB</td>\n      <td>0.0</td>\n      <td>0.000000</td>\n    </tr>\n    <tr>\n      <th>272</th>\n      <td>ADJ</td>\n      <td>X</td>\n      <td>0.0</td>\n      <td>0.000000</td>\n    </tr>\n    <tr>\n      <th>275</th>\n      <td>AUX</td>\n      <td>X</td>\n      <td>0.0</td>\n      <td>0.000000</td>\n    </tr>\n    <tr>\n      <th>276</th>\n      <td>CCONJ</td>\n      <td>X</td>\n      <td>0.0</td>\n      <td>0.000000</td>\n    </tr>\n    <tr>\n      <th>277</th>\n      <td>DET</td>\n      <td>X</td>\n      <td>0.0</td>\n      <td>0.000000</td>\n    </tr>\n    <tr>\n      <th>278</th>\n      <td>INTJ</td>\n      <td>X</td>\n      <td>0.0</td>\n      <td>0.000000</td>\n    </tr>\n    <tr>\n      <th>280</th>\n      <td>NUM</td>\n      <td>X</td>\n      <td>0.0</td>\n      <td>0.000000</td>\n    </tr>\n    <tr>\n      <th>281</th>\n      <td>PART</td>\n      <td>X</td>\n      <td>0.0</td>\n      <td>0.000000</td>\n    </tr>\n    <tr>\n      <th>282</th>\n      <td>PRON</td>\n      <td>X</td>\n      <td>0.0</td>\n      <td>0.000000</td>\n    </tr>\n    <tr>\n      <th>285</th>\n      <td>SCONJ</td>\n      <td>X</td>\n      <td>0.0</td>\n      <td>0.000000</td>\n    </tr>\n    <tr>\n      <th>286</th>\n      <td>SYM</td>\n      <td>X</td>\n      <td>0.0</td>\n      <td>0.000000</td>\n    </tr>\n    <tr>\n      <th>287</th>\n      <td>VERB</td>\n      <td>X</td>\n      <td>0.0</td>\n      <td>0.000000</td>\n    </tr>\n    <tr>\n      <th>251</th>\n      <td>SCONJ</td>\n      <td>SYM</td>\n      <td>0.0</td>\n      <td>0.000000</td>\n    </tr>\n    <tr>\n      <th>247</th>\n      <td>PART</td>\n      <td>SYM</td>\n      <td>0.0</td>\n      <td>0.000000</td>\n    </tr>\n    <tr>\n      <th>213</th>\n      <td>PART</td>\n      <td>PUNCT</td>\n      <td>0.0</td>\n      <td>0.000000</td>\n    </tr>\n    <tr>\n      <th>244</th>\n      <td>INTJ</td>\n      <td>SYM</td>\n      <td>0.0</td>\n      <td>0.000000</td>\n    </tr>\n    <tr>\n      <th>214</th>\n      <td>PRON</td>\n      <td>PUNCT</td>\n      <td>0.0</td>\n      <td>0.000000</td>\n    </tr>\n    <tr>\n      <th>215</th>\n      <td>PROPN</td>\n      <td>PUNCT</td>\n      <td>0.0</td>\n      <td>0.000000</td>\n    </tr>\n    <tr>\n      <th>216</th>\n      <td>PUNCT</td>\n      <td>PUNCT</td>\n      <td>0.0</td>\n      <td>0.000000</td>\n    </tr>\n    <tr>\n      <th>217</th>\n      <td>SCONJ</td>\n      <td>PUNCT</td>\n      <td>0.0</td>\n      <td>0.000000</td>\n    </tr>\n    <tr>\n      <th>218</th>\n      <td>SYM</td>\n      <td>PUNCT</td>\n      <td>0.0</td>\n      <td>0.000000</td>\n    </tr>\n    <tr>\n      <th>219</th>\n      <td>VERB</td>\n      <td>PUNCT</td>\n      <td>0.0</td>\n      <td>0.000000</td>\n    </tr>\n    <tr>\n      <th>220</th>\n      <td>X</td>\n      <td>PUNCT</td>\n      <td>0.0</td>\n      <td>0.000000</td>\n    </tr>\n    <tr>\n      <th>221</th>\n      <td>ADJ</td>\n      <td>SCONJ</td>\n      <td>0.0</td>\n      <td>0.000000</td>\n    </tr>\n    <tr>\n      <th>224</th>\n      <td>AUX</td>\n      <td>SCONJ</td>\n      <td>0.0</td>\n      <td>0.000000</td>\n    </tr>\n    <tr>\n      <th>162</th>\n      <td>PART</td>\n      <td>PART</td>\n      <td>0.0</td>\n      <td>0.000000</td>\n    </tr>\n    <tr>\n      <th>226</th>\n      <td>DET</td>\n      <td>SCONJ</td>\n      <td>0.0</td>\n      <td>0.000000</td>\n    </tr>\n    <tr>\n      <th>227</th>\n      <td>INTJ</td>\n      <td>SCONJ</td>\n      <td>0.0</td>\n      <td>0.000000</td>\n    </tr>\n    <tr>\n      <th>228</th>\n      <td>NOUN</td>\n      <td>SCONJ</td>\n      <td>0.0</td>\n      <td>0.000000</td>\n    </tr>\n    <tr>\n      <th>229</th>\n      <td>NUM</td>\n      <td>SCONJ</td>\n      <td>0.0</td>\n      <td>0.000000</td>\n    </tr>\n    <tr>\n      <th>230</th>\n      <td>PART</td>\n      <td>SCONJ</td>\n      <td>0.0</td>\n      <td>0.000000</td>\n    </tr>\n    <tr>\n      <th>232</th>\n      <td>PROPN</td>\n      <td>SCONJ</td>\n      <td>0.0</td>\n      <td>0.000000</td>\n    </tr>\n    <tr>\n      <th>233</th>\n      <td>PUNCT</td>\n      <td>SCONJ</td>\n      <td>0.0</td>\n      <td>0.000000</td>\n    </tr>\n    <tr>\n      <th>234</th>\n      <td>SCONJ</td>\n      <td>SCONJ</td>\n      <td>0.0</td>\n      <td>0.000000</td>\n    </tr>\n    <tr>\n      <th>235</th>\n      <td>SYM</td>\n      <td>SCONJ</td>\n      <td>0.0</td>\n      <td>0.000000</td>\n    </tr>\n    <tr>\n      <th>236</th>\n      <td>VERB</td>\n      <td>SCONJ</td>\n      <td>0.0</td>\n      <td>0.000000</td>\n    </tr>\n    <tr>\n      <th>237</th>\n      <td>X</td>\n      <td>SCONJ</td>\n      <td>0.0</td>\n      <td>0.000000</td>\n    </tr>\n    <tr>\n      <th>238</th>\n      <td>ADJ</td>\n      <td>SYM</td>\n      <td>0.0</td>\n      <td>0.000000</td>\n    </tr>\n    <tr>\n      <th>239</th>\n      <td>ADP</td>\n      <td>SYM</td>\n      <td>0.0</td>\n      <td>0.000000</td>\n    </tr>\n    <tr>\n      <th>240</th>\n      <td>ADV</td>\n      <td>SYM</td>\n      <td>0.0</td>\n      <td>0.000000</td>\n    </tr>\n    <tr>\n      <th>241</th>\n      <td>AUX</td>\n      <td>SYM</td>\n      <td>0.0</td>\n      <td>0.000000</td>\n    </tr>\n    <tr>\n      <th>242</th>\n      <td>CCONJ</td>\n      <td>SYM</td>\n      <td>0.0</td>\n      <td>0.000000</td>\n    </tr>\n    <tr>\n      <th>243</th>\n      <td>DET</td>\n      <td>SYM</td>\n      <td>0.0</td>\n      <td>0.000000</td>\n    </tr>\n    <tr>\n      <th>163</th>\n      <td>PRON</td>\n      <td>PART</td>\n      <td>0.0</td>\n      <td>0.000000</td>\n    </tr>\n    <tr>\n      <th>144</th>\n      <td>NUM</td>\n      <td>NUM</td>\n      <td>0.0</td>\n      <td>0.000000</td>\n    </tr>\n    <tr>\n      <th>161</th>\n      <td>NUM</td>\n      <td>PART</td>\n      <td>0.0</td>\n      <td>0.000000</td>\n    </tr>\n    <tr>\n      <th>61</th>\n      <td>PRON</td>\n      <td>AUX</td>\n      <td>0.0</td>\n      <td>0.000000</td>\n    </tr>\n    <tr>\n      <th>48</th>\n      <td>SYM</td>\n      <td>ADV</td>\n      <td>0.0</td>\n      <td>0.000000</td>\n    </tr>\n    <tr>\n      <th>49</th>\n      <td>VERB</td>\n      <td>ADV</td>\n      <td>0.0</td>\n      <td>0.000000</td>\n    </tr>\n    <tr>\n      <th>50</th>\n      <td>X</td>\n      <td>ADV</td>\n      <td>0.0</td>\n      <td>0.000000</td>\n    </tr>\n    <tr>\n      <th>51</th>\n      <td>ADJ</td>\n      <td>AUX</td>\n      <td>0.0</td>\n      <td>0.000000</td>\n    </tr>\n    <tr>\n      <th>52</th>\n      <td>ADP</td>\n      <td>AUX</td>\n      <td>0.0</td>\n      <td>0.000000</td>\n    </tr>\n    <tr>\n      <th>53</th>\n      <td>ADV</td>\n      <td>AUX</td>\n      <td>0.0</td>\n      <td>0.000000</td>\n    </tr>\n    <tr>\n      <th>54</th>\n      <td>AUX</td>\n      <td>AUX</td>\n      <td>0.0</td>\n      <td>0.000000</td>\n    </tr>\n    <tr>\n      <th>55</th>\n      <td>CCONJ</td>\n      <td>AUX</td>\n      <td>0.0</td>\n      <td>0.000000</td>\n    </tr>\n    <tr>\n      <th>56</th>\n      <td>DET</td>\n      <td>AUX</td>\n      <td>0.0</td>\n      <td>0.000000</td>\n    </tr>\n    <tr>\n      <th>57</th>\n      <td>INTJ</td>\n      <td>AUX</td>\n      <td>0.0</td>\n      <td>0.000000</td>\n    </tr>\n    <tr>\n      <th>58</th>\n      <td>NOUN</td>\n      <td>AUX</td>\n      <td>0.0</td>\n      <td>0.000000</td>\n    </tr>\n    <tr>\n      <th>59</th>\n      <td>NUM</td>\n      <td>AUX</td>\n      <td>0.0</td>\n      <td>0.000000</td>\n    </tr>\n    <tr>\n      <th>60</th>\n      <td>PART</td>\n      <td>AUX</td>\n      <td>0.0</td>\n      <td>0.000000</td>\n    </tr>\n    <tr>\n      <th>62</th>\n      <td>PROPN</td>\n      <td>AUX</td>\n      <td>0.0</td>\n      <td>0.000000</td>\n    </tr>\n    <tr>\n      <th>45</th>\n      <td>PROPN</td>\n      <td>ADV</td>\n      <td>0.0</td>\n      <td>0.000000</td>\n    </tr>\n    <tr>\n      <th>63</th>\n      <td>PUNCT</td>\n      <td>AUX</td>\n      <td>0.0</td>\n      <td>0.000000</td>\n    </tr>\n    <tr>\n      <th>64</th>\n      <td>SCONJ</td>\n      <td>AUX</td>\n      <td>0.0</td>\n      <td>0.000000</td>\n    </tr>\n    <tr>\n      <th>65</th>\n      <td>SYM</td>\n      <td>AUX</td>\n      <td>0.0</td>\n      <td>0.000000</td>\n    </tr>\n    <tr>\n      <th>67</th>\n      <td>X</td>\n      <td>AUX</td>\n      <td>0.0</td>\n      <td>0.000000</td>\n    </tr>\n    <tr>\n      <th>68</th>\n      <td>ADJ</td>\n      <td>CCONJ</td>\n      <td>0.0</td>\n      <td>0.000000</td>\n    </tr>\n    <tr>\n      <th>69</th>\n      <td>ADP</td>\n      <td>CCONJ</td>\n      <td>0.0</td>\n      <td>0.000000</td>\n    </tr>\n    <tr>\n      <th>70</th>\n      <td>ADV</td>\n      <td>CCONJ</td>\n      <td>0.0</td>\n      <td>0.000000</td>\n    </tr>\n    <tr>\n      <th>71</th>\n      <td>AUX</td>\n      <td>CCONJ</td>\n      <td>0.0</td>\n      <td>0.000000</td>\n    </tr>\n    <tr>\n      <th>72</th>\n      <td>CCONJ</td>\n      <td>CCONJ</td>\n      <td>0.0</td>\n      <td>0.000000</td>\n    </tr>\n    <tr>\n      <th>73</th>\n      <td>DET</td>\n      <td>CCONJ</td>\n      <td>0.0</td>\n      <td>0.000000</td>\n    </tr>\n    <tr>\n      <th>74</th>\n      <td>INTJ</td>\n      <td>CCONJ</td>\n      <td>0.0</td>\n      <td>0.000000</td>\n    </tr>\n    <tr>\n      <th>75</th>\n      <td>NOUN</td>\n      <td>CCONJ</td>\n      <td>0.0</td>\n      <td>0.000000</td>\n    </tr>\n    <tr>\n      <th>76</th>\n      <td>NUM</td>\n      <td>CCONJ</td>\n      <td>0.0</td>\n      <td>0.000000</td>\n    </tr>\n    <tr>\n      <th>46</th>\n      <td>PUNCT</td>\n      <td>ADV</td>\n      <td>0.0</td>\n      <td>0.000000</td>\n    </tr>\n    <tr>\n      <th>43</th>\n      <td>PART</td>\n      <td>ADV</td>\n      <td>0.0</td>\n      <td>0.000000</td>\n    </tr>\n    <tr>\n      <th>78</th>\n      <td>PRON</td>\n      <td>CCONJ</td>\n      <td>0.0</td>\n      <td>0.000000</td>\n    </tr>\n    <tr>\n      <th>21</th>\n      <td>CCONJ</td>\n      <td>ADP</td>\n      <td>0.0</td>\n      <td>0.000000</td>\n    </tr>\n    <tr>\n      <th>3</th>\n      <td>AUX</td>\n      <td>ADJ</td>\n      <td>0.0</td>\n      <td>0.000000</td>\n    </tr>\n    <tr>\n      <th>4</th>\n      <td>CCONJ</td>\n      <td>ADJ</td>\n      <td>0.0</td>\n      <td>0.000000</td>\n    </tr>\n    <tr>\n      <th>6</th>\n      <td>INTJ</td>\n      <td>ADJ</td>\n      <td>0.0</td>\n      <td>0.000000</td>\n    </tr>\n    <tr>\n      <th>8</th>\n      <td>NUM</td>\n      <td>ADJ</td>\n      <td>0.0</td>\n      <td>0.000000</td>\n    </tr>\n    <tr>\n      <th>9</th>\n      <td>PART</td>\n      <td>ADJ</td>\n      <td>0.0</td>\n      <td>0.000000</td>\n    </tr>\n    <tr>\n      <th>10</th>\n      <td>PRON</td>\n      <td>ADJ</td>\n      <td>0.0</td>\n      <td>0.000000</td>\n    </tr>\n    <tr>\n      <th>12</th>\n      <td>PUNCT</td>\n      <td>ADJ</td>\n      <td>0.0</td>\n      <td>0.000000</td>\n    </tr>\n    <tr>\n      <th>13</th>\n      <td>SCONJ</td>\n      <td>ADJ</td>\n      <td>0.0</td>\n      <td>0.000000</td>\n    </tr>\n    <tr>\n      <th>14</th>\n      <td>SYM</td>\n      <td>ADJ</td>\n      <td>0.0</td>\n      <td>0.000000</td>\n    </tr>\n    <tr>\n      <th>16</th>\n      <td>X</td>\n      <td>ADJ</td>\n      <td>0.0</td>\n      <td>0.000000</td>\n    </tr>\n    <tr>\n      <th>17</th>\n      <td>ADJ</td>\n      <td>ADP</td>\n      <td>0.0</td>\n      <td>0.000000</td>\n    </tr>\n    <tr>\n      <th>18</th>\n      <td>ADP</td>\n      <td>ADP</td>\n      <td>0.0</td>\n      <td>0.000000</td>\n    </tr>\n    <tr>\n      <th>20</th>\n      <td>AUX</td>\n      <td>ADP</td>\n      <td>0.0</td>\n      <td>0.000000</td>\n    </tr>\n    <tr>\n      <th>22</th>\n      <td>DET</td>\n      <td>ADP</td>\n      <td>0.0</td>\n      <td>0.000000</td>\n    </tr>\n    <tr>\n      <th>42</th>\n      <td>NUM</td>\n      <td>ADV</td>\n      <td>0.0</td>\n      <td>0.000000</td>\n    </tr>\n    <tr>\n      <th>23</th>\n      <td>INTJ</td>\n      <td>ADP</td>\n      <td>0.0</td>\n      <td>0.000000</td>\n    </tr>\n    <tr>\n      <th>24</th>\n      <td>NOUN</td>\n      <td>ADP</td>\n      <td>0.0</td>\n      <td>0.000000</td>\n    </tr>\n    <tr>\n      <th>25</th>\n      <td>NUM</td>\n      <td>ADP</td>\n      <td>0.0</td>\n      <td>0.000000</td>\n    </tr>\n    <tr>\n      <th>26</th>\n      <td>PART</td>\n      <td>ADP</td>\n      <td>0.0</td>\n      <td>0.000000</td>\n    </tr>\n    <tr>\n      <th>27</th>\n      <td>PRON</td>\n      <td>ADP</td>\n      <td>0.0</td>\n      <td>0.000000</td>\n    </tr>\n    <tr>\n      <th>29</th>\n      <td>PUNCT</td>\n      <td>ADP</td>\n      <td>0.0</td>\n      <td>0.000000</td>\n    </tr>\n    <tr>\n      <th>31</th>\n      <td>SYM</td>\n      <td>ADP</td>\n      <td>0.0</td>\n      <td>0.000000</td>\n    </tr>\n    <tr>\n      <th>32</th>\n      <td>VERB</td>\n      <td>ADP</td>\n      <td>0.0</td>\n      <td>0.000000</td>\n    </tr>\n    <tr>\n      <th>33</th>\n      <td>X</td>\n      <td>ADP</td>\n      <td>0.0</td>\n      <td>0.000000</td>\n    </tr>\n    <tr>\n      <th>36</th>\n      <td>ADV</td>\n      <td>ADV</td>\n      <td>0.0</td>\n      <td>0.000000</td>\n    </tr>\n    <tr>\n      <th>37</th>\n      <td>AUX</td>\n      <td>ADV</td>\n      <td>0.0</td>\n      <td>0.000000</td>\n    </tr>\n    <tr>\n      <th>38</th>\n      <td>CCONJ</td>\n      <td>ADV</td>\n      <td>0.0</td>\n      <td>0.000000</td>\n    </tr>\n    <tr>\n      <th>40</th>\n      <td>INTJ</td>\n      <td>ADV</td>\n      <td>0.0</td>\n      <td>0.000000</td>\n    </tr>\n    <tr>\n      <th>77</th>\n      <td>PART</td>\n      <td>CCONJ</td>\n      <td>0.0</td>\n      <td>0.000000</td>\n    </tr>\n    <tr>\n      <th>80</th>\n      <td>PUNCT</td>\n      <td>CCONJ</td>\n      <td>0.0</td>\n      <td>0.000000</td>\n    </tr>\n    <tr>\n      <th>160</th>\n      <td>NOUN</td>\n      <td>PART</td>\n      <td>0.0</td>\n      <td>0.000000</td>\n    </tr>\n    <tr>\n      <th>142</th>\n      <td>INTJ</td>\n      <td>NUM</td>\n      <td>0.0</td>\n      <td>0.000000</td>\n    </tr>\n    <tr>\n      <th>124</th>\n      <td>DET</td>\n      <td>NOUN</td>\n      <td>0.0</td>\n      <td>0.000000</td>\n    </tr>\n    <tr>\n      <th>125</th>\n      <td>INTJ</td>\n      <td>NOUN</td>\n      <td>0.0</td>\n      <td>0.000000</td>\n    </tr>\n    <tr>\n      <th>126</th>\n      <td>NOUN</td>\n      <td>NOUN</td>\n      <td>0.0</td>\n      <td>0.000000</td>\n    </tr>\n    <tr>\n      <th>128</th>\n      <td>PART</td>\n      <td>NOUN</td>\n      <td>0.0</td>\n      <td>0.000000</td>\n    </tr>\n    <tr>\n      <th>129</th>\n      <td>PRON</td>\n      <td>NOUN</td>\n      <td>0.0</td>\n      <td>0.000000</td>\n    </tr>\n    <tr>\n      <th>131</th>\n      <td>PUNCT</td>\n      <td>NOUN</td>\n      <td>0.0</td>\n      <td>0.000000</td>\n    </tr>\n    <tr>\n      <th>132</th>\n      <td>SCONJ</td>\n      <td>NOUN</td>\n      <td>0.0</td>\n      <td>0.000000</td>\n    </tr>\n    <tr>\n      <th>136</th>\n      <td>ADJ</td>\n      <td>NUM</td>\n      <td>0.0</td>\n      <td>0.000000</td>\n    </tr>\n    <tr>\n      <th>137</th>\n      <td>ADP</td>\n      <td>NUM</td>\n      <td>0.0</td>\n      <td>0.000000</td>\n    </tr>\n    <tr>\n      <th>138</th>\n      <td>ADV</td>\n      <td>NUM</td>\n      <td>0.0</td>\n      <td>0.000000</td>\n    </tr>\n    <tr>\n      <th>139</th>\n      <td>AUX</td>\n      <td>NUM</td>\n      <td>0.0</td>\n      <td>0.000000</td>\n    </tr>\n    <tr>\n      <th>140</th>\n      <td>CCONJ</td>\n      <td>NUM</td>\n      <td>0.0</td>\n      <td>0.000000</td>\n    </tr>\n    <tr>\n      <th>141</th>\n      <td>DET</td>\n      <td>NUM</td>\n      <td>0.0</td>\n      <td>0.000000</td>\n    </tr>\n    <tr>\n      <th>145</th>\n      <td>PART</td>\n      <td>NUM</td>\n      <td>0.0</td>\n      <td>0.000000</td>\n    </tr>\n    <tr>\n      <th>122</th>\n      <td>AUX</td>\n      <td>NOUN</td>\n      <td>0.0</td>\n      <td>0.000000</td>\n    </tr>\n    <tr>\n      <th>146</th>\n      <td>PRON</td>\n      <td>NUM</td>\n      <td>0.0</td>\n      <td>0.000000</td>\n    </tr>\n    <tr>\n      <th>147</th>\n      <td>PROPN</td>\n      <td>NUM</td>\n      <td>0.0</td>\n      <td>0.000000</td>\n    </tr>\n    <tr>\n      <th>148</th>\n      <td>PUNCT</td>\n      <td>NUM</td>\n      <td>0.0</td>\n      <td>0.000000</td>\n    </tr>\n    <tr>\n      <th>149</th>\n      <td>SCONJ</td>\n      <td>NUM</td>\n      <td>0.0</td>\n      <td>0.000000</td>\n    </tr>\n    <tr>\n      <th>151</th>\n      <td>VERB</td>\n      <td>NUM</td>\n      <td>0.0</td>\n      <td>0.000000</td>\n    </tr>\n    <tr>\n      <th>152</th>\n      <td>X</td>\n      <td>NUM</td>\n      <td>0.0</td>\n      <td>0.000000</td>\n    </tr>\n    <tr>\n      <th>153</th>\n      <td>ADJ</td>\n      <td>PART</td>\n      <td>0.0</td>\n      <td>0.000000</td>\n    </tr>\n    <tr>\n      <th>154</th>\n      <td>ADP</td>\n      <td>PART</td>\n      <td>0.0</td>\n      <td>0.000000</td>\n    </tr>\n    <tr>\n      <th>155</th>\n      <td>ADV</td>\n      <td>PART</td>\n      <td>0.0</td>\n      <td>0.000000</td>\n    </tr>\n    <tr>\n      <th>156</th>\n      <td>AUX</td>\n      <td>PART</td>\n      <td>0.0</td>\n      <td>0.000000</td>\n    </tr>\n    <tr>\n      <th>157</th>\n      <td>CCONJ</td>\n      <td>PART</td>\n      <td>0.0</td>\n      <td>0.000000</td>\n    </tr>\n    <tr>\n      <th>158</th>\n      <td>DET</td>\n      <td>PART</td>\n      <td>0.0</td>\n      <td>0.000000</td>\n    </tr>\n    <tr>\n      <th>159</th>\n      <td>INTJ</td>\n      <td>PART</td>\n      <td>0.0</td>\n      <td>0.000000</td>\n    </tr>\n    <tr>\n      <th>123</th>\n      <td>CCONJ</td>\n      <td>NOUN</td>\n      <td>0.0</td>\n      <td>0.000000</td>\n    </tr>\n    <tr>\n      <th>118</th>\n      <td>X</td>\n      <td>INTJ</td>\n      <td>0.0</td>\n      <td>0.000000</td>\n    </tr>\n    <tr>\n      <th>81</th>\n      <td>SCONJ</td>\n      <td>CCONJ</td>\n      <td>0.0</td>\n      <td>0.000000</td>\n    </tr>\n    <tr>\n      <th>101</th>\n      <td>X</td>\n      <td>DET</td>\n      <td>0.0</td>\n      <td>0.000000</td>\n    </tr>\n    <tr>\n      <th>82</th>\n      <td>SYM</td>\n      <td>CCONJ</td>\n      <td>0.0</td>\n      <td>0.000000</td>\n    </tr>\n    <tr>\n      <th>83</th>\n      <td>VERB</td>\n      <td>CCONJ</td>\n      <td>0.0</td>\n      <td>0.000000</td>\n    </tr>\n    <tr>\n      <th>84</th>\n      <td>X</td>\n      <td>CCONJ</td>\n      <td>0.0</td>\n      <td>0.000000</td>\n    </tr>\n    <tr>\n      <th>86</th>\n      <td>ADP</td>\n      <td>DET</td>\n      <td>0.0</td>\n      <td>0.000000</td>\n    </tr>\n    <tr>\n      <th>88</th>\n      <td>AUX</td>\n      <td>DET</td>\n      <td>0.0</td>\n      <td>0.000000</td>\n    </tr>\n    <tr>\n      <th>89</th>\n      <td>CCONJ</td>\n      <td>DET</td>\n      <td>0.0</td>\n      <td>0.000000</td>\n    </tr>\n    <tr>\n      <th>90</th>\n      <td>DET</td>\n      <td>DET</td>\n      <td>0.0</td>\n      <td>0.000000</td>\n    </tr>\n    <tr>\n      <th>91</th>\n      <td>INTJ</td>\n      <td>DET</td>\n      <td>0.0</td>\n      <td>0.000000</td>\n    </tr>\n    <tr>\n      <th>92</th>\n      <td>NOUN</td>\n      <td>DET</td>\n      <td>0.0</td>\n      <td>0.000000</td>\n    </tr>\n    <tr>\n      <th>94</th>\n      <td>PART</td>\n      <td>DET</td>\n      <td>0.0</td>\n      <td>0.000000</td>\n    </tr>\n    <tr>\n      <th>97</th>\n      <td>PUNCT</td>\n      <td>DET</td>\n      <td>0.0</td>\n      <td>0.000000</td>\n    </tr>\n    <tr>\n      <th>98</th>\n      <td>SCONJ</td>\n      <td>DET</td>\n      <td>0.0</td>\n      <td>0.000000</td>\n    </tr>\n    <tr>\n      <th>100</th>\n      <td>VERB</td>\n      <td>DET</td>\n      <td>0.0</td>\n      <td>0.000000</td>\n    </tr>\n    <tr>\n      <th>102</th>\n      <td>ADJ</td>\n      <td>INTJ</td>\n      <td>0.0</td>\n      <td>0.000000</td>\n    </tr>\n    <tr>\n      <th>117</th>\n      <td>VERB</td>\n      <td>INTJ</td>\n      <td>0.0</td>\n      <td>0.000000</td>\n    </tr>\n    <tr>\n      <th>103</th>\n      <td>ADP</td>\n      <td>INTJ</td>\n      <td>0.0</td>\n      <td>0.000000</td>\n    </tr>\n    <tr>\n      <th>104</th>\n      <td>ADV</td>\n      <td>INTJ</td>\n      <td>0.0</td>\n      <td>0.000000</td>\n    </tr>\n    <tr>\n      <th>105</th>\n      <td>AUX</td>\n      <td>INTJ</td>\n      <td>0.0</td>\n      <td>0.000000</td>\n    </tr>\n    <tr>\n      <th>107</th>\n      <td>DET</td>\n      <td>INTJ</td>\n      <td>0.0</td>\n      <td>0.000000</td>\n    </tr>\n    <tr>\n      <th>108</th>\n      <td>INTJ</td>\n      <td>INTJ</td>\n      <td>0.0</td>\n      <td>0.000000</td>\n    </tr>\n    <tr>\n      <th>109</th>\n      <td>NOUN</td>\n      <td>INTJ</td>\n      <td>0.0</td>\n      <td>0.000000</td>\n    </tr>\n    <tr>\n      <th>110</th>\n      <td>NUM</td>\n      <td>INTJ</td>\n      <td>0.0</td>\n      <td>0.000000</td>\n    </tr>\n    <tr>\n      <th>111</th>\n      <td>PART</td>\n      <td>INTJ</td>\n      <td>0.0</td>\n      <td>0.000000</td>\n    </tr>\n    <tr>\n      <th>112</th>\n      <td>PRON</td>\n      <td>INTJ</td>\n      <td>0.0</td>\n      <td>0.000000</td>\n    </tr>\n    <tr>\n      <th>113</th>\n      <td>PROPN</td>\n      <td>INTJ</td>\n      <td>0.0</td>\n      <td>0.000000</td>\n    </tr>\n    <tr>\n      <th>114</th>\n      <td>PUNCT</td>\n      <td>INTJ</td>\n      <td>0.0</td>\n      <td>0.000000</td>\n    </tr>\n    <tr>\n      <th>115</th>\n      <td>SCONJ</td>\n      <td>INTJ</td>\n      <td>0.0</td>\n      <td>0.000000</td>\n    </tr>\n    <tr>\n      <th>116</th>\n      <td>SYM</td>\n      <td>INTJ</td>\n      <td>0.0</td>\n      <td>0.000000</td>\n    </tr>\n    <tr>\n      <th>288</th>\n      <td>X</td>\n      <td>X</td>\n      <td>0.0</td>\n      <td>0.000000</td>\n    </tr>\n  </tbody>\n</table>\n</div>"
     },
     "metadata": {},
     "execution_count": 33
    }
   ],
   "source": [
    "sparse_conf_df = conf_df.reset_index().melt(id_vars=\"index\",var_name=\"actual\",value_name=\"count\").rename(columns={\"index\":\"pred\"})\n",
    "sparse_conf_df[\"percent\"] = sparse_conf_df[\"count\"]/sparse_conf_df[\"count\"].sum()\n",
    "sparse_conf_df = sparse_conf_df.sort_values(by=\"count\",ascending=False);sparse_conf_df"
   ]
  },
  {
   "cell_type": "code",
   "execution_count": 34,
   "metadata": {
    "ExecuteTime": {
     "end_time": "2020-05-19T09:01:22.960177Z",
     "start_time": "2020-05-19T09:01:22.951158Z"
    }
   },
   "outputs": [],
   "source": [
    "sparse_conf_df.to_csv(\"conf_pairs_sup.csv\",index=False)"
   ]
  },
  {
   "cell_type": "code",
   "execution_count": 36,
   "metadata": {
    "ExecuteTime": {
     "end_time": "2020-05-19T09:01:22.969157Z",
     "start_time": "2020-05-19T09:01:22.963158Z"
    }
   },
   "outputs": [
    {
     "output_type": "execute_result",
     "data": {
      "text/plain": "(22938, 453)"
     },
     "metadata": {},
     "execution_count": 36
    }
   ],
   "source": [
    "pa.total_tags, pa.true_tags"
   ]
  },
  {
   "cell_type": "markdown",
   "metadata": {},
   "source": [
    "## Draft"
   ]
  },
  {
   "cell_type": "code",
   "execution_count": 16,
   "metadata": {
    "ExecuteTime": {
     "end_time": "2020-05-19T09:01:22.749159Z",
     "start_time": "2020-05-19T09:01:19.066891Z"
    }
   },
   "outputs": [
    {
     "name": "stdout",
     "output_type": "stream",
     "text": [
      "als\n"
     ]
    },
    {
     "data": {
      "text/plain": [
       "ADP      10\n",
       "SCONJ    1 \n",
       "Name: actual, dtype: int64"
      ]
     },
     "metadata": {},
     "output_type": "display_data"
    },
    {
     "name": "stdout",
     "output_type": "stream",
     "text": [
      "defaultdict(<class 'int'>, {'SCONJ': 27, 'ADP': 59})\n",
      "De\n"
     ]
    },
    {
     "data": {
      "text/plain": [
       "DET      6\n",
       "PROPN    3\n",
       "Name: actual, dtype: int64"
      ]
     },
     "metadata": {},
     "output_type": "display_data"
    },
    {
     "name": "stdout",
     "output_type": "stream",
     "text": [
      "defaultdict(<class 'int'>, {'DET': 253, 'PROPN': 23})\n",
      "was\n"
     ]
    },
    {
     "data": {
      "text/plain": [
       "VERB    6\n",
       "AUX     1\n",
       "Name: actual, dtype: int64"
      ]
     },
     "metadata": {},
     "output_type": "display_data"
    },
    {
     "name": "stdout",
     "output_type": "stream",
     "text": [
      "defaultdict(<class 'int'>, {'AUX': 148, 'VERB': 17})\n",
      "Uitgeverij\n"
     ]
    },
    {
     "data": {
      "text/plain": [
       "PROPN    4\n",
       "NOUN     3\n",
       "Name: actual, dtype: int64"
      ]
     },
     "metadata": {},
     "output_type": "display_data"
    },
    {
     "name": "stdout",
     "output_type": "stream",
     "text": [
      "defaultdict(<class 'int'>, {'PROPN': 6, 'NOUN': 3})\n",
      "-\n"
     ]
    },
    {
     "data": {
      "text/plain": [
       "SYM    6\n",
       "Name: actual, dtype: int64"
      ]
     },
     "metadata": {},
     "output_type": "display_data"
    },
    {
     "name": "stdout",
     "output_type": "stream",
     "text": [
      "defaultdict(<class 'int'>, {'SYM': 35, 'PUNCT': 24})\n",
      "werken\n"
     ]
    },
    {
     "data": {
      "text/plain": [
       "NOUN    6\n",
       "Name: actual, dtype: int64"
      ]
     },
     "metadata": {},
     "output_type": "display_data"
    },
    {
     "name": "stdout",
     "output_type": "stream",
     "text": [
      "defaultdict(<class 'int'>, {'VERB': 7, 'NOUN': 11})\n",
      "eerder\n"
     ]
    },
    {
     "data": {
      "text/plain": [
       "ADJ    6\n",
       "Name: actual, dtype: int64"
      ]
     },
     "metadata": {},
     "output_type": "display_data"
    },
    {
     "name": "stdout",
     "output_type": "stream",
     "text": [
      "defaultdict(<class 'int'>, {'ADJ': 6})\n",
      "is\n"
     ]
    },
    {
     "data": {
      "text/plain": [
       "VERB    6\n",
       "Name: actual, dtype: int64"
      ]
     },
     "metadata": {},
     "output_type": "display_data"
    },
    {
     "name": "stdout",
     "output_type": "stream",
     "text": [
      "defaultdict(<class 'int'>, {'AUX': 150, 'VERB': 13})\n",
      "Vlaams\n"
     ]
    },
    {
     "data": {
      "text/plain": [
       "ADJ    6\n",
       "Name: actual, dtype: int64"
      ]
     },
     "metadata": {},
     "output_type": "display_data"
    },
    {
     "name": "stdout",
     "output_type": "stream",
     "text": [
      "defaultdict(<class 'int'>, {'ADJ': 12, 'PROPN': 30})\n",
      "F1\n"
     ]
    },
    {
     "data": {
      "text/plain": [
       "NOUN    5\n",
       "Name: actual, dtype: int64"
      ]
     },
     "metadata": {},
     "output_type": "display_data"
    },
    {
     "name": "stdout",
     "output_type": "stream",
     "text": [
      "defaultdict(<class 'int'>, {'NOUN': 5})\n",
      "(\n"
     ]
    },
    {
     "data": {
      "text/plain": [
       "SYM    4\n",
       "Name: actual, dtype: int64"
      ]
     },
     "metadata": {},
     "output_type": "display_data"
    },
    {
     "name": "stdout",
     "output_type": "stream",
     "text": [
      "defaultdict(<class 'int'>, {'PUNCT': 186, 'SYM': 4})\n",
      "Kasteel\n"
     ]
    },
    {
     "data": {
      "text/plain": [
       "PROPN    4\n",
       "Name: actual, dtype: int64"
      ]
     },
     "metadata": {},
     "output_type": "display_data"
    },
    {
     "name": "stdout",
     "output_type": "stream",
     "text": [
      "defaultdict(<class 'int'>, {'PROPN': 4})\n",
      ")\n"
     ]
    },
    {
     "data": {
      "text/plain": [
       "SYM    4\n",
       "Name: actual, dtype: int64"
      ]
     },
     "metadata": {},
     "output_type": "display_data"
    },
    {
     "name": "stdout",
     "output_type": "stream",
     "text": [
      "defaultdict(<class 'int'>, {'PUNCT': 186, 'SYM': 4})\n",
      "Italianen\n"
     ]
    },
    {
     "data": {
      "text/plain": [
       "PROPN    4\n",
       "Name: actual, dtype: int64"
      ]
     },
     "metadata": {},
     "output_type": "display_data"
    },
    {
     "name": "stdout",
     "output_type": "stream",
     "text": [
      "defaultdict(<class 'int'>, {'PROPN': 6})\n",
      "Ridder\n"
     ]
    },
    {
     "data": {
      "text/plain": [
       "NOUN    4\n",
       "Name: actual, dtype: int64"
      ]
     },
     "metadata": {},
     "output_type": "display_data"
    },
    {
     "name": "stdout",
     "output_type": "stream",
     "text": [
      "defaultdict(<class 'int'>, {'NOUN': 4, 'PROPN': 1})\n",
      "meer\n"
     ]
    },
    {
     "data": {
      "text/plain": [
       "PRON    2\n",
       "DET     1\n",
       "ADV     1\n",
       "Name: actual, dtype: int64"
      ]
     },
     "metadata": {},
     "output_type": "display_data"
    },
    {
     "name": "stdout",
     "output_type": "stream",
     "text": [
      "defaultdict(<class 'int'>, {'PRON': 16, 'DET': 8, 'ADV': 27})\n",
      "juist\n"
     ]
    },
    {
     "data": {
      "text/plain": [
       "ADJ    4\n",
       "Name: actual, dtype: int64"
      ]
     },
     "metadata": {},
     "output_type": "display_data"
    },
    {
     "name": "stdout",
     "output_type": "stream",
     "text": [
      "defaultdict(<class 'int'>, {'ADJ': 4})\n",
      "WK\n"
     ]
    },
    {
     "data": {
      "text/plain": [
       "PROPN    4\n",
       "Name: actual, dtype: int64"
      ]
     },
     "metadata": {},
     "output_type": "display_data"
    },
    {
     "name": "stdout",
     "output_type": "stream",
     "text": [
      "defaultdict(<class 'int'>, {'PROPN': 6})\n",
      "Rode\n"
     ]
    },
    {
     "data": {
      "text/plain": [
       "ADJ    4\n",
       "Name: actual, dtype: int64"
      ]
     },
     "metadata": {},
     "output_type": "display_data"
    },
    {
     "name": "stdout",
     "output_type": "stream",
     "text": [
      "defaultdict(<class 'int'>, {'ADJ': 4})\n",
      "'t\n"
     ]
    },
    {
     "data": {
      "text/plain": [
       "DET      2\n",
       "PROPN    1\n",
       "Name: actual, dtype: int64"
      ]
     },
     "metadata": {},
     "output_type": "display_data"
    },
    {
     "name": "stdout",
     "output_type": "stream",
     "text": [
      "defaultdict(<class 'int'>, {'PROPN': 8, 'DET': 4})\n",
      "van\n"
     ]
    },
    {
     "data": {
      "text/plain": [
       "ADP    3\n",
       "Name: actual, dtype: int64"
      ]
     },
     "metadata": {},
     "output_type": "display_data"
    },
    {
     "name": "stdout",
     "output_type": "stream",
     "text": [
      "defaultdict(<class 'int'>, {'ADP': 564, 'PROPN': 13})\n",
      "en\n"
     ]
    },
    {
     "data": {
      "text/plain": [
       "CCONJ    2\n",
       "PROPN    1\n",
       "Name: actual, dtype: int64"
      ]
     },
     "metadata": {},
     "output_type": "display_data"
    },
    {
     "name": "stdout",
     "output_type": "stream",
     "text": [
      "defaultdict(<class 'int'>, {'CCONJ': 440, 'PROPN': 24})\n",
      "neer\n"
     ]
    },
    {
     "data": {
      "text/plain": [
       "ADP    3\n",
       "Name: actual, dtype: int64"
      ]
     },
     "metadata": {},
     "output_type": "display_data"
    },
    {
     "name": "stdout",
     "output_type": "stream",
     "text": [
      "defaultdict(<class 'int'>, {'ADP': 3})\n",
      "zijn\n"
     ]
    },
    {
     "data": {
      "text/plain": [
       "AUX    2\n",
       "ADV    1\n",
       "Name: actual, dtype: int64"
      ]
     },
     "metadata": {},
     "output_type": "display_data"
    },
    {
     "name": "stdout",
     "output_type": "stream",
     "text": [
      "defaultdict(<class 'int'>, {'PRON': 165, 'AUX': 58, 'VERB': 3, 'DET': 1, 'ADV': 1})\n",
      "konden\n"
     ]
    },
    {
     "data": {
      "text/plain": [
       "AUX    3\n",
       "Name: actual, dtype: int64"
      ]
     },
     "metadata": {},
     "output_type": "display_data"
    },
    {
     "name": "stdout",
     "output_type": "stream",
     "text": [
      "defaultdict(<class 'int'>, {'AUX': 3})\n",
      "Duitser\n"
     ]
    },
    {
     "data": {
      "text/plain": [
       "PROPN    3\n",
       "Name: actual, dtype: int64"
      ]
     },
     "metadata": {},
     "output_type": "display_data"
    },
    {
     "name": "stdout",
     "output_type": "stream",
     "text": [
      "defaultdict(<class 'int'>, {'PROPN': 3})\n",
      "Rabo's\n"
     ]
    },
    {
     "data": {
      "text/plain": [
       "PROPN    3\n",
       "Name: actual, dtype: int64"
      ]
     },
     "metadata": {},
     "output_type": "display_data"
    },
    {
     "name": "stdout",
     "output_type": "stream",
     "text": [
      "defaultdict(<class 'int'>, {'PROPN': 3})\n",
      "werd\n"
     ]
    },
    {
     "data": {
      "text/plain": [
       "AUX     2\n",
       "VERB    1\n",
       "Name: actual, dtype: int64"
      ]
     },
     "metadata": {},
     "output_type": "display_data"
    },
    {
     "name": "stdout",
     "output_type": "stream",
     "text": [
      "defaultdict(<class 'int'>, {'AUX': 57, 'VERB': 31})\n",
      "Prijs\n"
     ]
    },
    {
     "data": {
      "text/plain": [
       "NOUN    3\n",
       "Name: actual, dtype: int64"
      ]
     },
     "metadata": {},
     "output_type": "display_data"
    },
    {
     "name": "stdout",
     "output_type": "stream",
     "text": [
      "defaultdict(<class 'int'>, {'NOUN': 3})\n",
      "Blauwe\n"
     ]
    },
    {
     "data": {
      "text/plain": [
       "PROPN    2\n",
       "Name: actual, dtype: int64"
      ]
     },
     "metadata": {},
     "output_type": "display_data"
    },
    {
     "name": "stdout",
     "output_type": "stream",
     "text": [
      "defaultdict(<class 'int'>, {'PROPN': 2, 'ADJ': 1})\n",
      "1985-1987\n"
     ]
    },
    {
     "data": {
      "text/plain": [
       "NUM    2\n",
       "Name: actual, dtype: int64"
      ]
     },
     "metadata": {},
     "output_type": "display_data"
    },
    {
     "name": "stdout",
     "output_type": "stream",
     "text": [
      "defaultdict(<class 'int'>, {'NUM': 2})\n",
      "Kunsten\n"
     ]
    },
    {
     "data": {
      "text/plain": [
       "PROPN    1\n",
       "NOUN     1\n",
       "Name: actual, dtype: int64"
      ]
     },
     "metadata": {},
     "output_type": "display_data"
    },
    {
     "name": "stdout",
     "output_type": "stream",
     "text": [
      "defaultdict(<class 'int'>, {'NOUN': 5, 'PROPN': 3})\n",
      ":\n"
     ]
    },
    {
     "data": {
      "text/plain": [
       "SYM    1\n",
       "X      1\n",
       "Name: actual, dtype: int64"
      ]
     },
     "metadata": {},
     "output_type": "display_data"
    },
    {
     "name": "stdout",
     "output_type": "stream",
     "text": [
      "defaultdict(<class 'int'>, {'PUNCT': 99, 'SYM': 1, 'X': 1})\n",
      "1995-...\n"
     ]
    },
    {
     "data": {
      "text/plain": [
       "NUM    2\n",
       "Name: actual, dtype: int64"
      ]
     },
     "metadata": {},
     "output_type": "display_data"
    },
    {
     "name": "stdout",
     "output_type": "stream",
     "text": [
      "defaultdict(<class 'int'>, {'NUM': 2})\n",
      "6\n"
     ]
    },
    {
     "data": {
      "text/plain": [
       "NUM    2\n",
       "Name: actual, dtype: int64"
      ]
     },
     "metadata": {},
     "output_type": "display_data"
    },
    {
     "name": "stdout",
     "output_type": "stream",
     "text": [
      "defaultdict(<class 'int'>, {'NUM': 9})\n",
      "Aureolen\n"
     ]
    },
    {
     "data": {
      "text/plain": [
       "NOUN    2\n",
       "Name: actual, dtype: int64"
      ]
     },
     "metadata": {},
     "output_type": "display_data"
    },
    {
     "name": "stdout",
     "output_type": "stream",
     "text": [
      "defaultdict(<class 'int'>, {'NOUN': 2})\n",
      "Boogerd\n"
     ]
    },
    {
     "data": {
      "text/plain": [
       "PROPN    2\n",
       "Name: actual, dtype: int64"
      ]
     },
     "metadata": {},
     "output_type": "display_data"
    },
    {
     "name": "stdout",
     "output_type": "stream",
     "text": [
      "defaultdict(<class 'int'>, {'PROPN': 8})\n",
      "Zuid-Amerikanen\n"
     ]
    },
    {
     "data": {
      "text/plain": [
       "PROPN    2\n",
       "Name: actual, dtype: int64"
      ]
     },
     "metadata": {},
     "output_type": "display_data"
    },
    {
     "name": "stdout",
     "output_type": "stream",
     "text": [
      "defaultdict(<class 'int'>, {'PROPN': 2})\n",
      "Blok\n"
     ]
    },
    {
     "data": {
      "text/plain": [
       "NOUN    2\n",
       "Name: actual, dtype: int64"
      ]
     },
     "metadata": {},
     "output_type": "display_data"
    },
    {
     "name": "stdout",
     "output_type": "stream",
     "text": [
      "defaultdict(<class 'int'>, {'NOUN': 2, 'PROPN': 12})\n",
      "Jong\n"
     ]
    },
    {
     "data": {
      "text/plain": [
       "PROPN    2\n",
       "Name: actual, dtype: int64"
      ]
     },
     "metadata": {},
     "output_type": "display_data"
    },
    {
     "name": "stdout",
     "output_type": "stream",
     "text": [
      "defaultdict(<class 'int'>, {'PROPN': 2})\n",
      "Bruegel\n"
     ]
    },
    {
     "data": {
      "text/plain": [
       "NOUN    2\n",
       "Name: actual, dtype: int64"
      ]
     },
     "metadata": {},
     "output_type": "display_data"
    },
    {
     "name": "stdout",
     "output_type": "stream",
     "text": [
      "defaultdict(<class 'int'>, {'NOUN': 2})\n",
      "Europese\n"
     ]
    },
    {
     "data": {
      "text/plain": [
       "PROPN    2\n",
       "Name: actual, dtype: int64"
      ]
     },
     "metadata": {},
     "output_type": "display_data"
    },
    {
     "name": "stdout",
     "output_type": "stream",
     "text": [
      "defaultdict(<class 'int'>, {'ADJ': 10, 'PROPN': 2})\n",
      "Salon\n"
     ]
    },
    {
     "data": {
      "text/plain": [
       "NOUN    2\n",
       "Name: actual, dtype: int64"
      ]
     },
     "metadata": {},
     "output_type": "display_data"
    },
    {
     "name": "stdout",
     "output_type": "stream",
     "text": [
      "defaultdict(<class 'int'>, {'NOUN': 2, 'PROPN': 3})\n",
      "dat\n"
     ]
    },
    {
     "data": {
      "text/plain": [
       "SCONJ    1\n",
       "PRON     1\n",
       "Name: actual, dtype: int64"
      ]
     },
     "metadata": {},
     "output_type": "display_data"
    },
    {
     "name": "stdout",
     "output_type": "stream",
     "text": [
      "defaultdict(<class 'int'>, {'SCONJ': 94, 'PRON': 42, 'DET': 9})\n",
      "Topzwemmen\n"
     ]
    },
    {
     "data": {
      "text/plain": [
       "VERB    2\n",
       "Name: actual, dtype: int64"
      ]
     },
     "metadata": {},
     "output_type": "display_data"
    },
    {
     "name": "stdout",
     "output_type": "stream",
     "text": [
      "defaultdict(<class 'int'>, {'VERB': 2})\n",
      "Schreuders\n"
     ]
    },
    {
     "data": {
      "text/plain": [
       "PROPN    2\n",
       "Name: actual, dtype: int64"
      ]
     },
     "metadata": {},
     "output_type": "display_data"
    },
    {
     "name": "stdout",
     "output_type": "stream",
     "text": [
      "defaultdict(<class 'int'>, {'PROPN': 3})\n",
      "voor\n"
     ]
    },
    {
     "data": {
      "text/plain": [
       "PROPN    2\n",
       "Name: actual, dtype: int64"
      ]
     },
     "metadata": {},
     "output_type": "display_data"
    },
    {
     "name": "stdout",
     "output_type": "stream",
     "text": [
      "defaultdict(<class 'int'>, {'ADP': 170, 'PROPN': 3})\n",
      "Schone\n"
     ]
    },
    {
     "data": {
      "text/plain": [
       "ADJ    2\n",
       "Name: actual, dtype: int64"
      ]
     },
     "metadata": {},
     "output_type": "display_data"
    },
    {
     "name": "stdout",
     "output_type": "stream",
     "text": [
      "defaultdict(<class 'int'>, {'ADJ': 5, 'PROPN': 3})\n",
      "2004-...\n"
     ]
    },
    {
     "data": {
      "text/plain": [
       "NUM    2\n",
       "Name: actual, dtype: int64"
      ]
     },
     "metadata": {},
     "output_type": "display_data"
    },
    {
     "name": "stdout",
     "output_type": "stream",
     "text": [
      "defaultdict(<class 'int'>, {'NUM': 2})\n",
      "Juist\n"
     ]
    },
    {
     "data": {
      "text/plain": [
       "ADJ    2\n",
       "Name: actual, dtype: int64"
      ]
     },
     "metadata": {},
     "output_type": "display_data"
    },
    {
     "name": "stdout",
     "output_type": "stream",
     "text": [
      "defaultdict(<class 'int'>, {'ADJ': 2})\n",
      "heeft\n"
     ]
    },
    {
     "data": {
      "text/plain": [
       "VERB    2\n",
       "Name: actual, dtype: int64"
      ]
     },
     "metadata": {},
     "output_type": "display_data"
    },
    {
     "name": "stdout",
     "output_type": "stream",
     "text": [
      "defaultdict(<class 'int'>, {'AUX': 38, 'VERB': 15})\n",
      "Ons\n"
     ]
    },
    {
     "data": {
      "text/plain": [
       "PRON    2\n",
       "Name: actual, dtype: int64"
      ]
     },
     "metadata": {},
     "output_type": "display_data"
    },
    {
     "name": "stdout",
     "output_type": "stream",
     "text": [
      "defaultdict(<class 'int'>, {'PRON': 2})\n",
      "Lotus\n"
     ]
    },
    {
     "data": {
      "text/plain": [
       "PROPN    2\n",
       "Name: actual, dtype: int64"
      ]
     },
     "metadata": {},
     "output_type": "display_data"
    },
    {
     "name": "stdout",
     "output_type": "stream",
     "text": [
      "defaultdict(<class 'int'>, {'PROPN': 2})\n",
      ",\n"
     ]
    },
    {
     "data": {
      "text/plain": [
       "SYM    2\n",
       "Name: actual, dtype: int64"
      ]
     },
     "metadata": {},
     "output_type": "display_data"
    },
    {
     "name": "stdout",
     "output_type": "stream",
     "text": [
      "defaultdict(<class 'int'>, {'PUNCT': 797, 'SYM': 5})\n",
      "geladen\n"
     ]
    },
    {
     "data": {
      "text/plain": [
       "VERB    2\n",
       "Name: actual, dtype: int64"
      ]
     },
     "metadata": {},
     "output_type": "display_data"
    },
    {
     "name": "stdout",
     "output_type": "stream",
     "text": [
      "defaultdict(<class 'int'>, {'VERB': 2})\n",
      "Aidsfonds\n"
     ]
    },
    {
     "data": {
      "text/plain": [
       "NOUN    2\n",
       "Name: actual, dtype: int64"
      ]
     },
     "metadata": {},
     "output_type": "display_data"
    },
    {
     "name": "stdout",
     "output_type": "stream",
     "text": [
      "defaultdict(<class 'int'>, {'NOUN': 2})\n",
      "Dag\n"
     ]
    },
    {
     "data": {
      "text/plain": [
       "NOUN    2\n",
       "Name: actual, dtype: int64"
      ]
     },
     "metadata": {},
     "output_type": "display_data"
    },
    {
     "name": "stdout",
     "output_type": "stream",
     "text": [
      "defaultdict(<class 'int'>, {'NOUN': 3})\n",
      "FARC-rebellen\n"
     ]
    },
    {
     "data": {
      "text/plain": [
       "NOUN    2\n",
       "Name: actual, dtype: int64"
      ]
     },
     "metadata": {},
     "output_type": "display_data"
    },
    {
     "name": "stdout",
     "output_type": "stream",
     "text": [
      "defaultdict(<class 'int'>, {'NOUN': 2})\n",
      "laag\n"
     ]
    },
    {
     "data": {
      "text/plain": [
       "ADJ    2\n",
       "Name: actual, dtype: int64"
      ]
     },
     "metadata": {},
     "output_type": "display_data"
    },
    {
     "name": "stdout",
     "output_type": "stream",
     "text": [
      "defaultdict(<class 'int'>, {'ADJ': 2})\n",
      "Man\n"
     ]
    },
    {
     "data": {
      "text/plain": [
       "PROPN    1\n",
       "X        1\n",
       "Name: actual, dtype: int64"
      ]
     },
     "metadata": {},
     "output_type": "display_data"
    },
    {
     "name": "stdout",
     "output_type": "stream",
     "text": [
      "defaultdict(<class 'int'>, {'X': 1, 'PROPN': 1})\n",
      "geboren\n"
     ]
    },
    {
     "data": {
      "text/plain": [
       "VERB    2\n",
       "Name: actual, dtype: int64"
      ]
     },
     "metadata": {},
     "output_type": "display_data"
    },
    {
     "name": "stdout",
     "output_type": "stream",
     "text": [
      "defaultdict(<class 'int'>, {'VERB': 3})\n",
      "Tits\n"
     ]
    },
    {
     "data": {
      "text/plain": [
       "PROPN    2\n",
       "Name: actual, dtype: int64"
      ]
     },
     "metadata": {},
     "output_type": "display_data"
    },
    {
     "name": "stdout",
     "output_type": "stream",
     "text": [
      "defaultdict(<class 'int'>, {'PROPN': 2})\n",
      "Commissie\n"
     ]
    },
    {
     "data": {
      "text/plain": [
       "PROPN    2\n",
       "Name: actual, dtype: int64"
      ]
     },
     "metadata": {},
     "output_type": "display_data"
    },
    {
     "name": "stdout",
     "output_type": "stream",
     "text": [
      "defaultdict(<class 'int'>, {'PROPN': 2})\n",
      "enige\n"
     ]
    },
    {
     "data": {
      "text/plain": [
       "PRON    2\n",
       "Name: actual, dtype: int64"
      ]
     },
     "metadata": {},
     "output_type": "display_data"
    },
    {
     "name": "stdout",
     "output_type": "stream",
     "text": [
      "defaultdict(<class 'int'>, {'PRON': 5, 'DET': 1})\n",
      "ketters\n"
     ]
    },
    {
     "data": {
      "text/plain": [
       "ADJ    1\n",
       "Name: actual, dtype: int64"
      ]
     },
     "metadata": {},
     "output_type": "display_data"
    },
    {
     "name": "stdout",
     "output_type": "stream",
     "text": [
      "defaultdict(<class 'int'>, {'ADJ': 1})\n",
      "Sirene\n"
     ]
    },
    {
     "data": {
      "text/plain": [
       "NOUN    1\n",
       "Name: actual, dtype: int64"
      ]
     },
     "metadata": {},
     "output_type": "display_data"
    },
    {
     "name": "stdout",
     "output_type": "stream",
     "text": [
      "defaultdict(<class 'int'>, {'NOUN': 1})\n",
      "C\n"
     ]
    },
    {
     "data": {
      "text/plain": [
       "SYM    1\n",
       "Name: actual, dtype: int64"
      ]
     },
     "metadata": {},
     "output_type": "display_data"
    },
    {
     "name": "stdout",
     "output_type": "stream",
     "text": [
      "defaultdict(<class 'int'>, {'SYM': 1})\n",
      "Ensor\n"
     ]
    },
    {
     "data": {
      "text/plain": [
       "X    1\n",
       "Name: actual, dtype: int64"
      ]
     },
     "metadata": {},
     "output_type": "display_data"
    },
    {
     "name": "stdout",
     "output_type": "stream",
     "text": [
      "defaultdict(<class 'int'>, {'PROPN': 56, 'X': 1})\n",
      "t/m\n"
     ]
    },
    {
     "data": {
      "text/plain": [
       "X    1\n",
       "Name: actual, dtype: int64"
      ]
     },
     "metadata": {},
     "output_type": "display_data"
    },
    {
     "name": "stdout",
     "output_type": "stream",
     "text": [
      "defaultdict(<class 'int'>, {'X': 1})\n",
      "beider\n"
     ]
    },
    {
     "data": {
      "text/plain": [
       "DET    1\n",
       "Name: actual, dtype: int64"
      ]
     },
     "metadata": {},
     "output_type": "display_data"
    },
    {
     "name": "stdout",
     "output_type": "stream",
     "text": [
      "defaultdict(<class 'int'>, {'DET': 1})\n",
      "Compassionate\n"
     ]
    },
    {
     "data": {
      "text/plain": [
       "PROPN    1\n",
       "Name: actual, dtype: int64"
      ]
     },
     "metadata": {},
     "output_type": "display_data"
    },
    {
     "name": "stdout",
     "output_type": "stream",
     "text": [
      "defaultdict(<class 'int'>, {'PROPN': 1})\n",
      "Le\n"
     ]
    },
    {
     "data": {
      "text/plain": [
       "X    1\n",
       "Name: actual, dtype: int64"
      ]
     },
     "metadata": {},
     "output_type": "display_data"
    },
    {
     "name": "stdout",
     "output_type": "stream",
     "text": [
      "defaultdict(<class 'int'>, {'PROPN': 3, 'X': 1})\n",
      "ouder\n"
     ]
    },
    {
     "data": {
      "text/plain": [
       "NOUN    1\n",
       "Name: actual, dtype: int64"
      ]
     },
     "metadata": {},
     "output_type": "display_data"
    },
    {
     "name": "stdout",
     "output_type": "stream",
     "text": [
      "defaultdict(<class 'int'>, {'NOUN': 1})\n",
      "weinig\n"
     ]
    },
    {
     "data": {
      "text/plain": [
       "ADV    1\n",
       "Name: actual, dtype: int64"
      ]
     },
     "metadata": {},
     "output_type": "display_data"
    },
    {
     "name": "stdout",
     "output_type": "stream",
     "text": [
      "defaultdict(<class 'int'>, {'ADV': 1, 'PRON': 1})\n",
      "Weltwirtschafsforum\n"
     ]
    },
    {
     "data": {
      "text/plain": [
       "X    1\n",
       "Name: actual, dtype: int64"
      ]
     },
     "metadata": {},
     "output_type": "display_data"
    },
    {
     "name": "stdout",
     "output_type": "stream",
     "text": [
      "defaultdict(<class 'int'>, {'X': 1})\n",
      "Vastentijd\n"
     ]
    },
    {
     "data": {
      "text/plain": [
       "NOUN    1\n",
       "Name: actual, dtype: int64"
      ]
     },
     "metadata": {},
     "output_type": "display_data"
    },
    {
     "name": "stdout",
     "output_type": "stream",
     "text": [
      "defaultdict(<class 'int'>, {'NOUN': 1})\n",
      "Women's\n"
     ]
    },
    {
     "data": {
      "text/plain": [
       "X    1\n",
       "Name: actual, dtype: int64"
      ]
     },
     "metadata": {},
     "output_type": "display_data"
    },
    {
     "name": "stdout",
     "output_type": "stream",
     "text": [
      "defaultdict(<class 'int'>, {'X': 1})\n",
      "WOW\n"
     ]
    },
    {
     "data": {
      "text/plain": [
       "PROPN    1\n",
       "Name: actual, dtype: int64"
      ]
     },
     "metadata": {},
     "output_type": "display_data"
    },
    {
     "name": "stdout",
     "output_type": "stream",
     "text": [
      "defaultdict(<class 'int'>, {'PROPN': 5})\n",
      "Instelling\n"
     ]
    },
    {
     "data": {
      "text/plain": [
       "NOUN    1\n",
       "Name: actual, dtype: int64"
      ]
     },
     "metadata": {},
     "output_type": "display_data"
    },
    {
     "name": "stdout",
     "output_type": "stream",
     "text": [
      "defaultdict(<class 'int'>, {'NOUN': 1})\n",
      "solo\n"
     ]
    },
    {
     "data": {
      "text/plain": [
       "NOUN    1\n",
       "Name: actual, dtype: int64"
      ]
     },
     "metadata": {},
     "output_type": "display_data"
    },
    {
     "name": "stdout",
     "output_type": "stream",
     "text": [
      "defaultdict(<class 'int'>, {'NOUN': 1})\n",
      "Kapoentje\n"
     ]
    },
    {
     "data": {
      "text/plain": [
       "NOUN    1\n",
       "Name: actual, dtype: int64"
      ]
     },
     "metadata": {},
     "output_type": "display_data"
    },
    {
     "name": "stdout",
     "output_type": "stream",
     "text": [
      "defaultdict(<class 'int'>, {'NOUN': 1})\n",
      "BE-VLG\n"
     ]
    },
    {
     "data": {
      "text/plain": [
       "SYM    1\n",
       "Name: actual, dtype: int64"
      ]
     },
     "metadata": {},
     "output_type": "display_data"
    },
    {
     "name": "stdout",
     "output_type": "stream",
     "text": [
      "defaultdict(<class 'int'>, {'SYM': 1})\n",
      "Verdoken\n"
     ]
    },
    {
     "data": {
      "text/plain": [
       "ADJ    1\n",
       "Name: actual, dtype: int64"
      ]
     },
     "metadata": {},
     "output_type": "display_data"
    },
    {
     "name": "stdout",
     "output_type": "stream",
     "text": [
      "defaultdict(<class 'int'>, {'ADJ': 1})\n",
      "gek\n"
     ]
    },
    {
     "data": {
      "text/plain": [
       "NOUN    1\n",
       "Name: actual, dtype: int64"
      ]
     },
     "metadata": {},
     "output_type": "display_data"
    },
    {
     "name": "stdout",
     "output_type": "stream",
     "text": [
      "defaultdict(<class 'int'>, {'NOUN': 1, 'ADJ': 1})\n",
      "ditmaal\n"
     ]
    },
    {
     "data": {
      "text/plain": [
       "ADV    1\n",
       "Name: actual, dtype: int64"
      ]
     },
     "metadata": {},
     "output_type": "display_data"
    },
    {
     "name": "stdout",
     "output_type": "stream",
     "text": [
      "defaultdict(<class 'int'>, {'ADV': 1})\n",
      "Zee\n"
     ]
    },
    {
     "data": {
      "text/plain": [
       "NOUN    1\n",
       "Name: actual, dtype: int64"
      ]
     },
     "metadata": {},
     "output_type": "display_data"
    },
    {
     "name": "stdout",
     "output_type": "stream",
     "text": [
      "defaultdict(<class 'int'>, {'NOUN': 1})\n",
      "getinte\n"
     ]
    },
    {
     "data": {
      "text/plain": [
       "ADJ    1\n",
       "Name: actual, dtype: int64"
      ]
     },
     "metadata": {},
     "output_type": "display_data"
    },
    {
     "name": "stdout",
     "output_type": "stream",
     "text": [
      "defaultdict(<class 'int'>, {'ADJ': 1})\n",
      "treffend\n"
     ]
    },
    {
     "data": {
      "text/plain": [
       "ADJ    1\n",
       "Name: actual, dtype: int64"
      ]
     },
     "metadata": {},
     "output_type": "display_data"
    },
    {
     "name": "stdout",
     "output_type": "stream",
     "text": [
      "defaultdict(<class 'int'>, {'ADJ': 1})\n",
      "Begraafplaats\n"
     ]
    },
    {
     "data": {
      "text/plain": [
       "NOUN    1\n",
       "Name: actual, dtype: int64"
      ]
     },
     "metadata": {},
     "output_type": "display_data"
    },
    {
     "name": "stdout",
     "output_type": "stream",
     "text": [
      "defaultdict(<class 'int'>, {'NOUN': 1})\n",
      "wel\n"
     ]
    },
    {
     "data": {
      "text/plain": [
       "DET    1\n",
       "Name: actual, dtype: int64"
      ]
     },
     "metadata": {},
     "output_type": "display_data"
    },
    {
     "name": "stdout",
     "output_type": "stream",
     "text": [
      "defaultdict(<class 'int'>, {'ADV': 24, 'DET': 1})\n",
      "disputen\n"
     ]
    },
    {
     "data": {
      "text/plain": [
       "NOUN    1\n",
       "Name: actual, dtype: int64"
      ]
     },
     "metadata": {},
     "output_type": "display_data"
    },
    {
     "name": "stdout",
     "output_type": "stream",
     "text": [
      "defaultdict(<class 'int'>, {'NOUN': 1})\n",
      "vingt\n"
     ]
    },
    {
     "data": {
      "text/plain": [
       "PROPN    1\n",
       "Name: actual, dtype: int64"
      ]
     },
     "metadata": {},
     "output_type": "display_data"
    },
    {
     "name": "stdout",
     "output_type": "stream",
     "text": [
      "defaultdict(<class 'int'>, {'PROPN': 2})\n",
      "Klassiek\n"
     ]
    },
    {
     "data": {
      "text/plain": [
       "ADJ    1\n",
       "Name: actual, dtype: int64"
      ]
     },
     "metadata": {},
     "output_type": "display_data"
    },
    {
     "name": "stdout",
     "output_type": "stream",
     "text": [
      "defaultdict(<class 'int'>, {'ADJ': 1})\n",
      "omgekeerd\n"
     ]
    },
    {
     "data": {
      "text/plain": [
       "VERB    1\n",
       "Name: actual, dtype: int64"
      ]
     },
     "metadata": {},
     "output_type": "display_data"
    },
    {
     "name": "stdout",
     "output_type": "stream",
     "text": [
      "defaultdict(<class 'int'>, {'VERB': 1})\n",
      "James\n"
     ]
    },
    {
     "data": {
      "text/plain": [
       "X    1\n",
       "Name: actual, dtype: int64"
      ]
     },
     "metadata": {},
     "output_type": "display_data"
    },
    {
     "name": "stdout",
     "output_type": "stream",
     "text": [
      "defaultdict(<class 'int'>, {'PROPN': 15, 'X': 1})\n",
      "Port\n"
     ]
    },
    {
     "data": {
      "text/plain": [
       "X    1\n",
       "Name: actual, dtype: int64"
      ]
     },
     "metadata": {},
     "output_type": "display_data"
    },
    {
     "name": "stdout",
     "output_type": "stream",
     "text": [
      "defaultdict(<class 'int'>, {'X': 1})\n",
      "Alone\n"
     ]
    },
    {
     "data": {
      "text/plain": [
       "X    1\n",
       "Name: actual, dtype: int64"
      ]
     },
     "metadata": {},
     "output_type": "display_data"
    },
    {
     "name": "stdout",
     "output_type": "stream",
     "text": [
      "defaultdict(<class 'int'>, {'X': 1})\n",
      "Jongeren\n"
     ]
    },
    {
     "data": {
      "text/plain": [
       "ADJ    1\n",
       "Name: actual, dtype: int64"
      ]
     },
     "metadata": {},
     "output_type": "display_data"
    },
    {
     "name": "stdout",
     "output_type": "stream",
     "text": [
      "defaultdict(<class 'int'>, {'ADJ': 1})\n",
      "Handelsschool\n"
     ]
    },
    {
     "data": {
      "text/plain": [
       "NOUN    1\n",
       "Name: actual, dtype: int64"
      ]
     },
     "metadata": {},
     "output_type": "display_data"
    },
    {
     "name": "stdout",
     "output_type": "stream",
     "text": [
      "defaultdict(<class 'int'>, {'NOUN': 1})\n",
      "Onze-Lieve-Vrouwecollege\n"
     ]
    },
    {
     "data": {
      "text/plain": [
       "NOUN    1\n",
       "Name: actual, dtype: int64"
      ]
     },
     "metadata": {},
     "output_type": "display_data"
    },
    {
     "name": "stdout",
     "output_type": "stream",
     "text": [
      "defaultdict(<class 'int'>, {'NOUN': 1})\n",
      "Daags\n"
     ]
    },
    {
     "data": {
      "text/plain": [
       "ADV    1\n",
       "Name: actual, dtype: int64"
      ]
     },
     "metadata": {},
     "output_type": "display_data"
    },
    {
     "name": "stdout",
     "output_type": "stream",
     "text": [
      "defaultdict(<class 'int'>, {'ADV': 1})\n",
      "rem\n"
     ]
    },
    {
     "data": {
      "text/plain": [
       "X    1\n",
       "Name: actual, dtype: int64"
      ]
     },
     "metadata": {},
     "output_type": "display_data"
    },
    {
     "name": "stdout",
     "output_type": "stream",
     "text": [
      "defaultdict(<class 'int'>, {'X': 1})\n",
      "gaandeweg\n"
     ]
    },
    {
     "data": {
      "text/plain": [
       "ADV    1\n",
       "Name: actual, dtype: int64"
      ]
     },
     "metadata": {},
     "output_type": "display_data"
    },
    {
     "name": "stdout",
     "output_type": "stream",
     "text": [
      "defaultdict(<class 'int'>, {'ADV': 1})\n",
      "science-fiction\n"
     ]
    },
    {
     "data": {
      "text/plain": [
       "NOUN    1\n",
       "Name: actual, dtype: int64"
      ]
     },
     "metadata": {},
     "output_type": "display_data"
    },
    {
     "name": "stdout",
     "output_type": "stream",
     "text": [
      "defaultdict(<class 'int'>, {'NOUN': 1})\n",
      "Tournament\n"
     ]
    },
    {
     "data": {
      "text/plain": [
       "X    1\n",
       "Name: actual, dtype: int64"
      ]
     },
     "metadata": {},
     "output_type": "display_data"
    },
    {
     "name": "stdout",
     "output_type": "stream",
     "text": [
      "defaultdict(<class 'int'>, {'X': 1})\n",
      "wordt\n"
     ]
    },
    {
     "data": {
      "text/plain": [
       "VERB    1\n",
       "Name: actual, dtype: int64"
      ]
     },
     "metadata": {},
     "output_type": "display_data"
    },
    {
     "name": "stdout",
     "output_type": "stream",
     "text": [
      "defaultdict(<class 'int'>, {'VERB': 6, 'AUX': 21})\n",
      "steekhoudende\n"
     ]
    },
    {
     "data": {
      "text/plain": [
       "VERB    1\n",
       "Name: actual, dtype: int64"
      ]
     },
     "metadata": {},
     "output_type": "display_data"
    },
    {
     "name": "stdout",
     "output_type": "stream",
     "text": [
      "defaultdict(<class 'int'>, {'VERB': 1})\n",
      "grotendeels\n"
     ]
    },
    {
     "data": {
      "text/plain": [
       "ADV    1\n",
       "Name: actual, dtype: int64"
      ]
     },
     "metadata": {},
     "output_type": "display_data"
    },
    {
     "name": "stdout",
     "output_type": "stream",
     "text": [
      "defaultdict(<class 'int'>, {'ADV': 1})\n",
      "Biggles\n"
     ]
    },
    {
     "data": {
      "text/plain": [
       "PROPN    1\n",
       "Name: actual, dtype: int64"
      ]
     },
     "metadata": {},
     "output_type": "display_data"
    },
    {
     "name": "stdout",
     "output_type": "stream",
     "text": [
      "defaultdict(<class 'int'>, {'PROPN': 2})\n",
      "Conservatism\n"
     ]
    },
    {
     "data": {
      "text/plain": [
       "PROPN    1\n",
       "Name: actual, dtype: int64"
      ]
     },
     "metadata": {},
     "output_type": "display_data"
    },
    {
     "name": "stdout",
     "output_type": "stream",
     "text": [
      "defaultdict(<class 'int'>, {'PROPN': 1})\n",
      "Troef\n"
     ]
    },
    {
     "data": {
      "text/plain": [
       "NOUN    1\n",
       "Name: actual, dtype: int64"
      ]
     },
     "metadata": {},
     "output_type": "display_data"
    },
    {
     "name": "stdout",
     "output_type": "stream",
     "text": [
      "defaultdict(<class 'int'>, {'NOUN': 1})\n",
      "bent\n"
     ]
    },
    {
     "data": {
      "text/plain": [
       "VERB    1\n",
       "Name: actual, dtype: int64"
      ]
     },
     "metadata": {},
     "output_type": "display_data"
    },
    {
     "name": "stdout",
     "output_type": "stream",
     "text": [
      "defaultdict(<class 'int'>, {'VERB': 2})\n",
      "Chinees\n"
     ]
    },
    {
     "data": {
      "text/plain": [
       "PROPN    1\n",
       "Name: actual, dtype: int64"
      ]
     },
     "metadata": {},
     "output_type": "display_data"
    },
    {
     "name": "stdout",
     "output_type": "stream",
     "text": [
      "defaultdict(<class 'int'>, {'PROPN': 1})\n",
      "Lurling\n"
     ]
    },
    {
     "data": {
      "text/plain": [
       "PROPN    1\n",
       "Name: actual, dtype: int64"
      ]
     },
     "metadata": {},
     "output_type": "display_data"
    },
    {
     "name": "stdout",
     "output_type": "stream",
     "text": [
      "defaultdict(<class 'int'>, {'PROPN': 1})\n",
      "Bovenaan\n"
     ]
    },
    {
     "data": {
      "text/plain": [
       "ADV    1\n",
       "Name: actual, dtype: int64"
      ]
     },
     "metadata": {},
     "output_type": "display_data"
    },
    {
     "name": "stdout",
     "output_type": "stream",
     "text": [
      "defaultdict(<class 'int'>, {'ADV': 1})\n",
      "eerde\n"
     ]
    },
    {
     "data": {
      "text/plain": [
       "ADJ    1\n",
       "Name: actual, dtype: int64"
      ]
     },
     "metadata": {},
     "output_type": "display_data"
    },
    {
     "name": "stdout",
     "output_type": "stream",
     "text": [
      "defaultdict(<class 'int'>, {'ADJ': 1})\n",
      "lijden\n"
     ]
    },
    {
     "data": {
      "text/plain": [
       "VERB    1\n",
       "Name: actual, dtype: int64"
      ]
     },
     "metadata": {},
     "output_type": "display_data"
    },
    {
     "name": "stdout",
     "output_type": "stream",
     "text": [
      "defaultdict(<class 'int'>, {'VERB': 1})\n",
      "het\n"
     ]
    },
    {
     "data": {
      "text/plain": [
       "DET    1\n",
       "Name: actual, dtype: int64"
      ]
     },
     "metadata": {},
     "output_type": "display_data"
    },
    {
     "name": "stdout",
     "output_type": "stream",
     "text": [
      "defaultdict(<class 'int'>, {'DET': 464, 'PRON': 54})\n",
      "Actie\n"
     ]
    },
    {
     "data": {
      "text/plain": [
       "NOUN    1\n",
       "Name: actual, dtype: int64"
      ]
     },
     "metadata": {},
     "output_type": "display_data"
    },
    {
     "name": "stdout",
     "output_type": "stream",
     "text": [
      "defaultdict(<class 'int'>, {'NOUN': 1})\n",
      "Ondanks\n"
     ]
    },
    {
     "data": {
      "text/plain": [
       "ADP    1\n",
       "Name: actual, dtype: int64"
      ]
     },
     "metadata": {},
     "output_type": "display_data"
    },
    {
     "name": "stdout",
     "output_type": "stream",
     "text": [
      "defaultdict(<class 'int'>, {'ADP': 2})\n",
      "vrijwel\n"
     ]
    },
    {
     "data": {
      "text/plain": [
       "ADV    1\n",
       "Name: actual, dtype: int64"
      ]
     },
     "metadata": {},
     "output_type": "display_data"
    },
    {
     "name": "stdout",
     "output_type": "stream",
     "text": [
      "defaultdict(<class 'int'>, {'ADV': 1})\n",
      "eerst\n"
     ]
    },
    {
     "data": {
      "text/plain": [
       "ADJ    1\n",
       "Name: actual, dtype: int64"
      ]
     },
     "metadata": {},
     "output_type": "display_data"
    },
    {
     "name": "stdout",
     "output_type": "stream",
     "text": [
      "defaultdict(<class 'int'>, {'ADJ': 14, 'ADV': 5})\n",
      "geslaagd\n"
     ]
    },
    {
     "data": {
      "text/plain": [
       "VERB    1\n",
       "Name: actual, dtype: int64"
      ]
     },
     "metadata": {},
     "output_type": "display_data"
    },
    {
     "name": "stdout",
     "output_type": "stream",
     "text": [
      "defaultdict(<class 'int'>, {'VERB': 2})\n",
      "Gekruisigde\n"
     ]
    },
    {
     "data": {
      "text/plain": [
       "VERB    1\n",
       "Name: actual, dtype: int64"
      ]
     },
     "metadata": {},
     "output_type": "display_data"
    },
    {
     "name": "stdout",
     "output_type": "stream",
     "text": [
      "defaultdict(<class 'int'>, {'VERB': 1})\n",
      "Moderne\n"
     ]
    },
    {
     "data": {
      "text/plain": [
       "X    1\n",
       "Name: actual, dtype: int64"
      ]
     },
     "metadata": {},
     "output_type": "display_data"
    },
    {
     "name": "stdout",
     "output_type": "stream",
     "text": [
      "defaultdict(<class 'int'>, {'X': 1})\n",
      "Olie\n"
     ]
    },
    {
     "data": {
      "text/plain": [
       "NOUN    1\n",
       "Name: actual, dtype: int64"
      ]
     },
     "metadata": {},
     "output_type": "display_data"
    },
    {
     "name": "stdout",
     "output_type": "stream",
     "text": [
      "defaultdict(<class 'int'>, {'NOUN': 1})\n",
      "nu\n"
     ]
    },
    {
     "data": {
      "text/plain": [
       "SCONJ    1\n",
       "Name: actual, dtype: int64"
      ]
     },
     "metadata": {},
     "output_type": "display_data"
    },
    {
     "name": "stdout",
     "output_type": "stream",
     "text": [
      "defaultdict(<class 'int'>, {'ADV': 24, 'SCONJ': 1})\n",
      "World\n"
     ]
    },
    {
     "data": {
      "text/plain": [
       "X    1\n",
       "Name: actual, dtype: int64"
      ]
     },
     "metadata": {},
     "output_type": "display_data"
    },
    {
     "name": "stdout",
     "output_type": "stream",
     "text": [
      "defaultdict(<class 'int'>, {'PROPN': 7, 'X': 1})\n",
      "Zuid\n"
     ]
    },
    {
     "data": {
      "text/plain": [
       "PROPN    1\n",
       "Name: actual, dtype: int64"
      ]
     },
     "metadata": {},
     "output_type": "display_data"
    },
    {
     "name": "stdout",
     "output_type": "stream",
     "text": [
      "defaultdict(<class 'int'>, {'PROPN': 1})\n",
      "!\n"
     ]
    },
    {
     "data": {
      "text/plain": [
       "SYM    1\n",
       "Name: actual, dtype: int64"
      ]
     },
     "metadata": {},
     "output_type": "display_data"
    },
    {
     "name": "stdout",
     "output_type": "stream",
     "text": [
      "defaultdict(<class 'int'>, {'PUNCT': 4, 'SYM': 1, 'PROPN': 1})\n",
      "dezelfde\n"
     ]
    },
    {
     "data": {
      "text/plain": [
       "DET    1\n",
       "Name: actual, dtype: int64"
      ]
     },
     "metadata": {},
     "output_type": "display_data"
    },
    {
     "name": "stdout",
     "output_type": "stream",
     "text": [
      "defaultdict(<class 'int'>, {'ADJ': 1, 'DET': 2})\n",
      "Heilig\n"
     ]
    },
    {
     "data": {
      "text/plain": [
       "PROPN    1\n",
       "Name: actual, dtype: int64"
      ]
     },
     "metadata": {},
     "output_type": "display_data"
    },
    {
     "name": "stdout",
     "output_type": "stream",
     "text": [
      "defaultdict(<class 'int'>, {'PROPN': 2})\n",
      "little\n"
     ]
    },
    {
     "data": {
      "text/plain": [
       "X    1\n",
       "Name: actual, dtype: int64"
      ]
     },
     "metadata": {},
     "output_type": "display_data"
    },
    {
     "name": "stdout",
     "output_type": "stream",
     "text": [
      "defaultdict(<class 'int'>, {'X': 1})\n",
      "doctrinaires\n"
     ]
    },
    {
     "data": {
      "text/plain": [
       "PROPN    1\n",
       "Name: actual, dtype: int64"
      ]
     },
     "metadata": {},
     "output_type": "display_data"
    },
    {
     "name": "stdout",
     "output_type": "stream",
     "text": [
      "defaultdict(<class 'int'>, {'PROPN': 1})\n",
      "naast\n"
     ]
    },
    {
     "data": {
      "text/plain": [
       "ADJ    1\n",
       "Name: actual, dtype: int64"
      ]
     },
     "metadata": {},
     "output_type": "display_data"
    },
    {
     "name": "stdout",
     "output_type": "stream",
     "text": [
      "defaultdict(<class 'int'>, {'ADP': 2, 'ADJ': 1})\n",
      "CD&V/N-VA\n"
     ]
    },
    {
     "data": {
      "text/plain": [
       "SYM    1\n",
       "Name: actual, dtype: int64"
      ]
     },
     "metadata": {},
     "output_type": "display_data"
    },
    {
     "name": "stdout",
     "output_type": "stream",
     "text": [
      "defaultdict(<class 'int'>, {'SYM': 1})\n",
      "TriÃ«nnale\n"
     ]
    },
    {
     "data": {
      "text/plain": [
       "ADJ    1\n",
       "Name: actual, dtype: int64"
      ]
     },
     "metadata": {},
     "output_type": "display_data"
    },
    {
     "name": "stdout",
     "output_type": "stream",
     "text": [
      "defaultdict(<class 'int'>, {'ADJ': 1, 'PROPN': 1})\n",
      "morte\n"
     ]
    },
    {
     "data": {
      "text/plain": [
       "X    1\n",
       "Name: actual, dtype: int64"
      ]
     },
     "metadata": {},
     "output_type": "display_data"
    },
    {
     "name": "stdout",
     "output_type": "stream",
     "text": [
      "defaultdict(<class 'int'>, {'X': 1})\n",
      "Les\n"
     ]
    },
    {
     "data": {
      "text/plain": [
       "PROPN    1\n",
       "Name: actual, dtype: int64"
      ]
     },
     "metadata": {},
     "output_type": "display_data"
    },
    {
     "name": "stdout",
     "output_type": "stream",
     "text": [
      "defaultdict(<class 'int'>, {'X': 1, 'PROPN': 6})\n",
      "optreden\n"
     ]
    },
    {
     "data": {
      "text/plain": [
       "NOUN    1\n",
       "Name: actual, dtype: int64"
      ]
     },
     "metadata": {},
     "output_type": "display_data"
    },
    {
     "name": "stdout",
     "output_type": "stream",
     "text": [
      "defaultdict(<class 'int'>, {'NOUN': 2, 'VERB': 1})\n",
      "Paintings/1875-1902/1902-1941\n"
     ]
    },
    {
     "data": {
      "text/plain": [
       "X    1\n",
       "Name: actual, dtype: int64"
      ]
     },
     "metadata": {},
     "output_type": "display_data"
    },
    {
     "name": "stdout",
     "output_type": "stream",
     "text": [
      "defaultdict(<class 'int'>, {'X': 1})\n",
      "Warners\n"
     ]
    },
    {
     "data": {
      "text/plain": [
       "PROPN    1\n",
       "Name: actual, dtype: int64"
      ]
     },
     "metadata": {},
     "output_type": "display_data"
    },
    {
     "name": "stdout",
     "output_type": "stream",
     "text": [
      "defaultdict(<class 'int'>, {'PROPN': 3})\n",
      "Calvarie\n"
     ]
    },
    {
     "data": {
      "text/plain": [
       "NOUN    1\n",
       "Name: actual, dtype: int64"
      ]
     },
     "metadata": {},
     "output_type": "display_data"
    },
    {
     "name": "stdout",
     "output_type": "stream",
     "text": [
      "defaultdict(<class 'int'>, {'NOUN': 1})\n",
      "mÃ©Ã©r\n"
     ]
    },
    {
     "data": {
      "text/plain": [
       "DET    1\n",
       "Name: actual, dtype: int64"
      ]
     },
     "metadata": {},
     "output_type": "display_data"
    },
    {
     "name": "stdout",
     "output_type": "stream",
     "text": [
      "defaultdict(<class 'int'>, {'DET': 1})\n",
      "tuendam\n"
     ]
    },
    {
     "data": {
      "text/plain": [
       "PROPN    1\n",
       "Name: actual, dtype: int64"
      ]
     },
     "metadata": {},
     "output_type": "display_data"
    },
    {
     "name": "stdout",
     "output_type": "stream",
     "text": [
      "defaultdict(<class 'int'>, {'PROPN': 1})\n",
      "verwaande\n"
     ]
    },
    {
     "data": {
      "text/plain": [
       "ADJ    1\n",
       "Name: actual, dtype: int64"
      ]
     },
     "metadata": {},
     "output_type": "display_data"
    },
    {
     "name": "stdout",
     "output_type": "stream",
     "text": [
      "defaultdict(<class 'int'>, {'ADJ': 1})\n",
      "Een\n"
     ]
    },
    {
     "data": {
      "text/plain": [
       "DET    1\n",
       "Name: actual, dtype: int64"
      ]
     },
     "metadata": {},
     "output_type": "display_data"
    },
    {
     "name": "stdout",
     "output_type": "stream",
     "text": [
      "defaultdict(<class 'int'>, {'DET': 23})\n",
      "Stille\n"
     ]
    },
    {
     "data": {
      "text/plain": [
       "ADJ    1\n",
       "Name: actual, dtype: int64"
      ]
     },
     "metadata": {},
     "output_type": "display_data"
    },
    {
     "name": "stdout",
     "output_type": "stream",
     "text": [
      "defaultdict(<class 'int'>, {'ADJ': 1})\n",
      "Midden-\n"
     ]
    },
    {
     "data": {
      "text/plain": [
       "X    1\n",
       "Name: actual, dtype: int64"
      ]
     },
     "metadata": {},
     "output_type": "display_data"
    },
    {
     "name": "stdout",
     "output_type": "stream",
     "text": [
      "defaultdict(<class 'int'>, {'X': 1})\n",
      "Nature\n"
     ]
    },
    {
     "data": {
      "text/plain": [
       "X    1\n",
       "Name: actual, dtype: int64"
      ]
     },
     "metadata": {},
     "output_type": "display_data"
    },
    {
     "name": "stdout",
     "output_type": "stream",
     "text": [
      "defaultdict(<class 'int'>, {'X': 1})\n",
      "Dietsche\n"
     ]
    },
    {
     "data": {
      "text/plain": [
       "ADJ    1\n",
       "Name: actual, dtype: int64"
      ]
     },
     "metadata": {},
     "output_type": "display_data"
    },
    {
     "name": "stdout",
     "output_type": "stream",
     "text": [
      "defaultdict(<class 'int'>, {'ADJ': 2})\n",
      "26%\n"
     ]
    },
    {
     "data": {
      "text/plain": [
       "DET    1\n",
       "Name: actual, dtype: int64"
      ]
     },
     "metadata": {},
     "output_type": "display_data"
    },
    {
     "name": "stdout",
     "output_type": "stream",
     "text": [
      "defaultdict(<class 'int'>, {'DET': 1})\n",
      "dominante\n"
     ]
    },
    {
     "data": {
      "text/plain": [
       "ADJ    1\n",
       "Name: actual, dtype: int64"
      ]
     },
     "metadata": {},
     "output_type": "display_data"
    },
    {
     "name": "stdout",
     "output_type": "stream",
     "text": [
      "defaultdict(<class 'int'>, {'ADJ': 1})\n",
      "Aswoensdag\n"
     ]
    },
    {
     "data": {
      "text/plain": [
       "PROPN    1\n",
       "Name: actual, dtype: int64"
      ]
     },
     "metadata": {},
     "output_type": "display_data"
    },
    {
     "name": "stdout",
     "output_type": "stream",
     "text": [
      "defaultdict(<class 'int'>, {'PROPN': 7})\n",
      "Goorbergh-tribune\n"
     ]
    },
    {
     "data": {
      "text/plain": [
       "NOUN    1\n",
       "Name: actual, dtype: int64"
      ]
     },
     "metadata": {},
     "output_type": "display_data"
    },
    {
     "name": "stdout",
     "output_type": "stream",
     "text": [
      "defaultdict(<class 'int'>, {'NOUN': 1})\n",
      "geringschattende\n"
     ]
    },
    {
     "data": {
      "text/plain": [
       "VERB    1\n",
       "Name: actual, dtype: int64"
      ]
     },
     "metadata": {},
     "output_type": "display_data"
    },
    {
     "name": "stdout",
     "output_type": "stream",
     "text": [
      "defaultdict(<class 'int'>, {'VERB': 1})\n",
      "opvallendste\n"
     ]
    },
    {
     "data": {
      "text/plain": [
       "ADJ    1\n",
       "Name: actual, dtype: int64"
      ]
     },
     "metadata": {},
     "output_type": "display_data"
    },
    {
     "name": "stdout",
     "output_type": "stream",
     "text": [
      "defaultdict(<class 'int'>, {'ADJ': 1})\n",
      "Chet\n"
     ]
    },
    {
     "data": {
      "text/plain": [
       "X    1\n",
       "Name: actual, dtype: int64"
      ]
     },
     "metadata": {},
     "output_type": "display_data"
    },
    {
     "name": "stdout",
     "output_type": "stream",
     "text": [
      "defaultdict(<class 'int'>, {'PROPN': 2, 'X': 1})\n",
      "B-landen\n"
     ]
    },
    {
     "data": {
      "text/plain": [
       "PROPN    1\n",
       "Name: actual, dtype: int64"
      ]
     },
     "metadata": {},
     "output_type": "display_data"
    },
    {
     "name": "stdout",
     "output_type": "stream",
     "text": [
      "defaultdict(<class 'int'>, {'PROPN': 1})\n",
      "pompeuze\n"
     ]
    },
    {
     "data": {
      "text/plain": [
       "ADJ    1\n",
       "Name: actual, dtype: int64"
      ]
     },
     "metadata": {},
     "output_type": "display_data"
    },
    {
     "name": "stdout",
     "output_type": "stream",
     "text": [
      "defaultdict(<class 'int'>, {'ADJ': 1})\n",
      "1988-1995\n"
     ]
    },
    {
     "data": {
      "text/plain": [
       "NUM    1\n",
       "Name: actual, dtype: int64"
      ]
     },
     "metadata": {},
     "output_type": "display_data"
    },
    {
     "name": "stdout",
     "output_type": "stream",
     "text": [
      "defaultdict(<class 'int'>, {'NUM': 1})\n",
      "A\n"
     ]
    },
    {
     "data": {
      "text/plain": [
       "X    1\n",
       "Name: actual, dtype: int64"
      ]
     },
     "metadata": {},
     "output_type": "display_data"
    },
    {
     "name": "stdout",
     "output_type": "stream",
     "text": [
      "defaultdict(<class 'int'>, {'X': 1})\n",
      "Now\n"
     ]
    },
    {
     "data": {
      "text/plain": [
       "X    1\n",
       "Name: actual, dtype: int64"
      ]
     },
     "metadata": {},
     "output_type": "display_data"
    },
    {
     "name": "stdout",
     "output_type": "stream",
     "text": [
      "defaultdict(<class 'int'>, {'X': 1})\n",
      "Bestuursdienst\n"
     ]
    },
    {
     "data": {
      "text/plain": [
       "NOUN    1\n",
       "Name: actual, dtype: int64"
      ]
     },
     "metadata": {},
     "output_type": "display_data"
    },
    {
     "name": "stdout",
     "output_type": "stream",
     "text": [
      "defaultdict(<class 'int'>, {'NOUN': 1})\n",
      "dramatiek\n"
     ]
    },
    {
     "data": {
      "text/plain": [
       "NOUN    1\n",
       "Name: actual, dtype: int64"
      ]
     },
     "metadata": {},
     "output_type": "display_data"
    },
    {
     "name": "stdout",
     "output_type": "stream",
     "text": [
      "defaultdict(<class 'int'>, {'NOUN': 1})\n",
      "Concilie\n"
     ]
    },
    {
     "data": {
      "text/plain": [
       "NOUN    1\n",
       "Name: actual, dtype: int64"
      ]
     },
     "metadata": {},
     "output_type": "display_data"
    },
    {
     "name": "stdout",
     "output_type": "stream",
     "text": [
      "defaultdict(<class 'int'>, {'NOUN': 1})\n",
      "verbeten\n"
     ]
    },
    {
     "data": {
      "text/plain": [
       "ADJ    1\n",
       "Name: actual, dtype: int64"
      ]
     },
     "metadata": {},
     "output_type": "display_data"
    },
    {
     "name": "stdout",
     "output_type": "stream",
     "text": [
      "defaultdict(<class 'int'>, {'ADJ': 1})\n",
      "Susie\n"
     ]
    },
    {
     "data": {
      "text/plain": [
       "X    1\n",
       "Name: actual, dtype: int64"
      ]
     },
     "metadata": {},
     "output_type": "display_data"
    },
    {
     "name": "stdout",
     "output_type": "stream",
     "text": [
      "defaultdict(<class 'int'>, {'X': 1})\n",
      "GeÃ«rgerde\n"
     ]
    },
    {
     "data": {
      "text/plain": [
       "VERB    1\n",
       "Name: actual, dtype: int64"
      ]
     },
     "metadata": {},
     "output_type": "display_data"
    },
    {
     "name": "stdout",
     "output_type": "stream",
     "text": [
      "defaultdict(<class 'int'>, {'VERB': 1})\n",
      "Catalogue\n"
     ]
    },
    {
     "data": {
      "text/plain": [
       "X    1\n",
       "Name: actual, dtype: int64"
      ]
     },
     "metadata": {},
     "output_type": "display_data"
    },
    {
     "name": "stdout",
     "output_type": "stream",
     "text": [
      "defaultdict(<class 'int'>, {'X': 1})\n",
      "Project\n"
     ]
    },
    {
     "data": {
      "text/plain": [
       "NOUN    1\n",
       "Name: actual, dtype: int64"
      ]
     },
     "metadata": {},
     "output_type": "display_data"
    },
    {
     "name": "stdout",
     "output_type": "stream",
     "text": [
      "defaultdict(<class 'int'>, {'NOUN': 1})\n",
      "zogauw\n"
     ]
    },
    {
     "data": {
      "text/plain": [
       "SCONJ    1\n",
       "Name: actual, dtype: int64"
      ]
     },
     "metadata": {},
     "output_type": "display_data"
    },
    {
     "name": "stdout",
     "output_type": "stream",
     "text": [
      "defaultdict(<class 'int'>, {'SCONJ': 1})\n",
      "Faculteiten\n"
     ]
    },
    {
     "data": {
      "text/plain": [
       "NOUN    1\n",
       "Name: actual, dtype: int64"
      ]
     },
     "metadata": {},
     "output_type": "display_data"
    },
    {
     "name": "stdout",
     "output_type": "stream",
     "text": [
      "defaultdict(<class 'int'>, {'NOUN': 1})\n",
      "L'Art\n"
     ]
    },
    {
     "data": {
      "text/plain": [
       "X    1\n",
       "Name: actual, dtype: int64"
      ]
     },
     "metadata": {},
     "output_type": "display_data"
    },
    {
     "name": "stdout",
     "output_type": "stream",
     "text": [
      "defaultdict(<class 'int'>, {'X': 1})\n",
      "elke\n"
     ]
    },
    {
     "data": {
      "text/plain": [
       "PRON    1\n",
       "Name: actual, dtype: int64"
      ]
     },
     "metadata": {},
     "output_type": "display_data"
    },
    {
     "name": "stdout",
     "output_type": "stream",
     "text": [
      "defaultdict(<class 'int'>, {'PRON': 1, 'DET': 2})\n",
      "licht\n"
     ]
    },
    {
     "data": {
      "text/plain": [
       "ADJ    1\n",
       "Name: actual, dtype: int64"
      ]
     },
     "metadata": {},
     "output_type": "display_data"
    },
    {
     "name": "stdout",
     "output_type": "stream",
     "text": [
      "defaultdict(<class 'int'>, {'NOUN': 5, 'ADJ': 1})\n",
      "Paleoconservatisme\n"
     ]
    },
    {
     "data": {
      "text/plain": [
       "NOUN    1\n",
       "Name: actual, dtype: int64"
      ]
     },
     "metadata": {},
     "output_type": "display_data"
    },
    {
     "name": "stdout",
     "output_type": "stream",
     "text": [
      "defaultdict(<class 'int'>, {'NOUN': 1})\n",
      "neger\n"
     ]
    },
    {
     "data": {
      "text/plain": [
       "NOUN    1\n",
       "Name: actual, dtype: int64"
      ]
     },
     "metadata": {},
     "output_type": "display_data"
    },
    {
     "name": "stdout",
     "output_type": "stream",
     "text": [
      "defaultdict(<class 'int'>, {'NOUN': 1})\n",
      "gevreesde\n"
     ]
    },
    {
     "data": {
      "text/plain": [
       "VERB    1\n",
       "Name: actual, dtype: int64"
      ]
     },
     "metadata": {},
     "output_type": "display_data"
    },
    {
     "name": "stdout",
     "output_type": "stream",
     "text": [
      "defaultdict(<class 'int'>, {'VERB': 1})\n",
      "gewild\n"
     ]
    },
    {
     "data": {
      "text/plain": [
       "VERB    1\n",
       "Name: actual, dtype: int64"
      ]
     },
     "metadata": {},
     "output_type": "display_data"
    },
    {
     "name": "stdout",
     "output_type": "stream",
     "text": [
      "defaultdict(<class 'int'>, {'VERB': 1})\n",
      "Bijna\n"
     ]
    },
    {
     "data": {
      "text/plain": [
       "ADV    1\n",
       "Name: actual, dtype: int64"
      ]
     },
     "metadata": {},
     "output_type": "display_data"
    },
    {
     "name": "stdout",
     "output_type": "stream",
     "text": [
      "defaultdict(<class 'int'>, {'ADV': 1})\n",
      "Laffer-curve\n"
     ]
    },
    {
     "data": {
      "text/plain": [
       "PROPN    1\n",
       "Name: actual, dtype: int64"
      ]
     },
     "metadata": {},
     "output_type": "display_data"
    },
    {
     "name": "stdout",
     "output_type": "stream",
     "text": [
      "defaultdict(<class 'int'>, {'PROPN': 1})\n",
      "Prinske\n"
     ]
    },
    {
     "data": {
      "text/plain": [
       "NOUN    1\n",
       "Name: actual, dtype: int64"
      ]
     },
     "metadata": {},
     "output_type": "display_data"
    },
    {
     "name": "stdout",
     "output_type": "stream",
     "text": [
      "defaultdict(<class 'int'>, {'NOUN': 2})\n",
      "bepaalde\n"
     ]
    },
    {
     "data": {
      "text/plain": [
       "VERB    1\n",
       "Name: actual, dtype: int64"
      ]
     },
     "metadata": {},
     "output_type": "display_data"
    },
    {
     "name": "stdout",
     "output_type": "stream",
     "text": [
      "defaultdict(<class 'int'>, {'VERB': 2})\n",
      "minder\n"
     ]
    },
    {
     "data": {
      "text/plain": [
       "PRON    1\n",
       "Name: actual, dtype: int64"
      ]
     },
     "metadata": {},
     "output_type": "display_data"
    },
    {
     "name": "stdout",
     "output_type": "stream",
     "text": [
      "defaultdict(<class 'int'>, {'ADV': 5, 'PRON': 2})\n",
      "Delmee\n"
     ]
    },
    {
     "data": {
      "text/plain": [
       "PROPN    1\n",
       "Name: actual, dtype: int64"
      ]
     },
     "metadata": {},
     "output_type": "display_data"
    },
    {
     "name": "stdout",
     "output_type": "stream",
     "text": [
      "defaultdict(<class 'int'>, {'PROPN': 2})\n",
      "1992-...\n"
     ]
    },
    {
     "data": {
      "text/plain": [
       "NUM    1\n",
       "Name: actual, dtype: int64"
      ]
     },
     "metadata": {},
     "output_type": "display_data"
    },
    {
     "name": "stdout",
     "output_type": "stream",
     "text": [
      "defaultdict(<class 'int'>, {'NUM': 1})\n",
      "Best\n"
     ]
    },
    {
     "data": {
      "text/plain": [
       "X    1\n",
       "Name: actual, dtype: int64"
      ]
     },
     "metadata": {},
     "output_type": "display_data"
    },
    {
     "name": "stdout",
     "output_type": "stream",
     "text": [
      "defaultdict(<class 'int'>, {'X': 1})\n",
      "Voederbietels\n"
     ]
    },
    {
     "data": {
      "text/plain": [
       "PROPN    1\n",
       "Name: actual, dtype: int64"
      ]
     },
     "metadata": {},
     "output_type": "display_data"
    },
    {
     "name": "stdout",
     "output_type": "stream",
     "text": [
      "defaultdict(<class 'int'>, {'PROPN': 1})\n",
      "O.L.V.-college\n"
     ]
    },
    {
     "data": {
      "text/plain": [
       "NOUN    1\n",
       "Name: actual, dtype: int64"
      ]
     },
     "metadata": {},
     "output_type": "display_data"
    },
    {
     "name": "stdout",
     "output_type": "stream",
     "text": [
      "defaultdict(<class 'int'>, {'NOUN': 1})\n",
      "leven\n"
     ]
    },
    {
     "data": {
      "text/plain": [
       "NOUN    1\n",
       "Name: actual, dtype: int64"
      ]
     },
     "metadata": {},
     "output_type": "display_data"
    },
    {
     "name": "stdout",
     "output_type": "stream",
     "text": [
      "defaultdict(<class 'int'>, {'NOUN': 11})\n",
      "500cc\n"
     ]
    },
    {
     "data": {
      "text/plain": [
       "NOUN    1\n",
       "Name: actual, dtype: int64"
      ]
     },
     "metadata": {},
     "output_type": "display_data"
    },
    {
     "name": "stdout",
     "output_type": "stream",
     "text": [
      "defaultdict(<class 'int'>, {'NOUN': 1})\n",
      "Rond\n"
     ]
    },
    {
     "data": {
      "text/plain": [
       "ADJ    1\n",
       "Name: actual, dtype: int64"
      ]
     },
     "metadata": {},
     "output_type": "display_data"
    },
    {
     "name": "stdout",
     "output_type": "stream",
     "text": [
      "defaultdict(<class 'int'>, {'ADJ': 1})\n",
      "gevat\n"
     ]
    },
    {
     "data": {
      "text/plain": [
       "ADJ    1\n",
       "Name: actual, dtype: int64"
      ]
     },
     "metadata": {},
     "output_type": "display_data"
    },
    {
     "name": "stdout",
     "output_type": "stream",
     "text": [
      "defaultdict(<class 'int'>, {'ADJ': 1})\n",
      "0.30\n"
     ]
    },
    {
     "data": {
      "text/plain": [
       "SYM    1\n",
       "Name: actual, dtype: int64"
      ]
     },
     "metadata": {},
     "output_type": "display_data"
    },
    {
     "name": "stdout",
     "output_type": "stream",
     "text": [
      "defaultdict(<class 'int'>, {'SYM': 1})\n",
      "Osteuropa\n"
     ]
    },
    {
     "data": {
      "text/plain": [
       "X    1\n",
       "Name: actual, dtype: int64"
      ]
     },
     "metadata": {},
     "output_type": "display_data"
    },
    {
     "name": "stdout",
     "output_type": "stream",
     "text": [
      "defaultdict(<class 'int'>, {'X': 1})\n",
      "geen\n"
     ]
    },
    {
     "data": {
      "text/plain": [
       "DET    1\n",
       "Name: actual, dtype: int64"
      ]
     },
     "metadata": {},
     "output_type": "display_data"
    },
    {
     "name": "stdout",
     "output_type": "stream",
     "text": [
      "defaultdict(<class 'int'>, {'DET': 32, 'PRON': 1})\n",
      "halverwege\n"
     ]
    },
    {
     "data": {
      "text/plain": [
       "ADV    1\n",
       "Name: actual, dtype: int64"
      ]
     },
     "metadata": {},
     "output_type": "display_data"
    },
    {
     "name": "stdout",
     "output_type": "stream",
     "text": [
      "defaultdict(<class 'int'>, {'ADP': 4, 'ADV': 2})\n",
      "al\n"
     ]
    },
    {
     "data": {
      "text/plain": [
       "DET    1\n",
       "Name: actual, dtype: int64"
      ]
     },
     "metadata": {},
     "output_type": "display_data"
    },
    {
     "name": "stdout",
     "output_type": "stream",
     "text": [
      "defaultdict(<class 'int'>, {'ADV': 43, 'DET': 3})\n",
      "STA\n"
     ]
    },
    {
     "data": {
      "text/plain": [
       "PROPN    1\n",
       "Name: actual, dtype: int64"
      ]
     },
     "metadata": {},
     "output_type": "display_data"
    },
    {
     "name": "stdout",
     "output_type": "stream",
     "text": [
      "defaultdict(<class 'int'>, {'PROPN': 1})\n",
      "gebaarde\n"
     ]
    },
    {
     "data": {
      "text/plain": [
       "ADJ    1\n",
       "Name: actual, dtype: int64"
      ]
     },
     "metadata": {},
     "output_type": "display_data"
    },
    {
     "name": "stdout",
     "output_type": "stream",
     "text": [
      "defaultdict(<class 'int'>, {'ADJ': 1})\n",
      "FARC-woordvoerder\n"
     ]
    },
    {
     "data": {
      "text/plain": [
       "NOUN    1\n",
       "Name: actual, dtype: int64"
      ]
     },
     "metadata": {},
     "output_type": "display_data"
    },
    {
     "name": "stdout",
     "output_type": "stream",
     "text": [
      "defaultdict(<class 'int'>, {'NOUN': 1})\n",
      "er\n"
     ]
    },
    {
     "data": {
      "text/plain": [
       "ADV    1\n",
       "Name: actual, dtype: int64"
      ]
     },
     "metadata": {},
     "output_type": "display_data"
    },
    {
     "name": "stdout",
     "output_type": "stream",
     "text": [
      "defaultdict(<class 'int'>, {'ADV': 60, 'PRON': 5})\n",
      "luttele\n"
     ]
    },
    {
     "data": {
      "text/plain": [
       "ADJ    1\n",
       "Name: actual, dtype: int64"
      ]
     },
     "metadata": {},
     "output_type": "display_data"
    },
    {
     "name": "stdout",
     "output_type": "stream",
     "text": [
      "defaultdict(<class 'int'>, {'ADJ': 1})\n",
      "Stop\n"
     ]
    },
    {
     "data": {
      "text/plain": [
       "VERB    1\n",
       "Name: actual, dtype: int64"
      ]
     },
     "metadata": {},
     "output_type": "display_data"
    },
    {
     "name": "stdout",
     "output_type": "stream",
     "text": [
      "defaultdict(<class 'int'>, {'VERB': 1})\n",
      "Weg\n"
     ]
    },
    {
     "data": {
      "text/plain": [
       "ADV    1\n",
       "Name: actual, dtype: int64"
      ]
     },
     "metadata": {},
     "output_type": "display_data"
    },
    {
     "name": "stdout",
     "output_type": "stream",
     "text": [
      "defaultdict(<class 'int'>, {'ADV': 2})\n",
      "gematigde\n"
     ]
    },
    {
     "data": {
      "text/plain": [
       "VERB    1\n",
       "Name: actual, dtype: int64"
      ]
     },
     "metadata": {},
     "output_type": "display_data"
    },
    {
     "name": "stdout",
     "output_type": "stream",
     "text": [
      "defaultdict(<class 'int'>, {'VERB': 1})\n",
      "Nationaal-Socialist\n"
     ]
    },
    {
     "data": {
      "text/plain": [
       "NOUN    1\n",
       "Name: actual, dtype: int64"
      ]
     },
     "metadata": {},
     "output_type": "display_data"
    },
    {
     "name": "stdout",
     "output_type": "stream",
     "text": [
      "defaultdict(<class 'int'>, {'NOUN': 1})\n",
      "Dwaze\n"
     ]
    },
    {
     "data": {
      "text/plain": [
       "PROPN    1\n",
       "Name: actual, dtype: int64"
      ]
     },
     "metadata": {},
     "output_type": "display_data"
    },
    {
     "name": "stdout",
     "output_type": "stream",
     "text": [
      "defaultdict(<class 'int'>, {'PROPN': 1})\n",
      "fidem\n"
     ]
    },
    {
     "data": {
      "text/plain": [
       "PROPN    1\n",
       "Name: actual, dtype: int64"
      ]
     },
     "metadata": {},
     "output_type": "display_data"
    },
    {
     "name": "stdout",
     "output_type": "stream",
     "text": [
      "defaultdict(<class 'int'>, {'PROPN': 1})\n",
      "volksvertegenwoordigend\n"
     ]
    },
    {
     "data": {
      "text/plain": [
       "VERB    1\n",
       "Name: actual, dtype: int64"
      ]
     },
     "metadata": {},
     "output_type": "display_data"
    },
    {
     "name": "stdout",
     "output_type": "stream",
     "text": [
      "defaultdict(<class 'int'>, {'VERB': 1})\n",
      "Graf\n"
     ]
    },
    {
     "data": {
      "text/plain": [
       "PROPN    1\n",
       "Name: actual, dtype: int64"
      ]
     },
     "metadata": {},
     "output_type": "display_data"
    },
    {
     "name": "stdout",
     "output_type": "stream",
     "text": [
      "defaultdict(<class 'int'>, {'PROPN': 1})\n",
      "voldoende\n"
     ]
    },
    {
     "data": {
      "text/plain": [
       "DET    1\n",
       "Name: actual, dtype: int64"
      ]
     },
     "metadata": {},
     "output_type": "display_data"
    },
    {
     "name": "stdout",
     "output_type": "stream",
     "text": [
      "defaultdict(<class 'int'>, {'DET': 1, 'ADJ': 1})\n",
      "1992-2004\n"
     ]
    },
    {
     "data": {
      "text/plain": [
       "NUM    1\n",
       "Name: actual, dtype: int64"
      ]
     },
     "metadata": {},
     "output_type": "display_data"
    },
    {
     "name": "stdout",
     "output_type": "stream",
     "text": [
      "defaultdict(<class 'int'>, {'NUM': 1})\n",
      "Volkske\n"
     ]
    },
    {
     "data": {
      "text/plain": [
       "NOUN    1\n",
       "Name: actual, dtype: int64"
      ]
     },
     "metadata": {},
     "output_type": "display_data"
    },
    {
     "name": "stdout",
     "output_type": "stream",
     "text": [
      "defaultdict(<class 'int'>, {'NOUN': 1})\n",
      "plume\n"
     ]
    },
    {
     "data": {
      "text/plain": [
       "PROPN    1\n",
       "Name: actual, dtype: int64"
      ]
     },
     "metadata": {},
     "output_type": "display_data"
    },
    {
     "name": "stdout",
     "output_type": "stream",
     "text": [
      "defaultdict(<class 'int'>, {'PROPN': 1})\n",
      "Telecommunicatie\n"
     ]
    },
    {
     "data": {
      "text/plain": [
       "NOUN    1\n",
       "Name: actual, dtype: int64"
      ]
     },
     "metadata": {},
     "output_type": "display_data"
    },
    {
     "name": "stdout",
     "output_type": "stream",
     "text": [
      "defaultdict(<class 'int'>, {'NOUN': 1})\n",
      "bedroevend\n"
     ]
    },
    {
     "data": {
      "text/plain": [
       "VERB    1\n",
       "Name: actual, dtype: int64"
      ]
     },
     "metadata": {},
     "output_type": "display_data"
    },
    {
     "name": "stdout",
     "output_type": "stream",
     "text": [
      "defaultdict(<class 'int'>, {'VERB': 1})\n",
      "Groep\n"
     ]
    },
    {
     "data": {
      "text/plain": [
       "NOUN    1\n",
       "Name: actual, dtype: int64"
      ]
     },
     "metadata": {},
     "output_type": "display_data"
    },
    {
     "name": "stdout",
     "output_type": "stream",
     "text": [
      "defaultdict(<class 'int'>, {'NOUN': 1})\n",
      "Vlaams/Nederlands\n"
     ]
    },
    {
     "data": {
      "text/plain": [
       "PROPN    1\n",
       "Name: actual, dtype: int64"
      ]
     },
     "metadata": {},
     "output_type": "display_data"
    },
    {
     "name": "stdout",
     "output_type": "stream",
     "text": [
      "defaultdict(<class 'int'>, {'PROPN': 1})\n",
      "ondervraagde\n"
     ]
    },
    {
     "data": {
      "text/plain": [
       "VERB    1\n",
       "Name: actual, dtype: int64"
      ]
     },
     "metadata": {},
     "output_type": "display_data"
    },
    {
     "name": "stdout",
     "output_type": "stream",
     "text": [
      "defaultdict(<class 'int'>, {'VERB': 1})\n",
      "Hezbollah-strijders\n"
     ]
    },
    {
     "data": {
      "text/plain": [
       "NOUN    1\n",
       "Name: actual, dtype: int64"
      ]
     },
     "metadata": {},
     "output_type": "display_data"
    },
    {
     "name": "stdout",
     "output_type": "stream",
     "text": [
      "defaultdict(<class 'int'>, {'NOUN': 1})\n",
      "Museum\n"
     ]
    },
    {
     "data": {
      "text/plain": [
       "PROPN    1\n",
       "Name: actual, dtype: int64"
      ]
     },
     "metadata": {},
     "output_type": "display_data"
    },
    {
     "name": "stdout",
     "output_type": "stream",
     "text": [
      "defaultdict(<class 'int'>, {'PROPN': 3, 'NOUN': 2})\n",
      "waar\n"
     ]
    },
    {
     "data": {
      "text/plain": [
       "ADJ    1\n",
       "Name: actual, dtype: int64"
      ]
     },
     "metadata": {},
     "output_type": "display_data"
    },
    {
     "name": "stdout",
     "output_type": "stream",
     "text": [
      "defaultdict(<class 'int'>, {'ADV': 18, 'ADJ': 3})\n",
      "Tweede\n"
     ]
    },
    {
     "data": {
      "text/plain": [
       "ADJ    1\n",
       "Name: actual, dtype: int64"
      ]
     },
     "metadata": {},
     "output_type": "display_data"
    },
    {
     "name": "stdout",
     "output_type": "stream",
     "text": [
      "defaultdict(<class 'int'>, {'ADJ': 1, 'PROPN': 4})\n",
      "Lampenist\n"
     ]
    },
    {
     "data": {
      "text/plain": [
       "NOUN    1\n",
       "Name: actual, dtype: int64"
      ]
     },
     "metadata": {},
     "output_type": "display_data"
    },
    {
     "name": "stdout",
     "output_type": "stream",
     "text": [
      "defaultdict(<class 'int'>, {'NOUN': 1})\n",
      "1987-1989\n"
     ]
    },
    {
     "data": {
      "text/plain": [
       "NUM    1\n",
       "Name: actual, dtype: int64"
      ]
     },
     "metadata": {},
     "output_type": "display_data"
    },
    {
     "name": "stdout",
     "output_type": "stream",
     "text": [
      "defaultdict(<class 'int'>, {'NUM': 1})\n",
      "non-actief\n"
     ]
    },
    {
     "data": {
      "text/plain": [
       "ADJ    1\n",
       "Name: actual, dtype: int64"
      ]
     },
     "metadata": {},
     "output_type": "display_data"
    },
    {
     "name": "stdout",
     "output_type": "stream",
     "text": [
      "defaultdict(<class 'int'>, {'ADJ': 1})\n",
      "Universitaire\n"
     ]
    },
    {
     "data": {
      "text/plain": [
       "ADJ    1\n",
       "Name: actual, dtype: int64"
      ]
     },
     "metadata": {},
     "output_type": "display_data"
    },
    {
     "name": "stdout",
     "output_type": "stream",
     "text": [
      "defaultdict(<class 'int'>, {'ADJ': 2})\n",
      "Nederlands\n"
     ]
    },
    {
     "data": {
      "text/plain": [
       "ADJ    1\n",
       "Name: actual, dtype: int64"
      ]
     },
     "metadata": {},
     "output_type": "display_data"
    },
    {
     "name": "stdout",
     "output_type": "stream",
     "text": [
      "defaultdict(<class 'int'>, {'ADJ': 7, 'PROPN': 1})\n",
      "Fanfares\n"
     ]
    },
    {
     "data": {
      "text/plain": [
       "PROPN    1\n",
       "Name: actual, dtype: int64"
      ]
     },
     "metadata": {},
     "output_type": "display_data"
    },
    {
     "name": "stdout",
     "output_type": "stream",
     "text": [
      "defaultdict(<class 'int'>, {'PROPN': 1})\n",
      "getuige\n"
     ]
    },
    {
     "data": {
      "text/plain": [
       "NOUN    1\n",
       "Name: actual, dtype: int64"
      ]
     },
     "metadata": {},
     "output_type": "display_data"
    },
    {
     "name": "stdout",
     "output_type": "stream",
     "text": [
      "defaultdict(<class 'int'>, {'NOUN': 1})\n",
      "hebben\n"
     ]
    },
    {
     "data": {
      "text/plain": [
       "VERB    1\n",
       "Name: actual, dtype: int64"
      ]
     },
     "metadata": {},
     "output_type": "display_data"
    },
    {
     "name": "stdout",
     "output_type": "stream",
     "text": [
      "defaultdict(<class 'int'>, {'VERB': 12, 'AUX': 22})\n",
      "Lenstra-stadion\n"
     ]
    },
    {
     "data": {
      "text/plain": [
       "NOUN    1\n",
       "Name: actual, dtype: int64"
      ]
     },
     "metadata": {},
     "output_type": "display_data"
    },
    {
     "name": "stdout",
     "output_type": "stream",
     "text": [
      "defaultdict(<class 'int'>, {'NOUN': 1})\n",
      "Post\n"
     ]
    },
    {
     "data": {
      "text/plain": [
       "NOUN    1\n",
       "Name: actual, dtype: int64"
      ]
     },
     "metadata": {},
     "output_type": "display_data"
    },
    {
     "name": "stdout",
     "output_type": "stream",
     "text": [
      "defaultdict(<class 'int'>, {'NOUN': 1})\n",
      "wanneer\n"
     ]
    },
    {
     "data": {
      "text/plain": [
       "ADV    1\n",
       "Name: actual, dtype: int64"
      ]
     },
     "metadata": {},
     "output_type": "display_data"
    },
    {
     "name": "stdout",
     "output_type": "stream",
     "text": [
      "defaultdict(<class 'int'>, {'ADV': 1})\n",
      "Raisonne\n"
     ]
    },
    {
     "data": {
      "text/plain": [
       "X    1\n",
       "Name: actual, dtype: int64"
      ]
     },
     "metadata": {},
     "output_type": "display_data"
    },
    {
     "name": "stdout",
     "output_type": "stream",
     "text": [
      "defaultdict(<class 'int'>, {'X': 1})\n",
      "meerkamp\n"
     ]
    },
    {
     "data": {
      "text/plain": [
       "NOUN    1\n",
       "Name: actual, dtype: int64"
      ]
     },
     "metadata": {},
     "output_type": "display_data"
    },
    {
     "name": "stdout",
     "output_type": "stream",
     "text": [
      "defaultdict(<class 'int'>, {'NOUN': 1})\n",
      "dansen\n"
     ]
    },
    {
     "data": {
      "text/plain": [
       "VERB    1\n",
       "Name: actual, dtype: int64"
      ]
     },
     "metadata": {},
     "output_type": "display_data"
    },
    {
     "name": "stdout",
     "output_type": "stream",
     "text": [
      "defaultdict(<class 'int'>, {'VERB': 1})\n",
      "Reeks\n"
     ]
    },
    {
     "data": {
      "text/plain": [
       "NOUN    1\n",
       "Name: actual, dtype: int64"
      ]
     },
     "metadata": {},
     "output_type": "display_data"
    },
    {
     "name": "stdout",
     "output_type": "stream",
     "text": [
      "defaultdict(<class 'int'>, {'NOUN': 1})\n",
      "kleuren\n"
     ]
    },
    {
     "data": {
      "text/plain": [
       "NOUN    1\n",
       "Name: actual, dtype: int64"
      ]
     },
     "metadata": {},
     "output_type": "display_data"
    },
    {
     "name": "stdout",
     "output_type": "stream",
     "text": [
      "defaultdict(<class 'int'>, {'NOUN': 3})\n",
      "Geest\n"
     ]
    },
    {
     "data": {
      "text/plain": [
       "NOUN    1\n",
       "Name: actual, dtype: int64"
      ]
     },
     "metadata": {},
     "output_type": "display_data"
    },
    {
     "name": "stdout",
     "output_type": "stream",
     "text": [
      "defaultdict(<class 'int'>, {'NOUN': 1})\n",
      "dank\n"
     ]
    },
    {
     "data": {
      "text/plain": [
       "NOUN    1\n",
       "Name: actual, dtype: int64"
      ]
     },
     "metadata": {},
     "output_type": "display_data"
    },
    {
     "name": "stdout",
     "output_type": "stream",
     "text": [
      "defaultdict(<class 'int'>, {'NOUN': 2})\n",
      "schitterende\n"
     ]
    },
    {
     "data": {
      "text/plain": [
       "VERB    1\n",
       "Name: actual, dtype: int64"
      ]
     },
     "metadata": {},
     "output_type": "display_data"
    },
    {
     "name": "stdout",
     "output_type": "stream",
     "text": [
      "defaultdict(<class 'int'>, {'VERB': 1})\n",
      "spelen\n"
     ]
    },
    {
     "data": {
      "text/plain": [
       "NOUN    1\n",
       "Name: actual, dtype: int64"
      ]
     },
     "metadata": {},
     "output_type": "display_data"
    },
    {
     "name": "stdout",
     "output_type": "stream",
     "text": [
      "defaultdict(<class 'int'>, {'VERB': 4, 'NOUN': 1})\n",
      "Kartel\n"
     ]
    },
    {
     "data": {
      "text/plain": [
       "NOUN    1\n",
       "Name: actual, dtype: int64"
      ]
     },
     "metadata": {},
     "output_type": "display_data"
    },
    {
     "name": "stdout",
     "output_type": "stream",
     "text": [
      "defaultdict(<class 'int'>, {'NOUN': 1})\n",
      "Almost\n"
     ]
    },
    {
     "data": {
      "text/plain": [
       "X    1\n",
       "Name: actual, dtype: int64"
      ]
     },
     "metadata": {},
     "output_type": "display_data"
    },
    {
     "name": "stdout",
     "output_type": "stream",
     "text": [
      "defaultdict(<class 'int'>, {'X': 1})\n",
      "Communistische\n"
     ]
    },
    {
     "data": {
      "text/plain": [
       "ADJ    1\n",
       "Name: actual, dtype: int64"
      ]
     },
     "metadata": {},
     "output_type": "display_data"
    },
    {
     "name": "stdout",
     "output_type": "stream",
     "text": [
      "defaultdict(<class 'int'>, {'ADJ': 1})\n",
      "&\n"
     ]
    },
    {
     "data": {
      "text/plain": [
       "SYM    1\n",
       "Name: actual, dtype: int64"
      ]
     },
     "metadata": {},
     "output_type": "display_data"
    },
    {
     "name": "stdout",
     "output_type": "stream",
     "text": [
      "defaultdict(<class 'int'>, {'SYM': 2})\n",
      "drieÃ«n\n"
     ]
    },
    {
     "data": {
      "text/plain": [
       "NUM    1\n",
       "Name: actual, dtype: int64"
      ]
     },
     "metadata": {},
     "output_type": "display_data"
    },
    {
     "name": "stdout",
     "output_type": "stream",
     "text": [
      "defaultdict(<class 'int'>, {'NUM': 1})\n",
      "Nobelprijswinnaar\n"
     ]
    },
    {
     "data": {
      "text/plain": [
       "NOUN    1\n",
       "Name: actual, dtype: int64"
      ]
     },
     "metadata": {},
     "output_type": "display_data"
    },
    {
     "name": "stdout",
     "output_type": "stream",
     "text": [
      "defaultdict(<class 'int'>, {'NOUN': 1})\n",
      "Gumbs\n"
     ]
    },
    {
     "data": {
      "text/plain": [
       "PROPN    1\n",
       "Name: actual, dtype: int64"
      ]
     },
     "metadata": {},
     "output_type": "display_data"
    },
    {
     "name": "stdout",
     "output_type": "stream",
     "text": [
      "defaultdict(<class 'int'>, {'PROPN': 1})\n",
      "onvoldoende\n"
     ]
    },
    {
     "data": {
      "text/plain": [
       "DET    1\n",
       "Name: actual, dtype: int64"
      ]
     },
     "metadata": {},
     "output_type": "display_data"
    },
    {
     "name": "stdout",
     "output_type": "stream",
     "text": [
      "defaultdict(<class 'int'>, {'DET': 1})\n",
      "2/3\n"
     ]
    },
    {
     "data": {
      "text/plain": [
       "ADJ    1\n",
       "Name: actual, dtype: int64"
      ]
     },
     "metadata": {},
     "output_type": "display_data"
    },
    {
     "name": "stdout",
     "output_type": "stream",
     "text": [
      "defaultdict(<class 'int'>, {'ADJ': 1})\n",
      "oud-Nederlands\n"
     ]
    },
    {
     "data": {
      "text/plain": [
       "PROPN    1\n",
       "Name: actual, dtype: int64"
      ]
     },
     "metadata": {},
     "output_type": "display_data"
    },
    {
     "name": "stdout",
     "output_type": "stream",
     "text": [
      "defaultdict(<class 'int'>, {'PROPN': 1})\n",
      "Pol&Soc\n"
     ]
    },
    {
     "data": {
      "text/plain": [
       "NOUN    1\n",
       "Name: actual, dtype: int64"
      ]
     },
     "metadata": {},
     "output_type": "display_data"
    },
    {
     "name": "stdout",
     "output_type": "stream",
     "text": [
      "defaultdict(<class 'int'>, {'NOUN': 1})\n",
      "ongetwijfeld\n"
     ]
    },
    {
     "data": {
      "text/plain": [
       "ADV    1\n",
       "Name: actual, dtype: int64"
      ]
     },
     "metadata": {},
     "output_type": "display_data"
    },
    {
     "name": "stdout",
     "output_type": "stream",
     "text": [
      "defaultdict(<class 'int'>, {'ADV': 1, 'ADJ': 1})\n",
      "schouderophalend\n"
     ]
    },
    {
     "data": {
      "text/plain": [
       "VERB    1\n",
       "Name: actual, dtype: int64"
      ]
     },
     "metadata": {},
     "output_type": "display_data"
    },
    {
     "name": "stdout",
     "output_type": "stream",
     "text": [
      "defaultdict(<class 'int'>, {'VERB': 1})\n",
      "onthutst\n"
     ]
    },
    {
     "data": {
      "text/plain": [
       "ADJ    1\n",
       "Name: actual, dtype: int64"
      ]
     },
     "metadata": {},
     "output_type": "display_data"
    },
    {
     "name": "stdout",
     "output_type": "stream",
     "text": [
      "defaultdict(<class 'int'>, {'ADJ': 1})\n",
      "Gelaten\n"
     ]
    },
    {
     "data": {
      "text/plain": [
       "VERB    1\n",
       "Name: actual, dtype: int64"
      ]
     },
     "metadata": {},
     "output_type": "display_data"
    },
    {
     "name": "stdout",
     "output_type": "stream",
     "text": [
      "defaultdict(<class 'int'>, {'VERB': 1})\n",
      "Tipperary\n"
     ]
    },
    {
     "data": {
      "text/plain": [
       "X    1\n",
       "Name: actual, dtype: int64"
      ]
     },
     "metadata": {},
     "output_type": "display_data"
    },
    {
     "name": "stdout",
     "output_type": "stream",
     "text": [
      "defaultdict(<class 'int'>, {'X': 1, 'PROPN': 1})\n",
      "1987-2004\n"
     ]
    },
    {
     "data": {
      "text/plain": [
       "NUM    1\n",
       "Name: actual, dtype: int64"
      ]
     },
     "metadata": {},
     "output_type": "display_data"
    },
    {
     "name": "stdout",
     "output_type": "stream",
     "text": [
      "defaultdict(<class 'int'>, {'NUM': 1})\n",
      "Rijksluchtvaartdienst\n"
     ]
    },
    {
     "data": {
      "text/plain": [
       "NOUN    1\n",
       "Name: actual, dtype: int64"
      ]
     },
     "metadata": {},
     "output_type": "display_data"
    },
    {
     "name": "stdout",
     "output_type": "stream",
     "text": [
      "defaultdict(<class 'int'>, {'NOUN': 1})\n",
      "A5\n"
     ]
    },
    {
     "data": {
      "text/plain": [
       "SYM    1\n",
       "Name: actual, dtype: int64"
      ]
     },
     "metadata": {},
     "output_type": "display_data"
    },
    {
     "name": "stdout",
     "output_type": "stream",
     "text": [
      "defaultdict(<class 'int'>, {'SYM': 1})\n",
      "3166-2-code\n"
     ]
    },
    {
     "data": {
      "text/plain": [
       "NOUN    1\n",
       "Name: actual, dtype: int64"
      ]
     },
     "metadata": {},
     "output_type": "display_data"
    },
    {
     "name": "stdout",
     "output_type": "stream",
     "text": [
      "defaultdict(<class 'int'>, {'NOUN': 1})\n",
      "Wake\n"
     ]
    },
    {
     "data": {
      "text/plain": [
       "X    1\n",
       "Name: actual, dtype: int64"
      ]
     },
     "metadata": {},
     "output_type": "display_data"
    },
    {
     "name": "stdout",
     "output_type": "stream",
     "text": [
      "defaultdict(<class 'int'>, {'X': 1})\n",
      "Bijlmerramp\n"
     ]
    },
    {
     "data": {
      "text/plain": [
       "NOUN    1\n",
       "Name: actual, dtype: int64"
      ]
     },
     "metadata": {},
     "output_type": "display_data"
    },
    {
     "name": "stdout",
     "output_type": "stream",
     "text": [
      "defaultdict(<class 'int'>, {'NOUN': 1})\n",
      "gedesillusioneerde\n"
     ]
    },
    {
     "data": {
      "text/plain": [
       "VERB    1\n",
       "Name: actual, dtype: int64"
      ]
     },
     "metadata": {},
     "output_type": "display_data"
    },
    {
     "name": "stdout",
     "output_type": "stream",
     "text": [
      "defaultdict(<class 'int'>, {'VERB': 1})\n",
      "burn-out\n"
     ]
    },
    {
     "data": {
      "text/plain": [
       "NOUN    1\n",
       "Name: actual, dtype: int64"
      ]
     },
     "metadata": {},
     "output_type": "display_data"
    },
    {
     "name": "stdout",
     "output_type": "stream",
     "text": [
      "defaultdict(<class 'int'>, {'NOUN': 1})\n",
      "kg.\n"
     ]
    },
    {
     "data": {
      "text/plain": [
       "SYM    1\n",
       "Name: actual, dtype: int64"
      ]
     },
     "metadata": {},
     "output_type": "display_data"
    },
    {
     "name": "stdout",
     "output_type": "stream",
     "text": [
      "defaultdict(<class 'int'>, {'SYM': 1})\n",
      "gemotiveerde\n"
     ]
    },
    {
     "data": {
      "text/plain": [
       "VERB    1\n",
       "Name: actual, dtype: int64"
      ]
     },
     "metadata": {},
     "output_type": "display_data"
    },
    {
     "name": "stdout",
     "output_type": "stream",
     "text": [
      "defaultdict(<class 'int'>, {'VERB': 1})\n",
      "Moeders\n"
     ]
    },
    {
     "data": {
      "text/plain": [
       "PROPN    1\n",
       "Name: actual, dtype: int64"
      ]
     },
     "metadata": {},
     "output_type": "display_data"
    },
    {
     "name": "stdout",
     "output_type": "stream",
     "text": [
      "defaultdict(<class 'int'>, {'PROPN': 1, 'NOUN': 1})\n",
      "bekendstaan\n"
     ]
    },
    {
     "data": {
      "text/plain": [
       "VERB    1\n",
       "Name: actual, dtype: int64"
      ]
     },
     "metadata": {},
     "output_type": "display_data"
    },
    {
     "name": "stdout",
     "output_type": "stream",
     "text": [
      "defaultdict(<class 'int'>, {'VERB': 1})\n",
      "Grote\n"
     ]
    },
    {
     "data": {
      "text/plain": [
       "ADJ    1\n",
       "Name: actual, dtype: int64"
      ]
     },
     "metadata": {},
     "output_type": "display_data"
    },
    {
     "name": "stdout",
     "output_type": "stream",
     "text": [
      "defaultdict(<class 'int'>, {'ADJ': 3, 'PROPN': 1})\n",
      "te\n"
     ]
    },
    {
     "data": {
      "text/plain": [
       "ADP    1\n",
       "Name: actual, dtype: int64"
      ]
     },
     "metadata": {},
     "output_type": "display_data"
    },
    {
     "name": "stdout",
     "output_type": "stream",
     "text": [
      "defaultdict(<class 'int'>, {'ADP': 168, 'ADV': 9})\n",
      "Volkspartij\n"
     ]
    },
    {
     "data": {
      "text/plain": [
       "NOUN    1\n",
       "Name: actual, dtype: int64"
      ]
     },
     "metadata": {},
     "output_type": "display_data"
    },
    {
     "name": "stdout",
     "output_type": "stream",
     "text": [
      "defaultdict(<class 'int'>, {'NOUN': 1})\n",
      "Tegenstroom\n"
     ]
    },
    {
     "data": {
      "text/plain": [
       "NOUN    1\n",
       "Name: actual, dtype: int64"
      ]
     },
     "metadata": {},
     "output_type": "display_data"
    },
    {
     "name": "stdout",
     "output_type": "stream",
     "text": [
      "defaultdict(<class 'int'>, {'NOUN': 1})\n",
      "motorfietsen\n"
     ]
    },
    {
     "data": {
      "text/plain": [
       "VERB    1\n",
       "Name: actual, dtype: int64"
      ]
     },
     "metadata": {},
     "output_type": "display_data"
    },
    {
     "name": "stdout",
     "output_type": "stream",
     "text": [
      "defaultdict(<class 'int'>, {'VERB': 1})\n",
      "Baron\n"
     ]
    },
    {
     "data": {
      "text/plain": [
       "NOUN    1\n",
       "Name: actual, dtype: int64"
      ]
     },
     "metadata": {},
     "output_type": "display_data"
    },
    {
     "name": "stdout",
     "output_type": "stream",
     "text": [
      "defaultdict(<class 'int'>, {'NOUN': 1, 'PROPN': 2})\n",
      "Volk\n"
     ]
    },
    {
     "data": {
      "text/plain": [
       "NOUN    1\n",
       "Name: actual, dtype: int64"
      ]
     },
     "metadata": {},
     "output_type": "display_data"
    },
    {
     "name": "stdout",
     "output_type": "stream",
     "text": [
      "defaultdict(<class 'int'>, {'NOUN': 2})\n",
      "net\n"
     ]
    },
    {
     "data": {
      "text/plain": [
       "DET    1\n",
       "Name: actual, dtype: int64"
      ]
     },
     "metadata": {},
     "output_type": "display_data"
    },
    {
     "name": "stdout",
     "output_type": "stream",
     "text": [
      "defaultdict(<class 'int'>, {'ADV': 12, 'DET': 1})\n",
      "tuf-tuf-club\n"
     ]
    },
    {
     "data": {
      "text/plain": [
       "PROPN    1\n",
       "Name: actual, dtype: int64"
      ]
     },
     "metadata": {},
     "output_type": "display_data"
    },
    {
     "name": "stdout",
     "output_type": "stream",
     "text": [
      "defaultdict(<class 'int'>, {'PROPN': 1})\n",
      "Vaticaans\n"
     ]
    },
    {
     "data": {
      "text/plain": [
       "ADJ    1\n",
       "Name: actual, dtype: int64"
      ]
     },
     "metadata": {},
     "output_type": "display_data"
    },
    {
     "name": "stdout",
     "output_type": "stream",
     "text": [
      "defaultdict(<class 'int'>, {'ADJ': 1})\n",
      "Hoogstens\n"
     ]
    },
    {
     "data": {
      "text/plain": [
       "ADV    1\n",
       "Name: actual, dtype: int64"
      ]
     },
     "metadata": {},
     "output_type": "display_data"
    },
    {
     "name": "stdout",
     "output_type": "stream",
     "text": [
      "defaultdict(<class 'int'>, {'ADV': 1})\n",
      "Vrijdag-akkoord\n"
     ]
    },
    {
     "data": {
      "text/plain": [
       "NOUN    1\n",
       "Name: actual, dtype: int64"
      ]
     },
     "metadata": {},
     "output_type": "display_data"
    },
    {
     "name": "stdout",
     "output_type": "stream",
     "text": [
      "defaultdict(<class 'int'>, {'NOUN': 1})\n",
      "Akademie\n"
     ]
    },
    {
     "data": {
      "text/plain": [
       "NOUN    1\n",
       "Name: actual, dtype: int64"
      ]
     },
     "metadata": {},
     "output_type": "display_data"
    },
    {
     "name": "stdout",
     "output_type": "stream",
     "text": [
      "defaultdict(<class 'int'>, {'NOUN': 1})\n",
      "Kaproen\n"
     ]
    },
    {
     "data": {
      "text/plain": [
       "PROPN    1\n",
       "Name: actual, dtype: int64"
      ]
     },
     "metadata": {},
     "output_type": "display_data"
    },
    {
     "name": "stdout",
     "output_type": "stream",
     "text": [
      "defaultdict(<class 'int'>, {'PROPN': 5})\n",
      "Overal\n"
     ]
    },
    {
     "data": {
      "text/plain": [
       "NOUN    1\n",
       "Name: actual, dtype: int64"
      ]
     },
     "metadata": {},
     "output_type": "display_data"
    },
    {
     "name": "stdout",
     "output_type": "stream",
     "text": [
      "defaultdict(<class 'int'>, {'NOUN': 1})\n",
      "gelovigen\n"
     ]
    },
    {
     "data": {
      "text/plain": [
       "NOUN    1\n",
       "Name: actual, dtype: int64"
      ]
     },
     "metadata": {},
     "output_type": "display_data"
    },
    {
     "name": "stdout",
     "output_type": "stream",
     "text": [
      "defaultdict(<class 'int'>, {'ADJ': 1, 'NOUN': 1})\n",
      "ja\n"
     ]
    },
    {
     "data": {
      "text/plain": [
       "INTJ    1\n",
       "Name: actual, dtype: int64"
      ]
     },
     "metadata": {},
     "output_type": "display_data"
    },
    {
     "name": "stdout",
     "output_type": "stream",
     "text": [
      "defaultdict(<class 'int'>, {'INTJ': 6})\n",
      "beschaamd\n"
     ]
    },
    {
     "data": {
      "text/plain": [
       "ADJ    1\n",
       "Name: actual, dtype: int64"
      ]
     },
     "metadata": {},
     "output_type": "display_data"
    },
    {
     "name": "stdout",
     "output_type": "stream",
     "text": [
      "defaultdict(<class 'int'>, {'ADJ': 1})\n",
      "begenadigd\n"
     ]
    },
    {
     "data": {
      "text/plain": [
       "VERB    1\n",
       "Name: actual, dtype: int64"
      ]
     },
     "metadata": {},
     "output_type": "display_data"
    },
    {
     "name": "stdout",
     "output_type": "stream",
     "text": [
      "defaultdict(<class 'int'>, {'VERB': 1})\n",
      "veredeld\n"
     ]
    },
    {
     "data": {
      "text/plain": [
       "VERB    1\n",
       "Name: actual, dtype: int64"
      ]
     },
     "metadata": {},
     "output_type": "display_data"
    },
    {
     "name": "stdout",
     "output_type": "stream",
     "text": [
      "defaultdict(<class 'int'>, {'VERB': 1})\n",
      "Witte\n"
     ]
    },
    {
     "data": {
      "text/plain": [
       "ADJ    1\n",
       "Name: actual, dtype: int64"
      ]
     },
     "metadata": {},
     "output_type": "display_data"
    },
    {
     "name": "stdout",
     "output_type": "stream",
     "text": [
      "defaultdict(<class 'int'>, {'PROPN': 1, 'ADJ': 1})\n",
      "Ordination\n"
     ]
    },
    {
     "data": {
      "text/plain": [
       "X    1\n",
       "Name: actual, dtype: int64"
      ]
     },
     "metadata": {},
     "output_type": "display_data"
    },
    {
     "name": "stdout",
     "output_type": "stream",
     "text": [
      "defaultdict(<class 'int'>, {'X': 1})\n",
      "Atkins\n"
     ]
    },
    {
     "data": {
      "text/plain": [
       "X    1\n",
       "Name: actual, dtype: int64"
      ]
     },
     "metadata": {},
     "output_type": "display_data"
    },
    {
     "name": "stdout",
     "output_type": "stream",
     "text": [
      "defaultdict(<class 'int'>, {'PROPN': 7, 'X': 1})\n",
      "Carnaval\n"
     ]
    },
    {
     "data": {
      "text/plain": [
       "NOUN    1\n",
       "Name: actual, dtype: int64"
      ]
     },
     "metadata": {},
     "output_type": "display_data"
    },
    {
     "name": "stdout",
     "output_type": "stream",
     "text": [
      "defaultdict(<class 'int'>, {'NOUN': 2})\n",
      "7\n"
     ]
    },
    {
     "data": {
      "text/plain": [
       "NUM    1\n",
       "Name: actual, dtype: int64"
      ]
     },
     "metadata": {},
     "output_type": "display_data"
    },
    {
     "name": "stdout",
     "output_type": "stream",
     "text": [
      "defaultdict(<class 'int'>, {'NUM': 6})\n",
      "Scholieren\n"
     ]
    },
    {
     "data": {
      "text/plain": [
       "NOUN    1\n",
       "Name: actual, dtype: int64"
      ]
     },
     "metadata": {},
     "output_type": "display_data"
    },
    {
     "name": "stdout",
     "output_type": "stream",
     "text": [
      "defaultdict(<class 'int'>, {'NOUN': 1})\n",
      "Academie\n"
     ]
    },
    {
     "data": {
      "text/plain": [
       "NOUN    1\n",
       "Name: actual, dtype: int64"
      ]
     },
     "metadata": {},
     "output_type": "display_data"
    },
    {
     "name": "stdout",
     "output_type": "stream",
     "text": [
      "defaultdict(<class 'int'>, {'NOUN': 2})\n",
      "journalistiek\n"
     ]
    },
    {
     "data": {
      "text/plain": [
       "NOUN    1\n",
       "Name: actual, dtype: int64"
      ]
     },
     "metadata": {},
     "output_type": "display_data"
    },
    {
     "name": "stdout",
     "output_type": "stream",
     "text": [
      "defaultdict(<class 'int'>, {'NOUN': 2})\n",
      "Hogere\n"
     ]
    },
    {
     "data": {
      "text/plain": [
       "ADJ    1\n",
       "Name: actual, dtype: int64"
      ]
     },
     "metadata": {},
     "output_type": "display_data"
    },
    {
     "name": "stdout",
     "output_type": "stream",
     "text": [
      "defaultdict(<class 'int'>, {'ADJ': 1})\n",
      "ontspannends\n"
     ]
    },
    {
     "data": {
      "text/plain": [
       "ADJ    1\n",
       "Name: actual, dtype: int64"
      ]
     },
     "metadata": {},
     "output_type": "display_data"
    },
    {
     "name": "stdout",
     "output_type": "stream",
     "text": [
      "defaultdict(<class 'int'>, {'ADJ': 1})\n",
      "Amerikanen\n"
     ]
    },
    {
     "data": {
      "text/plain": [
       "PROPN    1\n",
       "Name: actual, dtype: int64"
      ]
     },
     "metadata": {},
     "output_type": "display_data"
    },
    {
     "name": "stdout",
     "output_type": "stream",
     "text": [
      "defaultdict(<class 'int'>, {'PROPN': 1})\n",
      "bejubelde\n"
     ]
    },
    {
     "data": {
      "text/plain": [
       "VERB    1\n",
       "Name: actual, dtype: int64"
      ]
     },
     "metadata": {},
     "output_type": "display_data"
    },
    {
     "name": "stdout",
     "output_type": "stream",
     "text": [
      "defaultdict(<class 'int'>, {'VERB': 1})\n",
      "Vrij\n"
     ]
    },
    {
     "data": {
      "text/plain": [
       "ADV    1\n",
       "Name: actual, dtype: int64"
      ]
     },
     "metadata": {},
     "output_type": "display_data"
    },
    {
     "name": "stdout",
     "output_type": "stream",
     "text": [
      "defaultdict(<class 'int'>, {'ADV': 1})\n",
      "Partij\n"
     ]
    },
    {
     "data": {
      "text/plain": [
       "NOUN    1\n",
       "Name: actual, dtype: int64"
      ]
     },
     "metadata": {},
     "output_type": "display_data"
    },
    {
     "name": "stdout",
     "output_type": "stream",
     "text": [
      "defaultdict(<class 'int'>, {'NOUN': 1})\n",
      "Vaticaanse\n"
     ]
    },
    {
     "data": {
      "text/plain": [
       "ADJ    1\n",
       "Name: actual, dtype: int64"
      ]
     },
     "metadata": {},
     "output_type": "display_data"
    },
    {
     "name": "stdout",
     "output_type": "stream",
     "text": [
      "defaultdict(<class 'int'>, {'ADJ': 1})\n",
      "Worldwide\n"
     ]
    },
    {
     "data": {
      "text/plain": [
       "X    1\n",
       "Name: actual, dtype: int64"
      ]
     },
     "metadata": {},
     "output_type": "display_data"
    },
    {
     "name": "stdout",
     "output_type": "stream",
     "text": [
      "defaultdict(<class 'int'>, {'X': 1})\n",
      "de\n"
     ]
    },
    {
     "data": {
      "text/plain": [
       "PROPN    1\n",
       "Name: actual, dtype: int64"
      ]
     },
     "metadata": {},
     "output_type": "display_data"
    },
    {
     "name": "stdout",
     "output_type": "stream",
     "text": [
      "defaultdict(<class 'int'>, {'DET': 1057, 'PROPN': 11})\n",
      "Ad\n"
     ]
    },
    {
     "data": {
      "text/plain": [
       "PROPN    1\n",
       "Name: actual, dtype: int64"
      ]
     },
     "metadata": {},
     "output_type": "display_data"
    },
    {
     "name": "stdout",
     "output_type": "stream",
     "text": [
      "defaultdict(<class 'int'>, {'PROPN': 3})\n",
      "Wiskeverhalen\n"
     ]
    },
    {
     "data": {
      "text/plain": [
       "NOUN    1\n",
       "Name: actual, dtype: int64"
      ]
     },
     "metadata": {},
     "output_type": "display_data"
    },
    {
     "name": "stdout",
     "output_type": "stream",
     "text": [
      "defaultdict(<class 'int'>, {'NOUN': 1})\n"
     ]
    }
   ],
   "source": [
    "from collections import defaultdict\n",
    "top10_confused_tokens = mistakes_df.token.value_counts().index\n",
    "for token in top10_confused_tokens:\n",
    "    print(token)\n",
    "    token_tags = defaultdict(int)\n",
    "    display(mistakes_df[mistakes_df.token==token].actual.value_counts())\n",
    "    for i,sentence in enumerate(all_sentences):\n",
    "        words = sentence.split()\n",
    "        for j,word in enumerate(words):\n",
    "            if word==token:\n",
    "                tag = all_tags[i].split()[j]\n",
    "                token_tags[tag] += 1\n",
    "    print(token_tags)"
   ]
  },
  {
   "cell_type": "code",
   "execution_count": 27,
   "metadata": {
    "ExecuteTime": {
     "end_time": "2020-05-19T09:01:22.978158Z",
     "start_time": "2020-05-19T09:01:22.973160Z"
    }
   },
   "outputs": [
    {
     "name": "stdout",
     "output_type": "stream",
     "text": [
      "Accuracy:  0.9802511116923882\n"
     ]
    }
   ],
   "source": [
    "print(\"Accuracy: \",(total_tags-incorrect_tags)/total_tags)"
   ]
  },
  {
   "cell_type": "code",
   "execution_count": 28,
   "metadata": {
    "ExecuteTime": {
     "end_time": "2020-05-19T09:01:22.991157Z",
     "start_time": "2020-05-19T09:01:22.980161Z"
    }
   },
   "outputs": [
    {
     "data": {
      "text/html": [
       "<div>\n",
       "<style scoped>\n",
       "    .dataframe tbody tr th:only-of-type {\n",
       "        vertical-align: middle;\n",
       "    }\n",
       "\n",
       "    .dataframe tbody tr th {\n",
       "        vertical-align: top;\n",
       "    }\n",
       "\n",
       "    .dataframe thead th {\n",
       "        text-align: right;\n",
       "    }\n",
       "</style>\n",
       "<table border=\"1\" class=\"dataframe\">\n",
       "  <thead>\n",
       "    <tr style=\"text-align: right;\">\n",
       "      <th></th>\n",
       "      <th>sentences</th>\n",
       "      <th>ground_truth</th>\n",
       "      <th>predictions</th>\n",
       "    </tr>\n",
       "  </thead>\n",
       "  <tbody>\n",
       "    <tr>\n",
       "      <th>1389</th>\n",
       "      <td>Vandersteen wekte de sympathie op van zijn collega's en afdelingschef en mocht het vakblad van de slagers illustreren .</td>\n",
       "      <td>PROPN VERB DET NOUN ADP ADP PRON NOUN CCONJ NOUN CCONJ AUX DET NOUN ADP DET NOUN VERB PUNCT</td>\n",
       "      <td>PROPN VERB DET NOUN ADP ADP PRON NOUN CCONJ NOUN CCONJ AUX DET NOUN ADP DET NOUN VERB PUNCT</td>\n",
       "    </tr>\n",
       "    <tr>\n",
       "      <th>1390</th>\n",
       "      <td>Ook de wachtkamer en de personeels- en vergaderzalen mocht hij onder handen nemen .</td>\n",
       "      <td>ADV DET NOUN CCONJ DET X CCONJ NOUN AUX PRON ADP NOUN VERB PUNCT</td>\n",
       "      <td>ADV DET NOUN CCONJ DET X CCONJ NOUN AUX PRON ADP NOUN VERB PUNCT</td>\n",
       "    </tr>\n",
       "    <tr>\n",
       "      <th>1391</th>\n",
       "      <td>Zo kwam hij in contact met J. Meuwissen , een Nederlander die sinds 1936 het blad Bravo uitgaf en op zoek was naar Vlaams en Nederlands tekentalent nu er geen Amerikaanse strips meer mochten gepubliceerd worden .</td>\n",
       "      <td>ADV VERB PRON ADP NOUN ADP PROPN PROPN PUNCT DET PROPN PRON ADP NUM DET NOUN PROPN VERB CCONJ ADP NOUN AUX ADP ADJ CCONJ ADJ NOUN SCONJ ADV DET ADJ NOUN ADV AUX VERB AUX PUNCT</td>\n",
       "      <td>ADV VERB PRON ADP NOUN ADP PROPN PROPN PUNCT DET PROPN PRON ADP NUM DET NOUN PROPN VERB CCONJ ADP NOUN AUX ADP ADJ CCONJ ADJ NOUN ADV ADV DET ADJ NOUN ADV AUX VERB AUX PUNCT</td>\n",
       "    </tr>\n",
       "    <tr>\n",
       "      <th>1392</th>\n",
       "      <td>Vandersteen mocht nu wekelijks een pagina vol tekenen rond Â« Sindbad de zeerover Â» , Â« Thor de holbewoner Â» en Â« Lancelot Â» .</td>\n",
       "      <td>PROPN AUX ADV ADJ DET NOUN ADJ VERB ADP PUNCT PROPN DET NOUN PUNCT PUNCT PUNCT PROPN DET NOUN PUNCT CCONJ PUNCT PROPN PUNCT PUNCT</td>\n",
       "      <td>PROPN AUX ADV ADJ DET NOUN ADJ VERB ADP PUNCT PROPN DET NOUN PUNCT PUNCT PUNCT PROPN DET NOUN PUNCT CCONJ PUNCT PROPN PUNCT PUNCT</td>\n",
       "    </tr>\n",
       "    <tr>\n",
       "      <th>1393</th>\n",
       "      <td>Het waren stuk voor stuk erg onbeholpen , maar charmante strips die de lezers wel op de lachspieren werkten .</td>\n",
       "      <td>PRON AUX NOUN ADP NOUN ADJ ADJ PUNCT CCONJ ADJ NOUN PRON DET NOUN ADV ADP DET NOUN VERB PUNCT</td>\n",
       "      <td>PRON AUX NOUN ADP NOUN ADJ ADJ PUNCT CCONJ ADJ NOUN PRON DET NOUN ADV ADP DET NOUN VERB PUNCT</td>\n",
       "    </tr>\n",
       "  </tbody>\n",
       "</table>\n",
       "</div>"
      ],
      "text/plain": [
       "                                                                                                                                                                                                                 sentences  \\\n",
       "1389  Vandersteen wekte de sympathie op van zijn collega's en afdelingschef en mocht het vakblad van de slagers illustreren .                                                                                                \n",
       "1390  Ook de wachtkamer en de personeels- en vergaderzalen mocht hij onder handen nemen .                                                                                                                                    \n",
       "1391  Zo kwam hij in contact met J. Meuwissen , een Nederlander die sinds 1936 het blad Bravo uitgaf en op zoek was naar Vlaams en Nederlands tekentalent nu er geen Amerikaanse strips meer mochten gepubliceerd worden .   \n",
       "1392  Vandersteen mocht nu wekelijks een pagina vol tekenen rond Â« Sindbad de zeerover Â» , Â« Thor de holbewoner Â» en Â« Lancelot Â» .                                                                                    \n",
       "1393  Het waren stuk voor stuk erg onbeholpen , maar charmante strips die de lezers wel op de lachspieren werkten .                                                                                                          \n",
       "\n",
       "                                                                                                                                                                         ground_truth  \\\n",
       "1389  PROPN VERB DET NOUN ADP ADP PRON NOUN CCONJ NOUN CCONJ AUX DET NOUN ADP DET NOUN VERB PUNCT                                                                                       \n",
       "1390  ADV DET NOUN CCONJ DET X CCONJ NOUN AUX PRON ADP NOUN VERB PUNCT                                                                                                                  \n",
       "1391  ADV VERB PRON ADP NOUN ADP PROPN PROPN PUNCT DET PROPN PRON ADP NUM DET NOUN PROPN VERB CCONJ ADP NOUN AUX ADP ADJ CCONJ ADJ NOUN SCONJ ADV DET ADJ NOUN ADV AUX VERB AUX PUNCT   \n",
       "1392  PROPN AUX ADV ADJ DET NOUN ADJ VERB ADP PUNCT PROPN DET NOUN PUNCT PUNCT PUNCT PROPN DET NOUN PUNCT CCONJ PUNCT PROPN PUNCT PUNCT                                                 \n",
       "1393  PRON AUX NOUN ADP NOUN ADJ ADJ PUNCT CCONJ ADJ NOUN PRON DET NOUN ADV ADP DET NOUN VERB PUNCT                                                                                     \n",
       "\n",
       "                                                                                                                                                                        predictions  \n",
       "1389  PROPN VERB DET NOUN ADP ADP PRON NOUN CCONJ NOUN CCONJ AUX DET NOUN ADP DET NOUN VERB PUNCT                                                                                    \n",
       "1390  ADV DET NOUN CCONJ DET X CCONJ NOUN AUX PRON ADP NOUN VERB PUNCT                                                                                                               \n",
       "1391  ADV VERB PRON ADP NOUN ADP PROPN PROPN PUNCT DET PROPN PRON ADP NUM DET NOUN PROPN VERB CCONJ ADP NOUN AUX ADP ADJ CCONJ ADJ NOUN ADV ADV DET ADJ NOUN ADV AUX VERB AUX PUNCT  \n",
       "1392  PROPN AUX ADV ADJ DET NOUN ADJ VERB ADP PUNCT PROPN DET NOUN PUNCT PUNCT PUNCT PROPN DET NOUN PUNCT CCONJ PUNCT PROPN PUNCT PUNCT                                              \n",
       "1393  PRON AUX NOUN ADP NOUN ADJ ADJ PUNCT CCONJ ADJ NOUN PRON DET NOUN ADV ADP DET NOUN VERB PUNCT                                                                                  "
      ]
     },
     "execution_count": 28,
     "metadata": {},
     "output_type": "execute_result"
    }
   ],
   "source": [
    "ud_pos.tail()"
   ]
  },
  {
   "cell_type": "code",
   "execution_count": null,
   "metadata": {},
   "outputs": [],
   "source": []
  }
 ],
 "metadata": {
  "kernelspec": {
   "display_name": "Python 3.7.3 64-bit ('Continuum': virtualenv)",
   "language": "python",
   "name": "python37364bitcontinuumvirtualenv7de2e329772d4f4b9d5bbd7538f555e2"
  },
  "language_info": {
   "codemirror_mode": {
    "name": "ipython",
    "version": 3
   },
   "file_extension": ".py",
   "mimetype": "text/x-python",
   "name": "python",
   "nbconvert_exporter": "python",
   "pygments_lexer": "ipython3",
   "version": "3.7.3-final"
  },
  "toc": {
   "base_numbering": 1,
   "nav_menu": {},
   "number_sections": false,
   "sideBar": true,
   "skip_h1_title": false,
   "title_cell": "Table of Contents",
   "title_sidebar": "Contents",
   "toc_cell": false,
   "toc_position": {},
   "toc_section_display": true,
   "toc_window_display": false
  }
 },
 "nbformat": 4,
 "nbformat_minor": 2
}