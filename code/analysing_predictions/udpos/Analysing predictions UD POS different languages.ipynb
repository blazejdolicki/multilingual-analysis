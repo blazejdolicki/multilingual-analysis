{
 "cells": [
  {
   "cell_type": "code",
   "execution_count": 2,
   "metadata": {
    "ExecuteTime": {
     "end_time": "2020-06-24T09:53:19.497835Z",
     "start_time": "2020-06-24T09:53:17.906235Z"
    }
   },
   "outputs": [
    {
     "name": "stderr",
     "output_type": "stream",
     "text": [
      "C:\\Users\\bdolicki\\AppData\\Local\\Continuum\\anaconda3\\lib\\site-packages\\ipykernel_launcher.py:4: FutureWarning: Passing a negative integer is deprecated in version 1.0 and will not be supported in future version. Instead, use None to not limit the column width.\n",
      "  after removing the cwd from sys.path.\n"
     ]
    }
   ],
   "source": [
    "import pandas as pd\n",
    "import utils\n",
    "pd.options.display.max_rows = 100000\n",
    "pd.set_option('display.max_colwidth', -1)\n",
    "\n",
    "PATH=\"C:/Users/bdolicki/Documents/Git/multilingual-analysis/code/analysing_predictions/udpos\""
   ]
  },
  {
   "cell_type": "code",
   "execution_count": 27,
   "metadata": {
    "ExecuteTime": {
     "end_time": "2020-06-24T13:46:56.847920Z",
     "start_time": "2020-06-24T13:46:56.840922Z"
    }
   },
   "outputs": [],
   "source": [
    "# for some reason we dont have predictions when de, hu, jv, ka was the source language\n",
    "all_langs = ['af', 'ar', 'bg', 'de', 'el', 'en', 'es', 'et', 'eu', 'fa', 'fi', 'fr', 'he', 'hi', 'hu', 'id', 'it', 'ja', 'jv', 'ka', 'kk', 'ko', 'ml', 'mr', 'ms', 'my', 'nl', 'pt', 'ru', 'sw', 'ta', 'te', 'th', 'tl', 'ur', 'vi', 'zh']\n",
    "train_langs = ['af', 'ar', 'bg', 'el', 'en', 'es', 'et', 'eu', 'fa', 'fi', 'fr', 'he', 'hi', 'id', 'it', 'ja', 'ko', 'nl', 'pt', 'ru']\n",
    "test_langs = train_langs"
   ]
  },
  {
   "cell_type": "code",
   "execution_count": 28,
   "metadata": {
    "ExecuteTime": {
     "end_time": "2020-06-24T13:46:57.400106Z",
     "start_time": "2020-06-24T13:46:57.396108Z"
    }
   },
   "outputs": [],
   "source": [
    "from collections import defaultdict\n",
    "mistakes = defaultdict(dict)\n",
    "all_examples = defaultdict(dict)\n"
   ]
  },
  {
   "cell_type": "code",
   "execution_count": 30,
   "metadata": {
    "ExecuteTime": {
     "end_time": "2020-06-24T13:48:34.562985Z",
     "start_time": "2020-06-24T13:47:17.667986Z"
    },
    "scrolled": true
   },
   "outputs": [
    {
     "name": "stdout",
     "output_type": "stream",
     "text": [
      "test af\n",
      "Zero-shot\n"
     ]
    },
    {
     "data": {
      "text/plain": [
       "te     12\n",
       "die    8 \n",
       "van    4 \n",
       "nie    4 \n",
       "wat    3 \n",
       "dtype: int64"
      ]
     },
     "metadata": {},
     "output_type": "display_data"
    },
    {
     "data": {
      "text/plain": [
       "DET     6\n",
       "PART    6\n",
       "ADP     4\n",
       "PRON    3\n",
       "ADV     1\n",
       "dtype: int64"
      ]
     },
     "metadata": {},
     "output_type": "display_data"
    },
    {
     "name": "stdout",
     "output_type": "stream",
     "text": [
      "test ar\n",
      "Zero-shot\n"
     ]
    },
    {
     "data": {
      "text/plain": [
       "ان      14\n",
       "التي    13\n",
       "من      5 \n",
       "في      4 \n",
       "الذي    2 \n",
       "dtype: int64"
      ]
     },
     "metadata": {},
     "output_type": "display_data"
    },
    {
     "data": {
      "text/plain": [
       "NOUN    15\n",
       "X       3 \n",
       "ADP     2 \n",
       "dtype: int64"
      ]
     },
     "metadata": {},
     "output_type": "display_data"
    },
    {
     "name": "stdout",
     "output_type": "stream",
     "text": [
      "test bg\n",
      "Zero-shot\n"
     ]
    },
    {
     "data": {
      "text/plain": [
       "да    14\n",
       "се    11\n",
       "на    6 \n",
       "не    5 \n",
       "е     1 \n",
       "dtype: int64"
      ]
     },
     "metadata": {},
     "output_type": "display_data"
    },
    {
     "data": {
      "text/plain": [
       "ADP      6\n",
       "ADJ      5\n",
       "AUX      4\n",
       "PROPN    2\n",
       "PRON     2\n",
       "dtype: int64"
      ]
     },
     "metadata": {},
     "output_type": "display_data"
    },
    {
     "name": "stdout",
     "output_type": "stream",
     "text": [
      "test el\n",
      "Zero-shot\n"
     ]
    },
    {
     "data": {
      "text/plain": [
       "του       12\n",
       "να        8 \n",
       "την       7 \n",
       "της       7 \n",
       "Κάστρο    1 \n",
       "dtype: int64"
      ]
     },
     "metadata": {},
     "output_type": "display_data"
    },
    {
     "data": {
      "text/plain": [
       "DET     15\n",
       "NOUN    3 \n",
       "ADP     1 \n",
       "ADJ     1 \n",
       "dtype: int64"
      ]
     },
     "metadata": {},
     "output_type": "display_data"
    },
    {
     "name": "stdout",
     "output_type": "stream",
     "text": [
      "test en\n",
      "Zero-shot\n"
     ]
    },
    {
     "data": {
      "text/plain": [
       "to     14\n",
       "the    9 \n",
       "of     6 \n",
       "a      3 \n",
       "'s     3 \n",
       "dtype: int64"
      ]
     },
     "metadata": {},
     "output_type": "display_data"
    },
    {
     "data": {
      "text/plain": [
       "ADP      5\n",
       "PART     5\n",
       "DET      3\n",
       "NOUN     2\n",
       "PROPN    2\n",
       "dtype: int64"
      ]
     },
     "metadata": {},
     "output_type": "display_data"
    },
    {
     "name": "stdout",
     "output_type": "stream",
     "text": [
      "test es\n",
      "Zero-shot\n"
     ]
    },
    {
     "data": {
      "text/plain": [
       "la      9\n",
       "de      8\n",
       "que     7\n",
       "el      4\n",
       "como    4\n",
       "dtype: int64"
      ]
     },
     "metadata": {},
     "output_type": "display_data"
    },
    {
     "data": {
      "text/plain": [
       "ADP      8\n",
       "PROPN    6\n",
       "DET      4\n",
       "NOUN     1\n",
       "SCONJ    1\n",
       "dtype: int64"
      ]
     },
     "metadata": {},
     "output_type": "display_data"
    },
    {
     "name": "stdout",
     "output_type": "stream",
     "text": [
      "test et\n",
      "Zero-shot\n"
     ]
    },
    {
     "data": {
      "text/plain": [
       "ei     12\n",
       "on     6 \n",
       "ka     5 \n",
       "et     4 \n",
       "oma    3 \n",
       "dtype: int64"
      ]
     },
     "metadata": {},
     "output_type": "display_data"
    },
    {
     "data": {
      "text/plain": [
       "NOUN     9\n",
       "ADV      6\n",
       "ADJ      2\n",
       "PROPN    2\n",
       "VERB     1\n",
       "dtype: int64"
      ]
     },
     "metadata": {},
     "output_type": "display_data"
    },
    {
     "name": "stdout",
     "output_type": "stream",
     "text": [
      "test eu\n",
      "Zero-shot\n"
     ]
    },
    {
     "data": {
      "text/plain": [
       "ez      13\n",
       "zuen    13\n",
       "du      6 \n",
       "da      3 \n",
       "ere     3 \n",
       "dtype: int64"
      ]
     },
     "metadata": {},
     "output_type": "display_data"
    },
    {
     "data": {
      "text/plain": [
       "AUX      12\n",
       "NOUN     4 \n",
       "VERB     2 \n",
       "PROPN    2 \n",
       "dtype: int64"
      ]
     },
     "metadata": {},
     "output_type": "display_data"
    },
    {
     "name": "stdout",
     "output_type": "stream",
     "text": [
      "test fa\n",
      "Zero-shot\n"
     ]
    },
    {
     "data": {
      "text/plain": [
       "را     15\n",
       "که     12\n",
       "به     5 \n",
       "در     4 \n",
       "است    2 \n",
       "dtype: int64"
      ]
     },
     "metadata": {},
     "output_type": "display_data"
    },
    {
     "data": {
      "text/plain": [
       "NOUN    19\n",
       "ADP     1 \n",
       "dtype: int64"
      ]
     },
     "metadata": {},
     "output_type": "display_data"
    },
    {
     "name": "stdout",
     "output_type": "stream",
     "text": [
      "test fi\n",
      "Zero-shot\n"
     ]
    },
    {
     "data": {
      "text/plain": [
       "on      17\n",
       "ei      14\n",
       "että    2 \n",
       "oli     2 \n",
       "niin    2 \n",
       "dtype: int64"
      ]
     },
     "metadata": {},
     "output_type": "display_data"
    },
    {
     "data": {
      "text/plain": [
       "VERB    7\n",
       "AUX     5\n",
       "NOUN    4\n",
       "ADV     2\n",
       "ADJ     1\n",
       "dtype: int64"
      ]
     },
     "metadata": {},
     "output_type": "display_data"
    },
    {
     "name": "stdout",
     "output_type": "stream",
     "text": [
      "test fr\n",
      "Zero-shot\n"
     ]
    },
    {
     "data": {
      "text/plain": [
       "_      20\n",
       "de     10\n",
       "la     4 \n",
       "euh    2 \n",
       "est    2 \n",
       "dtype: int64"
      ]
     },
     "metadata": {},
     "output_type": "display_data"
    },
    {
     "data": {
      "text/plain": [
       "NOUN    10\n",
       "ADP     8 \n",
       "DET     2 \n",
       "dtype: int64"
      ]
     },
     "metadata": {},
     "output_type": "display_data"
    },
    {
     "name": "stdout",
     "output_type": "stream",
     "text": [
      "test he\n",
      "Zero-shot\n"
     ]
    },
    {
     "data": {
      "text/plain": [
       "את     14\n",
       "לא     6 \n",
       "של     6 \n",
       "על     3 \n",
       "אחד    3 \n",
       "dtype: int64"
      ]
     },
     "metadata": {},
     "output_type": "display_data"
    },
    {
     "data": {
      "text/plain": [
       "NOUN     15\n",
       "ADP      4 \n",
       "PROPN    1 \n",
       "dtype: int64"
      ]
     },
     "metadata": {},
     "output_type": "display_data"
    },
    {
     "name": "stdout",
     "output_type": "stream",
     "text": [
      "test hi\n",
      "Zero-shot\n"
     ]
    },
    {
     "data": {
      "text/plain": [
       "के    12\n",
       "को    10\n",
       "की    7 \n",
       "ने    5 \n",
       "है    3 \n",
       "dtype: int64"
      ]
     },
     "metadata": {},
     "output_type": "display_data"
    },
    {
     "data": {
      "text/plain": [
       "ADP      17\n",
       "PROPN    3 \n",
       "dtype: int64"
      ]
     },
     "metadata": {},
     "output_type": "display_data"
    },
    {
     "name": "stdout",
     "output_type": "stream",
     "text": [
      "test id\n",
      "Zero-shot\n"
     ]
    },
    {
     "data": {
      "text/plain": [
       "ini       15\n",
       "yang      8 \n",
       "itu       5 \n",
       "di        4 \n",
       "dengan    1 \n",
       "dtype: int64"
      ]
     },
     "metadata": {},
     "output_type": "display_data"
    },
    {
     "data": {
      "text/plain": [
       "PROPN    13\n",
       "ADP      4 \n",
       "NOUN     3 \n",
       "dtype: int64"
      ]
     },
     "metadata": {},
     "output_type": "display_data"
    },
    {
     "name": "stdout",
     "output_type": "stream",
     "text": [
      "test it\n",
      "Zero-shot\n"
     ]
    },
    {
     "data": {
      "text/plain": [
       "di       7\n",
       "@user    6\n",
       "il       6\n",
       "che      4\n",
       "del      4\n",
       "dtype: int64"
      ]
     },
     "metadata": {},
     "output_type": "display_data"
    },
    {
     "data": {
      "text/plain": [
       "ADP     10\n",
       "NOUN    3 \n",
       "DET     3 \n",
       "SYM     2 \n",
       "ADJ     1 \n",
       "dtype: int64"
      ]
     },
     "metadata": {},
     "output_type": "display_data"
    },
    {
     "name": "stdout",
     "output_type": "stream",
     "text": [
      "test ja\n",
      "Zero-shot\n"
     ]
    },
    {
     "data": {
      "text/plain": [
       "の     19\n",
       "に     18\n",
       "は     1 \n",
       "楽天    1 \n",
       "し     1 \n",
       "dtype: int64"
      ]
     },
     "metadata": {},
     "output_type": "display_data"
    },
    {
     "data": {
      "text/plain": [
       "ADP     16\n",
       "NOUN    4 \n",
       "dtype: int64"
      ]
     },
     "metadata": {},
     "output_type": "display_data"
    },
    {
     "name": "stdout",
     "output_type": "stream",
     "text": [
      "test ko\n",
      "Zero-shot\n"
     ]
    },
    {
     "data": {
      "text/plain": [
       "있다     20\n",
       "수      17\n",
       "것이다    2 \n",
       "이런     1 \n",
       "dtype: int64"
      ]
     },
     "metadata": {},
     "output_type": "display_data"
    },
    {
     "data": {
      "text/plain": [
       "NOUN    14\n",
       "ADV     3 \n",
       "VERB    3 \n",
       "dtype: int64"
      ]
     },
     "metadata": {},
     "output_type": "display_data"
    },
    {
     "name": "stdout",
     "output_type": "stream",
     "text": [
      "test nl\n",
      "Zero-shot\n"
     ]
    },
    {
     "data": {
      "text/plain": [
       "de      10\n",
       "van     6 \n",
       "te      6 \n",
       "zijn    6 \n",
       "er      3 \n",
       "dtype: int64"
      ]
     },
     "metadata": {},
     "output_type": "display_data"
    },
    {
     "data": {
      "text/plain": [
       "ADJ      6\n",
       "PROPN    5\n",
       "ADP      4\n",
       "DET      4\n",
       "ADV      1\n",
       "dtype: int64"
      ]
     },
     "metadata": {},
     "output_type": "display_data"
    },
    {
     "name": "stdout",
     "output_type": "stream",
     "text": [
      "test pt\n",
      "Zero-shot\n"
     ]
    },
    {
     "data": {
      "text/plain": [
       "que    11\n",
       "de     7 \n",
       "a      5 \n",
       "o      4 \n",
       "do     4 \n",
       "dtype: int64"
      ]
     },
     "metadata": {},
     "output_type": "display_data"
    },
    {
     "data": {
      "text/plain": [
       "ADP      9\n",
       "PROPN    7\n",
       "DET      2\n",
       "NOUN     1\n",
       "VERB     1\n",
       "dtype: int64"
      ]
     },
     "metadata": {},
     "output_type": "display_data"
    },
    {
     "name": "stdout",
     "output_type": "stream",
     "text": [
      "test ru\n",
      "Zero-shot\n"
     ]
    },
    {
     "data": {
      "text/plain": [
       "и      14\n",
       "не     12\n",
       "в      5 \n",
       "как    4 \n",
       "что    3 \n",
       "dtype: int64"
      ]
     },
     "metadata": {},
     "output_type": "display_data"
    },
    {
     "data": {
      "text/plain": [
       "PART     9\n",
       "ADP      5\n",
       "ADJ      2\n",
       "PROPN    2\n",
       "NOUN     1\n",
       "dtype: int64"
      ]
     },
     "metadata": {},
     "output_type": "display_data"
    }
   ],
   "source": [
    "for test_lang in train_langs:\n",
    "    most_mistaken_words = []\n",
    "    most_mistaken_pos = []\n",
    "    print(\"test\",test_lang)\n",
    "    for train_lang in test_langs:\n",
    "#         print('train',train_lang)\n",
    "        pa = utils.PredictionsAnalyzer()\n",
    "        ud_pos = pa.read_tag_data(f\"{PATH}/dev_sets/dev-{test_lang}.tsv\",f\"{PATH}/results/dev_{train_lang}_{test_lang}_predictions.txt\")\n",
    "        def is_pred_wrong(actual,pred=None):\n",
    "            return actual!=pred\n",
    "\n",
    "        mistakes_df, conf_df = pa.transform_data(is_pred_wrong,conf_matrix=True)\n",
    "        mistakes[train_lang][test_lang] = mistakes_df\n",
    "        conf_count = pd.DataFrame()\n",
    "        conf_count[\"count\"] = conf_df.sum().sort_values(ascending=False) \n",
    "        conf_count[\"percent\"] = conf_count/conf_count.sum()\n",
    "        \n",
    "        sparse_conf_df = conf_df.reset_index().melt(id_vars=\"index\",var_name=\"actual\",value_name=\"count\").rename(columns={\"index\":\"pred\"})\n",
    "        sparse_conf_df[\"percent\"] = sparse_conf_df[\"count\"]/sparse_conf_df[\"count\"].sum()\n",
    "        sparse_conf_df = sparse_conf_df.sort_values(by=\"count\",ascending=False)\n",
    "#         if train_lang==test_lang:\n",
    "#             print(\"Supervised\")\n",
    "#             display(conf_count[:5])\n",
    "#         display(sparse_conf_df.head(5))\n",
    "#             display(mistakes_df.token.value_counts()[:2])\n",
    "        most_mistaken_words += list(mistakes_df.token.value_counts()[:2].index)\n",
    "        most_mistaken_pos += [conf_count.index[0]]\n",
    "        \n",
    "        \n",
    "#         def is_all(actual, pred=None):\n",
    "#             return True\n",
    "#         all_df, _ = pa.transform_data(is_all,conf_matrix=True)\n",
    "#         all_examples[train_lang][test_lang] = all_df\n",
    "#         rel = pd.DataFrame()\n",
    "#         rel[\"% mistaken\"] = mistakes_df.token.value_counts().divide(all_df.token.value_counts()).sort_values(ascending=False)\n",
    "#         rel[\"all_count\"] = all_df.token.value_counts()\n",
    "#         rel[\"mistaken_count\"] = mistakes_df.token.value_counts()\n",
    "#         rel = rel.dropna()\n",
    "#         display(rel[rel.all_count>5].sort_values(by=[\"% mistaken\",\"all_count\"],ascending=False).head())\n",
    "    print(\"Zero-shot\")\n",
    "    display(pd.Series(most_mistaken_words).value_counts()[:5])\n",
    "    display(pd.Series(most_mistaken_pos).value_counts()[:5])\n",
    "\n",
    "# mistaken die: ar, bg? (40%), et, fi, he, id, ja, ko, \n",
    "# not mistaken die: el, en, es, eu, fa, fr, hi, it, nl, pt, ru"
   ]
  },
  {
   "cell_type": "code",
   "execution_count": 12,
   "metadata": {
    "ExecuteTime": {
     "end_time": "2020-06-24T10:10:18.307429Z",
     "start_time": "2020-06-24T10:10:17.899090Z"
    }
   },
   "outputs": [
    {
     "data": {
      "text/plain": [
       "(0.0, 10.0)"
      ]
     },
     "execution_count": 12,
     "metadata": {},
     "output_type": "execute_result"
    },
    {
     "data": {
      "image/png": "[encoded data removed]",
      "text/plain": [
       "<Figure size 432x288 with 1 Axes>"
      ]
     },
     "metadata": {
      "needs_background": "light"
     },
     "output_type": "display_data"
    }
   ],
   "source": [
    "import seaborn as sns\n",
    "import matplotlib.pyplot as plt\n",
    "sns.distplot(all_examples['af']['en'].token.value_counts())\n",
    "plt.xlim((0,10))"
   ]
  },
  {
   "cell_type": "code",
   "execution_count": 24,
   "metadata": {
    "ExecuteTime": {
     "end_time": "2020-06-24T10:26:51.990758Z",
     "start_time": "2020-06-24T10:26:51.962743Z"
    }
   },
   "outputs": [
    {
     "data": {
      "text/plain": [
       ".     2667\n",
       ",     931 \n",
       "있다    280 \n",
       "수     246 \n",
       "'     191 \n",
       "이     164 \n",
       "있는    162 \n",
       "그     157 \n",
       "(     145 \n",
       ")     145 \n",
       "Name: token, dtype: int64"
      ]
     },
     "execution_count": 24,
     "metadata": {},
     "output_type": "execute_result"
    }
   ],
   "source": [
    "all_examples['ko']['ko'].token.value_counts()[:10]"
   ]
  },
  {
   "cell_type": "code",
   "execution_count": 21,
   "metadata": {
    "ExecuteTime": {
     "end_time": "2020-06-24T07:42:59.501177Z",
     "start_time": "2020-06-24T07:42:59.483207Z"
    }
   },
   "outputs": [
    {
     "data": {
      "text/plain": [
       "duck     NaN      \n",
       "eagle     0.800000\n",
       "falcon    0.956522\n",
       "dtype: float64"
      ]
     },
     "execution_count": 21,
     "metadata": {},
     "output_type": "execute_result"
    }
   ],
   "source": [
    "s1 = pd.Series({'eagle': 160.0, 'falcon': 330.0})\n",
    "s2 = pd.Series({'falcon': 345.0, 'eagle': 200.0, 'duck': 30.0})\n",
    "s1.divide(s2)"
   ]
  },
  {
   "cell_type": "code",
   "execution_count": 24,
   "metadata": {
    "ExecuteTime": {
     "end_time": "2020-06-24T07:43:34.640495Z",
     "start_time": "2020-06-24T07:43:34.633491Z"
    }
   },
   "outputs": [
    {
     "data": {
      "text/plain": [
       "eagle     160.0\n",
       "falcon    330.0\n",
       "dtype: float64"
      ]
     },
     "execution_count": 24,
     "metadata": {},
     "output_type": "execute_result"
    }
   ],
   "source": [
    "s1"
   ]
  },
  {
   "cell_type": "code",
   "execution_count": 164,
   "metadata": {
    "ExecuteTime": {
     "end_time": "2020-06-23T16:24:10.683125Z",
     "start_time": "2020-06-23T16:24:10.675154Z"
    }
   },
   "outputs": [
    {
     "data": {
      "text/plain": [
       "Index(['predicted', 'actual', 'token', 'sentence', 'actual_tokens'], dtype='object')"
      ]
     },
     "execution_count": 164,
     "metadata": {},
     "output_type": "execute_result"
    }
   ],
   "source": [
    "mistakes_df.columns"
   ]
  },
  {
   "cell_type": "code",
   "execution_count": 165,
   "metadata": {
    "ExecuteTime": {
     "end_time": "2020-06-23T16:24:10.710156Z",
     "start_time": "2020-06-23T16:24:10.686120Z"
    }
   },
   "outputs": [
    {
     "ename": "KeyError",
     "evalue": "'el'",
     "output_type": "error",
     "traceback": [
      "\u001b[1;31m---------------------------------------------------------------------------\u001b[0m",
      "\u001b[1;31mKeyError\u001b[0m                                  Traceback (most recent call last)",
      "\u001b[1;32m<ipython-input-165-19673ae2444e>\u001b[0m in \u001b[0;36m<module>\u001b[1;34m\u001b[0m\n\u001b[1;32m----> 1\u001b[1;33m \u001b[0mmistakes_df\u001b[0m \u001b[1;33m=\u001b[0m \u001b[0mmistakes\u001b[0m\u001b[1;33m[\u001b[0m\u001b[1;34m'et'\u001b[0m\u001b[1;33m]\u001b[0m\u001b[1;33m[\u001b[0m\u001b[1;34m'el'\u001b[0m\u001b[1;33m]\u001b[0m\u001b[1;33m\u001b[0m\u001b[1;33m\u001b[0m\u001b[0m\n\u001b[0m\u001b[0;32m      2\u001b[0m \u001b[0mmistakes_df\u001b[0m\u001b[1;33m[\u001b[0m\u001b[0mmistakes_df\u001b[0m\u001b[1;33m[\u001b[0m\u001b[1;34m'actual'\u001b[0m\u001b[1;33m]\u001b[0m\u001b[1;33m==\u001b[0m\u001b[1;34m'DET'\u001b[0m\u001b[1;33m]\u001b[0m\u001b[1;33m\u001b[0m\u001b[1;33m\u001b[0m\u001b[0m\n",
      "\u001b[1;31mKeyError\u001b[0m: 'el'"
     ]
    }
   ],
   "source": [
    "mistakes_df = mistakes['et']['el']\n",
    "mistakes_df[mistakes_df['actual']=='DET']"
   ]
  },
  {
   "cell_type": "code",
   "execution_count": 78,
   "metadata": {
    "ExecuteTime": {
     "end_time": "2020-06-23T13:49:11.302166Z",
     "start_time": "2020-06-23T13:49:11.279364Z"
    }
   },
   "outputs": [
    {
     "data": {
      "text/plain": [
       "te                        104\n",
       "nie                       74 \n",
       "hierdie                   72 \n",
       "om                        49 \n",
       "'n                        46 \n",
       "se                        33 \n",
       "ander                     18 \n",
       "as                        13 \n",
       "Hierdie                   12 \n",
       "sodanige                  11 \n",
       "van                       9  \n",
       "alle                      8  \n",
       "geen                      8  \n",
       "Crime                     7  \n",
       "wanneer                   7  \n",
       "GCIS                      6  \n",
       "het                       6  \n",
       "Madiba                    6  \n",
       "/                         6  \n",
       "Stop                      5  \n",
       "in                        5  \n",
       "soos                      5  \n",
       "uit                       5  \n",
       "derde                     5  \n",
       "probeer                   5  \n",
       "mnr                       4  \n",
       "onderhewig                4  \n",
       "af                        4  \n",
       "egter                     4  \n",
       "Alle                      4  \n",
       "meer                      4  \n",
       "daardie                   3  \n",
       "al                        3  \n",
       "na                        3  \n",
       "hoe                       3  \n",
       "gebruik                   3  \n",
       "aan                       3  \n",
       "op                        3  \n",
       "2                         3  \n",
       "waarin                    3  \n",
       "afdwingbaar               3  \n",
       "Mandela                   3  \n",
       "waar                      2  \n",
       "SAPD                      2  \n",
       "ANC                       2  \n",
       "seker                     2  \n",
       "20                        2  \n",
       "Wanneer                   2  \n",
       "6                         2  \n",
       "soveel                    2  \n",
       "geïmpliseerde             2  \n",
       "Waterwese                 2  \n",
       "beskikbaar                2  \n",
       "2002                      2  \n",
       "hierbo                    2  \n",
       "gereed                    2  \n",
       "word                      2  \n",
       "25                        2  \n",
       "nodig                     2  \n",
       "08600                     2  \n",
       "beperk                    2  \n",
       "2001                      2  \n",
       "insluitende               2  \n",
       "kl                        2  \n",
       "hetsy                     2  \n",
       "werk                      2  \n",
       "sekere                    2  \n",
       "waarvoor                  2  \n",
       "kan                       2  \n",
       "kWh                       2  \n",
       "ongeag                    2  \n",
       "Regeringskommunikasie-    2  \n",
       "aanspreeklik              2  \n",
       "baie                      2  \n",
       "nóg                       2  \n",
       "insluitend                2  \n",
       "10                        2  \n",
       "-inligtingstelsel         2  \n",
       "Nóg                       2  \n",
       "111                       2  \n",
       "andere                    2  \n",
       "Toivo                     2  \n",
       "Suid-Afrikaners           2  \n",
       "Klerk                     2  \n",
       "314                       1  \n",
       "gebind                    1  \n",
       "gerieflikheidshalwe       1  \n",
       "inligtings-               1  \n",
       "wil                       1  \n",
       "ya                        1  \n",
       "24                        1  \n",
       "50ste                     1  \n",
       "laat                      1  \n",
       "bestuur                   1  \n",
       "betrekking                1  \n",
       "paar                      1  \n",
       "voor                      1  \n",
       "Joel                      1  \n",
       "l                         1  \n",
       "verskeie                  1  \n",
       "12                        1  \n",
       "PW                        1  \n",
       "Nasies                    1  \n",
       "soortgelyk                1  \n",
       "1912                      1  \n",
       "Harare                    1  \n",
       "byeen                     1  \n",
       "einde                     1  \n",
       "só                        1  \n",
       "50                        1  \n",
       "Apex-Prioriteite          1  \n",
       "Inkosi                    1  \n",
       "doeane-en-aksyns          1  \n",
       "nie-seksistiese           1  \n",
       "comrades                  1  \n",
       "want                      1  \n",
       "oorlede                   1  \n",
       "vry                       1  \n",
       "1910                      1  \n",
       "100%                      1  \n",
       "Baie                      1  \n",
       "sterker                   1  \n",
       "Hoof-                     1  \n",
       "besig                     1  \n",
       "so                        1  \n",
       "Harry                     1  \n",
       "Dingake                   1  \n",
       "pos                       1  \n",
       "regs-                     1  \n",
       "Laat                      1  \n",
       "skeibaar                  1  \n",
       "Swapo                     1  \n",
       "Fleur                     1  \n",
       "waarop                    1  \n",
       "GCIS2004                  1  \n",
       "©                         1  \n",
       "Daarbenewens              1  \n",
       "duidelik                  1  \n",
       "durf                      1  \n",
       "versoenbaar               1  \n",
       "Buthelezi                 1  \n",
       "Tambo                     1  \n",
       "rol                       1  \n",
       "Schwarz                   1  \n",
       "DEAT                      1  \n",
       "Oliver                    1  \n",
       "de                        1  \n",
       "000                       1  \n",
       "Protokol                  1  \n",
       "daarop                    1  \n",
       "verenigde                 1  \n",
       "genoemde                  1  \n",
       "daarna                    1  \n",
       "+27                       1  \n",
       "Rolihlahla                1  \n",
       "electronic@gcis.gov.za    1  \n",
       "wees                      1  \n",
       "Joffe                     1  \n",
       "2140                      1  \n",
       "to                        1  \n",
       "onderhandelbaar           1  \n",
       "Lord                      1  \n",
       "verby                     1  \n",
       "III                       1  \n",
       "voetstoots                1  \n",
       "43(6)                     1  \n",
       "vas                       1  \n",
       "Worcester                 1  \n",
       "verlede                   1  \n",
       "Andimba                   1  \n",
       "keer                      1  \n",
       "handig                    1  \n",
       "bly                       1  \n",
       "volle                     1  \n",
       "toe                       1  \n",
       "VOORBEHOU                 1  \n",
       "2004                      1  \n",
       "DWAF                      1  \n",
       "wyle                      1  \n",
       "Helen                     1  \n",
       "genoeg                    1  \n",
       "e-pos                     1  \n",
       "geleë                     1  \n",
       "nie-rassige               1  \n",
       "pre-Staatsrede-debat      1  \n",
       "dr                        1  \n",
       "by                        1  \n",
       "Eskom                     1  \n",
       "Congress                  1  \n",
       "hoeveel                   1  \n",
       "Suid-Afrika-EU-beraad     1  \n",
       "Onderhewig                1  \n",
       "Madiba-familie            1  \n",
       "regoor                    1  \n",
       "waarom                    1  \n",
       "self                      1  \n",
       "behulp                    1  \n",
       "Waar                      1  \n",
       "me                        1  \n",
       "buiten                    1  \n",
       "Stop-oproepsentrums       1  \n",
       "Daarom                    1  \n",
       "onder                     1  \n",
       "Om                        1  \n",
       "Palestyne                 1  \n",
       "Israeliete                1  \n",
       "Charlotte                 1  \n",
       "bekend                    1  \n",
       "Neil                      1  \n",
       "regulerings-              1  \n",
       "Bel                       1  \n",
       "weg                       1  \n",
       "pasklaar                  1  \n",
       "Barnard                   1  \n",
       "Februarie                 1  \n",
       "Inkatha                   1  \n",
       "African                   1  \n",
       "Kom                       1  \n",
       "Rivonia-regspan           1  \n",
       "Rivonia                   1  \n",
       "Kyoto                     1  \n",
       "ooreenkomstig             1  \n",
       "anders                    1  \n",
       "geblyk                    1  \n",
       "of                        1  \n",
       "almal                     1  \n",
       "gesond                    1  \n",
       "Mangosuthu                1  \n",
       "diegene                   1  \n",
       "ALLE                      1  \n",
       "Pastoors                  1  \n",
       "sodanig                   1  \n",
       "Le                        1  \n",
       "43(5)                     1  \n",
       "behalwe                   1  \n",
       "Suzman                    1  \n",
       "National                  1  \n",
       "daarom                    1  \n",
       "Nelson                    1  \n",
       "Tree                      1  \n",
       "daaroor                   1  \n",
       "moontlik                  1  \n",
       "Name: token, dtype: int64"
      ]
     },
     "execution_count": 78,
     "metadata": {},
     "output_type": "execute_result"
    }
   ],
   "source": [
    "mistakes_df.token.value_counts()"
   ]
  },
  {
   "cell_type": "code",
   "execution_count": 100,
   "metadata": {
    "ExecuteTime": {
     "end_time": "2020-06-23T14:34:01.063271Z",
     "start_time": "2020-06-23T14:34:01.059268Z"
    }
   },
   "outputs": [],
   "source": [
    "all_df = all_examples['af']['ar']"
   ]
  },
  {
   "cell_type": "code",
   "execution_count": 101,
   "metadata": {
    "ExecuteTime": {
     "end_time": "2020-06-23T14:34:01.390844Z",
     "start_time": "2020-06-23T14:34:01.364867Z"
    }
   },
   "outputs": [
    {
     "data": {
      "text/plain": [
       "CCONJ    148\n",
       "Name: actual, dtype: int64"
      ]
     },
     "execution_count": 101,
     "metadata": {},
     "output_type": "execute_result"
    }
   ],
   "source": [
    "all_df[all_df.token=='أن'].actual.value_counts()"
   ]
  }
 ],
 "metadata": {
  "kernelspec": {
   "display_name": "Python 3",
   "language": "python",
   "name": "python3"
  },
  "language_info": {
   "codemirror_mode": {
    "name": "ipython",
    "version": 3
   },
   "file_extension": ".py",
   "mimetype": "text/x-python",
   "name": "python",
   "nbconvert_exporter": "python",
   "pygments_lexer": "ipython3",
   "version": "3.7.3"
  },
  "toc": {
   "base_numbering": 1,
   "nav_menu": {},
   "number_sections": false,
   "sideBar": true,
   "skip_h1_title": false,
   "title_cell": "Table of Contents",
   "title_sidebar": "Contents",
   "toc_cell": false,
   "toc_position": {},
   "toc_section_display": true,
   "toc_window_display": false
  }
 },
 "nbformat": 4,
 "nbformat_minor": 4
}
