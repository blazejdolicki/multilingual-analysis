{
 "cells": [
  {
   "cell_type": "markdown",
   "metadata": {},
   "source": [
    "There are two versions of XLM-R - base and large. The architectural differences can be seen in Table 7. of the original paper (https://arxiv.org/abs/1911.02116). In our experiments it took about 3x more time to train the large model (on a single V100 GPU it took ~1 hour and ~3 hours to train on English for the UD POS task). Therefore training on the base model would significantly reduce the computation resources used for the experiment. In this notebook we check the difference in performance between base and large for every task when trained on English and evaluated on all languages. For all tasks the differences were between 1 and 3%, so we decided to use the base model for further experiments."
   ]
  },
  {
   "cell_type": "code",
   "execution_count": 4,
   "metadata": {
    "ExecuteTime": {
     "end_time": "2020-05-26T10:48:06.025298Z",
     "start_time": "2020-05-26T10:48:04.665891Z"
    }
   },
   "outputs": [],
   "source": [
    "import pandas as pd"
   ]
  },
  {
   "cell_type": "code",
   "execution_count": 5,
   "metadata": {
    "ExecuteTime": {
     "end_time": "2020-05-26T10:48:06.066436Z",
     "start_time": "2020-05-26T10:48:06.026308Z"
    }
   },
   "outputs": [],
   "source": [
    "def get_accuracy(filename):()\n",
    "    results = {\"lang\":[],\"acc\":[],\"f1\":[]}\n",
    "    with open(filename) as f:\n",
    "        lines = f.read().split(\"\\n\")\n",
    "        f.close()\n",
    "\n",
    "    for line in lines:\n",
    "        if \"language\" in line:\n",
    "            language = line.split(\"=\")[1]\n",
    "            results[\"lang\"].append(language)\n",
    "        elif \"accuracy\" in line:\n",
    "            accuracy = line.split()[2]\n",
    "            results[\"acc\"].append(float(accuracy))\n",
    "        elif \"f1\" in line:\n",
    "            f1 = line.split()[2]\n",
    "            results[\"f1\"].append(float(f1))\n",
    "        else:\n",
    "            continue\n",
    "    results_df = pd.DataFrame.from_dict(results)\n",
    "    return results_df"
   ]
  },
  {
   "cell_type": "code",
   "execution_count": 6,
   "metadata": {
    "ExecuteTime": {
     "end_time": "2020-05-26T10:48:06.658352Z",
     "start_time": "2020-05-26T10:48:06.650708Z"
    }
   },
   "outputs": [],
   "source": [
    "def get_merged_results(task):\n",
    "    if not task in [\"udpos\",\"panx\"]:\n",
    "        raise ValueError(\"Wrong task name. Possible task names are \\\"udpos\\\" or \\\"panx\\\"\")\n",
    "    base = get_accuracy(\"dev_results_base_{}.txt\".format(task))\n",
    "    large = get_accuracy(\"dev_results_large_{}.txt\".format(task))\n",
    "    merged = base.merge(large,on=\"lang\",suffixes=(\"_base\",\"_large\"))\n",
    "    merged[\"acc_diff\"] = merged[\"acc_large\"]-merged[\"acc_base\"]\n",
    "    merged[\"f1_diff\"] = merged[\"f1_large\"]-merged[\"f1_base\"]\n",
    "    return merged"
   ]
  },
  {
   "cell_type": "markdown",
   "metadata": {},
   "source": [
    "## UD POS"
   ]
  },
  {
   "cell_type": "code",
   "execution_count": 12,
   "metadata": {
    "ExecuteTime": {
     "end_time": "2020-05-26T10:49:24.012878Z",
     "start_time": "2020-05-26T10:49:23.999282Z"
    }
   },
   "outputs": [],
   "source": [
    "udpos = get_merged_results(\"udpos\")"
   ]
  },
  {
   "cell_type": "code",
   "execution_count": 9,
   "metadata": {
    "ExecuteTime": {
     "end_time": "2020-05-26T10:48:50.776665Z",
     "start_time": "2020-05-26T10:48:50.759956Z"
    }
   },
   "outputs": [
    {
     "data": {
      "text/html": [
       "<div>\n",
       "<style scoped>\n",
       "    .dataframe tbody tr th:only-of-type {\n",
       "        vertical-align: middle;\n",
       "    }\n",
       "\n",
       "    .dataframe tbody tr th {\n",
       "        vertical-align: top;\n",
       "    }\n",
       "\n",
       "    .dataframe thead th {\n",
       "        text-align: right;\n",
       "    }\n",
       "</style>\n",
       "<table border=\"1\" class=\"dataframe\">\n",
       "  <thead>\n",
       "    <tr style=\"text-align: right;\">\n",
       "      <th></th>\n",
       "      <th>lang</th>\n",
       "      <th>acc_base</th>\n",
       "      <th>f1_base</th>\n",
       "      <th>acc_large</th>\n",
       "      <th>f1_large</th>\n",
       "      <th>acc_diff</th>\n",
       "      <th>f1_diff</th>\n",
       "    </tr>\n",
       "  </thead>\n",
       "  <tbody>\n",
       "    <tr>\n",
       "      <th>28</th>\n",
       "      <td>zh</td>\n",
       "      <td>0.415462</td>\n",
       "      <td>0.321440</td>\n",
       "      <td>0.599937</td>\n",
       "      <td>0.518073</td>\n",
       "      <td>0.184474</td>\n",
       "      <td>0.196633</td>\n",
       "    </tr>\n",
       "    <tr>\n",
       "      <th>17</th>\n",
       "      <td>ja</td>\n",
       "      <td>0.334931</td>\n",
       "      <td>0.283111</td>\n",
       "      <td>0.476954</td>\n",
       "      <td>0.391780</td>\n",
       "      <td>0.142023</td>\n",
       "      <td>0.108669</td>\n",
       "    </tr>\n",
       "    <tr>\n",
       "      <th>8</th>\n",
       "      <td>eu</td>\n",
       "      <td>0.749243</td>\n",
       "      <td>0.678295</td>\n",
       "      <td>0.801121</td>\n",
       "      <td>0.745933</td>\n",
       "      <td>0.051878</td>\n",
       "      <td>0.067638</td>\n",
       "    </tr>\n",
       "    <tr>\n",
       "      <th>26</th>\n",
       "      <td>ur</td>\n",
       "      <td>0.719224</td>\n",
       "      <td>0.622772</td>\n",
       "      <td>0.749194</td>\n",
       "      <td>0.672522</td>\n",
       "      <td>0.029971</td>\n",
       "      <td>0.049750</td>\n",
       "    </tr>\n",
       "    <tr>\n",
       "      <th>19</th>\n",
       "      <td>mr</td>\n",
       "      <td>0.832500</td>\n",
       "      <td>0.766082</td>\n",
       "      <td>0.860000</td>\n",
       "      <td>0.815029</td>\n",
       "      <td>0.027500</td>\n",
       "      <td>0.048947</td>\n",
       "    </tr>\n",
       "  </tbody>\n",
       "</table>\n",
       "</div>"
      ],
      "text/plain": [
       "   lang  acc_base   f1_base  acc_large  f1_large  acc_diff   f1_diff\n",
       "28   zh  0.415462  0.321440   0.599937  0.518073  0.184474  0.196633\n",
       "17   ja  0.334931  0.283111   0.476954  0.391780  0.142023  0.108669\n",
       "8    eu  0.749243  0.678295   0.801121  0.745933  0.051878  0.067638\n",
       "26   ur  0.719224  0.622772   0.749194  0.672522  0.029971  0.049750\n",
       "19   mr  0.832500  0.766082   0.860000  0.815029  0.027500  0.048947"
      ]
     },
     "execution_count": 9,
     "metadata": {},
     "output_type": "execute_result"
    }
   ],
   "source": [
    "udpos.sort_values(by=\"acc_diff\",ascending=False).head()"
   ]
  },
  {
   "cell_type": "code",
   "execution_count": 10,
   "metadata": {
    "ExecuteTime": {
     "end_time": "2020-05-26T10:49:04.926555Z",
     "start_time": "2020-05-26T10:49:04.873717Z"
    }
   },
   "outputs": [
    {
     "data": {
      "text/html": [
       "<div>\n",
       "<style scoped>\n",
       "    .dataframe tbody tr th:only-of-type {\n",
       "        vertical-align: middle;\n",
       "    }\n",
       "\n",
       "    .dataframe tbody tr th {\n",
       "        vertical-align: top;\n",
       "    }\n",
       "\n",
       "    .dataframe thead th {\n",
       "        text-align: right;\n",
       "    }\n",
       "</style>\n",
       "<table border=\"1\" class=\"dataframe\">\n",
       "  <thead>\n",
       "    <tr style=\"text-align: right;\">\n",
       "      <th></th>\n",
       "      <th>acc_base</th>\n",
       "      <th>f1_base</th>\n",
       "      <th>acc_large</th>\n",
       "      <th>f1_large</th>\n",
       "      <th>acc_diff</th>\n",
       "      <th>f1_diff</th>\n",
       "    </tr>\n",
       "  </thead>\n",
       "  <tbody>\n",
       "    <tr>\n",
       "      <th>count</th>\n",
       "      <td>29.000000</td>\n",
       "      <td>29.000000</td>\n",
       "      <td>29.000000</td>\n",
       "      <td>29.000000</td>\n",
       "      <td>29.000000</td>\n",
       "      <td>29.000000</td>\n",
       "    </tr>\n",
       "    <tr>\n",
       "      <th>mean</th>\n",
       "      <td>0.779038</td>\n",
       "      <td>0.734121</td>\n",
       "      <td>0.798541</td>\n",
       "      <td>0.757257</td>\n",
       "      <td>0.019503</td>\n",
       "      <td>0.023136</td>\n",
       "    </tr>\n",
       "    <tr>\n",
       "      <th>std</th>\n",
       "      <td>0.155571</td>\n",
       "      <td>0.176603</td>\n",
       "      <td>0.126849</td>\n",
       "      <td>0.149100</td>\n",
       "      <td>0.042378</td>\n",
       "      <td>0.042229</td>\n",
       "    </tr>\n",
       "    <tr>\n",
       "      <th>min</th>\n",
       "      <td>0.334931</td>\n",
       "      <td>0.283111</td>\n",
       "      <td>0.476954</td>\n",
       "      <td>0.391780</td>\n",
       "      <td>-0.014233</td>\n",
       "      <td>-0.014566</td>\n",
       "    </tr>\n",
       "    <tr>\n",
       "      <th>25%</th>\n",
       "      <td>0.733418</td>\n",
       "      <td>0.649947</td>\n",
       "      <td>0.754300</td>\n",
       "      <td>0.690602</td>\n",
       "      <td>0.002616</td>\n",
       "      <td>0.003844</td>\n",
       "    </tr>\n",
       "    <tr>\n",
       "      <th>50%</th>\n",
       "      <td>0.855693</td>\n",
       "      <td>0.815821</td>\n",
       "      <td>0.857593</td>\n",
       "      <td>0.815029</td>\n",
       "      <td>0.005819</td>\n",
       "      <td>0.007879</td>\n",
       "    </tr>\n",
       "    <tr>\n",
       "      <th>75%</th>\n",
       "      <td>0.886631</td>\n",
       "      <td>0.872470</td>\n",
       "      <td>0.887233</td>\n",
       "      <td>0.875398</td>\n",
       "      <td>0.020882</td>\n",
       "      <td>0.025952</td>\n",
       "    </tr>\n",
       "    <tr>\n",
       "      <th>max</th>\n",
       "      <td>0.966487</td>\n",
       "      <td>0.960648</td>\n",
       "      <td>0.969856</td>\n",
       "      <td>0.964492</td>\n",
       "      <td>0.184474</td>\n",
       "      <td>0.196633</td>\n",
       "    </tr>\n",
       "  </tbody>\n",
       "</table>\n",
       "</div>"
      ],
      "text/plain": [
       "        acc_base    f1_base  acc_large   f1_large   acc_diff    f1_diff\n",
       "count  29.000000  29.000000  29.000000  29.000000  29.000000  29.000000\n",
       "mean    0.779038   0.734121   0.798541   0.757257   0.019503   0.023136\n",
       "std     0.155571   0.176603   0.126849   0.149100   0.042378   0.042229\n",
       "min     0.334931   0.283111   0.476954   0.391780  -0.014233  -0.014566\n",
       "25%     0.733418   0.649947   0.754300   0.690602   0.002616   0.003844\n",
       "50%     0.855693   0.815821   0.857593   0.815029   0.005819   0.007879\n",
       "75%     0.886631   0.872470   0.887233   0.875398   0.020882   0.025952\n",
       "max     0.966487   0.960648   0.969856   0.964492   0.184474   0.196633"
      ]
     },
     "execution_count": 10,
     "metadata": {},
     "output_type": "execute_result"
    }
   ],
   "source": [
    "udpos.describe()"
   ]
  },
  {
   "cell_type": "markdown",
   "metadata": {},
   "source": [
    "### Languages used"
   ]
  },
  {
   "cell_type": "code",
   "execution_count": 18,
   "metadata": {
    "ExecuteTime": {
     "end_time": "2020-05-26T10:54:49.947472Z",
     "start_time": "2020-05-26T10:54:49.939572Z"
    }
   },
   "outputs": [
    {
     "data": {
      "text/plain": [
       "'af ar bg de el en es et eu fa fi fr he hi hu id it ja ko mr nl pt ru ta te tr ur vi zh'"
      ]
     },
     "execution_count": 18,
     "metadata": {},
     "output_type": "execute_result"
    }
   ],
   "source": [
    "\" \".join(sorted(udpos.lang.unique()))"
   ]
  },
  {
   "cell_type": "code",
   "execution_count": 21,
   "metadata": {
    "ExecuteTime": {
     "end_time": "2020-05-26T10:56:39.276165Z",
     "start_time": "2020-05-26T10:56:39.270246Z"
    }
   },
   "outputs": [
    {
     "name": "stdout",
     "output_type": "stream",
     "text": [
      "Nr of langauges: 29\n"
     ]
    }
   ],
   "source": [
    "print(\"Nr of langauges:\",udpos.lang.nunique())"
   ]
  },
  {
   "cell_type": "markdown",
   "metadata": {},
   "source": [
    "For udpos we are missing kk, th, tl, yo (kazakh, thai, togolug, yoruba) because they don't have dev sets"
   ]
  },
  {
   "cell_type": "markdown",
   "metadata": {},
   "source": [
    "## Panx (NER)"
   ]
  },
  {
   "cell_type": "code",
   "execution_count": 13,
   "metadata": {
    "ExecuteTime": {
     "end_time": "2020-05-26T10:51:24.746287Z",
     "start_time": "2020-05-26T10:51:24.724647Z"
    }
   },
   "outputs": [],
   "source": [
    "panx = get_merged_results(\"panx\")"
   ]
  },
  {
   "cell_type": "code",
   "execution_count": 15,
   "metadata": {
    "ExecuteTime": {
     "end_time": "2020-05-26T10:51:36.292115Z",
     "start_time": "2020-05-26T10:51:36.271655Z"
    }
   },
   "outputs": [
    {
     "data": {
      "text/html": [
       "<div>\n",
       "<style scoped>\n",
       "    .dataframe tbody tr th:only-of-type {\n",
       "        vertical-align: middle;\n",
       "    }\n",
       "\n",
       "    .dataframe tbody tr th {\n",
       "        vertical-align: top;\n",
       "    }\n",
       "\n",
       "    .dataframe thead th {\n",
       "        text-align: right;\n",
       "    }\n",
       "</style>\n",
       "<table border=\"1\" class=\"dataframe\">\n",
       "  <thead>\n",
       "    <tr style=\"text-align: right;\">\n",
       "      <th></th>\n",
       "      <th>lang</th>\n",
       "      <th>acc_base</th>\n",
       "      <th>f1_base</th>\n",
       "      <th>acc_large</th>\n",
       "      <th>f1_large</th>\n",
       "      <th>acc_diff</th>\n",
       "      <th>f1_diff</th>\n",
       "    </tr>\n",
       "  </thead>\n",
       "  <tbody>\n",
       "    <tr>\n",
       "      <th>3</th>\n",
       "      <td>id</td>\n",
       "      <td>0.705829</td>\n",
       "      <td>0.483915</td>\n",
       "      <td>0.785134</td>\n",
       "      <td>0.537441</td>\n",
       "      <td>0.079305</td>\n",
       "      <td>0.053526</td>\n",
       "    </tr>\n",
       "    <tr>\n",
       "      <th>34</th>\n",
       "      <td>zh</td>\n",
       "      <td>0.672967</td>\n",
       "      <td>0.203989</td>\n",
       "      <td>0.747190</td>\n",
       "      <td>0.286597</td>\n",
       "      <td>0.074222</td>\n",
       "      <td>0.082608</td>\n",
       "    </tr>\n",
       "    <tr>\n",
       "      <th>2</th>\n",
       "      <td>vi</td>\n",
       "      <td>0.818271</td>\n",
       "      <td>0.644834</td>\n",
       "      <td>0.888013</td>\n",
       "      <td>0.773377</td>\n",
       "      <td>0.069742</td>\n",
       "      <td>0.128543</td>\n",
       "    </tr>\n",
       "    <tr>\n",
       "      <th>16</th>\n",
       "      <td>bn</td>\n",
       "      <td>0.780784</td>\n",
       "      <td>0.684811</td>\n",
       "      <td>0.850034</td>\n",
       "      <td>0.769163</td>\n",
       "      <td>0.069250</td>\n",
       "      <td>0.084352</td>\n",
       "    </tr>\n",
       "    <tr>\n",
       "      <th>27</th>\n",
       "      <td>ja</td>\n",
       "      <td>0.659142</td>\n",
       "      <td>0.151699</td>\n",
       "      <td>0.715916</td>\n",
       "      <td>0.191296</td>\n",
       "      <td>0.056774</td>\n",
       "      <td>0.039597</td>\n",
       "    </tr>\n",
       "  </tbody>\n",
       "</table>\n",
       "</div>"
      ],
      "text/plain": [
       "   lang  acc_base   f1_base  acc_large  f1_large  acc_diff   f1_diff\n",
       "3    id  0.705829  0.483915   0.785134  0.537441  0.079305  0.053526\n",
       "34   zh  0.672967  0.203989   0.747190  0.286597  0.074222  0.082608\n",
       "2    vi  0.818271  0.644834   0.888013  0.773377  0.069742  0.128543\n",
       "16   bn  0.780784  0.684811   0.850034  0.769163  0.069250  0.084352\n",
       "27   ja  0.659142  0.151699   0.715916  0.191296  0.056774  0.039597"
      ]
     },
     "execution_count": 15,
     "metadata": {},
     "output_type": "execute_result"
    }
   ],
   "source": [
    "panx.sort_values(by=\"acc_diff\",ascending=False).head()"
   ]
  },
  {
   "cell_type": "code",
   "execution_count": 16,
   "metadata": {
    "ExecuteTime": {
     "end_time": "2020-05-26T10:51:51.362840Z",
     "start_time": "2020-05-26T10:51:51.327724Z"
    }
   },
   "outputs": [
    {
     "data": {
      "text/html": [
       "<div>\n",
       "<style scoped>\n",
       "    .dataframe tbody tr th:only-of-type {\n",
       "        vertical-align: middle;\n",
       "    }\n",
       "\n",
       "    .dataframe tbody tr th {\n",
       "        vertical-align: top;\n",
       "    }\n",
       "\n",
       "    .dataframe thead th {\n",
       "        text-align: right;\n",
       "    }\n",
       "</style>\n",
       "<table border=\"1\" class=\"dataframe\">\n",
       "  <thead>\n",
       "    <tr style=\"text-align: right;\">\n",
       "      <th></th>\n",
       "      <th>acc_base</th>\n",
       "      <th>f1_base</th>\n",
       "      <th>acc_large</th>\n",
       "      <th>f1_large</th>\n",
       "      <th>acc_diff</th>\n",
       "      <th>f1_diff</th>\n",
       "    </tr>\n",
       "  </thead>\n",
       "  <tbody>\n",
       "    <tr>\n",
       "      <th>count</th>\n",
       "      <td>40.000000</td>\n",
       "      <td>40.000000</td>\n",
       "      <td>40.000000</td>\n",
       "      <td>40.000000</td>\n",
       "      <td>40.000000</td>\n",
       "      <td>40.000000</td>\n",
       "    </tr>\n",
       "    <tr>\n",
       "      <th>mean</th>\n",
       "      <td>0.807968</td>\n",
       "      <td>0.594411</td>\n",
       "      <td>0.830343</td>\n",
       "      <td>0.633658</td>\n",
       "      <td>0.022375</td>\n",
       "      <td>0.039246</td>\n",
       "    </tr>\n",
       "    <tr>\n",
       "      <th>std</th>\n",
       "      <td>0.125255</td>\n",
       "      <td>0.182270</td>\n",
       "      <td>0.119325</td>\n",
       "      <td>0.181245</td>\n",
       "      <td>0.025890</td>\n",
       "      <td>0.036152</td>\n",
       "    </tr>\n",
       "    <tr>\n",
       "      <th>min</th>\n",
       "      <td>0.215551</td>\n",
       "      <td>0.040690</td>\n",
       "      <td>0.242977</td>\n",
       "      <td>0.013995</td>\n",
       "      <td>-0.061531</td>\n",
       "      <td>-0.046780</td>\n",
       "    </tr>\n",
       "    <tr>\n",
       "      <th>25%</th>\n",
       "      <td>0.789286</td>\n",
       "      <td>0.488263</td>\n",
       "      <td>0.808318</td>\n",
       "      <td>0.535642</td>\n",
       "      <td>0.010069</td>\n",
       "      <td>0.019739</td>\n",
       "    </tr>\n",
       "    <tr>\n",
       "      <th>50%</th>\n",
       "      <td>0.822197</td>\n",
       "      <td>0.639500</td>\n",
       "      <td>0.845238</td>\n",
       "      <td>0.684223</td>\n",
       "      <td>0.019869</td>\n",
       "      <td>0.041113</td>\n",
       "    </tr>\n",
       "    <tr>\n",
       "      <th>75%</th>\n",
       "      <td>0.888497</td>\n",
       "      <td>0.736594</td>\n",
       "      <td>0.913811</td>\n",
       "      <td>0.775874</td>\n",
       "      <td>0.030133</td>\n",
       "      <td>0.066622</td>\n",
       "    </tr>\n",
       "    <tr>\n",
       "      <th>max</th>\n",
       "      <td>0.928380</td>\n",
       "      <td>0.832816</td>\n",
       "      <td>0.934936</td>\n",
       "      <td>0.845551</td>\n",
       "      <td>0.079305</td>\n",
       "      <td>0.128543</td>\n",
       "    </tr>\n",
       "  </tbody>\n",
       "</table>\n",
       "</div>"
      ],
      "text/plain": [
       "        acc_base    f1_base  acc_large   f1_large   acc_diff    f1_diff\n",
       "count  40.000000  40.000000  40.000000  40.000000  40.000000  40.000000\n",
       "mean    0.807968   0.594411   0.830343   0.633658   0.022375   0.039246\n",
       "std     0.125255   0.182270   0.119325   0.181245   0.025890   0.036152\n",
       "min     0.215551   0.040690   0.242977   0.013995  -0.061531  -0.046780\n",
       "25%     0.789286   0.488263   0.808318   0.535642   0.010069   0.019739\n",
       "50%     0.822197   0.639500   0.845238   0.684223   0.019869   0.041113\n",
       "75%     0.888497   0.736594   0.913811   0.775874   0.030133   0.066622\n",
       "max     0.928380   0.832816   0.934936   0.845551   0.079305   0.128543"
      ]
     },
     "execution_count": 16,
     "metadata": {},
     "output_type": "execute_result"
    }
   ],
   "source": [
    "panx.describe()"
   ]
  },
  {
   "cell_type": "markdown",
   "metadata": {},
   "source": [
    "### Languages used"
   ]
  },
  {
   "cell_type": "code",
   "execution_count": 19,
   "metadata": {
    "ExecuteTime": {
     "end_time": "2020-05-26T10:55:58.303087Z",
     "start_time": "2020-05-26T10:55:58.294199Z"
    }
   },
   "outputs": [
    {
     "data": {
      "text/plain": [
       "'af ar bg bn de el en es et eu fa fi fr he hi hu id it ja jv ka kk ko ml mr ms my nl pt ru sw ta te th tl tr ur vi yo zh'"
      ]
     },
     "execution_count": 19,
     "metadata": {},
     "output_type": "execute_result"
    }
   ],
   "source": [
    "\" \".join(sorted(panx.lang.unique()))"
   ]
  },
  {
   "cell_type": "code",
   "execution_count": 20,
   "metadata": {
    "ExecuteTime": {
     "end_time": "2020-05-26T10:56:26.578020Z",
     "start_time": "2020-05-26T10:56:26.560473Z"
    }
   },
   "outputs": [
    {
     "name": "stdout",
     "output_type": "stream",
     "text": [
      "Nr of langauges: 40\n"
     ]
    }
   ],
   "source": [
    "print(\"Nr of langauges:\",panx.lang.nunique())"
   ]
  }
 ],
 "metadata": {
  "kernelspec": {
   "display_name": "Python 3",
   "language": "python",
   "name": "python3"
  },
  "language_info": {
   "codemirror_mode": {
    "name": "ipython",
    "version": 3
   },
   "file_extension": ".py",
   "mimetype": "text/x-python",
   "name": "python",
   "nbconvert_exporter": "python",
   "pygments_lexer": "ipython3",
   "version": "3.7.3"
  },
  "toc": {
   "base_numbering": 1,
   "nav_menu": {},
   "number_sections": false,
   "sideBar": true,
   "skip_h1_title": false,
   "title_cell": "Table of Contents",
   "title_sidebar": "Contents",
   "toc_cell": false,
   "toc_position": {},
   "toc_section_display": true,
   "toc_window_display": false
  }
 },
 "nbformat": 4,
 "nbformat_minor": 2
}
