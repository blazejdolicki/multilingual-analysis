{
 "cells": [
  {
   "cell_type": "markdown",
   "metadata": {},
   "source": [
    "# Analysing predictions of XNLI"
   ]
  },
  {
   "cell_type": "code",
   "execution_count": 1,
   "metadata": {
    "ExecuteTime": {
     "end_time": "2020-07-01T18:12:17.459181Z",
     "start_time": "2020-07-01T18:12:16.039275Z"
    }
   },
   "outputs": [],
   "source": [
    "import pandas as pd\n",
    "from sklearn.metrics import confusion_matrix\n",
    "from collections import Counter\n",
    "PATH=\"C:/Users/bdolicki/Documents/Git/multilingual-analysis/code/analysing_predictions/xnli\"\n"
   ]
  },
  {
   "cell_type": "code",
   "execution_count": 2,
   "metadata": {
    "ExecuteTime": {
     "end_time": "2020-07-01T18:12:17.475764Z",
     "start_time": "2020-07-01T18:12:17.459181Z"
    }
   },
   "outputs": [
    {
     "name": "stderr",
     "output_type": "stream",
     "text": [
      "C:\\Users\\bdolicki\\AppData\\Local\\Continuum\\anaconda3\\lib\\site-packages\\ipykernel_launcher.py:1: FutureWarning: Passing a negative integer is deprecated in version 1.0 and will not be supported in future version. Instead, use None to not limit the column width.\n",
      "  \"\"\"Entry point for launching an IPython kernel.\n"
     ]
    }
   ],
   "source": [
    "pd.set_option('display.max_colwidth', -1)\n",
    "pd.options.display.max_rows = None"
   ]
  },
  {
   "cell_type": "code",
   "execution_count": 9,
   "metadata": {
    "ExecuteTime": {
     "end_time": "2020-07-01T18:14:42.183349Z",
     "start_time": "2020-07-01T18:14:42.167706Z"
    }
   },
   "outputs": [],
   "source": [
    "all_langs = [\"ar\", \"bg\",\"de\", \"el\", \"en\", \"es\", \"fr\", \"hi\", \"ru\", \"sw\", \"th\", \"tr\", \"ur\", \"vi\", \"zh\"]\n",
    "train_langs = ['de']\n",
    "test_langs = ['de']"
   ]
  },
  {
   "cell_type": "markdown",
   "metadata": {},
   "source": [
    "## Helper functions"
   ]
  },
  {
   "cell_type": "code",
   "execution_count": 29,
   "metadata": {
    "ExecuteTime": {
     "end_time": "2020-07-01T18:23:12.617566Z",
     "start_time": "2020-07-01T18:23:12.596780Z"
    }
   },
   "outputs": [],
   "source": [
    "# read XNLI predictions\n",
    "# it seems that the predictions are shifted and the first prediction is replaced by header, thus we read as if there was no header \n",
    "# and then drop the first example\n",
    "def read_preds(train_lang, test_lang):\n",
    "    preds = pd.read_csv(f\"{PATH}/results/dev_{train_lang}_{test_lang}_predictions.tsv\",sep=\"\\t\",header=None)\n",
    "    df = pd.read_csv(f\"{PATH}/dev_sets/dev-{test_lang}.tsv\",sep=\"\\t\",header=None)\n",
    "    df.columns = [\"sentence1\",\"sentence2\",\"actual\"]\n",
    "    df[\"pred\"] = preds[0]\n",
    "    df = df[df.pred!=\"Prediction\"]\n",
    "    return df\n",
    "\n",
    "def mistaken(x):\n",
    "    return x[x.actual!=x.pred].shape[0]\n",
    "\n",
    "# show how many examples were misclassified pair class\n",
    "def mistaken_class_count(df):\n",
    "    print(\"# misclassified examples per class\")\n",
    "    display(df.groupby(by=\"actual\").apply(mistaken).sort_values(ascending=False))\n",
    "\n",
    "# show how many times each class was predicted\n",
    "def pred_class_count(df):\n",
    "    print(\"Predicted class distribution\")\n",
    "    display(df.pred.value_counts())\n",
    "\n",
    "# show number of predictions for each class pair\n",
    "def class_pairs(df):\n",
    "    print(\"# predictions for each class pair\")\n",
    "    classes = df.actual.unique()\n",
    "    pairs = {\"actual\":[],\"pred\":[],\"count\":[]}\n",
    "    for actual in classes:\n",
    "        for pred in classes:\n",
    "            pairs[\"actual\"].append(actual)\n",
    "            pairs[\"pred\"].append(pred)\n",
    "            pairs[\"count\"].append(df[(df.actual==actual)&(df.pred==pred)].shape[0])\n",
    "    class_pairs = pd.DataFrame.from_dict(pairs).sort_values(by=\"count\",ascending=False)\n",
    "    display(class_pairs)"
   ]
  },
  {
   "cell_type": "code",
   "execution_count": 30,
   "metadata": {
    "ExecuteTime": {
     "end_time": "2020-07-01T18:23:13.149848Z",
     "start_time": "2020-07-01T18:23:13.117907Z"
    }
   },
   "outputs": [
    {
     "data": {
      "text/html": [
       "<div>\n",
       "<style scoped>\n",
       "    .dataframe tbody tr th:only-of-type {\n",
       "        vertical-align: middle;\n",
       "    }\n",
       "\n",
       "    .dataframe tbody tr th {\n",
       "        vertical-align: top;\n",
       "    }\n",
       "\n",
       "    .dataframe thead th {\n",
       "        text-align: right;\n",
       "    }\n",
       "</style>\n",
       "<table border=\"1\" class=\"dataframe\">\n",
       "  <thead>\n",
       "    <tr style=\"text-align: right;\">\n",
       "      <th></th>\n",
       "      <th>sentence1</th>\n",
       "      <th>sentence2</th>\n",
       "      <th>actual</th>\n",
       "      <th>pred</th>\n",
       "    </tr>\n",
       "  </thead>\n",
       "  <tbody>\n",
       "    <tr>\n",
       "      <th>1</th>\n",
       "      <td>und er hat gesagt, Mama ich bin daheim.</td>\n",
       "      <td>Er sagte kein Wort.</td>\n",
       "      <td>contradiction</td>\n",
       "      <td>contradiction</td>\n",
       "    </tr>\n",
       "    <tr>\n",
       "      <th>2</th>\n",
       "      <td>und er hat gesagt, Mama ich bin daheim.</td>\n",
       "      <td>Er sagte seiner Mutter, er sei nach Hause gekommen.</td>\n",
       "      <td>entailment</td>\n",
       "      <td>entailment</td>\n",
       "    </tr>\n",
       "    <tr>\n",
       "      <th>3</th>\n",
       "      <td>Ich wusste nicht was ich vorhatte oder so, ich musste mich an einen bestimmten Ort in Washington melden.</td>\n",
       "      <td>Ich war noch nie in Washington, deshalb habe ich mich auf der Suche nach dem Ort verirrt, als ich dahin entsandt wurde.</td>\n",
       "      <td>neutral</td>\n",
       "      <td>contradiction</td>\n",
       "    </tr>\n",
       "    <tr>\n",
       "      <th>4</th>\n",
       "      <td>Ich wusste nicht was ich vorhatte oder so, ich musste mich an einen bestimmten Ort in Washington melden.</td>\n",
       "      <td>Ich wusste genau, was ich tun musste, als ich nach Washington marschierte.</td>\n",
       "      <td>contradiction</td>\n",
       "      <td>contradiction</td>\n",
       "    </tr>\n",
       "    <tr>\n",
       "      <th>5</th>\n",
       "      <td>Ich wusste nicht was ich vorhatte oder so, ich musste mich an einen bestimmten Ort in Washington melden.</td>\n",
       "      <td>Ich war mir nicht ganz sicher was ich tun soll und deswegen bin ich nach Washington gereist wo ich zugewiesen wurde zu berichten.</td>\n",
       "      <td>entailment</td>\n",
       "      <td>neutral</td>\n",
       "    </tr>\n",
       "  </tbody>\n",
       "</table>\n",
       "</div>"
      ],
      "text/plain": [
       "                                                                                                  sentence1  \\\n",
       "1  und er hat gesagt, Mama ich bin daheim.                                                                    \n",
       "2  und er hat gesagt, Mama ich bin daheim.                                                                    \n",
       "3  Ich wusste nicht was ich vorhatte oder so, ich musste mich an einen bestimmten Ort in Washington melden.   \n",
       "4  Ich wusste nicht was ich vorhatte oder so, ich musste mich an einen bestimmten Ort in Washington melden.   \n",
       "5  Ich wusste nicht was ich vorhatte oder so, ich musste mich an einen bestimmten Ort in Washington melden.   \n",
       "\n",
       "                                                                                                                           sentence2  \\\n",
       "1  Er sagte kein Wort.                                                                                                                 \n",
       "2  Er sagte seiner Mutter, er sei nach Hause gekommen.                                                                                 \n",
       "3  Ich war noch nie in Washington, deshalb habe ich mich auf der Suche nach dem Ort verirrt, als ich dahin entsandt wurde.             \n",
       "4  Ich wusste genau, was ich tun musste, als ich nach Washington marschierte.                                                          \n",
       "5  Ich war mir nicht ganz sicher was ich tun soll und deswegen bin ich nach Washington gereist wo ich zugewiesen wurde zu berichten.   \n",
       "\n",
       "          actual           pred  \n",
       "1  contradiction  contradiction  \n",
       "2  entailment     entailment     \n",
       "3  neutral        contradiction  \n",
       "4  contradiction  contradiction  \n",
       "5  entailment     neutral        "
      ]
     },
     "execution_count": 30,
     "metadata": {},
     "output_type": "execute_result"
    }
   ],
   "source": [
    "read_preds('de','de').head()"
   ]
  },
  {
   "cell_type": "code",
   "execution_count": 31,
   "metadata": {
    "ExecuteTime": {
     "end_time": "2020-07-01T18:23:13.441491Z",
     "start_time": "2020-07-01T18:23:13.376723Z"
    },
    "scrolled": false
   },
   "outputs": [
    {
     "name": "stdout",
     "output_type": "stream",
     "text": [
      "test lang: de\n",
      "# misclassified examples per class\n"
     ]
    },
    {
     "data": {
      "text/plain": [
       "actual\n",
       "entailment       249\n",
       "neutral          195\n",
       "contradiction    147\n",
       "dtype: int64"
      ]
     },
     "metadata": {},
     "output_type": "display_data"
    },
    {
     "name": "stdout",
     "output_type": "stream",
     "text": [
      "Predicted class distribution\n"
     ]
    },
    {
     "data": {
      "text/plain": [
       "neutral          907\n",
       "contradiction    905\n",
       "entailment       677\n",
       "Name: pred, dtype: int64"
      ]
     },
     "metadata": {},
     "output_type": "display_data"
    },
    {
     "name": "stdout",
     "output_type": "stream",
     "text": [
      "# predictions for each class pair\n"
     ]
    },
    {
     "data": {
      "text/html": [
       "<div>\n",
       "<style scoped>\n",
       "    .dataframe tbody tr th:only-of-type {\n",
       "        vertical-align: middle;\n",
       "    }\n",
       "\n",
       "    .dataframe tbody tr th {\n",
       "        vertical-align: top;\n",
       "    }\n",
       "\n",
       "    .dataframe thead th {\n",
       "        text-align: right;\n",
       "    }\n",
       "</style>\n",
       "<table border=\"1\" class=\"dataframe\">\n",
       "  <thead>\n",
       "    <tr style=\"text-align: right;\">\n",
       "      <th></th>\n",
       "      <th>actual</th>\n",
       "      <th>pred</th>\n",
       "      <th>count</th>\n",
       "    </tr>\n",
       "  </thead>\n",
       "  <tbody>\n",
       "    <tr>\n",
       "      <th>0</th>\n",
       "      <td>contradiction</td>\n",
       "      <td>contradiction</td>\n",
       "      <td>683</td>\n",
       "    </tr>\n",
       "    <tr>\n",
       "      <th>8</th>\n",
       "      <td>neutral</td>\n",
       "      <td>neutral</td>\n",
       "      <td>634</td>\n",
       "    </tr>\n",
       "    <tr>\n",
       "      <th>4</th>\n",
       "      <td>entailment</td>\n",
       "      <td>entailment</td>\n",
       "      <td>581</td>\n",
       "    </tr>\n",
       "    <tr>\n",
       "      <th>5</th>\n",
       "      <td>entailment</td>\n",
       "      <td>neutral</td>\n",
       "      <td>154</td>\n",
       "    </tr>\n",
       "    <tr>\n",
       "      <th>6</th>\n",
       "      <td>neutral</td>\n",
       "      <td>contradiction</td>\n",
       "      <td>127</td>\n",
       "    </tr>\n",
       "    <tr>\n",
       "      <th>2</th>\n",
       "      <td>contradiction</td>\n",
       "      <td>neutral</td>\n",
       "      <td>119</td>\n",
       "    </tr>\n",
       "    <tr>\n",
       "      <th>3</th>\n",
       "      <td>entailment</td>\n",
       "      <td>contradiction</td>\n",
       "      <td>95</td>\n",
       "    </tr>\n",
       "    <tr>\n",
       "      <th>7</th>\n",
       "      <td>neutral</td>\n",
       "      <td>entailment</td>\n",
       "      <td>68</td>\n",
       "    </tr>\n",
       "    <tr>\n",
       "      <th>1</th>\n",
       "      <td>contradiction</td>\n",
       "      <td>entailment</td>\n",
       "      <td>28</td>\n",
       "    </tr>\n",
       "  </tbody>\n",
       "</table>\n",
       "</div>"
      ],
      "text/plain": [
       "          actual           pred  count\n",
       "0  contradiction  contradiction  683  \n",
       "8  neutral        neutral        634  \n",
       "4  entailment     entailment     581  \n",
       "5  entailment     neutral        154  \n",
       "6  neutral        contradiction  127  \n",
       "2  contradiction  neutral        119  \n",
       "3  entailment     contradiction  95   \n",
       "7  neutral        entailment     68   \n",
       "1  contradiction  entailment     28   "
      ]
     },
     "metadata": {},
     "output_type": "display_data"
    },
    {
     "name": "stdout",
     "output_type": "stream",
     "text": [
      "Most mistaken classes per test lang\n",
      "Counter({'entailment': 1})\n"
     ]
    }
   ],
   "source": [
    "for test_lang in test_langs:\n",
    "    print(\"test lang:\",test_lang)\n",
    "    most_mistaken_class = Counter()  \n",
    "    for train_lang in train_langs:\n",
    "        df = read_preds(train_lang, test_lang)\n",
    "        mistaken_class_count(df)\n",
    "        pred_class_count(df)\n",
    "        class_pairs(df)\n",
    "\n",
    "        most_mistaken = df.groupby(by=\"actual\").apply(mistaken).sort_values(ascending=False).index[0]\n",
    "        most_mistaken_class[most_mistaken] += 1\n",
    "    print(\"Most mistaken classes per test lang\")\n",
    "    print(most_mistaken_class)"
   ]
  }
 ],
 "metadata": {
  "kernelspec": {
   "display_name": "Python 3",
   "language": "python",
   "name": "python3"
  },
  "language_info": {
   "codemirror_mode": {
    "name": "ipython",
    "version": 3
   },
   "file_extension": ".py",
   "mimetype": "text/x-python",
   "name": "python",
   "nbconvert_exporter": "python",
   "pygments_lexer": "ipython3",
   "version": "3.7.3"
  },
  "toc": {
   "base_numbering": 1,
   "nav_menu": {},
   "number_sections": false,
   "sideBar": true,
   "skip_h1_title": false,
   "title_cell": "Table of Contents",
   "title_sidebar": "Contents",
   "toc_cell": false,
   "toc_position": {},
   "toc_section_display": true,
   "toc_window_display": false
  }
 },
 "nbformat": 4,
 "nbformat_minor": 2
}
