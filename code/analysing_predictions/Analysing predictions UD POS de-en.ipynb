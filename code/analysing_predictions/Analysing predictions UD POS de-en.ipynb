{
 "cells": [
  {
   "cell_type": "code",
   "execution_count": 2,
   "metadata": {
    "ExecuteTime": {
     "end_time": "2020-05-25T13:24:31.988586Z",
     "start_time": "2020-05-25T13:24:31.983588Z"
    }
   },
   "outputs": [],
   "source": [
    "import pandas as pd\n",
    "import utils\n",
    "pd.options.display.max_rows = 100000\n",
    "pd.set_option('display.max_colwidth', -1)"
   ]
  },
  {
   "cell_type": "code",
   "execution_count": 3,
   "metadata": {},
   "outputs": [],
   "source": [
    "pa = utils.PredictionsAnalyzer()\n",
    "\n",
    "PATH=\"../analysing_features/udpos/results/predictions/\"\n",
    "ud_pos = pa.read_tag_data(f\"{PATH}dev-en.tsv\",f\"{PATH}dev_en_predictions.txt\")"
   ]
  },
  {
   "cell_type": "code",
   "execution_count": 4,
   "metadata": {},
   "outputs": [
    {
     "data": {
      "text/html": [
       "<div>\n",
       "<style scoped>\n",
       "    .dataframe tbody tr th:only-of-type {\n",
       "        vertical-align: middle;\n",
       "    }\n",
       "\n",
       "    .dataframe tbody tr th {\n",
       "        vertical-align: top;\n",
       "    }\n",
       "\n",
       "    .dataframe thead th {\n",
       "        text-align: right;\n",
       "    }\n",
       "</style>\n",
       "<table border=\"1\" class=\"dataframe\">\n",
       "  <thead>\n",
       "    <tr style=\"text-align: right;\">\n",
       "      <th></th>\n",
       "      <th>sentences</th>\n",
       "      <th>ground_truth</th>\n",
       "      <th>predictions</th>\n",
       "    </tr>\n",
       "  </thead>\n",
       "  <tbody>\n",
       "    <tr>\n",
       "      <th>0</th>\n",
       "      <td>Creative Commons Corporation is not a law firm and does not provide legal services .</td>\n",
       "      <td>PROPN PROPN NOUN AUX PART DET NOUN NOUN CCONJ AUX PART VERB ADJ NOUN PUNCT</td>\n",
       "      <td>X X X X X X X X X X X X X X PUNCT</td>\n",
       "    </tr>\n",
       "    <tr>\n",
       "      <th>1</th>\n",
       "      <td>The work ( as defined below ) is provided under the terms of this Creative Commons Public License ( \" CCPL \" or \" License \" ) .</td>\n",
       "      <td>DET NOUN PUNCT ADP VERB ADV PUNCT AUX VERB ADP DET NOUN ADP DET PROPN PROPN ADJ NOUN PUNCT PUNCT PROPN PUNCT CCONJ PUNCT NOUN PUNCT PUNCT PUNCT</td>\n",
       "      <td>DET X PUNCT X X ADV PUNCT AUX VERB X X X X X X X X X PUNCT PUNCT PROPN PUNCT CCONJ PUNCT X PUNCT PUNCT PUNCT</td>\n",
       "    </tr>\n",
       "    <tr>\n",
       "      <th>2</th>\n",
       "      <td>1 . Definitions .</td>\n",
       "      <td>NUM PUNCT NOUN PUNCT</td>\n",
       "      <td>NUM PUNCT X PUNCT</td>\n",
       "    </tr>\n",
       "    <tr>\n",
       "      <th>3</th>\n",
       "      <td>4 . Restrictions .</td>\n",
       "      <td>NUM PUNCT NOUN PUNCT</td>\n",
       "      <td>NUM PUNCT X PUNCT</td>\n",
       "    </tr>\n",
       "    <tr>\n",
       "      <th>4</th>\n",
       "      <td>7 . Termination .</td>\n",
       "      <td>NUM PUNCT NOUN PUNCT</td>\n",
       "      <td>NUM PUNCT NOUN PUNCT</td>\n",
       "    </tr>\n",
       "  </tbody>\n",
       "</table>\n",
       "</div>"
      ],
      "text/plain": [
       "                                                                                                                         sentences  \\\n",
       "0  Creative Commons Corporation is not a law firm and does not provide legal services .                                              \n",
       "1  The work ( as defined below ) is provided under the terms of this Creative Commons Public License ( \" CCPL \" or \" License \" ) .   \n",
       "2  1 . Definitions .                                                                                                                 \n",
       "3  4 . Restrictions .                                                                                                                \n",
       "4  7 . Termination .                                                                                                                 \n",
       "\n",
       "                                                                                                                                      ground_truth  \\\n",
       "0  PROPN PROPN NOUN AUX PART DET NOUN NOUN CCONJ AUX PART VERB ADJ NOUN PUNCT                                                                        \n",
       "1  DET NOUN PUNCT ADP VERB ADV PUNCT AUX VERB ADP DET NOUN ADP DET PROPN PROPN ADJ NOUN PUNCT PUNCT PROPN PUNCT CCONJ PUNCT NOUN PUNCT PUNCT PUNCT   \n",
       "2  NUM PUNCT NOUN PUNCT                                                                                                                              \n",
       "3  NUM PUNCT NOUN PUNCT                                                                                                                              \n",
       "4  NUM PUNCT NOUN PUNCT                                                                                                                              \n",
       "\n",
       "                                                                                                    predictions  \n",
       "0  X X X X X X X X X X X X X X PUNCT                                                                             \n",
       "1  DET X PUNCT X X ADV PUNCT AUX VERB X X X X X X X X X PUNCT PUNCT PROPN PUNCT CCONJ PUNCT X PUNCT PUNCT PUNCT  \n",
       "2  NUM PUNCT X PUNCT                                                                                             \n",
       "3  NUM PUNCT X PUNCT                                                                                             \n",
       "4  NUM PUNCT NOUN PUNCT                                                                                          "
      ]
     },
     "execution_count": 4,
     "metadata": {},
     "output_type": "execute_result"
    }
   ],
   "source": [
    "ud_pos.head()"
   ]
  },
  {
   "cell_type": "code",
   "execution_count": 5,
   "metadata": {},
   "outputs": [],
   "source": [
    "def is_pred_wrong(actual,pred=None):\n",
    "    return actual!=pred\n",
    "\n",
    "mistakes_df, conf_df = pa.transform_data(is_pred_wrong,conf_matrix=True) "
   ]
  },
  {
   "cell_type": "markdown",
   "metadata": {
    "ExecuteTime": {
     "end_time": "2020-05-21T13:01:02.860391Z",
     "start_time": "2020-05-21T13:01:02.856377Z"
    }
   },
   "source": [
    "#### How many times each tag is misclassified"
   ]
  },
  {
   "cell_type": "code",
   "execution_count": 6,
   "metadata": {
    "ExecuteTime": {
     "end_time": "2020-05-25T12:53:57.924321Z",
     "start_time": "2020-05-25T12:53:57.904325Z"
    }
   },
   "outputs": [
    {
     "data": {
      "text/html": [
       "<div>\n",
       "<style scoped>\n",
       "    .dataframe tbody tr th:only-of-type {\n",
       "        vertical-align: middle;\n",
       "    }\n",
       "\n",
       "    .dataframe tbody tr th {\n",
       "        vertical-align: top;\n",
       "    }\n",
       "\n",
       "    .dataframe thead th {\n",
       "        text-align: right;\n",
       "    }\n",
       "</style>\n",
       "<table border=\"1\" class=\"dataframe\">\n",
       "  <thead>\n",
       "    <tr style=\"text-align: right;\">\n",
       "      <th></th>\n",
       "      <th>count</th>\n",
       "      <th>percent</th>\n",
       "    </tr>\n",
       "  </thead>\n",
       "  <tbody>\n",
       "    <tr>\n",
       "      <th>NOUN</th>\n",
       "      <td>10375.0</td>\n",
       "      <td>0.244763</td>\n",
       "    </tr>\n",
       "    <tr>\n",
       "      <th>VERB</th>\n",
       "      <td>5700.0</td>\n",
       "      <td>0.134472</td>\n",
       "    </tr>\n",
       "    <tr>\n",
       "      <th>ADP</th>\n",
       "      <td>4961.0</td>\n",
       "      <td>0.117038</td>\n",
       "    </tr>\n",
       "    <tr>\n",
       "      <th>DET</th>\n",
       "      <td>4623.0</td>\n",
       "      <td>0.109064</td>\n",
       "    </tr>\n",
       "    <tr>\n",
       "      <th>PRON</th>\n",
       "      <td>3750.0</td>\n",
       "      <td>0.088468</td>\n",
       "    </tr>\n",
       "    <tr>\n",
       "      <th>ADJ</th>\n",
       "      <td>3580.0</td>\n",
       "      <td>0.084458</td>\n",
       "    </tr>\n",
       "    <tr>\n",
       "      <th>AUX</th>\n",
       "      <td>2562.0</td>\n",
       "      <td>0.060442</td>\n",
       "    </tr>\n",
       "    <tr>\n",
       "      <th>ADV</th>\n",
       "      <td>2011.0</td>\n",
       "      <td>0.047443</td>\n",
       "    </tr>\n",
       "    <tr>\n",
       "      <th>PART</th>\n",
       "      <td>1391.0</td>\n",
       "      <td>0.032816</td>\n",
       "    </tr>\n",
       "    <tr>\n",
       "      <th>PROPN</th>\n",
       "      <td>1225.0</td>\n",
       "      <td>0.028900</td>\n",
       "    </tr>\n",
       "  </tbody>\n",
       "</table>\n",
       "</div>"
      ],
      "text/plain": [
       "         count   percent\n",
       "NOUN   10375.0  0.244763\n",
       "VERB   5700.0   0.134472\n",
       "ADP    4961.0   0.117038\n",
       "DET    4623.0   0.109064\n",
       "PRON   3750.0   0.088468\n",
       "ADJ    3580.0   0.084458\n",
       "AUX    2562.0   0.060442\n",
       "ADV    2011.0   0.047443\n",
       "PART   1391.0   0.032816\n",
       "PROPN  1225.0   0.028900"
      ]
     },
     "execution_count": 6,
     "metadata": {},
     "output_type": "execute_result"
    }
   ],
   "source": [
    "conf_count = pd.DataFrame()\n",
    "conf_count[\"count\"] = conf_df.sum().sort_values(ascending=False); \n",
    "conf_count[\"percent\"] = conf_count/conf_count.sum()\n",
    "conf_count[:10]"
   ]
  },
  {
   "cell_type": "code",
   "execution_count": 7,
   "metadata": {
    "ExecuteTime": {
     "end_time": "2020-05-25T12:53:58.129238Z",
     "start_time": "2020-05-25T12:53:58.058179Z"
    }
   },
   "outputs": [
    {
     "data": {
      "text/html": [
       "<div>\n",
       "<style scoped>\n",
       "    .dataframe tbody tr th:only-of-type {\n",
       "        vertical-align: middle;\n",
       "    }\n",
       "\n",
       "    .dataframe tbody tr th {\n",
       "        vertical-align: top;\n",
       "    }\n",
       "\n",
       "    .dataframe thead th {\n",
       "        text-align: right;\n",
       "    }\n",
       "</style>\n",
       "<table border=\"1\" class=\"dataframe\">\n",
       "  <thead>\n",
       "    <tr style=\"text-align: right;\">\n",
       "      <th></th>\n",
       "      <th>pred</th>\n",
       "      <th>actual</th>\n",
       "      <th>count</th>\n",
       "      <th>percent</th>\n",
       "    </tr>\n",
       "  </thead>\n",
       "  <tbody>\n",
       "    <tr>\n",
       "      <th>135</th>\n",
       "      <td>X</td>\n",
       "      <td>NOUN</td>\n",
       "      <td>10157.0</td>\n",
       "      <td>0.239620</td>\n",
       "    </tr>\n",
       "    <tr>\n",
       "      <th>271</th>\n",
       "      <td>X</td>\n",
       "      <td>VERB</td>\n",
       "      <td>5511.0</td>\n",
       "      <td>0.130013</td>\n",
       "    </tr>\n",
       "    <tr>\n",
       "      <th>33</th>\n",
       "      <td>X</td>\n",
       "      <td>ADP</td>\n",
       "      <td>4830.0</td>\n",
       "      <td>0.113947</td>\n",
       "    </tr>\n",
       "    <tr>\n",
       "      <th>101</th>\n",
       "      <td>X</td>\n",
       "      <td>DET</td>\n",
       "      <td>4576.0</td>\n",
       "      <td>0.107955</td>\n",
       "    </tr>\n",
       "    <tr>\n",
       "      <th>186</th>\n",
       "      <td>X</td>\n",
       "      <td>PRON</td>\n",
       "      <td>3740.0</td>\n",
       "      <td>0.088233</td>\n",
       "    </tr>\n",
       "  </tbody>\n",
       "</table>\n",
       "</div>"
      ],
      "text/plain": [
       "    pred actual    count   percent\n",
       "135  X    NOUN   10157.0  0.239620\n",
       "271  X    VERB   5511.0   0.130013\n",
       "33   X    ADP    4830.0   0.113947\n",
       "101  X    DET    4576.0   0.107955\n",
       "186  X    PRON   3740.0   0.088233"
      ]
     },
     "execution_count": 7,
     "metadata": {},
     "output_type": "execute_result"
    }
   ],
   "source": [
    "sparse_conf_df = conf_df.reset_index().melt(id_vars=\"index\",var_name=\"actual\",value_name=\"count\").rename(columns={\"index\":\"pred\"})\n",
    "sparse_conf_df[\"percent\"] = sparse_conf_df[\"count\"]/sparse_conf_df[\"count\"].sum()\n",
    "sparse_conf_df = sparse_conf_df.sort_values(by=\"count\",ascending=False)\n",
    "sparse_conf_df.head()"
   ]
  },
  {
   "cell_type": "code",
   "execution_count": 8,
   "metadata": {
    "ExecuteTime": {
     "end_time": "2020-05-25T12:53:58.213751Z",
     "start_time": "2020-05-25T12:53:58.169371Z"
    }
   },
   "outputs": [
    {
     "data": {
      "text/html": [
       "<div>\n",
       "<style scoped>\n",
       "    .dataframe tbody tr th:only-of-type {\n",
       "        vertical-align: middle;\n",
       "    }\n",
       "\n",
       "    .dataframe tbody tr th {\n",
       "        vertical-align: top;\n",
       "    }\n",
       "\n",
       "    .dataframe thead th {\n",
       "        text-align: right;\n",
       "    }\n",
       "</style>\n",
       "<table border=\"1\" class=\"dataframe\">\n",
       "  <thead>\n",
       "    <tr style=\"text-align: right;\">\n",
       "      <th></th>\n",
       "      <th>predicted</th>\n",
       "      <th>actual</th>\n",
       "      <th>token</th>\n",
       "      <th>sentence</th>\n",
       "      <th>actual_tokens</th>\n",
       "    </tr>\n",
       "  </thead>\n",
       "  <tbody>\n",
       "    <tr>\n",
       "      <th>0</th>\n",
       "      <td>X</td>\n",
       "      <td>PROPN</td>\n",
       "      <td>Creative</td>\n",
       "      <td>Creative Commons Corporation is not a law firm and does not provide legal services .</td>\n",
       "      <td>PROPN PROPN NOUN AUX PART DET NOUN NOUN CCONJ AUX PART VERB ADJ NOUN PUNCT</td>\n",
       "    </tr>\n",
       "    <tr>\n",
       "      <th>1</th>\n",
       "      <td>X</td>\n",
       "      <td>PROPN</td>\n",
       "      <td>Commons</td>\n",
       "      <td>Creative Commons Corporation is not a law firm and does not provide legal services .</td>\n",
       "      <td>PROPN PROPN NOUN AUX PART DET NOUN NOUN CCONJ AUX PART VERB ADJ NOUN PUNCT</td>\n",
       "    </tr>\n",
       "    <tr>\n",
       "      <th>2</th>\n",
       "      <td>X</td>\n",
       "      <td>NOUN</td>\n",
       "      <td>Corporation</td>\n",
       "      <td>Creative Commons Corporation is not a law firm and does not provide legal services .</td>\n",
       "      <td>PROPN PROPN NOUN AUX PART DET NOUN NOUN CCONJ AUX PART VERB ADJ NOUN PUNCT</td>\n",
       "    </tr>\n",
       "    <tr>\n",
       "      <th>3</th>\n",
       "      <td>X</td>\n",
       "      <td>AUX</td>\n",
       "      <td>is</td>\n",
       "      <td>Creative Commons Corporation is not a law firm and does not provide legal services .</td>\n",
       "      <td>PROPN PROPN NOUN AUX PART DET NOUN NOUN CCONJ AUX PART VERB ADJ NOUN PUNCT</td>\n",
       "    </tr>\n",
       "    <tr>\n",
       "      <th>4</th>\n",
       "      <td>X</td>\n",
       "      <td>PART</td>\n",
       "      <td>not</td>\n",
       "      <td>Creative Commons Corporation is not a law firm and does not provide legal services .</td>\n",
       "      <td>PROPN PROPN NOUN AUX PART DET NOUN NOUN CCONJ AUX PART VERB ADJ NOUN PUNCT</td>\n",
       "    </tr>\n",
       "  </tbody>\n",
       "</table>\n",
       "</div>"
      ],
      "text/plain": [
       "  predicted actual        token  \\\n",
       "0  X         PROPN  Creative      \n",
       "1  X         PROPN  Commons       \n",
       "2  X         NOUN   Corporation   \n",
       "3  X         AUX    is            \n",
       "4  X         PART   not           \n",
       "\n",
       "                                                                               sentence  \\\n",
       "0  Creative Commons Corporation is not a law firm and does not provide legal services .   \n",
       "1  Creative Commons Corporation is not a law firm and does not provide legal services .   \n",
       "2  Creative Commons Corporation is not a law firm and does not provide legal services .   \n",
       "3  Creative Commons Corporation is not a law firm and does not provide legal services .   \n",
       "4  Creative Commons Corporation is not a law firm and does not provide legal services .   \n",
       "\n",
       "                                                                actual_tokens  \n",
       "0  PROPN PROPN NOUN AUX PART DET NOUN NOUN CCONJ AUX PART VERB ADJ NOUN PUNCT  \n",
       "1  PROPN PROPN NOUN AUX PART DET NOUN NOUN CCONJ AUX PART VERB ADJ NOUN PUNCT  \n",
       "2  PROPN PROPN NOUN AUX PART DET NOUN NOUN CCONJ AUX PART VERB ADJ NOUN PUNCT  \n",
       "3  PROPN PROPN NOUN AUX PART DET NOUN NOUN CCONJ AUX PART VERB ADJ NOUN PUNCT  \n",
       "4  PROPN PROPN NOUN AUX PART DET NOUN NOUN CCONJ AUX PART VERB ADJ NOUN PUNCT  "
      ]
     },
     "execution_count": 8,
     "metadata": {},
     "output_type": "execute_result"
    }
   ],
   "source": [
    "mistakes_df[(mistakes_df.predicted==\"X\")].head()"
   ]
  },
  {
   "cell_type": "markdown",
   "metadata": {},
   "source": [
    "For some reason the model predicts the X token in vast majority of cases, sometimes even for every word in a given example."
   ]
  },
  {
   "cell_type": "markdown",
   "metadata": {},
   "source": [
    "### All examples"
   ]
  },
  {
   "cell_type": "code",
   "execution_count": 9,
   "metadata": {
    "ExecuteTime": {
     "end_time": "2020-05-25T12:53:58.967199Z",
     "start_time": "2020-05-25T12:53:58.640901Z"
    }
   },
   "outputs": [],
   "source": [
    "def all(actual,pred=None):\n",
    "    return True\n",
    "\n",
    "all_df, _ = pa.transform_data(all,conf_matrix=True) "
   ]
  },
  {
   "cell_type": "code",
   "execution_count": 10,
   "metadata": {
    "ExecuteTime": {
     "end_time": "2020-05-25T12:54:37.558664Z",
     "start_time": "2020-05-25T12:54:37.527384Z"
    }
   },
   "outputs": [
    {
     "data": {
      "text/plain": [
       "X        0.651312\n",
       "PUNCT    0.126613\n",
       "PROPN    0.041688\n",
       "PRON     0.028196\n",
       "CCONJ    0.021012\n",
       "VERB     0.019814\n",
       "ADV      0.017132\n",
       "ADJ      0.016381\n",
       "ADP      0.016094\n",
       "NOUN     0.016094\n",
       "AUX      0.015328\n",
       "NUM      0.011959\n",
       "DET      0.011176\n",
       "SCONJ    0.004646\n",
       "PART     0.002555\n",
       "Name: predicted, dtype: float64"
      ]
     },
     "execution_count": 10,
     "metadata": {},
     "output_type": "execute_result"
    }
   ],
   "source": [
    "all_df.predicted.value_counts()/all_df.shape[0]"
   ]
  },
  {
   "cell_type": "code",
   "execution_count": 11,
   "metadata": {
    "ExecuteTime": {
     "end_time": "2020-05-25T12:54:57.515546Z",
     "start_time": "2020-05-25T12:54:57.496551Z"
    }
   },
   "outputs": [
    {
     "data": {
      "text/plain": [
       "NOUN     0.177689\n",
       "PUNCT    0.123611\n",
       "VERB     0.110646\n",
       "ADP      0.093738\n",
       "PRON     0.086968\n",
       "DET      0.084446\n",
       "ADJ      0.069198\n",
       "PROPN    0.056760\n",
       "AUX      0.054541\n",
       "ADV      0.047324\n",
       "CCONJ    0.031917\n",
       "PART     0.024588\n",
       "SCONJ    0.016988\n",
       "NUM      0.014082\n",
       "X        0.003417\n",
       "INTJ     0.002666\n",
       "SYM      0.001421\n",
       "Name: actual, dtype: float64"
      ]
     },
     "execution_count": 11,
     "metadata": {},
     "output_type": "execute_result"
    }
   ],
   "source": [
    "all_df.actual.value_counts()/all_df.shape[0]"
   ]
  },
  {
   "cell_type": "code",
   "execution_count": 14,
   "metadata": {},
   "outputs": [],
   "source": [
    "de_pa = utils.PredictionsAnalyzer()\n",
    "train_de = de_pa.read_tag_data(\"train-de.tsv\")"
   ]
  },
  {
   "cell_type": "code",
   "execution_count": 15,
   "metadata": {},
   "outputs": [
    {
     "data": {
      "text/html": [
       "<div>\n",
       "<style scoped>\n",
       "    .dataframe tbody tr th:only-of-type {\n",
       "        vertical-align: middle;\n",
       "    }\n",
       "\n",
       "    .dataframe tbody tr th {\n",
       "        vertical-align: top;\n",
       "    }\n",
       "\n",
       "    .dataframe thead th {\n",
       "        text-align: right;\n",
       "    }\n",
       "</style>\n",
       "<table border=\"1\" class=\"dataframe\">\n",
       "  <thead>\n",
       "    <tr style=\"text-align: right;\">\n",
       "      <th></th>\n",
       "      <th>sentences</th>\n",
       "      <th>ground_truth</th>\n",
       "    </tr>\n",
       "  </thead>\n",
       "  <tbody>\n",
       "    <tr>\n",
       "      <th>0</th>\n",
       "      <td>Hinter der neuen Firma steht unter anderem Lucent Technologies , einer der größten Anbieter von Equipment für Netzwerke und Telekommunikation .</td>\n",
       "      <td>ADP DET ADJ NOUN VERB ADP PRON PROPN X PUNCT PRON DET ADJ NOUN ADP NOUN ADP NOUN CCONJ NOUN PUNCT</td>\n",
       "    </tr>\n",
       "    <tr>\n",
       "      <th>1</th>\n",
       "      <td>Wirtschaftsministerium :</td>\n",
       "      <td>NOUN PUNCT</td>\n",
       "    </tr>\n",
       "    <tr>\n",
       "      <th>2</th>\n",
       "      <td>20 Millionen DSL-Anschlüsse bis 2010</td>\n",
       "      <td>NUM NOUN NOUN ADP NUM</td>\n",
       "    </tr>\n",
       "    <tr>\n",
       "      <th>3</th>\n",
       "      <td>Im Auftrag des Bundeswirtschaftsministeriums erstellte das Wissenschaftliche Institut für Kommunikationsdienste ( WIK ) die Studie \" Entwicklungstrends im Telekommunikationssektor bis 2010 \" .</td>\n",
       "      <td>ADP NOUN DET NOUN VERB DET ADJ NOUN ADP NOUN PUNCT PROPN PUNCT DET NOUN PUNCT NOUN ADP NOUN ADP NUM PUNCT PUNCT</td>\n",
       "    </tr>\n",
       "    <tr>\n",
       "      <th>4</th>\n",
       "      <td>Hierin prognostiziert das Institut , dass es im Jahr 2010 rund 20 Millionen DSL-Anschlüsse geben wird .</td>\n",
       "      <td>ADV VERB DET NOUN PUNCT SCONJ PRON ADP NOUN NUM ADV NUM NOUN NOUN VERB AUX PUNCT</td>\n",
       "    </tr>\n",
       "  </tbody>\n",
       "</table>\n",
       "</div>"
      ],
      "text/plain": [
       "                                                                                                                                                                                          sentences  \\\n",
       "0  Hinter der neuen Firma steht unter anderem Lucent Technologies , einer der größten Anbieter von Equipment für Netzwerke und Telekommunikation .                                                    \n",
       "1  Wirtschaftsministerium :                                                                                                                                                                           \n",
       "2  20 Millionen DSL-Anschlüsse bis 2010                                                                                                                                                               \n",
       "3  Im Auftrag des Bundeswirtschaftsministeriums erstellte das Wissenschaftliche Institut für Kommunikationsdienste ( WIK ) die Studie \" Entwicklungstrends im Telekommunikationssektor bis 2010 \" .   \n",
       "4  Hierin prognostiziert das Institut , dass es im Jahr 2010 rund 20 Millionen DSL-Anschlüsse geben wird .                                                                                            \n",
       "\n",
       "                                                                                                      ground_truth  \n",
       "0  ADP DET ADJ NOUN VERB ADP PRON PROPN X PUNCT PRON DET ADJ NOUN ADP NOUN ADP NOUN CCONJ NOUN PUNCT                \n",
       "1  NOUN PUNCT                                                                                                       \n",
       "2  NUM NOUN NOUN ADP NUM                                                                                            \n",
       "3  ADP NOUN DET NOUN VERB DET ADJ NOUN ADP NOUN PUNCT PROPN PUNCT DET NOUN PUNCT NOUN ADP NOUN ADP NUM PUNCT PUNCT  \n",
       "4  ADV VERB DET NOUN PUNCT SCONJ PRON ADP NOUN NUM ADV NUM NOUN NOUN VERB AUX PUNCT                                 "
      ]
     },
     "execution_count": 15,
     "metadata": {},
     "output_type": "execute_result"
    }
   ],
   "source": [
    "train_de.head()"
   ]
  },
  {
   "cell_type": "markdown",
   "metadata": {},
   "source": [
    "Get all X tags from German training set."
   ]
  },
  {
   "cell_type": "code",
   "execution_count": 47,
   "metadata": {},
   "outputs": [
    {
     "name": "stdout",
     "output_type": "stream",
     "text": [
      "Warning: Predictions are not loaded, if your condition contains a prediction, your output will be incorrect\n"
     ]
    }
   ],
   "source": [
    "def is_x_tag(actual,pred=None):\n",
    "    return actual==\"X\"\n",
    "\n",
    "x_tags_df, _ = de_pa.transform_data(is_x_tag) "
   ]
  },
  {
   "cell_type": "code",
   "execution_count": 48,
   "metadata": {},
   "outputs": [],
   "source": [
    "import numpy as np, sys\n",
    "np.set_printoptions(threshold=sys.maxsize)"
   ]
  },
  {
   "cell_type": "code",
   "execution_count": 54,
   "metadata": {},
   "outputs": [
    {
     "data": {
      "text/plain": [
       "'Technologies   Interactive   Media   Focus   Digital   Tomorrow   Wireless   Local   Loop   Preselection   A4   §§   ff.   Electronic   Arts   President   worldwide   studios   Electronic   Arts   Codes   Secure   Music   Transfer   Agent   SD   Memory   Cards   Secure   Music   Manager   Instant   Messenger   Instant   Messenger   1.2.3   Messenger   flat   surftime   Surftime   by   day   by   night   by   day   Eco   by   Call   Liberty   Media   Communications   Star   Instant   Messenger   '"
      ]
     },
     "execution_count": 54,
     "metadata": {},
     "output_type": "execute_result"
    }
   ],
   "source": [
    "x_tags = \"   \".join(x_tags_df.token.values)\n",
    "\n",
    "x_tags[:500]"
   ]
  },
  {
   "cell_type": "markdown",
   "metadata": {},
   "source": [
    "We can see in this sample (but also in the whole file) that almost all words tagged with X in German are English words. There we hypothesize that during training the model learns that English words should be tagged with X and therefore during validation on English it assigns X to almost all words."
   ]
  },
  {
   "cell_type": "code",
   "execution_count": null,
   "metadata": {},
   "outputs": [],
   "source": [
    "with open(\"german_x_tags.txt\",\"w\",encoding=\"utf-8\") as f:\n",
    "    f.write(x_tags)"
   ]
  }
 ],
 "metadata": {
  "kernelspec": {
   "display_name": "Python 3",
   "language": "python",
   "name": "python3"
  },
  "language_info": {
   "codemirror_mode": {
    "name": "ipython",
    "version": 3
   },
   "file_extension": ".py",
   "mimetype": "text/x-python",
   "name": "python",
   "nbconvert_exporter": "python",
   "pygments_lexer": "ipython3",
   "version": "3.7.3"
  },
  "toc": {
   "base_numbering": 1,
   "nav_menu": {},
   "number_sections": false,
   "sideBar": true,
   "skip_h1_title": false,
   "title_cell": "Table of Contents",
   "title_sidebar": "Contents",
   "toc_cell": false,
   "toc_position": {},
   "toc_section_display": true,
   "toc_window_display": true
  }
 },
 "nbformat": 4,
 "nbformat_minor": 4
}
