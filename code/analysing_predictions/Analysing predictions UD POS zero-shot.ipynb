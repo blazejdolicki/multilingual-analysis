{
 "cells": [
  {
   "cell_type": "markdown",
   "metadata": {},
   "source": [
    "## Analysing predictions of Universal Dependencies (POS TAGGING)"
   ]
  },
  {
   "cell_type": "markdown",
   "metadata": {},
   "source": [
    "http://bionlp-www.utu.fi/dep_search/"
   ]
  },
  {
   "cell_type": "code",
   "execution_count": 1,
   "metadata": {
    "ExecuteTime": {
     "end_time": "2020-05-14T12:50:54.415114Z",
     "start_time": "2020-05-14T12:50:53.790917Z"
    }
   },
   "outputs": [],
   "source": [
    "import pandas as pd\n",
    "\n",
    "pd.options.display.max_rows = 100000\n",
    "pd.set_option('display.max_colwidth', -1)\n"
   ]
  },
  {
   "cell_type": "code",
   "execution_count": 2,
   "metadata": {
    "ExecuteTime": {
     "end_time": "2020-05-14T12:50:54.467114Z",
     "start_time": "2020-05-14T12:50:54.415114Z"
    }
   },
   "outputs": [],
   "source": [
    "with open(\"dev-nl.tsv\") as f:\n",
    "    lines = f.read().split(\"\\n\")\n",
    "\n",
    "all_sentences = []\n",
    "all_tags = []\n",
    "sentence = \"\"\n",
    "sentene_tags = \"\"\n",
    "i = 0\n",
    "for line in lines:\n",
    "#     if a sentence ended\n",
    "    if line==\"\":\n",
    "        i += 1\n",
    "        all_sentences.append(sentence.strip())\n",
    "        all_tags.append(sentene_tags.strip())\n",
    "        sentence =\"\"\n",
    "        sentene_tags = \"\"\n",
    "    else:\n",
    "        word = line.split(\"\\t\")[0]\n",
    "        tag = line.split(\"\\t\")[1]\n",
    "        \n",
    "        sentence += \" \"+word\n",
    "        sentene_tags += \" \"+tag"
   ]
  },
  {
   "cell_type": "code",
   "execution_count": 3,
   "metadata": {
    "ExecuteTime": {
     "end_time": "2020-05-14T12:50:54.473114Z",
     "start_time": "2020-05-14T12:50:54.470113Z"
    }
   },
   "outputs": [],
   "source": [
    "zero_shot = True\n",
    "if zero_shot:\n",
    "    preds_name = \"dev_nl_predictions_zeroshot.txt\"\n",
    "else:\n",
    "    preds_name = \"dev_nl_predictions.txt\""
   ]
  },
  {
   "cell_type": "code",
   "execution_count": 4,
   "metadata": {
    "ExecuteTime": {
     "end_time": "2020-05-14T12:50:54.495607Z",
     "start_time": "2020-05-14T12:50:54.475115Z"
    }
   },
   "outputs": [],
   "source": [
    "with open(preds_name) as f:\n",
    "    lines = f.read().split(\"\\n\")\n",
    "\n",
    "all_pred_tags = []\n",
    "pred_tags = \"\"\n",
    "for line in lines:\n",
    "#     if a sentence ended\n",
    "    if line==\"\":\n",
    "        all_pred_tags.append(pred_tags.strip())\n",
    "        pred_tags = \"\"\n",
    "    else:\n",
    "        pred_tags += \" \"+line"
   ]
  },
  {
   "cell_type": "code",
   "execution_count": 5,
   "metadata": {
    "ExecuteTime": {
     "end_time": "2020-05-14T12:50:54.502835Z",
     "start_time": "2020-05-14T12:50:54.497598Z"
    }
   },
   "outputs": [],
   "source": [
    "ud_pos = pd.DataFrame(data={\"sentences\":all_sentences,\"ground_truth\":all_tags,\"predictions\":all_pred_tags})"
   ]
  },
  {
   "cell_type": "code",
   "execution_count": 6,
   "metadata": {
    "ExecuteTime": {
     "end_time": "2020-05-14T12:50:54.546935Z",
     "start_time": "2020-05-14T12:50:54.505834Z"
    }
   },
   "outputs": [
    {
     "data": {
      "text/html": [
       "<div>\n",
       "<style scoped>\n",
       "    .dataframe tbody tr th:only-of-type {\n",
       "        vertical-align: middle;\n",
       "    }\n",
       "\n",
       "    .dataframe tbody tr th {\n",
       "        vertical-align: top;\n",
       "    }\n",
       "\n",
       "    .dataframe thead th {\n",
       "        text-align: right;\n",
       "    }\n",
       "</style>\n",
       "<table border=\"1\" class=\"dataframe\">\n",
       "  <thead>\n",
       "    <tr style=\"text-align: right;\">\n",
       "      <th></th>\n",
       "      <th>sentences</th>\n",
       "      <th>ground_truth</th>\n",
       "      <th>predictions</th>\n",
       "    </tr>\n",
       "  </thead>\n",
       "  <tbody>\n",
       "    <tr>\n",
       "      <th>1389</th>\n",
       "      <td>Vandersteen wekte de sympathie op van zijn collega's en afdelingschef en mocht het vakblad van de slagers illustreren .</td>\n",
       "      <td>PROPN VERB DET NOUN ADP ADP PRON NOUN CCONJ NOUN CCONJ AUX DET NOUN ADP DET NOUN VERB PUNCT</td>\n",
       "      <td>PROPN VERB DET NOUN ADP ADP PRON NOUN CCONJ NOUN CCONJ AUX DET NOUN ADP DET NOUN VERB PUNCT</td>\n",
       "    </tr>\n",
       "    <tr>\n",
       "      <th>1390</th>\n",
       "      <td>Ook de wachtkamer en de personeels- en vergaderzalen mocht hij onder handen nemen .</td>\n",
       "      <td>ADV DET NOUN CCONJ DET X CCONJ NOUN AUX PRON ADP NOUN VERB PUNCT</td>\n",
       "      <td>ADV DET NOUN CCONJ DET NOUN CCONJ NOUN AUX PRON ADP NOUN VERB PUNCT</td>\n",
       "    </tr>\n",
       "    <tr>\n",
       "      <th>1391</th>\n",
       "      <td>Zo kwam hij in contact met J. Meuwissen , een Nederlander die sinds 1936 het blad Bravo uitgaf en op zoek was naar Vlaams en Nederlands tekentalent nu er geen Amerikaanse strips meer mochten gepubliceerd worden .</td>\n",
       "      <td>ADV VERB PRON ADP NOUN ADP PROPN PROPN PUNCT DET PROPN PRON ADP NUM DET NOUN PROPN VERB CCONJ ADP NOUN AUX ADP ADJ CCONJ ADJ NOUN SCONJ ADV DET ADJ NOUN ADV AUX VERB AUX PUNCT</td>\n",
       "      <td>ADV VERB PRON ADP NOUN ADP PROPN PROPN PUNCT DET NOUN PRON ADP NUM DET NOUN PROPN VERB CCONJ ADP NOUN AUX ADP ADJ CCONJ ADJ NOUN SCONJ PRON DET ADJ NOUN ADV AUX VERB AUX PUNCT</td>\n",
       "    </tr>\n",
       "    <tr>\n",
       "      <th>1392</th>\n",
       "      <td>Vandersteen mocht nu wekelijks een pagina vol tekenen rond Â« Sindbad de zeerover Â» , Â« Thor de holbewoner Â» en Â« Lancelot Â» .</td>\n",
       "      <td>PROPN AUX ADV ADJ DET NOUN ADJ VERB ADP PUNCT PROPN DET NOUN PUNCT PUNCT PUNCT PROPN DET NOUN PUNCT CCONJ PUNCT PROPN PUNCT PUNCT</td>\n",
       "      <td>PROPN AUX ADV ADV DET NOUN ADP NOUN ADP PUNCT PROPN DET PROPN PUNCT PUNCT PUNCT PROPN DET NOUN PUNCT CCONJ PUNCT PROPN PUNCT PUNCT</td>\n",
       "    </tr>\n",
       "    <tr>\n",
       "      <th>1393</th>\n",
       "      <td>Het waren stuk voor stuk erg onbeholpen , maar charmante strips die de lezers wel op de lachspieren werkten .</td>\n",
       "      <td>PRON AUX NOUN ADP NOUN ADJ ADJ PUNCT CCONJ ADJ NOUN PRON DET NOUN ADV ADP DET NOUN VERB PUNCT</td>\n",
       "      <td>PRON AUX NOUN ADP NOUN ADV ADJ PUNCT CCONJ ADJ NOUN PRON DET NOUN ADV ADP DET NOUN VERB PUNCT</td>\n",
       "    </tr>\n",
       "  </tbody>\n",
       "</table>\n",
       "</div>"
      ],
      "text/plain": [
       "                                                                                                                                                                                                                 sentences  \\\n",
       "1389  Vandersteen wekte de sympathie op van zijn collega's en afdelingschef en mocht het vakblad van de slagers illustreren .                                                                                                \n",
       "1390  Ook de wachtkamer en de personeels- en vergaderzalen mocht hij onder handen nemen .                                                                                                                                    \n",
       "1391  Zo kwam hij in contact met J. Meuwissen , een Nederlander die sinds 1936 het blad Bravo uitgaf en op zoek was naar Vlaams en Nederlands tekentalent nu er geen Amerikaanse strips meer mochten gepubliceerd worden .   \n",
       "1392  Vandersteen mocht nu wekelijks een pagina vol tekenen rond Â« Sindbad de zeerover Â» , Â« Thor de holbewoner Â» en Â« Lancelot Â» .                                                                                    \n",
       "1393  Het waren stuk voor stuk erg onbeholpen , maar charmante strips die de lezers wel op de lachspieren werkten .                                                                                                          \n",
       "\n",
       "                                                                                                                                                                         ground_truth  \\\n",
       "1389  PROPN VERB DET NOUN ADP ADP PRON NOUN CCONJ NOUN CCONJ AUX DET NOUN ADP DET NOUN VERB PUNCT                                                                                       \n",
       "1390  ADV DET NOUN CCONJ DET X CCONJ NOUN AUX PRON ADP NOUN VERB PUNCT                                                                                                                  \n",
       "1391  ADV VERB PRON ADP NOUN ADP PROPN PROPN PUNCT DET PROPN PRON ADP NUM DET NOUN PROPN VERB CCONJ ADP NOUN AUX ADP ADJ CCONJ ADJ NOUN SCONJ ADV DET ADJ NOUN ADV AUX VERB AUX PUNCT   \n",
       "1392  PROPN AUX ADV ADJ DET NOUN ADJ VERB ADP PUNCT PROPN DET NOUN PUNCT PUNCT PUNCT PROPN DET NOUN PUNCT CCONJ PUNCT PROPN PUNCT PUNCT                                                 \n",
       "1393  PRON AUX NOUN ADP NOUN ADJ ADJ PUNCT CCONJ ADJ NOUN PRON DET NOUN ADV ADP DET NOUN VERB PUNCT                                                                                     \n",
       "\n",
       "                                                                                                                                                                          predictions  \n",
       "1389  PROPN VERB DET NOUN ADP ADP PRON NOUN CCONJ NOUN CCONJ AUX DET NOUN ADP DET NOUN VERB PUNCT                                                                                      \n",
       "1390  ADV DET NOUN CCONJ DET NOUN CCONJ NOUN AUX PRON ADP NOUN VERB PUNCT                                                                                                              \n",
       "1391  ADV VERB PRON ADP NOUN ADP PROPN PROPN PUNCT DET NOUN PRON ADP NUM DET NOUN PROPN VERB CCONJ ADP NOUN AUX ADP ADJ CCONJ ADJ NOUN SCONJ PRON DET ADJ NOUN ADV AUX VERB AUX PUNCT  \n",
       "1392  PROPN AUX ADV ADV DET NOUN ADP NOUN ADP PUNCT PROPN DET PROPN PUNCT PUNCT PUNCT PROPN DET NOUN PUNCT CCONJ PUNCT PROPN PUNCT PUNCT                                               \n",
       "1393  PRON AUX NOUN ADP NOUN ADV ADJ PUNCT CCONJ ADJ NOUN PRON DET NOUN ADV ADP DET NOUN VERB PUNCT                                                                                    "
      ]
     },
     "execution_count": 6,
     "metadata": {},
     "output_type": "execute_result"
    }
   ],
   "source": [
    "ud_pos.tail()"
   ]
  },
  {
   "cell_type": "code",
   "execution_count": 7,
   "metadata": {
    "ExecuteTime": {
     "end_time": "2020-05-14T12:50:54.552947Z",
     "start_time": "2020-05-14T12:50:54.548961Z"
    }
   },
   "outputs": [],
   "source": [
    "unique_tags = \"ADJ ADP ADV AUX CCONJ DET INTJ NOUN NUM PART PRON PROPN PUNCT SCONJ SYM VERB X\".split()"
   ]
  },
  {
   "cell_type": "code",
   "execution_count": 8,
   "metadata": {
    "ExecuteTime": {
     "end_time": "2020-05-14T12:50:54.562941Z",
     "start_time": "2020-05-14T12:50:54.557950Z"
    }
   },
   "outputs": [],
   "source": [
    "import numpy as np\n",
    "confusion_matrix = np.zeros((len(unique_tags),len(unique_tags)))\n",
    "# rows represent predicted values and columns represent actuals"
   ]
  },
  {
   "cell_type": "code",
   "execution_count": 9,
   "metadata": {
    "ExecuteTime": {
     "end_time": "2020-05-14T12:50:54.608938Z",
     "start_time": "2020-05-14T12:50:54.565940Z"
    }
   },
   "outputs": [],
   "source": [
    "total_tags = 0\n",
    "incorrect_tags = 0\n",
    "mistakes_df = {\"predicted\":[],\"actual\":[],\"token\":[],\"sentence\":[],\"actual_tokens\":[]}\n",
    "for i in range(len(all_tags)):\n",
    "    actual_sent = all_tags[i].split()\n",
    "    pred_sent = all_pred_tags[i].split()\n",
    "    assert len(actual_sent)==len(pred_sent),\"Number of actual and predicted tags for the same sentence should be equal\"\n",
    "    for j in range(len(actual_sent)):\n",
    "        if not actual_sent[j]==pred_sent[j]:\n",
    "            mistakes_df[\"predicted\"].append(pred_sent[j])\n",
    "            mistakes_df[\"actual\"].append(actual_sent[j])\n",
    "            mistakes_df[\"token\"].append(all_sentences[i].split()[j])\n",
    "            mistakes_df[\"sentence\"].append(all_sentences[i])\n",
    "            mistakes_df[\"actual_tokens\"].append(\" \".join(actual_sent))\n",
    "            \n",
    "            confusion_matrix[unique_tags.index(pred_sent[j])][unique_tags.index(actual_sent[j])] += 1\n",
    "            incorrect_tags += 1\n",
    "        total_tags += 1\n",
    "#     if incorrect_tags==5:\n",
    "#         print(\"break\")\n",
    "#         break"
   ]
  },
  {
   "cell_type": "code",
   "execution_count": 10,
   "metadata": {
    "ExecuteTime": {
     "end_time": "2020-05-14T12:50:54.619936Z",
     "start_time": "2020-05-14T12:50:54.611948Z"
    }
   },
   "outputs": [],
   "source": [
    "mistakes_df = pd.DataFrame.from_dict(mistakes_df)"
   ]
  },
  {
   "cell_type": "code",
   "execution_count": 25,
   "metadata": {
    "ExecuteTime": {
     "end_time": "2020-05-14T13:05:21.062693Z",
     "start_time": "2020-05-14T13:05:21.011523Z"
    },
    "scrolled": true
   },
   "outputs": [
    {
     "data": {
      "text/html": [
       "<div>\n",
       "<style scoped>\n",
       "    .dataframe tbody tr th:only-of-type {\n",
       "        vertical-align: middle;\n",
       "    }\n",
       "\n",
       "    .dataframe tbody tr th {\n",
       "        vertical-align: top;\n",
       "    }\n",
       "\n",
       "    .dataframe thead th {\n",
       "        text-align: right;\n",
       "    }\n",
       "</style>\n",
       "<table border=\"1\" class=\"dataframe\">\n",
       "  <thead>\n",
       "    <tr style=\"text-align: right;\">\n",
       "      <th></th>\n",
       "      <th>predicted</th>\n",
       "      <th>actual</th>\n",
       "      <th>token</th>\n",
       "      <th>sentence</th>\n",
       "      <th>actual_tokens</th>\n",
       "    </tr>\n",
       "  </thead>\n",
       "  <tbody>\n",
       "    <tr>\n",
       "      <th>3</th>\n",
       "      <td>PART</td>\n",
       "      <td>ADP</td>\n",
       "      <td>te</td>\n",
       "      <td>Moeder Mien spoorde haar aan toch op te stappen .</td>\n",
       "      <td>NOUN PROPN VERB PRON ADP ADV ADP ADP VERB PUNCT</td>\n",
       "    </tr>\n",
       "    <tr>\n",
       "      <th>7</th>\n",
       "      <td>PART</td>\n",
       "      <td>ADP</td>\n",
       "      <td>te</td>\n",
       "      <td>Tot halverwege de koers had Van Alebeek moeite om zich volledig te concentreren op de wedstrijd .</td>\n",
       "      <td>ADP ADP DET NOUN VERB PROPN PROPN NOUN ADP PRON ADJ ADP VERB ADP DET NOUN PUNCT</td>\n",
       "    </tr>\n",
       "    <tr>\n",
       "      <th>9</th>\n",
       "      <td>PART</td>\n",
       "      <td>ADP</td>\n",
       "      <td>te</td>\n",
       "      <td>Om ongelukken te voorkomen heb ik mezelf gedwongen om me alleen nog met de koers bezig te houden . ''</td>\n",
       "      <td>ADP NOUN ADP VERB AUX PRON PRON VERB ADP PRON ADV ADV ADP DET NOUN ADJ ADP VERB PUNCT PUNCT</td>\n",
       "    </tr>\n",
       "    <tr>\n",
       "      <th>11</th>\n",
       "      <td>PART</td>\n",
       "      <td>ADP</td>\n",
       "      <td>te</td>\n",
       "      <td>Om ongelukken te voorkomen heb ik mezelf gedwongen om me alleen nog met de koers bezig te houden . ''</td>\n",
       "      <td>ADP NOUN ADP VERB AUX PRON PRON VERB ADP PRON ADV ADV ADP DET NOUN ADJ ADP VERB PUNCT PUNCT</td>\n",
       "    </tr>\n",
       "    <tr>\n",
       "      <th>18</th>\n",
       "      <td>PART</td>\n",
       "      <td>ADP</td>\n",
       "      <td>te</td>\n",
       "      <td>Ze zocht contact met ploegleider Zijlaard die adviseerde te gokken op de sprint .</td>\n",
       "      <td>PRON VERB NOUN ADP NOUN PROPN PRON VERB ADP VERB ADP DET NOUN PUNCT</td>\n",
       "    </tr>\n",
       "    <tr>\n",
       "      <th>43</th>\n",
       "      <td>PART</td>\n",
       "      <td>ADP</td>\n",
       "      <td>te</td>\n",
       "      <td>Dat gaf me de tijd om eens na te denken over mijn instelling .</td>\n",
       "      <td>PRON VERB PRON DET NOUN ADP ADV ADP ADP VERB ADP PRON NOUN PUNCT</td>\n",
       "    </tr>\n",
       "    <tr>\n",
       "      <th>45</th>\n",
       "      <td>PART</td>\n",
       "      <td>ADP</td>\n",
       "      <td>te</td>\n",
       "      <td>Ik besloot serieuzer te werk te gaan .</td>\n",
       "      <td>PRON VERB ADJ ADP NOUN ADP VERB PUNCT</td>\n",
       "    </tr>\n",
       "    <tr>\n",
       "      <th>96</th>\n",
       "      <td>PART</td>\n",
       "      <td>ADP</td>\n",
       "      <td>te</td>\n",
       "      <td>In nog geen dertig seconden verspeelde springruiter Wout-Jan van der Schans gistermiddag de Europese titel die lonkend op hem lag te wachten .</td>\n",
       "      <td>ADP ADV PRON NUM NOUN VERB NOUN PROPN PROPN PROPN PROPN ADV DET ADJ NOUN PRON VERB ADP PRON VERB ADP VERB PUNCT</td>\n",
       "    </tr>\n",
       "    <tr>\n",
       "      <th>98</th>\n",
       "      <td>PART</td>\n",
       "      <td>ADP</td>\n",
       "      <td>te</td>\n",
       "      <td>Na de eerste sprong was het moeilijk hem op zijn achterbenen te houden .</td>\n",
       "      <td>ADP DET ADJ NOUN AUX PRON ADJ PRON ADP PRON NOUN ADP VERB PUNCT</td>\n",
       "    </tr>\n",
       "    <tr>\n",
       "      <th>100</th>\n",
       "      <td>PART</td>\n",
       "      <td>ADP</td>\n",
       "      <td>te</td>\n",
       "      <td>Als dan de tweede valt , is het heel moeilijk de derde erop te houden . ''</td>\n",
       "      <td>SCONJ ADV DET ADJ VERB PUNCT AUX PRON ADJ ADJ DET ADJ ADV ADP VERB PUNCT PUNCT</td>\n",
       "    </tr>\n",
       "    <tr>\n",
       "      <th>125</th>\n",
       "      <td>PART</td>\n",
       "      <td>ADP</td>\n",
       "      <td>te</td>\n",
       "      <td>De held-die-geen-held-werd repte zich met Corland naar de stal , vermande zich en keerde terug naar het pandemonium bij de uitgang van de piste waar iedereen die maar iets van paardensport meent te weten een mening had over het echec .</td>\n",
       "      <td>DET NOUN VERB PRON ADP PROPN ADP DET NOUN PUNCT VERB PRON CCONJ VERB ADV ADP DET NOUN ADP DET NOUN ADP DET NOUN ADV PRON PRON ADV PRON ADP NOUN VERB ADP VERB DET NOUN VERB ADP DET NOUN PUNCT</td>\n",
       "    </tr>\n",
       "    <tr>\n",
       "      <th>128</th>\n",
       "      <td>PART</td>\n",
       "      <td>ADP</td>\n",
       "      <td>te</td>\n",
       "      <td>Daar besloot hij wat misverstanden weg te werken .</td>\n",
       "      <td>ADV VERB PRON DET NOUN ADV ADP VERB PUNCT</td>\n",
       "    </tr>\n",
       "    <tr>\n",
       "      <th>139</th>\n",
       "      <td>PART</td>\n",
       "      <td>ADP</td>\n",
       "      <td>te</td>\n",
       "      <td>Het is moeilijk van Beerbaum te winnen , maar dat is me donderdag toch maar gelukt . ''</td>\n",
       "      <td>PRON AUX ADJ ADP PROPN ADP VERB PUNCT CCONJ PRON AUX PRON PROPN ADV ADV VERB PUNCT PUNCT</td>\n",
       "    </tr>\n",
       "    <tr>\n",
       "      <th>159</th>\n",
       "      <td>PART</td>\n",
       "      <td>ADP</td>\n",
       "      <td>te</td>\n",
       "      <td>Niemand valt iets te verwijten , iedereen heeft zijn best gedaan .</td>\n",
       "      <td>PRON VERB PRON ADP VERB PUNCT PRON AUX PRON ADJ VERB PUNCT</td>\n",
       "    </tr>\n",
       "    <tr>\n",
       "      <th>162</th>\n",
       "      <td>PART</td>\n",
       "      <td>ADP</td>\n",
       "      <td>te</td>\n",
       "      <td>,, De boel was niet in de hand te houden . ''</td>\n",
       "      <td>PUNCT DET NOUN AUX ADV ADP DET NOUN ADP VERB PUNCT PUNCT</td>\n",
       "    </tr>\n",
       "    <tr>\n",
       "      <th>171</th>\n",
       "      <td>PART</td>\n",
       "      <td>ADP</td>\n",
       "      <td>te</td>\n",
       "      <td>Op het vlakke parcours in Nijmegen slaagden de Rabo's er niet in de regie van start tot finish te bepalen .</td>\n",
       "      <td>ADP DET ADJ NOUN ADP PROPN VERB DET PROPN PRON ADV ADP DET NOUN ADP NOUN ADP NOUN ADP VERB PUNCT</td>\n",
       "    </tr>\n",
       "    <tr>\n",
       "      <th>194</th>\n",
       "      <td>PART</td>\n",
       "      <td>ADP</td>\n",
       "      <td>te</td>\n",
       "      <td>Een meesterzet , zo leek het , want de Bankgiroloterij-ploeg moest kilometerslang aan kop van het peloton sleuren om een hergroepering tot stand te brengen .</td>\n",
       "      <td>DET NOUN PUNCT ADV VERB PRON PUNCT CCONJ DET NOUN AUX ADJ ADP NOUN ADP DET NOUN VERB ADP DET NOUN ADP NOUN ADP VERB PUNCT</td>\n",
       "    </tr>\n",
       "    <tr>\n",
       "      <th>208</th>\n",
       "      <td>PART</td>\n",
       "      <td>ADP</td>\n",
       "      <td>te</td>\n",
       "      <td>De Rooij gaf de Rabo-renners in het peloton uiteindelijk de opdracht het gat dicht te rijden .</td>\n",
       "      <td>PROPN PROPN VERB DET NOUN ADP DET NOUN ADJ DET NOUN DET NOUN ADJ ADP VERB PUNCT</td>\n",
       "    </tr>\n",
       "    <tr>\n",
       "      <th>213</th>\n",
       "      <td>PART</td>\n",
       "      <td>ADP</td>\n",
       "      <td>te</td>\n",
       "      <td>Boogerd leek de pure sprinters nog even te verrassen toen hij in de laatste bocht tien meter voorsprong nam .</td>\n",
       "      <td>PROPN VERB DET ADJ NOUN ADV ADV ADP VERB SCONJ PRON ADP DET ADJ NOUN NUM NOUN NOUN VERB PUNCT</td>\n",
       "    </tr>\n",
       "    <tr>\n",
       "      <th>219</th>\n",
       "      <td>PART</td>\n",
       "      <td>ADP</td>\n",
       "      <td>te</td>\n",
       "      <td>Hij had tijdens het sprinten zelfs nog even tijd om om te kijken .</td>\n",
       "      <td>PRON VERB ADP DET VERB ADV ADV ADV NOUN ADP ADP ADP VERB PUNCT</td>\n",
       "    </tr>\n",
       "    <tr>\n",
       "      <th>226</th>\n",
       "      <td>PART</td>\n",
       "      <td>ADP</td>\n",
       "      <td>te</td>\n",
       "      <td>In de afgelopen twee weken heb ik 1200 kilometer getraind , heel veel achter een scooter om snelheid te krijgen . ''</td>\n",
       "      <td>ADP DET VERB NUM NOUN AUX PRON NUM NOUN VERB PUNCT ADJ PRON ADP DET NOUN ADP NOUN ADP VERB PUNCT PUNCT</td>\n",
       "    </tr>\n",
       "    <tr>\n",
       "      <th>238</th>\n",
       "      <td>PART</td>\n",
       "      <td>ADP</td>\n",
       "      <td>te</td>\n",
       "      <td>Vandaag komt manager John Wordin naar Nederland om hem , en ploegleider Johan Lammerts , uitleg te verschaffen .</td>\n",
       "      <td>ADV VERB NOUN PROPN PROPN ADP PROPN ADP PRON PUNCT CCONJ NOUN PROPN PROPN PUNCT NOUN ADP VERB PUNCT</td>\n",
       "    </tr>\n",
       "    <tr>\n",
       "      <th>241</th>\n",
       "      <td>PART</td>\n",
       "      <td>ADP</td>\n",
       "      <td>te</td>\n",
       "      <td>De Zuid Amerikaanse voetbalfederatie CSF heeft besloten de Copa America uit te stellen .</td>\n",
       "      <td>DET PROPN ADJ NOUN PROPN AUX VERB DET PROPN PROPN ADP ADP VERB PUNCT</td>\n",
       "    </tr>\n",
       "    <tr>\n",
       "      <th>243</th>\n",
       "      <td>PART</td>\n",
       "      <td>ADP</td>\n",
       "      <td>te</td>\n",
       "      <td>Op een vergadering in Buenos Aires werd zaterdag echter besloten het toernooi toch in Colombia te laten spelen , maar dan later - mogelijk in januari 2002 .</td>\n",
       "      <td>ADP DET NOUN ADP PROPN PROPN AUX PROPN ADV VERB DET NOUN ADV ADP PROPN ADP VERB VERB PUNCT CCONJ ADV ADJ PUNCT ADJ ADP PROPN NUM PUNCT</td>\n",
       "    </tr>\n",
       "    <tr>\n",
       "      <th>255</th>\n",
       "      <td>PART</td>\n",
       "      <td>ADP</td>\n",
       "      <td>te</td>\n",
       "      <td>Maar de afgelopen week lukte het de CSF , die Colombia tot dan steunde , niet meer de gelederen gesloten te houden .</td>\n",
       "      <td>CCONJ DET VERB NOUN VERB PRON DET PROPN PUNCT PRON PROPN ADP ADV VERB PUNCT ADV ADV DET NOUN VERB ADP VERB PUNCT</td>\n",
       "    </tr>\n",
       "    <tr>\n",
       "      <th>259</th>\n",
       "      <td>PART</td>\n",
       "      <td>ADP</td>\n",
       "      <td>te</td>\n",
       "      <td>BraziliÃ« probeerde het toernooi over te nemen .</td>\n",
       "      <td>PROPN VERB DET NOUN ADP ADP VERB PUNCT</td>\n",
       "    </tr>\n",
       "    <tr>\n",
       "      <th>262</th>\n",
       "      <td>PART</td>\n",
       "      <td>ADP</td>\n",
       "      <td>te</td>\n",
       "      <td>Kort nadat CSF-voorzitter Leoz donderdag het besluit het toernooi te annuleren bekend had gemaakt , werd Mejia vrijgelaten door zijn ontvoerders .</td>\n",
       "      <td>ADJ SCONJ NOUN PROPN PROPN DET NOUN DET NOUN ADP VERB ADJ AUX VERB PUNCT AUX PROPN VERB ADP PRON NOUN PUNCT</td>\n",
       "    </tr>\n",
       "    <tr>\n",
       "      <th>267</th>\n",
       "      <td>PART</td>\n",
       "      <td>ADP</td>\n",
       "      <td>te</td>\n",
       "      <td>Mejia werd terstond ingezet in een campagne om de Copa voor Colombia te redden .</td>\n",
       "      <td>PROPN AUX ADV VERB ADP DET NOUN ADP DET PROPN ADP PROPN ADP VERB PUNCT</td>\n",
       "    </tr>\n",
       "    <tr>\n",
       "      <th>270</th>\n",
       "      <td>PART</td>\n",
       "      <td>ADP</td>\n",
       "      <td>te</td>\n",
       "      <td>De ironie wil dat FARC-woordvoerder Raul Reyes in april 2000 een akkoord had gesloten met de Colombiaanse regering om de Copa te respecteren .</td>\n",
       "      <td>DET NOUN VERB SCONJ NOUN PROPN PROPN ADP PROPN NUM DET NOUN AUX VERB ADP DET ADJ NOUN ADP DET PROPN ADP VERB PUNCT</td>\n",
       "    </tr>\n",
       "    <tr>\n",
       "      <th>274</th>\n",
       "      <td>PART</td>\n",
       "      <td>ADP</td>\n",
       "      <td>te</td>\n",
       "      <td>De afgelopen week lieten de FARC op humanitaire gronden ruim 300 ontvoerde politie-agenten en militairen vrij om hun vredeswens te illustreren .</td>\n",
       "      <td>DET VERB NOUN VERB DET PROPN ADP ADJ NOUN ADJ NUM VERB NOUN CCONJ NOUN ADJ ADP PRON NOUN ADP VERB PUNCT</td>\n",
       "    </tr>\n",
       "    <tr>\n",
       "      <th>283</th>\n",
       "      <td>PART</td>\n",
       "      <td>ADP</td>\n",
       "      <td>te</td>\n",
       "      <td>Pastrana begon een politiek offensief om de Copa voor Colombia te behouden .</td>\n",
       "      <td>PROPN VERB DET ADJ NOUN ADP DET PROPN ADP PROPN ADP VERB PUNCT</td>\n",
       "    </tr>\n",
       "    <tr>\n",
       "      <th>285</th>\n",
       "      <td>PART</td>\n",
       "      <td>ADP</td>\n",
       "      <td>te</td>\n",
       "      <td>Hij belde persoonlijk met regeringsleiders van andere Zuid-Amerikaanse landen met het verzoek hun nationale voetbalbonden te overtuigen van het belang van het toernooi voor Colombia .</td>\n",
       "      <td>PRON VERB ADJ ADP NOUN ADP ADJ ADJ NOUN ADP DET NOUN PRON ADJ NOUN ADP VERB ADP DET NOUN ADP DET NOUN ADP PROPN PUNCT</td>\n",
       "    </tr>\n",
       "    <tr>\n",
       "      <th>288</th>\n",
       "      <td>PART</td>\n",
       "      <td>ADP</td>\n",
       "      <td>te</td>\n",
       "      <td>Het besluit van de CSF lijkt op een poging de kool en de geit te sparen .</td>\n",
       "      <td>DET NOUN ADP DET PROPN VERB ADP DET NOUN DET NOUN CCONJ DET NOUN ADP VERB PUNCT</td>\n",
       "    </tr>\n",
       "    <tr>\n",
       "      <th>297</th>\n",
       "      <td>PART</td>\n",
       "      <td>ADP</td>\n",
       "      <td>te</td>\n",
       "      <td>,, Het was voor ons de kans om eens een ander Colombia te laten zien .</td>\n",
       "      <td>PUNCT PRON AUX ADP PRON DET NOUN ADP ADV DET ADJ PROPN ADP VERB VERB PUNCT</td>\n",
       "    </tr>\n",
       "    <tr>\n",
       "      <th>308</th>\n",
       "      <td>PART</td>\n",
       "      <td>ADP</td>\n",
       "      <td>te</td>\n",
       "      <td>Lindsay Davenport is vast van plan om meer te genieten van haar beroep .</td>\n",
       "      <td>PROPN PROPN VERB ADJ ADP NOUN ADP ADV ADP VERB ADP PRON NOUN PUNCT</td>\n",
       "    </tr>\n",
       "    <tr>\n",
       "      <th>311</th>\n",
       "      <td>PART</td>\n",
       "      <td>ADP</td>\n",
       "      <td>te</td>\n",
       "      <td>Angst om te verliezen kent de Amerikaanse in ieder geval niet meer .</td>\n",
       "      <td>NOUN ADP ADP VERB VERB DET ADJ ADP DET NOUN ADV ADV PUNCT</td>\n",
       "    </tr>\n",
       "    <tr>\n",
       "      <th>316</th>\n",
       "      <td>PART</td>\n",
       "      <td>ADP</td>\n",
       "      <td>te</td>\n",
       "      <td>Meer dan ooit voel ik het als een privilege om hier Ã¼berhaupt op de baan te mogen staan . ''</td>\n",
       "      <td>ADV SCONJ ADV VERB PRON PRON ADP DET NOUN ADP ADV ADV ADP DET NOUN ADP AUX VERB PUNCT PUNCT</td>\n",
       "    </tr>\n",
       "    <tr>\n",
       "      <th>332</th>\n",
       "      <td>PART</td>\n",
       "      <td>ADP</td>\n",
       "      <td>te</td>\n",
       "      <td>Het gaf haar de tijd om eens na te denken over haar drie veroverde Grand Slam-titels en de toekomst die nog voor haar ligt .</td>\n",
       "      <td>PRON VERB PRON DET NOUN ADP ADV ADP ADP VERB ADP PRON NUM VERB PROPN NOUN CCONJ DET NOUN PRON ADV ADP PRON VERB PUNCT</td>\n",
       "    </tr>\n",
       "    <tr>\n",
       "      <th>340</th>\n",
       "      <td>PART</td>\n",
       "      <td>ADP</td>\n",
       "      <td>te</td>\n",
       "      <td>Ik ben pas 25 jaar en toch heb ik al het gevoel in de slotfase van mijn carriÃ¨re te zijn aanbeland .</td>\n",
       "      <td>PRON AUX ADV NUM NOUN CCONJ ADV VERB PRON ADV DET NOUN ADP DET NOUN ADP PRON NOUN ADP AUX VERB PUNCT</td>\n",
       "    </tr>\n",
       "    <tr>\n",
       "      <th>342</th>\n",
       "      <td>PART</td>\n",
       "      <td>ADP</td>\n",
       "      <td>te</td>\n",
       "      <td>Je moet proberen het licht aan het einde van de tunnel te zien ; de tunnel die naar je doel leidt .</td>\n",
       "      <td>PRON AUX VERB DET NOUN ADP DET NOUN ADP DET NOUN ADP VERB PUNCT DET NOUN PRON ADP PRON NOUN VERB PUNCT</td>\n",
       "    </tr>\n",
       "    <tr>\n",
       "      <th>347</th>\n",
       "      <td>PART</td>\n",
       "      <td>ADP</td>\n",
       "      <td>te</td>\n",
       "      <td>Een normaal iemand hoeft het grotere geheel van zijn carriÃ¨re pas jaren later te begrijpen . ''</td>\n",
       "      <td>DET ADJ PRON VERB DET ADJ NOUN ADP PRON NOUN ADV NOUN ADJ ADP VERB PUNCT PUNCT</td>\n",
       "    </tr>\n",
       "    <tr>\n",
       "      <th>380</th>\n",
       "      <td>PART</td>\n",
       "      <td>ADP</td>\n",
       "      <td>te</td>\n",
       "      <td>Of het historisch is , valt te bezien , maar het antwoord van de heilige Vader was gevat : It's a long way to Tipperary .</td>\n",
       "      <td>SCONJ PRON ADJ AUX PUNCT VERB ADP VERB PUNCT CCONJ DET NOUN ADP DET ADJ NOUN AUX ADJ PUNCT X X X X X X PUNCT</td>\n",
       "    </tr>\n",
       "    <tr>\n",
       "      <th>394</th>\n",
       "      <td>PART</td>\n",
       "      <td>ADP</td>\n",
       "      <td>te</td>\n",
       "      <td>Volgens WOW-woordvoerster Soline Vitanel moesten aangezochte sprekers onder druk afhaken , en zelfs de Wereldraad verbood een prominent vertegenwoordigster om mee te werken .</td>\n",
       "      <td>ADP NOUN PROPN PROPN AUX VERB NOUN ADP NOUN VERB PUNCT CCONJ ADV DET NOUN VERB DET ADJ NOUN ADP ADP ADP VERB PUNCT</td>\n",
       "    </tr>\n",
       "    <tr>\n",
       "      <th>412</th>\n",
       "      <td>PART</td>\n",
       "      <td>ADP</td>\n",
       "      <td>te</td>\n",
       "      <td>Pogingen om in Nederland te praten over vrouwenwijding stranden op rk onwil .</td>\n",
       "      <td>NOUN ADP ADP PROPN ADP VERB ADP NOUN VERB ADP ADJ NOUN PUNCT</td>\n",
       "    </tr>\n",
       "    <tr>\n",
       "      <th>419</th>\n",
       "      <td>PART</td>\n",
       "      <td>ADP</td>\n",
       "      <td>te</td>\n",
       "      <td>Hardnekkig probeert WOW de zaak te heropenen .</td>\n",
       "      <td>ADJ VERB PROPN DET NOUN ADP VERB PUNCT</td>\n",
       "    </tr>\n",
       "    <tr>\n",
       "      <th>421</th>\n",
       "      <td>PART</td>\n",
       "      <td>ADP</td>\n",
       "      <td>te</td>\n",
       "      <td>Ze roept de paus in een resolutie op dat ook te doen .</td>\n",
       "      <td>PRON VERB DET NOUN ADP DET NOUN ADP PRON ADV ADP VERB PUNCT</td>\n",
       "    </tr>\n",
       "    <tr>\n",
       "      <th>426</th>\n",
       "      <td>PART</td>\n",
       "      <td>ADP</td>\n",
       "      <td>te</td>\n",
       "      <td>De benedictines Joan Chittister is de enige spreekster op het congres die wat te vrezen heeft van haar kerk ; de anderen zijn niet of niet meer rk.</td>\n",
       "      <td>DET NOUN PROPN PROPN AUX DET PRON NOUN ADP DET NOUN PRON PRON ADP VERB VERB ADP PRON NOUN PUNCT DET ADJ AUX ADV CCONJ ADV ADV ADJ</td>\n",
       "    </tr>\n",
       "    <tr>\n",
       "      <th>445</th>\n",
       "      <td>PART</td>\n",
       "      <td>ADP</td>\n",
       "      <td>te</td>\n",
       "      <td>In totaal 135 medezusters hebben al gezegd dezelfde sancties te willen krijgen als Chittister .</td>\n",
       "      <td>ADP NOUN NUM NOUN AUX ADV VERB ADJ NOUN ADP VERB VERB SCONJ PROPN PUNCT</td>\n",
       "    </tr>\n",
       "    <tr>\n",
       "      <th>458</th>\n",
       "      <td>PART</td>\n",
       "      <td>ADP</td>\n",
       "      <td>te</td>\n",
       "      <td>Daarmee heeft Wijngaards de gevoelige plek te pakken : het argument waarmee ' de kerk ' nee zegt , is op zichzelf niet inhoudelijk .</td>\n",
       "      <td>ADV VERB PROPN DET ADJ NOUN ADP VERB PUNCT DET NOUN ADV PUNCT DET NOUN PUNCT INTJ VERB PUNCT AUX ADP PRON ADV ADJ PUNCT</td>\n",
       "    </tr>\n",
       "    <tr>\n",
       "      <th>466</th>\n",
       "      <td>PART</td>\n",
       "      <td>ADP</td>\n",
       "      <td>te</td>\n",
       "      <td>Hij vergelijkt het met de weerzin die zwarten plachten op te wekken .</td>\n",
       "      <td>PRON VERB PRON ADP DET NOUN PRON ADJ VERB ADP ADP VERB PUNCT</td>\n",
       "    </tr>\n",
       "    <tr>\n",
       "      <th>471</th>\n",
       "      <td>PART</td>\n",
       "      <td>ADP</td>\n",
       "      <td>te</td>\n",
       "      <td>,, Als priesters zelfingenomen zeggen dat Jezus vrouwen uitsloot en dat ze daarom nooit gewijd zijn , is dat argument eenvoudig te slopen : vrouwen hebben in vroeger eeuwen wel degelijk een volledige diakenwijding ontvangen . ''</td>\n",
       "      <td>PUNCT SCONJ NOUN ADJ VERB SCONJ PROPN NOUN VERB CCONJ SCONJ PRON ADV ADV VERB AUX PUNCT AUX DET NOUN ADJ ADP VERB PUNCT NOUN AUX ADP ADJ NOUN ADV ADJ DET ADJ NOUN VERB PUNCT PUNCT</td>\n",
       "    </tr>\n",
       "    <tr>\n",
       "      <th>480</th>\n",
       "      <td>PART</td>\n",
       "      <td>ADP</td>\n",
       "      <td>te</td>\n",
       "      <td>Het slachtoffer stond op vijf meter hoogte in een feesttent te werken toen hij naar beneden viel en op zijn hoofd terechtkwam .</td>\n",
       "      <td>DET NOUN VERB ADP NUM NOUN NOUN ADP DET NOUN ADP VERB SCONJ PRON ADP ADP VERB CCONJ ADP PRON NOUN VERB PUNCT</td>\n",
       "    </tr>\n",
       "    <tr>\n",
       "      <th>484</th>\n",
       "      <td>PART</td>\n",
       "      <td>ADP</td>\n",
       "      <td>te</td>\n",
       "      <td>De groep besloot het optreden af te blazen .</td>\n",
       "      <td>DET NOUN VERB DET NOUN ADP ADP VERB PUNCT</td>\n",
       "    </tr>\n",
       "    <tr>\n",
       "      <th>508</th>\n",
       "      <td>PART</td>\n",
       "      <td>ADP</td>\n",
       "      <td>te</td>\n",
       "      <td>Met het onderzoek naar de bruikbaarheid van de polygraaf hoopt onderzoeker Buschman beter te kunnen voorspellen in hoeverre een zedendelinquent na zijn tbs een maatschappelijk risico vormt door terug te vallen in zijn criminele gedrag .</td>\n",
       "      <td>ADP DET NOUN ADP DET NOUN ADP DET NOUN VERB NOUN PROPN ADJ ADP AUX VERB ADP ADV DET NOUN ADP PRON NOUN DET ADJ NOUN VERB ADP ADV ADP VERB ADP PRON ADJ NOUN PUNCT</td>\n",
       "    </tr>\n",
       "    <tr>\n",
       "      <th>510</th>\n",
       "      <td>PART</td>\n",
       "      <td>ADP</td>\n",
       "      <td>te</td>\n",
       "      <td>Met het onderzoek naar de bruikbaarheid van de polygraaf hoopt onderzoeker Buschman beter te kunnen voorspellen in hoeverre een zedendelinquent na zijn tbs een maatschappelijk risico vormt door terug te vallen in zijn criminele gedrag .</td>\n",
       "      <td>ADP DET NOUN ADP DET NOUN ADP DET NOUN VERB NOUN PROPN ADJ ADP AUX VERB ADP ADV DET NOUN ADP PRON NOUN DET ADJ NOUN VERB ADP ADV ADP VERB ADP PRON ADJ NOUN PUNCT</td>\n",
       "    </tr>\n",
       "    <tr>\n",
       "      <th>517</th>\n",
       "      <td>PART</td>\n",
       "      <td>ADP</td>\n",
       "      <td>te</td>\n",
       "      <td>Campinggasten hebben nog geprobeerd te reanimeren , maar bij aankomst in het ziekenhuis bleken de meisjes te zijn overleden .</td>\n",
       "      <td>NOUN AUX ADV VERB ADP VERB PUNCT CCONJ ADP NOUN ADP DET NOUN VERB DET NOUN ADP AUX VERB PUNCT</td>\n",
       "    </tr>\n",
       "    <tr>\n",
       "      <th>518</th>\n",
       "      <td>PART</td>\n",
       "      <td>ADP</td>\n",
       "      <td>te</td>\n",
       "      <td>Campinggasten hebben nog geprobeerd te reanimeren , maar bij aankomst in het ziekenhuis bleken de meisjes te zijn overleden .</td>\n",
       "      <td>NOUN AUX ADV VERB ADP VERB PUNCT CCONJ ADP NOUN ADP DET NOUN VERB DET NOUN ADP AUX VERB PUNCT</td>\n",
       "    </tr>\n",
       "    <tr>\n",
       "      <th>598</th>\n",
       "      <td>PART</td>\n",
       "      <td>ADP</td>\n",
       "      <td>te</td>\n",
       "      <td>Dit had te maken met regulier onderhoud aan de computers .</td>\n",
       "      <td>PRON VERB ADP VERB ADP ADJ NOUN ADP DET NOUN PUNCT</td>\n",
       "    </tr>\n",
       "    <tr>\n",
       "      <th>605</th>\n",
       "      <td>PART</td>\n",
       "      <td>ADP</td>\n",
       "      <td>te</td>\n",
       "      <td>Topman Jack Welch van het Amerikaanse industriÃ«le concern General Electric ( GE ) verwerpt het aanbod van zijn collega van Honeywell om de beoogde fusie van de twee ondernemingen te redden .</td>\n",
       "      <td>NOUN PROPN PROPN ADP DET ADJ ADJ NOUN PROPN PROPN PUNCT PROPN PUNCT VERB DET NOUN ADP PRON NOUN ADP PROPN ADP DET VERB NOUN ADP DET NUM NOUN ADP VERB PUNCT</td>\n",
       "    </tr>\n",
       "    <tr>\n",
       "      <th>612</th>\n",
       "      <td>PART</td>\n",
       "      <td>ADP</td>\n",
       "      <td>te</td>\n",
       "      <td>Honeywell bood GE aan dat dit concern minder hoeft te betalen voor Honeywell als het bepaalde onderdelen afstoot zoals de Europese Commissie graag wil .</td>\n",
       "      <td>PROPN VERB PROPN ADP SCONJ DET NOUN PRON VERB ADP VERB ADP PROPN SCONJ PRON VERB NOUN VERB SCONJ DET PROPN PROPN ADV VERB PUNCT</td>\n",
       "    </tr>\n",
       "    <tr>\n",
       "      <th>621</th>\n",
       "      <td>PART</td>\n",
       "      <td>ADP</td>\n",
       "      <td>te</td>\n",
       "      <td>Boeren in praktisch heel het land zijn van plan vandaag de ochtendspits lam te leggen .</td>\n",
       "      <td>NOUN ADP ADJ ADJ DET NOUN AUX ADP NOUN ADV DET NOUN ADJ ADP VERB PUNCT</td>\n",
       "    </tr>\n",
       "    <tr>\n",
       "      <th>637</th>\n",
       "      <td>PART</td>\n",
       "      <td>ADP</td>\n",
       "      <td>te</td>\n",
       "      <td>In Zuid-West Nederland zijn er plannen om de A58 bij Wouw en Bergen op Zoom te blokkeren .</td>\n",
       "      <td>ADP ADJ PROPN VERB ADV NOUN ADP DET PROPN ADP PROPN CCONJ PROPN PROPN PROPN ADP VERB PUNCT</td>\n",
       "    </tr>\n",
       "    <tr>\n",
       "      <th>647</th>\n",
       "      <td>PART</td>\n",
       "      <td>ADP</td>\n",
       "      <td>te</td>\n",
       "      <td>De Bulgaarse ex-koning Simeon II , wiens partij de verkiezingen van vorige maand won , meent dat hij geen keus heeft dan premier te worden .</td>\n",
       "      <td>DET ADJ NOUN PROPN PROPN PUNCT DET NOUN DET NOUN ADP ADJ NOUN VERB PUNCT VERB SCONJ PRON DET NOUN VERB SCONJ NOUN ADP VERB PUNCT</td>\n",
       "    </tr>\n",
       "    <tr>\n",
       "      <th>669</th>\n",
       "      <td>PART</td>\n",
       "      <td>ADP</td>\n",
       "      <td>te</td>\n",
       "      <td>De ingebrachte ' pacemaker-plus ' dient zowel om de hartslag te vertragen als , wanneer nodig , te versnellen .</td>\n",
       "      <td>DET VERB PUNCT NOUN PUNCT VERB CCONJ ADP DET NOUN ADP VERB SCONJ PUNCT ADV ADJ PUNCT ADP VERB PUNCT</td>\n",
       "    </tr>\n",
       "    <tr>\n",
       "      <th>672</th>\n",
       "      <td>PART</td>\n",
       "      <td>ADP</td>\n",
       "      <td>te</td>\n",
       "      <td>De ingebrachte ' pacemaker-plus ' dient zowel om de hartslag te vertragen als , wanneer nodig , te versnellen .</td>\n",
       "      <td>DET VERB PUNCT NOUN PUNCT VERB CCONJ ADP DET NOUN ADP VERB SCONJ PUNCT ADV ADJ PUNCT ADP VERB PUNCT</td>\n",
       "    </tr>\n",
       "    <tr>\n",
       "      <th>675</th>\n",
       "      <td>PART</td>\n",
       "      <td>ADP</td>\n",
       "      <td>te</td>\n",
       "      <td>Een woordvoerster zei gisteren dat de 60-jarige Cheney vandaag gewoon van plan is aan het werk te gaan .</td>\n",
       "      <td>DET NOUN VERB ADV SCONJ DET ADJ PROPN ADV ADJ ADP NOUN AUX ADP DET NOUN ADP VERB PUNCT</td>\n",
       "    </tr>\n",
       "    <tr>\n",
       "      <th>688</th>\n",
       "      <td>PART</td>\n",
       "      <td>ADP</td>\n",
       "      <td>te</td>\n",
       "      <td>,, Ik ben bereid om terug te komen '' , zei Trimble gisteren , ,, maar alleen als we de wapens voorgoed achter ons laten . ''</td>\n",
       "      <td>PUNCT PRON AUX ADJ ADP ADV ADP VERB PUNCT PUNCT VERB PROPN ADV PUNCT PUNCT CCONJ ADV SCONJ PRON DET NOUN ADV ADP PRON VERB PUNCT PUNCT</td>\n",
       "    </tr>\n",
       "    <tr>\n",
       "      <th>691</th>\n",
       "      <td>PART</td>\n",
       "      <td>ADP</td>\n",
       "      <td>te</td>\n",
       "      <td>Volgens het Goede Vrijdag-akkoord heeft de regering zes weken om Trimble te vragen terug te komen Ã³f hem te vervangen , anders komen er verkiezingen .</td>\n",
       "      <td>ADP DET PROPN NOUN VERB DET NOUN NUM NOUN ADP PROPN ADP VERB ADV ADP VERB CCONJ PRON ADP VERB PUNCT ADV VERB ADV NOUN PUNCT</td>\n",
       "    </tr>\n",
       "    <tr>\n",
       "      <th>692</th>\n",
       "      <td>PART</td>\n",
       "      <td>ADP</td>\n",
       "      <td>te</td>\n",
       "      <td>Volgens het Goede Vrijdag-akkoord heeft de regering zes weken om Trimble te vragen terug te komen Ã³f hem te vervangen , anders komen er verkiezingen .</td>\n",
       "      <td>ADP DET PROPN NOUN VERB DET NOUN NUM NOUN ADP PROPN ADP VERB ADV ADP VERB CCONJ PRON ADP VERB PUNCT ADV VERB ADV NOUN PUNCT</td>\n",
       "    </tr>\n",
       "    <tr>\n",
       "      <th>693</th>\n",
       "      <td>PART</td>\n",
       "      <td>ADP</td>\n",
       "      <td>te</td>\n",
       "      <td>Volgens het Goede Vrijdag-akkoord heeft de regering zes weken om Trimble te vragen terug te komen Ã³f hem te vervangen , anders komen er verkiezingen .</td>\n",
       "      <td>ADP DET PROPN NOUN VERB DET NOUN NUM NOUN ADP PROPN ADP VERB ADV ADP VERB CCONJ PRON ADP VERB PUNCT ADV VERB ADV NOUN PUNCT</td>\n",
       "    </tr>\n",
       "    <tr>\n",
       "      <th>696</th>\n",
       "      <td>PART</td>\n",
       "      <td>ADP</td>\n",
       "      <td>te</td>\n",
       "      <td>Sommige analisten menen dat Trimble erop gokt dat het IRA door zijn vertrek zo onder druk komt te staan dat de organisatie alsnog overstag gaat .</td>\n",
       "      <td>DET NOUN VERB SCONJ PROPN ADV VERB SCONJ DET PROPN ADP PRON NOUN ADV ADP NOUN VERB ADP VERB SCONJ DET NOUN ADV ADV VERB PUNCT</td>\n",
       "    </tr>\n",
       "    <tr>\n",
       "      <th>697</th>\n",
       "      <td>PART</td>\n",
       "      <td>ADP</td>\n",
       "      <td>te</td>\n",
       "      <td>Bovendien hoopt hij de kritiek binnen zijn eigen achterban , de Ulster Unionisten , tot zwijgen te brengen dat hij zich niet hard genoeg opstelt tegenover het Ira .</td>\n",
       "      <td>ADV VERB PRON DET NOUN ADP PRON ADJ NOUN PUNCT DET PROPN PROPN PUNCT ADP VERB ADP VERB SCONJ PRON PRON ADV ADJ ADV VERB ADP DET PROPN PUNCT</td>\n",
       "    </tr>\n",
       "    <tr>\n",
       "      <th>702</th>\n",
       "      <td>PART</td>\n",
       "      <td>ADP</td>\n",
       "      <td>te</td>\n",
       "      <td>Maar Sinn Fein , die deel uitmaakt van de regering , waarschuwt dat het Ira zich niet laat chanteren , en raadde de Ulster Unionisten aan een nieuwe leider aan te wijzen en voor een ' verstandiger en productievere aanpak ' te kiezen .</td>\n",
       "      <td>CCONJ PROPN PROPN PUNCT PRON NOUN VERB ADP DET NOUN PUNCT VERB SCONJ DET PROPN PRON ADV VERB VERB PUNCT CCONJ VERB DET PROPN PROPN ADP DET ADJ NOUN ADP ADP VERB CCONJ ADP DET PUNCT ADJ CCONJ ADJ NOUN PUNCT ADP VERB PUNCT</td>\n",
       "    </tr>\n",
       "    <tr>\n",
       "      <th>703</th>\n",
       "      <td>PART</td>\n",
       "      <td>ADP</td>\n",
       "      <td>te</td>\n",
       "      <td>Maar Sinn Fein , die deel uitmaakt van de regering , waarschuwt dat het Ira zich niet laat chanteren , en raadde de Ulster Unionisten aan een nieuwe leider aan te wijzen en voor een ' verstandiger en productievere aanpak ' te kiezen .</td>\n",
       "      <td>CCONJ PROPN PROPN PUNCT PRON NOUN VERB ADP DET NOUN PUNCT VERB SCONJ DET PROPN PRON ADV VERB VERB PUNCT CCONJ VERB DET PROPN PROPN ADP DET ADJ NOUN ADP ADP VERB CCONJ ADP DET PUNCT ADJ CCONJ ADJ NOUN PUNCT ADP VERB PUNCT</td>\n",
       "    </tr>\n",
       "    <tr>\n",
       "      <th>707</th>\n",
       "      <td>PART</td>\n",
       "      <td>ADP</td>\n",
       "      <td>te</td>\n",
       "      <td>Trimbles vertrek viel samen met het begin van het zogenoemde marsseizoen , waarbij protestantse groepen deels door katholieke wijken marcheren om vroegere overwinningen in onderlinge gevechten te herdenken .</td>\n",
       "      <td>PROPN NOUN VERB ADV ADP DET NOUN ADP DET ADJ NOUN PUNCT ADV ADJ NOUN ADJ ADP ADJ NOUN VERB ADP ADJ NOUN ADP ADJ NOUN ADP VERB PUNCT</td>\n",
       "    </tr>\n",
       "    <tr>\n",
       "      <th>722</th>\n",
       "      <td>PART</td>\n",
       "      <td>ADP</td>\n",
       "      <td>te</td>\n",
       "      <td>De IsraÃ«lische actie is onderdeel van het beleid om SyriÃ« te laten betalen voor de aanvallen van de Hezbollah-strijders .</td>\n",
       "      <td>DET ADJ NOUN AUX NOUN ADP DET NOUN ADP PROPN ADP VERB VERB ADP DET NOUN ADP DET NOUN PUNCT</td>\n",
       "    </tr>\n",
       "    <tr>\n",
       "      <th>732</th>\n",
       "      <td>PART</td>\n",
       "      <td>ADP</td>\n",
       "      <td>te</td>\n",
       "      <td>SyriÃ« is er niet bij gebaat dat wel te doen . ''</td>\n",
       "      <td>PROPN AUX PRON ADV ADP VERB PRON ADV ADP VERB PUNCT PUNCT</td>\n",
       "    </tr>\n",
       "    <tr>\n",
       "      <th>774</th>\n",
       "      <td>PART</td>\n",
       "      <td>ADP</td>\n",
       "      <td>te</td>\n",
       "      <td>Het Amersfoortse en Barneveldse initiatief is een logische en noodzakelijke stap om Nederland internationaal aan de top te houden .</td>\n",
       "      <td>DET ADJ CCONJ ADJ NOUN AUX DET ADJ CCONJ ADJ NOUN ADP PROPN ADJ ADP DET NOUN ADP VERB PUNCT</td>\n",
       "    </tr>\n",
       "    <tr>\n",
       "      <th>784</th>\n",
       "      <td>PART</td>\n",
       "      <td>ADP</td>\n",
       "      <td>te</td>\n",
       "      <td>Het Amersfoortse bestuurslid Johan Hoeksema vertelde dat Ad Roskam , de zwemcoÃ¶rdinator van de KNZB , hem na de jaarvergadering in april heeft gevraagd eens met DWK te gaan brainstormen .</td>\n",
       "      <td>DET ADJ NOUN PROPN PROPN VERB SCONJ PROPN PROPN PUNCT DET NOUN ADP DET PROPN PUNCT PRON ADP DET NOUN ADP PROPN AUX VERB ADV ADP PROPN ADP VERB VERB PUNCT</td>\n",
       "    </tr>\n",
       "    <tr>\n",
       "      <th>787</th>\n",
       "      <td>PART</td>\n",
       "      <td>ADP</td>\n",
       "      <td>te</td>\n",
       "      <td>Eigenlijk viel het idee voor de blauwdruk al te beluisteren bij de nabeschouwing van de Olympische Spelen .</td>\n",
       "      <td>ADJ VERB DET NOUN ADP DET NOUN ADV ADP VERB ADP DET NOUN ADP DET PROPN PROPN PUNCT</td>\n",
       "    </tr>\n",
       "    <tr>\n",
       "      <th>793</th>\n",
       "      <td>PART</td>\n",
       "      <td>ADP</td>\n",
       "      <td>te</td>\n",
       "      <td>De respectieve trainers Ad van de Ven en Mark Faber , die na vijf jaar met ingang van 1 september stopt in Barneveld en dus in de markt is voor een nieuwe baan , kregen het bij de NK in Eindhoven opnieuw niet voor elkaar de belangen van het individuele talent en de vereniging goed te scheiden .</td>\n",
       "      <td>DET ADJ NOUN PROPN PROPN PROPN PROPN CCONJ PROPN PROPN PUNCT PRON ADP NUM NOUN ADP NOUN ADP NUM PROPN VERB ADP PROPN CCONJ ADV ADP DET NOUN VERB ADP DET ADJ NOUN PUNCT VERB PRON ADP DET PROPN ADP PROPN ADV ADV ADP PRON DET NOUN ADP DET ADJ NOUN CCONJ DET NOUN ADJ ADP VERB PUNCT</td>\n",
       "    </tr>\n",
       "    <tr>\n",
       "      <th>825</th>\n",
       "      <td>PART</td>\n",
       "      <td>ADP</td>\n",
       "      <td>te</td>\n",
       "      <td>Jim Davenport , de 61-jarige Amerikaanse coach van de Italianen en opgevoed bij de San Francisco Giants , stuurde de linkshander Masin naar de heuvel met de opdracht Van 't Klooster uit te schakelen .</td>\n",
       "      <td>PROPN PROPN PUNCT DET ADJ ADJ NOUN ADP DET PROPN CCONJ VERB ADP DET PROPN PROPN PROPN PUNCT VERB DET NOUN PROPN ADP DET NOUN ADP DET NOUN PROPN PROPN PROPN ADP ADP VERB PUNCT</td>\n",
       "    </tr>\n",
       "    <tr>\n",
       "      <th>830</th>\n",
       "      <td>PART</td>\n",
       "      <td>ADP</td>\n",
       "      <td>te</td>\n",
       "      <td>Ginanneschi liet daarop de honken vol lopen door Isenia opzettelijk vier wijd te geven , waarna Palazzetti als vijfde werper het veld betrad .</td>\n",
       "      <td>PROPN VERB ADV DET NOUN ADJ VERB ADP PROPN ADJ NUM ADJ ADP VERB PUNCT ADV PROPN ADP ADJ NOUN DET NOUN VERB PUNCT</td>\n",
       "    </tr>\n",
       "    <tr>\n",
       "      <th>832</th>\n",
       "      <td>PART</td>\n",
       "      <td>ADP</td>\n",
       "      <td>te</td>\n",
       "      <td>De linkshander slaagde er evenmin in de Nederlandse aanval te beteugelen .</td>\n",
       "      <td>DET NOUN VERB PRON ADV ADP DET ADJ NOUN ADP VERB PUNCT</td>\n",
       "    </tr>\n",
       "    <tr>\n",
       "      <th>847</th>\n",
       "      <td>PART</td>\n",
       "      <td>ADP</td>\n",
       "      <td>te</td>\n",
       "      <td>Eenhoorn hield er rekening mee door vier internationaal onervaren werpers naar de heuvel te sturen .</td>\n",
       "      <td>PROPN VERB ADV NOUN ADP ADP NUM ADJ ADJ NOUN ADP DET NOUN ADP VERB PUNCT</td>\n",
       "    </tr>\n",
       "    <tr>\n",
       "      <th>857</th>\n",
       "      <td>PART</td>\n",
       "      <td>ADP</td>\n",
       "      <td>te</td>\n",
       "      <td>De toeschouwers wisten de negende plaats op de juiste waarde in te schatten .</td>\n",
       "      <td>DET NOUN VERB DET ADJ NOUN ADP DET ADJ NOUN ADP ADP VERB PUNCT</td>\n",
       "    </tr>\n",
       "    <tr>\n",
       "      <th>877</th>\n",
       "      <td>PART</td>\n",
       "      <td>ADP</td>\n",
       "      <td>te</td>\n",
       "      <td>Elk duel moest op televisie te zien zijn en bezocht worden door ten minste 4000 toeschouwers .</td>\n",
       "      <td>DET NOUN AUX ADP NOUN ADP VERB AUX CCONJ VERB AUX ADP ADP PRON NUM NOUN PUNCT</td>\n",
       "    </tr>\n",
       "    <tr>\n",
       "      <th>885</th>\n",
       "      <td>PART</td>\n",
       "      <td>ADP</td>\n",
       "      <td>te</td>\n",
       "      <td>Hoewel accommodaties in Groningen en Amsterdam dit jaar in de voorronde aardig vol zaten - Eindhoven viel tegen - is het in Nederland altijd moeilijk zoveel liefhebbers te mobiliseren .</td>\n",
       "      <td>SCONJ NOUN ADP PROPN CCONJ PROPN DET NOUN ADP DET NOUN ADJ ADJ VERB PUNCT PROPN VERB ADP PUNCT AUX PRON ADP PROPN ADV ADJ NUM NOUN ADP VERB PUNCT</td>\n",
       "    </tr>\n",
       "    <tr>\n",
       "      <th>888</th>\n",
       "      <td>PART</td>\n",
       "      <td>ADP</td>\n",
       "      <td>te</td>\n",
       "      <td>Acosta zei in Katowice echter dat de acht finalisten van 2001 , waaronder het verrassende Oranje , zich geen zorgen hoeven te maken voor volgend jaar .</td>\n",
       "      <td>PROPN VERB ADP PROPN ADV SCONJ DET NUM NOUN ADP NUM PUNCT ADV DET VERB PROPN PUNCT PRON DET NOUN VERB ADP VERB ADP VERB NOUN PUNCT</td>\n",
       "    </tr>\n",
       "    <tr>\n",
       "      <th>919</th>\n",
       "      <td>PART</td>\n",
       "      <td>ADP</td>\n",
       "      <td>te</td>\n",
       "      <td>Er moet heel wat gebeuren om onze ambities en onze potenties bij de komende Champions Trophy in november in Lahore waar te maken . ''</td>\n",
       "      <td>ADV AUX ADJ PRON VERB ADP PRON NOUN CCONJ PRON NOUN ADP DET VERB PROPN PROPN ADP PROPN ADP PROPN ADJ ADP VERB PUNCT PUNCT</td>\n",
       "    </tr>\n",
       "    <tr>\n",
       "      <th>920</th>\n",
       "      <td>PART</td>\n",
       "      <td>ADP</td>\n",
       "      <td>te</td>\n",
       "      <td>Bellaart weigerde zich te verschuilen achter allerlei excuses .</td>\n",
       "      <td>PROPN VERB PRON ADP VERB ADP DET NOUN PUNCT</td>\n",
       "    </tr>\n",
       "    <tr>\n",
       "      <th>958</th>\n",
       "      <td>AUX</td>\n",
       "      <td>ADP</td>\n",
       "      <td>te</td>\n",
       "      <td>Met Shinji Ono lijkt Feyenoord een goede slag te hebben geslagen .</td>\n",
       "      <td>ADP PROPN PROPN VERB PROPN DET ADJ NOUN ADP AUX VERB PUNCT</td>\n",
       "    </tr>\n",
       "    <tr>\n",
       "      <th>974</th>\n",
       "      <td>PART</td>\n",
       "      <td>ADP</td>\n",
       "      <td>te</td>\n",
       "      <td>Op 2 september 2003 van hetzelfde jaar werd dan ook bekend dat de gesprekken afgesprongen waren , omdat de CD&amp;V niet tegemoet kwam aan de eis van de N-VA om bij een regeringsvorming vijf resoluties over de aandachtspunten bij een staatshervorming te respecteren .</td>\n",
       "      <td>ADP NUM PROPN NUM ADP DET NOUN VERB ADV ADV ADJ SCONJ DET NOUN VERB AUX PUNCT SCONJ DET PROPN ADV ADV VERB ADP DET NOUN ADP DET PROPN ADP ADP DET NOUN NUM NOUN ADP DET NOUN ADP DET NOUN ADP VERB PUNCT</td>\n",
       "    </tr>\n",
       "    <tr>\n",
       "      <th>977</th>\n",
       "      <td>PART</td>\n",
       "      <td>ADP</td>\n",
       "      <td>te</td>\n",
       "      <td>Op 14 februari 2004 ging de CD&amp;V dan toch het engagement aan , en samen met de slechte peilingen voor de N-VA was dit voldoende om een kartel tot stand te brengen .</td>\n",
       "      <td>ADP NUM PROPN NUM VERB DET PROPN ADV ADV DET NOUN ADP PUNCT CCONJ ADV ADP DET ADJ NOUN ADP DET PROPN AUX PRON ADJ ADP DET NOUN ADP NOUN ADP VERB PUNCT</td>\n",
       "    </tr>\n",
       "    <tr>\n",
       "      <th>1001</th>\n",
       "      <td>PART</td>\n",
       "      <td>ADP</td>\n",
       "      <td>te</td>\n",
       "      <td>Dat deze partij die onafhankelijkheid enkel via politieke wegen nastreeft , heeft men benadrukt door in het programma te schrijven dat vrede een prioriteit is .</td>\n",
       "      <td>SCONJ DET NOUN DET NOUN ADV ADP ADJ NOUN VERB PUNCT AUX PRON VERB ADP ADP DET NOUN ADP VERB SCONJ NOUN DET NOUN AUX PUNCT</td>\n",
       "    </tr>\n",
       "    <tr>\n",
       "      <th>1008</th>\n",
       "      <td>PART</td>\n",
       "      <td>ADP</td>\n",
       "      <td>te</td>\n",
       "      <td>Op economisch vlak willen ze de belastingen , volgens de theorie van de Laffer-curve brengen naar een optimum , eventueel via een vervlakking van het belastingsstelsel en gaat men meer naar een ethisch gecorrigeerde aanbodeconomie , maar vooral de belasting op arbeid moet , volgens het N-VA-programma drastisch verlaagd te worden , omdat deze in BelgiÃ« een van de hoogste is van de niet-communistische landen .</td>\n",
       "      <td>ADP ADJ NOUN VERB PRON DET NOUN PUNCT ADP DET NOUN ADP DET PROPN VERB ADP DET NOUN PUNCT ADJ ADP DET NOUN ADP DET NOUN CCONJ VERB PRON ADV ADP DET ADJ VERB NOUN PUNCT CCONJ ADV DET NOUN ADP NOUN AUX PUNCT ADP DET NOUN ADJ VERB ADP AUX PUNCT SCONJ PRON ADP PROPN NUM ADP DET ADJ AUX ADP DET ADJ NOUN PUNCT</td>\n",
       "    </tr>\n",
       "    <tr>\n",
       "      <th>1011</th>\n",
       "      <td>PART</td>\n",
       "      <td>ADP</td>\n",
       "      <td>te</td>\n",
       "      <td>Onder andere door deze hoge belasting dreigen bedrijven als Ford-Genk en BASF-Antwerpen uit te wijken naar het buitenland .</td>\n",
       "      <td>ADP ADJ ADP DET ADJ NOUN VERB NOUN ADP PROPN CCONJ PROPN ADP ADP VERB ADP DET NOUN PUNCT</td>\n",
       "    </tr>\n",
       "    <tr>\n",
       "      <th>1027</th>\n",
       "      <td>PART</td>\n",
       "      <td>ADP</td>\n",
       "      <td>te</td>\n",
       "      <td>Onder leiding van Geert Bourgeois ging de partij in 2003 voor de eerste maal naar de verkiezingen , maar ze slaagden er enkel in West-Vlaanderen in om de gloednieuwe kiesdrempel van 5% te halen .</td>\n",
       "      <td>ADP NOUN ADP PROPN PROPN VERB DET NOUN ADP NUM ADP DET ADJ NOUN ADP DET NOUN PUNCT CCONJ PRON VERB PRON ADV ADP PROPN ADP ADP DET ADJ NOUN ADP SYM ADP VERB PUNCT</td>\n",
       "    </tr>\n",
       "    <tr>\n",
       "      <th>1032</th>\n",
       "      <td>PART</td>\n",
       "      <td>ADP</td>\n",
       "      <td>te</td>\n",
       "      <td>Deze moesten ze halen om niet uit het Vlaamse parlement te verdwijnen .</td>\n",
       "      <td>PRON AUX PRON VERB ADP ADV ADP DET ADJ NOUN ADP VERB PUNCT</td>\n",
       "    </tr>\n",
       "    <tr>\n",
       "      <th>1056</th>\n",
       "      <td>PART</td>\n",
       "      <td>ADP</td>\n",
       "      <td>te</td>\n",
       "      <td>Ze ontstond door de oude provincie Brabant te splitsen langs de taalgrens in een Vlaams deel ( Vlaams-Brabant ) , een Waals deel ( Waals-Brabant ) en het aan de indeling in provincies onttrokken Brussels Hoofdstedelijk Gewest .</td>\n",
       "      <td>PRON VERB ADP DET ADJ NOUN PROPN ADP VERB ADP DET NOUN ADP DET ADJ NOUN PUNCT PROPN PUNCT PUNCT DET ADJ NOUN PUNCT PROPN PUNCT CCONJ DET ADP DET NOUN ADP NOUN VERB PROPN PROPN PROPN PUNCT</td>\n",
       "    </tr>\n",
       "    <tr>\n",
       "      <th>1133</th>\n",
       "      <td>PART</td>\n",
       "      <td>ADP</td>\n",
       "      <td>te</td>\n",
       "      <td>De nieuwe start verliep niet bepaald vlekkeloos , de race diende bij een eerste poging uitgesteld te worden tot het najaar , omdat de F1 wagens het nieuwe , maar duidelijk niet op zijn taak berekende asfalt aan flarden reden .</td>\n",
       "      <td>DET ADJ NOUN VERB ADV VERB ADJ PUNCT DET NOUN VERB ADP DET ADJ NOUN VERB ADP AUX ADP DET NOUN PUNCT SCONJ DET NOUN NOUN DET ADJ PUNCT CCONJ ADJ ADV ADP PRON NOUN VERB NOUN ADP NOUN VERB PUNCT</td>\n",
       "    </tr>\n",
       "    <tr>\n",
       "      <th>1211</th>\n",
       "      <td>PART</td>\n",
       "      <td>ADP</td>\n",
       "      <td>te</td>\n",
       "      <td>Ze creÃ«ren een rookgordijn om ons te misleiden . \"</td>\n",
       "      <td>PRON VERB DET NOUN ADP PRON ADP VERB PUNCT PUNCT</td>\n",
       "    </tr>\n",
       "    <tr>\n",
       "      <th>1218</th>\n",
       "      <td>PART</td>\n",
       "      <td>ADP</td>\n",
       "      <td>te</td>\n",
       "      <td>Het heeft geen zin om dat te ontkennen .</td>\n",
       "      <td>PRON VERB DET NOUN ADP PRON ADP VERB PUNCT</td>\n",
       "    </tr>\n",
       "    <tr>\n",
       "      <th>1220</th>\n",
       "      <td>PART</td>\n",
       "      <td>ADP</td>\n",
       "      <td>te</td>\n",
       "      <td>Hoewel ik me realiseer dat dit voor Joodse lezers moeilijk te begrijpen valt , dachten de meeste collaborateurs dat zij een onafhankelijk Vlaanderen konden realiseren door met de Duitsers samen te werken .</td>\n",
       "      <td>SCONJ PRON PRON VERB SCONJ PRON ADP ADJ NOUN ADJ ADP VERB VERB PUNCT VERB DET ADV NOUN SCONJ PRON DET ADJ PROPN AUX VERB ADP ADP DET PROPN ADV ADP VERB PUNCT</td>\n",
       "    </tr>\n",
       "    <tr>\n",
       "      <th>1223</th>\n",
       "      <td>PART</td>\n",
       "      <td>ADP</td>\n",
       "      <td>te</td>\n",
       "      <td>Hoewel ik me realiseer dat dit voor Joodse lezers moeilijk te begrijpen valt , dachten de meeste collaborateurs dat zij een onafhankelijk Vlaanderen konden realiseren door met de Duitsers samen te werken .</td>\n",
       "      <td>SCONJ PRON PRON VERB SCONJ PRON ADP ADJ NOUN ADJ ADP VERB VERB PUNCT VERB DET ADV NOUN SCONJ PRON DET ADJ PROPN AUX VERB ADP ADP DET PROPN ADV ADP VERB PUNCT</td>\n",
       "    </tr>\n",
       "    <tr>\n",
       "      <th>1237</th>\n",
       "      <td>PART</td>\n",
       "      <td>ADP</td>\n",
       "      <td>te</td>\n",
       "      <td>Op de veiligheidsmeeting van de partij in april 2006 verklaarde hij : \" Wij hebben er genoeg van om als autochtoon opgejaagd wild te fungeren .</td>\n",
       "      <td>ADP DET NOUN ADP DET NOUN ADP PROPN NUM VERB PRON PUNCT PUNCT PRON VERB PRON ADV ADP ADP ADP ADJ VERB ADJ ADP VERB PUNCT</td>\n",
       "    </tr>\n",
       "    <tr>\n",
       "      <th>1239</th>\n",
       "      <td>PART</td>\n",
       "      <td>ADP</td>\n",
       "      <td>te</td>\n",
       "      <td>In plaats van als angsthazen door het leven te gaan , kunnen wij maar beter boswachter worden . \"</td>\n",
       "      <td>ADP NOUN ADP ADP NOUN ADP DET NOUN ADP VERB PUNCT AUX PRON ADV ADJ NOUN VERB PUNCT PUNCT</td>\n",
       "    </tr>\n",
       "    <tr>\n",
       "      <th>1259</th>\n",
       "      <td>PART</td>\n",
       "      <td>ADP</td>\n",
       "      <td>te</td>\n",
       "      <td>In september 1982 verhuisde hij naar Antwerpen om er politieke en sociale wetenschappen ( = Â« Pol&amp;Soc Â» ) te kunnen gaan studeren aan de Universitaire Faculteiten Sint-Ignatius Antwerpen en werd er lid van de NSV .</td>\n",
       "      <td>ADP PROPN NUM VERB PRON ADP PROPN ADP ADV ADJ CCONJ ADJ NOUN PUNCT SYM PUNCT NOUN PUNCT PUNCT ADP AUX VERB VERB ADP DET ADJ NOUN PROPN PROPN CCONJ VERB ADV NOUN ADP DET PROPN PUNCT</td>\n",
       "    </tr>\n",
       "    <tr>\n",
       "      <th>1269</th>\n",
       "      <td>PART</td>\n",
       "      <td>ADP</td>\n",
       "      <td>te</td>\n",
       "      <td>Na enkele jaren als journalist gewerkt te hebben , werd hij in 1992 fractievoorzitter , wat hij nu nog altijd is bij het Vlaams Belang .</td>\n",
       "      <td>ADP DET NOUN ADP NOUN VERB ADP VERB PUNCT VERB PRON ADP NUM NOUN PUNCT PRON PRON ADV ADV ADV AUX ADP DET PROPN PROPN PUNCT</td>\n",
       "    </tr>\n",
       "    <tr>\n",
       "      <th>1304</th>\n",
       "      <td>PART</td>\n",
       "      <td>ADP</td>\n",
       "      <td>te</td>\n",
       "      <td>HergÃ© wou de Joods klinkende naam van de schurk ( met een behoorlijk ' Joodse neus ' ) vervangen , maar de vervanging - wat gewoon Brussels is voor een soort snoepwinkel - bleek ook Joods te zijn .</td>\n",
       "      <td>PROPN VERB DET ADJ VERB NOUN ADP DET NOUN PUNCT ADP DET ADJ PUNCT ADJ NOUN PUNCT PUNCT VERB PUNCT CCONJ DET NOUN PUNCT PRON ADJ PROPN AUX ADP DET NOUN NOUN PUNCT VERB ADV ADJ ADP AUX PUNCT</td>\n",
       "    </tr>\n",
       "    <tr>\n",
       "      <th>1330</th>\n",
       "      <td>PART</td>\n",
       "      <td>ADP</td>\n",
       "      <td>te</td>\n",
       "      <td>Om zijn wat zwakkere tekenkwaliteiten te maskeren , ontwikkelde HergÃ© een techniek die een eigen leven is gaan leiden : de Klare lijn .</td>\n",
       "      <td>ADP PRON PRON ADJ NOUN ADP VERB PUNCT VERB PROPN DET NOUN PRON DET ADJ NOUN AUX VERB VERB PUNCT DET ADJ NOUN PUNCT</td>\n",
       "    </tr>\n",
       "    <tr>\n",
       "      <th>1335</th>\n",
       "      <td>PART</td>\n",
       "      <td>ADP</td>\n",
       "      <td>te</td>\n",
       "      <td>HergÃ© besteedde veel zorg aan zijn tekeningen en dat valt eraan af te zien : heldere afbeeldingen waarin de actie in Ã©Ã©n oogopslag duidelijk is .</td>\n",
       "      <td>PROPN VERB DET NOUN ADP PRON NOUN CCONJ PRON VERB ADV ADP ADP VERB PUNCT ADJ NOUN ADV DET NOUN ADP NUM NOUN ADJ AUX PUNCT</td>\n",
       "    </tr>\n",
       "    <tr>\n",
       "      <th>1337</th>\n",
       "      <td>PART</td>\n",
       "      <td>ADP</td>\n",
       "      <td>te</td>\n",
       "      <td>HergÃ© raakte in een politiek conflict betrokken toen hij het ware verhaal van de aanval van Japan op China in het Kuifje-album Â« De Blauwe Lotus Â» probeerde te vertellen .</td>\n",
       "      <td>PROPN VERB ADP DET ADJ NOUN VERB SCONJ PRON DET ADJ NOUN ADP DET NOUN ADP PROPN ADP PROPN ADP DET NOUN PUNCT PROPN PROPN PROPN PUNCT VERB ADP VERB PUNCT</td>\n",
       "    </tr>\n",
       "    <tr>\n",
       "      <th>1346</th>\n",
       "      <td>PART</td>\n",
       "      <td>ADP</td>\n",
       "      <td>te</td>\n",
       "      <td>Hij bleek algauw een tuchtloos leerling te zijn , maar hij toonde wel al een grote voorliefde voor tekenen .</td>\n",
       "      <td>PRON VERB ADV DET ADJ NOUN ADP AUX PUNCT CCONJ PRON VERB ADV ADV DET ADJ NOUN ADP VERB PUNCT</td>\n",
       "    </tr>\n",
       "    <tr>\n",
       "      <th>1377</th>\n",
       "      <td>PART</td>\n",
       "      <td>ADP</td>\n",
       "      <td>te</td>\n",
       "      <td>Om te ontsnappen aan zijn bazige moeder trekt hij zich terug op de zolder en richtte er zijn eerste atelier in .</td>\n",
       "      <td>ADP ADP VERB ADP PRON ADJ NOUN VERB PRON PRON ADV ADP DET NOUN CCONJ VERB ADV PRON ADJ NOUN ADP PUNCT</td>\n",
       "    </tr>\n",
       "    <tr>\n",
       "      <th>1401</th>\n",
       "      <td>PART</td>\n",
       "      <td>ADP</td>\n",
       "      <td>te</td>\n",
       "      <td>Ensor besluit afstand te nemen van de objectieve realiteit en voortaan zijn eigen gang te gaan .</td>\n",
       "      <td>PROPN VERB NOUN ADP VERB ADP DET ADJ NOUN CCONJ ADV PRON ADJ NOUN ADP VERB PUNCT</td>\n",
       "    </tr>\n",
       "    <tr>\n",
       "      <th>1402</th>\n",
       "      <td>PART</td>\n",
       "      <td>ADP</td>\n",
       "      <td>te</td>\n",
       "      <td>Ensor besluit afstand te nemen van de objectieve realiteit en voortaan zijn eigen gang te gaan .</td>\n",
       "      <td>PROPN VERB NOUN ADP VERB ADP DET ADJ NOUN CCONJ ADV PRON ADJ NOUN ADP VERB PUNCT</td>\n",
       "    </tr>\n",
       "    <tr>\n",
       "      <th>1409</th>\n",
       "      <td>PART</td>\n",
       "      <td>ADP</td>\n",
       "      <td>te</td>\n",
       "      <td>Trouwens in 1887 gaat Ensor , samen met Guillaume Vogels , naar Londen om het werk van Turner beter te leren kennen .</td>\n",
       "      <td>ADV ADP NUM VERB PROPN PUNCT ADV ADP PROPN PROPN PUNCT ADP PROPN ADP DET NOUN ADP PROPN ADJ ADP VERB VERB PUNCT</td>\n",
       "    </tr>\n",
       "    <tr>\n",
       "      <th>1447</th>\n",
       "      <td>PART</td>\n",
       "      <td>ADP</td>\n",
       "      <td>te</td>\n",
       "      <td>Het werk was een jaar later echter niet af om op het Salon des XX geÃ«xposeerd te worden .</td>\n",
       "      <td>DET NOUN AUX DET NOUN ADJ ADV ADV ADP ADP ADP DET PROPN PROPN PROPN VERB ADP AUX PUNCT</td>\n",
       "    </tr>\n",
       "    <tr>\n",
       "      <th>1450</th>\n",
       "      <td>PART</td>\n",
       "      <td>ADP</td>\n",
       "      <td>te</td>\n",
       "      <td>Ensor vraagt aan een huisschilder verf te bereiden in potten van 5 en 10 kg.</td>\n",
       "      <td>PROPN VERB ADP DET NOUN NOUN ADP VERB ADP NOUN ADP NUM CCONJ NUM SYM</td>\n",
       "    </tr>\n",
       "    <tr>\n",
       "      <th>1539</th>\n",
       "      <td>PART</td>\n",
       "      <td>ADP</td>\n",
       "      <td>te</td>\n",
       "      <td>Er ontstond een conflictsituatie tussen hem en de maatschappij , zodat hij sterk geladen beelden gebruikt , zoals maskers , skeletten , de dood , carnaval en travestieten om die maatschappij voor schut te doen staan .</td>\n",
       "      <td>ADV VERB DET NOUN ADP PRON CCONJ DET NOUN PUNCT SCONJ PRON ADJ VERB NOUN VERB PUNCT SCONJ NOUN PUNCT NOUN PUNCT DET NOUN PUNCT NOUN CCONJ NOUN ADP DET NOUN ADP NOUN ADP VERB VERB PUNCT</td>\n",
       "    </tr>\n",
       "    <tr>\n",
       "      <th>1591</th>\n",
       "      <td>PART</td>\n",
       "      <td>ADP</td>\n",
       "      <td>te</td>\n",
       "      <td>Ensors vader , ingenieur van Bruggen en Wegen , vertrok kort na de geboorte van de kleine James naar de Verenigde Staten om er fortuin te maken .</td>\n",
       "      <td>PROPN NOUN PUNCT NOUN ADP NOUN CCONJ NOUN PUNCT VERB ADJ ADP DET NOUN ADP DET ADJ PROPN ADP DET PROPN PROPN ADP ADV NOUN ADP VERB PUNCT</td>\n",
       "    </tr>\n",
       "    <tr>\n",
       "      <th>1597</th>\n",
       "      <td>PART</td>\n",
       "      <td>ADP</td>\n",
       "      <td>te</td>\n",
       "      <td>Hij kon echter de mislukking niet verwerken en , onder de knoet van een nuchter autoritaire Oostendse handelsvrouw , van wie hij trouwens financieel afhankelijk was , begon hij te drinken en werd de schande van het gezin .</td>\n",
       "      <td>PRON AUX ADV DET NOUN ADV VERB CCONJ PUNCT ADP DET NOUN ADP DET ADJ ADJ ADJ NOUN PUNCT ADP PRON PRON ADV ADJ ADJ AUX PUNCT VERB PRON ADP VERB CCONJ VERB DET NOUN ADP DET NOUN PUNCT</td>\n",
       "    </tr>\n",
       "    <tr>\n",
       "      <th>1622</th>\n",
       "      <td>PART</td>\n",
       "      <td>ADP</td>\n",
       "      <td>te</td>\n",
       "      <td>Het boek zou pas later verschijnen uit papiergebrek , maar Vandersteen werd wel betaald en de opdracht gegeven nog twee titels bij elkaar te tekenen , wat hij ook prompt deed .</td>\n",
       "      <td>DET NOUN AUX ADV ADJ VERB ADP NOUN PUNCT CCONJ PROPN AUX ADV VERB CCONJ DET NOUN VERB ADV NUM NOUN ADP PRON ADP VERB PUNCT PRON PRON ADV ADJ VERB PUNCT</td>\n",
       "    </tr>\n",
       "    <tr>\n",
       "      <th>1642</th>\n",
       "      <td>PART</td>\n",
       "      <td>ADP</td>\n",
       "      <td>te</td>\n",
       "      <td>Het duurde een jaar vooraleer de uitgever de tijd rijp achtte om het verhaal uit te geven .</td>\n",
       "      <td>PRON VERB DET NOUN SCONJ DET NOUN DET NOUN ADJ VERB ADP DET NOUN ADP ADP VERB PUNCT</td>\n",
       "    </tr>\n",
       "    <tr>\n",
       "      <th>1644</th>\n",
       "      <td>PART</td>\n",
       "      <td>ADP</td>\n",
       "      <td>te</td>\n",
       "      <td>Op 30 maart 1945 was de strip voor het eerst in een krant te lezen , al had de uitgever de reeks wel omgedoopt in Â« Rikki en Wiske Â» .</td>\n",
       "      <td>ADP NUM PROPN NUM AUX DET NOUN ADP DET ADJ ADP DET NOUN ADP VERB PUNCT ADV AUX DET NOUN DET NOUN ADV VERB ADP PUNCT PROPN CCONJ PROPN PUNCT PUNCT</td>\n",
       "    </tr>\n",
       "    <tr>\n",
       "      <th>1653</th>\n",
       "      <td>PART</td>\n",
       "      <td>ADP</td>\n",
       "      <td>te</td>\n",
       "      <td>\" Het succes was ( ... ) aan drie factoren toe te schrijven .</td>\n",
       "      <td>PUNCT DET NOUN AUX PUNCT PUNCT PUNCT ADP NUM NOUN ADP ADP VERB PUNCT</td>\n",
       "    </tr>\n",
       "    <tr>\n",
       "      <th>1686</th>\n",
       "      <td>PART</td>\n",
       "      <td>ADP</td>\n",
       "      <td>te</td>\n",
       "      <td>In de loop der jaren werd het in Vlaanderen een traditie de krant van achter naar voren te lezen .</td>\n",
       "      <td>ADP DET NOUN DET NOUN VERB PRON ADP PROPN DET NOUN DET NOUN ADP ADP ADP ADV ADP VERB PUNCT</td>\n",
       "    </tr>\n",
       "    <tr>\n",
       "      <th>1693</th>\n",
       "      <td>PART</td>\n",
       "      <td>ADP</td>\n",
       "      <td>te</td>\n",
       "      <td>Ook andere kranten moesten nu hun eigen strips hebben om de concurrentie met \" De Standaard \" aan te kunnen .</td>\n",
       "      <td>ADV ADJ NOUN AUX ADV PRON ADJ NOUN VERB ADP DET NOUN ADP PUNCT PROPN PROPN PUNCT ADP ADP VERB PUNCT</td>\n",
       "    </tr>\n",
       "    <tr>\n",
       "      <th>1707</th>\n",
       "      <td>PART</td>\n",
       "      <td>ADP</td>\n",
       "      <td>te</td>\n",
       "      <td>Ook begonnen veel albums allitererende titels te krijgen en moraliserende eindes .</td>\n",
       "      <td>ADV VERB DET NOUN VERB NOUN ADP VERB CCONJ VERB NOUN PUNCT</td>\n",
       "    </tr>\n",
       "    <tr>\n",
       "      <th>1715</th>\n",
       "      <td>PART</td>\n",
       "      <td>ADP</td>\n",
       "      <td>te</td>\n",
       "      <td>Veel Vandersteen-fans zijn daarom meer liefhebber van zijn strips uit de jaren '40 en '50 , al bleven de albums aangenaam om te lezen .</td>\n",
       "      <td>DET NOUN AUX ADV ADV NOUN ADP PRON NOUN ADP DET NOUN NUM CCONJ NUM PUNCT ADV VERB DET NOUN ADJ ADP ADP VERB PUNCT</td>\n",
       "    </tr>\n",
       "    <tr>\n",
       "      <th>1759</th>\n",
       "      <td>PART</td>\n",
       "      <td>ADP</td>\n",
       "      <td>te</td>\n",
       "      <td>Vandersteen tekende al deze stripreeksen alleen en begon daarom in te zien dat hij wat hulp kon gebruiken .</td>\n",
       "      <td>PROPN VERB ADV DET NOUN ADV CCONJ VERB ADV ADP ADP VERB SCONJ PRON DET NOUN AUX VERB PUNCT</td>\n",
       "    </tr>\n",
       "    <tr>\n",
       "      <th>1775</th>\n",
       "      <td>PART</td>\n",
       "      <td>ADP</td>\n",
       "      <td>te</td>\n",
       "      <td>Vandersteen liep ook al een paar jaar rond met het idee een ridderstrip te maken .</td>\n",
       "      <td>PROPN VERB ADV DET DET NOUN NOUN ADP ADP DET NOUN DET NOUN ADP VERB PUNCT</td>\n",
       "    </tr>\n",
       "    <tr>\n",
       "      <th>1778</th>\n",
       "      <td>PART</td>\n",
       "      <td>ADP</td>\n",
       "      <td>te</td>\n",
       "      <td>Van jeugdschrijver Leopold Vermeiren kreeg hij de toestemming diens romanfiguur Â« De Rode Ridder Â» te gebruiken .</td>\n",
       "      <td>ADP NOUN PROPN PROPN VERB PRON DET NOUN DET NOUN PUNCT DET ADJ NOUN PUNCT ADP VERB PUNCT</td>\n",
       "    </tr>\n",
       "    <tr>\n",
       "      <th>1806</th>\n",
       "      <td>PART</td>\n",
       "      <td>ADP</td>\n",
       "      <td>te</td>\n",
       "      <td>Van de oude succesreeksen weten echter enkel De Rode Ridder en Suske en Wiske zich nog staande te houden .</td>\n",
       "      <td>ADP DET ADJ NOUN VERB ADV ADV DET ADJ NOUN CCONJ PROPN PROPN PROPN PRON ADV VERB ADP VERB PUNCT</td>\n",
       "    </tr>\n",
       "    <tr>\n",
       "      <th>1846</th>\n",
       "      <td>PART</td>\n",
       "      <td>ADP</td>\n",
       "      <td>te</td>\n",
       "      <td>Zeker in \" Suske en Wiske \" speelde Vandersteen ook graag met taal door leenwoorden uit andere talen te verwerken in de namen en/of het woordgebruik van sommige personages .</td>\n",
       "      <td>ADJ ADP PUNCT PROPN PROPN PROPN PUNCT VERB PROPN ADV ADV ADP NOUN ADP NOUN ADP ADJ NOUN ADP VERB ADP DET NOUN CCONJ DET NOUN ADP DET NOUN PUNCT</td>\n",
       "    </tr>\n",
       "    <tr>\n",
       "      <th>1857</th>\n",
       "      <td>PART</td>\n",
       "      <td>ADP</td>\n",
       "      <td>te</td>\n",
       "      <td>Er ontstond een stroom van merchandising en pogingen de reeks in andere landen te doen aanslaan .</td>\n",
       "      <td>ADV VERB DET NOUN ADP NOUN CCONJ NOUN DET NOUN ADP ADJ NOUN ADP VERB VERB PUNCT</td>\n",
       "    </tr>\n",
       "    <tr>\n",
       "      <th>1936</th>\n",
       "      <td>PART</td>\n",
       "      <td>ADP</td>\n",
       "      <td>te</td>\n",
       "      <td>Toen hij eens over de kruistochten geleerd had trokken hij en enkele kinderen uit de buurt verkleed als ridders naar de kerk om er zich te laten zegenen .</td>\n",
       "      <td>SCONJ PRON ADV ADP DET NOUN VERB AUX VERB PRON CCONJ DET NOUN ADP DET NOUN VERB ADP NOUN ADP DET NOUN ADP ADV PRON ADP VERB VERB PUNCT</td>\n",
       "    </tr>\n",
       "    <tr>\n",
       "      <th>1954</th>\n",
       "      <td>PART</td>\n",
       "      <td>ADP</td>\n",
       "      <td>te</td>\n",
       "      <td>Hij was zeker getalenteerd genoeg om in zijn vaders voetsporen te treden , maar toen in de jaren '30 de meer moderne en sobere architectuur van de Jugendstil haar intrede deed was de ornamentkunst plots uit de mode .</td>\n",
       "      <td>PRON AUX ADJ ADJ ADV ADP ADP PRON NOUN NOUN ADP VERB PUNCT CCONJ SCONJ ADP DET NOUN NUM DET ADV ADJ CCONJ ADJ NOUN ADP DET PROPN PRON NOUN VERB AUX DET NOUN ADJ ADP DET NOUN PUNCT</td>\n",
       "    </tr>\n",
       "    <tr>\n",
       "      <th>1957</th>\n",
       "      <td>PART</td>\n",
       "      <td>ADP</td>\n",
       "      <td>te</td>\n",
       "      <td>Vandersteen besloot daarop timmerman te worden tot hij besloot dat decorateur meer iets voor hem was .</td>\n",
       "      <td>PROPN VERB ADV NOUN ADP VERB ADP PRON VERB SCONJ NOUN ADV PRON ADP PRON AUX PUNCT</td>\n",
       "    </tr>\n",
       "    <tr>\n",
       "      <th>1960</th>\n",
       "      <td>PART</td>\n",
       "      <td>ADP</td>\n",
       "      <td>te</td>\n",
       "      <td>Als etalageontwerper bij het Antwerpse warenhuis Innovation kreeg de jongeman op een dag de opdracht een model uit een Amerikaans modetijdschrift op een paneel over te tekenen .</td>\n",
       "      <td>ADP NOUN ADP DET ADJ NOUN PROPN VERB DET NOUN ADP DET NOUN DET NOUN DET NOUN ADP DET ADJ NOUN ADP DET NOUN ADP ADP VERB PUNCT</td>\n",
       "    </tr>\n",
       "    <tr>\n",
       "      <th>1963</th>\n",
       "      <td>PART</td>\n",
       "      <td>ADP</td>\n",
       "      <td>te</td>\n",
       "      <td>Het stuk boeide hem zo enorm dat hij besloot striptekenaar te worden .</td>\n",
       "      <td>DET NOUN VERB PRON ADV ADJ SCONJ PRON VERB NOUN ADP VERB PUNCT</td>\n",
       "    </tr>\n",
       "    <tr>\n",
       "      <th>1974</th>\n",
       "      <td>PART</td>\n",
       "      <td>ADP</td>\n",
       "      <td>te</td>\n",
       "      <td>Via zijn zwager vond hij een baan als grafiek-omzetter in een landbouw- en voedingsbedrijf , maar omdat dit zo'n saaie job was begon hij uit verveling in de marges van de bladen te tekenen .</td>\n",
       "      <td>ADP PRON NOUN VERB PRON DET NOUN ADP NOUN ADP DET X CCONJ NOUN PUNCT CCONJ SCONJ PRON DET ADJ NOUN AUX VERB PRON ADP NOUN ADP DET NOUN ADP DET NOUN ADP VERB PUNCT</td>\n",
       "    </tr>\n",
       "  </tbody>\n",
       "</table>\n",
       "</div>"
      ],
      "text/plain": [
       "     predicted actual token  \\\n",
       "3     PART      ADP    te     \n",
       "7     PART      ADP    te     \n",
       "9     PART      ADP    te     \n",
       "11    PART      ADP    te     \n",
       "18    PART      ADP    te     \n",
       "43    PART      ADP    te     \n",
       "45    PART      ADP    te     \n",
       "96    PART      ADP    te     \n",
       "98    PART      ADP    te     \n",
       "100   PART      ADP    te     \n",
       "125   PART      ADP    te     \n",
       "128   PART      ADP    te     \n",
       "139   PART      ADP    te     \n",
       "159   PART      ADP    te     \n",
       "162   PART      ADP    te     \n",
       "171   PART      ADP    te     \n",
       "194   PART      ADP    te     \n",
       "208   PART      ADP    te     \n",
       "213   PART      ADP    te     \n",
       "219   PART      ADP    te     \n",
       "226   PART      ADP    te     \n",
       "238   PART      ADP    te     \n",
       "241   PART      ADP    te     \n",
       "243   PART      ADP    te     \n",
       "255   PART      ADP    te     \n",
       "259   PART      ADP    te     \n",
       "262   PART      ADP    te     \n",
       "267   PART      ADP    te     \n",
       "270   PART      ADP    te     \n",
       "274   PART      ADP    te     \n",
       "283   PART      ADP    te     \n",
       "285   PART      ADP    te     \n",
       "288   PART      ADP    te     \n",
       "297   PART      ADP    te     \n",
       "308   PART      ADP    te     \n",
       "311   PART      ADP    te     \n",
       "316   PART      ADP    te     \n",
       "332   PART      ADP    te     \n",
       "340   PART      ADP    te     \n",
       "342   PART      ADP    te     \n",
       "347   PART      ADP    te     \n",
       "380   PART      ADP    te     \n",
       "394   PART      ADP    te     \n",
       "412   PART      ADP    te     \n",
       "419   PART      ADP    te     \n",
       "421   PART      ADP    te     \n",
       "426   PART      ADP    te     \n",
       "445   PART      ADP    te     \n",
       "458   PART      ADP    te     \n",
       "466   PART      ADP    te     \n",
       "471   PART      ADP    te     \n",
       "480   PART      ADP    te     \n",
       "484   PART      ADP    te     \n",
       "508   PART      ADP    te     \n",
       "510   PART      ADP    te     \n",
       "517   PART      ADP    te     \n",
       "518   PART      ADP    te     \n",
       "598   PART      ADP    te     \n",
       "605   PART      ADP    te     \n",
       "612   PART      ADP    te     \n",
       "621   PART      ADP    te     \n",
       "637   PART      ADP    te     \n",
       "647   PART      ADP    te     \n",
       "669   PART      ADP    te     \n",
       "672   PART      ADP    te     \n",
       "675   PART      ADP    te     \n",
       "688   PART      ADP    te     \n",
       "691   PART      ADP    te     \n",
       "692   PART      ADP    te     \n",
       "693   PART      ADP    te     \n",
       "696   PART      ADP    te     \n",
       "697   PART      ADP    te     \n",
       "702   PART      ADP    te     \n",
       "703   PART      ADP    te     \n",
       "707   PART      ADP    te     \n",
       "722   PART      ADP    te     \n",
       "732   PART      ADP    te     \n",
       "774   PART      ADP    te     \n",
       "784   PART      ADP    te     \n",
       "787   PART      ADP    te     \n",
       "793   PART      ADP    te     \n",
       "825   PART      ADP    te     \n",
       "830   PART      ADP    te     \n",
       "832   PART      ADP    te     \n",
       "847   PART      ADP    te     \n",
       "857   PART      ADP    te     \n",
       "877   PART      ADP    te     \n",
       "885   PART      ADP    te     \n",
       "888   PART      ADP    te     \n",
       "919   PART      ADP    te     \n",
       "920   PART      ADP    te     \n",
       "958   AUX       ADP    te     \n",
       "974   PART      ADP    te     \n",
       "977   PART      ADP    te     \n",
       "1001  PART      ADP    te     \n",
       "1008  PART      ADP    te     \n",
       "1011  PART      ADP    te     \n",
       "1027  PART      ADP    te     \n",
       "1032  PART      ADP    te     \n",
       "1056  PART      ADP    te     \n",
       "1133  PART      ADP    te     \n",
       "1211  PART      ADP    te     \n",
       "1218  PART      ADP    te     \n",
       "1220  PART      ADP    te     \n",
       "1223  PART      ADP    te     \n",
       "1237  PART      ADP    te     \n",
       "1239  PART      ADP    te     \n",
       "1259  PART      ADP    te     \n",
       "1269  PART      ADP    te     \n",
       "1304  PART      ADP    te     \n",
       "1330  PART      ADP    te     \n",
       "1335  PART      ADP    te     \n",
       "1337  PART      ADP    te     \n",
       "1346  PART      ADP    te     \n",
       "1377  PART      ADP    te     \n",
       "1401  PART      ADP    te     \n",
       "1402  PART      ADP    te     \n",
       "1409  PART      ADP    te     \n",
       "1447  PART      ADP    te     \n",
       "1450  PART      ADP    te     \n",
       "1539  PART      ADP    te     \n",
       "1591  PART      ADP    te     \n",
       "1597  PART      ADP    te     \n",
       "1622  PART      ADP    te     \n",
       "1642  PART      ADP    te     \n",
       "1644  PART      ADP    te     \n",
       "1653  PART      ADP    te     \n",
       "1686  PART      ADP    te     \n",
       "1693  PART      ADP    te     \n",
       "1707  PART      ADP    te     \n",
       "1715  PART      ADP    te     \n",
       "1759  PART      ADP    te     \n",
       "1775  PART      ADP    te     \n",
       "1778  PART      ADP    te     \n",
       "1806  PART      ADP    te     \n",
       "1846  PART      ADP    te     \n",
       "1857  PART      ADP    te     \n",
       "1936  PART      ADP    te     \n",
       "1954  PART      ADP    te     \n",
       "1957  PART      ADP    te     \n",
       "1960  PART      ADP    te     \n",
       "1963  PART      ADP    te     \n",
       "1974  PART      ADP    te     \n",
       "\n",
       "                                                                                                                                                                                                                                                                                                                                                                                                                          sentence  \\\n",
       "3     Moeder Mien spoorde haar aan toch op te stappen .                                                                                                                                                                                                                                                                                                                                                                              \n",
       "7     Tot halverwege de koers had Van Alebeek moeite om zich volledig te concentreren op de wedstrijd .                                                                                                                                                                                                                                                                                                                              \n",
       "9     Om ongelukken te voorkomen heb ik mezelf gedwongen om me alleen nog met de koers bezig te houden . ''                                                                                                                                                                                                                                                                                                                          \n",
       "11    Om ongelukken te voorkomen heb ik mezelf gedwongen om me alleen nog met de koers bezig te houden . ''                                                                                                                                                                                                                                                                                                                          \n",
       "18    Ze zocht contact met ploegleider Zijlaard die adviseerde te gokken op de sprint .                                                                                                                                                                                                                                                                                                                                              \n",
       "43    Dat gaf me de tijd om eens na te denken over mijn instelling .                                                                                                                                                                                                                                                                                                                                                                 \n",
       "45    Ik besloot serieuzer te werk te gaan .                                                                                                                                                                                                                                                                                                                                                                                         \n",
       "96    In nog geen dertig seconden verspeelde springruiter Wout-Jan van der Schans gistermiddag de Europese titel die lonkend op hem lag te wachten .                                                                                                                                                                                                                                                                                 \n",
       "98    Na de eerste sprong was het moeilijk hem op zijn achterbenen te houden .                                                                                                                                                                                                                                                                                                                                                       \n",
       "100   Als dan de tweede valt , is het heel moeilijk de derde erop te houden . ''                                                                                                                                                                                                                                                                                                                                                     \n",
       "125   De held-die-geen-held-werd repte zich met Corland naar de stal , vermande zich en keerde terug naar het pandemonium bij de uitgang van de piste waar iedereen die maar iets van paardensport meent te weten een mening had over het echec .                                                                                                                                                                                    \n",
       "128   Daar besloot hij wat misverstanden weg te werken .                                                                                                                                                                                                                                                                                                                                                                             \n",
       "139   Het is moeilijk van Beerbaum te winnen , maar dat is me donderdag toch maar gelukt . ''                                                                                                                                                                                                                                                                                                                                        \n",
       "159   Niemand valt iets te verwijten , iedereen heeft zijn best gedaan .                                                                                                                                                                                                                                                                                                                                                             \n",
       "162   ,, De boel was niet in de hand te houden . ''                                                                                                                                                                                                                                                                                                                                                                                  \n",
       "171   Op het vlakke parcours in Nijmegen slaagden de Rabo's er niet in de regie van start tot finish te bepalen .                                                                                                                                                                                                                                                                                                                    \n",
       "194   Een meesterzet , zo leek het , want de Bankgiroloterij-ploeg moest kilometerslang aan kop van het peloton sleuren om een hergroepering tot stand te brengen .                                                                                                                                                                                                                                                                  \n",
       "208   De Rooij gaf de Rabo-renners in het peloton uiteindelijk de opdracht het gat dicht te rijden .                                                                                                                                                                                                                                                                                                                                 \n",
       "213   Boogerd leek de pure sprinters nog even te verrassen toen hij in de laatste bocht tien meter voorsprong nam .                                                                                                                                                                                                                                                                                                                  \n",
       "219   Hij had tijdens het sprinten zelfs nog even tijd om om te kijken .                                                                                                                                                                                                                                                                                                                                                             \n",
       "226   In de afgelopen twee weken heb ik 1200 kilometer getraind , heel veel achter een scooter om snelheid te krijgen . ''                                                                                                                                                                                                                                                                                                           \n",
       "238   Vandaag komt manager John Wordin naar Nederland om hem , en ploegleider Johan Lammerts , uitleg te verschaffen .                                                                                                                                                                                                                                                                                                               \n",
       "241   De Zuid Amerikaanse voetbalfederatie CSF heeft besloten de Copa America uit te stellen .                                                                                                                                                                                                                                                                                                                                       \n",
       "243   Op een vergadering in Buenos Aires werd zaterdag echter besloten het toernooi toch in Colombia te laten spelen , maar dan later - mogelijk in januari 2002 .                                                                                                                                                                                                                                                                   \n",
       "255   Maar de afgelopen week lukte het de CSF , die Colombia tot dan steunde , niet meer de gelederen gesloten te houden .                                                                                                                                                                                                                                                                                                           \n",
       "259   BraziliÃ« probeerde het toernooi over te nemen .                                                                                                                                                                                                                                                                                                                                                                               \n",
       "262   Kort nadat CSF-voorzitter Leoz donderdag het besluit het toernooi te annuleren bekend had gemaakt , werd Mejia vrijgelaten door zijn ontvoerders .                                                                                                                                                                                                                                                                             \n",
       "267   Mejia werd terstond ingezet in een campagne om de Copa voor Colombia te redden .                                                                                                                                                                                                                                                                                                                                               \n",
       "270   De ironie wil dat FARC-woordvoerder Raul Reyes in april 2000 een akkoord had gesloten met de Colombiaanse regering om de Copa te respecteren .                                                                                                                                                                                                                                                                                 \n",
       "274   De afgelopen week lieten de FARC op humanitaire gronden ruim 300 ontvoerde politie-agenten en militairen vrij om hun vredeswens te illustreren .                                                                                                                                                                                                                                                                               \n",
       "283   Pastrana begon een politiek offensief om de Copa voor Colombia te behouden .                                                                                                                                                                                                                                                                                                                                                   \n",
       "285   Hij belde persoonlijk met regeringsleiders van andere Zuid-Amerikaanse landen met het verzoek hun nationale voetbalbonden te overtuigen van het belang van het toernooi voor Colombia .                                                                                                                                                                                                                                        \n",
       "288   Het besluit van de CSF lijkt op een poging de kool en de geit te sparen .                                                                                                                                                                                                                                                                                                                                                      \n",
       "297   ,, Het was voor ons de kans om eens een ander Colombia te laten zien .                                                                                                                                                                                                                                                                                                                                                         \n",
       "308   Lindsay Davenport is vast van plan om meer te genieten van haar beroep .                                                                                                                                                                                                                                                                                                                                                       \n",
       "311   Angst om te verliezen kent de Amerikaanse in ieder geval niet meer .                                                                                                                                                                                                                                                                                                                                                           \n",
       "316   Meer dan ooit voel ik het als een privilege om hier Ã¼berhaupt op de baan te mogen staan . ''                                                                                                                                                                                                                                                                                                                                  \n",
       "332   Het gaf haar de tijd om eens na te denken over haar drie veroverde Grand Slam-titels en de toekomst die nog voor haar ligt .                                                                                                                                                                                                                                                                                                   \n",
       "340   Ik ben pas 25 jaar en toch heb ik al het gevoel in de slotfase van mijn carriÃ¨re te zijn aanbeland .                                                                                                                                                                                                                                                                                                                          \n",
       "342   Je moet proberen het licht aan het einde van de tunnel te zien ; de tunnel die naar je doel leidt .                                                                                                                                                                                                                                                                                                                            \n",
       "347   Een normaal iemand hoeft het grotere geheel van zijn carriÃ¨re pas jaren later te begrijpen . ''                                                                                                                                                                                                                                                                                                                               \n",
       "380   Of het historisch is , valt te bezien , maar het antwoord van de heilige Vader was gevat : It's a long way to Tipperary .                                                                                                                                                                                                                                                                                                      \n",
       "394   Volgens WOW-woordvoerster Soline Vitanel moesten aangezochte sprekers onder druk afhaken , en zelfs de Wereldraad verbood een prominent vertegenwoordigster om mee te werken .                                                                                                                                                                                                                                                 \n",
       "412   Pogingen om in Nederland te praten over vrouwenwijding stranden op rk onwil .                                                                                                                                                                                                                                                                                                                                                  \n",
       "419   Hardnekkig probeert WOW de zaak te heropenen .                                                                                                                                                                                                                                                                                                                                                                                 \n",
       "421   Ze roept de paus in een resolutie op dat ook te doen .                                                                                                                                                                                                                                                                                                                                                                         \n",
       "426   De benedictines Joan Chittister is de enige spreekster op het congres die wat te vrezen heeft van haar kerk ; de anderen zijn niet of niet meer rk.                                                                                                                                                                                                                                                                            \n",
       "445   In totaal 135 medezusters hebben al gezegd dezelfde sancties te willen krijgen als Chittister .                                                                                                                                                                                                                                                                                                                                \n",
       "458   Daarmee heeft Wijngaards de gevoelige plek te pakken : het argument waarmee ' de kerk ' nee zegt , is op zichzelf niet inhoudelijk .                                                                                                                                                                                                                                                                                           \n",
       "466   Hij vergelijkt het met de weerzin die zwarten plachten op te wekken .                                                                                                                                                                                                                                                                                                                                                          \n",
       "471   ,, Als priesters zelfingenomen zeggen dat Jezus vrouwen uitsloot en dat ze daarom nooit gewijd zijn , is dat argument eenvoudig te slopen : vrouwen hebben in vroeger eeuwen wel degelijk een volledige diakenwijding ontvangen . ''                                                                                                                                                                                           \n",
       "480   Het slachtoffer stond op vijf meter hoogte in een feesttent te werken toen hij naar beneden viel en op zijn hoofd terechtkwam .                                                                                                                                                                                                                                                                                                \n",
       "484   De groep besloot het optreden af te blazen .                                                                                                                                                                                                                                                                                                                                                                                   \n",
       "508   Met het onderzoek naar de bruikbaarheid van de polygraaf hoopt onderzoeker Buschman beter te kunnen voorspellen in hoeverre een zedendelinquent na zijn tbs een maatschappelijk risico vormt door terug te vallen in zijn criminele gedrag .                                                                                                                                                                                   \n",
       "510   Met het onderzoek naar de bruikbaarheid van de polygraaf hoopt onderzoeker Buschman beter te kunnen voorspellen in hoeverre een zedendelinquent na zijn tbs een maatschappelijk risico vormt door terug te vallen in zijn criminele gedrag .                                                                                                                                                                                   \n",
       "517   Campinggasten hebben nog geprobeerd te reanimeren , maar bij aankomst in het ziekenhuis bleken de meisjes te zijn overleden .                                                                                                                                                                                                                                                                                                  \n",
       "518   Campinggasten hebben nog geprobeerd te reanimeren , maar bij aankomst in het ziekenhuis bleken de meisjes te zijn overleden .                                                                                                                                                                                                                                                                                                  \n",
       "598   Dit had te maken met regulier onderhoud aan de computers .                                                                                                                                                                                                                                                                                                                                                                     \n",
       "605   Topman Jack Welch van het Amerikaanse industriÃ«le concern General Electric ( GE ) verwerpt het aanbod van zijn collega van Honeywell om de beoogde fusie van de twee ondernemingen te redden .                                                                                                                                                                                                                                \n",
       "612   Honeywell bood GE aan dat dit concern minder hoeft te betalen voor Honeywell als het bepaalde onderdelen afstoot zoals de Europese Commissie graag wil .                                                                                                                                                                                                                                                                       \n",
       "621   Boeren in praktisch heel het land zijn van plan vandaag de ochtendspits lam te leggen .                                                                                                                                                                                                                                                                                                                                        \n",
       "637   In Zuid-West Nederland zijn er plannen om de A58 bij Wouw en Bergen op Zoom te blokkeren .                                                                                                                                                                                                                                                                                                                                     \n",
       "647   De Bulgaarse ex-koning Simeon II , wiens partij de verkiezingen van vorige maand won , meent dat hij geen keus heeft dan premier te worden .                                                                                                                                                                                                                                                                                   \n",
       "669   De ingebrachte ' pacemaker-plus ' dient zowel om de hartslag te vertragen als , wanneer nodig , te versnellen .                                                                                                                                                                                                                                                                                                                \n",
       "672   De ingebrachte ' pacemaker-plus ' dient zowel om de hartslag te vertragen als , wanneer nodig , te versnellen .                                                                                                                                                                                                                                                                                                                \n",
       "675   Een woordvoerster zei gisteren dat de 60-jarige Cheney vandaag gewoon van plan is aan het werk te gaan .                                                                                                                                                                                                                                                                                                                       \n",
       "688   ,, Ik ben bereid om terug te komen '' , zei Trimble gisteren , ,, maar alleen als we de wapens voorgoed achter ons laten . ''                                                                                                                                                                                                                                                                                                  \n",
       "691   Volgens het Goede Vrijdag-akkoord heeft de regering zes weken om Trimble te vragen terug te komen Ã³f hem te vervangen , anders komen er verkiezingen .                                                                                                                                                                                                                                                                        \n",
       "692   Volgens het Goede Vrijdag-akkoord heeft de regering zes weken om Trimble te vragen terug te komen Ã³f hem te vervangen , anders komen er verkiezingen .                                                                                                                                                                                                                                                                        \n",
       "693   Volgens het Goede Vrijdag-akkoord heeft de regering zes weken om Trimble te vragen terug te komen Ã³f hem te vervangen , anders komen er verkiezingen .                                                                                                                                                                                                                                                                        \n",
       "696   Sommige analisten menen dat Trimble erop gokt dat het IRA door zijn vertrek zo onder druk komt te staan dat de organisatie alsnog overstag gaat .                                                                                                                                                                                                                                                                              \n",
       "697   Bovendien hoopt hij de kritiek binnen zijn eigen achterban , de Ulster Unionisten , tot zwijgen te brengen dat hij zich niet hard genoeg opstelt tegenover het Ira .                                                                                                                                                                                                                                                           \n",
       "702   Maar Sinn Fein , die deel uitmaakt van de regering , waarschuwt dat het Ira zich niet laat chanteren , en raadde de Ulster Unionisten aan een nieuwe leider aan te wijzen en voor een ' verstandiger en productievere aanpak ' te kiezen .                                                                                                                                                                                     \n",
       "703   Maar Sinn Fein , die deel uitmaakt van de regering , waarschuwt dat het Ira zich niet laat chanteren , en raadde de Ulster Unionisten aan een nieuwe leider aan te wijzen en voor een ' verstandiger en productievere aanpak ' te kiezen .                                                                                                                                                                                     \n",
       "707   Trimbles vertrek viel samen met het begin van het zogenoemde marsseizoen , waarbij protestantse groepen deels door katholieke wijken marcheren om vroegere overwinningen in onderlinge gevechten te herdenken .                                                                                                                                                                                                                \n",
       "722   De IsraÃ«lische actie is onderdeel van het beleid om SyriÃ« te laten betalen voor de aanvallen van de Hezbollah-strijders .                                                                                                                                                                                                                                                                                                    \n",
       "732   SyriÃ« is er niet bij gebaat dat wel te doen . ''                                                                                                                                                                                                                                                                                                                                                                              \n",
       "774   Het Amersfoortse en Barneveldse initiatief is een logische en noodzakelijke stap om Nederland internationaal aan de top te houden .                                                                                                                                                                                                                                                                                            \n",
       "784   Het Amersfoortse bestuurslid Johan Hoeksema vertelde dat Ad Roskam , de zwemcoÃ¶rdinator van de KNZB , hem na de jaarvergadering in april heeft gevraagd eens met DWK te gaan brainstormen .                                                                                                                                                                                                                                   \n",
       "787   Eigenlijk viel het idee voor de blauwdruk al te beluisteren bij de nabeschouwing van de Olympische Spelen .                                                                                                                                                                                                                                                                                                                    \n",
       "793   De respectieve trainers Ad van de Ven en Mark Faber , die na vijf jaar met ingang van 1 september stopt in Barneveld en dus in de markt is voor een nieuwe baan , kregen het bij de NK in Eindhoven opnieuw niet voor elkaar de belangen van het individuele talent en de vereniging goed te scheiden .                                                                                                                        \n",
       "825   Jim Davenport , de 61-jarige Amerikaanse coach van de Italianen en opgevoed bij de San Francisco Giants , stuurde de linkshander Masin naar de heuvel met de opdracht Van 't Klooster uit te schakelen .                                                                                                                                                                                                                       \n",
       "830   Ginanneschi liet daarop de honken vol lopen door Isenia opzettelijk vier wijd te geven , waarna Palazzetti als vijfde werper het veld betrad .                                                                                                                                                                                                                                                                                 \n",
       "832   De linkshander slaagde er evenmin in de Nederlandse aanval te beteugelen .                                                                                                                                                                                                                                                                                                                                                     \n",
       "847   Eenhoorn hield er rekening mee door vier internationaal onervaren werpers naar de heuvel te sturen .                                                                                                                                                                                                                                                                                                                           \n",
       "857   De toeschouwers wisten de negende plaats op de juiste waarde in te schatten .                                                                                                                                                                                                                                                                                                                                                  \n",
       "877   Elk duel moest op televisie te zien zijn en bezocht worden door ten minste 4000 toeschouwers .                                                                                                                                                                                                                                                                                                                                 \n",
       "885   Hoewel accommodaties in Groningen en Amsterdam dit jaar in de voorronde aardig vol zaten - Eindhoven viel tegen - is het in Nederland altijd moeilijk zoveel liefhebbers te mobiliseren .                                                                                                                                                                                                                                      \n",
       "888   Acosta zei in Katowice echter dat de acht finalisten van 2001 , waaronder het verrassende Oranje , zich geen zorgen hoeven te maken voor volgend jaar .                                                                                                                                                                                                                                                                        \n",
       "919   Er moet heel wat gebeuren om onze ambities en onze potenties bij de komende Champions Trophy in november in Lahore waar te maken . ''                                                                                                                                                                                                                                                                                          \n",
       "920   Bellaart weigerde zich te verschuilen achter allerlei excuses .                                                                                                                                                                                                                                                                                                                                                                \n",
       "958   Met Shinji Ono lijkt Feyenoord een goede slag te hebben geslagen .                                                                                                                                                                                                                                                                                                                                                             \n",
       "974   Op 2 september 2003 van hetzelfde jaar werd dan ook bekend dat de gesprekken afgesprongen waren , omdat de CD&V niet tegemoet kwam aan de eis van de N-VA om bij een regeringsvorming vijf resoluties over de aandachtspunten bij een staatshervorming te respecteren .                                                                                                                                                        \n",
       "977   Op 14 februari 2004 ging de CD&V dan toch het engagement aan , en samen met de slechte peilingen voor de N-VA was dit voldoende om een kartel tot stand te brengen .                                                                                                                                                                                                                                                           \n",
       "1001  Dat deze partij die onafhankelijkheid enkel via politieke wegen nastreeft , heeft men benadrukt door in het programma te schrijven dat vrede een prioriteit is .                                                                                                                                                                                                                                                               \n",
       "1008  Op economisch vlak willen ze de belastingen , volgens de theorie van de Laffer-curve brengen naar een optimum , eventueel via een vervlakking van het belastingsstelsel en gaat men meer naar een ethisch gecorrigeerde aanbodeconomie , maar vooral de belasting op arbeid moet , volgens het N-VA-programma drastisch verlaagd te worden , omdat deze in BelgiÃ« een van de hoogste is van de niet-communistische landen .   \n",
       "1011  Onder andere door deze hoge belasting dreigen bedrijven als Ford-Genk en BASF-Antwerpen uit te wijken naar het buitenland .                                                                                                                                                                                                                                                                                                    \n",
       "1027  Onder leiding van Geert Bourgeois ging de partij in 2003 voor de eerste maal naar de verkiezingen , maar ze slaagden er enkel in West-Vlaanderen in om de gloednieuwe kiesdrempel van 5% te halen .                                                                                                                                                                                                                            \n",
       "1032  Deze moesten ze halen om niet uit het Vlaamse parlement te verdwijnen .                                                                                                                                                                                                                                                                                                                                                        \n",
       "1056  Ze ontstond door de oude provincie Brabant te splitsen langs de taalgrens in een Vlaams deel ( Vlaams-Brabant ) , een Waals deel ( Waals-Brabant ) en het aan de indeling in provincies onttrokken Brussels Hoofdstedelijk Gewest .                                                                                                                                                                                            \n",
       "1133  De nieuwe start verliep niet bepaald vlekkeloos , de race diende bij een eerste poging uitgesteld te worden tot het najaar , omdat de F1 wagens het nieuwe , maar duidelijk niet op zijn taak berekende asfalt aan flarden reden .                                                                                                                                                                                             \n",
       "1211  Ze creÃ«ren een rookgordijn om ons te misleiden . \"                                                                                                                                                                                                                                                                                                                                                                            \n",
       "1218  Het heeft geen zin om dat te ontkennen .                                                                                                                                                                                                                                                                                                                                                                                       \n",
       "1220  Hoewel ik me realiseer dat dit voor Joodse lezers moeilijk te begrijpen valt , dachten de meeste collaborateurs dat zij een onafhankelijk Vlaanderen konden realiseren door met de Duitsers samen te werken .                                                                                                                                                                                                                  \n",
       "1223  Hoewel ik me realiseer dat dit voor Joodse lezers moeilijk te begrijpen valt , dachten de meeste collaborateurs dat zij een onafhankelijk Vlaanderen konden realiseren door met de Duitsers samen te werken .                                                                                                                                                                                                                  \n",
       "1237  Op de veiligheidsmeeting van de partij in april 2006 verklaarde hij : \" Wij hebben er genoeg van om als autochtoon opgejaagd wild te fungeren .                                                                                                                                                                                                                                                                                \n",
       "1239  In plaats van als angsthazen door het leven te gaan , kunnen wij maar beter boswachter worden . \"                                                                                                                                                                                                                                                                                                                              \n",
       "1259  In september 1982 verhuisde hij naar Antwerpen om er politieke en sociale wetenschappen ( = Â« Pol&Soc Â» ) te kunnen gaan studeren aan de Universitaire Faculteiten Sint-Ignatius Antwerpen en werd er lid van de NSV .                                                                                                                                                                                                       \n",
       "1269  Na enkele jaren als journalist gewerkt te hebben , werd hij in 1992 fractievoorzitter , wat hij nu nog altijd is bij het Vlaams Belang .                                                                                                                                                                                                                                                                                       \n",
       "1304  HergÃ© wou de Joods klinkende naam van de schurk ( met een behoorlijk ' Joodse neus ' ) vervangen , maar de vervanging - wat gewoon Brussels is voor een soort snoepwinkel - bleek ook Joods te zijn .                                                                                                                                                                                                                         \n",
       "1330  Om zijn wat zwakkere tekenkwaliteiten te maskeren , ontwikkelde HergÃ© een techniek die een eigen leven is gaan leiden : de Klare lijn .                                                                                                                                                                                                                                                                                       \n",
       "1335  HergÃ© besteedde veel zorg aan zijn tekeningen en dat valt eraan af te zien : heldere afbeeldingen waarin de actie in Ã©Ã©n oogopslag duidelijk is .                                                                                                                                                                                                                                                                           \n",
       "1337  HergÃ© raakte in een politiek conflict betrokken toen hij het ware verhaal van de aanval van Japan op China in het Kuifje-album Â« De Blauwe Lotus Â» probeerde te vertellen .                                                                                                                                                                                                                                                 \n",
       "1346  Hij bleek algauw een tuchtloos leerling te zijn , maar hij toonde wel al een grote voorliefde voor tekenen .                                                                                                                                                                                                                                                                                                                   \n",
       "1377  Om te ontsnappen aan zijn bazige moeder trekt hij zich terug op de zolder en richtte er zijn eerste atelier in .                                                                                                                                                                                                                                                                                                               \n",
       "1401  Ensor besluit afstand te nemen van de objectieve realiteit en voortaan zijn eigen gang te gaan .                                                                                                                                                                                                                                                                                                                               \n",
       "1402  Ensor besluit afstand te nemen van de objectieve realiteit en voortaan zijn eigen gang te gaan .                                                                                                                                                                                                                                                                                                                               \n",
       "1409  Trouwens in 1887 gaat Ensor , samen met Guillaume Vogels , naar Londen om het werk van Turner beter te leren kennen .                                                                                                                                                                                                                                                                                                          \n",
       "1447  Het werk was een jaar later echter niet af om op het Salon des XX geÃ«xposeerd te worden .                                                                                                                                                                                                                                                                                                                                     \n",
       "1450  Ensor vraagt aan een huisschilder verf te bereiden in potten van 5 en 10 kg.                                                                                                                                                                                                                                                                                                                                                   \n",
       "1539  Er ontstond een conflictsituatie tussen hem en de maatschappij , zodat hij sterk geladen beelden gebruikt , zoals maskers , skeletten , de dood , carnaval en travestieten om die maatschappij voor schut te doen staan .                                                                                                                                                                                                      \n",
       "1591  Ensors vader , ingenieur van Bruggen en Wegen , vertrok kort na de geboorte van de kleine James naar de Verenigde Staten om er fortuin te maken .                                                                                                                                                                                                                                                                              \n",
       "1597  Hij kon echter de mislukking niet verwerken en , onder de knoet van een nuchter autoritaire Oostendse handelsvrouw , van wie hij trouwens financieel afhankelijk was , begon hij te drinken en werd de schande van het gezin .                                                                                                                                                                                                 \n",
       "1622  Het boek zou pas later verschijnen uit papiergebrek , maar Vandersteen werd wel betaald en de opdracht gegeven nog twee titels bij elkaar te tekenen , wat hij ook prompt deed .                                                                                                                                                                                                                                               \n",
       "1642  Het duurde een jaar vooraleer de uitgever de tijd rijp achtte om het verhaal uit te geven .                                                                                                                                                                                                                                                                                                                                    \n",
       "1644  Op 30 maart 1945 was de strip voor het eerst in een krant te lezen , al had de uitgever de reeks wel omgedoopt in Â« Rikki en Wiske Â» .                                                                                                                                                                                                                                                                                       \n",
       "1653  \" Het succes was ( ... ) aan drie factoren toe te schrijven .                                                                                                                                                                                                                                                                                                                                                                  \n",
       "1686  In de loop der jaren werd het in Vlaanderen een traditie de krant van achter naar voren te lezen .                                                                                                                                                                                                                                                                                                                             \n",
       "1693  Ook andere kranten moesten nu hun eigen strips hebben om de concurrentie met \" De Standaard \" aan te kunnen .                                                                                                                                                                                                                                                                                                                  \n",
       "1707  Ook begonnen veel albums allitererende titels te krijgen en moraliserende eindes .                                                                                                                                                                                                                                                                                                                                             \n",
       "1715  Veel Vandersteen-fans zijn daarom meer liefhebber van zijn strips uit de jaren '40 en '50 , al bleven de albums aangenaam om te lezen .                                                                                                                                                                                                                                                                                        \n",
       "1759  Vandersteen tekende al deze stripreeksen alleen en begon daarom in te zien dat hij wat hulp kon gebruiken .                                                                                                                                                                                                                                                                                                                    \n",
       "1775  Vandersteen liep ook al een paar jaar rond met het idee een ridderstrip te maken .                                                                                                                                                                                                                                                                                                                                             \n",
       "1778  Van jeugdschrijver Leopold Vermeiren kreeg hij de toestemming diens romanfiguur Â« De Rode Ridder Â» te gebruiken .                                                                                                                                                                                                                                                                                                            \n",
       "1806  Van de oude succesreeksen weten echter enkel De Rode Ridder en Suske en Wiske zich nog staande te houden .                                                                                                                                                                                                                                                                                                                     \n",
       "1846  Zeker in \" Suske en Wiske \" speelde Vandersteen ook graag met taal door leenwoorden uit andere talen te verwerken in de namen en/of het woordgebruik van sommige personages .                                                                                                                                                                                                                                                  \n",
       "1857  Er ontstond een stroom van merchandising en pogingen de reeks in andere landen te doen aanslaan .                                                                                                                                                                                                                                                                                                                              \n",
       "1936  Toen hij eens over de kruistochten geleerd had trokken hij en enkele kinderen uit de buurt verkleed als ridders naar de kerk om er zich te laten zegenen .                                                                                                                                                                                                                                                                     \n",
       "1954  Hij was zeker getalenteerd genoeg om in zijn vaders voetsporen te treden , maar toen in de jaren '30 de meer moderne en sobere architectuur van de Jugendstil haar intrede deed was de ornamentkunst plots uit de mode .                                                                                                                                                                                                       \n",
       "1957  Vandersteen besloot daarop timmerman te worden tot hij besloot dat decorateur meer iets voor hem was .                                                                                                                                                                                                                                                                                                                         \n",
       "1960  Als etalageontwerper bij het Antwerpse warenhuis Innovation kreeg de jongeman op een dag de opdracht een model uit een Amerikaans modetijdschrift op een paneel over te tekenen .                                                                                                                                                                                                                                              \n",
       "1963  Het stuk boeide hem zo enorm dat hij besloot striptekenaar te worden .                                                                                                                                                                                                                                                                                                                                                         \n",
       "1974  Via zijn zwager vond hij een baan als grafiek-omzetter in een landbouw- en voedingsbedrijf , maar omdat dit zo'n saaie job was begon hij uit verveling in de marges van de bladen te tekenen .                                                                                                                                                                                                                                 \n",
       "\n",
       "                                                                                                                                                                                                                                                                                                         actual_tokens  \n",
       "3     NOUN PROPN VERB PRON ADP ADV ADP ADP VERB PUNCT                                                                                                                                                                                                                                                                   \n",
       "7     ADP ADP DET NOUN VERB PROPN PROPN NOUN ADP PRON ADJ ADP VERB ADP DET NOUN PUNCT                                                                                                                                                                                                                                   \n",
       "9     ADP NOUN ADP VERB AUX PRON PRON VERB ADP PRON ADV ADV ADP DET NOUN ADJ ADP VERB PUNCT PUNCT                                                                                                                                                                                                                       \n",
       "11    ADP NOUN ADP VERB AUX PRON PRON VERB ADP PRON ADV ADV ADP DET NOUN ADJ ADP VERB PUNCT PUNCT                                                                                                                                                                                                                       \n",
       "18    PRON VERB NOUN ADP NOUN PROPN PRON VERB ADP VERB ADP DET NOUN PUNCT                                                                                                                                                                                                                                               \n",
       "43    PRON VERB PRON DET NOUN ADP ADV ADP ADP VERB ADP PRON NOUN PUNCT                                                                                                                                                                                                                                                  \n",
       "45    PRON VERB ADJ ADP NOUN ADP VERB PUNCT                                                                                                                                                                                                                                                                             \n",
       "96    ADP ADV PRON NUM NOUN VERB NOUN PROPN PROPN PROPN PROPN ADV DET ADJ NOUN PRON VERB ADP PRON VERB ADP VERB PUNCT                                                                                                                                                                                                   \n",
       "98    ADP DET ADJ NOUN AUX PRON ADJ PRON ADP PRON NOUN ADP VERB PUNCT                                                                                                                                                                                                                                                   \n",
       "100   SCONJ ADV DET ADJ VERB PUNCT AUX PRON ADJ ADJ DET ADJ ADV ADP VERB PUNCT PUNCT                                                                                                                                                                                                                                    \n",
       "125   DET NOUN VERB PRON ADP PROPN ADP DET NOUN PUNCT VERB PRON CCONJ VERB ADV ADP DET NOUN ADP DET NOUN ADP DET NOUN ADV PRON PRON ADV PRON ADP NOUN VERB ADP VERB DET NOUN VERB ADP DET NOUN PUNCT                                                                                                                    \n",
       "128   ADV VERB PRON DET NOUN ADV ADP VERB PUNCT                                                                                                                                                                                                                                                                         \n",
       "139   PRON AUX ADJ ADP PROPN ADP VERB PUNCT CCONJ PRON AUX PRON PROPN ADV ADV VERB PUNCT PUNCT                                                                                                                                                                                                                          \n",
       "159   PRON VERB PRON ADP VERB PUNCT PRON AUX PRON ADJ VERB PUNCT                                                                                                                                                                                                                                                        \n",
       "162   PUNCT DET NOUN AUX ADV ADP DET NOUN ADP VERB PUNCT PUNCT                                                                                                                                                                                                                                                          \n",
       "171   ADP DET ADJ NOUN ADP PROPN VERB DET PROPN PRON ADV ADP DET NOUN ADP NOUN ADP NOUN ADP VERB PUNCT                                                                                                                                                                                                                  \n",
       "194   DET NOUN PUNCT ADV VERB PRON PUNCT CCONJ DET NOUN AUX ADJ ADP NOUN ADP DET NOUN VERB ADP DET NOUN ADP NOUN ADP VERB PUNCT                                                                                                                                                                                         \n",
       "208   PROPN PROPN VERB DET NOUN ADP DET NOUN ADJ DET NOUN DET NOUN ADJ ADP VERB PUNCT                                                                                                                                                                                                                                   \n",
       "213   PROPN VERB DET ADJ NOUN ADV ADV ADP VERB SCONJ PRON ADP DET ADJ NOUN NUM NOUN NOUN VERB PUNCT                                                                                                                                                                                                                     \n",
       "219   PRON VERB ADP DET VERB ADV ADV ADV NOUN ADP ADP ADP VERB PUNCT                                                                                                                                                                                                                                                    \n",
       "226   ADP DET VERB NUM NOUN AUX PRON NUM NOUN VERB PUNCT ADJ PRON ADP DET NOUN ADP NOUN ADP VERB PUNCT PUNCT                                                                                                                                                                                                            \n",
       "238   ADV VERB NOUN PROPN PROPN ADP PROPN ADP PRON PUNCT CCONJ NOUN PROPN PROPN PUNCT NOUN ADP VERB PUNCT                                                                                                                                                                                                               \n",
       "241   DET PROPN ADJ NOUN PROPN AUX VERB DET PROPN PROPN ADP ADP VERB PUNCT                                                                                                                                                                                                                                              \n",
       "243   ADP DET NOUN ADP PROPN PROPN AUX PROPN ADV VERB DET NOUN ADV ADP PROPN ADP VERB VERB PUNCT CCONJ ADV ADJ PUNCT ADJ ADP PROPN NUM PUNCT                                                                                                                                                                            \n",
       "255   CCONJ DET VERB NOUN VERB PRON DET PROPN PUNCT PRON PROPN ADP ADV VERB PUNCT ADV ADV DET NOUN VERB ADP VERB PUNCT                                                                                                                                                                                                  \n",
       "259   PROPN VERB DET NOUN ADP ADP VERB PUNCT                                                                                                                                                                                                                                                                            \n",
       "262   ADJ SCONJ NOUN PROPN PROPN DET NOUN DET NOUN ADP VERB ADJ AUX VERB PUNCT AUX PROPN VERB ADP PRON NOUN PUNCT                                                                                                                                                                                                       \n",
       "267   PROPN AUX ADV VERB ADP DET NOUN ADP DET PROPN ADP PROPN ADP VERB PUNCT                                                                                                                                                                                                                                            \n",
       "270   DET NOUN VERB SCONJ NOUN PROPN PROPN ADP PROPN NUM DET NOUN AUX VERB ADP DET ADJ NOUN ADP DET PROPN ADP VERB PUNCT                                                                                                                                                                                                \n",
       "274   DET VERB NOUN VERB DET PROPN ADP ADJ NOUN ADJ NUM VERB NOUN CCONJ NOUN ADJ ADP PRON NOUN ADP VERB PUNCT                                                                                                                                                                                                           \n",
       "283   PROPN VERB DET ADJ NOUN ADP DET PROPN ADP PROPN ADP VERB PUNCT                                                                                                                                                                                                                                                    \n",
       "285   PRON VERB ADJ ADP NOUN ADP ADJ ADJ NOUN ADP DET NOUN PRON ADJ NOUN ADP VERB ADP DET NOUN ADP DET NOUN ADP PROPN PUNCT                                                                                                                                                                                             \n",
       "288   DET NOUN ADP DET PROPN VERB ADP DET NOUN DET NOUN CCONJ DET NOUN ADP VERB PUNCT                                                                                                                                                                                                                                   \n",
       "297   PUNCT PRON AUX ADP PRON DET NOUN ADP ADV DET ADJ PROPN ADP VERB VERB PUNCT                                                                                                                                                                                                                                        \n",
       "308   PROPN PROPN VERB ADJ ADP NOUN ADP ADV ADP VERB ADP PRON NOUN PUNCT                                                                                                                                                                                                                                                \n",
       "311   NOUN ADP ADP VERB VERB DET ADJ ADP DET NOUN ADV ADV PUNCT                                                                                                                                                                                                                                                         \n",
       "316   ADV SCONJ ADV VERB PRON PRON ADP DET NOUN ADP ADV ADV ADP DET NOUN ADP AUX VERB PUNCT PUNCT                                                                                                                                                                                                                       \n",
       "332   PRON VERB PRON DET NOUN ADP ADV ADP ADP VERB ADP PRON NUM VERB PROPN NOUN CCONJ DET NOUN PRON ADV ADP PRON VERB PUNCT                                                                                                                                                                                             \n",
       "340   PRON AUX ADV NUM NOUN CCONJ ADV VERB PRON ADV DET NOUN ADP DET NOUN ADP PRON NOUN ADP AUX VERB PUNCT                                                                                                                                                                                                              \n",
       "342   PRON AUX VERB DET NOUN ADP DET NOUN ADP DET NOUN ADP VERB PUNCT DET NOUN PRON ADP PRON NOUN VERB PUNCT                                                                                                                                                                                                            \n",
       "347   DET ADJ PRON VERB DET ADJ NOUN ADP PRON NOUN ADV NOUN ADJ ADP VERB PUNCT PUNCT                                                                                                                                                                                                                                    \n",
       "380   SCONJ PRON ADJ AUX PUNCT VERB ADP VERB PUNCT CCONJ DET NOUN ADP DET ADJ NOUN AUX ADJ PUNCT X X X X X X PUNCT                                                                                                                                                                                                      \n",
       "394   ADP NOUN PROPN PROPN AUX VERB NOUN ADP NOUN VERB PUNCT CCONJ ADV DET NOUN VERB DET ADJ NOUN ADP ADP ADP VERB PUNCT                                                                                                                                                                                                \n",
       "412   NOUN ADP ADP PROPN ADP VERB ADP NOUN VERB ADP ADJ NOUN PUNCT                                                                                                                                                                                                                                                      \n",
       "419   ADJ VERB PROPN DET NOUN ADP VERB PUNCT                                                                                                                                                                                                                                                                            \n",
       "421   PRON VERB DET NOUN ADP DET NOUN ADP PRON ADV ADP VERB PUNCT                                                                                                                                                                                                                                                       \n",
       "426   DET NOUN PROPN PROPN AUX DET PRON NOUN ADP DET NOUN PRON PRON ADP VERB VERB ADP PRON NOUN PUNCT DET ADJ AUX ADV CCONJ ADV ADV ADJ                                                                                                                                                                                 \n",
       "445   ADP NOUN NUM NOUN AUX ADV VERB ADJ NOUN ADP VERB VERB SCONJ PROPN PUNCT                                                                                                                                                                                                                                           \n",
       "458   ADV VERB PROPN DET ADJ NOUN ADP VERB PUNCT DET NOUN ADV PUNCT DET NOUN PUNCT INTJ VERB PUNCT AUX ADP PRON ADV ADJ PUNCT                                                                                                                                                                                           \n",
       "466   PRON VERB PRON ADP DET NOUN PRON ADJ VERB ADP ADP VERB PUNCT                                                                                                                                                                                                                                                      \n",
       "471   PUNCT SCONJ NOUN ADJ VERB SCONJ PROPN NOUN VERB CCONJ SCONJ PRON ADV ADV VERB AUX PUNCT AUX DET NOUN ADJ ADP VERB PUNCT NOUN AUX ADP ADJ NOUN ADV ADJ DET ADJ NOUN VERB PUNCT PUNCT                                                                                                                               \n",
       "480   DET NOUN VERB ADP NUM NOUN NOUN ADP DET NOUN ADP VERB SCONJ PRON ADP ADP VERB CCONJ ADP PRON NOUN VERB PUNCT                                                                                                                                                                                                      \n",
       "484   DET NOUN VERB DET NOUN ADP ADP VERB PUNCT                                                                                                                                                                                                                                                                         \n",
       "508   ADP DET NOUN ADP DET NOUN ADP DET NOUN VERB NOUN PROPN ADJ ADP AUX VERB ADP ADV DET NOUN ADP PRON NOUN DET ADJ NOUN VERB ADP ADV ADP VERB ADP PRON ADJ NOUN PUNCT                                                                                                                                                 \n",
       "510   ADP DET NOUN ADP DET NOUN ADP DET NOUN VERB NOUN PROPN ADJ ADP AUX VERB ADP ADV DET NOUN ADP PRON NOUN DET ADJ NOUN VERB ADP ADV ADP VERB ADP PRON ADJ NOUN PUNCT                                                                                                                                                 \n",
       "517   NOUN AUX ADV VERB ADP VERB PUNCT CCONJ ADP NOUN ADP DET NOUN VERB DET NOUN ADP AUX VERB PUNCT                                                                                                                                                                                                                     \n",
       "518   NOUN AUX ADV VERB ADP VERB PUNCT CCONJ ADP NOUN ADP DET NOUN VERB DET NOUN ADP AUX VERB PUNCT                                                                                                                                                                                                                     \n",
       "598   PRON VERB ADP VERB ADP ADJ NOUN ADP DET NOUN PUNCT                                                                                                                                                                                                                                                                \n",
       "605   NOUN PROPN PROPN ADP DET ADJ ADJ NOUN PROPN PROPN PUNCT PROPN PUNCT VERB DET NOUN ADP PRON NOUN ADP PROPN ADP DET VERB NOUN ADP DET NUM NOUN ADP VERB PUNCT                                                                                                                                                       \n",
       "612   PROPN VERB PROPN ADP SCONJ DET NOUN PRON VERB ADP VERB ADP PROPN SCONJ PRON VERB NOUN VERB SCONJ DET PROPN PROPN ADV VERB PUNCT                                                                                                                                                                                   \n",
       "621   NOUN ADP ADJ ADJ DET NOUN AUX ADP NOUN ADV DET NOUN ADJ ADP VERB PUNCT                                                                                                                                                                                                                                            \n",
       "637   ADP ADJ PROPN VERB ADV NOUN ADP DET PROPN ADP PROPN CCONJ PROPN PROPN PROPN ADP VERB PUNCT                                                                                                                                                                                                                        \n",
       "647   DET ADJ NOUN PROPN PROPN PUNCT DET NOUN DET NOUN ADP ADJ NOUN VERB PUNCT VERB SCONJ PRON DET NOUN VERB SCONJ NOUN ADP VERB PUNCT                                                                                                                                                                                  \n",
       "669   DET VERB PUNCT NOUN PUNCT VERB CCONJ ADP DET NOUN ADP VERB SCONJ PUNCT ADV ADJ PUNCT ADP VERB PUNCT                                                                                                                                                                                                               \n",
       "672   DET VERB PUNCT NOUN PUNCT VERB CCONJ ADP DET NOUN ADP VERB SCONJ PUNCT ADV ADJ PUNCT ADP VERB PUNCT                                                                                                                                                                                                               \n",
       "675   DET NOUN VERB ADV SCONJ DET ADJ PROPN ADV ADJ ADP NOUN AUX ADP DET NOUN ADP VERB PUNCT                                                                                                                                                                                                                            \n",
       "688   PUNCT PRON AUX ADJ ADP ADV ADP VERB PUNCT PUNCT VERB PROPN ADV PUNCT PUNCT CCONJ ADV SCONJ PRON DET NOUN ADV ADP PRON VERB PUNCT PUNCT                                                                                                                                                                            \n",
       "691   ADP DET PROPN NOUN VERB DET NOUN NUM NOUN ADP PROPN ADP VERB ADV ADP VERB CCONJ PRON ADP VERB PUNCT ADV VERB ADV NOUN PUNCT                                                                                                                                                                                       \n",
       "692   ADP DET PROPN NOUN VERB DET NOUN NUM NOUN ADP PROPN ADP VERB ADV ADP VERB CCONJ PRON ADP VERB PUNCT ADV VERB ADV NOUN PUNCT                                                                                                                                                                                       \n",
       "693   ADP DET PROPN NOUN VERB DET NOUN NUM NOUN ADP PROPN ADP VERB ADV ADP VERB CCONJ PRON ADP VERB PUNCT ADV VERB ADV NOUN PUNCT                                                                                                                                                                                       \n",
       "696   DET NOUN VERB SCONJ PROPN ADV VERB SCONJ DET PROPN ADP PRON NOUN ADV ADP NOUN VERB ADP VERB SCONJ DET NOUN ADV ADV VERB PUNCT                                                                                                                                                                                     \n",
       "697   ADV VERB PRON DET NOUN ADP PRON ADJ NOUN PUNCT DET PROPN PROPN PUNCT ADP VERB ADP VERB SCONJ PRON PRON ADV ADJ ADV VERB ADP DET PROPN PUNCT                                                                                                                                                                       \n",
       "702   CCONJ PROPN PROPN PUNCT PRON NOUN VERB ADP DET NOUN PUNCT VERB SCONJ DET PROPN PRON ADV VERB VERB PUNCT CCONJ VERB DET PROPN PROPN ADP DET ADJ NOUN ADP ADP VERB CCONJ ADP DET PUNCT ADJ CCONJ ADJ NOUN PUNCT ADP VERB PUNCT                                                                                      \n",
       "703   CCONJ PROPN PROPN PUNCT PRON NOUN VERB ADP DET NOUN PUNCT VERB SCONJ DET PROPN PRON ADV VERB VERB PUNCT CCONJ VERB DET PROPN PROPN ADP DET ADJ NOUN ADP ADP VERB CCONJ ADP DET PUNCT ADJ CCONJ ADJ NOUN PUNCT ADP VERB PUNCT                                                                                      \n",
       "707   PROPN NOUN VERB ADV ADP DET NOUN ADP DET ADJ NOUN PUNCT ADV ADJ NOUN ADJ ADP ADJ NOUN VERB ADP ADJ NOUN ADP ADJ NOUN ADP VERB PUNCT                                                                                                                                                                               \n",
       "722   DET ADJ NOUN AUX NOUN ADP DET NOUN ADP PROPN ADP VERB VERB ADP DET NOUN ADP DET NOUN PUNCT                                                                                                                                                                                                                        \n",
       "732   PROPN AUX PRON ADV ADP VERB PRON ADV ADP VERB PUNCT PUNCT                                                                                                                                                                                                                                                         \n",
       "774   DET ADJ CCONJ ADJ NOUN AUX DET ADJ CCONJ ADJ NOUN ADP PROPN ADJ ADP DET NOUN ADP VERB PUNCT                                                                                                                                                                                                                       \n",
       "784   DET ADJ NOUN PROPN PROPN VERB SCONJ PROPN PROPN PUNCT DET NOUN ADP DET PROPN PUNCT PRON ADP DET NOUN ADP PROPN AUX VERB ADV ADP PROPN ADP VERB VERB PUNCT                                                                                                                                                         \n",
       "787   ADJ VERB DET NOUN ADP DET NOUN ADV ADP VERB ADP DET NOUN ADP DET PROPN PROPN PUNCT                                                                                                                                                                                                                                \n",
       "793   DET ADJ NOUN PROPN PROPN PROPN PROPN CCONJ PROPN PROPN PUNCT PRON ADP NUM NOUN ADP NOUN ADP NUM PROPN VERB ADP PROPN CCONJ ADV ADP DET NOUN VERB ADP DET ADJ NOUN PUNCT VERB PRON ADP DET PROPN ADP PROPN ADV ADV ADP PRON DET NOUN ADP DET ADJ NOUN CCONJ DET NOUN ADJ ADP VERB PUNCT                            \n",
       "825   PROPN PROPN PUNCT DET ADJ ADJ NOUN ADP DET PROPN CCONJ VERB ADP DET PROPN PROPN PROPN PUNCT VERB DET NOUN PROPN ADP DET NOUN ADP DET NOUN PROPN PROPN PROPN ADP ADP VERB PUNCT                                                                                                                                    \n",
       "830   PROPN VERB ADV DET NOUN ADJ VERB ADP PROPN ADJ NUM ADJ ADP VERB PUNCT ADV PROPN ADP ADJ NOUN DET NOUN VERB PUNCT                                                                                                                                                                                                  \n",
       "832   DET NOUN VERB PRON ADV ADP DET ADJ NOUN ADP VERB PUNCT                                                                                                                                                                                                                                                            \n",
       "847   PROPN VERB ADV NOUN ADP ADP NUM ADJ ADJ NOUN ADP DET NOUN ADP VERB PUNCT                                                                                                                                                                                                                                          \n",
       "857   DET NOUN VERB DET ADJ NOUN ADP DET ADJ NOUN ADP ADP VERB PUNCT                                                                                                                                                                                                                                                    \n",
       "877   DET NOUN AUX ADP NOUN ADP VERB AUX CCONJ VERB AUX ADP ADP PRON NUM NOUN PUNCT                                                                                                                                                                                                                                     \n",
       "885   SCONJ NOUN ADP PROPN CCONJ PROPN DET NOUN ADP DET NOUN ADJ ADJ VERB PUNCT PROPN VERB ADP PUNCT AUX PRON ADP PROPN ADV ADJ NUM NOUN ADP VERB PUNCT                                                                                                                                                                 \n",
       "888   PROPN VERB ADP PROPN ADV SCONJ DET NUM NOUN ADP NUM PUNCT ADV DET VERB PROPN PUNCT PRON DET NOUN VERB ADP VERB ADP VERB NOUN PUNCT                                                                                                                                                                                \n",
       "919   ADV AUX ADJ PRON VERB ADP PRON NOUN CCONJ PRON NOUN ADP DET VERB PROPN PROPN ADP PROPN ADP PROPN ADJ ADP VERB PUNCT PUNCT                                                                                                                                                                                         \n",
       "920   PROPN VERB PRON ADP VERB ADP DET NOUN PUNCT                                                                                                                                                                                                                                                                       \n",
       "958   ADP PROPN PROPN VERB PROPN DET ADJ NOUN ADP AUX VERB PUNCT                                                                                                                                                                                                                                                        \n",
       "974   ADP NUM PROPN NUM ADP DET NOUN VERB ADV ADV ADJ SCONJ DET NOUN VERB AUX PUNCT SCONJ DET PROPN ADV ADV VERB ADP DET NOUN ADP DET PROPN ADP ADP DET NOUN NUM NOUN ADP DET NOUN ADP DET NOUN ADP VERB PUNCT                                                                                                          \n",
       "977   ADP NUM PROPN NUM VERB DET PROPN ADV ADV DET NOUN ADP PUNCT CCONJ ADV ADP DET ADJ NOUN ADP DET PROPN AUX PRON ADJ ADP DET NOUN ADP NOUN ADP VERB PUNCT                                                                                                                                                            \n",
       "1001  SCONJ DET NOUN DET NOUN ADV ADP ADJ NOUN VERB PUNCT AUX PRON VERB ADP ADP DET NOUN ADP VERB SCONJ NOUN DET NOUN AUX PUNCT                                                                                                                                                                                         \n",
       "1008  ADP ADJ NOUN VERB PRON DET NOUN PUNCT ADP DET NOUN ADP DET PROPN VERB ADP DET NOUN PUNCT ADJ ADP DET NOUN ADP DET NOUN CCONJ VERB PRON ADV ADP DET ADJ VERB NOUN PUNCT CCONJ ADV DET NOUN ADP NOUN AUX PUNCT ADP DET NOUN ADJ VERB ADP AUX PUNCT SCONJ PRON ADP PROPN NUM ADP DET ADJ AUX ADP DET ADJ NOUN PUNCT  \n",
       "1011  ADP ADJ ADP DET ADJ NOUN VERB NOUN ADP PROPN CCONJ PROPN ADP ADP VERB ADP DET NOUN PUNCT                                                                                                                                                                                                                          \n",
       "1027  ADP NOUN ADP PROPN PROPN VERB DET NOUN ADP NUM ADP DET ADJ NOUN ADP DET NOUN PUNCT CCONJ PRON VERB PRON ADV ADP PROPN ADP ADP DET ADJ NOUN ADP SYM ADP VERB PUNCT                                                                                                                                                 \n",
       "1032  PRON AUX PRON VERB ADP ADV ADP DET ADJ NOUN ADP VERB PUNCT                                                                                                                                                                                                                                                        \n",
       "1056  PRON VERB ADP DET ADJ NOUN PROPN ADP VERB ADP DET NOUN ADP DET ADJ NOUN PUNCT PROPN PUNCT PUNCT DET ADJ NOUN PUNCT PROPN PUNCT CCONJ DET ADP DET NOUN ADP NOUN VERB PROPN PROPN PROPN PUNCT                                                                                                                       \n",
       "1133  DET ADJ NOUN VERB ADV VERB ADJ PUNCT DET NOUN VERB ADP DET ADJ NOUN VERB ADP AUX ADP DET NOUN PUNCT SCONJ DET NOUN NOUN DET ADJ PUNCT CCONJ ADJ ADV ADP PRON NOUN VERB NOUN ADP NOUN VERB PUNCT                                                                                                                   \n",
       "1211  PRON VERB DET NOUN ADP PRON ADP VERB PUNCT PUNCT                                                                                                                                                                                                                                                                  \n",
       "1218  PRON VERB DET NOUN ADP PRON ADP VERB PUNCT                                                                                                                                                                                                                                                                        \n",
       "1220  SCONJ PRON PRON VERB SCONJ PRON ADP ADJ NOUN ADJ ADP VERB VERB PUNCT VERB DET ADV NOUN SCONJ PRON DET ADJ PROPN AUX VERB ADP ADP DET PROPN ADV ADP VERB PUNCT                                                                                                                                                     \n",
       "1223  SCONJ PRON PRON VERB SCONJ PRON ADP ADJ NOUN ADJ ADP VERB VERB PUNCT VERB DET ADV NOUN SCONJ PRON DET ADJ PROPN AUX VERB ADP ADP DET PROPN ADV ADP VERB PUNCT                                                                                                                                                     \n",
       "1237  ADP DET NOUN ADP DET NOUN ADP PROPN NUM VERB PRON PUNCT PUNCT PRON VERB PRON ADV ADP ADP ADP ADJ VERB ADJ ADP VERB PUNCT                                                                                                                                                                                          \n",
       "1239  ADP NOUN ADP ADP NOUN ADP DET NOUN ADP VERB PUNCT AUX PRON ADV ADJ NOUN VERB PUNCT PUNCT                                                                                                                                                                                                                          \n",
       "1259  ADP PROPN NUM VERB PRON ADP PROPN ADP ADV ADJ CCONJ ADJ NOUN PUNCT SYM PUNCT NOUN PUNCT PUNCT ADP AUX VERB VERB ADP DET ADJ NOUN PROPN PROPN CCONJ VERB ADV NOUN ADP DET PROPN PUNCT                                                                                                                              \n",
       "1269  ADP DET NOUN ADP NOUN VERB ADP VERB PUNCT VERB PRON ADP NUM NOUN PUNCT PRON PRON ADV ADV ADV AUX ADP DET PROPN PROPN PUNCT                                                                                                                                                                                        \n",
       "1304  PROPN VERB DET ADJ VERB NOUN ADP DET NOUN PUNCT ADP DET ADJ PUNCT ADJ NOUN PUNCT PUNCT VERB PUNCT CCONJ DET NOUN PUNCT PRON ADJ PROPN AUX ADP DET NOUN NOUN PUNCT VERB ADV ADJ ADP AUX PUNCT                                                                                                                      \n",
       "1330  ADP PRON PRON ADJ NOUN ADP VERB PUNCT VERB PROPN DET NOUN PRON DET ADJ NOUN AUX VERB VERB PUNCT DET ADJ NOUN PUNCT                                                                                                                                                                                                \n",
       "1335  PROPN VERB DET NOUN ADP PRON NOUN CCONJ PRON VERB ADV ADP ADP VERB PUNCT ADJ NOUN ADV DET NOUN ADP NUM NOUN ADJ AUX PUNCT                                                                                                                                                                                         \n",
       "1337  PROPN VERB ADP DET ADJ NOUN VERB SCONJ PRON DET ADJ NOUN ADP DET NOUN ADP PROPN ADP PROPN ADP DET NOUN PUNCT PROPN PROPN PROPN PUNCT VERB ADP VERB PUNCT                                                                                                                                                          \n",
       "1346  PRON VERB ADV DET ADJ NOUN ADP AUX PUNCT CCONJ PRON VERB ADV ADV DET ADJ NOUN ADP VERB PUNCT                                                                                                                                                                                                                      \n",
       "1377  ADP ADP VERB ADP PRON ADJ NOUN VERB PRON PRON ADV ADP DET NOUN CCONJ VERB ADV PRON ADJ NOUN ADP PUNCT                                                                                                                                                                                                             \n",
       "1401  PROPN VERB NOUN ADP VERB ADP DET ADJ NOUN CCONJ ADV PRON ADJ NOUN ADP VERB PUNCT                                                                                                                                                                                                                                  \n",
       "1402  PROPN VERB NOUN ADP VERB ADP DET ADJ NOUN CCONJ ADV PRON ADJ NOUN ADP VERB PUNCT                                                                                                                                                                                                                                  \n",
       "1409  ADV ADP NUM VERB PROPN PUNCT ADV ADP PROPN PROPN PUNCT ADP PROPN ADP DET NOUN ADP PROPN ADJ ADP VERB VERB PUNCT                                                                                                                                                                                                   \n",
       "1447  DET NOUN AUX DET NOUN ADJ ADV ADV ADP ADP ADP DET PROPN PROPN PROPN VERB ADP AUX PUNCT                                                                                                                                                                                                                            \n",
       "1450  PROPN VERB ADP DET NOUN NOUN ADP VERB ADP NOUN ADP NUM CCONJ NUM SYM                                                                                                                                                                                                                                              \n",
       "1539  ADV VERB DET NOUN ADP PRON CCONJ DET NOUN PUNCT SCONJ PRON ADJ VERB NOUN VERB PUNCT SCONJ NOUN PUNCT NOUN PUNCT DET NOUN PUNCT NOUN CCONJ NOUN ADP DET NOUN ADP NOUN ADP VERB VERB PUNCT                                                                                                                          \n",
       "1591  PROPN NOUN PUNCT NOUN ADP NOUN CCONJ NOUN PUNCT VERB ADJ ADP DET NOUN ADP DET ADJ PROPN ADP DET PROPN PROPN ADP ADV NOUN ADP VERB PUNCT                                                                                                                                                                           \n",
       "1597  PRON AUX ADV DET NOUN ADV VERB CCONJ PUNCT ADP DET NOUN ADP DET ADJ ADJ ADJ NOUN PUNCT ADP PRON PRON ADV ADJ ADJ AUX PUNCT VERB PRON ADP VERB CCONJ VERB DET NOUN ADP DET NOUN PUNCT                                                                                                                              \n",
       "1622  DET NOUN AUX ADV ADJ VERB ADP NOUN PUNCT CCONJ PROPN AUX ADV VERB CCONJ DET NOUN VERB ADV NUM NOUN ADP PRON ADP VERB PUNCT PRON PRON ADV ADJ VERB PUNCT                                                                                                                                                           \n",
       "1642  PRON VERB DET NOUN SCONJ DET NOUN DET NOUN ADJ VERB ADP DET NOUN ADP ADP VERB PUNCT                                                                                                                                                                                                                               \n",
       "1644  ADP NUM PROPN NUM AUX DET NOUN ADP DET ADJ ADP DET NOUN ADP VERB PUNCT ADV AUX DET NOUN DET NOUN ADV VERB ADP PUNCT PROPN CCONJ PROPN PUNCT PUNCT                                                                                                                                                                 \n",
       "1653  PUNCT DET NOUN AUX PUNCT PUNCT PUNCT ADP NUM NOUN ADP ADP VERB PUNCT                                                                                                                                                                                                                                              \n",
       "1686  ADP DET NOUN DET NOUN VERB PRON ADP PROPN DET NOUN DET NOUN ADP ADP ADP ADV ADP VERB PUNCT                                                                                                                                                                                                                        \n",
       "1693  ADV ADJ NOUN AUX ADV PRON ADJ NOUN VERB ADP DET NOUN ADP PUNCT PROPN PROPN PUNCT ADP ADP VERB PUNCT                                                                                                                                                                                                               \n",
       "1707  ADV VERB DET NOUN VERB NOUN ADP VERB CCONJ VERB NOUN PUNCT                                                                                                                                                                                                                                                        \n",
       "1715  DET NOUN AUX ADV ADV NOUN ADP PRON NOUN ADP DET NOUN NUM CCONJ NUM PUNCT ADV VERB DET NOUN ADJ ADP ADP VERB PUNCT                                                                                                                                                                                                 \n",
       "1759  PROPN VERB ADV DET NOUN ADV CCONJ VERB ADV ADP ADP VERB SCONJ PRON DET NOUN AUX VERB PUNCT                                                                                                                                                                                                                        \n",
       "1775  PROPN VERB ADV DET DET NOUN NOUN ADP ADP DET NOUN DET NOUN ADP VERB PUNCT                                                                                                                                                                                                                                         \n",
       "1778  ADP NOUN PROPN PROPN VERB PRON DET NOUN DET NOUN PUNCT DET ADJ NOUN PUNCT ADP VERB PUNCT                                                                                                                                                                                                                          \n",
       "1806  ADP DET ADJ NOUN VERB ADV ADV DET ADJ NOUN CCONJ PROPN PROPN PROPN PRON ADV VERB ADP VERB PUNCT                                                                                                                                                                                                                   \n",
       "1846  ADJ ADP PUNCT PROPN PROPN PROPN PUNCT VERB PROPN ADV ADV ADP NOUN ADP NOUN ADP ADJ NOUN ADP VERB ADP DET NOUN CCONJ DET NOUN ADP DET NOUN PUNCT                                                                                                                                                                   \n",
       "1857  ADV VERB DET NOUN ADP NOUN CCONJ NOUN DET NOUN ADP ADJ NOUN ADP VERB VERB PUNCT                                                                                                                                                                                                                                   \n",
       "1936  SCONJ PRON ADV ADP DET NOUN VERB AUX VERB PRON CCONJ DET NOUN ADP DET NOUN VERB ADP NOUN ADP DET NOUN ADP ADV PRON ADP VERB VERB PUNCT                                                                                                                                                                            \n",
       "1954  PRON AUX ADJ ADJ ADV ADP ADP PRON NOUN NOUN ADP VERB PUNCT CCONJ SCONJ ADP DET NOUN NUM DET ADV ADJ CCONJ ADJ NOUN ADP DET PROPN PRON NOUN VERB AUX DET NOUN ADJ ADP DET NOUN PUNCT                                                                                                                               \n",
       "1957  PROPN VERB ADV NOUN ADP VERB ADP PRON VERB SCONJ NOUN ADV PRON ADP PRON AUX PUNCT                                                                                                                                                                                                                                 \n",
       "1960  ADP NOUN ADP DET ADJ NOUN PROPN VERB DET NOUN ADP DET NOUN DET NOUN DET NOUN ADP DET ADJ NOUN ADP DET NOUN ADP ADP VERB PUNCT                                                                                                                                                                                     \n",
       "1963  DET NOUN VERB PRON ADV ADJ SCONJ PRON VERB NOUN ADP VERB PUNCT                                                                                                                                                                                                                                                    \n",
       "1974  ADP PRON NOUN VERB PRON DET NOUN ADP NOUN ADP DET X CCONJ NOUN PUNCT CCONJ SCONJ PRON DET ADJ NOUN AUX VERB PRON ADP NOUN ADP DET NOUN ADP DET NOUN ADP VERB PUNCT                                                                                                                                                "
      ]
     },
     "execution_count": 25,
     "metadata": {},
     "output_type": "execute_result"
    }
   ],
   "source": [
    "mistakes_df[mistakes_df.token==\"te\"]"
   ]
  },
  {
   "cell_type": "code",
   "execution_count": null,
   "metadata": {
    "ExecuteTime": {
     "end_time": "2020-05-13T16:12:17.211356Z",
     "start_time": "2020-05-13T16:12:17.205353Z"
    }
   },
   "outputs": [],
   "source": []
  },
  {
   "cell_type": "code",
   "execution_count": 12,
   "metadata": {
    "ExecuteTime": {
     "end_time": "2020-05-14T12:51:05.474487Z",
     "start_time": "2020-05-14T12:50:55.259916Z"
    }
   },
   "outputs": [
    {
     "name": "stdout",
     "output_type": "stream",
     "text": [
      "te\n"
     ]
    },
    {
     "data": {
      "text/plain": [
       "ADP    143\n",
       "Name: actual, dtype: int64"
      ]
     },
     "metadata": {},
     "output_type": "display_data"
    },
    {
     "name": "stdout",
     "output_type": "stream",
     "text": [
      "defaultdict(<class 'int'>, {'ADP': 168, 'ADV': 9})\n",
      "niet\n"
     ]
    },
    {
     "data": {
      "text/plain": [
       "ADV    79\n",
       "Name: actual, dtype: int64"
      ]
     },
     "metadata": {},
     "output_type": "display_data"
    },
    {
     "name": "stdout",
     "output_type": "stream",
     "text": [
      "defaultdict(<class 'int'>, {'ADV': 101})\n",
      "er\n"
     ]
    },
    {
     "data": {
      "text/plain": [
       "ADV     50\n",
       "PRON    1 \n",
       "Name: actual, dtype: int64"
      ]
     },
     "metadata": {},
     "output_type": "display_data"
    },
    {
     "name": "stdout",
     "output_type": "stream",
     "text": [
      "defaultdict(<class 'int'>, {'ADV': 60, 'PRON': 5})\n",
      "om\n"
     ]
    },
    {
     "data": {
      "text/plain": [
       "ADP    43\n",
       "Name: actual, dtype: int64"
      ]
     },
     "metadata": {},
     "output_type": "display_data"
    },
    {
     "name": "stdout",
     "output_type": "stream",
     "text": [
      "defaultdict(<class 'int'>, {'ADP': 60})\n",
      "zijn\n"
     ]
    },
    {
     "data": {
      "text/plain": [
       "PRON    29\n",
       "VERB    1 \n",
       "DET     1 \n",
       "ADV     1 \n",
       "Name: actual, dtype: int64"
      ]
     },
     "metadata": {},
     "output_type": "display_data"
    },
    {
     "name": "stdout",
     "output_type": "stream",
     "text": [
      "defaultdict(<class 'int'>, {'PRON': 165, 'AUX': 58, 'VERB': 3, 'DET': 1, 'ADV': 1})\n",
      "en\n"
     ]
    },
    {
     "data": {
      "text/plain": [
       "PROPN    24\n",
       "CCONJ    2 \n",
       "Name: actual, dtype: int64"
      ]
     },
     "metadata": {},
     "output_type": "display_data"
    },
    {
     "name": "stdout",
     "output_type": "stream",
     "text": [
      "defaultdict(<class 'int'>, {'CCONJ': 440, 'PROPN': 24})\n",
      "meer\n"
     ]
    },
    {
     "data": {
      "text/plain": [
       "PRON    16\n",
       "DET     8 \n",
       "ADV     1 \n",
       "Name: actual, dtype: int64"
      ]
     },
     "metadata": {},
     "output_type": "display_data"
    },
    {
     "name": "stdout",
     "output_type": "stream",
     "text": [
      "defaultdict(<class 'int'>, {'PRON': 16, 'DET': 8, 'ADV': 27})\n",
      "werd\n"
     ]
    },
    {
     "data": {
      "text/plain": [
       "VERB    24\n",
       "Name: actual, dtype: int64"
      ]
     },
     "metadata": {},
     "output_type": "display_data"
    },
    {
     "name": "stdout",
     "output_type": "stream",
     "text": [
      "defaultdict(<class 'int'>, {'AUX': 57, 'VERB': 31})\n",
      "dan\n"
     ]
    },
    {
     "data": {
      "text/plain": [
       "SCONJ    22\n",
       "ADV      2 \n",
       "Name: actual, dtype: int64"
      ]
     },
     "metadata": {},
     "output_type": "display_data"
    },
    {
     "name": "stdout",
     "output_type": "stream",
     "text": [
      "defaultdict(<class 'int'>, {'SCONJ': 25, 'ADV': 26})\n",
      "later\n"
     ]
    },
    {
     "data": {
      "text/plain": [
       "ADJ    21\n",
       "Name: actual, dtype: int64"
      ]
     },
     "metadata": {},
     "output_type": "display_data"
    },
    {
     "name": "stdout",
     "output_type": "stream",
     "text": [
      "defaultdict(<class 'int'>, {'ADJ': 21})\n",
      "-\n"
     ]
    },
    {
     "data": {
      "text/plain": [
       "SYM    20\n",
       "Name: actual, dtype: int64"
      ]
     },
     "metadata": {},
     "output_type": "display_data"
    },
    {
     "name": "stdout",
     "output_type": "stream",
     "text": [
      "defaultdict(<class 'int'>, {'SYM': 35, 'PUNCT': 24})\n",
      "als\n"
     ]
    },
    {
     "data": {
      "text/plain": [
       "SCONJ    19\n",
       "Name: actual, dtype: int64"
      ]
     },
     "metadata": {},
     "output_type": "display_data"
    },
    {
     "name": "stdout",
     "output_type": "stream",
     "text": [
      "defaultdict(<class 'int'>, {'SCONJ': 27, 'ADP': 59})\n",
      "de\n"
     ]
    },
    {
     "data": {
      "text/plain": [
       "DET      17\n",
       "PROPN    1 \n",
       "Name: actual, dtype: int64"
      ]
     },
     "metadata": {},
     "output_type": "display_data"
    },
    {
     "name": "stdout",
     "output_type": "stream",
     "text": [
      "defaultdict(<class 'int'>, {'DET': 1057, 'PROPN': 11})\n",
      "De\n"
     ]
    },
    {
     "data": {
      "text/plain": [
       "DET      14\n",
       "PROPN    3 \n",
       "Name: actual, dtype: int64"
      ]
     },
     "metadata": {},
     "output_type": "display_data"
    },
    {
     "name": "stdout",
     "output_type": "stream",
     "text": [
      "defaultdict(<class 'int'>, {'DET': 253, 'PROPN': 23})\n",
      "was\n"
     ]
    },
    {
     "data": {
      "text/plain": [
       "VERB    10\n",
       "AUX     4 \n",
       "Name: actual, dtype: int64"
      ]
     },
     "metadata": {},
     "output_type": "display_data"
    },
    {
     "name": "stdout",
     "output_type": "stream",
     "text": [
      "defaultdict(<class 'int'>, {'AUX': 148, 'VERB': 17})\n",
      "enkele\n"
     ]
    },
    {
     "data": {
      "text/plain": [
       "DET    13\n",
       "Name: actual, dtype: int64"
      ]
     },
     "metadata": {},
     "output_type": "display_data"
    },
    {
     "name": "stdout",
     "output_type": "stream",
     "text": [
      "defaultdict(<class 'int'>, {'DET': 14, 'PRON': 1})\n",
      "voor\n"
     ]
    },
    {
     "data": {
      "text/plain": [
       "ADP      9\n",
       "PROPN    3\n",
       "Name: actual, dtype: int64"
      ]
     },
     "metadata": {},
     "output_type": "display_data"
    },
    {
     "name": "stdout",
     "output_type": "stream",
     "text": [
      "defaultdict(<class 'int'>, {'ADP': 170, 'PROPN': 3})\n",
      "heel\n"
     ]
    },
    {
     "data": {
      "text/plain": [
       "ADJ    12\n",
       "Name: actual, dtype: int64"
      ]
     },
     "metadata": {},
     "output_type": "display_data"
    },
    {
     "name": "stdout",
     "output_type": "stream",
     "text": [
      "defaultdict(<class 'int'>, {'ADJ': 12})\n",
      "veel\n"
     ]
    },
    {
     "data": {
      "text/plain": [
       "DET     7\n",
       "PRON    4\n",
       "Name: actual, dtype: int64"
      ]
     },
     "metadata": {},
     "output_type": "display_data"
    },
    {
     "name": "stdout",
     "output_type": "stream",
     "text": [
      "defaultdict(<class 'int'>, {'ADV': 5, 'DET': 7, 'PRON': 4})\n",
      "zoals\n"
     ]
    },
    {
     "data": {
      "text/plain": [
       "SCONJ    11\n",
       "Name: actual, dtype: int64"
      ]
     },
     "metadata": {},
     "output_type": "display_data"
    },
    {
     "name": "stdout",
     "output_type": "stream",
     "text": [
      "defaultdict(<class 'int'>, {'SCONJ': 17})\n",
      "vaak\n"
     ]
    },
    {
     "data": {
      "text/plain": [
       "ADJ    11\n",
       "Name: actual, dtype: int64"
      ]
     },
     "metadata": {},
     "output_type": "display_data"
    },
    {
     "name": "stdout",
     "output_type": "stream",
     "text": [
      "defaultdict(<class 'int'>, {'ADJ': 11})\n",
      "is\n"
     ]
    },
    {
     "data": {
      "text/plain": [
       "VERB    9\n",
       "AUX     1\n",
       "Name: actual, dtype: int64"
      ]
     },
     "metadata": {},
     "output_type": "display_data"
    },
    {
     "name": "stdout",
     "output_type": "stream",
     "text": [
      "defaultdict(<class 'int'>, {'AUX': 150, 'VERB': 13})\n",
      "uit\n"
     ]
    },
    {
     "data": {
      "text/plain": [
       "ADP    9\n",
       "Name: actual, dtype: int64"
      ]
     },
     "metadata": {},
     "output_type": "display_data"
    },
    {
     "name": "stdout",
     "output_type": "stream",
     "text": [
      "defaultdict(<class 'int'>, {'ADP': 84})\n",
      "door\n"
     ]
    },
    {
     "data": {
      "text/plain": [
       "ADP    9\n",
       "Name: actual, dtype: int64"
      ]
     },
     "metadata": {},
     "output_type": "display_data"
    },
    {
     "name": "stdout",
     "output_type": "stream",
     "text": [
      "defaultdict(<class 'int'>, {'ADP': 78})\n",
      "een\n"
     ]
    },
    {
     "data": {
      "text/plain": [
       "NUM    8\n",
       "DET    1\n",
       "Name: actual, dtype: int64"
      ]
     },
     "metadata": {},
     "output_type": "display_data"
    },
    {
     "name": "stdout",
     "output_type": "stream",
     "text": [
      "defaultdict(<class 'int'>, {'DET': 407, 'NUM': 13})\n",
      "gisteren\n"
     ]
    },
    {
     "data": {
      "text/plain": [
       "ADV    9\n",
       "Name: actual, dtype: int64"
      ]
     },
     "metadata": {},
     "output_type": "display_data"
    },
    {
     "name": "stdout",
     "output_type": "stream",
     "text": [
      "defaultdict(<class 'int'>, {'ADV': 14})\n",
      "waar\n"
     ]
    },
    {
     "data": {
      "text/plain": [
       "ADV    7\n",
       "ADJ    1\n",
       "Name: actual, dtype: int64"
      ]
     },
     "metadata": {},
     "output_type": "display_data"
    },
    {
     "name": "stdout",
     "output_type": "stream",
     "text": [
      "defaultdict(<class 'int'>, {'ADV': 18, 'ADJ': 3})\n",
      "miljoen\n"
     ]
    },
    {
     "data": {
      "text/plain": [
       "NOUN    8\n",
       "Name: actual, dtype: int64"
      ]
     },
     "metadata": {},
     "output_type": "display_data"
    },
    {
     "name": "stdout",
     "output_type": "stream",
     "text": [
      "defaultdict(<class 'int'>, {'NOUN': 8})\n",
      "af\n"
     ]
    },
    {
     "data": {
      "text/plain": [
       "ADP    8\n",
       "Name: actual, dtype: int64"
      ]
     },
     "metadata": {},
     "output_type": "display_data"
    },
    {
     "name": "stdout",
     "output_type": "stream",
     "text": [
      "defaultdict(<class 'int'>, {'ADP': 16})\n",
      "waarmee\n"
     ]
    },
    {
     "data": {
      "text/plain": [
       "ADV    8\n",
       "Name: actual, dtype: int64"
      ]
     },
     "metadata": {},
     "output_type": "display_data"
    },
    {
     "name": "stdout",
     "output_type": "stream",
     "text": [
      "defaultdict(<class 'int'>, {'ADV': 8})\n",
      "wat\n"
     ]
    },
    {
     "data": {
      "text/plain": [
       "PRON    6\n",
       "DET     1\n",
       "ADV     1\n",
       "Name: actual, dtype: int64"
      ]
     },
     "metadata": {},
     "output_type": "display_data"
    },
    {
     "name": "stdout",
     "output_type": "stream",
     "text": [
      "defaultdict(<class 'int'>, {'DET': 3, 'PRON': 24, 'ADV': 1})\n",
      "Vlaams\n"
     ]
    },
    {
     "data": {
      "text/plain": [
       "ADJ      4\n",
       "PROPN    4\n",
       "Name: actual, dtype: int64"
      ]
     },
     "metadata": {},
     "output_type": "display_data"
    },
    {
     "name": "stdout",
     "output_type": "stream",
     "text": [
      "defaultdict(<class 'int'>, {'ADJ': 12, 'PROPN': 30})\n",
      "in\n"
     ]
    },
    {
     "data": {
      "text/plain": [
       "ADP    7\n",
       "Name: actual, dtype: int64"
      ]
     },
     "metadata": {},
     "output_type": "display_data"
    },
    {
     "name": "stdout",
     "output_type": "stream",
     "text": [
      "defaultdict(<class 'int'>, {'ADP': 507})\n",
      "al\n"
     ]
    },
    {
     "data": {
      "text/plain": [
       "ADV    6\n",
       "DET    1\n",
       "Name: actual, dtype: int64"
      ]
     },
     "metadata": {},
     "output_type": "display_data"
    },
    {
     "name": "stdout",
     "output_type": "stream",
     "text": [
      "defaultdict(<class 'int'>, {'ADV': 43, 'DET': 3})\n",
      "Er\n"
     ]
    },
    {
     "data": {
      "text/plain": [
       "ADV    7\n",
       "Name: actual, dtype: int64"
      ]
     },
     "metadata": {},
     "output_type": "display_data"
    },
    {
     "name": "stdout",
     "output_type": "stream",
     "text": [
      "defaultdict(<class 'int'>, {'ADV': 7})\n",
      "rk\n"
     ]
    },
    {
     "data": {
      "text/plain": [
       "ADJ    7\n",
       "Name: actual, dtype: int64"
      ]
     },
     "metadata": {},
     "output_type": "display_data"
    },
    {
     "name": "stdout",
     "output_type": "stream",
     "text": [
      "defaultdict(<class 'int'>, {'ADJ': 7})\n",
      "toe\n"
     ]
    },
    {
     "data": {
      "text/plain": [
       "ADP    7\n",
       "Name: actual, dtype: int64"
      ]
     },
     "metadata": {},
     "output_type": "display_data"
    },
    {
     "name": "stdout",
     "output_type": "stream",
     "text": [
      "defaultdict(<class 'int'>, {'ADP': 7})\n",
      "waarin\n"
     ]
    },
    {
     "data": {
      "text/plain": [
       "ADV    7\n",
       "Name: actual, dtype: int64"
      ]
     },
     "metadata": {},
     "output_type": "display_data"
    },
    {
     "name": "stdout",
     "output_type": "stream",
     "text": [
      "defaultdict(<class 'int'>, {'ADV': 7})\n",
      "km\n"
     ]
    },
    {
     "data": {
      "text/plain": [
       "SYM    6\n",
       "Name: actual, dtype: int64"
      ]
     },
     "metadata": {},
     "output_type": "display_data"
    },
    {
     "name": "stdout",
     "output_type": "stream",
     "text": [
      "defaultdict(<class 'int'>, {'SYM': 6})\n",
      "gistermiddag\n"
     ]
    },
    {
     "data": {
      "text/plain": [
       "ADV    6\n",
       "Name: actual, dtype: int64"
      ]
     },
     "metadata": {},
     "output_type": "display_data"
    },
    {
     "name": "stdout",
     "output_type": "stream",
     "text": [
      "defaultdict(<class 'int'>, {'ADV': 6})\n",
      "mee\n"
     ]
    },
    {
     "data": {
      "text/plain": [
       "ADP    6\n",
       "Name: actual, dtype: int64"
      ]
     },
     "metadata": {},
     "output_type": "display_data"
    },
    {
     "name": "stdout",
     "output_type": "stream",
     "text": [
      "defaultdict(<class 'int'>, {'ADP': 9})\n",
      "lang\n"
     ]
    },
    {
     "data": {
      "text/plain": [
       "ADJ    6\n",
       "Name: actual, dtype: int64"
      ]
     },
     "metadata": {},
     "output_type": "display_data"
    },
    {
     "name": "stdout",
     "output_type": "stream",
     "text": [
      "defaultdict(<class 'int'>, {'ADJ': 8})\n",
      "van\n"
     ]
    },
    {
     "data": {
      "text/plain": [
       "ADP      5\n",
       "PROPN    1\n",
       "Name: actual, dtype: int64"
      ]
     },
     "metadata": {},
     "output_type": "display_data"
    },
    {
     "name": "stdout",
     "output_type": "stream",
     "text": [
      "defaultdict(<class 'int'>, {'ADP': 564, 'PROPN': 13})\n",
      "Uitgeverij\n"
     ]
    },
    {
     "data": {
      "text/plain": [
       "NOUN     3\n",
       "PROPN    3\n",
       "Name: actual, dtype: int64"
      ]
     },
     "metadata": {},
     "output_type": "display_data"
    },
    {
     "name": "stdout",
     "output_type": "stream",
     "text": [
      "defaultdict(<class 'int'>, {'PROPN': 6, 'NOUN': 3})\n",
      "afgelopen\n"
     ]
    },
    {
     "data": {
      "text/plain": [
       "VERB    6\n",
       "Name: actual, dtype: int64"
      ]
     },
     "metadata": {},
     "output_type": "display_data"
    },
    {
     "name": "stdout",
     "output_type": "stream",
     "text": [
      "defaultdict(<class 'int'>, {'VERB': 6})\n",
      "eerder\n"
     ]
    },
    {
     "data": {
      "text/plain": [
       "ADJ    6\n",
       "Name: actual, dtype: int64"
      ]
     },
     "metadata": {},
     "output_type": "display_data"
    },
    {
     "name": "stdout",
     "output_type": "stream",
     "text": [
      "defaultdict(<class 'int'>, {'ADJ': 6})\n",
      "zelf\n"
     ]
    },
    {
     "data": {
      "text/plain": [
       "ADV    6\n",
       "Name: actual, dtype: int64"
      ]
     },
     "metadata": {},
     "output_type": "display_data"
    },
    {
     "name": "stdout",
     "output_type": "stream",
     "text": [
      "defaultdict(<class 'int'>, {'ADV': 10})\n",
      "Vlaamse\n"
     ]
    },
    {
     "data": {
      "text/plain": [
       "ADJ    6\n",
       "Name: actual, dtype: int64"
      ]
     },
     "metadata": {},
     "output_type": "display_data"
    },
    {
     "name": "stdout",
     "output_type": "stream",
     "text": [
      "defaultdict(<class 'int'>, {'ADJ': 23})\n",
      "verder\n"
     ]
    },
    {
     "data": {
      "text/plain": [
       "ADJ    6\n",
       "Name: actual, dtype: int64"
      ]
     },
     "metadata": {},
     "output_type": "display_data"
    },
    {
     "name": "stdout",
     "output_type": "stream",
     "text": [
      "defaultdict(<class 'int'>, {'ADJ': 6})\n",
      "enige\n"
     ]
    },
    {
     "data": {
      "text/plain": [
       "PRON    5\n",
       "DET     1\n",
       "Name: actual, dtype: int64"
      ]
     },
     "metadata": {},
     "output_type": "display_data"
    },
    {
     "name": "stdout",
     "output_type": "stream",
     "text": [
      "defaultdict(<class 'int'>, {'PRON': 5, 'DET': 1})\n",
      "onder\n"
     ]
    },
    {
     "data": {
      "text/plain": [
       "ADP    6\n",
       "Name: actual, dtype: int64"
      ]
     },
     "metadata": {},
     "output_type": "display_data"
    },
    {
     "name": "stdout",
     "output_type": "stream",
     "text": [
      "defaultdict(<class 'int'>, {'ADP': 26})\n",
      "F1\n"
     ]
    },
    {
     "data": {
      "text/plain": [
       "NOUN    5\n",
       "Name: actual, dtype: int64"
      ]
     },
     "metadata": {},
     "output_type": "display_data"
    },
    {
     "name": "stdout",
     "output_type": "stream",
     "text": [
      "defaultdict(<class 'int'>, {'NOUN': 5})\n",
      "uiteindelijk\n"
     ]
    },
    {
     "data": {
      "text/plain": [
       "ADJ    5\n",
       "Name: actual, dtype: int64"
      ]
     },
     "metadata": {},
     "output_type": "display_data"
    },
    {
     "name": "stdout",
     "output_type": "stream",
     "text": [
      "defaultdict(<class 'int'>, {'ADJ': 5})\n",
      "Schone\n"
     ]
    },
    {
     "data": {
      "text/plain": [
       "ADJ    5\n",
       "Name: actual, dtype: int64"
      ]
     },
     "metadata": {},
     "output_type": "display_data"
    },
    {
     "name": "stdout",
     "output_type": "stream",
     "text": [
      "defaultdict(<class 'int'>, {'ADJ': 5, 'PROPN': 3})\n",
      "Zoo\n"
     ]
    },
    {
     "data": {
      "text/plain": [
       "ADV    5\n",
       "Name: actual, dtype: int64"
      ]
     },
     "metadata": {},
     "output_type": "display_data"
    },
    {
     "name": "stdout",
     "output_type": "stream",
     "text": [
      "defaultdict(<class 'int'>, {'ADV': 5, 'PROPN': 1})\n",
      "Antwerpse\n"
     ]
    },
    {
     "data": {
      "text/plain": [
       "ADJ    5\n",
       "Name: actual, dtype: int64"
      ]
     },
     "metadata": {},
     "output_type": "display_data"
    },
    {
     "name": "stdout",
     "output_type": "stream",
     "text": [
      "defaultdict(<class 'int'>, {'ADJ': 7})\n",
      "beter\n"
     ]
    },
    {
     "data": {
      "text/plain": [
       "ADJ    5\n",
       "Name: actual, dtype: int64"
      ]
     },
     "metadata": {},
     "output_type": "display_data"
    },
    {
     "name": "stdout",
     "output_type": "stream",
     "text": [
      "defaultdict(<class 'int'>, {'ADJ': 7})\n",
      "of\n"
     ]
    },
    {
     "data": {
      "text/plain": [
       "PROPN    3\n",
       "SCONJ    1\n",
       "X        1\n",
       "Name: actual, dtype: int64"
      ]
     },
     "metadata": {},
     "output_type": "display_data"
    },
    {
     "name": "stdout",
     "output_type": "stream",
     "text": [
      "defaultdict(<class 'int'>, {'SCONJ': 8, 'CCONJ': 19, 'PROPN': 3, 'X': 1})\n",
      "waarvan\n"
     ]
    },
    {
     "data": {
      "text/plain": [
       "ADV    5\n",
       "Name: actual, dtype: int64"
      ]
     },
     "metadata": {},
     "output_type": "display_data"
    },
    {
     "name": "stdout",
     "output_type": "stream",
     "text": [
      "defaultdict(<class 'int'>, {'ADV': 5})\n",
      "eerst\n"
     ]
    },
    {
     "data": {
      "text/plain": [
       "ADJ    5\n",
       "Name: actual, dtype: int64"
      ]
     },
     "metadata": {},
     "output_type": "display_data"
    },
    {
     "name": "stdout",
     "output_type": "stream",
     "text": [
      "defaultdict(<class 'int'>, {'ADJ': 14, 'ADV': 5})\n",
      "erg\n"
     ]
    },
    {
     "data": {
      "text/plain": [
       "ADJ    5\n",
       "Name: actual, dtype: int64"
      ]
     },
     "metadata": {},
     "output_type": "display_data"
    },
    {
     "name": "stdout",
     "output_type": "stream",
     "text": [
      "defaultdict(<class 'int'>, {'ADJ': 5})\n",
      "Kunsten\n"
     ]
    },
    {
     "data": {
      "text/plain": [
       "NOUN    5\n",
       "Name: actual, dtype: int64"
      ]
     },
     "metadata": {},
     "output_type": "display_data"
    },
    {
     "name": "stdout",
     "output_type": "stream",
     "text": [
      "defaultdict(<class 'int'>, {'NOUN': 5, 'PROPN': 3})\n",
      ",\n"
     ]
    },
    {
     "data": {
      "text/plain": [
       "SYM    5\n",
       "Name: actual, dtype: int64"
      ]
     },
     "metadata": {},
     "output_type": "display_data"
    },
    {
     "name": "stdout",
     "output_type": "stream",
     "text": [
      "defaultdict(<class 'int'>, {'PUNCT': 797, 'SYM': 5})\n",
      "wordt\n"
     ]
    },
    {
     "data": {
      "text/plain": [
       "VERB    5\n",
       "Name: actual, dtype: int64"
      ]
     },
     "metadata": {},
     "output_type": "display_data"
    },
    {
     "name": "stdout",
     "output_type": "stream",
     "text": [
      "defaultdict(<class 'int'>, {'VERB': 6, 'AUX': 21})\n",
      "geweest\n"
     ]
    },
    {
     "data": {
      "text/plain": [
       "AUX    5\n",
       "Name: actual, dtype: int64"
      ]
     },
     "metadata": {},
     "output_type": "display_data"
    },
    {
     "name": "stdout",
     "output_type": "stream",
     "text": [
      "defaultdict(<class 'int'>, {'AUX': 9})\n",
      "vandaag\n"
     ]
    },
    {
     "data": {
      "text/plain": [
       "ADV    5\n",
       "Name: actual, dtype: int64"
      ]
     },
     "metadata": {},
     "output_type": "display_data"
    },
    {
     "name": "stdout",
     "output_type": "stream",
     "text": [
      "defaultdict(<class 'int'>, {'ADV': 5})\n",
      "Veel\n"
     ]
    },
    {
     "data": {
      "text/plain": [
       "PRON    3\n",
       "DET     2\n",
       "Name: actual, dtype: int64"
      ]
     },
     "metadata": {},
     "output_type": "display_data"
    },
    {
     "name": "stdout",
     "output_type": "stream",
     "text": [
      "defaultdict(<class 'int'>, {'DET': 2, 'PRON': 3})\n",
      "daar\n"
     ]
    },
    {
     "data": {
      "text/plain": [
       "ADV    5\n",
       "Name: actual, dtype: int64"
      ]
     },
     "metadata": {},
     "output_type": "display_data"
    },
    {
     "name": "stdout",
     "output_type": "stream",
     "text": [
      "defaultdict(<class 'int'>, {'ADV': 8})\n",
      "totaal\n"
     ]
    },
    {
     "data": {
      "text/plain": [
       "NOUN    3\n",
       "ADJ     1\n",
       "Name: actual, dtype: int64"
      ]
     },
     "metadata": {},
     "output_type": "display_data"
    },
    {
     "name": "stdout",
     "output_type": "stream",
     "text": [
      "defaultdict(<class 'int'>, {'NOUN': 3, 'ADJ': 1})\n",
      "meerdere\n"
     ]
    },
    {
     "data": {
      "text/plain": [
       "DET    4\n",
       "Name: actual, dtype: int64"
      ]
     },
     "metadata": {},
     "output_type": "display_data"
    },
    {
     "name": "stdout",
     "output_type": "stream",
     "text": [
      "defaultdict(<class 'int'>, {'DET': 4, 'ADJ': 1})\n",
      "waarbij\n"
     ]
    },
    {
     "data": {
      "text/plain": [
       "ADV    4\n",
       "Name: actual, dtype: int64"
      ]
     },
     "metadata": {},
     "output_type": "display_data"
    },
    {
     "name": "stdout",
     "output_type": "stream",
     "text": [
      "defaultdict(<class 'int'>, {'ADV': 4})\n",
      ")\n"
     ]
    },
    {
     "data": {
      "text/plain": [
       "SYM    4\n",
       "Name: actual, dtype: int64"
      ]
     },
     "metadata": {},
     "output_type": "display_data"
    },
    {
     "name": "stdout",
     "output_type": "stream",
     "text": [
      "defaultdict(<class 'int'>, {'PUNCT': 186, 'SYM': 4})\n",
      "La\n"
     ]
    },
    {
     "data": {
      "text/plain": [
       "PROPN    4\n",
       "Name: actual, dtype: int64"
      ]
     },
     "metadata": {},
     "output_type": "display_data"
    },
    {
     "name": "stdout",
     "output_type": "stream",
     "text": [
      "defaultdict(<class 'int'>, {'PROPN': 6})\n",
      "Suske\n"
     ]
    },
    {
     "data": {
      "text/plain": [
       "PROPN    4\n",
       "Name: actual, dtype: int64"
      ]
     },
     "metadata": {},
     "output_type": "display_data"
    },
    {
     "name": "stdout",
     "output_type": "stream",
     "text": [
      "defaultdict(<class 'int'>, {'PROPN': 25})\n",
      "hetzelfde\n"
     ]
    },
    {
     "data": {
      "text/plain": [
       "DET    4\n",
       "Name: actual, dtype: int64"
      ]
     },
     "metadata": {},
     "output_type": "display_data"
    },
    {
     "name": "stdout",
     "output_type": "stream",
     "text": [
      "defaultdict(<class 'int'>, {'DET': 5, 'ADJ': 1})\n",
      "gewoon\n"
     ]
    },
    {
     "data": {
      "text/plain": [
       "ADJ    4\n",
       "Name: actual, dtype: int64"
      ]
     },
     "metadata": {},
     "output_type": "display_data"
    },
    {
     "name": "stdout",
     "output_type": "stream",
     "text": [
      "defaultdict(<class 'int'>, {'ADJ': 4})\n",
      "Ridder\n"
     ]
    },
    {
     "data": {
      "text/plain": [
       "NOUN    4\n",
       "Name: actual, dtype: int64"
      ]
     },
     "metadata": {},
     "output_type": "display_data"
    },
    {
     "name": "stdout",
     "output_type": "stream",
     "text": [
      "defaultdict(<class 'int'>, {'NOUN': 4, 'PROPN': 1})\n",
      "wilde\n"
     ]
    },
    {
     "data": {
      "text/plain": [
       "VERB    4\n",
       "Name: actual, dtype: int64"
      ]
     },
     "metadata": {},
     "output_type": "display_data"
    },
    {
     "name": "stdout",
     "output_type": "stream",
     "text": [
      "defaultdict(<class 'int'>, {'VERB': 4})\n",
      "samen\n"
     ]
    },
    {
     "data": {
      "text/plain": [
       "ADV    4\n",
       "Name: actual, dtype: int64"
      ]
     },
     "metadata": {},
     "output_type": "display_data"
    },
    {
     "name": "stdout",
     "output_type": "stream",
     "text": [
      "defaultdict(<class 'int'>, {'ADV': 7})\n",
      "het\n"
     ]
    },
    {
     "data": {
      "text/plain": [
       "DET    4\n",
       "Name: actual, dtype: int64"
      ]
     },
     "metadata": {},
     "output_type": "display_data"
    },
    {
     "name": "stdout",
     "output_type": "stream",
     "text": [
      "defaultdict(<class 'int'>, {'DET': 464, 'PRON': 54})\n",
      "waarna\n"
     ]
    },
    {
     "data": {
      "text/plain": [
       "ADV    4\n",
       "Name: actual, dtype: int64"
      ]
     },
     "metadata": {},
     "output_type": "display_data"
    },
    {
     "name": "stdout",
     "output_type": "stream",
     "text": [
      "defaultdict(<class 'int'>, {'ADV': 4})\n",
      "mogelijk\n"
     ]
    },
    {
     "data": {
      "text/plain": [
       "ADJ    4\n",
       "Name: actual, dtype: int64"
      ]
     },
     "metadata": {},
     "output_type": "display_data"
    },
    {
     "name": "stdout",
     "output_type": "stream",
     "text": [
      "defaultdict(<class 'int'>, {'ADJ': 4})\n",
      "op\n"
     ]
    },
    {
     "data": {
      "text/plain": [
       "ADP      3\n",
       "PROPN    1\n",
       "Name: actual, dtype: int64"
      ]
     },
     "metadata": {},
     "output_type": "display_data"
    },
    {
     "name": "stdout",
     "output_type": "stream",
     "text": [
      "defaultdict(<class 'int'>, {'ADP': 209, 'PROPN': 1})\n",
      "Tweede\n"
     ]
    },
    {
     "data": {
      "text/plain": [
       "PROPN    3\n",
       "ADJ      1\n",
       "Name: actual, dtype: int64"
      ]
     },
     "metadata": {},
     "output_type": "display_data"
    },
    {
     "name": "stdout",
     "output_type": "stream",
     "text": [
      "defaultdict(<class 'int'>, {'ADJ': 1, 'PROPN': 4})\n",
      "halverwege\n"
     ]
    },
    {
     "data": {
      "text/plain": [
       "ADP    4\n",
       "Name: actual, dtype: int64"
      ]
     },
     "metadata": {},
     "output_type": "display_data"
    },
    {
     "name": "stdout",
     "output_type": "stream",
     "text": [
      "defaultdict(<class 'int'>, {'ADP': 4, 'ADV': 2})\n",
      "paar\n"
     ]
    },
    {
     "data": {
      "text/plain": [
       "NOUN    4\n",
       "Name: actual, dtype: int64"
      ]
     },
     "metadata": {},
     "output_type": "display_data"
    },
    {
     "name": "stdout",
     "output_type": "stream",
     "text": [
      "defaultdict(<class 'int'>, {'NOUN': 4})\n",
      "anderen\n"
     ]
    },
    {
     "data": {
      "text/plain": [
       "ADJ    4\n",
       "Name: actual, dtype: int64"
      ]
     },
     "metadata": {},
     "output_type": "display_data"
    },
    {
     "name": "stdout",
     "output_type": "stream",
     "text": [
      "defaultdict(<class 'int'>, {'ADJ': 5})\n",
      "o.a.\n"
     ]
    },
    {
     "data": {
      "text/plain": [
       "X    4\n",
       "Name: actual, dtype: int64"
      ]
     },
     "metadata": {},
     "output_type": "display_data"
    },
    {
     "name": "stdout",
     "output_type": "stream",
     "text": [
      "defaultdict(<class 'int'>, {'X': 4})\n",
      "(\n"
     ]
    },
    {
     "data": {
      "text/plain": [
       "SYM    4\n",
       "Name: actual, dtype: int64"
      ]
     },
     "metadata": {},
     "output_type": "display_data"
    },
    {
     "name": "stdout",
     "output_type": "stream",
     "text": [
      "defaultdict(<class 'int'>, {'PUNCT': 186, 'SYM': 4})\n",
      "juist\n"
     ]
    },
    {
     "data": {
      "text/plain": [
       "ADJ    4\n",
       "Name: actual, dtype: int64"
      ]
     },
     "metadata": {},
     "output_type": "display_data"
    },
    {
     "name": "stdout",
     "output_type": "stream",
     "text": [
      "defaultdict(<class 'int'>, {'ADJ': 4})\n",
      "werden\n"
     ]
    },
    {
     "data": {
      "text/plain": [
       "VERB    4\n",
       "Name: actual, dtype: int64"
      ]
     },
     "metadata": {},
     "output_type": "display_data"
    },
    {
     "name": "stdout",
     "output_type": "stream",
     "text": [
      "defaultdict(<class 'int'>, {'AUX': 22, 'VERB': 4})\n",
      "Rode\n"
     ]
    },
    {
     "data": {
      "text/plain": [
       "ADJ    4\n",
       "Name: actual, dtype: int64"
      ]
     },
     "metadata": {},
     "output_type": "display_data"
    },
    {
     "name": "stdout",
     "output_type": "stream",
     "text": [
      "defaultdict(<class 'int'>, {'ADJ': 4})\n",
      "regelmatig\n"
     ]
    },
    {
     "data": {
      "text/plain": [
       "ADJ    4\n",
       "Name: actual, dtype: int64"
      ]
     },
     "metadata": {},
     "output_type": "display_data"
    },
    {
     "name": "stdout",
     "output_type": "stream",
     "text": [
      "defaultdict(<class 'int'>, {'ADJ': 4})\n",
      "betrokken\n"
     ]
    },
    {
     "data": {
      "text/plain": [
       "VERB    3\n",
       "Name: actual, dtype: int64"
      ]
     },
     "metadata": {},
     "output_type": "display_data"
    },
    {
     "name": "stdout",
     "output_type": "stream",
     "text": [
      "defaultdict(<class 'int'>, {'VERB': 4})\n",
      "sterk\n"
     ]
    },
    {
     "data": {
      "text/plain": [
       "ADJ    3\n",
       "Name: actual, dtype: int64"
      ]
     },
     "metadata": {},
     "output_type": "display_data"
    },
    {
     "name": "stdout",
     "output_type": "stream",
     "text": [
      "defaultdict(<class 'int'>, {'ADJ': 3})\n",
      "Zeker\n"
     ]
    },
    {
     "data": {
      "text/plain": [
       "ADJ    3\n",
       "Name: actual, dtype: int64"
      ]
     },
     "metadata": {},
     "output_type": "display_data"
    },
    {
     "name": "stdout",
     "output_type": "stream",
     "text": [
      "defaultdict(<class 'int'>, {'ADJ': 3})\n",
      "komende\n"
     ]
    },
    {
     "data": {
      "text/plain": [
       "VERB    3\n",
       "Name: actual, dtype: int64"
      ]
     },
     "metadata": {},
     "output_type": "display_data"
    },
    {
     "name": "stdout",
     "output_type": "stream",
     "text": [
      "defaultdict(<class 'int'>, {'VERB': 3})\n",
      "aan\n"
     ]
    },
    {
     "data": {
      "text/plain": [
       "ADP    3\n",
       "Name: actual, dtype: int64"
      ]
     },
     "metadata": {},
     "output_type": "display_data"
    },
    {
     "name": "stdout",
     "output_type": "stream",
     "text": [
      "defaultdict(<class 'int'>, {'ADP': 97})\n",
      "dat\n"
     ]
    },
    {
     "data": {
      "text/plain": [
       "SCONJ    2\n",
       "PRON     1\n",
       "Name: actual, dtype: int64"
      ]
     },
     "metadata": {},
     "output_type": "display_data"
    },
    {
     "name": "stdout",
     "output_type": "stream",
     "text": [
      "defaultdict(<class 'int'>, {'SCONJ': 94, 'PRON': 42, 'DET': 9})\n",
      "neer\n"
     ]
    },
    {
     "data": {
      "text/plain": [
       "ADP    3\n",
       "Name: actual, dtype: int64"
      ]
     },
     "metadata": {},
     "output_type": "display_data"
    },
    {
     "name": "stdout",
     "output_type": "stream",
     "text": [
      "defaultdict(<class 'int'>, {'ADP': 3})\n",
      "na\n"
     ]
    },
    {
     "data": {
      "text/plain": [
       "ADP    3\n",
       "Name: actual, dtype: int64"
      ]
     },
     "metadata": {},
     "output_type": "display_data"
    },
    {
     "name": "stdout",
     "output_type": "stream",
     "text": [
      "defaultdict(<class 'int'>, {'ADP': 49})\n",
      "aldus\n"
     ]
    },
    {
     "data": {
      "text/plain": [
       "ADV    3\n",
       "Name: actual, dtype: int64"
      ]
     },
     "metadata": {},
     "output_type": "display_data"
    },
    {
     "name": "stdout",
     "output_type": "stream",
     "text": [
      "defaultdict(<class 'int'>, {'ADV': 3})\n",
      "echt\n"
     ]
    },
    {
     "data": {
      "text/plain": [
       "ADJ    3\n",
       "Name: actual, dtype: int64"
      ]
     },
     "metadata": {},
     "output_type": "display_data"
    },
    {
     "name": "stdout",
     "output_type": "stream",
     "text": [
      "defaultdict(<class 'int'>, {'ADJ': 3})\n",
      "ruim\n"
     ]
    },
    {
     "data": {
      "text/plain": [
       "ADJ    3\n",
       "Name: actual, dtype: int64"
      ]
     },
     "metadata": {},
     "output_type": "display_data"
    },
    {
     "name": "stdout",
     "output_type": "stream",
     "text": [
      "defaultdict(<class 'int'>, {'ADJ': 3})\n",
      "wil\n"
     ]
    },
    {
     "data": {
      "text/plain": [
       "VERB    3\n",
       "Name: actual, dtype: int64"
      ]
     },
     "metadata": {},
     "output_type": "display_data"
    },
    {
     "name": "stdout",
     "output_type": "stream",
     "text": [
      "defaultdict(<class 'int'>, {'VERB': 9})\n",
      "met\n"
     ]
    },
    {
     "data": {
      "text/plain": [
       "ADP    3\n",
       "Name: actual, dtype: int64"
      ]
     },
     "metadata": {},
     "output_type": "display_data"
    },
    {
     "name": "stdout",
     "output_type": "stream",
     "text": [
      "defaultdict(<class 'int'>, {'ADP': 160})\n",
      "tekenen\n"
     ]
    },
    {
     "data": {
      "text/plain": [
       "VERB    3\n",
       "Name: actual, dtype: int64"
      ]
     },
     "metadata": {},
     "output_type": "display_data"
    },
    {
     "name": "stdout",
     "output_type": "stream",
     "text": [
      "defaultdict(<class 'int'>, {'VERB': 15})\n",
      "volledig\n"
     ]
    },
    {
     "data": {
      "text/plain": [
       "ADJ    3\n",
       "Name: actual, dtype: int64"
      ]
     },
     "metadata": {},
     "output_type": "display_data"
    },
    {
     "name": "stdout",
     "output_type": "stream",
     "text": [
      "defaultdict(<class 'int'>, {'ADJ': 3})\n",
      "meeste\n"
     ]
    },
    {
     "data": {
      "text/plain": [
       "ADV    3\n",
       "Name: actual, dtype: int64"
      ]
     },
     "metadata": {},
     "output_type": "display_data"
    },
    {
     "name": "stdout",
     "output_type": "stream",
     "text": [
      "defaultdict(<class 'int'>, {'ADV': 3})\n",
      "hoe\n"
     ]
    },
    {
     "data": {
      "text/plain": [
       "ADV    3\n",
       "Name: actual, dtype: int64"
      ]
     },
     "metadata": {},
     "output_type": "display_data"
    },
    {
     "name": "stdout",
     "output_type": "stream",
     "text": [
      "defaultdict(<class 'int'>, {'ADV': 10})\n",
      "vermoedelijk\n"
     ]
    },
    {
     "data": {
      "text/plain": [
       "ADJ    3\n",
       "Name: actual, dtype: int64"
      ]
     },
     "metadata": {},
     "output_type": "display_data"
    },
    {
     "name": "stdout",
     "output_type": "stream",
     "text": [
      "defaultdict(<class 'int'>, {'ADJ': 3})\n",
      "Oostendse\n"
     ]
    },
    {
     "data": {
      "text/plain": [
       "ADJ    3\n",
       "Name: actual, dtype: int64"
      ]
     },
     "metadata": {},
     "output_type": "display_data"
    },
    {
     "name": "stdout",
     "output_type": "stream",
     "text": [
      "defaultdict(<class 'int'>, {'ADJ': 7})\n",
      "iets\n"
     ]
    },
    {
     "data": {
      "text/plain": [
       "PRON    3\n",
       "Name: actual, dtype: int64"
      ]
     },
     "metadata": {},
     "output_type": "display_data"
    },
    {
     "name": "stdout",
     "output_type": "stream",
     "text": [
      "defaultdict(<class 'int'>, {'PRON': 11})\n",
      "kmÂ²\n"
     ]
    },
    {
     "data": {
      "text/plain": [
       "SYM    3\n",
       "Name: actual, dtype: int64"
      ]
     },
     "metadata": {},
     "output_type": "display_data"
    },
    {
     "name": "stdout",
     "output_type": "stream",
     "text": [
      "defaultdict(<class 'int'>, {'SYM': 3})\n",
      "jaarlijks\n"
     ]
    },
    {
     "data": {
      "text/plain": [
       "ADJ    3\n",
       "Name: actual, dtype: int64"
      ]
     },
     "metadata": {},
     "output_type": "display_data"
    },
    {
     "name": "stdout",
     "output_type": "stream",
     "text": [
      "defaultdict(<class 'int'>, {'ADJ': 3})\n",
      "nazi's\n"
     ]
    },
    {
     "data": {
      "text/plain": [
       "NOUN    3\n",
       "Name: actual, dtype: int64"
      ]
     },
     "metadata": {},
     "output_type": "display_data"
    },
    {
     "name": "stdout",
     "output_type": "stream",
     "text": [
      "defaultdict(<class 'int'>, {'NOUN': 3})\n",
      "goed\n"
     ]
    },
    {
     "data": {
      "text/plain": [
       "ADJ    3\n",
       "Name: actual, dtype: int64"
      ]
     },
     "metadata": {},
     "output_type": "display_data"
    },
    {
     "name": "stdout",
     "output_type": "stream",
     "text": [
      "defaultdict(<class 'int'>, {'ADJ': 5})\n",
      "gans\n"
     ]
    },
    {
     "data": {
      "text/plain": [
       "ADJ    3\n",
       "Name: actual, dtype: int64"
      ]
     },
     "metadata": {},
     "output_type": "display_data"
    },
    {
     "name": "stdout",
     "output_type": "stream",
     "text": [
      "defaultdict(<class 'int'>, {'ADJ': 3})\n",
      "duidelijk\n"
     ]
    },
    {
     "data": {
      "text/plain": [
       "ADJ    3\n",
       "Name: actual, dtype: int64"
      ]
     },
     "metadata": {},
     "output_type": "display_data"
    },
    {
     "name": "stdout",
     "output_type": "stream",
     "text": [
      "defaultdict(<class 'int'>, {'ADJ': 4})\n",
      "allemaal\n"
     ]
    },
    {
     "data": {
      "text/plain": [
       "ADV    3\n",
       "Name: actual, dtype: int64"
      ]
     },
     "metadata": {},
     "output_type": "display_data"
    },
    {
     "name": "stdout",
     "output_type": "stream",
     "text": [
      "defaultdict(<class 'int'>, {'ADV': 5})\n",
      "worden\n"
     ]
    },
    {
     "data": {
      "text/plain": [
       "VERB    2\n",
       "AUX     1\n",
       "Name: actual, dtype: int64"
      ]
     },
     "metadata": {},
     "output_type": "display_data"
    },
    {
     "name": "stdout",
     "output_type": "stream",
     "text": [
      "defaultdict(<class 'int'>, {'VERB': 12, 'AUX': 23})\n",
      "Italianen\n"
     ]
    },
    {
     "data": {
      "text/plain": [
       "PROPN    3\n",
       "Name: actual, dtype: int64"
      ]
     },
     "metadata": {},
     "output_type": "display_data"
    },
    {
     "name": "stdout",
     "output_type": "stream",
     "text": [
      "defaultdict(<class 'int'>, {'PROPN': 6})\n",
      "vele\n"
     ]
    },
    {
     "data": {
      "text/plain": [
       "ADV    3\n",
       "Name: actual, dtype: int64"
      ]
     },
     "metadata": {},
     "output_type": "display_data"
    },
    {
     "name": "stdout",
     "output_type": "stream",
     "text": [
      "defaultdict(<class 'int'>, {'ADV': 3})\n",
      "Intrede\n"
     ]
    },
    {
     "data": {
      "text/plain": [
       "NOUN    3\n",
       "Name: actual, dtype: int64"
      ]
     },
     "metadata": {},
     "output_type": "display_data"
    },
    {
     "name": "stdout",
     "output_type": "stream",
     "text": [
      "defaultdict(<class 'int'>, {'NOUN': 3})\n",
      "Grote\n"
     ]
    },
    {
     "data": {
      "text/plain": [
       "ADJ    3\n",
       "Name: actual, dtype: int64"
      ]
     },
     "metadata": {},
     "output_type": "display_data"
    },
    {
     "name": "stdout",
     "output_type": "stream",
     "text": [
      "defaultdict(<class 'int'>, {'ADJ': 3, 'PROPN': 1})\n",
      "Tante\n"
     ]
    },
    {
     "data": {
      "text/plain": [
       "NOUN    3\n",
       "Name: actual, dtype: int64"
      ]
     },
     "metadata": {},
     "output_type": "display_data"
    },
    {
     "name": "stdout",
     "output_type": "stream",
     "text": [
      "defaultdict(<class 'int'>, {'NOUN': 3})\n",
      "zoveel\n"
     ]
    },
    {
     "data": {
      "text/plain": [
       "NUM    3\n",
       "Name: actual, dtype: int64"
      ]
     },
     "metadata": {},
     "output_type": "display_data"
    },
    {
     "name": "stdout",
     "output_type": "stream",
     "text": [
      "defaultdict(<class 'int'>, {'NUM': 3})\n",
      "Prijs\n"
     ]
    },
    {
     "data": {
      "text/plain": [
       "NOUN    3\n",
       "Name: actual, dtype: int64"
      ]
     },
     "metadata": {},
     "output_type": "display_data"
    },
    {
     "name": "stdout",
     "output_type": "stream",
     "text": [
      "defaultdict(<class 'int'>, {'NOUN': 3})\n",
      "president\n"
     ]
    },
    {
     "data": {
      "text/plain": [
       "NOUN    3\n",
       "Name: actual, dtype: int64"
      ]
     },
     "metadata": {},
     "output_type": "display_data"
    },
    {
     "name": "stdout",
     "output_type": "stream",
     "text": [
      "defaultdict(<class 'int'>, {'NOUN': 3})\n",
      "waarvoor\n"
     ]
    },
    {
     "data": {
      "text/plain": [
       "ADV    3\n",
       "Name: actual, dtype: int64"
      ]
     },
     "metadata": {},
     "output_type": "display_data"
    },
    {
     "name": "stdout",
     "output_type": "stream",
     "text": [
      "defaultdict(<class 'int'>, {'ADV': 3})\n",
      "danig\n"
     ]
    },
    {
     "data": {
      "text/plain": [
       "ADJ    2\n",
       "Name: actual, dtype: int64"
      ]
     },
     "metadata": {},
     "output_type": "display_data"
    },
    {
     "name": "stdout",
     "output_type": "stream",
     "text": [
      "defaultdict(<class 'int'>, {'ADJ': 2})\n",
      "katholieken\n"
     ]
    },
    {
     "data": {
      "text/plain": [
       "NOUN    2\n",
       "Name: actual, dtype: int64"
      ]
     },
     "metadata": {},
     "output_type": "display_data"
    },
    {
     "name": "stdout",
     "output_type": "stream",
     "text": [
      "defaultdict(<class 'int'>, {'NOUN': 2})\n",
      "Geuzen\n"
     ]
    },
    {
     "data": {
      "text/plain": [
       "NOUN    2\n",
       "Name: actual, dtype: int64"
      ]
     },
     "metadata": {},
     "output_type": "display_data"
    },
    {
     "name": "stdout",
     "output_type": "stream",
     "text": [
      "defaultdict(<class 'int'>, {'NOUN': 2})\n",
      "Staat\n"
     ]
    },
    {
     "data": {
      "text/plain": [
       "NOUN    2\n",
       "Name: actual, dtype: int64"
      ]
     },
     "metadata": {},
     "output_type": "display_data"
    },
    {
     "name": "stdout",
     "output_type": "stream",
     "text": [
      "defaultdict(<class 'int'>, {'NOUN': 2})\n",
      "Man\n"
     ]
    },
    {
     "data": {
      "text/plain": [
       "X        1\n",
       "PROPN    1\n",
       "Name: actual, dtype: int64"
      ]
     },
     "metadata": {},
     "output_type": "display_data"
    },
    {
     "name": "stdout",
     "output_type": "stream",
     "text": [
      "defaultdict(<class 'int'>, {'X': 1, 'PROPN': 1})\n",
      "Europese\n"
     ]
    },
    {
     "data": {
      "text/plain": [
       "PROPN    2\n",
       "Name: actual, dtype: int64"
      ]
     },
     "metadata": {},
     "output_type": "display_data"
    },
    {
     "name": "stdout",
     "output_type": "stream",
     "text": [
      "defaultdict(<class 'int'>, {'ADJ': 10, 'PROPN': 2})\n",
      "Aureolen\n"
     ]
    },
    {
     "data": {
      "text/plain": [
       "NOUN    2\n",
       "Name: actual, dtype: int64"
      ]
     },
     "metadata": {},
     "output_type": "display_data"
    },
    {
     "name": "stdout",
     "output_type": "stream",
     "text": [
      "defaultdict(<class 'int'>, {'NOUN': 2})\n",
      "religieuzen\n"
     ]
    },
    {
     "data": {
      "text/plain": [
       "ADJ    2\n",
       "Name: actual, dtype: int64"
      ]
     },
     "metadata": {},
     "output_type": "display_data"
    },
    {
     "name": "stdout",
     "output_type": "stream",
     "text": [
      "defaultdict(<class 'int'>, {'ADJ': 2})\n",
      "Museum\n"
     ]
    },
    {
     "data": {
      "text/plain": [
       "NOUN    2\n",
       "Name: actual, dtype: int64"
      ]
     },
     "metadata": {},
     "output_type": "display_data"
    },
    {
     "name": "stdout",
     "output_type": "stream",
     "text": [
      "defaultdict(<class 'int'>, {'PROPN': 3, 'NOUN': 2})\n",
      "Koninklijk\n"
     ]
    },
    {
     "data": {
      "text/plain": [
       "ADJ    2\n",
       "Name: actual, dtype: int64"
      ]
     },
     "metadata": {},
     "output_type": "display_data"
    },
    {
     "name": "stdout",
     "output_type": "stream",
     "text": [
      "defaultdict(<class 'int'>, {'ADJ': 2})\n",
      "Weg\n"
     ]
    },
    {
     "data": {
      "text/plain": [
       "ADV    2\n",
       "Name: actual, dtype: int64"
      ]
     },
     "metadata": {},
     "output_type": "display_data"
    },
    {
     "name": "stdout",
     "output_type": "stream",
     "text": [
      "defaultdict(<class 'int'>, {'ADV': 2})\n",
      "internationaal\n"
     ]
    },
    {
     "data": {
      "text/plain": [
       "ADJ    2\n",
       "Name: actual, dtype: int64"
      ]
     },
     "metadata": {},
     "output_type": "display_data"
    },
    {
     "name": "stdout",
     "output_type": "stream",
     "text": [
      "defaultdict(<class 'int'>, {'ADJ': 3})\n",
      "net\n"
     ]
    },
    {
     "data": {
      "text/plain": [
       "ADV    1\n",
       "DET    1\n",
       "Name: actual, dtype: int64"
      ]
     },
     "metadata": {},
     "output_type": "display_data"
    },
    {
     "name": "stdout",
     "output_type": "stream",
     "text": [
      "defaultdict(<class 'int'>, {'ADV': 12, 'DET': 1})\n",
      "the\n"
     ]
    },
    {
     "data": {
      "text/plain": [
       "X    2\n",
       "Name: actual, dtype: int64"
      ]
     },
     "metadata": {},
     "output_type": "display_data"
    },
    {
     "name": "stdout",
     "output_type": "stream",
     "text": [
      "defaultdict(<class 'int'>, {'X': 2})\n",
      "waarop\n"
     ]
    },
    {
     "data": {
      "text/plain": [
       "ADV    2\n",
       "Name: actual, dtype: int64"
      ]
     },
     "metadata": {},
     "output_type": "display_data"
    },
    {
     "name": "stdout",
     "output_type": "stream",
     "text": [
      "defaultdict(<class 'int'>, {'ADV': 4})\n",
      "laag\n"
     ]
    },
    {
     "data": {
      "text/plain": [
       "ADJ    2\n",
       "Name: actual, dtype: int64"
      ]
     },
     "metadata": {},
     "output_type": "display_data"
    },
    {
     "name": "stdout",
     "output_type": "stream",
     "text": [
      "defaultdict(<class 'int'>, {'ADJ': 2})\n",
      "Blok\n"
     ]
    },
    {
     "data": {
      "text/plain": [
       "NOUN    2\n",
       "Name: actual, dtype: int64"
      ]
     },
     "metadata": {},
     "output_type": "display_data"
    },
    {
     "name": "stdout",
     "output_type": "stream",
     "text": [
      "defaultdict(<class 'int'>, {'NOUN': 2, 'PROPN': 12})\n",
      "kan\n"
     ]
    },
    {
     "data": {
      "text/plain": [
       "VERB    2\n",
       "Name: actual, dtype: int64"
      ]
     },
     "metadata": {},
     "output_type": "display_data"
    },
    {
     "name": "stdout",
     "output_type": "stream",
     "text": [
      "defaultdict(<class 'int'>, {'AUX': 16, 'VERB': 2})\n",
      "overtuigend\n"
     ]
    },
    {
     "data": {
      "text/plain": [
       "VERB    2\n",
       "Name: actual, dtype: int64"
      ]
     },
     "metadata": {},
     "output_type": "display_data"
    },
    {
     "name": "stdout",
     "output_type": "stream",
     "text": [
      "defaultdict(<class 'int'>, {'VERB': 2})\n",
      "'\n"
     ]
    },
    {
     "data": {
      "text/plain": [
       "PUNCT    2\n",
       "Name: actual, dtype: int64"
      ]
     },
     "metadata": {},
     "output_type": "display_data"
    },
    {
     "name": "stdout",
     "output_type": "stream",
     "text": [
      "defaultdict(<class 'int'>, {'PUNCT': 63})\n",
      "&\n"
     ]
    },
    {
     "data": {
      "text/plain": [
       "SYM    2\n",
       "Name: actual, dtype: int64"
      ]
     },
     "metadata": {},
     "output_type": "display_data"
    },
    {
     "name": "stdout",
     "output_type": "stream",
     "text": [
      "defaultdict(<class 'int'>, {'SYM': 2})\n",
      "Kaproen\n"
     ]
    },
    {
     "data": {
      "text/plain": [
       "PROPN    2\n",
       "Name: actual, dtype: int64"
      ]
     },
     "metadata": {},
     "output_type": "display_data"
    },
    {
     "name": "stdout",
     "output_type": "stream",
     "text": [
      "defaultdict(<class 'int'>, {'PROPN': 5})\n",
      "uitsluitend\n"
     ]
    },
    {
     "data": {
      "text/plain": [
       "ADJ    2\n",
       "Name: actual, dtype: int64"
      ]
     },
     "metadata": {},
     "output_type": "display_data"
    },
    {
     "name": "stdout",
     "output_type": "stream",
     "text": [
      "defaultdict(<class 'int'>, {'ADJ': 2})\n",
      "enorm\n"
     ]
    },
    {
     "data": {
      "text/plain": [
       "ADJ    2\n",
       "Name: actual, dtype: int64"
      ]
     },
     "metadata": {},
     "output_type": "display_data"
    },
    {
     "name": "stdout",
     "output_type": "stream",
     "text": [
      "defaultdict(<class 'int'>, {'ADJ': 3})\n",
      "Libre\n"
     ]
    },
    {
     "data": {
      "text/plain": [
       "PROPN    2\n",
       "Name: actual, dtype: int64"
      ]
     },
     "metadata": {},
     "output_type": "display_data"
    },
    {
     "name": "stdout",
     "output_type": "stream",
     "text": [
      "defaultdict(<class 'int'>, {'PROPN': 3})\n",
      "Vlaams-Nationaal\n"
     ]
    },
    {
     "data": {
      "text/plain": [
       "ADJ    2\n",
       "Name: actual, dtype: int64"
      ]
     },
     "metadata": {},
     "output_type": "display_data"
    },
    {
     "name": "stdout",
     "output_type": "stream",
     "text": [
      "defaultdict(<class 'int'>, {'ADJ': 2})\n",
      "Licht\n"
     ]
    },
    {
     "data": {
      "text/plain": [
       "NOUN    2\n",
       "Name: actual, dtype: int64"
      ]
     },
     "metadata": {},
     "output_type": "display_data"
    },
    {
     "name": "stdout",
     "output_type": "stream",
     "text": [
      "defaultdict(<class 'int'>, {'NOUN': 3})\n",
      "Salon\n"
     ]
    },
    {
     "data": {
      "text/plain": [
       "NOUN    2\n",
       "Name: actual, dtype: int64"
      ]
     },
     "metadata": {},
     "output_type": "display_data"
    },
    {
     "name": "stdout",
     "output_type": "stream",
     "text": [
      "defaultdict(<class 'int'>, {'NOUN': 2, 'PROPN': 3})\n",
      ":\n"
     ]
    },
    {
     "data": {
      "text/plain": [
       "X      1\n",
       "SYM    1\n",
       "Name: actual, dtype: int64"
      ]
     },
     "metadata": {},
     "output_type": "display_data"
    },
    {
     "name": "stdout",
     "output_type": "stream",
     "text": [
      "defaultdict(<class 'int'>, {'PUNCT': 99, 'SYM': 1, 'X': 1})\n",
      "persoonlijk\n"
     ]
    },
    {
     "data": {
      "text/plain": [
       "ADJ    2\n",
       "Name: actual, dtype: int64"
      ]
     },
     "metadata": {},
     "output_type": "display_data"
    },
    {
     "name": "stdout",
     "output_type": "stream",
     "text": [
      "defaultdict(<class 'int'>, {'ADJ': 3})\n",
      "Universitaire\n"
     ]
    },
    {
     "data": {
      "text/plain": [
       "ADJ    2\n",
       "Name: actual, dtype: int64"
      ]
     },
     "metadata": {},
     "output_type": "display_data"
    },
    {
     "name": "stdout",
     "output_type": "stream",
     "text": [
      "defaultdict(<class 'int'>, {'ADJ': 2})\n",
      "waren\n"
     ]
    },
    {
     "data": {
      "text/plain": [
       "AUX    2\n",
       "Name: actual, dtype: int64"
      ]
     },
     "metadata": {},
     "output_type": "display_data"
    },
    {
     "name": "stdout",
     "output_type": "stream",
     "text": [
      "defaultdict(<class 'int'>, {'AUX': 19})\n",
      "gewest\n"
     ]
    },
    {
     "data": {
      "text/plain": [
       "NOUN    2\n",
       "Name: actual, dtype: int64"
      ]
     },
     "metadata": {},
     "output_type": "display_data"
    },
    {
     "name": "stdout",
     "output_type": "stream",
     "text": [
      "defaultdict(<class 'int'>, {'NOUN': 5})\n",
      "tegen\n"
     ]
    },
    {
     "data": {
      "text/plain": [
       "ADP    2\n",
       "Name: actual, dtype: int64"
      ]
     },
     "metadata": {},
     "output_type": "display_data"
    },
    {
     "name": "stdout",
     "output_type": "stream",
     "text": [
      "defaultdict(<class 'int'>, {'ADP': 31})\n",
      "haar\n"
     ]
    },
    {
     "data": {
      "text/plain": [
       "PRON    2\n",
       "Name: actual, dtype: int64"
      ]
     },
     "metadata": {},
     "output_type": "display_data"
    },
    {
     "name": "stdout",
     "output_type": "stream",
     "text": [
      "defaultdict(<class 'int'>, {'PRON': 24})\n",
      "1985-1990\n"
     ]
    },
    {
     "data": {
      "text/plain": [
       "SYM    2\n",
       "Name: actual, dtype: int64"
      ]
     },
     "metadata": {},
     "output_type": "display_data"
    },
    {
     "name": "stdout",
     "output_type": "stream",
     "text": [
      "defaultdict(<class 'int'>, {'SYM': 2})\n",
      "zich\n"
     ]
    },
    {
     "data": {
      "text/plain": [
       "PRON    2\n",
       "Name: actual, dtype: int64"
      ]
     },
     "metadata": {},
     "output_type": "display_data"
    },
    {
     "name": "stdout",
     "output_type": "stream",
     "text": [
      "defaultdict(<class 'int'>, {'PRON': 54})\n",
      "heen\n"
     ]
    },
    {
     "data": {
      "text/plain": [
       "ADP    2\n",
       "Name: actual, dtype: int64"
      ]
     },
     "metadata": {},
     "output_type": "display_data"
    },
    {
     "name": "stdout",
     "output_type": "stream",
     "text": [
      "defaultdict(<class 'int'>, {'ADP': 2})\n",
      "prima\n"
     ]
    },
    {
     "data": {
      "text/plain": [
       "ADJ    2\n",
       "Name: actual, dtype: int64"
      ]
     },
     "metadata": {},
     "output_type": "display_data"
    },
    {
     "name": "stdout",
     "output_type": "stream",
     "text": [
      "defaultdict(<class 'int'>, {'ADJ': 2})\n",
      "wou\n"
     ]
    },
    {
     "data": {
      "text/plain": [
       "VERB    2\n",
       "Name: actual, dtype: int64"
      ]
     },
     "metadata": {},
     "output_type": "display_data"
    },
    {
     "name": "stdout",
     "output_type": "stream",
     "text": [
      "defaultdict(<class 'int'>, {'VERB': 5})\n",
      "Honderden\n"
     ]
    },
    {
     "data": {
      "text/plain": [
       "NUM    2\n",
       "Name: actual, dtype: int64"
      ]
     },
     "metadata": {},
     "output_type": "display_data"
    },
    {
     "name": "stdout",
     "output_type": "stream",
     "text": [
      "defaultdict(<class 'int'>, {'NUM': 2})\n",
      "momenteel\n"
     ]
    },
    {
     "data": {
      "text/plain": [
       "ADJ    2\n",
       "Name: actual, dtype: int64"
      ]
     },
     "metadata": {},
     "output_type": "display_data"
    },
    {
     "name": "stdout",
     "output_type": "stream",
     "text": [
      "defaultdict(<class 'int'>, {'ADJ': 2})\n",
      "Topzwemmen\n"
     ]
    },
    {
     "data": {
      "text/plain": [
       "VERB    2\n",
       "Name: actual, dtype: int64"
      ]
     },
     "metadata": {},
     "output_type": "display_data"
    },
    {
     "name": "stdout",
     "output_type": "stream",
     "text": [
      "defaultdict(<class 'int'>, {'VERB': 2})\n",
      "snel\n"
     ]
    },
    {
     "data": {
      "text/plain": [
       "ADJ    2\n",
       "Name: actual, dtype: int64"
      ]
     },
     "metadata": {},
     "output_type": "display_data"
    },
    {
     "name": "stdout",
     "output_type": "stream",
     "text": [
      "defaultdict(<class 'int'>, {'ADJ': 2})\n",
      "Stichting\n"
     ]
    },
    {
     "data": {
      "text/plain": [
       "NOUN    2\n",
       "Name: actual, dtype: int64"
      ]
     },
     "metadata": {},
     "output_type": "display_data"
    },
    {
     "name": "stdout",
     "output_type": "stream",
     "text": [
      "defaultdict(<class 'int'>, {'NOUN': 2})\n",
      "EsthÃ©tique\n"
     ]
    },
    {
     "data": {
      "text/plain": [
       "PROPN    2\n",
       "Name: actual, dtype: int64"
      ]
     },
     "metadata": {},
     "output_type": "display_data"
    },
    {
     "name": "stdout",
     "output_type": "stream",
     "text": [
      "defaultdict(<class 'int'>, {'PROPN': 3})\n",
      "ver\n"
     ]
    },
    {
     "data": {
      "text/plain": [
       "ADJ    2\n",
       "Name: actual, dtype: int64"
      ]
     },
     "metadata": {},
     "output_type": "display_data"
    },
    {
     "name": "stdout",
     "output_type": "stream",
     "text": [
      "defaultdict(<class 'int'>, {'ADJ': 3})\n",
      "willen\n"
     ]
    },
    {
     "data": {
      "text/plain": [
       "VERB    2\n",
       "Name: actual, dtype: int64"
      ]
     },
     "metadata": {},
     "output_type": "display_data"
    },
    {
     "name": "stdout",
     "output_type": "stream",
     "text": [
      "defaultdict(<class 'int'>, {'VERB': 6})\n",
      "zeker\n"
     ]
    },
    {
     "data": {
      "text/plain": [
       "ADJ    2\n",
       "Name: actual, dtype: int64"
      ]
     },
     "metadata": {},
     "output_type": "display_data"
    },
    {
     "name": "stdout",
     "output_type": "stream",
     "text": [
      "defaultdict(<class 'int'>, {'ADJ': 2})\n",
      "wilden\n"
     ]
    },
    {
     "data": {
      "text/plain": [
       "VERB    2\n",
       "Name: actual, dtype: int64"
      ]
     },
     "metadata": {},
     "output_type": "display_data"
    },
    {
     "name": "stdout",
     "output_type": "stream",
     "text": [
      "defaultdict(<class 'int'>, {'VERB': 2})\n",
      "andere\n"
     ]
    },
    {
     "data": {
      "text/plain": [
       "ADJ    2\n",
       "Name: actual, dtype: int64"
      ]
     },
     "metadata": {},
     "output_type": "display_data"
    },
    {
     "name": "stdout",
     "output_type": "stream",
     "text": [
      "defaultdict(<class 'int'>, {'ADJ': 18})\n",
      "gisteravond\n"
     ]
    },
    {
     "data": {
      "text/plain": [
       "ADV    2\n",
       "Name: actual, dtype: int64"
      ]
     },
     "metadata": {},
     "output_type": "display_data"
    },
    {
     "name": "stdout",
     "output_type": "stream",
     "text": [
      "defaultdict(<class 'int'>, {'ADV': 2})\n",
      "die\n"
     ]
    },
    {
     "data": {
      "text/plain": [
       "PRON    2\n",
       "Name: actual, dtype: int64"
      ]
     },
     "metadata": {},
     "output_type": "display_data"
    },
    {
     "name": "stdout",
     "output_type": "stream",
     "text": [
      "defaultdict(<class 'int'>, {'PRON': 104, 'DET': 20})\n",
      "honderden\n"
     ]
    },
    {
     "data": {
      "text/plain": [
       "NUM    2\n",
       "Name: actual, dtype: int64"
      ]
     },
     "metadata": {},
     "output_type": "display_data"
    },
    {
     "name": "stdout",
     "output_type": "stream",
     "text": [
      "defaultdict(<class 'int'>, {'NUM': 2})\n",
      "FARC-rebellen\n"
     ]
    },
    {
     "data": {
      "text/plain": [
       "NOUN    2\n",
       "Name: actual, dtype: int64"
      ]
     },
     "metadata": {},
     "output_type": "display_data"
    },
    {
     "name": "stdout",
     "output_type": "stream",
     "text": [
      "defaultdict(<class 'int'>, {'NOUN': 2})\n",
      "!\n"
     ]
    },
    {
     "data": {
      "text/plain": [
       "PROPN    1\n",
       "SYM      1\n",
       "Name: actual, dtype: int64"
      ]
     },
     "metadata": {},
     "output_type": "display_data"
    },
    {
     "name": "stdout",
     "output_type": "stream",
     "text": [
      "defaultdict(<class 'int'>, {'PUNCT': 4, 'SYM': 1, 'PROPN': 1})\n",
      "kort\n"
     ]
    },
    {
     "data": {
      "text/plain": [
       "ADJ    2\n",
       "Name: actual, dtype: int64"
      ]
     },
     "metadata": {},
     "output_type": "display_data"
    },
    {
     "name": "stdout",
     "output_type": "stream",
     "text": [
      "defaultdict(<class 'int'>, {'ADJ': 3})\n",
      "genoeg\n"
     ]
    },
    {
     "data": {
      "text/plain": [
       "ADV    2\n",
       "Name: actual, dtype: int64"
      ]
     },
     "metadata": {},
     "output_type": "display_data"
    },
    {
     "name": "stdout",
     "output_type": "stream",
     "text": [
      "defaultdict(<class 'int'>, {'ADV': 7})\n",
      "N-VA-programma\n"
     ]
    },
    {
     "data": {
      "text/plain": [
       "NOUN    2\n",
       "Name: actual, dtype: int64"
      ]
     },
     "metadata": {},
     "output_type": "display_data"
    },
    {
     "name": "stdout",
     "output_type": "stream",
     "text": [
      "defaultdict(<class 'int'>, {'NOUN': 2})\n",
      "kon\n"
     ]
    },
    {
     "data": {
      "text/plain": [
       "VERB    2\n",
       "Name: actual, dtype: int64"
      ]
     },
     "metadata": {},
     "output_type": "display_data"
    },
    {
     "name": "stdout",
     "output_type": "stream",
     "text": [
      "defaultdict(<class 'int'>, {'VERB': 2, 'AUX': 12})\n",
      "Ons\n"
     ]
    },
    {
     "data": {
      "text/plain": [
       "PRON    2\n",
       "Name: actual, dtype: int64"
      ]
     },
     "metadata": {},
     "output_type": "display_data"
    },
    {
     "name": "stdout",
     "output_type": "stream",
     "text": [
      "defaultdict(<class 'int'>, {'PRON': 2})\n",
      "geen\n"
     ]
    },
    {
     "data": {
      "text/plain": [
       "PRON    1\n",
       "DET     1\n",
       "Name: actual, dtype: int64"
      ]
     },
     "metadata": {},
     "output_type": "display_data"
    },
    {
     "name": "stdout",
     "output_type": "stream",
     "text": [
      "defaultdict(<class 'int'>, {'DET': 32, 'PRON': 1})\n",
      "genoemde\n"
     ]
    },
    {
     "data": {
      "text/plain": [
       "VERB    2\n",
       "Name: actual, dtype: int64"
      ]
     },
     "metadata": {},
     "output_type": "display_data"
    },
    {
     "name": "stdout",
     "output_type": "stream",
     "text": [
      "defaultdict(<class 'int'>, {'VERB': 2})\n",
      "geslaagd\n"
     ]
    },
    {
     "data": {
      "text/plain": [
       "VERB    2\n",
       "Name: actual, dtype: int64"
      ]
     },
     "metadata": {},
     "output_type": "display_data"
    },
    {
     "name": "stdout",
     "output_type": "stream",
     "text": [
      "defaultdict(<class 'int'>, {'VERB': 2})\n",
      "Verdedigend\n"
     ]
    },
    {
     "data": {
      "text/plain": [
       "VERB    2\n",
       "Name: actual, dtype: int64"
      ]
     },
     "metadata": {},
     "output_type": "display_data"
    },
    {
     "name": "stdout",
     "output_type": "stream",
     "text": [
      "defaultdict(<class 'int'>, {'VERB': 2})\n",
      "behoorlijk\n"
     ]
    },
    {
     "data": {
      "text/plain": [
       "ADJ    2\n",
       "Name: actual, dtype: int64"
      ]
     },
     "metadata": {},
     "output_type": "display_data"
    },
    {
     "name": "stdout",
     "output_type": "stream",
     "text": [
      "defaultdict(<class 'int'>, {'ADJ': 2})\n",
      "5%\n"
     ]
    },
    {
     "data": {
      "text/plain": [
       "SYM    2\n",
       "Name: actual, dtype: int64"
      ]
     },
     "metadata": {},
     "output_type": "display_data"
    },
    {
     "name": "stdout",
     "output_type": "stream",
     "text": [
      "defaultdict(<class 'int'>, {'SYM': 2})\n",
      "Aswoensdag\n"
     ]
    },
    {
     "data": {
      "text/plain": [
       "PROPN    2\n",
       "Name: actual, dtype: int64"
      ]
     },
     "metadata": {},
     "output_type": "display_data"
    },
    {
     "name": "stdout",
     "output_type": "stream",
     "text": [
      "defaultdict(<class 'int'>, {'PROPN': 7})\n",
      "Nieuw-Vlaamse\n"
     ]
    },
    {
     "data": {
      "text/plain": [
       "PROPN    2\n",
       "Name: actual, dtype: int64"
      ]
     },
     "metadata": {},
     "output_type": "display_data"
    },
    {
     "name": "stdout",
     "output_type": "stream",
     "text": [
      "defaultdict(<class 'int'>, {'PROPN': 3})\n",
      "diens\n"
     ]
    },
    {
     "data": {
      "text/plain": [
       "DET    2\n",
       "Name: actual, dtype: int64"
      ]
     },
     "metadata": {},
     "output_type": "display_data"
    },
    {
     "name": "stdout",
     "output_type": "stream",
     "text": [
      "defaultdict(<class 'int'>, {'DET': 3})\n",
      "vol\n"
     ]
    },
    {
     "data": {
      "text/plain": [
       "ADJ    2\n",
       "Name: actual, dtype: int64"
      ]
     },
     "metadata": {},
     "output_type": "display_data"
    },
    {
     "name": "stdout",
     "output_type": "stream",
     "text": [
      "defaultdict(<class 'int'>, {'ADJ': 5})\n",
      "velen\n"
     ]
    },
    {
     "data": {
      "text/plain": [
       "PRON    2\n",
       "Name: actual, dtype: int64"
      ]
     },
     "metadata": {},
     "output_type": "display_data"
    },
    {
     "name": "stdout",
     "output_type": "stream",
     "text": [
      "defaultdict(<class 'int'>, {'PRON': 2})\n",
      "Commissie\n"
     ]
    },
    {
     "data": {
      "text/plain": [
       "PROPN    2\n",
       "Name: actual, dtype: int64"
      ]
     },
     "metadata": {},
     "output_type": "display_data"
    },
    {
     "name": "stdout",
     "output_type": "stream",
     "text": [
      "defaultdict(<class 'int'>, {'PROPN': 2})\n",
      "Juist\n"
     ]
    },
    {
     "data": {
      "text/plain": [
       "ADJ    2\n",
       "Name: actual, dtype: int64"
      ]
     },
     "metadata": {},
     "output_type": "display_data"
    },
    {
     "name": "stdout",
     "output_type": "stream",
     "text": [
      "defaultdict(<class 'int'>, {'ADJ': 2})\n",
      "ten\n"
     ]
    },
    {
     "data": {
      "text/plain": [
       "ADP    2\n",
       "Name: actual, dtype: int64"
      ]
     },
     "metadata": {},
     "output_type": "display_data"
    },
    {
     "name": "stdout",
     "output_type": "stream",
     "text": [
      "defaultdict(<class 'int'>, {'ADP': 5})\n",
      "voorbij\n"
     ]
    },
    {
     "data": {
      "text/plain": [
       "ADJ    2\n",
       "Name: actual, dtype: int64"
      ]
     },
     "metadata": {},
     "output_type": "display_data"
    },
    {
     "name": "stdout",
     "output_type": "stream",
     "text": [
      "defaultdict(<class 'int'>, {'ADJ': 2})\n",
      "bepaalde\n"
     ]
    },
    {
     "data": {
      "text/plain": [
       "VERB    2\n",
       "Name: actual, dtype: int64"
      ]
     },
     "metadata": {},
     "output_type": "display_data"
    },
    {
     "name": "stdout",
     "output_type": "stream",
     "text": [
      "defaultdict(<class 'int'>, {'VERB': 2})\n",
      "XX\n"
     ]
    },
    {
     "data": {
      "text/plain": [
       "PROPN    2\n",
       "Name: actual, dtype: int64"
      ]
     },
     "metadata": {},
     "output_type": "display_data"
    },
    {
     "name": "stdout",
     "output_type": "stream",
     "text": [
      "defaultdict(<class 'int'>, {'PROPN': 5})\n",
      "hebben\n"
     ]
    },
    {
     "data": {
      "text/plain": [
       "VERB    2\n",
       "Name: actual, dtype: int64"
      ]
     },
     "metadata": {},
     "output_type": "display_data"
    },
    {
     "name": "stdout",
     "output_type": "stream",
     "text": [
      "defaultdict(<class 'int'>, {'VERB': 12, 'AUX': 22})\n",
      "Academie\n"
     ]
    },
    {
     "data": {
      "text/plain": [
       "NOUN    2\n",
       "Name: actual, dtype: int64"
      ]
     },
     "metadata": {},
     "output_type": "display_data"
    },
    {
     "name": "stdout",
     "output_type": "stream",
     "text": [
      "defaultdict(<class 'int'>, {'NOUN': 2})\n",
      "and\n"
     ]
    },
    {
     "data": {
      "text/plain": [
       "X    2\n",
       "Name: actual, dtype: int64"
      ]
     },
     "metadata": {},
     "output_type": "display_data"
    },
    {
     "name": "stdout",
     "output_type": "stream",
     "text": [
      "defaultdict(<class 'int'>, {'X': 2})\n",
      "gaat\n"
     ]
    },
    {
     "data": {
      "text/plain": [
       "VERB    2\n",
       "Name: actual, dtype: int64"
      ]
     },
     "metadata": {},
     "output_type": "display_data"
    },
    {
     "name": "stdout",
     "output_type": "stream",
     "text": [
      "defaultdict(<class 'int'>, {'VERB': 10})\n",
      "Aidsfonds\n"
     ]
    },
    {
     "data": {
      "text/plain": [
       "NOUN    2\n",
       "Name: actual, dtype: int64"
      ]
     },
     "metadata": {},
     "output_type": "display_data"
    },
    {
     "name": "stdout",
     "output_type": "stream",
     "text": [
      "defaultdict(<class 'int'>, {'NOUN': 2})\n",
      "Om\n"
     ]
    },
    {
     "data": {
      "text/plain": [
       "ADP    2\n",
       "Name: actual, dtype: int64"
      ]
     },
     "metadata": {},
     "output_type": "display_data"
    },
    {
     "name": "stdout",
     "output_type": "stream",
     "text": [
      "defaultdict(<class 'int'>, {'ADP': 3})\n",
      "dichtbij\n"
     ]
    },
    {
     "data": {
      "text/plain": [
       "ADJ    2\n",
       "Name: actual, dtype: int64"
      ]
     },
     "metadata": {},
     "output_type": "display_data"
    },
    {
     "name": "stdout",
     "output_type": "stream",
     "text": [
      "defaultdict(<class 'int'>, {'ADJ': 2})\n",
      "Dag\n"
     ]
    },
    {
     "data": {
      "text/plain": [
       "NOUN    2\n",
       "Name: actual, dtype: int64"
      ]
     },
     "metadata": {},
     "output_type": "display_data"
    },
    {
     "name": "stdout",
     "output_type": "stream",
     "text": [
      "defaultdict(<class 'int'>, {'NOUN': 3})\n",
      "Carnaval\n"
     ]
    },
    {
     "data": {
      "text/plain": [
       "NOUN    2\n",
       "Name: actual, dtype: int64"
      ]
     },
     "metadata": {},
     "output_type": "display_data"
    },
    {
     "name": "stdout",
     "output_type": "stream",
     "text": [
      "defaultdict(<class 'int'>, {'NOUN': 2})\n",
      "donderdag\n"
     ]
    },
    {
     "data": {
      "text/plain": [
       "PROPN    2\n",
       "Name: actual, dtype: int64"
      ]
     },
     "metadata": {},
     "output_type": "display_data"
    },
    {
     "name": "stdout",
     "output_type": "stream",
     "text": [
      "defaultdict(<class 'int'>, {'PROPN': 6})\n",
      "Volk\n"
     ]
    },
    {
     "data": {
      "text/plain": [
       "NOUN    2\n",
       "Name: actual, dtype: int64"
      ]
     },
     "metadata": {},
     "output_type": "display_data"
    },
    {
     "name": "stdout",
     "output_type": "stream",
     "text": [
      "defaultdict(<class 'int'>, {'NOUN': 2})\n",
      "Bruegel\n"
     ]
    },
    {
     "data": {
      "text/plain": [
       "NOUN    2\n",
       "Name: actual, dtype: int64"
      ]
     },
     "metadata": {},
     "output_type": "display_data"
    },
    {
     "name": "stdout",
     "output_type": "stream",
     "text": [
      "defaultdict(<class 'int'>, {'NOUN': 2})\n",
      "aanvallend\n"
     ]
    },
    {
     "data": {
      "text/plain": [
       "VERB    2\n",
       "Name: actual, dtype: int64"
      ]
     },
     "metadata": {},
     "output_type": "display_data"
    },
    {
     "name": "stdout",
     "output_type": "stream",
     "text": [
      "defaultdict(<class 'int'>, {'VERB': 2})\n",
      "zo'n\n"
     ]
    },
    {
     "data": {
      "text/plain": [
       "DET    2\n",
       "Name: actual, dtype: int64"
      ]
     },
     "metadata": {},
     "output_type": "display_data"
    },
    {
     "name": "stdout",
     "output_type": "stream",
     "text": [
      "defaultdict(<class 'int'>, {'DET': 3, 'ADV': 2})\n",
      "Prinske\n"
     ]
    },
    {
     "data": {
      "text/plain": [
       "NOUN    2\n",
       "Name: actual, dtype: int64"
      ]
     },
     "metadata": {},
     "output_type": "display_data"
    },
    {
     "name": "stdout",
     "output_type": "stream",
     "text": [
      "defaultdict(<class 'int'>, {'NOUN': 2})\n",
      "Kort\n"
     ]
    },
    {
     "data": {
      "text/plain": [
       "ADJ    2\n",
       "Name: actual, dtype: int64"
      ]
     },
     "metadata": {},
     "output_type": "display_data"
    },
    {
     "name": "stdout",
     "output_type": "stream",
     "text": [
      "defaultdict(<class 'int'>, {'ADJ': 2})\n",
      "Amersfoortse\n"
     ]
    },
    {
     "data": {
      "text/plain": [
       "ADJ    2\n",
       "Name: actual, dtype: int64"
      ]
     },
     "metadata": {},
     "output_type": "display_data"
    },
    {
     "name": "stdout",
     "output_type": "stream",
     "text": [
      "defaultdict(<class 'int'>, {'ADJ': 3})\n",
      "waardoor\n"
     ]
    },
    {
     "data": {
      "text/plain": [
       "ADV    2\n",
       "Name: actual, dtype: int64"
      ]
     },
     "metadata": {},
     "output_type": "display_data"
    },
    {
     "name": "stdout",
     "output_type": "stream",
     "text": [
      "defaultdict(<class 'int'>, {'ADV': 2})\n",
      "Wiske\n"
     ]
    },
    {
     "data": {
      "text/plain": [
       "PROPN    2\n",
       "Name: actual, dtype: int64"
      ]
     },
     "metadata": {},
     "output_type": "display_data"
    },
    {
     "name": "stdout",
     "output_type": "stream",
     "text": [
      "defaultdict(<class 'int'>, {'PROPN': 26})\n",
      "minder\n"
     ]
    },
    {
     "data": {
      "text/plain": [
       "PRON    2\n",
       "Name: actual, dtype: int64"
      ]
     },
     "metadata": {},
     "output_type": "display_data"
    },
    {
     "name": "stdout",
     "output_type": "stream",
     "text": [
      "defaultdict(<class 'int'>, {'ADV': 5, 'PRON': 2})\n",
      "half\n"
     ]
    },
    {
     "data": {
      "text/plain": [
       "ADJ    2\n",
       "Name: actual, dtype: int64"
      ]
     },
     "metadata": {},
     "output_type": "display_data"
    },
    {
     "name": "stdout",
     "output_type": "stream",
     "text": [
      "defaultdict(<class 'int'>, {'ADJ': 2})\n",
      "waaronder\n"
     ]
    },
    {
     "data": {
      "text/plain": [
       "ADV    2\n",
       "Name: actual, dtype: int64"
      ]
     },
     "metadata": {},
     "output_type": "display_data"
    },
    {
     "name": "stdout",
     "output_type": "stream",
     "text": [
      "defaultdict(<class 'int'>, {'ADV': 2})\n",
      "directeur-generaal\n"
     ]
    },
    {
     "data": {
      "text/plain": [
       "NOUN    2\n",
       "Name: actual, dtype: int64"
      ]
     },
     "metadata": {},
     "output_type": "display_data"
    },
    {
     "name": "stdout",
     "output_type": "stream",
     "text": [
      "defaultdict(<class 'int'>, {'NOUN': 3})\n",
      "tot\n"
     ]
    },
    {
     "data": {
      "text/plain": [
       "ADP    2\n",
       "Name: actual, dtype: int64"
      ]
     },
     "metadata": {},
     "output_type": "display_data"
    },
    {
     "name": "stdout",
     "output_type": "stream",
     "text": [
      "defaultdict(<class 'int'>, {'ADP': 54})\n",
      "bepaald\n"
     ]
    },
    {
     "data": {
      "text/plain": [
       "VERB    2\n",
       "Name: actual, dtype: int64"
      ]
     },
     "metadata": {},
     "output_type": "display_data"
    },
    {
     "name": "stdout",
     "output_type": "stream",
     "text": [
      "defaultdict(<class 'int'>, {'VERB': 2})\n",
      "tentoon\n"
     ]
    },
    {
     "data": {
      "text/plain": [
       "ADV    1\n",
       "Name: actual, dtype: int64"
      ]
     },
     "metadata": {},
     "output_type": "display_data"
    },
    {
     "name": "stdout",
     "output_type": "stream",
     "text": [
      "defaultdict(<class 'int'>, {'ADV': 1})\n",
      "achttienjarige\n"
     ]
    },
    {
     "data": {
      "text/plain": [
       "ADJ    1\n",
       "Name: actual, dtype: int64"
      ]
     },
     "metadata": {},
     "output_type": "display_data"
    },
    {
     "name": "stdout",
     "output_type": "stream",
     "text": [
      "defaultdict(<class 'int'>, {'ADJ': 1})\n",
      "Officieel\n"
     ]
    },
    {
     "data": {
      "text/plain": [
       "ADJ    1\n",
       "Name: actual, dtype: int64"
      ]
     },
     "metadata": {},
     "output_type": "display_data"
    },
    {
     "name": "stdout",
     "output_type": "stream",
     "text": [
      "defaultdict(<class 'int'>, {'ADJ': 1})\n",
      "zestienjarige\n"
     ]
    },
    {
     "data": {
      "text/plain": [
       "ADJ    1\n",
       "Name: actual, dtype: int64"
      ]
     },
     "metadata": {},
     "output_type": "display_data"
    },
    {
     "name": "stdout",
     "output_type": "stream",
     "text": [
      "defaultdict(<class 'int'>, {'ADJ': 1})\n",
      "hoger\n"
     ]
    },
    {
     "data": {
      "text/plain": [
       "ADJ    1\n",
       "Name: actual, dtype: int64"
      ]
     },
     "metadata": {},
     "output_type": "display_data"
    },
    {
     "name": "stdout",
     "output_type": "stream",
     "text": [
      "defaultdict(<class 'int'>, {'ADJ': 1})\n",
      "Raad\n"
     ]
    },
    {
     "data": {
      "text/plain": [
       "NOUN    1\n",
       "Name: actual, dtype: int64"
      ]
     },
     "metadata": {},
     "output_type": "display_data"
    },
    {
     "name": "stdout",
     "output_type": "stream",
     "text": [
      "defaultdict(<class 'int'>, {'NOUN': 1})\n",
      "verdedigende\n"
     ]
    },
    {
     "data": {
      "text/plain": [
       "VERB    1\n",
       "Name: actual, dtype: int64"
      ]
     },
     "metadata": {},
     "output_type": "display_data"
    },
    {
     "name": "stdout",
     "output_type": "stream",
     "text": [
      "defaultdict(<class 'int'>, {'VERB': 1})\n",
      "onmiddellijk\n"
     ]
    },
    {
     "data": {
      "text/plain": [
       "ADJ    1\n",
       "Name: actual, dtype: int64"
      ]
     },
     "metadata": {},
     "output_type": "display_data"
    },
    {
     "name": "stdout",
     "output_type": "stream",
     "text": [
      "defaultdict(<class 'int'>, {'ADJ': 1})\n",
      "Zicht\n"
     ]
    },
    {
     "data": {
      "text/plain": [
       "NOUN    1\n",
       "Name: actual, dtype: int64"
      ]
     },
     "metadata": {},
     "output_type": "display_data"
    },
    {
     "name": "stdout",
     "output_type": "stream",
     "text": [
      "defaultdict(<class 'int'>, {'NOUN': 1})\n",
      "geÃ«motioneerd\n"
     ]
    },
    {
     "data": {
      "text/plain": [
       "VERB    1\n",
       "Name: actual, dtype: int64"
      ]
     },
     "metadata": {},
     "output_type": "display_data"
    },
    {
     "name": "stdout",
     "output_type": "stream",
     "text": [
      "defaultdict(<class 'int'>, {'VERB': 1})\n",
      "onvoldoende\n"
     ]
    },
    {
     "data": {
      "text/plain": [
       "DET    1\n",
       "Name: actual, dtype: int64"
      ]
     },
     "metadata": {},
     "output_type": "display_data"
    },
    {
     "name": "stdout",
     "output_type": "stream",
     "text": [
      "defaultdict(<class 'int'>, {'DET': 1})\n",
      "algemeen\n"
     ]
    },
    {
     "data": {
      "text/plain": [
       "ADJ    1\n",
       "Name: actual, dtype: int64"
      ]
     },
     "metadata": {},
     "output_type": "display_data"
    },
    {
     "name": "stdout",
     "output_type": "stream",
     "text": [
      "defaultdict(<class 'int'>, {'ADJ': 6})\n",
      "Post\n"
     ]
    },
    {
     "data": {
      "text/plain": [
       "NOUN    1\n",
       "Name: actual, dtype: int64"
      ]
     },
     "metadata": {},
     "output_type": "display_data"
    },
    {
     "name": "stdout",
     "output_type": "stream",
     "text": [
      "defaultdict(<class 'int'>, {'NOUN': 1})\n",
      "ouder\n"
     ]
    },
    {
     "data": {
      "text/plain": [
       "NOUN    1\n",
       "Name: actual, dtype: int64"
      ]
     },
     "metadata": {},
     "output_type": "display_data"
    },
    {
     "name": "stdout",
     "output_type": "stream",
     "text": [
      "defaultdict(<class 'int'>, {'NOUN': 1})\n",
      "heden\n"
     ]
    },
    {
     "data": {
      "text/plain": [
       "ADV    1\n",
       "Name: actual, dtype: int64"
      ]
     },
     "metadata": {},
     "output_type": "display_data"
    },
    {
     "name": "stdout",
     "output_type": "stream",
     "text": [
      "defaultdict(<class 'int'>, {'ADV': 1})\n",
      "F1-baas\n"
     ]
    },
    {
     "data": {
      "text/plain": [
       "NOUN    1\n",
       "Name: actual, dtype: int64"
      ]
     },
     "metadata": {},
     "output_type": "display_data"
    },
    {
     "name": "stdout",
     "output_type": "stream",
     "text": [
      "defaultdict(<class 'int'>, {'NOUN': 1})\n",
      "Mezen\n"
     ]
    },
    {
     "data": {
      "text/plain": [
       "NOUN    1\n",
       "Name: actual, dtype: int64"
      ]
     },
     "metadata": {},
     "output_type": "display_data"
    },
    {
     "name": "stdout",
     "output_type": "stream",
     "text": [
      "defaultdict(<class 'int'>, {'NOUN': 1, 'PROPN': 4})\n",
      "sprinten\n"
     ]
    },
    {
     "data": {
      "text/plain": [
       "VERB    1\n",
       "Name: actual, dtype: int64"
      ]
     },
     "metadata": {},
     "output_type": "display_data"
    },
    {
     "name": "stdout",
     "output_type": "stream",
     "text": [
      "defaultdict(<class 'int'>, {'VERB': 1})\n",
      "Atkins\n"
     ]
    },
    {
     "data": {
      "text/plain": [
       "X    1\n",
       "Name: actual, dtype: int64"
      ]
     },
     "metadata": {},
     "output_type": "display_data"
    },
    {
     "name": "stdout",
     "output_type": "stream",
     "text": [
      "defaultdict(<class 'int'>, {'PROPN': 7, 'X': 1})\n",
      "verrassende\n"
     ]
    },
    {
     "data": {
      "text/plain": [
       "VERB    1\n",
       "Name: actual, dtype: int64"
      ]
     },
     "metadata": {},
     "output_type": "display_data"
    },
    {
     "name": "stdout",
     "output_type": "stream",
     "text": [
      "defaultdict(<class 'int'>, {'VERB': 1})\n",
      "vernieuwd\n"
     ]
    },
    {
     "data": {
      "text/plain": [
       "VERB    1\n",
       "Name: actual, dtype: int64"
      ]
     },
     "metadata": {},
     "output_type": "display_data"
    },
    {
     "name": "stdout",
     "output_type": "stream",
     "text": [
      "defaultdict(<class 'int'>, {'VERB': 1})\n",
      "vloeiende\n"
     ]
    },
    {
     "data": {
      "text/plain": [
       "VERB    1\n",
       "Name: actual, dtype: int64"
      ]
     },
     "metadata": {},
     "output_type": "display_data"
    },
    {
     "name": "stdout",
     "output_type": "stream",
     "text": [
      "defaultdict(<class 'int'>, {'VERB': 1})\n",
      "Moeders\n"
     ]
    },
    {
     "data": {
      "text/plain": [
       "NOUN    1\n",
       "Name: actual, dtype: int64"
      ]
     },
     "metadata": {},
     "output_type": "display_data"
    },
    {
     "name": "stdout",
     "output_type": "stream",
     "text": [
      "defaultdict(<class 'int'>, {'PROPN': 1, 'NOUN': 1})\n",
      "Nationaal-Socialist\n"
     ]
    },
    {
     "data": {
      "text/plain": [
       "NOUN    1\n",
       "Name: actual, dtype: int64"
      ]
     },
     "metadata": {},
     "output_type": "display_data"
    },
    {
     "name": "stdout",
     "output_type": "stream",
     "text": [
      "defaultdict(<class 'int'>, {'NOUN': 1})\n",
      "doctrinaires\n"
     ]
    },
    {
     "data": {
      "text/plain": [
       "PROPN    1\n",
       "Name: actual, dtype: int64"
      ]
     },
     "metadata": {},
     "output_type": "display_data"
    },
    {
     "name": "stdout",
     "output_type": "stream",
     "text": [
      "defaultdict(<class 'int'>, {'PROPN': 1})\n",
      "malen\n"
     ]
    },
    {
     "data": {
      "text/plain": [
       "NOUN    1\n",
       "Name: actual, dtype: int64"
      ]
     },
     "metadata": {},
     "output_type": "display_data"
    },
    {
     "name": "stdout",
     "output_type": "stream",
     "text": [
      "defaultdict(<class 'int'>, {'NOUN': 1})\n",
      "volgend\n"
     ]
    },
    {
     "data": {
      "text/plain": [
       "VERB    1\n",
       "Name: actual, dtype: int64"
      ]
     },
     "metadata": {},
     "output_type": "display_data"
    },
    {
     "name": "stdout",
     "output_type": "stream",
     "text": [
      "defaultdict(<class 'int'>, {'VERB': 2})\n",
      "begin\n"
     ]
    },
    {
     "data": {
      "text/plain": [
       "NOUN    1\n",
       "Name: actual, dtype: int64"
      ]
     },
     "metadata": {},
     "output_type": "display_data"
    },
    {
     "name": "stdout",
     "output_type": "stream",
     "text": [
      "defaultdict(<class 'int'>, {'NOUN': 9})\n",
      "dezelfde\n"
     ]
    },
    {
     "data": {
      "text/plain": [
       "DET    1\n",
       "Name: actual, dtype: int64"
      ]
     },
     "metadata": {},
     "output_type": "display_data"
    },
    {
     "name": "stdout",
     "output_type": "stream",
     "text": [
      "defaultdict(<class 'int'>, {'ADJ': 1, 'DET': 2})\n",
      "Geraamtes\n"
     ]
    },
    {
     "data": {
      "text/plain": [
       "NOUN    1\n",
       "Name: actual, dtype: int64"
      ]
     },
     "metadata": {},
     "output_type": "display_data"
    },
    {
     "name": "stdout",
     "output_type": "stream",
     "text": [
      "defaultdict(<class 'int'>, {'NOUN': 1})\n",
      "Noordierse\n"
     ]
    },
    {
     "data": {
      "text/plain": [
       "ADJ    1\n",
       "Name: actual, dtype: int64"
      ]
     },
     "metadata": {},
     "output_type": "display_data"
    },
    {
     "name": "stdout",
     "output_type": "stream",
     "text": [
      "defaultdict(<class 'int'>, {'ADJ': 1})\n",
      "Vlaming\n"
     ]
    },
    {
     "data": {
      "text/plain": [
       "PROPN    1\n",
       "Name: actual, dtype: int64"
      ]
     },
     "metadata": {},
     "output_type": "display_data"
    },
    {
     "name": "stdout",
     "output_type": "stream",
     "text": [
      "defaultdict(<class 'int'>, {'PROPN': 1})\n",
      "clownskostuum\n"
     ]
    },
    {
     "data": {
      "text/plain": [
       "NOUN    1\n",
       "Name: actual, dtype: int64"
      ]
     },
     "metadata": {},
     "output_type": "display_data"
    },
    {
     "name": "stdout",
     "output_type": "stream",
     "text": [
      "defaultdict(<class 'int'>, {'NOUN': 1})\n",
      "1953-1963\n"
     ]
    },
    {
     "data": {
      "text/plain": [
       "SYM    1\n",
       "Name: actual, dtype: int64"
      ]
     },
     "metadata": {},
     "output_type": "display_data"
    },
    {
     "name": "stdout",
     "output_type": "stream",
     "text": [
      "defaultdict(<class 'int'>, {'SYM': 1})\n",
      "Slam-titels\n"
     ]
    },
    {
     "data": {
      "text/plain": [
       "NOUN    1\n",
       "Name: actual, dtype: int64"
      ]
     },
     "metadata": {},
     "output_type": "display_data"
    },
    {
     "name": "stdout",
     "output_type": "stream",
     "text": [
      "defaultdict(<class 'int'>, {'NOUN': 1})\n",
      "verdienstelijk\n"
     ]
    },
    {
     "data": {
      "text/plain": [
       "ADJ    1\n",
       "Name: actual, dtype: int64"
      ]
     },
     "metadata": {},
     "output_type": "display_data"
    },
    {
     "name": "stdout",
     "output_type": "stream",
     "text": [
      "defaultdict(<class 'int'>, {'ADJ': 1})\n",
      "west\n"
     ]
    },
    {
     "data": {
      "text/plain": [
       "ADJ    1\n",
       "Name: actual, dtype: int64"
      ]
     },
     "metadata": {},
     "output_type": "display_data"
    },
    {
     "name": "stdout",
     "output_type": "stream",
     "text": [
      "defaultdict(<class 'int'>, {'ADJ': 1})\n",
      "Droom\n"
     ]
    },
    {
     "data": {
      "text/plain": [
       "NOUN    1\n",
       "Name: actual, dtype: int64"
      ]
     },
     "metadata": {},
     "output_type": "display_data"
    },
    {
     "name": "stdout",
     "output_type": "stream",
     "text": [
      "defaultdict(<class 'int'>, {'NOUN': 1})\n",
      "stijgende\n"
     ]
    },
    {
     "data": {
      "text/plain": [
       "VERB    1\n",
       "Name: actual, dtype: int64"
      ]
     },
     "metadata": {},
     "output_type": "display_data"
    },
    {
     "name": "stdout",
     "output_type": "stream",
     "text": [
      "defaultdict(<class 'int'>, {'VERB': 1})\n",
      "Women's\n"
     ]
    },
    {
     "data": {
      "text/plain": [
       "X    1\n",
       "Name: actual, dtype: int64"
      ]
     },
     "metadata": {},
     "output_type": "display_data"
    },
    {
     "name": "stdout",
     "output_type": "stream",
     "text": [
      "defaultdict(<class 'int'>, {'X': 1})\n",
      "pas\n"
     ]
    },
    {
     "data": {
      "text/plain": [
       "ADV    1\n",
       "Name: actual, dtype: int64"
      ]
     },
     "metadata": {},
     "output_type": "display_data"
    },
    {
     "name": "stdout",
     "output_type": "stream",
     "text": [
      "defaultdict(<class 'int'>, {'ADV': 11, 'X': 1})\n",
      "Partij\n"
     ]
    },
    {
     "data": {
      "text/plain": [
       "NOUN    1\n",
       "Name: actual, dtype: int64"
      ]
     },
     "metadata": {},
     "output_type": "display_data"
    },
    {
     "name": "stdout",
     "output_type": "stream",
     "text": [
      "defaultdict(<class 'int'>, {'NOUN': 1})\n",
      "grijnzende\n"
     ]
    },
    {
     "data": {
      "text/plain": [
       "VERB    1\n",
       "Name: actual, dtype: int64"
      ]
     },
     "metadata": {},
     "output_type": "display_data"
    },
    {
     "name": "stdout",
     "output_type": "stream",
     "text": [
      "defaultdict(<class 'int'>, {'VERB': 1})\n",
      "praktisch\n"
     ]
    },
    {
     "data": {
      "text/plain": [
       "ADJ    1\n",
       "Name: actual, dtype: int64"
      ]
     },
     "metadata": {},
     "output_type": "display_data"
    },
    {
     "name": "stdout",
     "output_type": "stream",
     "text": [
      "defaultdict(<class 'int'>, {'ADJ': 1})\n",
      "Franstaligen\n"
     ]
    },
    {
     "data": {
      "text/plain": [
       "ADJ    1\n",
       "Name: actual, dtype: int64"
      ]
     },
     "metadata": {},
     "output_type": "display_data"
    },
    {
     "name": "stdout",
     "output_type": "stream",
     "text": [
      "defaultdict(<class 'int'>, {'ADJ': 2})\n",
      "bandstoten\n"
     ]
    },
    {
     "data": {
      "text/plain": [
       "VERB    1\n",
       "Name: actual, dtype: int64"
      ]
     },
     "metadata": {},
     "output_type": "display_data"
    },
    {
     "name": "stdout",
     "output_type": "stream",
     "text": [
      "defaultdict(<class 'int'>, {'VERB': 1})\n",
      "wel\n"
     ]
    },
    {
     "data": {
      "text/plain": [
       "DET    1\n",
       "Name: actual, dtype: int64"
      ]
     },
     "metadata": {},
     "output_type": "display_data"
    },
    {
     "name": "stdout",
     "output_type": "stream",
     "text": [
      "defaultdict(<class 'int'>, {'ADV': 24, 'DET': 1})\n",
      "precies\n"
     ]
    },
    {
     "data": {
      "text/plain": [
       "ADJ    1\n",
       "Name: actual, dtype: int64"
      ]
     },
     "metadata": {},
     "output_type": "display_data"
    },
    {
     "name": "stdout",
     "output_type": "stream",
     "text": [
      "defaultdict(<class 'int'>, {'ADJ': 1})\n",
      "Concilie\n"
     ]
    },
    {
     "data": {
      "text/plain": [
       "NOUN    1\n",
       "Name: actual, dtype: int64"
      ]
     },
     "metadata": {},
     "output_type": "display_data"
    },
    {
     "name": "stdout",
     "output_type": "stream",
     "text": [
      "defaultdict(<class 'int'>, {'NOUN': 1})\n",
      "allerminst\n"
     ]
    },
    {
     "data": {
      "text/plain": [
       "ADJ    1\n",
       "Name: actual, dtype: int64"
      ]
     },
     "metadata": {},
     "output_type": "display_data"
    },
    {
     "name": "stdout",
     "output_type": "stream",
     "text": [
      "defaultdict(<class 'int'>, {'ADJ': 1})\n",
      "Actie\n"
     ]
    },
    {
     "data": {
      "text/plain": [
       "NOUN    1\n",
       "Name: actual, dtype: int64"
      ]
     },
     "metadata": {},
     "output_type": "display_data"
    },
    {
     "name": "stdout",
     "output_type": "stream",
     "text": [
      "defaultdict(<class 'int'>, {'NOUN': 1})\n",
      "his\n"
     ]
    },
    {
     "data": {
      "text/plain": [
       "X    1\n",
       "Name: actual, dtype: int64"
      ]
     },
     "metadata": {},
     "output_type": "display_data"
    },
    {
     "name": "stdout",
     "output_type": "stream",
     "text": [
      "defaultdict(<class 'int'>, {'X': 1})\n",
      "Combes\n"
     ]
    },
    {
     "data": {
      "text/plain": [
       "X    1\n",
       "Name: actual, dtype: int64"
      ]
     },
     "metadata": {},
     "output_type": "display_data"
    },
    {
     "name": "stdout",
     "output_type": "stream",
     "text": [
      "defaultdict(<class 'int'>, {'X': 1})\n",
      "prompt\n"
     ]
    },
    {
     "data": {
      "text/plain": [
       "ADJ    1\n",
       "Name: actual, dtype: int64"
      ]
     },
     "metadata": {},
     "output_type": "display_data"
    },
    {
     "name": "stdout",
     "output_type": "stream",
     "text": [
      "defaultdict(<class 'int'>, {'ADJ': 1})\n",
      "afgelasten\n"
     ]
    },
    {
     "data": {
      "text/plain": [
       "VERB    1\n",
       "Name: actual, dtype: int64"
      ]
     },
     "metadata": {},
     "output_type": "display_data"
    },
    {
     "name": "stdout",
     "output_type": "stream",
     "text": [
      "defaultdict(<class 'int'>, {'VERB': 1})\n",
      "Zaterdag\n"
     ]
    },
    {
     "data": {
      "text/plain": [
       "PROPN    1\n",
       "Name: actual, dtype: int64"
      ]
     },
     "metadata": {},
     "output_type": "display_data"
    },
    {
     "name": "stdout",
     "output_type": "stream",
     "text": [
      "defaultdict(<class 'int'>, {'PROPN': 3})\n",
      "Zuid\n"
     ]
    },
    {
     "data": {
      "text/plain": [
       "PROPN    1\n",
       "Name: actual, dtype: int64"
      ]
     },
     "metadata": {},
     "output_type": "display_data"
    },
    {
     "name": "stdout",
     "output_type": "stream",
     "text": [
      "defaultdict(<class 'int'>, {'PROPN': 1})\n",
      "duigen\n"
     ]
    },
    {
     "data": {
      "text/plain": [
       "NOUN    1\n",
       "Name: actual, dtype: int64"
      ]
     },
     "metadata": {},
     "output_type": "display_data"
    },
    {
     "name": "stdout",
     "output_type": "stream",
     "text": [
      "defaultdict(<class 'int'>, {'NOUN': 1})\n",
      "permanent\n"
     ]
    },
    {
     "data": {
      "text/plain": [
       "ADJ    1\n",
       "Name: actual, dtype: int64"
      ]
     },
     "metadata": {},
     "output_type": "display_data"
    },
    {
     "name": "stdout",
     "output_type": "stream",
     "text": [
      "defaultdict(<class 'int'>, {'ADJ': 1})\n",
      "moeilijk\n"
     ]
    },
    {
     "data": {
      "text/plain": [
       "ADJ    1\n",
       "Name: actual, dtype: int64"
      ]
     },
     "metadata": {},
     "output_type": "display_data"
    },
    {
     "name": "stdout",
     "output_type": "stream",
     "text": [
      "defaultdict(<class 'int'>, {'ADJ': 6})\n",
      "Rotterdamse\n"
     ]
    },
    {
     "data": {
      "text/plain": [
       "ADJ    1\n",
       "Name: actual, dtype: int64"
      ]
     },
     "metadata": {},
     "output_type": "display_data"
    },
    {
     "name": "stdout",
     "output_type": "stream",
     "text": [
      "defaultdict(<class 'int'>, {'ADJ': 1})\n",
      "Senaat\n"
     ]
    },
    {
     "data": {
      "text/plain": [
       "NOUN    1\n",
       "Name: actual, dtype: int64"
      ]
     },
     "metadata": {},
     "output_type": "display_data"
    },
    {
     "name": "stdout",
     "output_type": "stream",
     "text": [
      "defaultdict(<class 'int'>, {'NOUN': 2})\n",
      "weinig\n"
     ]
    },
    {
     "data": {
      "text/plain": [
       "PRON    1\n",
       "Name: actual, dtype: int64"
      ]
     },
     "metadata": {},
     "output_type": "display_data"
    },
    {
     "name": "stdout",
     "output_type": "stream",
     "text": [
      "defaultdict(<class 'int'>, {'ADV': 1, 'PRON': 1})\n",
      "Vlaams/Nederlands\n"
     ]
    },
    {
     "data": {
      "text/plain": [
       "PROPN    1\n",
       "Name: actual, dtype: int64"
      ]
     },
     "metadata": {},
     "output_type": "display_data"
    },
    {
     "name": "stdout",
     "output_type": "stream",
     "text": [
      "defaultdict(<class 'int'>, {'PROPN': 1})\n",
      "TriÃ«nnale\n"
     ]
    },
    {
     "data": {
      "text/plain": [
       "ADJ    1\n",
       "Name: actual, dtype: int64"
      ]
     },
     "metadata": {},
     "output_type": "display_data"
    },
    {
     "name": "stdout",
     "output_type": "stream",
     "text": [
      "defaultdict(<class 'int'>, {'ADJ': 1, 'PROPN': 1})\n",
      "tuendam\n"
     ]
    },
    {
     "data": {
      "text/plain": [
       "PROPN    1\n",
       "Name: actual, dtype: int64"
      ]
     },
     "metadata": {},
     "output_type": "display_data"
    },
    {
     "name": "stdout",
     "output_type": "stream",
     "text": [
      "defaultdict(<class 'int'>, {'PROPN': 1})\n",
      "Stille\n"
     ]
    },
    {
     "data": {
      "text/plain": [
       "ADJ    1\n",
       "Name: actual, dtype: int64"
      ]
     },
     "metadata": {},
     "output_type": "display_data"
    },
    {
     "name": "stdout",
     "output_type": "stream",
     "text": [
      "defaultdict(<class 'int'>, {'ADJ': 1})\n",
      "bewusteloos\n"
     ]
    },
    {
     "data": {
      "text/plain": [
       "ADJ    1\n",
       "Name: actual, dtype: int64"
      ]
     },
     "metadata": {},
     "output_type": "display_data"
    },
    {
     "name": "stdout",
     "output_type": "stream",
     "text": [
      "defaultdict(<class 'int'>, {'ADJ': 1})\n",
      "Daken\n"
     ]
    },
    {
     "data": {
      "text/plain": [
       "NOUN    1\n",
       "Name: actual, dtype: int64"
      ]
     },
     "metadata": {},
     "output_type": "display_data"
    },
    {
     "name": "stdout",
     "output_type": "stream",
     "text": [
      "defaultdict(<class 'int'>, {'NOUN': 1})\n",
      "komt\n"
     ]
    },
    {
     "data": {
      "text/plain": [
       "VERB    1\n",
       "Name: actual, dtype: int64"
      ]
     },
     "metadata": {},
     "output_type": "display_data"
    },
    {
     "name": "stdout",
     "output_type": "stream",
     "text": [
      "defaultdict(<class 'int'>, {'VERB': 8})\n",
      "Vier\n"
     ]
    },
    {
     "data": {
      "text/plain": [
       "NUM    1\n",
       "Name: actual, dtype: int64"
      ]
     },
     "metadata": {},
     "output_type": "display_data"
    },
    {
     "name": "stdout",
     "output_type": "stream",
     "text": [
      "defaultdict(<class 'int'>, {'NUM': 2})\n",
      "langer\n"
     ]
    },
    {
     "data": {
      "text/plain": [
       "ADJ    1\n",
       "Name: actual, dtype: int64"
      ]
     },
     "metadata": {},
     "output_type": "display_data"
    },
    {
     "name": "stdout",
     "output_type": "stream",
     "text": [
      "defaultdict(<class 'int'>, {'ADJ': 1})\n",
      "natuurlijk\n"
     ]
    },
    {
     "data": {
      "text/plain": [
       "ADJ    1\n",
       "Name: actual, dtype: int64"
      ]
     },
     "metadata": {},
     "output_type": "display_data"
    },
    {
     "name": "stdout",
     "output_type": "stream",
     "text": [
      "defaultdict(<class 'int'>, {'ADJ': 1})\n",
      "DWK'ers\n"
     ]
    },
    {
     "data": {
      "text/plain": [
       "NOUN    1\n",
       "Name: actual, dtype: int64"
      ]
     },
     "metadata": {},
     "output_type": "display_data"
    },
    {
     "name": "stdout",
     "output_type": "stream",
     "text": [
      "defaultdict(<class 'int'>, {'NOUN': 1})\n",
      "onophoudelijk\n"
     ]
    },
    {
     "data": {
      "text/plain": [
       "ADJ    1\n",
       "Name: actual, dtype: int64"
      ]
     },
     "metadata": {},
     "output_type": "display_data"
    },
    {
     "name": "stdout",
     "output_type": "stream",
     "text": [
      "defaultdict(<class 'int'>, {'ADJ': 1})\n",
      "Zee\n"
     ]
    },
    {
     "data": {
      "text/plain": [
       "NOUN    1\n",
       "Name: actual, dtype: int64"
      ]
     },
     "metadata": {},
     "output_type": "display_data"
    },
    {
     "name": "stdout",
     "output_type": "stream",
     "text": [
      "defaultdict(<class 'int'>, {'NOUN': 1})\n",
      "swingende\n"
     ]
    },
    {
     "data": {
      "text/plain": [
       "VERB    1\n",
       "Name: actual, dtype: int64"
      ]
     },
     "metadata": {},
     "output_type": "display_data"
    },
    {
     "name": "stdout",
     "output_type": "stream",
     "text": [
      "defaultdict(<class 'int'>, {'VERB': 1})\n",
      "Het\n"
     ]
    },
    {
     "data": {
      "text/plain": [
       "DET    1\n",
       "Name: actual, dtype: int64"
      ]
     },
     "metadata": {},
     "output_type": "display_data"
    },
    {
     "name": "stdout",
     "output_type": "stream",
     "text": [
      "defaultdict(<class 'int'>, {'PRON': 33, 'DET': 60})\n",
      "race-\n"
     ]
    },
    {
     "data": {
      "text/plain": [
       "X    1\n",
       "Name: actual, dtype: int64"
      ]
     },
     "metadata": {},
     "output_type": "display_data"
    },
    {
     "name": "stdout",
     "output_type": "stream",
     "text": [
      "defaultdict(<class 'int'>, {'X': 1})\n",
      "verluid\n"
     ]
    },
    {
     "data": {
      "text/plain": [
       "VERB    1\n",
       "Name: actual, dtype: int64"
      ]
     },
     "metadata": {},
     "output_type": "display_data"
    },
    {
     "name": "stdout",
     "output_type": "stream",
     "text": [
      "defaultdict(<class 'int'>, {'VERB': 1})\n",
      "binnen\n"
     ]
    },
    {
     "data": {
      "text/plain": [
       "ADP    1\n",
       "Name: actual, dtype: int64"
      ]
     },
     "metadata": {},
     "output_type": "display_data"
    },
    {
     "name": "stdout",
     "output_type": "stream",
     "text": [
      "defaultdict(<class 'int'>, {'ADP': 11})\n",
      "iemand\n"
     ]
    },
    {
     "data": {
      "text/plain": [
       "PRON    1\n",
       "Name: actual, dtype: int64"
      ]
     },
     "metadata": {},
     "output_type": "display_data"
    },
    {
     "name": "stdout",
     "output_type": "stream",
     "text": [
      "defaultdict(<class 'int'>, {'PRON': 1})\n",
      "laat\n"
     ]
    },
    {
     "data": {
      "text/plain": [
       "ADJ    1\n",
       "Name: actual, dtype: int64"
      ]
     },
     "metadata": {},
     "output_type": "display_data"
    },
    {
     "name": "stdout",
     "output_type": "stream",
     "text": [
      "defaultdict(<class 'int'>, {'VERB': 2, 'ADJ': 1})\n",
      "WK-stand\n"
     ]
    },
    {
     "data": {
      "text/plain": [
       "NOUN    1\n",
       "Name: actual, dtype: int64"
      ]
     },
     "metadata": {},
     "output_type": "display_data"
    },
    {
     "name": "stdout",
     "output_type": "stream",
     "text": [
      "defaultdict(<class 'int'>, {'NOUN': 1})\n",
      "eerde\n"
     ]
    },
    {
     "data": {
      "text/plain": [
       "ADJ    1\n",
       "Name: actual, dtype: int64"
      ]
     },
     "metadata": {},
     "output_type": "display_data"
    },
    {
     "name": "stdout",
     "output_type": "stream",
     "text": [
      "defaultdict(<class 'int'>, {'ADJ': 1})\n",
      "afgeleide\n"
     ]
    },
    {
     "data": {
      "text/plain": [
       "VERB    1\n",
       "Name: actual, dtype: int64"
      ]
     },
     "metadata": {},
     "output_type": "display_data"
    },
    {
     "name": "stdout",
     "output_type": "stream",
     "text": [
      "defaultdict(<class 'int'>, {'VERB': 1})\n",
      "zeggen\n"
     ]
    },
    {
     "data": {
      "text/plain": [
       "VERB    1\n",
       "Name: actual, dtype: int64"
      ]
     },
     "metadata": {},
     "output_type": "display_data"
    },
    {
     "name": "stdout",
     "output_type": "stream",
     "text": [
      "defaultdict(<class 'int'>, {'VERB': 4})\n",
      "dichter\n"
     ]
    },
    {
     "data": {
      "text/plain": [
       "ADJ    1\n",
       "Name: actual, dtype: int64"
      ]
     },
     "metadata": {},
     "output_type": "display_data"
    },
    {
     "name": "stdout",
     "output_type": "stream",
     "text": [
      "defaultdict(<class 'int'>, {'ADJ': 1})\n",
      "grievende\n"
     ]
    },
    {
     "data": {
      "text/plain": [
       "VERB    1\n",
       "Name: actual, dtype: int64"
      ]
     },
     "metadata": {},
     "output_type": "display_data"
    },
    {
     "name": "stdout",
     "output_type": "stream",
     "text": [
      "defaultdict(<class 'int'>, {'VERB': 1})\n",
      "bepalende\n"
     ]
    },
    {
     "data": {
      "text/plain": [
       "VERB    1\n",
       "Name: actual, dtype: int64"
      ]
     },
     "metadata": {},
     "output_type": "display_data"
    },
    {
     "name": "stdout",
     "output_type": "stream",
     "text": [
      "defaultdict(<class 'int'>, {'VERB': 1})\n",
      "verrassend\n"
     ]
    },
    {
     "data": {
      "text/plain": [
       "VERB    1\n",
       "Name: actual, dtype: int64"
      ]
     },
     "metadata": {},
     "output_type": "display_data"
    },
    {
     "name": "stdout",
     "output_type": "stream",
     "text": [
      "defaultdict(<class 'int'>, {'VERB': 1})\n",
      "finaal\n"
     ]
    },
    {
     "data": {
      "text/plain": [
       "ADJ    1\n",
       "Name: actual, dtype: int64"
      ]
     },
     "metadata": {},
     "output_type": "display_data"
    },
    {
     "name": "stdout",
     "output_type": "stream",
     "text": [
      "defaultdict(<class 'int'>, {'ADJ': 1})\n",
      "Veluwse\n"
     ]
    },
    {
     "data": {
      "text/plain": [
       "ADJ    1\n",
       "Name: actual, dtype: int64"
      ]
     },
     "metadata": {},
     "output_type": "display_data"
    },
    {
     "name": "stdout",
     "output_type": "stream",
     "text": [
      "defaultdict(<class 'int'>, {'ADJ': 1})\n",
      "Telecommunicatie\n"
     ]
    },
    {
     "data": {
      "text/plain": [
       "NOUN    1\n",
       "Name: actual, dtype: int64"
      ]
     },
     "metadata": {},
     "output_type": "display_data"
    },
    {
     "name": "stdout",
     "output_type": "stream",
     "text": [
      "defaultdict(<class 'int'>, {'NOUN': 1})\n",
      "Vlaams-Belang-kamerlid\n"
     ]
    },
    {
     "data": {
      "text/plain": [
       "NOUN    1\n",
       "Name: actual, dtype: int64"
      ]
     },
     "metadata": {},
     "output_type": "display_data"
    },
    {
     "name": "stdout",
     "output_type": "stream",
     "text": [
      "defaultdict(<class 'int'>, {'NOUN': 1})\n",
      "Volkspartij\n"
     ]
    },
    {
     "data": {
      "text/plain": [
       "NOUN    1\n",
       "Name: actual, dtype: int64"
      ]
     },
     "metadata": {},
     "output_type": "display_data"
    },
    {
     "name": "stdout",
     "output_type": "stream",
     "text": [
      "defaultdict(<class 'int'>, {'NOUN': 1})\n",
      "gesloten\n"
     ]
    },
    {
     "data": {
      "text/plain": [
       "VERB    1\n",
       "Name: actual, dtype: int64"
      ]
     },
     "metadata": {},
     "output_type": "display_data"
    },
    {
     "name": "stdout",
     "output_type": "stream",
     "text": [
      "defaultdict(<class 'int'>, {'VERB': 4})\n",
      "FARC-woordvoerder\n"
     ]
    },
    {
     "data": {
      "text/plain": [
       "NOUN    1\n",
       "Name: actual, dtype: int64"
      ]
     },
     "metadata": {},
     "output_type": "display_data"
    },
    {
     "name": "stdout",
     "output_type": "stream",
     "text": [
      "defaultdict(<class 'int'>, {'NOUN': 1})\n",
      "den\n"
     ]
    },
    {
     "data": {
      "text/plain": [
       "PROPN    1\n",
       "Name: actual, dtype: int64"
      ]
     },
     "metadata": {},
     "output_type": "display_data"
    },
    {
     "name": "stdout",
     "output_type": "stream",
     "text": [
      "defaultdict(<class 'int'>, {'PROPN': 7})\n",
      "justitie\n"
     ]
    },
    {
     "data": {
      "text/plain": [
       "NOUN    1\n",
       "Name: actual, dtype: int64"
      ]
     },
     "metadata": {},
     "output_type": "display_data"
    },
    {
     "name": "stdout",
     "output_type": "stream",
     "text": [
      "defaultdict(<class 'int'>, {'NOUN': 2})\n",
      "rond\n"
     ]
    },
    {
     "data": {
      "text/plain": [
       "ADP    1\n",
       "Name: actual, dtype: int64"
      ]
     },
     "metadata": {},
     "output_type": "display_data"
    },
    {
     "name": "stdout",
     "output_type": "stream",
     "text": [
      "defaultdict(<class 'int'>, {'ADP': 14})\n",
      "waarover\n"
     ]
    },
    {
     "data": {
      "text/plain": [
       "ADV    1\n",
       "Name: actual, dtype: int64"
      ]
     },
     "metadata": {},
     "output_type": "display_data"
    },
    {
     "name": "stdout",
     "output_type": "stream",
     "text": [
      "defaultdict(<class 'int'>, {'ADV': 1})\n",
      "UF\n"
     ]
    },
    {
     "data": {
      "text/plain": [
       "PROPN    1\n",
       "Name: actual, dtype: int64"
      ]
     },
     "metadata": {},
     "output_type": "display_data"
    },
    {
     "name": "stdout",
     "output_type": "stream",
     "text": [
      "defaultdict(<class 'int'>, {'PROPN': 1})\n",
      "kunnen\n"
     ]
    },
    {
     "data": {
      "text/plain": [
       "VERB    1\n",
       "Name: actual, dtype: int64"
      ]
     },
     "metadata": {},
     "output_type": "display_data"
    },
    {
     "name": "stdout",
     "output_type": "stream",
     "text": [
      "defaultdict(<class 'int'>, {'AUX': 13, 'VERB': 2})\n",
      "teleurgesteld\n"
     ]
    },
    {
     "data": {
      "text/plain": [
       "VERB    1\n",
       "Name: actual, dtype: int64"
      ]
     },
     "metadata": {},
     "output_type": "display_data"
    },
    {
     "name": "stdout",
     "output_type": "stream",
     "text": [
      "defaultdict(<class 'int'>, {'VERB': 1})\n",
      "Faculteiten\n"
     ]
    },
    {
     "data": {
      "text/plain": [
       "NOUN    1\n",
       "Name: actual, dtype: int64"
      ]
     },
     "metadata": {},
     "output_type": "display_data"
    },
    {
     "name": "stdout",
     "output_type": "stream",
     "text": [
      "defaultdict(<class 'int'>, {'NOUN': 1})\n",
      "wild\n"
     ]
    },
    {
     "data": {
      "text/plain": [
       "ADJ    1\n",
       "Name: actual, dtype: int64"
      ]
     },
     "metadata": {},
     "output_type": "display_data"
    },
    {
     "name": "stdout",
     "output_type": "stream",
     "text": [
      "defaultdict(<class 'int'>, {'ADJ': 1})\n",
      "vÃ³Ã³r\n"
     ]
    },
    {
     "data": {
      "text/plain": [
       "ADP    1\n",
       "Name: actual, dtype: int64"
      ]
     },
     "metadata": {},
     "output_type": "display_data"
    },
    {
     "name": "stdout",
     "output_type": "stream",
     "text": [
      "defaultdict(<class 'int'>, {'ADP': 3})\n",
      "www.katholieknederland.nl\n"
     ]
    },
    {
     "data": {
      "text/plain": [
       "SYM    1\n",
       "Name: actual, dtype: int64"
      ]
     },
     "metadata": {},
     "output_type": "display_data"
    },
    {
     "name": "stdout",
     "output_type": "stream",
     "text": [
      "defaultdict(<class 'int'>, {'SYM': 1})\n",
      "American\n"
     ]
    },
    {
     "data": {
      "text/plain": [
       "PROPN    1\n",
       "Name: actual, dtype: int64"
      ]
     },
     "metadata": {},
     "output_type": "display_data"
    },
    {
     "name": "stdout",
     "output_type": "stream",
     "text": [
      "defaultdict(<class 'int'>, {'PROPN': 1})\n",
      "woensdag\n"
     ]
    },
    {
     "data": {
      "text/plain": [
       "PROPN    1\n",
       "Name: actual, dtype: int64"
      ]
     },
     "metadata": {},
     "output_type": "display_data"
    },
    {
     "name": "stdout",
     "output_type": "stream",
     "text": [
      "defaultdict(<class 'int'>, {'PROPN': 2})\n",
      "zogauw\n"
     ]
    },
    {
     "data": {
      "text/plain": [
       "SCONJ    1\n",
       "Name: actual, dtype: int64"
      ]
     },
     "metadata": {},
     "output_type": "display_data"
    },
    {
     "name": "stdout",
     "output_type": "stream",
     "text": [
      "defaultdict(<class 'int'>, {'SCONJ': 1})\n",
      "Natuurlijk\n"
     ]
    },
    {
     "data": {
      "text/plain": [
       "ADJ    1\n",
       "Name: actual, dtype: int64"
      ]
     },
     "metadata": {},
     "output_type": "display_data"
    },
    {
     "name": "stdout",
     "output_type": "stream",
     "text": [
      "defaultdict(<class 'int'>, {'ADJ': 1})\n",
      "a\n"
     ]
    },
    {
     "data": {
      "text/plain": [
       "X    1\n",
       "Name: actual, dtype: int64"
      ]
     },
     "metadata": {},
     "output_type": "display_data"
    },
    {
     "name": "stdout",
     "output_type": "stream",
     "text": [
      "defaultdict(<class 'int'>, {'X': 1})\n",
      "moraliserende\n"
     ]
    },
    {
     "data": {
      "text/plain": [
       "VERB    1\n",
       "Name: actual, dtype: int64"
      ]
     },
     "metadata": {},
     "output_type": "display_data"
    },
    {
     "name": "stdout",
     "output_type": "stream",
     "text": [
      "defaultdict(<class 'int'>, {'VERB': 1})\n",
      "zag\n"
     ]
    },
    {
     "data": {
      "text/plain": [
       "VERB    1\n",
       "Name: actual, dtype: int64"
      ]
     },
     "metadata": {},
     "output_type": "display_data"
    },
    {
     "name": "stdout",
     "output_type": "stream",
     "text": [
      "defaultdict(<class 'int'>, {'VERB': 7})\n",
      "Weltwirtschafsforum\n"
     ]
    },
    {
     "data": {
      "text/plain": [
       "X    1\n",
       "Name: actual, dtype: int64"
      ]
     },
     "metadata": {},
     "output_type": "display_data"
    },
    {
     "name": "stdout",
     "output_type": "stream",
     "text": [
      "defaultdict(<class 'int'>, {'X': 1})\n",
      "Polderlandschap\n"
     ]
    },
    {
     "data": {
      "text/plain": [
       "NOUN    1\n",
       "Name: actual, dtype: int64"
      ]
     },
     "metadata": {},
     "output_type": "display_data"
    },
    {
     "name": "stdout",
     "output_type": "stream",
     "text": [
      "defaultdict(<class 'int'>, {'NOUN': 1})\n",
      "Best\n"
     ]
    },
    {
     "data": {
      "text/plain": [
       "X    1\n",
       "Name: actual, dtype: int64"
      ]
     },
     "metadata": {},
     "output_type": "display_data"
    },
    {
     "name": "stdout",
     "output_type": "stream",
     "text": [
      "defaultdict(<class 'int'>, {'X': 1})\n",
      "mond-\n"
     ]
    },
    {
     "data": {
      "text/plain": [
       "X    1\n",
       "Name: actual, dtype: int64"
      ]
     },
     "metadata": {},
     "output_type": "display_data"
    },
    {
     "name": "stdout",
     "output_type": "stream",
     "text": [
      "defaultdict(<class 'int'>, {'X': 1})\n",
      "zwarten\n"
     ]
    },
    {
     "data": {
      "text/plain": [
       "ADJ    1\n",
       "Name: actual, dtype: int64"
      ]
     },
     "metadata": {},
     "output_type": "display_data"
    },
    {
     "name": "stdout",
     "output_type": "stream",
     "text": [
      "defaultdict(<class 'int'>, {'ADJ': 1})\n",
      "Lenstra-stadion\n"
     ]
    },
    {
     "data": {
      "text/plain": [
       "NOUN    1\n",
       "Name: actual, dtype: int64"
      ]
     },
     "metadata": {},
     "output_type": "display_data"
    },
    {
     "name": "stdout",
     "output_type": "stream",
     "text": [
      "defaultdict(<class 'int'>, {'NOUN': 1})\n",
      "Gewest\n"
     ]
    },
    {
     "data": {
      "text/plain": [
       "NOUN    1\n",
       "Name: actual, dtype: int64"
      ]
     },
     "metadata": {},
     "output_type": "display_data"
    },
    {
     "name": "stdout",
     "output_type": "stream",
     "text": [
      "defaultdict(<class 'int'>, {'PROPN': 10, 'NOUN': 1})\n",
      "1960-1991\n"
     ]
    },
    {
     "data": {
      "text/plain": [
       "SYM    1\n",
       "Name: actual, dtype: int64"
      ]
     },
     "metadata": {},
     "output_type": "display_data"
    },
    {
     "name": "stdout",
     "output_type": "stream",
     "text": [
      "defaultdict(<class 'int'>, {'SYM': 1})\n",
      "Pol&Soc\n"
     ]
    },
    {
     "data": {
      "text/plain": [
       "NOUN    1\n",
       "Name: actual, dtype: int64"
      ]
     },
     "metadata": {},
     "output_type": "display_data"
    },
    {
     "name": "stdout",
     "output_type": "stream",
     "text": [
      "defaultdict(<class 'int'>, {'NOUN': 1})\n",
      "gek\n"
     ]
    },
    {
     "data": {
      "text/plain": [
       "NOUN    1\n",
       "Name: actual, dtype: int64"
      ]
     },
     "metadata": {},
     "output_type": "display_data"
    },
    {
     "name": "stdout",
     "output_type": "stream",
     "text": [
      "defaultdict(<class 'int'>, {'NOUN': 1, 'ADJ': 1})\n",
      "sociologisch\n"
     ]
    },
    {
     "data": {
      "text/plain": [
       "ADJ    1\n",
       "Name: actual, dtype: int64"
      ]
     },
     "metadata": {},
     "output_type": "display_data"
    },
    {
     "name": "stdout",
     "output_type": "stream",
     "text": [
      "defaultdict(<class 'int'>, {'ADJ': 1})\n",
      "minus\n"
     ]
    },
    {
     "data": {
      "text/plain": [
       "ADV    1\n",
       "Name: actual, dtype: int64"
      ]
     },
     "metadata": {},
     "output_type": "display_data"
    },
    {
     "name": "stdout",
     "output_type": "stream",
     "text": [
      "defaultdict(<class 'int'>, {'ADV': 1})\n",
      "oost\n"
     ]
    },
    {
     "data": {
      "text/plain": [
       "ADJ    1\n",
       "Name: actual, dtype: int64"
      ]
     },
     "metadata": {},
     "output_type": "display_data"
    },
    {
     "name": "stdout",
     "output_type": "stream",
     "text": [
      "defaultdict(<class 'int'>, {'ADJ': 1})\n",
      "to\n"
     ]
    },
    {
     "data": {
      "text/plain": [
       "X    1\n",
       "Name: actual, dtype: int64"
      ]
     },
     "metadata": {},
     "output_type": "display_data"
    },
    {
     "name": "stdout",
     "output_type": "stream",
     "text": [
      "defaultdict(<class 'int'>, {'X': 1})\n",
      "roos\n"
     ]
    },
    {
     "data": {
      "text/plain": [
       "NOUN    1\n",
       "Name: actual, dtype: int64"
      ]
     },
     "metadata": {},
     "output_type": "display_data"
    },
    {
     "name": "stdout",
     "output_type": "stream",
     "text": [
      "defaultdict(<class 'int'>, {'NOUN': 1})\n",
      "vernieuwde\n"
     ]
    },
    {
     "data": {
      "text/plain": [
       "VERB    1\n",
       "Name: actual, dtype: int64"
      ]
     },
     "metadata": {},
     "output_type": "display_data"
    },
    {
     "name": "stdout",
     "output_type": "stream",
     "text": [
      "defaultdict(<class 'int'>, {'VERB': 2})\n",
      "Osteuropa\n"
     ]
    },
    {
     "data": {
      "text/plain": [
       "X    1\n",
       "Name: actual, dtype: int64"
      ]
     },
     "metadata": {},
     "output_type": "display_data"
    },
    {
     "name": "stdout",
     "output_type": "stream",
     "text": [
      "defaultdict(<class 'int'>, {'X': 1})\n",
      "want\n"
     ]
    },
    {
     "data": {
      "text/plain": [
       "CCONJ    1\n",
       "Name: actual, dtype: int64"
      ]
     },
     "metadata": {},
     "output_type": "display_data"
    },
    {
     "name": "stdout",
     "output_type": "stream",
     "text": [
      "defaultdict(<class 'int'>, {'CCONJ': 4})\n",
      "licht\n"
     ]
    },
    {
     "data": {
      "text/plain": [
       "ADJ    1\n",
       "Name: actual, dtype: int64"
      ]
     },
     "metadata": {},
     "output_type": "display_data"
    },
    {
     "name": "stdout",
     "output_type": "stream",
     "text": [
      "defaultdict(<class 'int'>, {'NOUN': 5, 'ADJ': 1})\n",
      "hoog\n"
     ]
    },
    {
     "data": {
      "text/plain": [
       "ADJ    1\n",
       "Name: actual, dtype: int64"
      ]
     },
     "metadata": {},
     "output_type": "display_data"
    },
    {
     "name": "stdout",
     "output_type": "stream",
     "text": [
      "defaultdict(<class 'int'>, {'ADJ': 3})\n",
      "up\n"
     ]
    },
    {
     "data": {
      "text/plain": [
       "X    1\n",
       "Name: actual, dtype: int64"
      ]
     },
     "metadata": {},
     "output_type": "display_data"
    },
    {
     "name": "stdout",
     "output_type": "stream",
     "text": [
      "defaultdict(<class 'int'>, {'X': 1})\n",
      "Wimbledon-winnares\n"
     ]
    },
    {
     "data": {
      "text/plain": [
       "NOUN    1\n",
       "Name: actual, dtype: int64"
      ]
     },
     "metadata": {},
     "output_type": "display_data"
    },
    {
     "name": "stdout",
     "output_type": "stream",
     "text": [
      "defaultdict(<class 'int'>, {'NOUN': 1})\n",
      "ontluisterende\n"
     ]
    },
    {
     "data": {
      "text/plain": [
       "VERB    1\n",
       "Name: actual, dtype: int64"
      ]
     },
     "metadata": {},
     "output_type": "display_data"
    },
    {
     "name": "stdout",
     "output_type": "stream",
     "text": [
      "defaultdict(<class 'int'>, {'VERB': 1})\n",
      "Old\n"
     ]
    },
    {
     "data": {
      "text/plain": [
       "PROPN    1\n",
       "Name: actual, dtype: int64"
      ]
     },
     "metadata": {},
     "output_type": "display_data"
    },
    {
     "name": "stdout",
     "output_type": "stream",
     "text": [
      "defaultdict(<class 'int'>, {'PROPN': 2})\n",
      "Rabo-renners\n"
     ]
    },
    {
     "data": {
      "text/plain": [
       "NOUN    1\n",
       "Name: actual, dtype: int64"
      ]
     },
     "metadata": {},
     "output_type": "display_data"
    },
    {
     "name": "stdout",
     "output_type": "stream",
     "text": [
      "defaultdict(<class 'int'>, {'NOUN': 1})\n",
      "behoudende\n"
     ]
    },
    {
     "data": {
      "text/plain": [
       "VERB    1\n",
       "Name: actual, dtype: int64"
      ]
     },
     "metadata": {},
     "output_type": "display_data"
    },
    {
     "name": "stdout",
     "output_type": "stream",
     "text": [
      "defaultdict(<class 'int'>, {'VERB': 1})\n",
      "redelijk\n"
     ]
    },
    {
     "data": {
      "text/plain": [
       "ADJ    1\n",
       "Name: actual, dtype: int64"
      ]
     },
     "metadata": {},
     "output_type": "display_data"
    },
    {
     "name": "stdout",
     "output_type": "stream",
     "text": [
      "defaultdict(<class 'int'>, {'ADJ': 1})\n",
      "=\n"
     ]
    },
    {
     "data": {
      "text/plain": [
       "SYM    1\n",
       "Name: actual, dtype: int64"
      ]
     },
     "metadata": {},
     "output_type": "display_data"
    },
    {
     "name": "stdout",
     "output_type": "stream",
     "text": [
      "defaultdict(<class 'int'>, {'SYM': 2})\n",
      "Vaticaans\n"
     ]
    },
    {
     "data": {
      "text/plain": [
       "ADJ    1\n",
       "Name: actual, dtype: int64"
      ]
     },
     "metadata": {},
     "output_type": "display_data"
    },
    {
     "name": "stdout",
     "output_type": "stream",
     "text": [
      "defaultdict(<class 'int'>, {'ADJ': 1})\n",
      "Rabo-ploeg\n"
     ]
    },
    {
     "data": {
      "text/plain": [
       "NOUN    1\n",
       "Name: actual, dtype: int64"
      ]
     },
     "metadata": {},
     "output_type": "display_data"
    },
    {
     "name": "stdout",
     "output_type": "stream",
     "text": [
      "defaultdict(<class 'int'>, {'NOUN': 1})\n",
      "brandende\n"
     ]
    },
    {
     "data": {
      "text/plain": [
       "VERB    1\n",
       "Name: actual, dtype: int64"
      ]
     },
     "metadata": {},
     "output_type": "display_data"
    },
    {
     "name": "stdout",
     "output_type": "stream",
     "text": [
      "defaultdict(<class 'int'>, {'VERB': 1})\n",
      "Beweging\n"
     ]
    },
    {
     "data": {
      "text/plain": [
       "NOUN    1\n",
       "Name: actual, dtype: int64"
      ]
     },
     "metadata": {},
     "output_type": "display_data"
    },
    {
     "name": "stdout",
     "output_type": "stream",
     "text": [
      "defaultdict(<class 'int'>, {'NOUN': 1})\n",
      "Hezbollah-strijders\n"
     ]
    },
    {
     "data": {
      "text/plain": [
       "NOUN    1\n",
       "Name: actual, dtype: int64"
      ]
     },
     "metadata": {},
     "output_type": "display_data"
    },
    {
     "name": "stdout",
     "output_type": "stream",
     "text": [
      "defaultdict(<class 'int'>, {'NOUN': 1})\n",
      "dansen\n"
     ]
    },
    {
     "data": {
      "text/plain": [
       "VERB    1\n",
       "Name: actual, dtype: int64"
      ]
     },
     "metadata": {},
     "output_type": "display_data"
    },
    {
     "name": "stdout",
     "output_type": "stream",
     "text": [
      "defaultdict(<class 'int'>, {'VERB': 1})\n",
      "geringschattende\n"
     ]
    },
    {
     "data": {
      "text/plain": [
       "VERB    1\n",
       "Name: actual, dtype: int64"
      ]
     },
     "metadata": {},
     "output_type": "display_data"
    },
    {
     "name": "stdout",
     "output_type": "stream",
     "text": [
      "defaultdict(<class 'int'>, {'VERB': 1})\n",
      "onverwacht\n"
     ]
    },
    {
     "data": {
      "text/plain": [
       "ADJ    1\n",
       "Name: actual, dtype: int64"
      ]
     },
     "metadata": {},
     "output_type": "display_data"
    },
    {
     "name": "stdout",
     "output_type": "stream",
     "text": [
      "defaultdict(<class 'int'>, {'ADJ': 1})\n",
      "stug\n"
     ]
    },
    {
     "data": {
      "text/plain": [
       "ADJ    1\n",
       "Name: actual, dtype: int64"
      ]
     },
     "metadata": {},
     "output_type": "display_data"
    },
    {
     "name": "stdout",
     "output_type": "stream",
     "text": [
      "defaultdict(<class 'int'>, {'ADJ': 1})\n",
      "Provincie\n"
     ]
    },
    {
     "data": {
      "text/plain": [
       "NOUN    1\n",
       "Name: actual, dtype: int64"
      ]
     },
     "metadata": {},
     "output_type": "display_data"
    },
    {
     "name": "stdout",
     "output_type": "stream",
     "text": [
      "defaultdict(<class 'int'>, {'NOUN': 1})\n",
      "professional\n"
     ]
    },
    {
     "data": {
      "text/plain": [
       "NOUN    1\n",
       "Name: actual, dtype: int64"
      ]
     },
     "metadata": {},
     "output_type": "display_data"
    },
    {
     "name": "stdout",
     "output_type": "stream",
     "text": [
      "defaultdict(<class 'int'>, {'NOUN': 1})\n",
      "gisterochtend\n"
     ]
    },
    {
     "data": {
      "text/plain": [
       "ADV    1\n",
       "Name: actual, dtype: int64"
      ]
     },
     "metadata": {},
     "output_type": "display_data"
    },
    {
     "name": "stdout",
     "output_type": "stream",
     "text": [
      "defaultdict(<class 'int'>, {'ADV': 1})\n",
      "Nature\n"
     ]
    },
    {
     "data": {
      "text/plain": [
       "X    1\n",
       "Name: actual, dtype: int64"
      ]
     },
     "metadata": {},
     "output_type": "display_data"
    },
    {
     "name": "stdout",
     "output_type": "stream",
     "text": [
      "defaultdict(<class 'int'>, {'X': 1})\n",
      "gewild\n"
     ]
    },
    {
     "data": {
      "text/plain": [
       "VERB    1\n",
       "Name: actual, dtype: int64"
      ]
     },
     "metadata": {},
     "output_type": "display_data"
    },
    {
     "name": "stdout",
     "output_type": "stream",
     "text": [
      "defaultdict(<class 'int'>, {'VERB': 1})\n",
      "Akademie\n"
     ]
    },
    {
     "data": {
      "text/plain": [
       "NOUN    1\n",
       "Name: actual, dtype: int64"
      ]
     },
     "metadata": {},
     "output_type": "display_data"
    },
    {
     "name": "stdout",
     "output_type": "stream",
     "text": [
      "defaultdict(<class 'int'>, {'NOUN': 1})\n",
      "omgekeerd\n"
     ]
    },
    {
     "data": {
      "text/plain": [
       "VERB    1\n",
       "Name: actual, dtype: int64"
      ]
     },
     "metadata": {},
     "output_type": "display_data"
    },
    {
     "name": "stdout",
     "output_type": "stream",
     "text": [
      "defaultdict(<class 'int'>, {'VERB': 1})\n",
      "Dietsche\n"
     ]
    },
    {
     "data": {
      "text/plain": [
       "ADJ    1\n",
       "Name: actual, dtype: int64"
      ]
     },
     "metadata": {},
     "output_type": "display_data"
    },
    {
     "name": "stdout",
     "output_type": "stream",
     "text": [
      "defaultdict(<class 'int'>, {'ADJ': 2})\n",
      "protestanten\n"
     ]
    },
    {
     "data": {
      "text/plain": [
       "NOUN    1\n",
       "Name: actual, dtype: int64"
      ]
     },
     "metadata": {},
     "output_type": "display_data"
    },
    {
     "name": "stdout",
     "output_type": "stream",
     "text": [
      "defaultdict(<class 'int'>, {'NOUN': 1})\n",
      "beider\n"
     ]
    },
    {
     "data": {
      "text/plain": [
       "DET    1\n",
       "Name: actual, dtype: int64"
      ]
     },
     "metadata": {},
     "output_type": "display_data"
    },
    {
     "name": "stdout",
     "output_type": "stream",
     "text": [
      "defaultdict(<class 'int'>, {'DET': 1})\n",
      "zijnde\n"
     ]
    },
    {
     "data": {
      "text/plain": [
       "AUX    1\n",
       "Name: actual, dtype: int64"
      ]
     },
     "metadata": {},
     "output_type": "display_data"
    },
    {
     "name": "stdout",
     "output_type": "stream",
     "text": [
      "defaultdict(<class 'int'>, {'AUX': 1})\n",
      "Handelsschool\n"
     ]
    },
    {
     "data": {
      "text/plain": [
       "NOUN    1\n",
       "Name: actual, dtype: int64"
      ]
     },
     "metadata": {},
     "output_type": "display_data"
    },
    {
     "name": "stdout",
     "output_type": "stream",
     "text": [
      "defaultdict(<class 'int'>, {'NOUN': 1})\n",
      "morte\n"
     ]
    },
    {
     "data": {
      "text/plain": [
       "X    1\n",
       "Name: actual, dtype: int64"
      ]
     },
     "metadata": {},
     "output_type": "display_data"
    },
    {
     "name": "stdout",
     "output_type": "stream",
     "text": [
      "defaultdict(<class 'int'>, {'X': 1})\n",
      "vice-president\n"
     ]
    },
    {
     "data": {
      "text/plain": [
       "NOUN    1\n",
       "Name: actual, dtype: int64"
      ]
     },
     "metadata": {},
     "output_type": "display_data"
    },
    {
     "name": "stdout",
     "output_type": "stream",
     "text": [
      "defaultdict(<class 'int'>, {'NOUN': 1})\n",
      "Klassiek\n"
     ]
    },
    {
     "data": {
      "text/plain": [
       "ADJ    1\n",
       "Name: actual, dtype: int64"
      ]
     },
     "metadata": {},
     "output_type": "display_data"
    },
    {
     "name": "stdout",
     "output_type": "stream",
     "text": [
      "defaultdict(<class 'int'>, {'ADJ': 1})\n",
      "nul\n"
     ]
    },
    {
     "data": {
      "text/plain": [
       "NUM    1\n",
       "Name: actual, dtype: int64"
      ]
     },
     "metadata": {},
     "output_type": "display_data"
    },
    {
     "name": "stdout",
     "output_type": "stream",
     "text": [
      "defaultdict(<class 'int'>, {'NUM': 1})\n",
      "spons-\n"
     ]
    },
    {
     "data": {
      "text/plain": [
       "X    1\n",
       "Name: actual, dtype: int64"
      ]
     },
     "metadata": {},
     "output_type": "display_data"
    },
    {
     "name": "stdout",
     "output_type": "stream",
     "text": [
      "defaultdict(<class 'int'>, {'X': 1})\n",
      "World\n"
     ]
    },
    {
     "data": {
      "text/plain": [
       "X    1\n",
       "Name: actual, dtype: int64"
      ]
     },
     "metadata": {},
     "output_type": "display_data"
    },
    {
     "name": "stdout",
     "output_type": "stream",
     "text": [
      "defaultdict(<class 'int'>, {'PROPN': 7, 'X': 1})\n",
      "aardig\n"
     ]
    },
    {
     "data": {
      "text/plain": [
       "ADJ    1\n",
       "Name: actual, dtype: int64"
      ]
     },
     "metadata": {},
     "output_type": "display_data"
    },
    {
     "name": "stdout",
     "output_type": "stream",
     "text": [
      "defaultdict(<class 'int'>, {'ADJ': 2})\n",
      "kortstondig\n"
     ]
    },
    {
     "data": {
      "text/plain": [
       "ADJ    1\n",
       "Name: actual, dtype: int64"
      ]
     },
     "metadata": {},
     "output_type": "display_data"
    },
    {
     "name": "stdout",
     "output_type": "stream",
     "text": [
      "defaultdict(<class 'int'>, {'ADJ': 1})\n",
      "hoofdzakelijk\n"
     ]
    },
    {
     "data": {
      "text/plain": [
       "ADJ    1\n",
       "Name: actual, dtype: int64"
      ]
     },
     "metadata": {},
     "output_type": "display_data"
    },
    {
     "name": "stdout",
     "output_type": "stream",
     "text": [
      "defaultdict(<class 'int'>, {'ADJ': 1})\n",
      "Wake\n"
     ]
    },
    {
     "data": {
      "text/plain": [
       "X    1\n",
       "Name: actual, dtype: int64"
      ]
     },
     "metadata": {},
     "output_type": "display_data"
    },
    {
     "name": "stdout",
     "output_type": "stream",
     "text": [
      "defaultdict(<class 'int'>, {'X': 1})\n",
      "uitzinnig\n"
     ]
    },
    {
     "data": {
      "text/plain": [
       "ADJ    1\n",
       "Name: actual, dtype: int64"
      ]
     },
     "metadata": {},
     "output_type": "display_data"
    },
    {
     "name": "stdout",
     "output_type": "stream",
     "text": [
      "defaultdict(<class 'int'>, {'ADJ': 1})\n",
      "HergÃ©\n"
     ]
    },
    {
     "data": {
      "text/plain": [
       "PROPN    1\n",
       "Name: actual, dtype: int64"
      ]
     },
     "metadata": {},
     "output_type": "display_data"
    },
    {
     "name": "stdout",
     "output_type": "stream",
     "text": [
      "defaultdict(<class 'int'>, {'PROPN': 21})\n",
      "Hoeveel\n"
     ]
    },
    {
     "data": {
      "text/plain": [
       "NUM    1\n",
       "Name: actual, dtype: int64"
      ]
     },
     "metadata": {},
     "output_type": "display_data"
    },
    {
     "name": "stdout",
     "output_type": "stream",
     "text": [
      "defaultdict(<class 'int'>, {'NUM': 1})\n",
      "technisch\n"
     ]
    },
    {
     "data": {
      "text/plain": [
       "ADJ    1\n",
       "Name: actual, dtype: int64"
      ]
     },
     "metadata": {},
     "output_type": "display_data"
    },
    {
     "name": "stdout",
     "output_type": "stream",
     "text": [
      "defaultdict(<class 'int'>, {'ADJ': 3})\n",
      "lam\n"
     ]
    },
    {
     "data": {
      "text/plain": [
       "ADJ    1\n",
       "Name: actual, dtype: int64"
      ]
     },
     "metadata": {},
     "output_type": "display_data"
    },
    {
     "name": "stdout",
     "output_type": "stream",
     "text": [
      "defaultdict(<class 'int'>, {'ADJ': 1})\n",
      "C\n"
     ]
    },
    {
     "data": {
      "text/plain": [
       "SYM    1\n",
       "Name: actual, dtype: int64"
      ]
     },
     "metadata": {},
     "output_type": "display_data"
    },
    {
     "name": "stdout",
     "output_type": "stream",
     "text": [
      "defaultdict(<class 'int'>, {'SYM': 1})\n",
      "plaatselijk\n"
     ]
    },
    {
     "data": {
      "text/plain": [
       "ADJ    1\n",
       "Name: actual, dtype: int64"
      ]
     },
     "metadata": {},
     "output_type": "display_data"
    },
    {
     "name": "stdout",
     "output_type": "stream",
     "text": [
      "defaultdict(<class 'int'>, {'ADJ': 1})\n",
      "A5\n"
     ]
    },
    {
     "data": {
      "text/plain": [
       "SYM    1\n",
       "Name: actual, dtype: int64"
      ]
     },
     "metadata": {},
     "output_type": "display_data"
    },
    {
     "name": "stdout",
     "output_type": "stream",
     "text": [
      "defaultdict(<class 'int'>, {'SYM': 1})\n",
      "richting\n"
     ]
    },
    {
     "data": {
      "text/plain": [
       "NOUN    1\n",
       "Name: actual, dtype: int64"
      ]
     },
     "metadata": {},
     "output_type": "display_data"
    },
    {
     "name": "stdout",
     "output_type": "stream",
     "text": [
      "defaultdict(<class 'int'>, {'NOUN': 3})\n",
      "gelovigen\n"
     ]
    },
    {
     "data": {
      "text/plain": [
       "ADJ    1\n",
       "Name: actual, dtype: int64"
      ]
     },
     "metadata": {},
     "output_type": "display_data"
    },
    {
     "name": "stdout",
     "output_type": "stream",
     "text": [
      "defaultdict(<class 'int'>, {'ADJ': 1, 'NOUN': 1})\n",
      "noord\n"
     ]
    },
    {
     "data": {
      "text/plain": [
       "ADJ    1\n",
       "Name: actual, dtype: int64"
      ]
     },
     "metadata": {},
     "output_type": "display_data"
    },
    {
     "name": "stdout",
     "output_type": "stream",
     "text": [
      "defaultdict(<class 'int'>, {'ADJ': 1})\n",
      "noorden\n"
     ]
    },
    {
     "data": {
      "text/plain": [
       "NOUN    1\n",
       "Name: actual, dtype: int64"
      ]
     },
     "metadata": {},
     "output_type": "display_data"
    },
    {
     "name": "stdout",
     "output_type": "stream",
     "text": [
      "defaultdict(<class 'int'>, {'NOUN': 1})\n",
      "derde\n"
     ]
    },
    {
     "data": {
      "text/plain": [
       "ADJ    1\n",
       "Name: actual, dtype: int64"
      ]
     },
     "metadata": {},
     "output_type": "display_data"
    },
    {
     "name": "stdout",
     "output_type": "stream",
     "text": [
      "defaultdict(<class 'int'>, {'ADJ': 6})\n",
      "vroeg\n"
     ]
    },
    {
     "data": {
      "text/plain": [
       "ADJ    1\n",
       "Name: actual, dtype: int64"
      ]
     },
     "metadata": {},
     "output_type": "display_data"
    },
    {
     "name": "stdout",
     "output_type": "stream",
     "text": [
      "defaultdict(<class 'int'>, {'ADJ': 1, 'VERB': 1})\n",
      "Individueel\n"
     ]
    },
    {
     "data": {
      "text/plain": [
       "ADJ    1\n",
       "Name: actual, dtype: int64"
      ]
     },
     "metadata": {},
     "output_type": "display_data"
    },
    {
     "name": "stdout",
     "output_type": "stream",
     "text": [
      "defaultdict(<class 'int'>, {'ADJ': 1})\n",
      "destijds\n"
     ]
    },
    {
     "data": {
      "text/plain": [
       "ADJ    1\n",
       "Name: actual, dtype: int64"
      ]
     },
     "metadata": {},
     "output_type": "display_data"
    },
    {
     "name": "stdout",
     "output_type": "stream",
     "text": [
      "defaultdict(<class 'int'>, {'ADJ': 1})\n",
      "Picks\n"
     ]
    },
    {
     "data": {
      "text/plain": [
       "X    1\n",
       "Name: actual, dtype: int64"
      ]
     },
     "metadata": {},
     "output_type": "display_data"
    },
    {
     "name": "stdout",
     "output_type": "stream",
     "text": [
      "defaultdict(<class 'int'>, {'X': 1})\n",
      "beslissende\n"
     ]
    },
    {
     "data": {
      "text/plain": [
       "VERB    1\n",
       "Name: actual, dtype: int64"
      ]
     },
     "metadata": {},
     "output_type": "display_data"
    },
    {
     "name": "stdout",
     "output_type": "stream",
     "text": [
      "defaultdict(<class 'int'>, {'VERB': 1})\n",
      "'s\n"
     ]
    },
    {
     "data": {
      "text/plain": [
       "DET    1\n",
       "Name: actual, dtype: int64"
      ]
     },
     "metadata": {},
     "output_type": "display_data"
    },
    {
     "name": "stdout",
     "output_type": "stream",
     "text": [
      "defaultdict(<class 'int'>, {'DET': 1})\n",
      "gebroken\n"
     ]
    },
    {
     "data": {
      "text/plain": [
       "VERB    1\n",
       "Name: actual, dtype: int64"
      ]
     },
     "metadata": {},
     "output_type": "display_data"
    },
    {
     "name": "stdout",
     "output_type": "stream",
     "text": [
      "defaultdict(<class 'int'>, {'VERB': 1})\n",
      "getinte\n"
     ]
    },
    {
     "data": {
      "text/plain": [
       "ADJ    1\n",
       "Name: actual, dtype: int64"
      ]
     },
     "metadata": {},
     "output_type": "display_data"
    },
    {
     "name": "stdout",
     "output_type": "stream",
     "text": [
      "defaultdict(<class 'int'>, {'ADJ': 1})\n",
      "Tipperary\n"
     ]
    },
    {
     "data": {
      "text/plain": [
       "X    1\n",
       "Name: actual, dtype: int64"
      ]
     },
     "metadata": {},
     "output_type": "display_data"
    },
    {
     "name": "stdout",
     "output_type": "stream",
     "text": [
      "defaultdict(<class 'int'>, {'X': 1, 'PROPN': 1})\n",
      "gekleurde\n"
     ]
    },
    {
     "data": {
      "text/plain": [
       "VERB    1\n",
       "Name: actual, dtype: int64"
      ]
     },
     "metadata": {},
     "output_type": "display_data"
    },
    {
     "name": "stdout",
     "output_type": "stream",
     "text": [
      "defaultdict(<class 'int'>, {'VERB': 1})\n",
      "Klare\n"
     ]
    },
    {
     "data": {
      "text/plain": [
       "ADJ    1\n",
       "Name: actual, dtype: int64"
      ]
     },
     "metadata": {},
     "output_type": "display_data"
    },
    {
     "name": "stdout",
     "output_type": "stream",
     "text": [
      "defaultdict(<class 'int'>, {'ADJ': 1})\n",
      "vlekkeloos\n"
     ]
    },
    {
     "data": {
      "text/plain": [
       "ADJ    1\n",
       "Name: actual, dtype: int64"
      ]
     },
     "metadata": {},
     "output_type": "display_data"
    },
    {
     "name": "stdout",
     "output_type": "stream",
     "text": [
      "defaultdict(<class 'int'>, {'ADJ': 1})\n",
      "1953-1959\n"
     ]
    },
    {
     "data": {
      "text/plain": [
       "SYM    1\n",
       "Name: actual, dtype: int64"
      ]
     },
     "metadata": {},
     "output_type": "display_data"
    },
    {
     "name": "stdout",
     "output_type": "stream",
     "text": [
      "defaultdict(<class 'int'>, {'SYM': 1})\n",
      "juichende\n"
     ]
    },
    {
     "data": {
      "text/plain": [
       "VERB    1\n",
       "Name: actual, dtype: int64"
      ]
     },
     "metadata": {},
     "output_type": "display_data"
    },
    {
     "name": "stdout",
     "output_type": "stream",
     "text": [
      "defaultdict(<class 'int'>, {'VERB': 1})\n",
      "gaan\n"
     ]
    },
    {
     "data": {
      "text/plain": [
       "VERB    1\n",
       "Name: actual, dtype: int64"
      ]
     },
     "metadata": {},
     "output_type": "display_data"
    },
    {
     "name": "stdout",
     "output_type": "stream",
     "text": [
      "defaultdict(<class 'int'>, {'VERB': 14})\n",
      "gebaarde\n"
     ]
    },
    {
     "data": {
      "text/plain": [
       "ADJ    1\n",
       "Name: actual, dtype: int64"
      ]
     },
     "metadata": {},
     "output_type": "display_data"
    },
    {
     "name": "stdout",
     "output_type": "stream",
     "text": [
      "defaultdict(<class 'int'>, {'ADJ': 1})\n",
      "Eigenlijk\n"
     ]
    },
    {
     "data": {
      "text/plain": [
       "ADJ    1\n",
       "Name: actual, dtype: int64"
      ]
     },
     "metadata": {},
     "output_type": "display_data"
    },
    {
     "name": "stdout",
     "output_type": "stream",
     "text": [
      "defaultdict(<class 'int'>, {'ADJ': 1})\n",
      "Duinen\n"
     ]
    },
    {
     "data": {
      "text/plain": [
       "NOUN    1\n",
       "Name: actual, dtype: int64"
      ]
     },
     "metadata": {},
     "output_type": "display_data"
    },
    {
     "name": "stdout",
     "output_type": "stream",
     "text": [
      "defaultdict(<class 'int'>, {'NOUN': 1})\n",
      "antiek\n"
     ]
    },
    {
     "data": {
      "text/plain": [
       "NOUN    1\n",
       "Name: actual, dtype: int64"
      ]
     },
     "metadata": {},
     "output_type": "display_data"
    },
    {
     "name": "stdout",
     "output_type": "stream",
     "text": [
      "defaultdict(<class 'int'>, {'NOUN': 1})\n",
      "mÃ©Ã©r\n"
     ]
    },
    {
     "data": {
      "text/plain": [
       "DET    1\n",
       "Name: actual, dtype: int64"
      ]
     },
     "metadata": {},
     "output_type": "display_data"
    },
    {
     "name": "stdout",
     "output_type": "stream",
     "text": [
      "defaultdict(<class 'int'>, {'DET': 1})\n",
      "1945-1972\n"
     ]
    },
    {
     "data": {
      "text/plain": [
       "SYM    1\n",
       "Name: actual, dtype: int64"
      ]
     },
     "metadata": {},
     "output_type": "display_data"
    },
    {
     "name": "stdout",
     "output_type": "stream",
     "text": [
      "defaultdict(<class 'int'>, {'SYM': 1})\n",
      "2/3\n"
     ]
    },
    {
     "data": {
      "text/plain": [
       "ADJ    1\n",
       "Name: actual, dtype: int64"
      ]
     },
     "metadata": {},
     "output_type": "display_data"
    },
    {
     "name": "stdout",
     "output_type": "stream",
     "text": [
      "defaultdict(<class 'int'>, {'ADJ': 1})\n",
      "Met\n"
     ]
    },
    {
     "data": {
      "text/plain": [
       "ADP    1\n",
       "Name: actual, dtype: int64"
      ]
     },
     "metadata": {},
     "output_type": "display_data"
    },
    {
     "name": "stdout",
     "output_type": "stream",
     "text": [
      "defaultdict(<class 'int'>, {'ADP': 16})\n",
      "3000\n"
     ]
    },
    {
     "data": {
      "text/plain": [
       "PROPN    1\n",
       "Name: actual, dtype: int64"
      ]
     },
     "metadata": {},
     "output_type": "display_data"
    },
    {
     "name": "stdout",
     "output_type": "stream",
     "text": [
      "defaultdict(<class 'int'>, {'PROPN': 1})\n",
      "Baas\n"
     ]
    },
    {
     "data": {
      "text/plain": [
       "NOUN    1\n",
       "Name: actual, dtype: int64"
      ]
     },
     "metadata": {},
     "output_type": "display_data"
    },
    {
     "name": "stdout",
     "output_type": "stream",
     "text": [
      "defaultdict(<class 'int'>, {'NOUN': 1})\n",
      "fel\n"
     ]
    },
    {
     "data": {
      "text/plain": [
       "ADJ    1\n",
       "Name: actual, dtype: int64"
      ]
     },
     "metadata": {},
     "output_type": "display_data"
    },
    {
     "name": "stdout",
     "output_type": "stream",
     "text": [
      "defaultdict(<class 'int'>, {'ADJ': 1})\n",
      "avonturen\n"
     ]
    },
    {
     "data": {
      "text/plain": [
       "NOUN    1\n",
       "Name: actual, dtype: int64"
      ]
     },
     "metadata": {},
     "output_type": "display_data"
    },
    {
     "name": "stdout",
     "output_type": "stream",
     "text": [
      "defaultdict(<class 'int'>, {'NOUN': 5})\n",
      "spokenjagers\n"
     ]
    },
    {
     "data": {
      "text/plain": [
       "NOUN    1\n",
       "Name: actual, dtype: int64"
      ]
     },
     "metadata": {},
     "output_type": "display_data"
    },
    {
     "name": "stdout",
     "output_type": "stream",
     "text": [
      "defaultdict(<class 'int'>, {'NOUN': 1})\n",
      "carnaval\n"
     ]
    },
    {
     "data": {
      "text/plain": [
       "NOUN    1\n",
       "Name: actual, dtype: int64"
      ]
     },
     "metadata": {},
     "output_type": "display_data"
    },
    {
     "name": "stdout",
     "output_type": "stream",
     "text": [
      "defaultdict(<class 'int'>, {'NOUN': 2})\n",
      "eigenlijk\n"
     ]
    },
    {
     "data": {
      "text/plain": [
       "ADJ    1\n",
       "Name: actual, dtype: int64"
      ]
     },
     "metadata": {},
     "output_type": "display_data"
    },
    {
     "name": "stdout",
     "output_type": "stream",
     "text": [
      "defaultdict(<class 'int'>, {'ADJ': 1})\n",
      "Witte\n"
     ]
    },
    {
     "data": {
      "text/plain": [
       "ADJ    1\n",
       "Name: actual, dtype: int64"
      ]
     },
     "metadata": {},
     "output_type": "display_data"
    },
    {
     "name": "stdout",
     "output_type": "stream",
     "text": [
      "defaultdict(<class 'int'>, {'PROPN': 1, 'ADJ': 1})\n",
      "James\n"
     ]
    },
    {
     "data": {
      "text/plain": [
       "X    1\n",
       "Name: actual, dtype: int64"
      ]
     },
     "metadata": {},
     "output_type": "display_data"
    },
    {
     "name": "stdout",
     "output_type": "stream",
     "text": [
      "defaultdict(<class 'int'>, {'PROPN': 15, 'X': 1})\n",
      "1969-1974\n"
     ]
    },
    {
     "data": {
      "text/plain": [
       "SYM    1\n",
       "Name: actual, dtype: int64"
      ]
     },
     "metadata": {},
     "output_type": "display_data"
    },
    {
     "name": "stdout",
     "output_type": "stream",
     "text": [
      "defaultdict(<class 'int'>, {'SYM': 1})\n",
      "gevorderd\n"
     ]
    },
    {
     "data": {
      "text/plain": [
       "VERB    1\n",
       "Name: actual, dtype: int64"
      ]
     },
     "metadata": {},
     "output_type": "display_data"
    },
    {
     "name": "stdout",
     "output_type": "stream",
     "text": [
      "defaultdict(<class 'int'>, {'VERB': 1})\n",
      "benedictines\n"
     ]
    },
    {
     "data": {
      "text/plain": [
       "NOUN    1\n",
       "Name: actual, dtype: int64"
      ]
     },
     "metadata": {},
     "output_type": "display_data"
    },
    {
     "name": "stdout",
     "output_type": "stream",
     "text": [
      "defaultdict(<class 'int'>, {'NOUN': 1})\n",
      "Egyptenaren\n"
     ]
    },
    {
     "data": {
      "text/plain": [
       "PROPN    1\n",
       "Name: actual, dtype: int64"
      ]
     },
     "metadata": {},
     "output_type": "display_data"
    },
    {
     "name": "stdout",
     "output_type": "stream",
     "text": [
      "defaultdict(<class 'int'>, {'PROPN': 3})\n",
      "uitstekend\n"
     ]
    },
    {
     "data": {
      "text/plain": [
       "ADJ    1\n",
       "Name: actual, dtype: int64"
      ]
     },
     "metadata": {},
     "output_type": "display_data"
    },
    {
     "name": "stdout",
     "output_type": "stream",
     "text": [
      "defaultdict(<class 'int'>, {'ADJ': 1})\n",
      "Ensor\n"
     ]
    },
    {
     "data": {
      "text/plain": [
       "X    1\n",
       "Name: actual, dtype: int64"
      ]
     },
     "metadata": {},
     "output_type": "display_data"
    },
    {
     "name": "stdout",
     "output_type": "stream",
     "text": [
      "defaultdict(<class 'int'>, {'PROPN': 56, 'X': 1})\n",
      "The\n"
     ]
    },
    {
     "data": {
      "text/plain": [
       "PROPN    1\n",
       "Name: actual, dtype: int64"
      ]
     },
     "metadata": {},
     "output_type": "display_data"
    },
    {
     "name": "stdout",
     "output_type": "stream",
     "text": [
      "defaultdict(<class 'int'>, {'PROPN': 1})\n",
      "blanken\n"
     ]
    },
    {
     "data": {
      "text/plain": [
       "ADJ    1\n",
       "Name: actual, dtype: int64"
      ]
     },
     "metadata": {},
     "output_type": "display_data"
    },
    {
     "name": "stdout",
     "output_type": "stream",
     "text": [
      "defaultdict(<class 'int'>, {'ADJ': 1})\n",
      "Philips-team\n"
     ]
    },
    {
     "data": {
      "text/plain": [
       "NOUN    1\n",
       "Name: actual, dtype: int64"
      ]
     },
     "metadata": {},
     "output_type": "display_data"
    },
    {
     "name": "stdout",
     "output_type": "stream",
     "text": [
      "defaultdict(<class 'int'>, {'NOUN': 1})\n",
      "interlandwedstrijd\n"
     ]
    },
    {
     "data": {
      "text/plain": [
       "NOUN    1\n",
       "Name: actual, dtype: int64"
      ]
     },
     "metadata": {},
     "output_type": "display_data"
    },
    {
     "name": "stdout",
     "output_type": "stream",
     "text": [
      "defaultdict(<class 'int'>, {'NOUN': 1})\n",
      "Bijlmerramp\n"
     ]
    },
    {
     "data": {
      "text/plain": [
       "NOUN    1\n",
       "Name: actual, dtype: int64"
      ]
     },
     "metadata": {},
     "output_type": "display_data"
    },
    {
     "name": "stdout",
     "output_type": "stream",
     "text": [
      "defaultdict(<class 'int'>, {'NOUN': 1})\n",
      "Vrijdag-akkoord\n"
     ]
    },
    {
     "data": {
      "text/plain": [
       "NOUN    1\n",
       "Name: actual, dtype: int64"
      ]
     },
     "metadata": {},
     "output_type": "display_data"
    },
    {
     "name": "stdout",
     "output_type": "stream",
     "text": [
      "defaultdict(<class 'int'>, {'NOUN': 1})\n",
      "levend\n"
     ]
    },
    {
     "data": {
      "text/plain": [
       "VERB    1\n",
       "Name: actual, dtype: int64"
      ]
     },
     "metadata": {},
     "output_type": "display_data"
    },
    {
     "name": "stdout",
     "output_type": "stream",
     "text": [
      "defaultdict(<class 'int'>, {'VERB': 1})\n",
      "hard\n"
     ]
    },
    {
     "data": {
      "text/plain": [
       "ADJ    1\n",
       "Name: actual, dtype: int64"
      ]
     },
     "metadata": {},
     "output_type": "display_data"
    },
    {
     "name": "stdout",
     "output_type": "stream",
     "text": [
      "defaultdict(<class 'int'>, {'ADJ': 3})\n",
      "Zeilster\n"
     ]
    },
    {
     "data": {
      "text/plain": [
       "NOUN    1\n",
       "Name: actual, dtype: int64"
      ]
     },
     "metadata": {},
     "output_type": "display_data"
    },
    {
     "name": "stdout",
     "output_type": "stream",
     "text": [
      "defaultdict(<class 'int'>, {'NOUN': 1})\n",
      "Midden-\n"
     ]
    },
    {
     "data": {
      "text/plain": [
       "X    1\n",
       "Name: actual, dtype: int64"
      ]
     },
     "metadata": {},
     "output_type": "display_data"
    },
    {
     "name": "stdout",
     "output_type": "stream",
     "text": [
      "defaultdict(<class 'int'>, {'X': 1})\n",
      "EU-burgers\n"
     ]
    },
    {
     "data": {
      "text/plain": [
       "NOUN    1\n",
       "Name: actual, dtype: int64"
      ]
     },
     "metadata": {},
     "output_type": "display_data"
    },
    {
     "name": "stdout",
     "output_type": "stream",
     "text": [
      "defaultdict(<class 'int'>, {'NOUN': 1})\n",
      "schouderophalend\n"
     ]
    },
    {
     "data": {
      "text/plain": [
       "VERB    1\n",
       "Name: actual, dtype: int64"
      ]
     },
     "metadata": {},
     "output_type": "display_data"
    },
    {
     "name": "stdout",
     "output_type": "stream",
     "text": [
      "defaultdict(<class 'int'>, {'VERB': 1})\n",
      "bijgenaamd\n"
     ]
    },
    {
     "data": {
      "text/plain": [
       "ADJ    1\n",
       "Name: actual, dtype: int64"
      ]
     },
     "metadata": {},
     "output_type": "display_data"
    },
    {
     "name": "stdout",
     "output_type": "stream",
     "text": [
      "defaultdict(<class 'int'>, {'ADJ': 1})\n",
      "dicht\n"
     ]
    },
    {
     "data": {
      "text/plain": [
       "ADJ    1\n",
       "Name: actual, dtype: int64"
      ]
     },
     "metadata": {},
     "output_type": "display_data"
    },
    {
     "name": "stdout",
     "output_type": "stream",
     "text": [
      "defaultdict(<class 'int'>, {'ADJ': 2})\n",
      "verstikkende\n"
     ]
    },
    {
     "data": {
      "text/plain": [
       "VERB    1\n",
       "Name: actual, dtype: int64"
      ]
     },
     "metadata": {},
     "output_type": "display_data"
    },
    {
     "name": "stdout",
     "output_type": "stream",
     "text": [
      "defaultdict(<class 'int'>, {'VERB': 1})\n",
      "nodig\n"
     ]
    },
    {
     "data": {
      "text/plain": [
       "ADJ    1\n",
       "Name: actual, dtype: int64"
      ]
     },
     "metadata": {},
     "output_type": "display_data"
    },
    {
     "name": "stdout",
     "output_type": "stream",
     "text": [
      "defaultdict(<class 'int'>, {'ADJ': 3})\n",
      "Franse\n"
     ]
    },
    {
     "data": {
      "text/plain": [
       "ADJ    1\n",
       "Name: actual, dtype: int64"
      ]
     },
     "metadata": {},
     "output_type": "display_data"
    },
    {
     "name": "stdout",
     "output_type": "stream",
     "text": [
      "defaultdict(<class 'int'>, {'ADJ': 2})\n",
      "Nederlands\n"
     ]
    },
    {
     "data": {
      "text/plain": [
       "ADJ    1\n",
       "Name: actual, dtype: int64"
      ]
     },
     "metadata": {},
     "output_type": "display_data"
    },
    {
     "name": "stdout",
     "output_type": "stream",
     "text": [
      "defaultdict(<class 'int'>, {'ADJ': 7, 'PROPN': 1})\n",
      "League-seizoen\n"
     ]
    },
    {
     "data": {
      "text/plain": [
       "NOUN    1\n",
       "Name: actual, dtype: int64"
      ]
     },
     "metadata": {},
     "output_type": "display_data"
    },
    {
     "name": "stdout",
     "output_type": "stream",
     "text": [
      "defaultdict(<class 'int'>, {'NOUN': 1})\n",
      "Groep\n"
     ]
    },
    {
     "data": {
      "text/plain": [
       "NOUN    1\n",
       "Name: actual, dtype: int64"
      ]
     },
     "metadata": {},
     "output_type": "display_data"
    },
    {
     "name": "stdout",
     "output_type": "stream",
     "text": [
      "defaultdict(<class 'int'>, {'NOUN': 1})\n",
      "linkerpols\n"
     ]
    },
    {
     "data": {
      "text/plain": [
       "NOUN    1\n",
       "Name: actual, dtype: int64"
      ]
     },
     "metadata": {},
     "output_type": "display_data"
    },
    {
     "name": "stdout",
     "output_type": "stream",
     "text": [
      "defaultdict(<class 'int'>, {'NOUN': 1})\n",
      "Nobelprijswinnaar\n"
     ]
    },
    {
     "data": {
      "text/plain": [
       "NOUN    1\n",
       "Name: actual, dtype: int64"
      ]
     },
     "metadata": {},
     "output_type": "display_data"
    },
    {
     "name": "stdout",
     "output_type": "stream",
     "text": [
      "defaultdict(<class 'int'>, {'NOUN': 1})\n",
      "werkelijk\n"
     ]
    },
    {
     "data": {
      "text/plain": [
       "ADJ    1\n",
       "Name: actual, dtype: int64"
      ]
     },
     "metadata": {},
     "output_type": "display_data"
    },
    {
     "name": "stdout",
     "output_type": "stream",
     "text": [
      "defaultdict(<class 'int'>, {'ADJ': 1})\n",
      "Vastentijd\n"
     ]
    },
    {
     "data": {
      "text/plain": [
       "NOUN    1\n",
       "Name: actual, dtype: int64"
      ]
     },
     "metadata": {},
     "output_type": "display_data"
    },
    {
     "name": "stdout",
     "output_type": "stream",
     "text": [
      "defaultdict(<class 'int'>, {'NOUN': 1})\n",
      "Port\n"
     ]
    },
    {
     "data": {
      "text/plain": [
       "X    1\n",
       "Name: actual, dtype: int64"
      ]
     },
     "metadata": {},
     "output_type": "display_data"
    },
    {
     "name": "stdout",
     "output_type": "stream",
     "text": [
      "defaultdict(<class 'int'>, {'X': 1})\n",
      "politiek\n"
     ]
    },
    {
     "data": {
      "text/plain": [
       "ADJ    1\n",
       "Name: actual, dtype: int64"
      ]
     },
     "metadata": {},
     "output_type": "display_data"
    },
    {
     "name": "stdout",
     "output_type": "stream",
     "text": [
      "defaultdict(<class 'int'>, {'ADJ': 4, 'NOUN': 2})\n",
      "Â»\n"
     ]
    },
    {
     "data": {
      "text/plain": [
       "SYM    1\n",
       "Name: actual, dtype: int64"
      ]
     },
     "metadata": {},
     "output_type": "display_data"
    },
    {
     "name": "stdout",
     "output_type": "stream",
     "text": [
      "defaultdict(<class 'int'>, {'PUNCT': 107, 'SYM': 1})\n",
      "pijnlijk\n"
     ]
    },
    {
     "data": {
      "text/plain": [
       "ADJ    1\n",
       "Name: actual, dtype: int64"
      ]
     },
     "metadata": {},
     "output_type": "display_data"
    },
    {
     "name": "stdout",
     "output_type": "stream",
     "text": [
      "defaultdict(<class 'int'>, {'ADJ': 1})\n",
      "hoogst\n"
     ]
    },
    {
     "data": {
      "text/plain": [
       "ADJ    1\n",
       "Name: actual, dtype: int64"
      ]
     },
     "metadata": {},
     "output_type": "display_data"
    },
    {
     "name": "stdout",
     "output_type": "stream",
     "text": [
      "defaultdict(<class 'int'>, {'ADJ': 1})\n",
      "plume\n"
     ]
    },
    {
     "data": {
      "text/plain": [
       "PROPN    1\n",
       "Name: actual, dtype: int64"
      ]
     },
     "metadata": {},
     "output_type": "display_data"
    },
    {
     "name": "stdout",
     "output_type": "stream",
     "text": [
      "defaultdict(<class 'int'>, {'PROPN': 1})\n",
      "bedroevend\n"
     ]
    },
    {
     "data": {
      "text/plain": [
       "VERB    1\n",
       "Name: actual, dtype: int64"
      ]
     },
     "metadata": {},
     "output_type": "display_data"
    },
    {
     "name": "stdout",
     "output_type": "stream",
     "text": [
      "defaultdict(<class 'int'>, {'VERB': 1})\n",
      "centrum-\n"
     ]
    },
    {
     "data": {
      "text/plain": [
       "X    1\n",
       "Name: actual, dtype: int64"
      ]
     },
     "metadata": {},
     "output_type": "display_data"
    },
    {
     "name": "stdout",
     "output_type": "stream",
     "text": [
      "defaultdict(<class 'int'>, {'X': 1})\n",
      "Grijze\n"
     ]
    },
    {
     "data": {
      "text/plain": [
       "ADJ    1\n",
       "Name: actual, dtype: int64"
      ]
     },
     "metadata": {},
     "output_type": "display_data"
    },
    {
     "name": "stdout",
     "output_type": "stream",
     "text": [
      "defaultdict(<class 'int'>, {'ADJ': 1})\n",
      "WOW-woordvoerster\n"
     ]
    },
    {
     "data": {
      "text/plain": [
       "NOUN    1\n",
       "Name: actual, dtype: int64"
      ]
     },
     "metadata": {},
     "output_type": "display_data"
    },
    {
     "name": "stdout",
     "output_type": "stream",
     "text": [
      "defaultdict(<class 'int'>, {'NOUN': 1})\n",
      "Begraafplaats\n"
     ]
    },
    {
     "data": {
      "text/plain": [
       "NOUN    1\n",
       "Name: actual, dtype: int64"
      ]
     },
     "metadata": {},
     "output_type": "display_data"
    },
    {
     "name": "stdout",
     "output_type": "stream",
     "text": [
      "defaultdict(<class 'int'>, {'NOUN': 1})\n",
      "Meer\n"
     ]
    },
    {
     "data": {
      "text/plain": [
       "PRON    1\n",
       "Name: actual, dtype: int64"
      ]
     },
     "metadata": {},
     "output_type": "display_data"
    },
    {
     "name": "stdout",
     "output_type": "stream",
     "text": [
      "defaultdict(<class 'int'>, {'ADV': 1, 'PRON': 1})\n",
      "maskers\n"
     ]
    },
    {
     "data": {
      "text/plain": [
       "NOUN    1\n",
       "Name: actual, dtype: int64"
      ]
     },
     "metadata": {},
     "output_type": "display_data"
    },
    {
     "name": "stdout",
     "output_type": "stream",
     "text": [
      "defaultdict(<class 'int'>, {'NOUN': 14})\n",
      "wanneer\n"
     ]
    },
    {
     "data": {
      "text/plain": [
       "ADV    1\n",
       "Name: actual, dtype: int64"
      ]
     },
     "metadata": {},
     "output_type": "display_data"
    },
    {
     "name": "stdout",
     "output_type": "stream",
     "text": [
      "defaultdict(<class 'int'>, {'ADV': 1})\n",
      "Geraamte\n"
     ]
    },
    {
     "data": {
      "text/plain": [
       "NOUN    1\n",
       "Name: actual, dtype: int64"
      ]
     },
     "metadata": {},
     "output_type": "display_data"
    },
    {
     "name": "stdout",
     "output_type": "stream",
     "text": [
      "defaultdict(<class 'int'>, {'NOUN': 1})\n",
      "ingekorte\n"
     ]
    },
    {
     "data": {
      "text/plain": [
       "VERB    1\n",
       "Name: actual, dtype: int64"
      ]
     },
     "metadata": {},
     "output_type": "display_data"
    },
    {
     "name": "stdout",
     "output_type": "stream",
     "text": [
      "defaultdict(<class 'int'>, {'VERB': 1})\n",
      "Vandaag\n"
     ]
    },
    {
     "data": {
      "text/plain": [
       "ADV    1\n",
       "Name: actual, dtype: int64"
      ]
     },
     "metadata": {},
     "output_type": "display_data"
    },
    {
     "name": "stdout",
     "output_type": "stream",
     "text": [
      "defaultdict(<class 'int'>, {'ADV': 1})\n",
      "Tournament\n"
     ]
    },
    {
     "data": {
      "text/plain": [
       "X    1\n",
       "Name: actual, dtype: int64"
      ]
     },
     "metadata": {},
     "output_type": "display_data"
    },
    {
     "name": "stdout",
     "output_type": "stream",
     "text": [
      "defaultdict(<class 'int'>, {'X': 1})\n",
      "Hogere\n"
     ]
    },
    {
     "data": {
      "text/plain": [
       "ADJ    1\n",
       "Name: actual, dtype: int64"
      ]
     },
     "metadata": {},
     "output_type": "display_data"
    },
    {
     "name": "stdout",
     "output_type": "stream",
     "text": [
      "defaultdict(<class 'int'>, {'ADJ': 1})\n",
      "Plots\n"
     ]
    },
    {
     "data": {
      "text/plain": [
       "ADJ    1\n",
       "Name: actual, dtype: int64"
      ]
     },
     "metadata": {},
     "output_type": "display_data"
    },
    {
     "name": "stdout",
     "output_type": "stream",
     "text": [
      "defaultdict(<class 'int'>, {'ADJ': 1})\n",
      "verkorte\n"
     ]
    },
    {
     "data": {
      "text/plain": [
       "VERB    1\n",
       "Name: actual, dtype: int64"
      ]
     },
     "metadata": {},
     "output_type": "display_data"
    },
    {
     "name": "stdout",
     "output_type": "stream",
     "text": [
      "defaultdict(<class 'int'>, {'VERB': 1})\n",
      "1974-1977\n"
     ]
    },
    {
     "data": {
      "text/plain": [
       "SYM    1\n",
       "Name: actual, dtype: int64"
      ]
     },
     "metadata": {},
     "output_type": "display_data"
    },
    {
     "name": "stdout",
     "output_type": "stream",
     "text": [
      "defaultdict(<class 'int'>, {'SYM': 1})\n",
      "anders\n"
     ]
    },
    {
     "data": {
      "text/plain": [
       "ADV    1\n",
       "Name: actual, dtype: int64"
      ]
     },
     "metadata": {},
     "output_type": "display_data"
    },
    {
     "name": "stdout",
     "output_type": "stream",
     "text": [
      "defaultdict(<class 'int'>, {'ADV': 4, 'ADJ': 2})\n",
      "vast\n"
     ]
    },
    {
     "data": {
      "text/plain": [
       "ADJ    1\n",
       "Name: actual, dtype: int64"
      ]
     },
     "metadata": {},
     "output_type": "display_data"
    },
    {
     "name": "stdout",
     "output_type": "stream",
     "text": [
      "defaultdict(<class 'int'>, {'ADJ': 2})\n",
      "wiens\n"
     ]
    },
    {
     "data": {
      "text/plain": [
       "DET    1\n",
       "Name: actual, dtype: int64"
      ]
     },
     "metadata": {},
     "output_type": "display_data"
    },
    {
     "name": "stdout",
     "output_type": "stream",
     "text": [
      "defaultdict(<class 'int'>, {'DET': 1})\n",
      "Les\n"
     ]
    },
    {
     "data": {
      "text/plain": [
       "X    1\n",
       "Name: actual, dtype: int64"
      ]
     },
     "metadata": {},
     "output_type": "display_data"
    },
    {
     "name": "stdout",
     "output_type": "stream",
     "text": [
      "defaultdict(<class 'int'>, {'X': 1, 'PROPN': 6})\n",
      "landbouw-\n"
     ]
    },
    {
     "data": {
      "text/plain": [
       "X    1\n",
       "Name: actual, dtype: int64"
      ]
     },
     "metadata": {},
     "output_type": "display_data"
    },
    {
     "name": "stdout",
     "output_type": "stream",
     "text": [
      "defaultdict(<class 'int'>, {'X': 1})\n",
      "ketters\n"
     ]
    },
    {
     "data": {
      "text/plain": [
       "ADJ    1\n",
       "Name: actual, dtype: int64"
      ]
     },
     "metadata": {},
     "output_type": "display_data"
    },
    {
     "name": "stdout",
     "output_type": "stream",
     "text": [
      "defaultdict(<class 'int'>, {'ADJ': 1})\n",
      "gewijd\n"
     ]
    },
    {
     "data": {
      "text/plain": [
       "VERB    1\n",
       "Name: actual, dtype: int64"
      ]
     },
     "metadata": {},
     "output_type": "display_data"
    },
    {
     "name": "stdout",
     "output_type": "stream",
     "text": [
      "defaultdict(<class 'int'>, {'VERB': 2})\n",
      "direct\n"
     ]
    },
    {
     "data": {
      "text/plain": [
       "ADJ    1\n",
       "Name: actual, dtype: int64"
      ]
     },
     "metadata": {},
     "output_type": "display_data"
    },
    {
     "name": "stdout",
     "output_type": "stream",
     "text": [
      "defaultdict(<class 'int'>, {'ADJ': 1})\n",
      "tonele\n"
     ]
    },
    {
     "data": {
      "text/plain": [
       "NOUN    1\n",
       "Name: actual, dtype: int64"
      ]
     },
     "metadata": {},
     "output_type": "display_data"
    },
    {
     "name": "stdout",
     "output_type": "stream",
     "text": [
      "defaultdict(<class 'int'>, {'NOUN': 1})\n",
      "gespecialiseerde\n"
     ]
    },
    {
     "data": {
      "text/plain": [
       "VERB    1\n",
       "Name: actual, dtype: int64"
      ]
     },
     "metadata": {},
     "output_type": "display_data"
    },
    {
     "name": "stdout",
     "output_type": "stream",
     "text": [
      "defaultdict(<class 'int'>, {'VERB': 1})\n",
      "Moderne\n"
     ]
    },
    {
     "data": {
      "text/plain": [
       "X    1\n",
       "Name: actual, dtype: int64"
      ]
     },
     "metadata": {},
     "output_type": "display_data"
    },
    {
     "name": "stdout",
     "output_type": "stream",
     "text": [
      "defaultdict(<class 'int'>, {'X': 1})\n",
      "uitgebreide\n"
     ]
    },
    {
     "data": {
      "text/plain": [
       "VERB    1\n",
       "Name: actual, dtype: int64"
      ]
     },
     "metadata": {},
     "output_type": "display_data"
    },
    {
     "name": "stdout",
     "output_type": "stream",
     "text": [
      "defaultdict(<class 'int'>, {'VERB': 1})\n",
      "Chinees\n"
     ]
    },
    {
     "data": {
      "text/plain": [
       "PROPN    1\n",
       "Name: actual, dtype: int64"
      ]
     },
     "metadata": {},
     "output_type": "display_data"
    },
    {
     "name": "stdout",
     "output_type": "stream",
     "text": [
      "defaultdict(<class 'int'>, {'PROPN': 1})\n",
      "paus\n"
     ]
    },
    {
     "data": {
      "text/plain": [
       "NOUN    1\n",
       "Name: actual, dtype: int64"
      ]
     },
     "metadata": {},
     "output_type": "display_data"
    },
    {
     "name": "stdout",
     "output_type": "stream",
     "text": [
      "defaultdict(<class 'int'>, {'NOUN': 2})\n",
      "Enkele\n"
     ]
    },
    {
     "data": {
      "text/plain": [
       "DET    1\n",
       "Name: actual, dtype: int64"
      ]
     },
     "metadata": {},
     "output_type": "display_data"
    },
    {
     "name": "stdout",
     "output_type": "stream",
     "text": [
      "defaultdict(<class 'int'>, {'DET': 1})\n",
      "zeerover\n"
     ]
    },
    {
     "data": {
      "text/plain": [
       "NOUN    1\n",
       "Name: actual, dtype: int64"
      ]
     },
     "metadata": {},
     "output_type": "display_data"
    },
    {
     "name": "stdout",
     "output_type": "stream",
     "text": [
      "defaultdict(<class 'int'>, {'NOUN': 1})\n",
      "gedesillusioneerde\n"
     ]
    },
    {
     "data": {
      "text/plain": [
       "VERB    1\n",
       "Name: actual, dtype: int64"
      ]
     },
     "metadata": {},
     "output_type": "display_data"
    },
    {
     "name": "stdout",
     "output_type": "stream",
     "text": [
      "defaultdict(<class 'int'>, {'VERB': 1})\n",
      "flink\n"
     ]
    },
    {
     "data": {
      "text/plain": [
       "ADJ    1\n",
       "Name: actual, dtype: int64"
      ]
     },
     "metadata": {},
     "output_type": "display_data"
    },
    {
     "name": "stdout",
     "output_type": "stream",
     "text": [
      "defaultdict(<class 'int'>, {'ADJ': 1})\n",
      "dood\n"
     ]
    },
    {
     "data": {
      "text/plain": [
       "NOUN    1\n",
       "Name: actual, dtype: int64"
      ]
     },
     "metadata": {},
     "output_type": "display_data"
    },
    {
     "name": "stdout",
     "output_type": "stream",
     "text": [
      "defaultdict(<class 'int'>, {'NOUN': 6})\n",
      "stranden\n"
     ]
    },
    {
     "data": {
      "text/plain": [
       "VERB    1\n",
       "Name: actual, dtype: int64"
      ]
     },
     "metadata": {},
     "output_type": "display_data"
    },
    {
     "name": "stdout",
     "output_type": "stream",
     "text": [
      "defaultdict(<class 'int'>, {'VERB': 1})\n",
      "beroemd\n"
     ]
    },
    {
     "data": {
      "text/plain": [
       "ADJ    1\n",
       "Name: actual, dtype: int64"
      ]
     },
     "metadata": {},
     "output_type": "display_data"
    },
    {
     "name": "stdout",
     "output_type": "stream",
     "text": [
      "defaultdict(<class 'int'>, {'ADJ': 1})\n",
      "eind\n"
     ]
    },
    {
     "data": {
      "text/plain": [
       "NOUN    1\n",
       "Name: actual, dtype: int64"
      ]
     },
     "metadata": {},
     "output_type": "display_data"
    },
    {
     "name": "stdout",
     "output_type": "stream",
     "text": [
      "defaultdict(<class 'int'>, {'NOUN': 4})\n",
      "EÃ©n\n"
     ]
    },
    {
     "data": {
      "text/plain": [
       "NUM    1\n",
       "Name: actual, dtype: int64"
      ]
     },
     "metadata": {},
     "output_type": "display_data"
    },
    {
     "name": "stdout",
     "output_type": "stream",
     "text": [
      "defaultdict(<class 'int'>, {'NUM': 1})\n",
      "NOS-journaal\n"
     ]
    },
    {
     "data": {
      "text/plain": [
       "NOUN    1\n",
       "Name: actual, dtype: int64"
      ]
     },
     "metadata": {},
     "output_type": "display_data"
    },
    {
     "name": "stdout",
     "output_type": "stream",
     "text": [
      "defaultdict(<class 'int'>, {'NOUN': 1})\n",
      "Now\n"
     ]
    },
    {
     "data": {
      "text/plain": [
       "X    1\n",
       "Name: actual, dtype: int64"
      ]
     },
     "metadata": {},
     "output_type": "display_data"
    },
    {
     "name": "stdout",
     "output_type": "stream",
     "text": [
      "defaultdict(<class 'int'>, {'X': 1})\n",
      "PSV-trainer\n"
     ]
    },
    {
     "data": {
      "text/plain": [
       "NOUN    1\n",
       "Name: actual, dtype: int64"
      ]
     },
     "metadata": {},
     "output_type": "display_data"
    },
    {
     "name": "stdout",
     "output_type": "stream",
     "text": [
      "defaultdict(<class 'int'>, {'NOUN': 1})\n",
      "betrokkenen\n"
     ]
    },
    {
     "data": {
      "text/plain": [
       "VERB    1\n",
       "Name: actual, dtype: int64"
      ]
     },
     "metadata": {},
     "output_type": "display_data"
    },
    {
     "name": "stdout",
     "output_type": "stream",
     "text": [
      "defaultdict(<class 'int'>, {'VERB': 1})\n",
      "Kastelen\n"
     ]
    },
    {
     "data": {
      "text/plain": [
       "NOUN    1\n",
       "Name: actual, dtype: int64"
      ]
     },
     "metadata": {},
     "output_type": "display_data"
    },
    {
     "name": "stdout",
     "output_type": "stream",
     "text": [
      "defaultdict(<class 'int'>, {'NOUN': 1})\n",
      "musical\n"
     ]
    },
    {
     "data": {
      "text/plain": [
       "NOUN    1\n",
       "Name: actual, dtype: int64"
      ]
     },
     "metadata": {},
     "output_type": "display_data"
    },
    {
     "name": "stdout",
     "output_type": "stream",
     "text": [
      "defaultdict(<class 'int'>, {'NOUN': 1})\n",
      "Ensors\n"
     ]
    },
    {
     "data": {
      "text/plain": [
       "PROPN    1\n",
       "Name: actual, dtype: int64"
      ]
     },
     "metadata": {},
     "output_type": "display_data"
    },
    {
     "name": "stdout",
     "output_type": "stream",
     "text": [
      "defaultdict(<class 'int'>, {'PROPN': 6})\n",
      "autochtoon\n"
     ]
    },
    {
     "data": {
      "text/plain": [
       "ADJ    1\n",
       "Name: actual, dtype: int64"
      ]
     },
     "metadata": {},
     "output_type": "display_data"
    },
    {
     "name": "stdout",
     "output_type": "stream",
     "text": [
      "defaultdict(<class 'int'>, {'ADJ': 1})\n",
      "Uiteindelijk\n"
     ]
    },
    {
     "data": {
      "text/plain": [
       "ADJ    1\n",
       "Name: actual, dtype: int64"
      ]
     },
     "metadata": {},
     "output_type": "display_data"
    },
    {
     "name": "stdout",
     "output_type": "stream",
     "text": [
      "defaultdict(<class 'int'>, {'ADJ': 1})\n",
      "Provincieraad\n"
     ]
    },
    {
     "data": {
      "text/plain": [
       "NOUN    1\n",
       "Name: actual, dtype: int64"
      ]
     },
     "metadata": {},
     "output_type": "display_data"
    },
    {
     "name": "stdout",
     "output_type": "stream",
     "text": [
      "defaultdict(<class 'int'>, {'NOUN': 1})\n",
      "meesten\n"
     ]
    },
    {
     "data": {
      "text/plain": [
       "PRON    1\n",
       "Name: actual, dtype: int64"
      ]
     },
     "metadata": {},
     "output_type": "display_data"
    },
    {
     "name": "stdout",
     "output_type": "stream",
     "text": [
      "defaultdict(<class 'int'>, {'PRON': 1})\n",
      "schilder-\n"
     ]
    },
    {
     "data": {
      "text/plain": [
       "X    1\n",
       "Name: actual, dtype: int64"
      ]
     },
     "metadata": {},
     "output_type": "display_data"
    },
    {
     "name": "stdout",
     "output_type": "stream",
     "text": [
      "defaultdict(<class 'int'>, {'X': 1})\n",
      "Stilleven\n"
     ]
    },
    {
     "data": {
      "text/plain": [
       "NOUN    1\n",
       "Name: actual, dtype: int64"
      ]
     },
     "metadata": {},
     "output_type": "display_data"
    },
    {
     "name": "stdout",
     "output_type": "stream",
     "text": [
      "defaultdict(<class 'int'>, {'NOUN': 1})\n",
      "Afrikanen\n"
     ]
    },
    {
     "data": {
      "text/plain": [
       "PROPN    1\n",
       "Name: actual, dtype: int64"
      ]
     },
     "metadata": {},
     "output_type": "display_data"
    },
    {
     "name": "stdout",
     "output_type": "stream",
     "text": [
      "defaultdict(<class 'int'>, {'PROPN': 1})\n",
      "Professor\n"
     ]
    },
    {
     "data": {
      "text/plain": [
       "NOUN    1\n",
       "Name: actual, dtype: int64"
      ]
     },
     "metadata": {},
     "output_type": "display_data"
    },
    {
     "name": "stdout",
     "output_type": "stream",
     "text": [
      "defaultdict(<class 'int'>, {'NOUN': 1})\n",
      "goedkeuren\n"
     ]
    },
    {
     "data": {
      "text/plain": [
       "VERB    1\n",
       "Name: actual, dtype: int64"
      ]
     },
     "metadata": {},
     "output_type": "display_data"
    },
    {
     "name": "stdout",
     "output_type": "stream",
     "text": [
      "defaultdict(<class 'int'>, {'VERB': 1})\n",
      "volgende\n"
     ]
    },
    {
     "data": {
      "text/plain": [
       "VERB    1\n",
       "Name: actual, dtype: int64"
      ]
     },
     "metadata": {},
     "output_type": "display_data"
    },
    {
     "name": "stdout",
     "output_type": "stream",
     "text": [
      "defaultdict(<class 'int'>, {'VERB': 1})\n",
      "best\n"
     ]
    },
    {
     "data": {
      "text/plain": [
       "ADJ    1\n",
       "Name: actual, dtype: int64"
      ]
     },
     "metadata": {},
     "output_type": "display_data"
    },
    {
     "name": "stdout",
     "output_type": "stream",
     "text": [
      "defaultdict(<class 'int'>, {'ADJ': 3})\n",
      "Oranje-beloften\n"
     ]
    },
    {
     "data": {
      "text/plain": [
       "NOUN    1\n",
       "Name: actual, dtype: int64"
      ]
     },
     "metadata": {},
     "output_type": "display_data"
    },
    {
     "name": "stdout",
     "output_type": "stream",
     "text": [
      "defaultdict(<class 'int'>, {'NOUN': 1})\n",
      "waaruit\n"
     ]
    },
    {
     "data": {
      "text/plain": [
       "ADV    1\n",
       "Name: actual, dtype: int64"
      ]
     },
     "metadata": {},
     "output_type": "display_data"
    },
    {
     "name": "stdout",
     "output_type": "stream",
     "text": [
      "defaultdict(<class 'int'>, {'ADV': 1})\n",
      "financieel\n"
     ]
    },
    {
     "data": {
      "text/plain": [
       "ADJ    1\n",
       "Name: actual, dtype: int64"
      ]
     },
     "metadata": {},
     "output_type": "display_data"
    },
    {
     "name": "stdout",
     "output_type": "stream",
     "text": [
      "defaultdict(<class 'int'>, {'ADJ': 1})\n",
      "Zo\n"
     ]
    },
    {
     "data": {
      "text/plain": [
       "ADV    1\n",
       "Name: actual, dtype: int64"
      ]
     },
     "metadata": {},
     "output_type": "display_data"
    },
    {
     "name": "stdout",
     "output_type": "stream",
     "text": [
      "defaultdict(<class 'int'>, {'ADV': 9})\n",
      "onwil\n"
     ]
    },
    {
     "data": {
      "text/plain": [
       "NOUN    1\n",
       "Name: actual, dtype: int64"
      ]
     },
     "metadata": {},
     "output_type": "display_data"
    },
    {
     "name": "stdout",
     "output_type": "stream",
     "text": [
      "defaultdict(<class 'int'>, {'NOUN': 2})\n",
      "O.L.V.-college\n"
     ]
    },
    {
     "data": {
      "text/plain": [
       "NOUN    1\n",
       "Name: actual, dtype: int64"
      ]
     },
     "metadata": {},
     "output_type": "display_data"
    },
    {
     "name": "stdout",
     "output_type": "stream",
     "text": [
      "defaultdict(<class 'int'>, {'NOUN': 1})\n",
      "achter\n"
     ]
    },
    {
     "data": {
      "text/plain": [
       "ADP    1\n",
       "Name: actual, dtype: int64"
      ]
     },
     "metadata": {},
     "output_type": "display_data"
    },
    {
     "name": "stdout",
     "output_type": "stream",
     "text": [
      "defaultdict(<class 'int'>, {'ADP': 12})\n",
      "veelvuldig\n"
     ]
    },
    {
     "data": {
      "text/plain": [
       "ADJ    1\n",
       "Name: actual, dtype: int64"
      ]
     },
     "metadata": {},
     "output_type": "display_data"
    },
    {
     "name": "stdout",
     "output_type": "stream",
     "text": [
      "defaultdict(<class 'int'>, {'ADJ': 1})\n",
      "getuige\n"
     ]
    },
    {
     "data": {
      "text/plain": [
       "NOUN    1\n",
       "Name: actual, dtype: int64"
      ]
     },
     "metadata": {},
     "output_type": "display_data"
    },
    {
     "name": "stdout",
     "output_type": "stream",
     "text": [
      "defaultdict(<class 'int'>, {'NOUN': 1})\n",
      "volks\n"
     ]
    },
    {
     "data": {
      "text/plain": [
       "ADJ    1\n",
       "Name: actual, dtype: int64"
      ]
     },
     "metadata": {},
     "output_type": "display_data"
    },
    {
     "name": "stdout",
     "output_type": "stream",
     "text": [
      "defaultdict(<class 'int'>, {'ADJ': 1})\n",
      "CD&V/N-VA\n"
     ]
    },
    {
     "data": {
      "text/plain": [
       "SYM    1\n",
       "Name: actual, dtype: int64"
      ]
     },
     "metadata": {},
     "output_type": "display_data"
    },
    {
     "name": "stdout",
     "output_type": "stream",
     "text": [
      "defaultdict(<class 'int'>, {'SYM': 1})\n",
      "tijdrijden\n"
     ]
    },
    {
     "data": {
      "text/plain": [
       "VERB    1\n",
       "Name: actual, dtype: int64"
      ]
     },
     "metadata": {},
     "output_type": "display_data"
    },
    {
     "name": "stdout",
     "output_type": "stream",
     "text": [
      "defaultdict(<class 'int'>, {'VERB': 1})\n",
      "kunt\n"
     ]
    },
    {
     "data": {
      "text/plain": [
       "VERB    1\n",
       "Name: actual, dtype: int64"
      ]
     },
     "metadata": {},
     "output_type": "display_data"
    },
    {
     "name": "stdout",
     "output_type": "stream",
     "text": [
      "defaultdict(<class 'int'>, {'AUX': 1, 'VERB': 1})\n",
      "Ten\n"
     ]
    },
    {
     "data": {
      "text/plain": [
       "ADP    1\n",
       "Name: actual, dtype: int64"
      ]
     },
     "metadata": {},
     "output_type": "display_data"
    },
    {
     "name": "stdout",
     "output_type": "stream",
     "text": [
      "defaultdict(<class 'int'>, {'ADP': 1})\n",
      "Sound\n"
     ]
    },
    {
     "data": {
      "text/plain": [
       "PROPN    1\n",
       "Name: actual, dtype: int64"
      ]
     },
     "metadata": {},
     "output_type": "display_data"
    },
    {
     "name": "stdout",
     "output_type": "stream",
     "text": [
      "defaultdict(<class 'int'>, {'PROPN': 1})\n",
      "1959-heden\n"
     ]
    },
    {
     "data": {
      "text/plain": [
       "SYM    1\n",
       "Name: actual, dtype: int64"
      ]
     },
     "metadata": {},
     "output_type": "display_data"
    },
    {
     "name": "stdout",
     "output_type": "stream",
     "text": [
      "defaultdict(<class 'int'>, {'SYM': 1})\n",
      "zuid\n"
     ]
    },
    {
     "data": {
      "text/plain": [
       "ADJ    1\n",
       "Name: actual, dtype: int64"
      ]
     },
     "metadata": {},
     "output_type": "display_data"
    },
    {
     "name": "stdout",
     "output_type": "stream",
     "text": [
      "defaultdict(<class 'int'>, {'ADJ': 1})\n",
      "uitgebloed\n"
     ]
    },
    {
     "data": {
      "text/plain": [
       "VERB    1\n",
       "Name: actual, dtype: int64"
      ]
     },
     "metadata": {},
     "output_type": "display_data"
    },
    {
     "name": "stdout",
     "output_type": "stream",
     "text": [
      "defaultdict(<class 'int'>, {'VERB': 1})\n",
      "duistere\n"
     ]
    },
    {
     "data": {
      "text/plain": [
       "ADJ    1\n",
       "Name: actual, dtype: int64"
      ]
     },
     "metadata": {},
     "output_type": "display_data"
    },
    {
     "name": "stdout",
     "output_type": "stream",
     "text": [
      "defaultdict(<class 'int'>, {'ADJ': 1})\n",
      "eindeloos\n"
     ]
    },
    {
     "data": {
      "text/plain": [
       "ADJ    1\n",
       "Name: actual, dtype: int64"
      ]
     },
     "metadata": {},
     "output_type": "display_data"
    },
    {
     "name": "stdout",
     "output_type": "stream",
     "text": [
      "defaultdict(<class 'int'>, {'ADJ': 1})\n",
      "Lampenist\n"
     ]
    },
    {
     "data": {
      "text/plain": [
       "NOUN    1\n",
       "Name: actual, dtype: int64"
      ]
     },
     "metadata": {},
     "output_type": "display_data"
    },
    {
     "name": "stdout",
     "output_type": "stream",
     "text": [
      "defaultdict(<class 'int'>, {'NOUN': 1})\n",
      "Een\n"
     ]
    },
    {
     "data": {
      "text/plain": [
       "DET    1\n",
       "Name: actual, dtype: int64"
      ]
     },
     "metadata": {},
     "output_type": "display_data"
    },
    {
     "name": "stdout",
     "output_type": "stream",
     "text": [
      "defaultdict(<class 'int'>, {'DET': 23})\n",
      "dartele\n"
     ]
    },
    {
     "data": {
      "text/plain": [
       "ADJ    1\n",
       "Name: actual, dtype: int64"
      ]
     },
     "metadata": {},
     "output_type": "display_data"
    },
    {
     "name": "stdout",
     "output_type": "stream",
     "text": [
      "defaultdict(<class 'int'>, {'ADJ': 1})\n",
      "vrijdagavond\n"
     ]
    },
    {
     "data": {
      "text/plain": [
       "NOUN    1\n",
       "Name: actual, dtype: int64"
      ]
     },
     "metadata": {},
     "output_type": "display_data"
    },
    {
     "name": "stdout",
     "output_type": "stream",
     "text": [
      "defaultdict(<class 'int'>, {'NOUN': 1})\n",
      "Judi\n"
     ]
    },
    {
     "data": {
      "text/plain": [
       "PROPN    1\n",
       "Name: actual, dtype: int64"
      ]
     },
     "metadata": {},
     "output_type": "display_data"
    },
    {
     "name": "stdout",
     "output_type": "stream",
     "text": [
      "defaultdict(<class 'int'>, {'PROPN': 1})\n",
      "1972-1993\n"
     ]
    },
    {
     "data": {
      "text/plain": [
       "SYM    1\n",
       "Name: actual, dtype: int64"
      ]
     },
     "metadata": {},
     "output_type": "display_data"
    },
    {
     "name": "stdout",
     "output_type": "stream",
     "text": [
      "defaultdict(<class 'int'>, {'SYM': 1})\n",
      "Duitser\n"
     ]
    },
    {
     "data": {
      "text/plain": [
       "PROPN    1\n",
       "Name: actual, dtype: int64"
      ]
     },
     "metadata": {},
     "output_type": "display_data"
    },
    {
     "name": "stdout",
     "output_type": "stream",
     "text": [
      "defaultdict(<class 'int'>, {'PROPN': 3})\n",
      "groten\n"
     ]
    },
    {
     "data": {
      "text/plain": [
       "ADJ    1\n",
       "Name: actual, dtype: int64"
      ]
     },
     "metadata": {},
     "output_type": "display_data"
    },
    {
     "name": "stdout",
     "output_type": "stream",
     "text": [
      "defaultdict(<class 'int'>, {'ADJ': 1})\n",
      "oud-Nederlands\n"
     ]
    },
    {
     "data": {
      "text/plain": [
       "PROPN    1\n",
       "Name: actual, dtype: int64"
      ]
     },
     "metadata": {},
     "output_type": "display_data"
    },
    {
     "name": "stdout",
     "output_type": "stream",
     "text": [
      "defaultdict(<class 'int'>, {'PROPN': 1})\n",
      "Bestuur\n"
     ]
    },
    {
     "data": {
      "text/plain": [
       "NOUN    1\n",
       "Name: actual, dtype: int64"
      ]
     },
     "metadata": {},
     "output_type": "display_data"
    },
    {
     "name": "stdout",
     "output_type": "stream",
     "text": [
      "defaultdict(<class 'int'>, {'NOUN': 1})\n",
      "Instelling\n"
     ]
    },
    {
     "data": {
      "text/plain": [
       "NOUN    1\n",
       "Name: actual, dtype: int64"
      ]
     },
     "metadata": {},
     "output_type": "display_data"
    },
    {
     "name": "stdout",
     "output_type": "stream",
     "text": [
      "defaultdict(<class 'int'>, {'NOUN': 1})\n",
      "Elders\n"
     ]
    },
    {
     "data": {
      "text/plain": [
       "ADV    1\n",
       "Name: actual, dtype: int64"
      ]
     },
     "metadata": {},
     "output_type": "display_data"
    },
    {
     "name": "stdout",
     "output_type": "stream",
     "text": [
      "defaultdict(<class 'int'>, {'ADV': 1})\n",
      "Arrondissementen\n"
     ]
    },
    {
     "data": {
      "text/plain": [
       "NOUN    1\n",
       "Name: actual, dtype: int64"
      ]
     },
     "metadata": {},
     "output_type": "display_data"
    },
    {
     "name": "stdout",
     "output_type": "stream",
     "text": [
      "defaultdict(<class 'int'>, {'NOUN': 1})\n",
      "Voorlopig\n"
     ]
    },
    {
     "data": {
      "text/plain": [
       "ADJ    1\n",
       "Name: actual, dtype: int64"
      ]
     },
     "metadata": {},
     "output_type": "display_data"
    },
    {
     "name": "stdout",
     "output_type": "stream",
     "text": [
      "defaultdict(<class 'int'>, {'ADJ': 1})\n",
      "gevat\n"
     ]
    },
    {
     "data": {
      "text/plain": [
       "ADJ    1\n",
       "Name: actual, dtype: int64"
      ]
     },
     "metadata": {},
     "output_type": "display_data"
    },
    {
     "name": "stdout",
     "output_type": "stream",
     "text": [
      "defaultdict(<class 'int'>, {'ADJ': 1})\n",
      "Guitar\n"
     ]
    },
    {
     "data": {
      "text/plain": [
       "X    1\n",
       "Name: actual, dtype: int64"
      ]
     },
     "metadata": {},
     "output_type": "display_data"
    },
    {
     "name": "stdout",
     "output_type": "stream",
     "text": [
      "defaultdict(<class 'int'>, {'PROPN': 2, 'X': 1})\n",
      "Argentijnse\n"
     ]
    },
    {
     "data": {
      "text/plain": [
       "ADJ    1\n",
       "Name: actual, dtype: int64"
      ]
     },
     "metadata": {},
     "output_type": "display_data"
    },
    {
     "name": "stdout",
     "output_type": "stream",
     "text": [
      "defaultdict(<class 'int'>, {'ADJ': 4})\n",
      "Onze-Lieve-Vrouwecollege\n"
     ]
    },
    {
     "data": {
      "text/plain": [
       "NOUN    1\n",
       "Name: actual, dtype: int64"
      ]
     },
     "metadata": {},
     "output_type": "display_data"
    },
    {
     "name": "stdout",
     "output_type": "stream",
     "text": [
      "defaultdict(<class 'int'>, {'NOUN': 1})\n",
      "Heilig\n"
     ]
    },
    {
     "data": {
      "text/plain": [
       "PROPN    1\n",
       "Name: actual, dtype: int64"
      ]
     },
     "metadata": {},
     "output_type": "display_data"
    },
    {
     "name": "stdout",
     "output_type": "stream",
     "text": [
      "defaultdict(<class 'int'>, {'PROPN': 2})\n",
      "Ad\n"
     ]
    },
    {
     "data": {
      "text/plain": [
       "PROPN    1\n",
       "Name: actual, dtype: int64"
      ]
     },
     "metadata": {},
     "output_type": "display_data"
    },
    {
     "name": "stdout",
     "output_type": "stream",
     "text": [
      "defaultdict(<class 'int'>, {'PROPN': 3})\n",
      "Kamer\n"
     ]
    },
    {
     "data": {
      "text/plain": [
       "NOUN    1\n",
       "Name: actual, dtype: int64"
      ]
     },
     "metadata": {},
     "output_type": "display_data"
    },
    {
     "name": "stdout",
     "output_type": "stream",
     "text": [
      "defaultdict(<class 'int'>, {'NOUN': 3})\n",
      "'t\n"
     ]
    },
    {
     "data": {
      "text/plain": [
       "DET    1\n",
       "Name: actual, dtype: int64"
      ]
     },
     "metadata": {},
     "output_type": "display_data"
    },
    {
     "name": "stdout",
     "output_type": "stream",
     "text": [
      "defaultdict(<class 'int'>, {'PROPN': 8, 'DET': 4})\n",
      "intens\n"
     ]
    },
    {
     "data": {
      "text/plain": [
       "ADJ    1\n",
       "Name: actual, dtype: int64"
      ]
     },
     "metadata": {},
     "output_type": "display_data"
    },
    {
     "name": "stdout",
     "output_type": "stream",
     "text": [
      "defaultdict(<class 'int'>, {'ADJ': 1})\n",
      "langst\n"
     ]
    },
    {
     "data": {
      "text/plain": [
       "ADJ    1\n",
       "Name: actual, dtype: int64"
      ]
     },
     "metadata": {},
     "output_type": "display_data"
    },
    {
     "name": "stdout",
     "output_type": "stream",
     "text": [
      "defaultdict(<class 'int'>, {'ADJ': 1})\n",
      "inkten\n"
     ]
    },
    {
     "data": {
      "text/plain": [
       "VERB    1\n",
       "Name: actual, dtype: int64"
      ]
     },
     "metadata": {},
     "output_type": "display_data"
    },
    {
     "name": "stdout",
     "output_type": "stream",
     "text": [
      "defaultdict(<class 'int'>, {'VERB': 1})\n",
      "sp.a\n"
     ]
    },
    {
     "data": {
      "text/plain": [
       "PROPN    1\n",
       "Name: actual, dtype: int64"
      ]
     },
     "metadata": {},
     "output_type": "display_data"
    },
    {
     "name": "stdout",
     "output_type": "stream",
     "text": [
      "defaultdict(<class 'int'>, {'PROPN': 1})\n",
      "Nederlander\n"
     ]
    },
    {
     "data": {
      "text/plain": [
       "PROPN    1\n",
       "Name: actual, dtype: int64"
      ]
     },
     "metadata": {},
     "output_type": "display_data"
    },
    {
     "name": "stdout",
     "output_type": "stream",
     "text": [
      "defaultdict(<class 'int'>, {'PROPN': 1})\n",
      "Bruggen\n"
     ]
    },
    {
     "data": {
      "text/plain": [
       "NOUN    1\n",
       "Name: actual, dtype: int64"
      ]
     },
     "metadata": {},
     "output_type": "display_data"
    },
    {
     "name": "stdout",
     "output_type": "stream",
     "text": [
      "defaultdict(<class 'int'>, {'NOUN': 1})\n",
      "moet\n"
     ]
    },
    {
     "data": {
      "text/plain": [
       "VERB    1\n",
       "Name: actual, dtype: int64"
      ]
     },
     "metadata": {},
     "output_type": "display_data"
    },
    {
     "name": "stdout",
     "output_type": "stream",
     "text": [
      "defaultdict(<class 'int'>, {'AUX': 11, 'VERB': 1})\n",
      "grinnikend\n"
     ]
    },
    {
     "data": {
      "text/plain": [
       "VERB    1\n",
       "Name: actual, dtype: int64"
      ]
     },
     "metadata": {},
     "output_type": "display_data"
    },
    {
     "name": "stdout",
     "output_type": "stream",
     "text": [
      "defaultdict(<class 'int'>, {'VERB': 1})\n",
      "tekort\n"
     ]
    },
    {
     "data": {
      "text/plain": [
       "NOUN    1\n",
       "Name: actual, dtype: int64"
      ]
     },
     "metadata": {},
     "output_type": "display_data"
    },
    {
     "name": "stdout",
     "output_type": "stream",
     "text": [
      "defaultdict(<class 'int'>, {'NOUN': 1})\n",
      "long\n"
     ]
    },
    {
     "data": {
      "text/plain": [
       "X    1\n",
       "Name: actual, dtype: int64"
      ]
     },
     "metadata": {},
     "output_type": "display_data"
    },
    {
     "name": "stdout",
     "output_type": "stream",
     "text": [
      "defaultdict(<class 'int'>, {'X': 1})\n",
      "verkeerd\n"
     ]
    },
    {
     "data": {
      "text/plain": [
       "ADJ    1\n",
       "Name: actual, dtype: int64"
      ]
     },
     "metadata": {},
     "output_type": "display_data"
    },
    {
     "name": "stdout",
     "output_type": "stream",
     "text": [
      "defaultdict(<class 'int'>, {'ADJ': 1})\n",
      "AZ&PC'ers\n"
     ]
    },
    {
     "data": {
      "text/plain": [
       "NOUN    1\n",
       "Name: actual, dtype: int64"
      ]
     },
     "metadata": {},
     "output_type": "display_data"
    },
    {
     "name": "stdout",
     "output_type": "stream",
     "text": [
      "defaultdict(<class 'int'>, {'NOUN': 1})\n",
      "Wereldraad\n"
     ]
    },
    {
     "data": {
      "text/plain": [
       "NOUN    1\n",
       "Name: actual, dtype: int64"
      ]
     },
     "metadata": {},
     "output_type": "display_data"
    },
    {
     "name": "stdout",
     "output_type": "stream",
     "text": [
      "defaultdict(<class 'int'>, {'NOUN': 1})\n",
      "scheppende\n"
     ]
    },
    {
     "data": {
      "text/plain": [
       "VERB    1\n",
       "Name: actual, dtype: int64"
      ]
     },
     "metadata": {},
     "output_type": "display_data"
    },
    {
     "name": "stdout",
     "output_type": "stream",
     "text": [
      "defaultdict(<class 'int'>, {'VERB': 1})\n",
      "Scholieren\n"
     ]
    },
    {
     "data": {
      "text/plain": [
       "NOUN    1\n",
       "Name: actual, dtype: int64"
      ]
     },
     "metadata": {},
     "output_type": "display_data"
    },
    {
     "name": "stdout",
     "output_type": "stream",
     "text": [
      "defaultdict(<class 'int'>, {'NOUN': 1})\n",
      "blunderende\n"
     ]
    },
    {
     "data": {
      "text/plain": [
       "VERB    1\n",
       "Name: actual, dtype: int64"
      ]
     },
     "metadata": {},
     "output_type": "display_data"
    },
    {
     "name": "stdout",
     "output_type": "stream",
     "text": [
      "defaultdict(<class 'int'>, {'VERB': 1})\n",
      "gekruisigde\n"
     ]
    },
    {
     "data": {
      "text/plain": [
       "VERB    1\n",
       "Name: actual, dtype: int64"
      ]
     },
     "metadata": {},
     "output_type": "display_data"
    },
    {
     "name": "stdout",
     "output_type": "stream",
     "text": [
      "defaultdict(<class 'int'>, {'VERB': 1})\n",
      "uitverkoren\n"
     ]
    },
    {
     "data": {
      "text/plain": [
       "VERB    1\n",
       "Name: actual, dtype: int64"
      ]
     },
     "metadata": {},
     "output_type": "display_data"
    },
    {
     "name": "stdout",
     "output_type": "stream",
     "text": [
      "defaultdict(<class 'int'>, {'VERB': 1})\n",
      "vertegenwoordigd\n"
     ]
    },
    {
     "data": {
      "text/plain": [
       "VERB    1\n",
       "Name: actual, dtype: int64"
      ]
     },
     "metadata": {},
     "output_type": "display_data"
    },
    {
     "name": "stdout",
     "output_type": "stream",
     "text": [
      "defaultdict(<class 'int'>, {'VERB': 3})\n",
      "deels\n"
     ]
    },
    {
     "data": {
      "text/plain": [
       "ADJ    1\n",
       "Name: actual, dtype: int64"
      ]
     },
     "metadata": {},
     "output_type": "display_data"
    },
    {
     "name": "stdout",
     "output_type": "stream",
     "text": [
      "defaultdict(<class 'int'>, {'ADJ': 1})\n",
      "Rechts\n"
     ]
    },
    {
     "data": {
      "text/plain": [
       "ADJ    1\n",
       "Name: actual, dtype: int64"
      ]
     },
     "metadata": {},
     "output_type": "display_data"
    },
    {
     "name": "stdout",
     "output_type": "stream",
     "text": [
      "defaultdict(<class 'int'>, {'ADJ': 1})\n",
      "opvallend\n"
     ]
    },
    {
     "data": {
      "text/plain": [
       "VERB    1\n",
       "Name: actual, dtype: int64"
      ]
     },
     "metadata": {},
     "output_type": "display_data"
    },
    {
     "name": "stdout",
     "output_type": "stream",
     "text": [
      "defaultdict(<class 'int'>, {'VERB': 1})\n",
      "Paleoconservatisme\n"
     ]
    },
    {
     "data": {
      "text/plain": [
       "NOUN    1\n",
       "Name: actual, dtype: int64"
      ]
     },
     "metadata": {},
     "output_type": "display_data"
    },
    {
     "name": "stdout",
     "output_type": "stream",
     "text": [
      "defaultdict(<class 'int'>, {'NOUN': 1})\n",
      "duin-\n"
     ]
    },
    {
     "data": {
      "text/plain": [
       "X    1\n",
       "Name: actual, dtype: int64"
      ]
     },
     "metadata": {},
     "output_type": "display_data"
    },
    {
     "name": "stdout",
     "output_type": "stream",
     "text": [
      "defaultdict(<class 'int'>, {'X': 1})\n",
      "kennelijk\n"
     ]
    },
    {
     "data": {
      "text/plain": [
       "ADJ    1\n",
       "Name: actual, dtype: int64"
      ]
     },
     "metadata": {},
     "output_type": "display_data"
    },
    {
     "name": "stdout",
     "output_type": "stream",
     "text": [
      "defaultdict(<class 'int'>, {'ADJ': 1})\n",
      "vermoeide\n"
     ]
    },
    {
     "data": {
      "text/plain": [
       "VERB    1\n",
       "Name: actual, dtype: int64"
      ]
     },
     "metadata": {},
     "output_type": "display_data"
    },
    {
     "name": "stdout",
     "output_type": "stream",
     "text": [
      "defaultdict(<class 'int'>, {'VERB': 1})\n",
      "1962-1985\n"
     ]
    },
    {
     "data": {
      "text/plain": [
       "SYM    1\n",
       "Name: actual, dtype: int64"
      ]
     },
     "metadata": {},
     "output_type": "display_data"
    },
    {
     "name": "stdout",
     "output_type": "stream",
     "text": [
      "defaultdict(<class 'int'>, {'SYM': 1})\n",
      "Letse\n"
     ]
    },
    {
     "data": {
      "text/plain": [
       "ADJ    1\n",
       "Name: actual, dtype: int64"
      ]
     },
     "metadata": {},
     "output_type": "display_data"
    },
    {
     "name": "stdout",
     "output_type": "stream",
     "text": [
      "defaultdict(<class 'int'>, {'ADJ': 1})\n",
      "Oranjemars\n"
     ]
    },
    {
     "data": {
      "text/plain": [
       "NOUN    1\n",
       "Name: actual, dtype: int64"
      ]
     },
     "metadata": {},
     "output_type": "display_data"
    },
    {
     "name": "stdout",
     "output_type": "stream",
     "text": [
      "defaultdict(<class 'int'>, {'NOUN': 1})\n",
      "volksvertegenwoordigend\n"
     ]
    },
    {
     "data": {
      "text/plain": [
       "VERB    1\n",
       "Name: actual, dtype: int64"
      ]
     },
     "metadata": {},
     "output_type": "display_data"
    },
    {
     "name": "stdout",
     "output_type": "stream",
     "text": [
      "defaultdict(<class 'int'>, {'VERB': 1})\n",
      "geliefd\n"
     ]
    },
    {
     "data": {
      "text/plain": [
       "ADJ    1\n",
       "Name: actual, dtype: int64"
      ]
     },
     "metadata": {},
     "output_type": "display_data"
    },
    {
     "name": "stdout",
     "output_type": "stream",
     "text": [
      "defaultdict(<class 'int'>, {'ADJ': 2})\n",
      "land-\n"
     ]
    },
    {
     "data": {
      "text/plain": [
       "X    1\n",
       "Name: actual, dtype: int64"
      ]
     },
     "metadata": {},
     "output_type": "display_data"
    },
    {
     "name": "stdout",
     "output_type": "stream",
     "text": [
      "defaultdict(<class 'int'>, {'X': 1})\n",
      "zaterdagavond\n"
     ]
    },
    {
     "data": {
      "text/plain": [
       "NOUN    1\n",
       "Name: actual, dtype: int64"
      ]
     },
     "metadata": {},
     "output_type": "display_data"
    },
    {
     "name": "stdout",
     "output_type": "stream",
     "text": [
      "defaultdict(<class 'int'>, {'NOUN': 2})\n",
      "duizenden\n"
     ]
    },
    {
     "data": {
      "text/plain": [
       "NUM    1\n",
       "Name: actual, dtype: int64"
      ]
     },
     "metadata": {},
     "output_type": "display_data"
    },
    {
     "name": "stdout",
     "output_type": "stream",
     "text": [
      "defaultdict(<class 'int'>, {'NUM': 1})\n",
      "toevallig\n"
     ]
    },
    {
     "data": {
      "text/plain": [
       "ADJ    1\n",
       "Name: actual, dtype: int64"
      ]
     },
     "metadata": {},
     "output_type": "display_data"
    },
    {
     "name": "stdout",
     "output_type": "stream",
     "text": [
      "defaultdict(<class 'int'>, {'ADJ': 1})\n",
      "Calvarie\n"
     ]
    },
    {
     "data": {
      "text/plain": [
       "NOUN    1\n",
       "Name: actual, dtype: int64"
      ]
     },
     "metadata": {},
     "output_type": "display_data"
    },
    {
     "name": "stdout",
     "output_type": "stream",
     "text": [
      "defaultdict(<class 'int'>, {'NOUN': 1})\n",
      "Kartel\n"
     ]
    },
    {
     "data": {
      "text/plain": [
       "NOUN    1\n",
       "Name: actual, dtype: int64"
      ]
     },
     "metadata": {},
     "output_type": "display_data"
    },
    {
     "name": "stdout",
     "output_type": "stream",
     "text": [
      "defaultdict(<class 'int'>, {'NOUN': 1})\n",
      "systematisch\n"
     ]
    },
    {
     "data": {
      "text/plain": [
       "ADJ    1\n",
       "Name: actual, dtype: int64"
      ]
     },
     "metadata": {},
     "output_type": "display_data"
    },
    {
     "name": "stdout",
     "output_type": "stream",
     "text": [
      "defaultdict(<class 'int'>, {'ADJ': 1})\n",
      "voldoende\n"
     ]
    },
    {
     "data": {
      "text/plain": [
       "DET    1\n",
       "Name: actual, dtype: int64"
      ]
     },
     "metadata": {},
     "output_type": "display_data"
    },
    {
     "name": "stdout",
     "output_type": "stream",
     "text": [
      "defaultdict(<class 'int'>, {'DET': 1, 'ADJ': 1})\n",
      "Copa\n"
     ]
    },
    {
     "data": {
      "text/plain": [
       "PROPN    1\n",
       "Name: actual, dtype: int64"
      ]
     },
     "metadata": {},
     "output_type": "display_data"
    },
    {
     "name": "stdout",
     "output_type": "stream",
     "text": [
      "defaultdict(<class 'int'>, {'PROPN': 10})\n",
      "Jongeren\n"
     ]
    },
    {
     "data": {
      "text/plain": [
       "ADJ    1\n",
       "Name: actual, dtype: int64"
      ]
     },
     "metadata": {},
     "output_type": "display_data"
    },
    {
     "name": "stdout",
     "output_type": "stream",
     "text": [
      "defaultdict(<class 'int'>, {'ADJ': 1})\n",
      "inwoneraantal\n"
     ]
    },
    {
     "data": {
      "text/plain": [
       "NOUN    1\n",
       "Name: actual, dtype: int64"
      ]
     },
     "metadata": {},
     "output_type": "display_data"
    },
    {
     "name": "stdout",
     "output_type": "stream",
     "text": [
      "defaultdict(<class 'int'>, {'NOUN': 1})\n",
      "plastisch\n"
     ]
    },
    {
     "data": {
      "text/plain": [
       "ADJ    1\n",
       "Name: actual, dtype: int64"
      ]
     },
     "metadata": {},
     "output_type": "display_data"
    },
    {
     "name": "stdout",
     "output_type": "stream",
     "text": [
      "defaultdict(<class 'int'>, {'ADJ': 1})\n",
      "Jeugd\n"
     ]
    },
    {
     "data": {
      "text/plain": [
       "NOUN    1\n",
       "Name: actual, dtype: int64"
      ]
     },
     "metadata": {},
     "output_type": "display_data"
    },
    {
     "name": "stdout",
     "output_type": "stream",
     "text": [
      "defaultdict(<class 'int'>, {'NOUN': 1})\n",
      "opgerold\n"
     ]
    },
    {
     "data": {
      "text/plain": [
       "VERB    1\n",
       "Name: actual, dtype: int64"
      ]
     },
     "metadata": {},
     "output_type": "display_data"
    },
    {
     "name": "stdout",
     "output_type": "stream",
     "text": [
      "defaultdict(<class 'int'>, {'VERB': 2})\n",
      "VB-partijblad\n"
     ]
    },
    {
     "data": {
      "text/plain": [
       "NOUN    1\n",
       "Name: actual, dtype: int64"
      ]
     },
     "metadata": {},
     "output_type": "display_data"
    },
    {
     "name": "stdout",
     "output_type": "stream",
     "text": [
      "defaultdict(<class 'int'>, {'NOUN': 1})\n",
      "1977-1978\n"
     ]
    },
    {
     "data": {
      "text/plain": [
       "SYM    1\n",
       "Name: actual, dtype: int64"
      ]
     },
     "metadata": {},
     "output_type": "display_data"
    },
    {
     "name": "stdout",
     "output_type": "stream",
     "text": [
      "defaultdict(<class 'int'>, {'SYM': 1})\n",
      "waarschijnlijk\n"
     ]
    },
    {
     "data": {
      "text/plain": [
       "ADJ    1\n",
       "Name: actual, dtype: int64"
      ]
     },
     "metadata": {},
     "output_type": "display_data"
    },
    {
     "name": "stdout",
     "output_type": "stream",
     "text": [
      "defaultdict(<class 'int'>, {'ADJ': 1})\n",
      "Landbouw\n"
     ]
    },
    {
     "data": {
      "text/plain": [
       "NOUN    1\n",
       "Name: actual, dtype: int64"
      ]
     },
     "metadata": {},
     "output_type": "display_data"
    },
    {
     "name": "stdout",
     "output_type": "stream",
     "text": [
      "defaultdict(<class 'int'>, {'NOUN': 1})\n",
      "Zuid-West\n"
     ]
    },
    {
     "data": {
      "text/plain": [
       "ADJ    1\n",
       "Name: actual, dtype: int64"
      ]
     },
     "metadata": {},
     "output_type": "display_data"
    },
    {
     "name": "stdout",
     "output_type": "stream",
     "text": [
      "defaultdict(<class 'int'>, {'ADJ': 1})\n",
      "toeziend\n"
     ]
    },
    {
     "data": {
      "text/plain": [
       "VERB    1\n",
       "Name: actual, dtype: int64"
      ]
     },
     "metadata": {},
     "output_type": "display_data"
    },
    {
     "name": "stdout",
     "output_type": "stream",
     "text": [
      "defaultdict(<class 'int'>, {'VERB': 1})\n",
      "way\n"
     ]
    },
    {
     "data": {
      "text/plain": [
       "X    1\n",
       "Name: actual, dtype: int64"
      ]
     },
     "metadata": {},
     "output_type": "display_data"
    },
    {
     "name": "stdout",
     "output_type": "stream",
     "text": [
      "defaultdict(<class 'int'>, {'X': 1})\n",
      "gemotiveerde\n"
     ]
    },
    {
     "data": {
      "text/plain": [
       "VERB    1\n",
       "Name: actual, dtype: int64"
      ]
     },
     "metadata": {},
     "output_type": "display_data"
    },
    {
     "name": "stdout",
     "output_type": "stream",
     "text": [
      "defaultdict(<class 'int'>, {'VERB': 1})\n",
      "demografisch\n"
     ]
    },
    {
     "data": {
      "text/plain": [
       "ADJ    1\n",
       "Name: actual, dtype: int64"
      ]
     },
     "metadata": {},
     "output_type": "display_data"
    },
    {
     "name": "stdout",
     "output_type": "stream",
     "text": [
      "defaultdict(<class 'int'>, {'ADJ': 1})\n",
      "afsluitende\n"
     ]
    },
    {
     "data": {
      "text/plain": [
       "VERB    1\n",
       "Name: actual, dtype: int64"
      ]
     },
     "metadata": {},
     "output_type": "display_data"
    },
    {
     "name": "stdout",
     "output_type": "stream",
     "text": [
      "defaultdict(<class 'int'>, {'VERB': 1})\n",
      "gehangene\n"
     ]
    },
    {
     "data": {
      "text/plain": [
       "VERB    1\n",
       "Name: actual, dtype: int64"
      ]
     },
     "metadata": {},
     "output_type": "display_data"
    },
    {
     "name": "stdout",
     "output_type": "stream",
     "text": [
      "defaultdict(<class 'int'>, {'VERB': 1})\n",
      "diamant\n"
     ]
    },
    {
     "data": {
      "text/plain": [
       "NOUN    1\n",
       "Name: actual, dtype: int64"
      ]
     },
     "metadata": {},
     "output_type": "display_data"
    },
    {
     "name": "stdout",
     "output_type": "stream",
     "text": [
      "defaultdict(<class 'int'>, {'NOUN': 1})\n",
      "decennialang\n"
     ]
    },
    {
     "data": {
      "text/plain": [
       "ADJ    1\n",
       "Name: actual, dtype: int64"
      ]
     },
     "metadata": {},
     "output_type": "display_data"
    },
    {
     "name": "stdout",
     "output_type": "stream",
     "text": [
      "defaultdict(<class 'int'>, {'ADJ': 1})\n",
      "Immigratie\n"
     ]
    },
    {
     "data": {
      "text/plain": [
       "NOUN    1\n",
       "Name: actual, dtype: int64"
      ]
     },
     "metadata": {},
     "output_type": "display_data"
    },
    {
     "name": "stdout",
     "output_type": "stream",
     "text": [
      "defaultdict(<class 'int'>, {'NOUN': 1})\n",
      "Zelfportret\n"
     ]
    },
    {
     "data": {
      "text/plain": [
       "NOUN    1\n",
       "Name: actual, dtype: int64"
      ]
     },
     "metadata": {},
     "output_type": "display_data"
    },
    {
     "name": "stdout",
     "output_type": "stream",
     "text": [
      "defaultdict(<class 'int'>, {'NOUN': 4})\n",
      "geladen\n"
     ]
    },
    {
     "data": {
      "text/plain": [
       "VERB    1\n",
       "Name: actual, dtype: int64"
      ]
     },
     "metadata": {},
     "output_type": "display_data"
    },
    {
     "name": "stdout",
     "output_type": "stream",
     "text": [
      "defaultdict(<class 'int'>, {'VERB': 2})\n",
      "Zeerovertje\n"
     ]
    },
    {
     "data": {
      "text/plain": [
       "NOUN    1\n",
       "Name: actual, dtype: int64"
      ]
     },
     "metadata": {},
     "output_type": "display_data"
    },
    {
     "name": "stdout",
     "output_type": "stream",
     "text": [
      "defaultdict(<class 'int'>, {'NOUN': 1})\n",
      "dronkelap\n"
     ]
    },
    {
     "data": {
      "text/plain": [
       "NOUN    1\n",
       "Name: actual, dtype: int64"
      ]
     },
     "metadata": {},
     "output_type": "display_data"
    },
    {
     "name": "stdout",
     "output_type": "stream",
     "text": [
      "defaultdict(<class 'int'>, {'NOUN': 1})\n",
      "1977-1986\n"
     ]
    },
    {
     "data": {
      "text/plain": [
       "SYM    1\n",
       "Name: actual, dtype: int64"
      ]
     },
     "metadata": {},
     "output_type": "display_data"
    },
    {
     "name": "stdout",
     "output_type": "stream",
     "text": [
      "defaultdict(<class 'int'>, {'SYM': 1})\n",
      "Tegenstroom\n"
     ]
    },
    {
     "data": {
      "text/plain": [
       "NOUN    1\n",
       "Name: actual, dtype: int64"
      ]
     },
     "metadata": {},
     "output_type": "display_data"
    },
    {
     "name": "stdout",
     "output_type": "stream",
     "text": [
      "defaultdict(<class 'int'>, {'NOUN': 1})\n",
      "geregeld\n"
     ]
    },
    {
     "data": {
      "text/plain": [
       "VERB    1\n",
       "Name: actual, dtype: int64"
      ]
     },
     "metadata": {},
     "output_type": "display_data"
    },
    {
     "name": "stdout",
     "output_type": "stream",
     "text": [
      "defaultdict(<class 'int'>, {'VERB': 1})\n",
      "spoedig\n"
     ]
    },
    {
     "data": {
      "text/plain": [
       "ADJ    1\n",
       "Name: actual, dtype: int64"
      ]
     },
     "metadata": {},
     "output_type": "display_data"
    },
    {
     "name": "stdout",
     "output_type": "stream",
     "text": [
      "defaultdict(<class 'int'>, {'ADJ': 1})\n",
      "Waarmee\n"
     ]
    },
    {
     "data": {
      "text/plain": [
       "ADV    1\n",
       "Name: actual, dtype: int64"
      ]
     },
     "metadata": {},
     "output_type": "display_data"
    },
    {
     "name": "stdout",
     "output_type": "stream",
     "text": [
      "defaultdict(<class 'int'>, {'ADV': 1})\n",
      "Stars\n"
     ]
    },
    {
     "data": {
      "text/plain": [
       "PROPN    1\n",
       "Name: actual, dtype: int64"
      ]
     },
     "metadata": {},
     "output_type": "display_data"
    },
    {
     "name": "stdout",
     "output_type": "stream",
     "text": [
      "defaultdict(<class 'int'>, {'PROPN': 1})\n",
      "rijmende\n"
     ]
    },
    {
     "data": {
      "text/plain": [
       "VERB    1\n",
       "Name: actual, dtype: int64"
      ]
     },
     "metadata": {},
     "output_type": "display_data"
    },
    {
     "name": "stdout",
     "output_type": "stream",
     "text": [
      "defaultdict(<class 'int'>, {'VERB': 1})\n",
      "Onder\n"
     ]
    },
    {
     "data": {
      "text/plain": [
       "ADP    1\n",
       "Name: actual, dtype: int64"
      ]
     },
     "metadata": {},
     "output_type": "display_data"
    },
    {
     "name": "stdout",
     "output_type": "stream",
     "text": [
      "defaultdict(<class 'int'>, {'ADP': 5})\n",
      "genaamd\n"
     ]
    },
    {
     "data": {
      "text/plain": [
       "ADJ    1\n",
       "Name: actual, dtype: int64"
      ]
     },
     "metadata": {},
     "output_type": "display_data"
    },
    {
     "name": "stdout",
     "output_type": "stream",
     "text": [
      "defaultdict(<class 'int'>, {'ADJ': 1})\n",
      "Wegen\n"
     ]
    },
    {
     "data": {
      "text/plain": [
       "NOUN    1\n",
       "Name: actual, dtype: int64"
      ]
     },
     "metadata": {},
     "output_type": "display_data"
    },
    {
     "name": "stdout",
     "output_type": "stream",
     "text": [
      "defaultdict(<class 'int'>, {'NOUN': 1})\n",
      "beu\n"
     ]
    },
    {
     "data": {
      "text/plain": [
       "ADJ    1\n",
       "Name: actual, dtype: int64"
      ]
     },
     "metadata": {},
     "output_type": "display_data"
    },
    {
     "name": "stdout",
     "output_type": "stream",
     "text": [
      "defaultdict(<class 'int'>, {'ADJ': 1})\n",
      "overlijden\n"
     ]
    },
    {
     "data": {
      "text/plain": [
       "VERB    1\n",
       "Name: actual, dtype: int64"
      ]
     },
     "metadata": {},
     "output_type": "display_data"
    },
    {
     "name": "stdout",
     "output_type": "stream",
     "text": [
      "defaultdict(<class 'int'>, {'VERB': 1})\n",
      "aftreden\n"
     ]
    },
    {
     "data": {
      "text/plain": [
       "VERB    1\n",
       "Name: actual, dtype: int64"
      ]
     },
     "metadata": {},
     "output_type": "display_data"
    },
    {
     "name": "stdout",
     "output_type": "stream",
     "text": [
      "defaultdict(<class 'int'>, {'VERB': 1})\n",
      "afhaken\n"
     ]
    },
    {
     "data": {
      "text/plain": [
       "VERB    1\n",
       "Name: actual, dtype: int64"
      ]
     },
     "metadata": {},
     "output_type": "display_data"
    },
    {
     "name": "stdout",
     "output_type": "stream",
     "text": [
      "defaultdict(<class 'int'>, {'VERB': 2})\n",
      "kundig\n"
     ]
    },
    {
     "data": {
      "text/plain": [
       "ADJ    1\n",
       "Name: actual, dtype: int64"
      ]
     },
     "metadata": {},
     "output_type": "display_data"
    },
    {
     "name": "stdout",
     "output_type": "stream",
     "text": [
      "defaultdict(<class 'int'>, {'ADJ': 1})\n",
      "verplichte\n"
     ]
    },
    {
     "data": {
      "text/plain": [
       "VERB    1\n",
       "Name: actual, dtype: int64"
      ]
     },
     "metadata": {},
     "output_type": "display_data"
    },
    {
     "name": "stdout",
     "output_type": "stream",
     "text": [
      "defaultdict(<class 'int'>, {'VERB': 1})\n",
      "haarzelve\n"
     ]
    },
    {
     "data": {
      "text/plain": [
       "PRON    1\n",
       "Name: actual, dtype: int64"
      ]
     },
     "metadata": {},
     "output_type": "display_data"
    },
    {
     "name": "stdout",
     "output_type": "stream",
     "text": [
      "defaultdict(<class 'int'>, {'PRON': 1})\n",
      "haperende\n"
     ]
    },
    {
     "data": {
      "text/plain": [
       "VERB    1\n",
       "Name: actual, dtype: int64"
      ]
     },
     "metadata": {},
     "output_type": "display_data"
    },
    {
     "name": "stdout",
     "output_type": "stream",
     "text": [
      "defaultdict(<class 'int'>, {'VERB': 1})\n",
      "uitgetreden\n"
     ]
    },
    {
     "data": {
      "text/plain": [
       "VERB    1\n",
       "Name: actual, dtype: int64"
      ]
     },
     "metadata": {},
     "output_type": "display_data"
    },
    {
     "name": "stdout",
     "output_type": "stream",
     "text": [
      "defaultdict(<class 'int'>, {'VERB': 1})\n",
      "thuisgebleven\n"
     ]
    },
    {
     "data": {
      "text/plain": [
       "VERB    1\n",
       "Name: actual, dtype: int64"
      ]
     },
     "metadata": {},
     "output_type": "display_data"
    },
    {
     "name": "stdout",
     "output_type": "stream",
     "text": [
      "defaultdict(<class 'int'>, {'VERB': 1})\n",
      "ajacied\n"
     ]
    },
    {
     "data": {
      "text/plain": [
       "NOUN    1\n",
       "Name: actual, dtype: int64"
      ]
     },
     "metadata": {},
     "output_type": "display_data"
    },
    {
     "name": "stdout",
     "output_type": "stream",
     "text": [
      "defaultdict(<class 'int'>, {'NOUN': 2})\n",
      "drievoudig\n"
     ]
    },
    {
     "data": {
      "text/plain": [
       "ADJ    1\n",
       "Name: actual, dtype: int64"
      ]
     },
     "metadata": {},
     "output_type": "display_data"
    },
    {
     "name": "stdout",
     "output_type": "stream",
     "text": [
      "defaultdict(<class 'int'>, {'ADJ': 1})\n",
      "05.10.96-02.02.97\n"
     ]
    },
    {
     "data": {
      "text/plain": [
       "SYM    1\n",
       "Name: actual, dtype: int64"
      ]
     },
     "metadata": {},
     "output_type": "display_data"
    },
    {
     "name": "stdout",
     "output_type": "stream",
     "text": [
      "defaultdict(<class 'int'>, {'SYM': 1})\n",
      "geruchten\n"
     ]
    },
    {
     "data": {
      "text/plain": [
       "NOUN    1\n",
       "Name: actual, dtype: int64"
      ]
     },
     "metadata": {},
     "output_type": "display_data"
    },
    {
     "name": "stdout",
     "output_type": "stream",
     "text": [
      "defaultdict(<class 'int'>, {'NOUN': 2})\n",
      "officieel\n"
     ]
    },
    {
     "data": {
      "text/plain": [
       "ADJ    1\n",
       "Name: actual, dtype: int64"
      ]
     },
     "metadata": {},
     "output_type": "display_data"
    },
    {
     "name": "stdout",
     "output_type": "stream",
     "text": [
      "defaultdict(<class 'int'>, {'ADJ': 1})\n",
      "bij\n"
     ]
    },
    {
     "data": {
      "text/plain": [
       "ADP    1\n",
       "Name: actual, dtype: int64"
      ]
     },
     "metadata": {},
     "output_type": "display_data"
    },
    {
     "name": "stdout",
     "output_type": "stream",
     "text": [
      "defaultdict(<class 'int'>, {'ADP': 74})\n",
      "Geraamten\n"
     ]
    },
    {
     "data": {
      "text/plain": [
       "NOUN    1\n",
       "Name: actual, dtype: int64"
      ]
     },
     "metadata": {},
     "output_type": "display_data"
    },
    {
     "name": "stdout",
     "output_type": "stream",
     "text": [
      "defaultdict(<class 'int'>, {'NOUN': 1})\n",
      "Oostenrijkse\n"
     ]
    },
    {
     "data": {
      "text/plain": [
       "ADJ    1\n",
       "Name: actual, dtype: int64"
      ]
     },
     "metadata": {},
     "output_type": "display_data"
    },
    {
     "name": "stdout",
     "output_type": "stream",
     "text": [
      "defaultdict(<class 'int'>, {'ADJ': 2})\n",
      "overwegend\n"
     ]
    },
    {
     "data": {
      "text/plain": [
       "ADJ    1\n",
       "Name: actual, dtype: int64"
      ]
     },
     "metadata": {},
     "output_type": "display_data"
    },
    {
     "name": "stdout",
     "output_type": "stream",
     "text": [
      "defaultdict(<class 'int'>, {'ADJ': 1})\n",
      "Waals\n"
     ]
    },
    {
     "data": {
      "text/plain": [
       "ADJ    1\n",
       "Name: actual, dtype: int64"
      ]
     },
     "metadata": {},
     "output_type": "display_data"
    },
    {
     "name": "stdout",
     "output_type": "stream",
     "text": [
      "defaultdict(<class 'int'>, {'ADJ': 2})\n",
      "rappe\n"
     ]
    },
    {
     "data": {
      "text/plain": [
       "ADJ    1\n",
       "Name: actual, dtype: int64"
      ]
     },
     "metadata": {},
     "output_type": "display_data"
    },
    {
     "name": "stdout",
     "output_type": "stream",
     "text": [
      "defaultdict(<class 'int'>, {'ADJ': 1})\n",
      "thÃ©ologien\n"
     ]
    },
    {
     "data": {
      "text/plain": [
       "X    1\n",
       "Name: actual, dtype: int64"
      ]
     },
     "metadata": {},
     "output_type": "display_data"
    },
    {
     "name": "stdout",
     "output_type": "stream",
     "text": [
      "defaultdict(<class 'int'>, {'X': 1})\n",
      "Minister\n"
     ]
    },
    {
     "data": {
      "text/plain": [
       "NOUN    1\n",
       "Name: actual, dtype: int64"
      ]
     },
     "metadata": {},
     "output_type": "display_data"
    },
    {
     "name": "stdout",
     "output_type": "stream",
     "text": [
      "defaultdict(<class 'int'>, {'NOUN': 1})\n",
      "Daarvoor\n"
     ]
    },
    {
     "data": {
      "text/plain": [
       "ADV    1\n",
       "Name: actual, dtype: int64"
      ]
     },
     "metadata": {},
     "output_type": "display_data"
    },
    {
     "name": "stdout",
     "output_type": "stream",
     "text": [
      "defaultdict(<class 'int'>, {'ADV': 4})\n",
      "t/m\n"
     ]
    },
    {
     "data": {
      "text/plain": [
       "X    1\n",
       "Name: actual, dtype: int64"
      ]
     },
     "metadata": {},
     "output_type": "display_data"
    },
    {
     "name": "stdout",
     "output_type": "stream",
     "text": [
      "defaultdict(<class 'int'>, {'X': 1})\n",
      "MIM/Pandora\n"
     ]
    },
    {
     "data": {
      "text/plain": [
       "PROPN    1\n",
       "Name: actual, dtype: int64"
      ]
     },
     "metadata": {},
     "output_type": "display_data"
    },
    {
     "name": "stdout",
     "output_type": "stream",
     "text": [
      "defaultdict(<class 'int'>, {'PROPN': 1})\n",
      "Duizenden\n"
     ]
    },
    {
     "data": {
      "text/plain": [
       "NUM    1\n",
       "Name: actual, dtype: int64"
      ]
     },
     "metadata": {},
     "output_type": "display_data"
    },
    {
     "name": "stdout",
     "output_type": "stream",
     "text": [
      "defaultdict(<class 'int'>, {'NUM': 1})\n",
      "mentaal\n"
     ]
    },
    {
     "data": {
      "text/plain": [
       "ADJ    1\n",
       "Name: actual, dtype: int64"
      ]
     },
     "metadata": {},
     "output_type": "display_data"
    },
    {
     "name": "stdout",
     "output_type": "stream",
     "text": [
      "defaultdict(<class 'int'>, {'ADJ': 1})\n",
      "tikt\n"
     ]
    },
    {
     "data": {
      "text/plain": [
       "VERB    1\n",
       "Name: actual, dtype: int64"
      ]
     },
     "metadata": {},
     "output_type": "display_data"
    },
    {
     "name": "stdout",
     "output_type": "stream",
     "text": [
      "defaultdict(<class 'int'>, {'VERB': 1})\n",
      "3166-2-code\n"
     ]
    },
    {
     "data": {
      "text/plain": [
       "NOUN    1\n",
       "Name: actual, dtype: int64"
      ]
     },
     "metadata": {},
     "output_type": "display_data"
    },
    {
     "name": "stdout",
     "output_type": "stream",
     "text": [
      "defaultdict(<class 'int'>, {'NOUN': 1})\n",
      "Kapoentje\n"
     ]
    },
    {
     "data": {
      "text/plain": [
       "NOUN    1\n",
       "Name: actual, dtype: int64"
      ]
     },
     "metadata": {},
     "output_type": "display_data"
    },
    {
     "name": "stdout",
     "output_type": "stream",
     "text": [
      "defaultdict(<class 'int'>, {'NOUN': 1})\n",
      "waarschuwende\n"
     ]
    },
    {
     "data": {
      "text/plain": [
       "VERB    1\n",
       "Name: actual, dtype: int64"
      ]
     },
     "metadata": {},
     "output_type": "display_data"
    },
    {
     "name": "stdout",
     "output_type": "stream",
     "text": [
      "defaultdict(<class 'int'>, {'VERB': 1})\n",
      "Project\n"
     ]
    },
    {
     "data": {
      "text/plain": [
       "NOUN    1\n",
       "Name: actual, dtype: int64"
      ]
     },
     "metadata": {},
     "output_type": "display_data"
    },
    {
     "name": "stdout",
     "output_type": "stream",
     "text": [
      "defaultdict(<class 'int'>, {'NOUN': 1})\n",
      "Algemeen\n"
     ]
    },
    {
     "data": {
      "text/plain": [
       "ADJ    1\n",
       "Name: actual, dtype: int64"
      ]
     },
     "metadata": {},
     "output_type": "display_data"
    },
    {
     "name": "stdout",
     "output_type": "stream",
     "text": [
      "defaultdict(<class 'int'>, {'ADJ': 1})\n",
      "Dood\n"
     ]
    },
    {
     "data": {
      "text/plain": [
       "PROPN    1\n",
       "Name: actual, dtype: int64"
      ]
     },
     "metadata": {},
     "output_type": "display_data"
    },
    {
     "name": "stdout",
     "output_type": "stream",
     "text": [
      "defaultdict(<class 'int'>, {'PROPN': 1})\n",
      "Verdoken\n"
     ]
    },
    {
     "data": {
      "text/plain": [
       "ADJ    1\n",
       "Name: actual, dtype: int64"
      ]
     },
     "metadata": {},
     "output_type": "display_data"
    },
    {
     "name": "stdout",
     "output_type": "stream",
     "text": [
      "defaultdict(<class 'int'>, {'ADJ': 1})\n",
      "puur\n"
     ]
    },
    {
     "data": {
      "text/plain": [
       "ADJ    1\n",
       "Name: actual, dtype: int64"
      ]
     },
     "metadata": {},
     "output_type": "display_data"
    },
    {
     "name": "stdout",
     "output_type": "stream",
     "text": [
      "defaultdict(<class 'int'>, {'ADJ': 1})\n",
      "Latin\n"
     ]
    },
    {
     "data": {
      "text/plain": [
       "PROPN    1\n",
       "Name: actual, dtype: int64"
      ]
     },
     "metadata": {},
     "output_type": "display_data"
    },
    {
     "name": "stdout",
     "output_type": "stream",
     "text": [
      "defaultdict(<class 'int'>, {'PROPN': 1})\n",
      "gematigde\n"
     ]
    },
    {
     "data": {
      "text/plain": [
       "VERB    1\n",
       "Name: actual, dtype: int64"
      ]
     },
     "metadata": {},
     "output_type": "display_data"
    },
    {
     "name": "stdout",
     "output_type": "stream",
     "text": [
      "defaultdict(<class 'int'>, {'VERB': 1})\n",
      "Veilingen\n"
     ]
    },
    {
     "data": {
      "text/plain": [
       "NOUN    1\n",
       "Name: actual, dtype: int64"
      ]
     },
     "metadata": {},
     "output_type": "display_data"
    },
    {
     "name": "stdout",
     "output_type": "stream",
     "text": [
      "defaultdict(<class 'int'>, {'NOUN': 1})\n",
      "Golfbreker\n"
     ]
    },
    {
     "data": {
      "text/plain": [
       "NOUN    1\n",
       "Name: actual, dtype: int64"
      ]
     },
     "metadata": {},
     "output_type": "display_data"
    },
    {
     "name": "stdout",
     "output_type": "stream",
     "text": [
      "defaultdict(<class 'int'>, {'NOUN': 1})\n",
      "Genootschap\n"
     ]
    },
    {
     "data": {
      "text/plain": [
       "PROPN    1\n",
       "Name: actual, dtype: int64"
      ]
     },
     "metadata": {},
     "output_type": "display_data"
    },
    {
     "name": "stdout",
     "output_type": "stream",
     "text": [
      "defaultdict(<class 'int'>, {'PROPN': 1})\n",
      "Jaarlijks\n"
     ]
    },
    {
     "data": {
      "text/plain": [
       "ADJ    1\n",
       "Name: actual, dtype: int64"
      ]
     },
     "metadata": {},
     "output_type": "display_data"
    },
    {
     "name": "stdout",
     "output_type": "stream",
     "text": [
      "defaultdict(<class 'int'>, {'ADJ': 1})\n",
      "pseudo\n"
     ]
    },
    {
     "data": {
      "text/plain": [
       "ADJ    1\n",
       "Name: actual, dtype: int64"
      ]
     },
     "metadata": {},
     "output_type": "display_data"
    },
    {
     "name": "stdout",
     "output_type": "stream",
     "text": [
      "defaultdict(<class 'int'>, {'ADJ': 1})\n",
      "fidem\n"
     ]
    },
    {
     "data": {
      "text/plain": [
       "PROPN    1\n",
       "Name: actual, dtype: int64"
      ]
     },
     "metadata": {},
     "output_type": "display_data"
    },
    {
     "name": "stdout",
     "output_type": "stream",
     "text": [
      "defaultdict(<class 'int'>, {'PROPN': 1})\n",
      "sporadisch\n"
     ]
    },
    {
     "data": {
      "text/plain": [
       "ADJ    1\n",
       "Name: actual, dtype: int64"
      ]
     },
     "metadata": {},
     "output_type": "display_data"
    },
    {
     "name": "stdout",
     "output_type": "stream",
     "text": [
      "defaultdict(<class 'int'>, {'ADJ': 1})\n",
      "1965-1970\n"
     ]
    },
    {
     "data": {
      "text/plain": [
       "SYM    1\n",
       "Name: actual, dtype: int64"
      ]
     },
     "metadata": {},
     "output_type": "display_data"
    },
    {
     "name": "stdout",
     "output_type": "stream",
     "text": [
      "defaultdict(<class 'int'>, {'SYM': 1})\n",
      "Alliantie\n"
     ]
    },
    {
     "data": {
      "text/plain": [
       "PROPN    1\n",
       "Name: actual, dtype: int64"
      ]
     },
     "metadata": {},
     "output_type": "display_data"
    },
    {
     "name": "stdout",
     "output_type": "stream",
     "text": [
      "defaultdict(<class 'int'>, {'PROPN': 3})\n",
      "moeizaam\n"
     ]
    },
    {
     "data": {
      "text/plain": [
       "ADJ    1\n",
       "Name: actual, dtype: int64"
      ]
     },
     "metadata": {},
     "output_type": "display_data"
    },
    {
     "name": "stdout",
     "output_type": "stream",
     "text": [
      "defaultdict(<class 'int'>, {'ADJ': 1})\n",
      "gevreesde\n"
     ]
    },
    {
     "data": {
      "text/plain": [
       "VERB    1\n",
       "Name: actual, dtype: int64"
      ]
     },
     "metadata": {},
     "output_type": "display_data"
    },
    {
     "name": "stdout",
     "output_type": "stream",
     "text": [
      "defaultdict(<class 'int'>, {'VERB': 1})\n",
      "bespottelijk\n"
     ]
    },
    {
     "data": {
      "text/plain": [
       "ADJ    1\n",
       "Name: actual, dtype: int64"
      ]
     },
     "metadata": {},
     "output_type": "display_data"
    },
    {
     "name": "stdout",
     "output_type": "stream",
     "text": [
      "defaultdict(<class 'int'>, {'ADJ': 1})\n",
      "Bond\n"
     ]
    },
    {
     "data": {
      "text/plain": [
       "NOUN    1\n",
       "Name: actual, dtype: int64"
      ]
     },
     "metadata": {},
     "output_type": "display_data"
    },
    {
     "name": "stdout",
     "output_type": "stream",
     "text": [
      "defaultdict(<class 'int'>, {'NOUN': 1})\n",
      "bijzonder\n"
     ]
    },
    {
     "data": {
      "text/plain": [
       "ADJ    1\n",
       "Name: actual, dtype: int64"
      ]
     },
     "metadata": {},
     "output_type": "display_data"
    },
    {
     "name": "stdout",
     "output_type": "stream",
     "text": [
      "defaultdict(<class 'int'>, {'ADJ': 1})\n",
      "uitgesproken\n"
     ]
    },
    {
     "data": {
      "text/plain": [
       "VERB    1\n",
       "Name: actual, dtype: int64"
      ]
     },
     "metadata": {},
     "output_type": "display_data"
    },
    {
     "name": "stdout",
     "output_type": "stream",
     "text": [
      "defaultdict(<class 'int'>, {'VERB': 2})\n",
      "getrouwd\n"
     ]
    },
    {
     "data": {
      "text/plain": [
       "VERB    1\n",
       "Name: actual, dtype: int64"
      ]
     },
     "metadata": {},
     "output_type": "display_data"
    },
    {
     "name": "stdout",
     "output_type": "stream",
     "text": [
      "defaultdict(<class 'int'>, {'VERB': 3})\n",
      "Kiesdrempel\n"
     ]
    },
    {
     "data": {
      "text/plain": [
       "NOUN    1\n",
       "Name: actual, dtype: int64"
      ]
     },
     "metadata": {},
     "output_type": "display_data"
    },
    {
     "name": "stdout",
     "output_type": "stream",
     "text": [
      "defaultdict(<class 'int'>, {'NOUN': 1})\n",
      "onnoemelijk\n"
     ]
    },
    {
     "data": {
      "text/plain": [
       "ADJ    1\n",
       "Name: actual, dtype: int64"
      ]
     },
     "metadata": {},
     "output_type": "display_data"
    },
    {
     "name": "stdout",
     "output_type": "stream",
     "text": [
      "defaultdict(<class 'int'>, {'ADJ': 1})\n",
      "steekhoudende\n"
     ]
    },
    {
     "data": {
      "text/plain": [
       "VERB    1\n",
       "Name: actual, dtype: int64"
      ]
     },
     "metadata": {},
     "output_type": "display_data"
    },
    {
     "name": "stdout",
     "output_type": "stream",
     "text": [
      "defaultdict(<class 'int'>, {'VERB': 1})\n",
      "Gelaten\n"
     ]
    },
    {
     "data": {
      "text/plain": [
       "VERB    1\n",
       "Name: actual, dtype: int64"
      ]
     },
     "metadata": {},
     "output_type": "display_data"
    },
    {
     "name": "stdout",
     "output_type": "stream",
     "text": [
      "defaultdict(<class 'int'>, {'VERB': 1})\n",
      "Winnende\n"
     ]
    },
    {
     "data": {
      "text/plain": [
       "VERB    1\n",
       "Name: actual, dtype: int64"
      ]
     },
     "metadata": {},
     "output_type": "display_data"
    },
    {
     "name": "stdout",
     "output_type": "stream",
     "text": [
      "defaultdict(<class 'int'>, {'VERB': 1})\n",
      "opgelucht\n"
     ]
    },
    {
     "data": {
      "text/plain": [
       "VERB    1\n",
       "Name: actual, dtype: int64"
      ]
     },
     "metadata": {},
     "output_type": "display_data"
    },
    {
     "name": "stdout",
     "output_type": "stream",
     "text": [
      "defaultdict(<class 'int'>, {'VERB': 1})\n",
      "Allen\n"
     ]
    },
    {
     "data": {
      "text/plain": [
       "PRON    1\n",
       "Name: actual, dtype: int64"
      ]
     },
     "metadata": {},
     "output_type": "display_data"
    },
    {
     "name": "stdout",
     "output_type": "stream",
     "text": [
      "defaultdict(<class 'int'>, {'PRON': 1})\n",
      "zee\n"
     ]
    },
    {
     "data": {
      "text/plain": [
       "NOUN    1\n",
       "Name: actual, dtype: int64"
      ]
     },
     "metadata": {},
     "output_type": "display_data"
    },
    {
     "name": "stdout",
     "output_type": "stream",
     "text": [
      "defaultdict(<class 'int'>, {'NOUN': 3})\n",
      "Chet\n"
     ]
    },
    {
     "data": {
      "text/plain": [
       "X    1\n",
       "Name: actual, dtype: int64"
      ]
     },
     "metadata": {},
     "output_type": "display_data"
    },
    {
     "name": "stdout",
     "output_type": "stream",
     "text": [
      "defaultdict(<class 'int'>, {'PROPN': 2, 'X': 1})\n",
      "Romp\n"
     ]
    },
    {
     "data": {
      "text/plain": [
       "NOUN    1\n",
       "Name: actual, dtype: int64"
      ]
     },
     "metadata": {},
     "output_type": "display_data"
    },
    {
     "name": "stdout",
     "output_type": "stream",
     "text": [
      "defaultdict(<class 'int'>, {'PROPN': 1, 'NOUN': 1})\n",
      "rk.\n"
     ]
    },
    {
     "data": {
      "text/plain": [
       "ADJ    1\n",
       "Name: actual, dtype: int64"
      ]
     },
     "metadata": {},
     "output_type": "display_data"
    },
    {
     "name": "stdout",
     "output_type": "stream",
     "text": [
      "defaultdict(<class 'int'>, {'ADJ': 1})\n",
      "schitterende\n"
     ]
    },
    {
     "data": {
      "text/plain": [
       "VERB    1\n",
       "Name: actual, dtype: int64"
      ]
     },
     "metadata": {},
     "output_type": "display_data"
    },
    {
     "name": "stdout",
     "output_type": "stream",
     "text": [
      "defaultdict(<class 'int'>, {'VERB': 1})\n",
      "jarenlang\n"
     ]
    },
    {
     "data": {
      "text/plain": [
       "ADJ    1\n",
       "Name: actual, dtype: int64"
      ]
     },
     "metadata": {},
     "output_type": "display_data"
    },
    {
     "name": "stdout",
     "output_type": "stream",
     "text": [
      "defaultdict(<class 'int'>, {'ADJ': 1})\n",
      "WOW\n"
     ]
    },
    {
     "data": {
      "text/plain": [
       "PROPN    1\n",
       "Name: actual, dtype: int64"
      ]
     },
     "metadata": {},
     "output_type": "display_data"
    },
    {
     "name": "stdout",
     "output_type": "stream",
     "text": [
      "defaultdict(<class 'int'>, {'PROPN': 5})\n",
      "1943-1946\n"
     ]
    },
    {
     "data": {
      "text/plain": [
       "SYM    1\n",
       "Name: actual, dtype: int64"
      ]
     },
     "metadata": {},
     "output_type": "display_data"
    },
    {
     "name": "stdout",
     "output_type": "stream",
     "text": [
      "defaultdict(<class 'int'>, {'SYM': 1})\n",
      "vaker\n"
     ]
    },
    {
     "data": {
      "text/plain": [
       "ADJ    1\n",
       "Name: actual, dtype: int64"
      ]
     },
     "metadata": {},
     "output_type": "display_data"
    },
    {
     "name": "stdout",
     "output_type": "stream",
     "text": [
      "defaultdict(<class 'int'>, {'ADJ': 1})\n",
      "lijden\n"
     ]
    },
    {
     "data": {
      "text/plain": [
       "VERB    1\n",
       "Name: actual, dtype: int64"
      ]
     },
     "metadata": {},
     "output_type": "display_data"
    },
    {
     "name": "stdout",
     "output_type": "stream",
     "text": [
      "defaultdict(<class 'int'>, {'VERB': 1})\n",
      "eventueel\n"
     ]
    },
    {
     "data": {
      "text/plain": [
       "ADJ    1\n",
       "Name: actual, dtype: int64"
      ]
     },
     "metadata": {},
     "output_type": "display_data"
    },
    {
     "name": "stdout",
     "output_type": "stream",
     "text": [
      "defaultdict(<class 'int'>, {'ADJ': 1})\n",
      "Zuid-Amerikaan\n"
     ]
    },
    {
     "data": {
      "text/plain": [
       "PROPN    1\n",
       "Name: actual, dtype: int64"
      ]
     },
     "metadata": {},
     "output_type": "display_data"
    },
    {
     "name": "stdout",
     "output_type": "stream",
     "text": [
      "defaultdict(<class 'int'>, {'PROPN': 1})\n",
      "personeels-\n"
     ]
    },
    {
     "data": {
      "text/plain": [
       "X    1\n",
       "Name: actual, dtype: int64"
      ]
     },
     "metadata": {},
     "output_type": "display_data"
    },
    {
     "name": "stdout",
     "output_type": "stream",
     "text": [
      "defaultdict(<class 'int'>, {'X': 1})\n",
      "drastisch\n"
     ]
    },
    {
     "data": {
      "text/plain": [
       "ADJ    1\n",
       "Name: actual, dtype: int64"
      ]
     },
     "metadata": {},
     "output_type": "display_data"
    },
    {
     "name": "stdout",
     "output_type": "stream",
     "text": [
      "defaultdict(<class 'int'>, {'ADJ': 1})\n",
      "All\n"
     ]
    },
    {
     "data": {
      "text/plain": [
       "PROPN    1\n",
       "Name: actual, dtype: int64"
      ]
     },
     "metadata": {},
     "output_type": "display_data"
    },
    {
     "name": "stdout",
     "output_type": "stream",
     "text": [
      "defaultdict(<class 'int'>, {'PROPN': 1})\n",
      "serieuzer\n"
     ]
    },
    {
     "data": {
      "text/plain": [
       "ADJ    1\n",
       "Name: actual, dtype: int64"
      ]
     },
     "metadata": {},
     "output_type": "display_data"
    },
    {
     "name": "stdout",
     "output_type": "stream",
     "text": [
      "defaultdict(<class 'int'>, {'ADJ': 1})\n",
      "urenlang\n"
     ]
    },
    {
     "data": {
      "text/plain": [
       "ADJ    1\n",
       "Name: actual, dtype: int64"
      ]
     },
     "metadata": {},
     "output_type": "display_data"
    },
    {
     "name": "stdout",
     "output_type": "stream",
     "text": [
      "defaultdict(<class 'int'>, {'ADJ': 1})\n",
      "wijd\n"
     ]
    },
    {
     "data": {
      "text/plain": [
       "ADJ    1\n",
       "Name: actual, dtype: int64"
      ]
     },
     "metadata": {},
     "output_type": "display_data"
    },
    {
     "name": "stdout",
     "output_type": "stream",
     "text": [
      "defaultdict(<class 'int'>, {'ADJ': 1})\n",
      "familie\n"
     ]
    },
    {
     "data": {
      "text/plain": [
       "NOUN    1\n",
       "Name: actual, dtype: int64"
      ]
     },
     "metadata": {},
     "output_type": "display_data"
    },
    {
     "name": "stdout",
     "output_type": "stream",
     "text": [
      "defaultdict(<class 'int'>, {'NOUN': 6})\n",
      "vlug\n"
     ]
    },
    {
     "data": {
      "text/plain": [
       "ADJ    1\n",
       "Name: actual, dtype: int64"
      ]
     },
     "metadata": {},
     "output_type": "display_data"
    },
    {
     "name": "stdout",
     "output_type": "stream",
     "text": [
      "defaultdict(<class 'int'>, {'ADJ': 1})\n",
      "elke\n"
     ]
    },
    {
     "data": {
      "text/plain": [
       "PRON    1\n",
       "Name: actual, dtype: int64"
      ]
     },
     "metadata": {},
     "output_type": "display_data"
    },
    {
     "name": "stdout",
     "output_type": "stream",
     "text": [
      "defaultdict(<class 'int'>, {'PRON': 1, 'DET': 2})\n",
      "vrij\n"
     ]
    },
    {
     "data": {
      "text/plain": [
       "ADJ    1\n",
       "Name: actual, dtype: int64"
      ]
     },
     "metadata": {},
     "output_type": "display_data"
    },
    {
     "name": "stdout",
     "output_type": "stream",
     "text": [
      "defaultdict(<class 'int'>, {'ADJ': 4})\n",
      "Naakte\n"
     ]
    },
    {
     "data": {
      "text/plain": [
       "ADJ    1\n",
       "Name: actual, dtype: int64"
      ]
     },
     "metadata": {},
     "output_type": "display_data"
    },
    {
     "name": "stdout",
     "output_type": "stream",
     "text": [
      "defaultdict(<class 'int'>, {'ADJ': 1})\n",
      "GeÃ«rgerde\n"
     ]
    },
    {
     "data": {
      "text/plain": [
       "VERB    1\n",
       "Name: actual, dtype: int64"
      ]
     },
     "metadata": {},
     "output_type": "display_data"
    },
    {
     "name": "stdout",
     "output_type": "stream",
     "text": [
      "defaultdict(<class 'int'>, {'VERB': 1})\n",
      "Overal\n"
     ]
    },
    {
     "data": {
      "text/plain": [
       "NOUN    1\n",
       "Name: actual, dtype: int64"
      ]
     },
     "metadata": {},
     "output_type": "display_data"
    },
    {
     "name": "stdout",
     "output_type": "stream",
     "text": [
      "defaultdict(<class 'int'>, {'NOUN': 1})\n",
      "57,8%\n"
     ]
    },
    {
     "data": {
      "text/plain": [
       "SYM    1\n",
       "Name: actual, dtype: int64"
      ]
     },
     "metadata": {},
     "output_type": "display_data"
    },
    {
     "name": "stdout",
     "output_type": "stream",
     "text": [
      "defaultdict(<class 'int'>, {'SYM': 1})\n",
      "1945-heden\n"
     ]
    },
    {
     "data": {
      "text/plain": [
       "SYM    1\n",
       "Name: actual, dtype: int64"
      ]
     },
     "metadata": {},
     "output_type": "display_data"
    },
    {
     "name": "stdout",
     "output_type": "stream",
     "text": [
      "defaultdict(<class 'int'>, {'SYM': 1})\n",
      "ministerie\n"
     ]
    },
    {
     "data": {
      "text/plain": [
       "NOUN    1\n",
       "Name: actual, dtype: int64"
      ]
     },
     "metadata": {},
     "output_type": "display_data"
    },
    {
     "name": "stdout",
     "output_type": "stream",
     "text": [
      "defaultdict(<class 'int'>, {'NOUN': 3})\n",
      "kg.\n"
     ]
    },
    {
     "data": {
      "text/plain": [
       "SYM    1\n",
       "Name: actual, dtype: int64"
      ]
     },
     "metadata": {},
     "output_type": "display_data"
    },
    {
     "name": "stdout",
     "output_type": "stream",
     "text": [
      "defaultdict(<class 'int'>, {'SYM': 1})\n",
      "opzettelijk\n"
     ]
    },
    {
     "data": {
      "text/plain": [
       "ADJ    1\n",
       "Name: actual, dtype: int64"
      ]
     },
     "metadata": {},
     "output_type": "display_data"
    },
    {
     "name": "stdout",
     "output_type": "stream",
     "text": [
      "defaultdict(<class 'int'>, {'ADJ': 1})\n",
      "41,5%\n"
     ]
    },
    {
     "data": {
      "text/plain": [
       "SYM    1\n",
       "Name: actual, dtype: int64"
      ]
     },
     "metadata": {},
     "output_type": "display_data"
    },
    {
     "name": "stdout",
     "output_type": "stream",
     "text": [
      "defaultdict(<class 'int'>, {'SYM': 1})\n",
      "Luce\n"
     ]
    },
    {
     "data": {
      "text/plain": [
       "X    1\n",
       "Name: actual, dtype: int64"
      ]
     },
     "metadata": {},
     "output_type": "display_data"
    },
    {
     "name": "stdout",
     "output_type": "stream",
     "text": [
      "defaultdict(<class 'int'>, {'X': 1})\n",
      "Reeks\n"
     ]
    },
    {
     "data": {
      "text/plain": [
       "NOUN    1\n",
       "Name: actual, dtype: int64"
      ]
     },
     "metadata": {},
     "output_type": "display_data"
    },
    {
     "name": "stdout",
     "output_type": "stream",
     "text": [
      "defaultdict(<class 'int'>, {'NOUN': 1})\n",
      "Ordination\n"
     ]
    },
    {
     "data": {
      "text/plain": [
       "X    1\n",
       "Name: actual, dtype: int64"
      ]
     },
     "metadata": {},
     "output_type": "display_data"
    },
    {
     "name": "stdout",
     "output_type": "stream",
     "text": [
      "defaultdict(<class 'int'>, {'X': 1})\n",
      "minste\n"
     ]
    },
    {
     "data": {
      "text/plain": [
       "PRON    1\n",
       "Name: actual, dtype: int64"
      ]
     },
     "metadata": {},
     "output_type": "display_data"
    },
    {
     "name": "stdout",
     "output_type": "stream",
     "text": [
      "defaultdict(<class 'int'>, {'PRON': 1})\n",
      "Vroege\n"
     ]
    },
    {
     "data": {
      "text/plain": [
       "ADJ    1\n",
       "Name: actual, dtype: int64"
      ]
     },
     "metadata": {},
     "output_type": "display_data"
    },
    {
     "name": "stdout",
     "output_type": "stream",
     "text": [
      "defaultdict(<class 'int'>, {'ADJ': 1})\n",
      "voorlopig\n"
     ]
    },
    {
     "data": {
      "text/plain": [
       "ADJ    1\n",
       "Name: actual, dtype: int64"
      ]
     },
     "metadata": {},
     "output_type": "display_data"
    },
    {
     "name": "stdout",
     "output_type": "stream",
     "text": [
      "defaultdict(<class 'int'>, {'ADJ': 1})\n",
      "0.30\n"
     ]
    },
    {
     "data": {
      "text/plain": [
       "SYM    1\n",
       "Name: actual, dtype: int64"
      ]
     },
     "metadata": {},
     "output_type": "display_data"
    },
    {
     "name": "stdout",
     "output_type": "stream",
     "text": [
      "defaultdict(<class 'int'>, {'SYM': 1})\n",
      "beneden\n"
     ]
    },
    {
     "data": {
      "text/plain": [
       "ADP    1\n",
       "Name: actual, dtype: int64"
      ]
     },
     "metadata": {},
     "output_type": "display_data"
    },
    {
     "name": "stdout",
     "output_type": "stream",
     "text": [
      "defaultdict(<class 'int'>, {'ADP': 1})\n",
      "Vandersteen-fans\n"
     ]
    },
    {
     "data": {
      "text/plain": [
       "NOUN    1\n",
       "Name: actual, dtype: int64"
      ]
     },
     "metadata": {},
     "output_type": "display_data"
    },
    {
     "name": "stdout",
     "output_type": "stream",
     "text": [
      "defaultdict(<class 'int'>, {'NOUN': 1})\n",
      "ethisch\n"
     ]
    },
    {
     "data": {
      "text/plain": [
       "ADJ    1\n",
       "Name: actual, dtype: int64"
      ]
     },
     "metadata": {},
     "output_type": "display_data"
    },
    {
     "name": "stdout",
     "output_type": "stream",
     "text": [
      "defaultdict(<class 'int'>, {'ADJ': 1})\n",
      "Nationale\n"
     ]
    },
    {
     "data": {
      "text/plain": [
       "ADJ    1\n",
       "Name: actual, dtype: int64"
      ]
     },
     "metadata": {},
     "output_type": "display_data"
    },
    {
     "name": "stdout",
     "output_type": "stream",
     "text": [
      "defaultdict(<class 'int'>, {'ADJ': 1})\n",
      "Donderdag\n"
     ]
    },
    {
     "data": {
      "text/plain": [
       "PROPN    1\n",
       "Name: actual, dtype: int64"
      ]
     },
     "metadata": {},
     "output_type": "display_data"
    },
    {
     "name": "stdout",
     "output_type": "stream",
     "text": [
      "defaultdict(<class 'int'>, {'PROPN': 1})\n",
      "roll\n"
     ]
    },
    {
     "data": {
      "text/plain": [
       "X    1\n",
       "Name: actual, dtype: int64"
      ]
     },
     "metadata": {},
     "output_type": "display_data"
    },
    {
     "name": "stdout",
     "output_type": "stream",
     "text": [
      "defaultdict(<class 'int'>, {'X': 1})\n",
      "misverstanden\n"
     ]
    },
    {
     "data": {
      "text/plain": [
       "NOUN    1\n",
       "Name: actual, dtype: int64"
      ]
     },
     "metadata": {},
     "output_type": "display_data"
    },
    {
     "name": "stdout",
     "output_type": "stream",
     "text": [
      "defaultdict(<class 'int'>, {'NOUN': 1})\n",
      "KNZB-voorzitter\n"
     ]
    },
    {
     "data": {
      "text/plain": [
       "NOUN    1\n",
       "Name: actual, dtype: int64"
      ]
     },
     "metadata": {},
     "output_type": "display_data"
    },
    {
     "name": "stdout",
     "output_type": "stream",
     "text": [
      "defaultdict(<class 'int'>, {'NOUN': 1})\n",
      "Stijl\n"
     ]
    },
    {
     "data": {
      "text/plain": [
       "NOUN    1\n",
       "Name: actual, dtype: int64"
      ]
     },
     "metadata": {},
     "output_type": "display_data"
    },
    {
     "name": "stdout",
     "output_type": "stream",
     "text": [
      "defaultdict(<class 'int'>, {'NOUN': 1})\n",
      "Casino\n"
     ]
    },
    {
     "data": {
      "text/plain": [
       "NOUN    1\n",
       "Name: actual, dtype: int64"
      ]
     },
     "metadata": {},
     "output_type": "display_data"
    },
    {
     "name": "stdout",
     "output_type": "stream",
     "text": [
      "defaultdict(<class 'int'>, {'NOUN': 1})\n",
      "ongetwijfeld\n"
     ]
    },
    {
     "data": {
      "text/plain": [
       "ADJ    1\n",
       "Name: actual, dtype: int64"
      ]
     },
     "metadata": {},
     "output_type": "display_data"
    },
    {
     "name": "stdout",
     "output_type": "stream",
     "text": [
      "defaultdict(<class 'int'>, {'ADV': 1, 'ADJ': 1})\n",
      "honklopen\n"
     ]
    },
    {
     "data": {
      "text/plain": [
       "VERB    1\n",
       "Name: actual, dtype: int64"
      ]
     },
     "metadata": {},
     "output_type": "display_data"
    },
    {
     "name": "stdout",
     "output_type": "stream",
     "text": [
      "defaultdict(<class 'int'>, {'VERB': 1})\n",
      "Ondanks\n"
     ]
    },
    {
     "data": {
      "text/plain": [
       "ADP    1\n",
       "Name: actual, dtype: int64"
      ]
     },
     "metadata": {},
     "output_type": "display_data"
    },
    {
     "name": "stdout",
     "output_type": "stream",
     "text": [
      "defaultdict(<class 'int'>, {'ADP': 2})\n",
      "allen\n"
     ]
    },
    {
     "data": {
      "text/plain": [
       "PRON    1\n",
       "Name: actual, dtype: int64"
      ]
     },
     "metadata": {},
     "output_type": "display_data"
    },
    {
     "name": "stdout",
     "output_type": "stream",
     "text": [
      "defaultdict(<class 'int'>, {'PRON': 1})\n",
      "aangeslagen\n"
     ]
    },
    {
     "data": {
      "text/plain": [
       "VERB    1\n",
       "Name: actual, dtype: int64"
      ]
     },
     "metadata": {},
     "output_type": "display_data"
    },
    {
     "name": "stdout",
     "output_type": "stream",
     "text": [
      "defaultdict(<class 'int'>, {'VERB': 1})\n",
      "Nederlandstaligen\n"
     ]
    },
    {
     "data": {
      "text/plain": [
       "ADJ    1\n",
       "Name: actual, dtype: int64"
      ]
     },
     "metadata": {},
     "output_type": "display_data"
    },
    {
     "name": "stdout",
     "output_type": "stream",
     "text": [
      "defaultdict(<class 'int'>, {'ADJ': 1})\n",
      "goedmoedig\n"
     ]
    },
    {
     "data": {
      "text/plain": [
       "ADJ    1\n",
       "Name: actual, dtype: int64"
      ]
     },
     "metadata": {},
     "output_type": "display_data"
    },
    {
     "name": "stdout",
     "output_type": "stream",
     "text": [
      "defaultdict(<class 'int'>, {'ADJ': 1})\n",
      "Koninklijke\n"
     ]
    },
    {
     "data": {
      "text/plain": [
       "ADJ    1\n",
       "Name: actual, dtype: int64"
      ]
     },
     "metadata": {},
     "output_type": "display_data"
    },
    {
     "name": "stdout",
     "output_type": "stream",
     "text": [
      "defaultdict(<class 'int'>, {'ADJ': 1})\n",
      "Behalve\n"
     ]
    },
    {
     "data": {
      "text/plain": [
       "SCONJ    1\n",
       "Name: actual, dtype: int64"
      ]
     },
     "metadata": {},
     "output_type": "display_data"
    },
    {
     "name": "stdout",
     "output_type": "stream",
     "text": [
      "defaultdict(<class 'int'>, {'SCONJ': 1})\n",
      "ingecalculeerde\n"
     ]
    },
    {
     "data": {
      "text/plain": [
       "VERB    1\n",
       "Name: actual, dtype: int64"
      ]
     },
     "metadata": {},
     "output_type": "display_data"
    },
    {
     "name": "stdout",
     "output_type": "stream",
     "text": [
      "defaultdict(<class 'int'>, {'VERB': 1})\n",
      "dieper\n"
     ]
    },
    {
     "data": {
      "text/plain": [
       "ADJ    1\n",
       "Name: actual, dtype: int64"
      ]
     },
     "metadata": {},
     "output_type": "display_data"
    },
    {
     "name": "stdout",
     "output_type": "stream",
     "text": [
      "defaultdict(<class 'int'>, {'ADJ': 1})\n",
      "Rond\n"
     ]
    },
    {
     "data": {
      "text/plain": [
       "ADJ    1\n",
       "Name: actual, dtype: int64"
      ]
     },
     "metadata": {},
     "output_type": "display_data"
    },
    {
     "name": "stdout",
     "output_type": "stream",
     "text": [
      "defaultdict(<class 'int'>, {'ADJ': 1})\n",
      "Almost\n"
     ]
    },
    {
     "data": {
      "text/plain": [
       "X    1\n",
       "Name: actual, dtype: int64"
      ]
     },
     "metadata": {},
     "output_type": "display_data"
    },
    {
     "name": "stdout",
     "output_type": "stream",
     "text": [
      "defaultdict(<class 'int'>, {'X': 1})\n",
      "Rijksluchtvaartdienst\n"
     ]
    },
    {
     "data": {
      "text/plain": [
       "NOUN    1\n",
       "Name: actual, dtype: int64"
      ]
     },
     "metadata": {},
     "output_type": "display_data"
    },
    {
     "name": "stdout",
     "output_type": "stream",
     "text": [
      "defaultdict(<class 'int'>, {'NOUN': 1})\n",
      "weinige\n"
     ]
    },
    {
     "data": {
      "text/plain": [
       "ADV    1\n",
       "Name: actual, dtype: int64"
      ]
     },
     "metadata": {},
     "output_type": "display_data"
    },
    {
     "name": "stdout",
     "output_type": "stream",
     "text": [
      "defaultdict(<class 'int'>, {'ADV': 1})\n",
      "daarop\n"
     ]
    },
    {
     "data": {
      "text/plain": [
       "ADV    1\n",
       "Name: actual, dtype: int64"
      ]
     },
     "metadata": {},
     "output_type": "display_data"
    },
    {
     "name": "stdout",
     "output_type": "stream",
     "text": [
      "defaultdict(<class 'int'>, {'ADV': 4})\n",
      "nauwgezet\n"
     ]
    },
    {
     "data": {
      "text/plain": [
       "ADJ    1\n",
       "Name: actual, dtype: int64"
      ]
     },
     "metadata": {},
     "output_type": "display_data"
    },
    {
     "name": "stdout",
     "output_type": "stream",
     "text": [
      "defaultdict(<class 'int'>, {'ADJ': 1})\n",
      "verbrande\n"
     ]
    },
    {
     "data": {
      "text/plain": [
       "VERB    1\n",
       "Name: actual, dtype: int64"
      ]
     },
     "metadata": {},
     "output_type": "display_data"
    },
    {
     "name": "stdout",
     "output_type": "stream",
     "text": [
      "defaultdict(<class 'int'>, {'VERB': 1})\n",
      "Daarmee\n"
     ]
    },
    {
     "data": {
      "text/plain": [
       "ADV    1\n",
       "Name: actual, dtype: int64"
      ]
     },
     "metadata": {},
     "output_type": "display_data"
    },
    {
     "name": "stdout",
     "output_type": "stream",
     "text": [
      "defaultdict(<class 'int'>, {'ADV': 4})\n",
      "motorfietsen\n"
     ]
    },
    {
     "data": {
      "text/plain": [
       "VERB    1\n",
       "Name: actual, dtype: int64"
      ]
     },
     "metadata": {},
     "output_type": "display_data"
    },
    {
     "name": "stdout",
     "output_type": "stream",
     "text": [
      "defaultdict(<class 'int'>, {'VERB': 1})\n",
      "name\n"
     ]
    },
    {
     "data": {
      "text/plain": [
       "NOUN    1\n",
       "Name: actual, dtype: int64"
      ]
     },
     "metadata": {},
     "output_type": "display_data"
    },
    {
     "name": "stdout",
     "output_type": "stream",
     "text": [
      "defaultdict(<class 'int'>, {'NOUN': 1})\n",
      "1952-1995\n"
     ]
    },
    {
     "data": {
      "text/plain": [
       "SYM    1\n",
       "Name: actual, dtype: int64"
      ]
     },
     "metadata": {},
     "output_type": "display_data"
    },
    {
     "name": "stdout",
     "output_type": "stream",
     "text": [
      "defaultdict(<class 'int'>, {'SYM': 1})\n",
      "Volgende\n"
     ]
    },
    {
     "data": {
      "text/plain": [
       "VERB    1\n",
       "Name: actual, dtype: int64"
      ]
     },
     "metadata": {},
     "output_type": "display_data"
    },
    {
     "name": "stdout",
     "output_type": "stream",
     "text": [
      "defaultdict(<class 'int'>, {'VERB': 1})\n",
      "sloegen\n"
     ]
    },
    {
     "data": {
      "text/plain": [
       "VERB    1\n",
       "Name: actual, dtype: int64"
      ]
     },
     "metadata": {},
     "output_type": "display_data"
    },
    {
     "name": "stdout",
     "output_type": "stream",
     "text": [
      "defaultdict(<class 'int'>, {'VERB': 2})\n",
      "ondervraagde\n"
     ]
    },
    {
     "data": {
      "text/plain": [
       "VERB    1\n",
       "Name: actual, dtype: int64"
      ]
     },
     "metadata": {},
     "output_type": "display_data"
    },
    {
     "name": "stdout",
     "output_type": "stream",
     "text": [
      "defaultdict(<class 'int'>, {'VERB': 1})\n",
      "drieÃ«n\n"
     ]
    },
    {
     "data": {
      "text/plain": [
       "NUM    1\n",
       "Name: actual, dtype: int64"
      ]
     },
     "metadata": {},
     "output_type": "display_data"
    },
    {
     "name": "stdout",
     "output_type": "stream",
     "text": [
      "defaultdict(<class 'int'>, {'NUM': 1})\n",
      "A\n"
     ]
    },
    {
     "data": {
      "text/plain": [
       "X    1\n",
       "Name: actual, dtype: int64"
      ]
     },
     "metadata": {},
     "output_type": "display_data"
    },
    {
     "name": "stdout",
     "output_type": "stream",
     "text": [
      "defaultdict(<class 'int'>, {'X': 1})\n",
      "wekelijks\n"
     ]
    },
    {
     "data": {
      "text/plain": [
       "ADJ    1\n",
       "Name: actual, dtype: int64"
      ]
     },
     "metadata": {},
     "output_type": "display_data"
    },
    {
     "name": "stdout",
     "output_type": "stream",
     "text": [
      "defaultdict(<class 'int'>, {'ADJ': 1})\n",
      "Troef\n"
     ]
    },
    {
     "data": {
      "text/plain": [
       "NOUN    1\n",
       "Name: actual, dtype: int64"
      ]
     },
     "metadata": {},
     "output_type": "display_data"
    },
    {
     "name": "stdout",
     "output_type": "stream",
     "text": [
      "defaultdict(<class 'int'>, {'NOUN': 1})\n",
      "Susie\n"
     ]
    },
    {
     "data": {
      "text/plain": [
       "X    1\n",
       "Name: actual, dtype: int64"
      ]
     },
     "metadata": {},
     "output_type": "display_data"
    },
    {
     "name": "stdout",
     "output_type": "stream",
     "text": [
      "defaultdict(<class 'int'>, {'X': 1})\n",
      "Fanfares\n"
     ]
    },
    {
     "data": {
      "text/plain": [
       "PROPN    1\n",
       "Name: actual, dtype: int64"
      ]
     },
     "metadata": {},
     "output_type": "display_data"
    },
    {
     "name": "stdout",
     "output_type": "stream",
     "text": [
      "defaultdict(<class 'int'>, {'PROPN': 1})\n",
      "uiterst\n"
     ]
    },
    {
     "data": {
      "text/plain": [
       "ADJ    1\n",
       "Name: actual, dtype: int64"
      ]
     },
     "metadata": {},
     "output_type": "display_data"
    },
    {
     "name": "stdout",
     "output_type": "stream",
     "text": [
      "defaultdict(<class 'int'>, {'ADJ': 1})\n",
      "plots\n"
     ]
    },
    {
     "data": {
      "text/plain": [
       "ADJ    1\n",
       "Name: actual, dtype: int64"
      ]
     },
     "metadata": {},
     "output_type": "display_data"
    },
    {
     "name": "stdout",
     "output_type": "stream",
     "text": [
      "defaultdict(<class 'int'>, {'ADJ': 1})\n",
      "volgt\n"
     ]
    },
    {
     "data": {
      "text/plain": [
       "VERB    1\n",
       "Name: actual, dtype: int64"
      ]
     },
     "metadata": {},
     "output_type": "display_data"
    },
    {
     "name": "stdout",
     "output_type": "stream",
     "text": [
      "defaultdict(<class 'int'>, {'VERB': 3})\n",
      "begenadigd\n"
     ]
    },
    {
     "data": {
      "text/plain": [
       "VERB    1\n",
       "Name: actual, dtype: int64"
      ]
     },
     "metadata": {},
     "output_type": "display_data"
    },
    {
     "name": "stdout",
     "output_type": "stream",
     "text": [
      "defaultdict(<class 'int'>, {'VERB': 1})\n",
      "RG\n"
     ]
    },
    {
     "data": {
      "text/plain": [
       "PROPN    1\n",
       "Name: actual, dtype: int64"
      ]
     },
     "metadata": {},
     "output_type": "display_data"
    },
    {
     "name": "stdout",
     "output_type": "stream",
     "text": [
      "defaultdict(<class 'int'>, {'PROPN': 1})\n",
      "Hardnekkig\n"
     ]
    },
    {
     "data": {
      "text/plain": [
       "ADJ    1\n",
       "Name: actual, dtype: int64"
      ]
     },
     "metadata": {},
     "output_type": "display_data"
    },
    {
     "name": "stdout",
     "output_type": "stream",
     "text": [
      "defaultdict(<class 'int'>, {'ADJ': 1})\n",
      "Ensoriana\n"
     ]
    },
    {
     "data": {
      "text/plain": [
       "PROPN    1\n",
       "Name: actual, dtype: int64"
      ]
     },
     "metadata": {},
     "output_type": "display_data"
    },
    {
     "name": "stdout",
     "output_type": "stream",
     "text": [
      "defaultdict(<class 'int'>, {'PROPN': 1})\n",
      "krijgen\n"
     ]
    },
    {
     "data": {
      "text/plain": [
       "AUX    1\n",
       "Name: actual, dtype: int64"
      ]
     },
     "metadata": {},
     "output_type": "display_data"
    },
    {
     "name": "stdout",
     "output_type": "stream",
     "text": [
      "defaultdict(<class 'int'>, {'VERB': 4, 'AUX': 1})\n",
      "CSF-voorzitter\n"
     ]
    },
    {
     "data": {
      "text/plain": [
       "NOUN    1\n",
       "Name: actual, dtype: int64"
      ]
     },
     "metadata": {},
     "output_type": "display_data"
    },
    {
     "name": "stdout",
     "output_type": "stream",
     "text": [
      "defaultdict(<class 'int'>, {'NOUN': 1})\n",
      "EuroparlementariÃ«r\n"
     ]
    },
    {
     "data": {
      "text/plain": [
       "NOUN    1\n",
       "Name: actual, dtype: int64"
      ]
     },
     "metadata": {},
     "output_type": "display_data"
    },
    {
     "name": "stdout",
     "output_type": "stream",
     "text": [
      "defaultdict(<class 'int'>, {'NOUN': 1})\n",
      "doorlopend\n"
     ]
    },
    {
     "data": {
      "text/plain": [
       "VERB    1\n",
       "Name: actual, dtype: int64"
      ]
     },
     "metadata": {},
     "output_type": "display_data"
    },
    {
     "name": "stdout",
     "output_type": "stream",
     "text": [
      "defaultdict(<class 'int'>, {'VERB': 1})\n",
      "eenvoudig\n"
     ]
    },
    {
     "data": {
      "text/plain": [
       "ADJ    1\n",
       "Name: actual, dtype: int64"
      ]
     },
     "metadata": {},
     "output_type": "display_data"
    },
    {
     "name": "stdout",
     "output_type": "stream",
     "text": [
      "defaultdict(<class 'int'>, {'ADJ': 1})\n",
      "degelijk\n"
     ]
    },
    {
     "data": {
      "text/plain": [
       "ADJ    1\n",
       "Name: actual, dtype: int64"
      ]
     },
     "metadata": {},
     "output_type": "display_data"
    },
    {
     "name": "stdout",
     "output_type": "stream",
     "text": [
      "defaultdict(<class 'int'>, {'ADJ': 1})\n",
      "lonkend\n"
     ]
    },
    {
     "data": {
      "text/plain": [
       "VERB    1\n",
       "Name: actual, dtype: int64"
      ]
     },
     "metadata": {},
     "output_type": "display_data"
    },
    {
     "name": "stdout",
     "output_type": "stream",
     "text": [
      "defaultdict(<class 'int'>, {'VERB': 1})\n",
      "Vervoermaatschappij\n"
     ]
    },
    {
     "data": {
      "text/plain": [
       "NOUN    1\n",
       "Name: actual, dtype: int64"
      ]
     },
     "metadata": {},
     "output_type": "display_data"
    },
    {
     "name": "stdout",
     "output_type": "stream",
     "text": [
      "defaultdict(<class 'int'>, {'NOUN': 1})\n",
      "http://www.sint-katelijne-waver.be\n"
     ]
    },
    {
     "data": {
      "text/plain": [
       "SYM    1\n",
       "Name: actual, dtype: int64"
      ]
     },
     "metadata": {},
     "output_type": "display_data"
    },
    {
     "name": "stdout",
     "output_type": "stream",
     "text": [
      "defaultdict(<class 'int'>, {'SYM': 1})\n",
      "streven\n"
     ]
    },
    {
     "data": {
      "text/plain": [
       "VERB    1\n",
       "Name: actual, dtype: int64"
      ]
     },
     "metadata": {},
     "output_type": "display_data"
    },
    {
     "name": "stdout",
     "output_type": "stream",
     "text": [
      "defaultdict(<class 'int'>, {'VERB': 1})\n",
      "Goorbergh-tribune\n"
     ]
    },
    {
     "data": {
      "text/plain": [
       "NOUN    1\n",
       "Name: actual, dtype: int64"
      ]
     },
     "metadata": {},
     "output_type": "display_data"
    },
    {
     "name": "stdout",
     "output_type": "stream",
     "text": [
      "defaultdict(<class 'int'>, {'NOUN': 1})\n",
      "GE-baas\n"
     ]
    },
    {
     "data": {
      "text/plain": [
       "NOUN    1\n",
       "Name: actual, dtype: int64"
      ]
     },
     "metadata": {},
     "output_type": "display_data"
    },
    {
     "name": "stdout",
     "output_type": "stream",
     "text": [
      "defaultdict(<class 'int'>, {'NOUN': 1})\n",
      "ja\n"
     ]
    },
    {
     "data": {
      "text/plain": [
       "INTJ    1\n",
       "Name: actual, dtype: int64"
      ]
     },
     "metadata": {},
     "output_type": "display_data"
    },
    {
     "name": "stdout",
     "output_type": "stream",
     "text": [
      "defaultdict(<class 'int'>, {'INTJ': 6})\n",
      "50%\n"
     ]
    },
    {
     "data": {
      "text/plain": [
       "SYM    1\n",
       "Name: actual, dtype: int64"
      ]
     },
     "metadata": {},
     "output_type": "display_data"
    },
    {
     "name": "stdout",
     "output_type": "stream",
     "text": [
      "defaultdict(<class 'int'>, {'SYM': 1})\n",
      "o.m.\n"
     ]
    },
    {
     "data": {
      "text/plain": [
       "X    1\n",
       "Name: actual, dtype: int64"
      ]
     },
     "metadata": {},
     "output_type": "display_data"
    },
    {
     "name": "stdout",
     "output_type": "stream",
     "text": [
      "defaultdict(<class 'int'>, {'X': 1})\n",
      "storm\n"
     ]
    },
    {
     "data": {
      "text/plain": [
       "NOUN    1\n",
       "Name: actual, dtype: int64"
      ]
     },
     "metadata": {},
     "output_type": "display_data"
    },
    {
     "name": "stdout",
     "output_type": "stream",
     "text": [
      "defaultdict(<class 'int'>, {'NOUN': 2})\n",
      "over\n"
     ]
    },
    {
     "data": {
      "text/plain": [
       "ADP    1\n",
       "Name: actual, dtype: int64"
      ]
     },
     "metadata": {},
     "output_type": "display_data"
    },
    {
     "name": "stdout",
     "output_type": "stream",
     "text": [
      "defaultdict(<class 'int'>, {'ADP': 48})\n",
      "maandenlang\n"
     ]
    },
    {
     "data": {
      "text/plain": [
       "ADJ    1\n",
       "Name: actual, dtype: int64"
      ]
     },
     "metadata": {},
     "output_type": "display_data"
    },
    {
     "name": "stdout",
     "output_type": "stream",
     "text": [
      "defaultdict(<class 'int'>, {'ADJ': 1})\n",
      "winnend\n"
     ]
    },
    {
     "data": {
      "text/plain": [
       "VERB    1\n",
       "Name: actual, dtype: int64"
      ]
     },
     "metadata": {},
     "output_type": "display_data"
    },
    {
     "name": "stdout",
     "output_type": "stream",
     "text": [
      "defaultdict(<class 'int'>, {'VERB': 1})\n",
      "zij\n"
     ]
    },
    {
     "data": {
      "text/plain": [
       "VERB    1\n",
       "Name: actual, dtype: int64"
      ]
     },
     "metadata": {},
     "output_type": "display_data"
    },
    {
     "name": "stdout",
     "output_type": "stream",
     "text": [
      "defaultdict(<class 'int'>, {'PRON': 8, 'VERB': 1})\n",
      "verdedigend\n"
     ]
    },
    {
     "data": {
      "text/plain": [
       "VERB    1\n",
       "Name: actual, dtype: int64"
      ]
     },
     "metadata": {},
     "output_type": "display_data"
    },
    {
     "name": "stdout",
     "output_type": "stream",
     "text": [
      "defaultdict(<class 'int'>, {'VERB': 1})\n",
      "nÃ­Ã©t\n"
     ]
    },
    {
     "data": {
      "text/plain": [
       "ADV    1\n",
       "Name: actual, dtype: int64"
      ]
     },
     "metadata": {},
     "output_type": "display_data"
    },
    {
     "name": "stdout",
     "output_type": "stream",
     "text": [
      "defaultdict(<class 'int'>, {'ADV': 1})\n",
      "tuf-tuf-club\n"
     ]
    },
    {
     "data": {
      "text/plain": [
       "PROPN    1\n",
       "Name: actual, dtype: int64"
      ]
     },
     "metadata": {},
     "output_type": "display_data"
    },
    {
     "name": "stdout",
     "output_type": "stream",
     "text": [
      "defaultdict(<class 'int'>, {'PROPN': 1})\n",
      "ets\n"
     ]
    },
    {
     "data": {
      "text/plain": [
       "NOUN    1\n",
       "Name: actual, dtype: int64"
      ]
     },
     "metadata": {},
     "output_type": "display_data"
    },
    {
     "name": "stdout",
     "output_type": "stream",
     "text": [
      "defaultdict(<class 'int'>, {'NOUN': 2})\n",
      "hekelen\n"
     ]
    },
    {
     "data": {
      "text/plain": [
       "VERB    1\n",
       "Name: actual, dtype: int64"
      ]
     },
     "metadata": {},
     "output_type": "display_data"
    },
    {
     "name": "stdout",
     "output_type": "stream",
     "text": [
      "defaultdict(<class 'int'>, {'VERB': 1})\n",
      "Vrij\n"
     ]
    },
    {
     "data": {
      "text/plain": [
       "ADV    1\n",
       "Name: actual, dtype: int64"
      ]
     },
     "metadata": {},
     "output_type": "display_data"
    },
    {
     "name": "stdout",
     "output_type": "stream",
     "text": [
      "defaultdict(<class 'int'>, {'ADV': 1})\n",
      "allitererende\n"
     ]
    },
    {
     "data": {
      "text/plain": [
       "VERB    1\n",
       "Name: actual, dtype: int64"
      ]
     },
     "metadata": {},
     "output_type": "display_data"
    },
    {
     "name": "stdout",
     "output_type": "stream",
     "text": [
      "defaultdict(<class 'int'>, {'VERB': 1})\n",
      "Zichtbaar\n"
     ]
    },
    {
     "data": {
      "text/plain": [
       "ADJ    1\n",
       "Name: actual, dtype: int64"
      ]
     },
     "metadata": {},
     "output_type": "display_data"
    },
    {
     "name": "stdout",
     "output_type": "stream",
     "text": [
      "defaultdict(<class 'int'>, {'ADJ': 1})\n",
      "BE-VLG\n"
     ]
    },
    {
     "data": {
      "text/plain": [
       "SYM    1\n",
       "Name: actual, dtype: int64"
      ]
     },
     "metadata": {},
     "output_type": "display_data"
    },
    {
     "name": "stdout",
     "output_type": "stream",
     "text": [
      "defaultdict(<class 'int'>, {'SYM': 1})\n",
      "Tour\n"
     ]
    },
    {
     "data": {
      "text/plain": [
       "PROPN    1\n",
       "Name: actual, dtype: int64"
      ]
     },
     "metadata": {},
     "output_type": "display_data"
    },
    {
     "name": "stdout",
     "output_type": "stream",
     "text": [
      "defaultdict(<class 'int'>, {'PROPN': 1})\n",
      "little\n"
     ]
    },
    {
     "data": {
      "text/plain": [
       "X    1\n",
       "Name: actual, dtype: int64"
      ]
     },
     "metadata": {},
     "output_type": "display_data"
    },
    {
     "name": "stdout",
     "output_type": "stream",
     "text": [
      "defaultdict(<class 'int'>, {'X': 1})\n",
      "rock\n"
     ]
    },
    {
     "data": {
      "text/plain": [
       "X    1\n",
       "Name: actual, dtype: int64"
      ]
     },
     "metadata": {},
     "output_type": "display_data"
    },
    {
     "name": "stdout",
     "output_type": "stream",
     "text": [
      "defaultdict(<class 'int'>, {'X': 1})\n",
      "gefrustreerd\n"
     ]
    },
    {
     "data": {
      "text/plain": [
       "VERB    1\n",
       "Name: actual, dtype: int64"
      ]
     },
     "metadata": {},
     "output_type": "display_data"
    },
    {
     "name": "stdout",
     "output_type": "stream",
     "text": [
      "defaultdict(<class 'int'>, {'VERB': 1})\n",
      ".\n"
     ]
    },
    {
     "data": {
      "text/plain": [
       "SYM    1\n",
       "Name: actual, dtype: int64"
      ]
     },
     "metadata": {},
     "output_type": "display_data"
    },
    {
     "name": "stdout",
     "output_type": "stream",
     "text": [
      "defaultdict(<class 'int'>, {'PUNCT': 1177, 'SYM': 1})\n",
      "Jarenlang\n"
     ]
    },
    {
     "data": {
      "text/plain": [
       "ADJ    1\n",
       "Name: actual, dtype: int64"
      ]
     },
     "metadata": {},
     "output_type": "display_data"
    },
    {
     "name": "stdout",
     "output_type": "stream",
     "text": [
      "defaultdict(<class 'int'>, {'ADJ': 1})\n",
      "26%\n"
     ]
    },
    {
     "data": {
      "text/plain": [
       "DET    1\n",
       "Name: actual, dtype: int64"
      ]
     },
     "metadata": {},
     "output_type": "display_data"
    },
    {
     "name": "stdout",
     "output_type": "stream",
     "text": [
      "defaultdict(<class 'int'>, {'DET': 1})\n",
      "Communistische\n"
     ]
    },
    {
     "data": {
      "text/plain": [
       "ADJ    1\n",
       "Name: actual, dtype: int64"
      ]
     },
     "metadata": {},
     "output_type": "display_data"
    },
    {
     "name": "stdout",
     "output_type": "stream",
     "text": [
      "defaultdict(<class 'int'>, {'ADJ': 1})\n",
      "Worldwide\n"
     ]
    },
    {
     "data": {
      "text/plain": [
       "X    1\n",
       "Name: actual, dtype: int64"
      ]
     },
     "metadata": {},
     "output_type": "display_data"
    },
    {
     "name": "stdout",
     "output_type": "stream",
     "text": [
      "defaultdict(<class 'int'>, {'X': 1})\n",
      "leidende\n"
     ]
    },
    {
     "data": {
      "text/plain": [
       "VERB    1\n",
       "Name: actual, dtype: int64"
      ]
     },
     "metadata": {},
     "output_type": "display_data"
    },
    {
     "name": "stdout",
     "output_type": "stream",
     "text": [
      "defaultdict(<class 'int'>, {'VERB': 1})\n",
      "Vlaams-Brabants\n"
     ]
    },
    {
     "data": {
      "text/plain": [
       "ADJ    1\n",
       "Name: actual, dtype: int64"
      ]
     },
     "metadata": {},
     "output_type": "display_data"
    },
    {
     "name": "stdout",
     "output_type": "stream",
     "text": [
      "defaultdict(<class 'int'>, {'ADJ': 1})\n",
      "Bestuursdienst\n"
     ]
    },
    {
     "data": {
      "text/plain": [
       "NOUN    1\n",
       "Name: actual, dtype: int64"
      ]
     },
     "metadata": {},
     "output_type": "display_data"
    },
    {
     "name": "stdout",
     "output_type": "stream",
     "text": [
      "defaultdict(<class 'int'>, {'NOUN': 1})\n",
      "Alone\n"
     ]
    },
    {
     "data": {
      "text/plain": [
       "X    1\n",
       "Name: actual, dtype: int64"
      ]
     },
     "metadata": {},
     "output_type": "display_data"
    },
    {
     "name": "stdout",
     "output_type": "stream",
     "text": [
      "defaultdict(<class 'int'>, {'X': 1})\n",
      "gevestigde\n"
     ]
    },
    {
     "data": {
      "text/plain": [
       "VERB    1\n",
       "Name: actual, dtype: int64"
      ]
     },
     "metadata": {},
     "output_type": "display_data"
    },
    {
     "name": "stdout",
     "output_type": "stream",
     "text": [
      "defaultdict(<class 'int'>, {'VERB': 1})\n",
      "Hezbollah-leider\n"
     ]
    },
    {
     "data": {
      "text/plain": [
       "NOUN    1\n",
       "Name: actual, dtype: int64"
      ]
     },
     "metadata": {},
     "output_type": "display_data"
    },
    {
     "name": "stdout",
     "output_type": "stream",
     "text": [
      "defaultdict(<class 'int'>, {'NOUN': 1})\n",
      "zwemmen\n"
     ]
    },
    {
     "data": {
      "text/plain": [
       "VERB    1\n",
       "Name: actual, dtype: int64"
      ]
     },
     "metadata": {},
     "output_type": "display_data"
    },
    {
     "name": "stdout",
     "output_type": "stream",
     "text": [
      "defaultdict(<class 'int'>, {'VERB': 1})\n",
      "Doop\n"
     ]
    },
    {
     "data": {
      "text/plain": [
       "NOUN    1\n",
       "Name: actual, dtype: int64"
      ]
     },
     "metadata": {},
     "output_type": "display_data"
    },
    {
     "name": "stdout",
     "output_type": "stream",
     "text": [
      "defaultdict(<class 'int'>, {'NOUN': 1})\n",
      "Indiase\n"
     ]
    },
    {
     "data": {
      "text/plain": [
       "ADJ    1\n",
       "Name: actual, dtype: int64"
      ]
     },
     "metadata": {},
     "output_type": "display_data"
    },
    {
     "name": "stdout",
     "output_type": "stream",
     "text": [
      "defaultdict(<class 'int'>, {'ADJ': 1})\n",
      "temidden\n"
     ]
    },
    {
     "data": {
      "text/plain": [
       "ADV    1\n",
       "Name: actual, dtype: int64"
      ]
     },
     "metadata": {},
     "output_type": "display_data"
    },
    {
     "name": "stdout",
     "output_type": "stream",
     "text": [
      "defaultdict(<class 'int'>, {'ADV': 1})\n",
      "symbolisch\n"
     ]
    },
    {
     "data": {
      "text/plain": [
       "ADJ    1\n",
       "Name: actual, dtype: int64"
      ]
     },
     "metadata": {},
     "output_type": "display_data"
    },
    {
     "name": "stdout",
     "output_type": "stream",
     "text": [
      "defaultdict(<class 'int'>, {'ADJ': 1})\n",
      "fysiek\n"
     ]
    },
    {
     "data": {
      "text/plain": [
       "ADJ    1\n",
       "Name: actual, dtype: int64"
      ]
     },
     "metadata": {},
     "output_type": "display_data"
    },
    {
     "name": "stdout",
     "output_type": "stream",
     "text": [
      "defaultdict(<class 'int'>, {'ADJ': 2})\n",
      "Gekruisigde\n"
     ]
    },
    {
     "data": {
      "text/plain": [
       "VERB    1\n",
       "Name: actual, dtype: int64"
      ]
     },
     "metadata": {},
     "output_type": "display_data"
    },
    {
     "name": "stdout",
     "output_type": "stream",
     "text": [
      "defaultdict(<class 'int'>, {'VERB': 1})\n",
      "Volkske\n"
     ]
    },
    {
     "data": {
      "text/plain": [
       "NOUN    1\n",
       "Name: actual, dtype: int64"
      ]
     },
     "metadata": {},
     "output_type": "display_data"
    },
    {
     "name": "stdout",
     "output_type": "stream",
     "text": [
      "defaultdict(<class 'int'>, {'NOUN': 1})\n",
      "heftig\n"
     ]
    },
    {
     "data": {
      "text/plain": [
       "ADJ    1\n",
       "Name: actual, dtype: int64"
      ]
     },
     "metadata": {},
     "output_type": "display_data"
    },
    {
     "name": "stdout",
     "output_type": "stream",
     "text": [
      "defaultdict(<class 'int'>, {'ADJ': 1})\n",
      "verhoudingsgewijs\n"
     ]
    },
    {
     "data": {
      "text/plain": [
       "ADJ    1\n",
       "Name: actual, dtype: int64"
      ]
     },
     "metadata": {},
     "output_type": "display_data"
    },
    {
     "name": "stdout",
     "output_type": "stream",
     "text": [
      "defaultdict(<class 'int'>, {'ADJ': 1})\n",
      "verwrongen\n"
     ]
    },
    {
     "data": {
      "text/plain": [
       "VERB    1\n",
       "Name: actual, dtype: int64"
      ]
     },
     "metadata": {},
     "output_type": "display_data"
    },
    {
     "name": "stdout",
     "output_type": "stream",
     "text": [
      "defaultdict(<class 'int'>, {'VERB': 1})\n",
      "1-1-2006\n"
     ]
    },
    {
     "data": {
      "text/plain": [
       "SYM    1\n",
       "Name: actual, dtype: int64"
      ]
     },
     "metadata": {},
     "output_type": "display_data"
    },
    {
     "name": "stdout",
     "output_type": "stream",
     "text": [
      "defaultdict(<class 'int'>, {'SYM': 1})\n",
      "Sirene\n"
     ]
    },
    {
     "data": {
      "text/plain": [
       "NOUN    1\n",
       "Name: actual, dtype: int64"
      ]
     },
     "metadata": {},
     "output_type": "display_data"
    },
    {
     "name": "stdout",
     "output_type": "stream",
     "text": [
      "defaultdict(<class 'int'>, {'NOUN': 1})\n",
      "1986-2001\n"
     ]
    },
    {
     "data": {
      "text/plain": [
       "SYM    1\n",
       "Name: actual, dtype: int64"
      ]
     },
     "metadata": {},
     "output_type": "display_data"
    },
    {
     "name": "stdout",
     "output_type": "stream",
     "text": [
      "defaultdict(<class 'int'>, {'SYM': 1})\n",
      "It's\n"
     ]
    },
    {
     "data": {
      "text/plain": [
       "X    1\n",
       "Name: actual, dtype: int64"
      ]
     },
     "metadata": {},
     "output_type": "display_data"
    },
    {
     "name": "stdout",
     "output_type": "stream",
     "text": [
      "defaultdict(<class 'int'>, {'X': 1})\n",
      "1951-1955\n"
     ]
    },
    {
     "data": {
      "text/plain": [
       "SYM    1\n",
       "Name: actual, dtype: int64"
      ]
     },
     "metadata": {},
     "output_type": "display_data"
    },
    {
     "name": "stdout",
     "output_type": "stream",
     "text": [
      "defaultdict(<class 'int'>, {'SYM': 1})\n",
      "1954-1963\n"
     ]
    },
    {
     "data": {
      "text/plain": [
       "SYM    1\n",
       "Name: actual, dtype: int64"
      ]
     },
     "metadata": {},
     "output_type": "display_data"
    },
    {
     "name": "stdout",
     "output_type": "stream",
     "text": [
      "defaultdict(<class 'int'>, {'SYM': 1})\n",
      "kilometerslang\n"
     ]
    },
    {
     "data": {
      "text/plain": [
       "ADJ    1\n",
       "Name: actual, dtype: int64"
      ]
     },
     "metadata": {},
     "output_type": "display_data"
    },
    {
     "name": "stdout",
     "output_type": "stream",
     "text": [
      "defaultdict(<class 'int'>, {'ADJ': 1})\n",
      "koloriste\n"
     ]
    },
    {
     "data": {
      "text/plain": [
       "NOUN    1\n",
       "Name: actual, dtype: int64"
      ]
     },
     "metadata": {},
     "output_type": "display_data"
    },
    {
     "name": "stdout",
     "output_type": "stream",
     "text": [
      "defaultdict(<class 'int'>, {'NOUN': 1})\n",
      "slotte\n"
     ]
    },
    {
     "data": {
      "text/plain": [
       "NOUN    1\n",
       "Name: actual, dtype: int64"
      ]
     },
     "metadata": {},
     "output_type": "display_data"
    },
    {
     "name": "stdout",
     "output_type": "stream",
     "text": [
      "defaultdict(<class 'int'>, {'NOUN': 1})\n",
      "sloeg\n"
     ]
    },
    {
     "data": {
      "text/plain": [
       "VERB    1\n",
       "Name: actual, dtype: int64"
      ]
     },
     "metadata": {},
     "output_type": "display_data"
    },
    {
     "name": "stdout",
     "output_type": "stream",
     "text": [
      "defaultdict(<class 'int'>, {'VERB': 4})\n"
     ]
    }
   ],
   "source": [
    "from collections import defaultdict\n",
    "top10_confused_tokens = mistakes_df.token.value_counts().index\n",
    "for token in top10_confused_tokens:\n",
    "    print(token)\n",
    "    token_tags = defaultdict(int)\n",
    "    display(mistakes_df[mistakes_df.token==token].actual.value_counts())\n",
    "    for i,sentence in enumerate(all_sentences):\n",
    "        words = sentence.split()\n",
    "        for j,word in enumerate(words):\n",
    "            if word==token:\n",
    "                tag = all_tags[i].split()[j]\n",
    "                token_tags[tag] += 1\n",
    "    print(token_tags)"
   ]
  },
  {
   "cell_type": "code",
   "execution_count": 13,
   "metadata": {
    "ExecuteTime": {
     "end_time": "2020-05-14T12:51:05.495491Z",
     "start_time": "2020-05-14T12:51:05.476506Z"
    }
   },
   "outputs": [
    {
     "data": {
      "text/plain": [
       "te                                    143\n",
       "niet                                  79 \n",
       "er                                    51 \n",
       "om                                    43 \n",
       "zijn                                  32 \n",
       "en                                    26 \n",
       "meer                                  25 \n",
       "werd                                  24 \n",
       "dan                                   24 \n",
       "later                                 21 \n",
       "-                                     20 \n",
       "als                                   19 \n",
       "de                                    18 \n",
       "De                                    17 \n",
       "was                                   14 \n",
       "enkele                                13 \n",
       "voor                                  12 \n",
       "heel                                  12 \n",
       "veel                                  11 \n",
       "zoals                                 11 \n",
       "vaak                                  11 \n",
       "is                                    10 \n",
       "uit                                   9  \n",
       "door                                  9  \n",
       "een                                   9  \n",
       "gisteren                              9  \n",
       "waar                                  8  \n",
       "miljoen                               8  \n",
       "af                                    8  \n",
       "waarmee                               8  \n",
       "wat                                   8  \n",
       "Vlaams                                8  \n",
       "in                                    7  \n",
       "al                                    7  \n",
       "Er                                    7  \n",
       "rk                                    7  \n",
       "toe                                   7  \n",
       "waarin                                7  \n",
       "km                                    6  \n",
       "gistermiddag                          6  \n",
       "mee                                   6  \n",
       "lang                                  6  \n",
       "van                                   6  \n",
       "Uitgeverij                            6  \n",
       "afgelopen                             6  \n",
       "eerder                                6  \n",
       "zelf                                  6  \n",
       "Vlaamse                               6  \n",
       "verder                                6  \n",
       "enige                                 6  \n",
       "onder                                 6  \n",
       "F1                                    5  \n",
       "uiteindelijk                          5  \n",
       "Schone                                5  \n",
       "Zoo                                   5  \n",
       "Antwerpse                             5  \n",
       "beter                                 5  \n",
       "of                                    5  \n",
       "waarvan                               5  \n",
       "eerst                                 5  \n",
       "erg                                   5  \n",
       "Kunsten                               5  \n",
       ",                                     5  \n",
       "wordt                                 5  \n",
       "geweest                               5  \n",
       "vandaag                               5  \n",
       "Veel                                  5  \n",
       "daar                                  5  \n",
       "totaal                                4  \n",
       "meerdere                              4  \n",
       "waarbij                               4  \n",
       ")                                     4  \n",
       "La                                    4  \n",
       "Suske                                 4  \n",
       "hetzelfde                             4  \n",
       "gewoon                                4  \n",
       "Ridder                                4  \n",
       "wilde                                 4  \n",
       "samen                                 4  \n",
       "het                                   4  \n",
       "waarna                                4  \n",
       "mogelijk                              4  \n",
       "op                                    4  \n",
       "Tweede                                4  \n",
       "halverwege                            4  \n",
       "paar                                  4  \n",
       "anderen                               4  \n",
       "o.a.                                  4  \n",
       "(                                     4  \n",
       "juist                                 4  \n",
       "werden                                4  \n",
       "Rode                                  4  \n",
       "regelmatig                            4  \n",
       "betrokken                             3  \n",
       "sterk                                 3  \n",
       "Zeker                                 3  \n",
       "komende                               3  \n",
       "aan                                   3  \n",
       "dat                                   3  \n",
       "neer                                  3  \n",
       "na                                    3  \n",
       "aldus                                 3  \n",
       "echt                                  3  \n",
       "ruim                                  3  \n",
       "wil                                   3  \n",
       "met                                   3  \n",
       "tekenen                               3  \n",
       "volledig                              3  \n",
       "meeste                                3  \n",
       "hoe                                   3  \n",
       "vermoedelijk                          3  \n",
       "Oostendse                             3  \n",
       "iets                                  3  \n",
       "kmÂ²                                  3  \n",
       "jaarlijks                             3  \n",
       "nazi's                                3  \n",
       "goed                                  3  \n",
       "gans                                  3  \n",
       "duidelijk                             3  \n",
       "allemaal                              3  \n",
       "worden                                3  \n",
       "Italianen                             3  \n",
       "vele                                  3  \n",
       "Intrede                               3  \n",
       "Grote                                 3  \n",
       "Tante                                 3  \n",
       "zoveel                                3  \n",
       "Prijs                                 3  \n",
       "president                             3  \n",
       "waarvoor                              3  \n",
       "danig                                 2  \n",
       "katholieken                           2  \n",
       "Geuzen                                2  \n",
       "Staat                                 2  \n",
       "Man                                   2  \n",
       "Europese                              2  \n",
       "Aureolen                              2  \n",
       "religieuzen                           2  \n",
       "Museum                                2  \n",
       "Koninklijk                            2  \n",
       "Weg                                   2  \n",
       "internationaal                        2  \n",
       "net                                   2  \n",
       "the                                   2  \n",
       "waarop                                2  \n",
       "laag                                  2  \n",
       "Blok                                  2  \n",
       "kan                                   2  \n",
       "overtuigend                           2  \n",
       "'                                     2  \n",
       "&                                     2  \n",
       "Kaproen                               2  \n",
       "uitsluitend                           2  \n",
       "enorm                                 2  \n",
       "Libre                                 2  \n",
       "Vlaams-Nationaal                      2  \n",
       "Licht                                 2  \n",
       "Salon                                 2  \n",
       ":                                     2  \n",
       "persoonlijk                           2  \n",
       "Universitaire                         2  \n",
       "waren                                 2  \n",
       "gewest                                2  \n",
       "tegen                                 2  \n",
       "haar                                  2  \n",
       "1985-1990                             2  \n",
       "zich                                  2  \n",
       "heen                                  2  \n",
       "prima                                 2  \n",
       "wou                                   2  \n",
       "Honderden                             2  \n",
       "momenteel                             2  \n",
       "Topzwemmen                            2  \n",
       "snel                                  2  \n",
       "Stichting                             2  \n",
       "EsthÃ©tique                           2  \n",
       "ver                                   2  \n",
       "willen                                2  \n",
       "zeker                                 2  \n",
       "wilden                                2  \n",
       "andere                                2  \n",
       "gisteravond                           2  \n",
       "die                                   2  \n",
       "honderden                             2  \n",
       "FARC-rebellen                         2  \n",
       "!                                     2  \n",
       "kort                                  2  \n",
       "genoeg                                2  \n",
       "N-VA-programma                        2  \n",
       "kon                                   2  \n",
       "Ons                                   2  \n",
       "geen                                  2  \n",
       "genoemde                              2  \n",
       "geslaagd                              2  \n",
       "Verdedigend                           2  \n",
       "behoorlijk                            2  \n",
       "5%                                    2  \n",
       "Aswoensdag                            2  \n",
       "Nieuw-Vlaamse                         2  \n",
       "diens                                 2  \n",
       "vol                                   2  \n",
       "velen                                 2  \n",
       "Commissie                             2  \n",
       "Juist                                 2  \n",
       "ten                                   2  \n",
       "voorbij                               2  \n",
       "bepaalde                              2  \n",
       "XX                                    2  \n",
       "hebben                                2  \n",
       "Academie                              2  \n",
       "and                                   2  \n",
       "gaat                                  2  \n",
       "Aidsfonds                             2  \n",
       "Om                                    2  \n",
       "dichtbij                              2  \n",
       "Dag                                   2  \n",
       "Carnaval                              2  \n",
       "donderdag                             2  \n",
       "Volk                                  2  \n",
       "Bruegel                               2  \n",
       "aanvallend                            2  \n",
       "zo'n                                  2  \n",
       "Prinske                               2  \n",
       "Kort                                  2  \n",
       "Amersfoortse                          2  \n",
       "waardoor                              2  \n",
       "Wiske                                 2  \n",
       "minder                                2  \n",
       "half                                  2  \n",
       "waaronder                             2  \n",
       "directeur-generaal                    2  \n",
       "tot                                   2  \n",
       "bepaald                               2  \n",
       "tentoon                               1  \n",
       "achttienjarige                        1  \n",
       "Officieel                             1  \n",
       "zestienjarige                         1  \n",
       "hoger                                 1  \n",
       "Raad                                  1  \n",
       "verdedigende                          1  \n",
       "onmiddellijk                          1  \n",
       "Zicht                                 1  \n",
       "geÃ«motioneerd                        1  \n",
       "onvoldoende                           1  \n",
       "algemeen                              1  \n",
       "Post                                  1  \n",
       "ouder                                 1  \n",
       "heden                                 1  \n",
       "F1-baas                               1  \n",
       "Mezen                                 1  \n",
       "sprinten                              1  \n",
       "Atkins                                1  \n",
       "verrassende                           1  \n",
       "vernieuwd                             1  \n",
       "vloeiende                             1  \n",
       "Moeders                               1  \n",
       "Nationaal-Socialist                   1  \n",
       "doctrinaires                          1  \n",
       "malen                                 1  \n",
       "volgend                               1  \n",
       "begin                                 1  \n",
       "dezelfde                              1  \n",
       "Geraamtes                             1  \n",
       "Noordierse                            1  \n",
       "Vlaming                               1  \n",
       "clownskostuum                         1  \n",
       "1953-1963                             1  \n",
       "Slam-titels                           1  \n",
       "verdienstelijk                        1  \n",
       "west                                  1  \n",
       "Droom                                 1  \n",
       "stijgende                             1  \n",
       "Women's                               1  \n",
       "pas                                   1  \n",
       "Partij                                1  \n",
       "grijnzende                            1  \n",
       "praktisch                             1  \n",
       "Franstaligen                          1  \n",
       "bandstoten                            1  \n",
       "wel                                   1  \n",
       "precies                               1  \n",
       "Concilie                              1  \n",
       "allerminst                            1  \n",
       "Actie                                 1  \n",
       "his                                   1  \n",
       "Combes                                1  \n",
       "prompt                                1  \n",
       "afgelasten                            1  \n",
       "Zaterdag                              1  \n",
       "Zuid                                  1  \n",
       "duigen                                1  \n",
       "permanent                             1  \n",
       "moeilijk                              1  \n",
       "Rotterdamse                           1  \n",
       "Senaat                                1  \n",
       "weinig                                1  \n",
       "Vlaams/Nederlands                     1  \n",
       "TriÃ«nnale                            1  \n",
       "tuendam                               1  \n",
       "Stille                                1  \n",
       "bewusteloos                           1  \n",
       "Daken                                 1  \n",
       "komt                                  1  \n",
       "Vier                                  1  \n",
       "langer                                1  \n",
       "natuurlijk                            1  \n",
       "DWK'ers                               1  \n",
       "onophoudelijk                         1  \n",
       "Zee                                   1  \n",
       "swingende                             1  \n",
       "Het                                   1  \n",
       "race-                                 1  \n",
       "verluid                               1  \n",
       "binnen                                1  \n",
       "iemand                                1  \n",
       "laat                                  1  \n",
       "WK-stand                              1  \n",
       "eerde                                 1  \n",
       "afgeleide                             1  \n",
       "zeggen                                1  \n",
       "dichter                               1  \n",
       "grievende                             1  \n",
       "bepalende                             1  \n",
       "verrassend                            1  \n",
       "finaal                                1  \n",
       "Veluwse                               1  \n",
       "Telecommunicatie                      1  \n",
       "Vlaams-Belang-kamerlid                1  \n",
       "Volkspartij                           1  \n",
       "gesloten                              1  \n",
       "FARC-woordvoerder                     1  \n",
       "den                                   1  \n",
       "justitie                              1  \n",
       "rond                                  1  \n",
       "waarover                              1  \n",
       "UF                                    1  \n",
       "kunnen                                1  \n",
       "teleurgesteld                         1  \n",
       "Faculteiten                           1  \n",
       "wild                                  1  \n",
       "vÃ³Ã³r                                1  \n",
       "www.katholieknederland.nl             1  \n",
       "American                              1  \n",
       "woensdag                              1  \n",
       "zogauw                                1  \n",
       "Natuurlijk                            1  \n",
       "a                                     1  \n",
       "moraliserende                         1  \n",
       "zag                                   1  \n",
       "Weltwirtschafsforum                   1  \n",
       "Polderlandschap                       1  \n",
       "Best                                  1  \n",
       "mond-                                 1  \n",
       "zwarten                               1  \n",
       "Lenstra-stadion                       1  \n",
       "Gewest                                1  \n",
       "1960-1991                             1  \n",
       "Pol&Soc                               1  \n",
       "gek                                   1  \n",
       "sociologisch                          1  \n",
       "minus                                 1  \n",
       "oost                                  1  \n",
       "to                                    1  \n",
       "roos                                  1  \n",
       "vernieuwde                            1  \n",
       "Osteuropa                             1  \n",
       "want                                  1  \n",
       "licht                                 1  \n",
       "hoog                                  1  \n",
       "up                                    1  \n",
       "Wimbledon-winnares                    1  \n",
       "ontluisterende                        1  \n",
       "Old                                   1  \n",
       "Rabo-renners                          1  \n",
       "behoudende                            1  \n",
       "redelijk                              1  \n",
       "=                                     1  \n",
       "Vaticaans                             1  \n",
       "Rabo-ploeg                            1  \n",
       "brandende                             1  \n",
       "Beweging                              1  \n",
       "Hezbollah-strijders                   1  \n",
       "dansen                                1  \n",
       "geringschattende                      1  \n",
       "onverwacht                            1  \n",
       "stug                                  1  \n",
       "Provincie                             1  \n",
       "professional                          1  \n",
       "gisterochtend                         1  \n",
       "Nature                                1  \n",
       "gewild                                1  \n",
       "Akademie                              1  \n",
       "omgekeerd                             1  \n",
       "Dietsche                              1  \n",
       "protestanten                          1  \n",
       "beider                                1  \n",
       "zijnde                                1  \n",
       "Handelsschool                         1  \n",
       "morte                                 1  \n",
       "vice-president                        1  \n",
       "Klassiek                              1  \n",
       "nul                                   1  \n",
       "spons-                                1  \n",
       "World                                 1  \n",
       "aardig                                1  \n",
       "kortstondig                           1  \n",
       "hoofdzakelijk                         1  \n",
       "Wake                                  1  \n",
       "uitzinnig                             1  \n",
       "HergÃ©                                1  \n",
       "Hoeveel                               1  \n",
       "technisch                             1  \n",
       "lam                                   1  \n",
       "C                                     1  \n",
       "plaatselijk                           1  \n",
       "A5                                    1  \n",
       "richting                              1  \n",
       "gelovigen                             1  \n",
       "noord                                 1  \n",
       "noorden                               1  \n",
       "derde                                 1  \n",
       "vroeg                                 1  \n",
       "Individueel                           1  \n",
       "destijds                              1  \n",
       "Picks                                 1  \n",
       "beslissende                           1  \n",
       "'s                                    1  \n",
       "gebroken                              1  \n",
       "getinte                               1  \n",
       "Tipperary                             1  \n",
       "gekleurde                             1  \n",
       "Klare                                 1  \n",
       "vlekkeloos                            1  \n",
       "1953-1959                             1  \n",
       "juichende                             1  \n",
       "gaan                                  1  \n",
       "gebaarde                              1  \n",
       "Eigenlijk                             1  \n",
       "Duinen                                1  \n",
       "antiek                                1  \n",
       "mÃ©Ã©r                                1  \n",
       "1945-1972                             1  \n",
       "2/3                                   1  \n",
       "Met                                   1  \n",
       "3000                                  1  \n",
       "Baas                                  1  \n",
       "fel                                   1  \n",
       "avonturen                             1  \n",
       "spokenjagers                          1  \n",
       "carnaval                              1  \n",
       "eigenlijk                             1  \n",
       "Witte                                 1  \n",
       "James                                 1  \n",
       "1969-1974                             1  \n",
       "gevorderd                             1  \n",
       "benedictines                          1  \n",
       "Egyptenaren                           1  \n",
       "uitstekend                            1  \n",
       "Ensor                                 1  \n",
       "The                                   1  \n",
       "blanken                               1  \n",
       "Philips-team                          1  \n",
       "interlandwedstrijd                    1  \n",
       "Bijlmerramp                           1  \n",
       "Vrijdag-akkoord                       1  \n",
       "levend                                1  \n",
       "hard                                  1  \n",
       "Zeilster                              1  \n",
       "Midden-                               1  \n",
       "EU-burgers                            1  \n",
       "schouderophalend                      1  \n",
       "bijgenaamd                            1  \n",
       "dicht                                 1  \n",
       "verstikkende                          1  \n",
       "nodig                                 1  \n",
       "Franse                                1  \n",
       "Nederlands                            1  \n",
       "League-seizoen                        1  \n",
       "Groep                                 1  \n",
       "linkerpols                            1  \n",
       "Nobelprijswinnaar                     1  \n",
       "werkelijk                             1  \n",
       "Vastentijd                            1  \n",
       "Port                                  1  \n",
       "politiek                              1  \n",
       "Â»                                    1  \n",
       "pijnlijk                              1  \n",
       "hoogst                                1  \n",
       "plume                                 1  \n",
       "bedroevend                            1  \n",
       "centrum-                              1  \n",
       "Grijze                                1  \n",
       "WOW-woordvoerster                     1  \n",
       "Begraafplaats                         1  \n",
       "Meer                                  1  \n",
       "maskers                               1  \n",
       "wanneer                               1  \n",
       "Geraamte                              1  \n",
       "ingekorte                             1  \n",
       "Vandaag                               1  \n",
       "Tournament                            1  \n",
       "Hogere                                1  \n",
       "Plots                                 1  \n",
       "verkorte                              1  \n",
       "1974-1977                             1  \n",
       "anders                                1  \n",
       "vast                                  1  \n",
       "wiens                                 1  \n",
       "Les                                   1  \n",
       "landbouw-                             1  \n",
       "ketters                               1  \n",
       "gewijd                                1  \n",
       "direct                                1  \n",
       "tonele                                1  \n",
       "gespecialiseerde                      1  \n",
       "Moderne                               1  \n",
       "uitgebreide                           1  \n",
       "Chinees                               1  \n",
       "paus                                  1  \n",
       "Enkele                                1  \n",
       "zeerover                              1  \n",
       "gedesillusioneerde                    1  \n",
       "flink                                 1  \n",
       "dood                                  1  \n",
       "stranden                              1  \n",
       "beroemd                               1  \n",
       "eind                                  1  \n",
       "EÃ©n                                  1  \n",
       "NOS-journaal                          1  \n",
       "Now                                   1  \n",
       "PSV-trainer                           1  \n",
       "betrokkenen                           1  \n",
       "Kastelen                              1  \n",
       "musical                               1  \n",
       "Ensors                                1  \n",
       "autochtoon                            1  \n",
       "Uiteindelijk                          1  \n",
       "Provincieraad                         1  \n",
       "meesten                               1  \n",
       "schilder-                             1  \n",
       "Stilleven                             1  \n",
       "Afrikanen                             1  \n",
       "Professor                             1  \n",
       "goedkeuren                            1  \n",
       "volgende                              1  \n",
       "best                                  1  \n",
       "Oranje-beloften                       1  \n",
       "waaruit                               1  \n",
       "financieel                            1  \n",
       "Zo                                    1  \n",
       "onwil                                 1  \n",
       "O.L.V.-college                        1  \n",
       "achter                                1  \n",
       "veelvuldig                            1  \n",
       "getuige                               1  \n",
       "volks                                 1  \n",
       "CD&V/N-VA                             1  \n",
       "tijdrijden                            1  \n",
       "kunt                                  1  \n",
       "Ten                                   1  \n",
       "Sound                                 1  \n",
       "1959-heden                            1  \n",
       "zuid                                  1  \n",
       "uitgebloed                            1  \n",
       "duistere                              1  \n",
       "eindeloos                             1  \n",
       "Lampenist                             1  \n",
       "Een                                   1  \n",
       "dartele                               1  \n",
       "vrijdagavond                          1  \n",
       "Judi                                  1  \n",
       "1972-1993                             1  \n",
       "Duitser                               1  \n",
       "groten                                1  \n",
       "oud-Nederlands                        1  \n",
       "Bestuur                               1  \n",
       "Instelling                            1  \n",
       "Elders                                1  \n",
       "Arrondissementen                      1  \n",
       "Voorlopig                             1  \n",
       "gevat                                 1  \n",
       "Guitar                                1  \n",
       "Argentijnse                           1  \n",
       "Onze-Lieve-Vrouwecollege              1  \n",
       "Heilig                                1  \n",
       "Ad                                    1  \n",
       "Kamer                                 1  \n",
       "'t                                    1  \n",
       "intens                                1  \n",
       "langst                                1  \n",
       "inkten                                1  \n",
       "sp.a                                  1  \n",
       "Nederlander                           1  \n",
       "Bruggen                               1  \n",
       "moet                                  1  \n",
       "grinnikend                            1  \n",
       "tekort                                1  \n",
       "long                                  1  \n",
       "verkeerd                              1  \n",
       "AZ&PC'ers                             1  \n",
       "Wereldraad                            1  \n",
       "scheppende                            1  \n",
       "Scholieren                            1  \n",
       "blunderende                           1  \n",
       "gekruisigde                           1  \n",
       "uitverkoren                           1  \n",
       "vertegenwoordigd                      1  \n",
       "deels                                 1  \n",
       "Rechts                                1  \n",
       "opvallend                             1  \n",
       "Paleoconservatisme                    1  \n",
       "duin-                                 1  \n",
       "kennelijk                             1  \n",
       "vermoeide                             1  \n",
       "1962-1985                             1  \n",
       "Letse                                 1  \n",
       "Oranjemars                            1  \n",
       "volksvertegenwoordigend               1  \n",
       "geliefd                               1  \n",
       "land-                                 1  \n",
       "zaterdagavond                         1  \n",
       "duizenden                             1  \n",
       "toevallig                             1  \n",
       "Calvarie                              1  \n",
       "Kartel                                1  \n",
       "systematisch                          1  \n",
       "voldoende                             1  \n",
       "Copa                                  1  \n",
       "Jongeren                              1  \n",
       "inwoneraantal                         1  \n",
       "plastisch                             1  \n",
       "Jeugd                                 1  \n",
       "opgerold                              1  \n",
       "VB-partijblad                         1  \n",
       "1977-1978                             1  \n",
       "waarschijnlijk                        1  \n",
       "Landbouw                              1  \n",
       "Zuid-West                             1  \n",
       "toeziend                              1  \n",
       "way                                   1  \n",
       "gemotiveerde                          1  \n",
       "demografisch                          1  \n",
       "afsluitende                           1  \n",
       "gehangene                             1  \n",
       "diamant                               1  \n",
       "decennialang                          1  \n",
       "Immigratie                            1  \n",
       "Zelfportret                           1  \n",
       "geladen                               1  \n",
       "Zeerovertje                           1  \n",
       "dronkelap                             1  \n",
       "1977-1986                             1  \n",
       "Tegenstroom                           1  \n",
       "geregeld                              1  \n",
       "spoedig                               1  \n",
       "Waarmee                               1  \n",
       "Stars                                 1  \n",
       "rijmende                              1  \n",
       "Onder                                 1  \n",
       "genaamd                               1  \n",
       "Wegen                                 1  \n",
       "beu                                   1  \n",
       "overlijden                            1  \n",
       "aftreden                              1  \n",
       "afhaken                               1  \n",
       "kundig                                1  \n",
       "verplichte                            1  \n",
       "haarzelve                             1  \n",
       "haperende                             1  \n",
       "uitgetreden                           1  \n",
       "thuisgebleven                         1  \n",
       "ajacied                               1  \n",
       "drievoudig                            1  \n",
       "05.10.96-02.02.97                     1  \n",
       "geruchten                             1  \n",
       "officieel                             1  \n",
       "bij                                   1  \n",
       "Geraamten                             1  \n",
       "Oostenrijkse                          1  \n",
       "overwegend                            1  \n",
       "Waals                                 1  \n",
       "rappe                                 1  \n",
       "thÃ©ologien                           1  \n",
       "Minister                              1  \n",
       "Daarvoor                              1  \n",
       "t/m                                   1  \n",
       "MIM/Pandora                           1  \n",
       "Duizenden                             1  \n",
       "mentaal                               1  \n",
       "tikt                                  1  \n",
       "3166-2-code                           1  \n",
       "Kapoentje                             1  \n",
       "waarschuwende                         1  \n",
       "Project                               1  \n",
       "Algemeen                              1  \n",
       "Dood                                  1  \n",
       "Verdoken                              1  \n",
       "puur                                  1  \n",
       "Latin                                 1  \n",
       "gematigde                             1  \n",
       "Veilingen                             1  \n",
       "Golfbreker                            1  \n",
       "Genootschap                           1  \n",
       "Jaarlijks                             1  \n",
       "pseudo                                1  \n",
       "fidem                                 1  \n",
       "sporadisch                            1  \n",
       "1965-1970                             1  \n",
       "Alliantie                             1  \n",
       "moeizaam                              1  \n",
       "gevreesde                             1  \n",
       "bespottelijk                          1  \n",
       "Bond                                  1  \n",
       "bijzonder                             1  \n",
       "uitgesproken                          1  \n",
       "getrouwd                              1  \n",
       "Kiesdrempel                           1  \n",
       "onnoemelijk                           1  \n",
       "steekhoudende                         1  \n",
       "Gelaten                               1  \n",
       "Winnende                              1  \n",
       "opgelucht                             1  \n",
       "Allen                                 1  \n",
       "zee                                   1  \n",
       "Chet                                  1  \n",
       "Romp                                  1  \n",
       "rk.                                   1  \n",
       "schitterende                          1  \n",
       "jarenlang                             1  \n",
       "WOW                                   1  \n",
       "1943-1946                             1  \n",
       "vaker                                 1  \n",
       "lijden                                1  \n",
       "eventueel                             1  \n",
       "Zuid-Amerikaan                        1  \n",
       "personeels-                           1  \n",
       "drastisch                             1  \n",
       "All                                   1  \n",
       "serieuzer                             1  \n",
       "urenlang                              1  \n",
       "wijd                                  1  \n",
       "familie                               1  \n",
       "vlug                                  1  \n",
       "elke                                  1  \n",
       "vrij                                  1  \n",
       "Naakte                                1  \n",
       "GeÃ«rgerde                            1  \n",
       "Overal                                1  \n",
       "57,8%                                 1  \n",
       "1945-heden                            1  \n",
       "ministerie                            1  \n",
       "kg.                                   1  \n",
       "opzettelijk                           1  \n",
       "41,5%                                 1  \n",
       "Luce                                  1  \n",
       "Reeks                                 1  \n",
       "Ordination                            1  \n",
       "minste                                1  \n",
       "Vroege                                1  \n",
       "voorlopig                             1  \n",
       "0.30                                  1  \n",
       "beneden                               1  \n",
       "Vandersteen-fans                      1  \n",
       "ethisch                               1  \n",
       "Nationale                             1  \n",
       "Donderdag                             1  \n",
       "roll                                  1  \n",
       "misverstanden                         1  \n",
       "KNZB-voorzitter                       1  \n",
       "Stijl                                 1  \n",
       "Casino                                1  \n",
       "ongetwijfeld                          1  \n",
       "honklopen                             1  \n",
       "Ondanks                               1  \n",
       "allen                                 1  \n",
       "aangeslagen                           1  \n",
       "Nederlandstaligen                     1  \n",
       "goedmoedig                            1  \n",
       "Koninklijke                           1  \n",
       "Behalve                               1  \n",
       "ingecalculeerde                       1  \n",
       "dieper                                1  \n",
       "Rond                                  1  \n",
       "Almost                                1  \n",
       "Rijksluchtvaartdienst                 1  \n",
       "weinige                               1  \n",
       "daarop                                1  \n",
       "nauwgezet                             1  \n",
       "verbrande                             1  \n",
       "Daarmee                               1  \n",
       "motorfietsen                          1  \n",
       "name                                  1  \n",
       "1952-1995                             1  \n",
       "Volgende                              1  \n",
       "sloegen                               1  \n",
       "ondervraagde                          1  \n",
       "drieÃ«n                               1  \n",
       "A                                     1  \n",
       "wekelijks                             1  \n",
       "Troef                                 1  \n",
       "Susie                                 1  \n",
       "Fanfares                              1  \n",
       "uiterst                               1  \n",
       "plots                                 1  \n",
       "volgt                                 1  \n",
       "begenadigd                            1  \n",
       "RG                                    1  \n",
       "Hardnekkig                            1  \n",
       "Ensoriana                             1  \n",
       "krijgen                               1  \n",
       "CSF-voorzitter                        1  \n",
       "EuroparlementariÃ«r                   1  \n",
       "doorlopend                            1  \n",
       "eenvoudig                             1  \n",
       "degelijk                              1  \n",
       "lonkend                               1  \n",
       "Vervoermaatschappij                   1  \n",
       "http://www.sint-katelijne-waver.be    1  \n",
       "streven                               1  \n",
       "Goorbergh-tribune                     1  \n",
       "GE-baas                               1  \n",
       "ja                                    1  \n",
       "50%                                   1  \n",
       "o.m.                                  1  \n",
       "storm                                 1  \n",
       "over                                  1  \n",
       "maandenlang                           1  \n",
       "winnend                               1  \n",
       "zij                                   1  \n",
       "verdedigend                           1  \n",
       "nÃ­Ã©t                                1  \n",
       "tuf-tuf-club                          1  \n",
       "ets                                   1  \n",
       "hekelen                               1  \n",
       "Vrij                                  1  \n",
       "allitererende                         1  \n",
       "Zichtbaar                             1  \n",
       "BE-VLG                                1  \n",
       "Tour                                  1  \n",
       "little                                1  \n",
       "rock                                  1  \n",
       "gefrustreerd                          1  \n",
       ".                                     1  \n",
       "Jarenlang                             1  \n",
       "26%                                   1  \n",
       "Communistische                        1  \n",
       "Worldwide                             1  \n",
       "leidende                              1  \n",
       "Vlaams-Brabants                       1  \n",
       "Bestuursdienst                        1  \n",
       "Alone                                 1  \n",
       "gevestigde                            1  \n",
       "Hezbollah-leider                      1  \n",
       "zwemmen                               1  \n",
       "Doop                                  1  \n",
       "Indiase                               1  \n",
       "temidden                              1  \n",
       "symbolisch                            1  \n",
       "fysiek                                1  \n",
       "Gekruisigde                           1  \n",
       "Volkske                               1  \n",
       "heftig                                1  \n",
       "verhoudingsgewijs                     1  \n",
       "verwrongen                            1  \n",
       "1-1-2006                              1  \n",
       "Sirene                                1  \n",
       "1986-2001                             1  \n",
       "It's                                  1  \n",
       "1951-1955                             1  \n",
       "1954-1963                             1  \n",
       "kilometerslang                        1  \n",
       "koloriste                             1  \n",
       "slotte                                1  \n",
       "sloeg                                 1  \n",
       "Name: token, dtype: int64"
      ]
     },
     "execution_count": 13,
     "metadata": {},
     "output_type": "execute_result"
    }
   ],
   "source": [
    "mistakes_df.token.value_counts()"
   ]
  },
  {
   "cell_type": "code",
   "execution_count": 14,
   "metadata": {
    "ExecuteTime": {
     "end_time": "2020-05-14T12:51:05.509504Z",
     "start_time": "2020-05-14T12:51:05.497486Z"
    },
    "scrolled": true
   },
   "outputs": [],
   "source": [
    "conf_df = pd.DataFrame(data=confusion_matrix,index=unique_tags,columns=unique_tags)"
   ]
  },
  {
   "cell_type": "markdown",
   "metadata": {
    "ExecuteTime": {
     "end_time": "2020-05-13T14:44:17.818770Z",
     "start_time": "2020-05-13T14:44:17.319771Z"
    }
   },
   "source": [
    "#### How many times each tag is misclassified"
   ]
  },
  {
   "cell_type": "code",
   "execution_count": 15,
   "metadata": {
    "ExecuteTime": {
     "end_time": "2020-05-14T12:51:05.544486Z",
     "start_time": "2020-05-14T12:51:05.511487Z"
    }
   },
   "outputs": [
    {
     "data": {
      "text/html": [
       "<div>\n",
       "<style scoped>\n",
       "    .dataframe tbody tr th:only-of-type {\n",
       "        vertical-align: middle;\n",
       "    }\n",
       "\n",
       "    .dataframe tbody tr th {\n",
       "        vertical-align: top;\n",
       "    }\n",
       "\n",
       "    .dataframe thead th {\n",
       "        text-align: right;\n",
       "    }\n",
       "</style>\n",
       "<table border=\"1\" class=\"dataframe\">\n",
       "  <thead>\n",
       "    <tr style=\"text-align: right;\">\n",
       "      <th></th>\n",
       "      <th>count</th>\n",
       "      <th>percent</th>\n",
       "    </tr>\n",
       "  </thead>\n",
       "  <tbody>\n",
       "    <tr>\n",
       "      <th>ADJ</th>\n",
       "      <td>396.0</td>\n",
       "      <td>0.199697</td>\n",
       "    </tr>\n",
       "    <tr>\n",
       "      <th>ADP</th>\n",
       "      <td>292.0</td>\n",
       "      <td>0.147252</td>\n",
       "    </tr>\n",
       "    <tr>\n",
       "      <th>ADV</th>\n",
       "      <td>273.0</td>\n",
       "      <td>0.137670</td>\n",
       "    </tr>\n",
       "    <tr>\n",
       "      <th>NOUN</th>\n",
       "      <td>240.0</td>\n",
       "      <td>0.121029</td>\n",
       "    </tr>\n",
       "    <tr>\n",
       "      <th>VERB</th>\n",
       "      <td>226.0</td>\n",
       "      <td>0.113969</td>\n",
       "    </tr>\n",
       "    <tr>\n",
       "      <th>PROPN</th>\n",
       "      <td>123.0</td>\n",
       "      <td>0.062027</td>\n",
       "    </tr>\n",
       "    <tr>\n",
       "      <th>DET</th>\n",
       "      <td>97.0</td>\n",
       "      <td>0.048916</td>\n",
       "    </tr>\n",
       "    <tr>\n",
       "      <th>PRON</th>\n",
       "      <td>90.0</td>\n",
       "      <td>0.045386</td>\n",
       "    </tr>\n",
       "    <tr>\n",
       "      <th>SYM</th>\n",
       "      <td>84.0</td>\n",
       "      <td>0.042360</td>\n",
       "    </tr>\n",
       "    <tr>\n",
       "      <th>X</th>\n",
       "      <td>62.0</td>\n",
       "      <td>0.031266</td>\n",
       "    </tr>\n",
       "  </tbody>\n",
       "</table>\n",
       "</div>"
      ],
      "text/plain": [
       "       count   percent\n",
       "ADJ    396.0  0.199697\n",
       "ADP    292.0  0.147252\n",
       "ADV    273.0  0.137670\n",
       "NOUN   240.0  0.121029\n",
       "VERB   226.0  0.113969\n",
       "PROPN  123.0  0.062027\n",
       "DET    97.0   0.048916\n",
       "PRON   90.0   0.045386\n",
       "SYM    84.0   0.042360\n",
       "X      62.0   0.031266"
      ]
     },
     "execution_count": 15,
     "metadata": {},
     "output_type": "execute_result"
    }
   ],
   "source": [
    "conf_count = pd.DataFrame()\n",
    "conf_count[\"count\"] = conf_df.sum().sort_values(ascending=False); \n",
    "conf_count[\"percent\"] = conf_count/conf_count.sum()\n",
    "conf_count[:10]"
   ]
  },
  {
   "cell_type": "code",
   "execution_count": 16,
   "metadata": {
    "ExecuteTime": {
     "end_time": "2020-05-14T12:51:05.554486Z",
     "start_time": "2020-05-14T12:51:05.546488Z"
    }
   },
   "outputs": [],
   "source": [
    "conf_count.to_csv(\"conf_count_zeroshot.csv\", index_label=\"tag\")"
   ]
  },
  {
   "cell_type": "code",
   "execution_count": 26,
   "metadata": {
    "ExecuteTime": {
     "end_time": "2020-05-14T13:10:09.603934Z",
     "start_time": "2020-05-14T13:10:09.538603Z"
    }
   },
   "outputs": [
    {
     "data": {
      "text/html": [
       "<div>\n",
       "<style scoped>\n",
       "    .dataframe tbody tr th:only-of-type {\n",
       "        vertical-align: middle;\n",
       "    }\n",
       "\n",
       "    .dataframe tbody tr th {\n",
       "        vertical-align: top;\n",
       "    }\n",
       "\n",
       "    .dataframe thead th {\n",
       "        text-align: right;\n",
       "    }\n",
       "</style>\n",
       "<table border=\"1\" class=\"dataframe\">\n",
       "  <thead>\n",
       "    <tr style=\"text-align: right;\">\n",
       "      <th></th>\n",
       "      <th>pred</th>\n",
       "      <th>actual</th>\n",
       "      <th>count</th>\n",
       "      <th>percent</th>\n",
       "    </tr>\n",
       "  </thead>\n",
       "  <tbody>\n",
       "    <tr>\n",
       "      <th>2</th>\n",
       "      <td>ADV</td>\n",
       "      <td>ADJ</td>\n",
       "      <td>270.0</td>\n",
       "      <td>0.136157</td>\n",
       "    </tr>\n",
       "    <tr>\n",
       "      <th>130</th>\n",
       "      <td>PROPN</td>\n",
       "      <td>NOUN</td>\n",
       "      <td>191.0</td>\n",
       "      <td>0.096319</td>\n",
       "    </tr>\n",
       "    <tr>\n",
       "      <th>26</th>\n",
       "      <td>PART</td>\n",
       "      <td>ADP</td>\n",
       "      <td>143.0</td>\n",
       "      <td>0.072113</td>\n",
       "    </tr>\n",
       "    <tr>\n",
       "      <th>44</th>\n",
       "      <td>PRON</td>\n",
       "      <td>ADV</td>\n",
       "      <td>100.0</td>\n",
       "      <td>0.050429</td>\n",
       "    </tr>\n",
       "    <tr>\n",
       "      <th>255</th>\n",
       "      <td>ADJ</td>\n",
       "      <td>VERB</td>\n",
       "      <td>96.0</td>\n",
       "      <td>0.048411</td>\n",
       "    </tr>\n",
       "    <tr>\n",
       "      <th>43</th>\n",
       "      <td>PART</td>\n",
       "      <td>ADV</td>\n",
       "      <td>81.0</td>\n",
       "      <td>0.040847</td>\n",
       "    </tr>\n",
       "    <tr>\n",
       "      <th>258</th>\n",
       "      <td>AUX</td>\n",
       "      <td>VERB</td>\n",
       "      <td>80.0</td>\n",
       "      <td>0.040343</td>\n",
       "    </tr>\n",
       "    <tr>\n",
       "      <th>19</th>\n",
       "      <td>ADV</td>\n",
       "      <td>ADP</td>\n",
       "      <td>75.0</td>\n",
       "      <td>0.037821</td>\n",
       "    </tr>\n",
       "    <tr>\n",
       "      <th>11</th>\n",
       "      <td>PROPN</td>\n",
       "      <td>ADJ</td>\n",
       "      <td>66.0</td>\n",
       "      <td>0.033283</td>\n",
       "    </tr>\n",
       "    <tr>\n",
       "      <th>30</th>\n",
       "      <td>SCONJ</td>\n",
       "      <td>ADP</td>\n",
       "      <td>61.0</td>\n",
       "      <td>0.030761</td>\n",
       "    </tr>\n",
       "    <tr>\n",
       "      <th>222</th>\n",
       "      <td>ADP</td>\n",
       "      <td>SCONJ</td>\n",
       "      <td>48.0</td>\n",
       "      <td>0.024206</td>\n",
       "    </tr>\n",
       "    <tr>\n",
       "      <th>85</th>\n",
       "      <td>ADJ</td>\n",
       "      <td>DET</td>\n",
       "      <td>44.0</td>\n",
       "      <td>0.022189</td>\n",
       "    </tr>\n",
       "    <tr>\n",
       "      <th>194</th>\n",
       "      <td>NOUN</td>\n",
       "      <td>PROPN</td>\n",
       "      <td>43.0</td>\n",
       "      <td>0.021684</td>\n",
       "    </tr>\n",
       "    <tr>\n",
       "      <th>7</th>\n",
       "      <td>NOUN</td>\n",
       "      <td>ADJ</td>\n",
       "      <td>40.0</td>\n",
       "      <td>0.020171</td>\n",
       "    </tr>\n",
       "    <tr>\n",
       "      <th>250</th>\n",
       "      <td>PUNCT</td>\n",
       "      <td>SYM</td>\n",
       "      <td>38.0</td>\n",
       "      <td>0.019163</td>\n",
       "    </tr>\n",
       "    <tr>\n",
       "      <th>175</th>\n",
       "      <td>DET</td>\n",
       "      <td>PRON</td>\n",
       "      <td>35.0</td>\n",
       "      <td>0.017650</td>\n",
       "    </tr>\n",
       "    <tr>\n",
       "      <th>41</th>\n",
       "      <td>NOUN</td>\n",
       "      <td>ADV</td>\n",
       "      <td>30.0</td>\n",
       "      <td>0.015129</td>\n",
       "    </tr>\n",
       "    <tr>\n",
       "      <th>262</th>\n",
       "      <td>NOUN</td>\n",
       "      <td>VERB</td>\n",
       "      <td>28.0</td>\n",
       "      <td>0.014120</td>\n",
       "    </tr>\n",
       "    <tr>\n",
       "      <th>246</th>\n",
       "      <td>NUM</td>\n",
       "      <td>SYM</td>\n",
       "      <td>26.0</td>\n",
       "      <td>0.013111</td>\n",
       "    </tr>\n",
       "    <tr>\n",
       "      <th>172</th>\n",
       "      <td>ADV</td>\n",
       "      <td>PRON</td>\n",
       "      <td>25.0</td>\n",
       "      <td>0.012607</td>\n",
       "    </tr>\n",
       "    <tr>\n",
       "      <th>191</th>\n",
       "      <td>CCONJ</td>\n",
       "      <td>PROPN</td>\n",
       "      <td>24.0</td>\n",
       "      <td>0.012103</td>\n",
       "    </tr>\n",
       "    <tr>\n",
       "      <th>47</th>\n",
       "      <td>SCONJ</td>\n",
       "      <td>ADV</td>\n",
       "      <td>23.0</td>\n",
       "      <td>0.011599</td>\n",
       "    </tr>\n",
       "    <tr>\n",
       "      <th>170</th>\n",
       "      <td>ADJ</td>\n",
       "      <td>PRON</td>\n",
       "      <td>21.0</td>\n",
       "      <td>0.010590</td>\n",
       "    </tr>\n",
       "    <tr>\n",
       "      <th>119</th>\n",
       "      <td>ADJ</td>\n",
       "      <td>NOUN</td>\n",
       "      <td>20.0</td>\n",
       "      <td>0.010086</td>\n",
       "    </tr>\n",
       "    <tr>\n",
       "      <th>203</th>\n",
       "      <td>X</td>\n",
       "      <td>PROPN</td>\n",
       "      <td>20.0</td>\n",
       "      <td>0.010086</td>\n",
       "    </tr>\n",
       "    <tr>\n",
       "      <th>96</th>\n",
       "      <td>PROPN</td>\n",
       "      <td>DET</td>\n",
       "      <td>19.0</td>\n",
       "      <td>0.009581</td>\n",
       "    </tr>\n",
       "    <tr>\n",
       "      <th>283</th>\n",
       "      <td>PROPN</td>\n",
       "      <td>X</td>\n",
       "      <td>18.0</td>\n",
       "      <td>0.009077</td>\n",
       "    </tr>\n",
       "    <tr>\n",
       "      <th>187</th>\n",
       "      <td>ADJ</td>\n",
       "      <td>PROPN</td>\n",
       "      <td>18.0</td>\n",
       "      <td>0.009077</td>\n",
       "    </tr>\n",
       "    <tr>\n",
       "      <th>279</th>\n",
       "      <td>NOUN</td>\n",
       "      <td>X</td>\n",
       "      <td>16.0</td>\n",
       "      <td>0.008069</td>\n",
       "    </tr>\n",
       "    <tr>\n",
       "      <th>66</th>\n",
       "      <td>VERB</td>\n",
       "      <td>AUX</td>\n",
       "      <td>15.0</td>\n",
       "      <td>0.007564</td>\n",
       "    </tr>\n",
       "    <tr>\n",
       "      <th>257</th>\n",
       "      <td>ADV</td>\n",
       "      <td>VERB</td>\n",
       "      <td>14.0</td>\n",
       "      <td>0.007060</td>\n",
       "    </tr>\n",
       "    <tr>\n",
       "      <th>245</th>\n",
       "      <td>NOUN</td>\n",
       "      <td>SYM</td>\n",
       "      <td>13.0</td>\n",
       "      <td>0.006556</td>\n",
       "    </tr>\n",
       "    <tr>\n",
       "      <th>34</th>\n",
       "      <td>ADJ</td>\n",
       "      <td>ADV</td>\n",
       "      <td>13.0</td>\n",
       "      <td>0.006556</td>\n",
       "    </tr>\n",
       "    <tr>\n",
       "      <th>35</th>\n",
       "      <td>ADP</td>\n",
       "      <td>ADV</td>\n",
       "      <td>13.0</td>\n",
       "      <td>0.006556</td>\n",
       "    </tr>\n",
       "    <tr>\n",
       "      <th>15</th>\n",
       "      <td>VERB</td>\n",
       "      <td>ADJ</td>\n",
       "      <td>10.0</td>\n",
       "      <td>0.005043</td>\n",
       "    </tr>\n",
       "    <tr>\n",
       "      <th>274</th>\n",
       "      <td>ADV</td>\n",
       "      <td>X</td>\n",
       "      <td>9.0</td>\n",
       "      <td>0.004539</td>\n",
       "    </tr>\n",
       "    <tr>\n",
       "      <th>127</th>\n",
       "      <td>NUM</td>\n",
       "      <td>NOUN</td>\n",
       "      <td>9.0</td>\n",
       "      <td>0.004539</td>\n",
       "    </tr>\n",
       "    <tr>\n",
       "      <th>135</th>\n",
       "      <td>X</td>\n",
       "      <td>NOUN</td>\n",
       "      <td>8.0</td>\n",
       "      <td>0.004034</td>\n",
       "    </tr>\n",
       "    <tr>\n",
       "      <th>87</th>\n",
       "      <td>ADV</td>\n",
       "      <td>DET</td>\n",
       "      <td>8.0</td>\n",
       "      <td>0.004034</td>\n",
       "    </tr>\n",
       "    <tr>\n",
       "      <th>188</th>\n",
       "      <td>ADP</td>\n",
       "      <td>PROPN</td>\n",
       "      <td>8.0</td>\n",
       "      <td>0.004034</td>\n",
       "    </tr>\n",
       "    <tr>\n",
       "      <th>95</th>\n",
       "      <td>PRON</td>\n",
       "      <td>DET</td>\n",
       "      <td>8.0</td>\n",
       "      <td>0.004034</td>\n",
       "    </tr>\n",
       "    <tr>\n",
       "      <th>101</th>\n",
       "      <td>X</td>\n",
       "      <td>DET</td>\n",
       "      <td>8.0</td>\n",
       "      <td>0.004034</td>\n",
       "    </tr>\n",
       "    <tr>\n",
       "      <th>143</th>\n",
       "      <td>NOUN</td>\n",
       "      <td>NUM</td>\n",
       "      <td>8.0</td>\n",
       "      <td>0.004034</td>\n",
       "    </tr>\n",
       "    <tr>\n",
       "      <th>192</th>\n",
       "      <td>DET</td>\n",
       "      <td>PROPN</td>\n",
       "      <td>7.0</td>\n",
       "      <td>0.003530</td>\n",
       "    </tr>\n",
       "    <tr>\n",
       "      <th>86</th>\n",
       "      <td>ADP</td>\n",
       "      <td>DET</td>\n",
       "      <td>7.0</td>\n",
       "      <td>0.003530</td>\n",
       "    </tr>\n",
       "    <tr>\n",
       "      <th>225</th>\n",
       "      <td>CCONJ</td>\n",
       "      <td>SCONJ</td>\n",
       "      <td>6.0</td>\n",
       "      <td>0.003026</td>\n",
       "    </tr>\n",
       "    <tr>\n",
       "      <th>146</th>\n",
       "      <td>PRON</td>\n",
       "      <td>NUM</td>\n",
       "      <td>6.0</td>\n",
       "      <td>0.003026</td>\n",
       "    </tr>\n",
       "    <tr>\n",
       "      <th>277</th>\n",
       "      <td>DET</td>\n",
       "      <td>X</td>\n",
       "      <td>5.0</td>\n",
       "      <td>0.002521</td>\n",
       "    </tr>\n",
       "    <tr>\n",
       "      <th>45</th>\n",
       "      <td>PROPN</td>\n",
       "      <td>ADV</td>\n",
       "      <td>4.0</td>\n",
       "      <td>0.002017</td>\n",
       "    </tr>\n",
       "    <tr>\n",
       "      <th>121</th>\n",
       "      <td>ADV</td>\n",
       "      <td>NOUN</td>\n",
       "      <td>4.0</td>\n",
       "      <td>0.002017</td>\n",
       "    </tr>\n",
       "    <tr>\n",
       "      <th>120</th>\n",
       "      <td>ADP</td>\n",
       "      <td>NOUN</td>\n",
       "      <td>4.0</td>\n",
       "      <td>0.002017</td>\n",
       "    </tr>\n",
       "    <tr>\n",
       "      <th>134</th>\n",
       "      <td>VERB</td>\n",
       "      <td>NOUN</td>\n",
       "      <td>4.0</td>\n",
       "      <td>0.002017</td>\n",
       "    </tr>\n",
       "    <tr>\n",
       "      <th>141</th>\n",
       "      <td>DET</td>\n",
       "      <td>NUM</td>\n",
       "      <td>4.0</td>\n",
       "      <td>0.002017</td>\n",
       "    </tr>\n",
       "    <tr>\n",
       "      <th>177</th>\n",
       "      <td>NOUN</td>\n",
       "      <td>PRON</td>\n",
       "      <td>4.0</td>\n",
       "      <td>0.002017</td>\n",
       "    </tr>\n",
       "    <tr>\n",
       "      <th>272</th>\n",
       "      <td>ADJ</td>\n",
       "      <td>X</td>\n",
       "      <td>4.0</td>\n",
       "      <td>0.002017</td>\n",
       "    </tr>\n",
       "    <tr>\n",
       "      <th>32</th>\n",
       "      <td>VERB</td>\n",
       "      <td>ADP</td>\n",
       "      <td>4.0</td>\n",
       "      <td>0.002017</td>\n",
       "    </tr>\n",
       "    <tr>\n",
       "      <th>273</th>\n",
       "      <td>ADP</td>\n",
       "      <td>X</td>\n",
       "      <td>4.0</td>\n",
       "      <td>0.002017</td>\n",
       "    </tr>\n",
       "    <tr>\n",
       "      <th>181</th>\n",
       "      <td>PROPN</td>\n",
       "      <td>PRON</td>\n",
       "      <td>3.0</td>\n",
       "      <td>0.001513</td>\n",
       "    </tr>\n",
       "    <tr>\n",
       "      <th>10</th>\n",
       "      <td>PRON</td>\n",
       "      <td>ADJ</td>\n",
       "      <td>3.0</td>\n",
       "      <td>0.001513</td>\n",
       "    </tr>\n",
       "    <tr>\n",
       "      <th>249</th>\n",
       "      <td>PROPN</td>\n",
       "      <td>SYM</td>\n",
       "      <td>3.0</td>\n",
       "      <td>0.001513</td>\n",
       "    </tr>\n",
       "    <tr>\n",
       "      <th>33</th>\n",
       "      <td>X</td>\n",
       "      <td>ADP</td>\n",
       "      <td>3.0</td>\n",
       "      <td>0.001513</td>\n",
       "    </tr>\n",
       "    <tr>\n",
       "      <th>28</th>\n",
       "      <td>PROPN</td>\n",
       "      <td>ADP</td>\n",
       "      <td>3.0</td>\n",
       "      <td>0.001513</td>\n",
       "    </tr>\n",
       "    <tr>\n",
       "      <th>39</th>\n",
       "      <td>DET</td>\n",
       "      <td>ADV</td>\n",
       "      <td>3.0</td>\n",
       "      <td>0.001513</td>\n",
       "    </tr>\n",
       "    <tr>\n",
       "      <th>260</th>\n",
       "      <td>DET</td>\n",
       "      <td>VERB</td>\n",
       "      <td>3.0</td>\n",
       "      <td>0.001513</td>\n",
       "    </tr>\n",
       "    <tr>\n",
       "      <th>266</th>\n",
       "      <td>PROPN</td>\n",
       "      <td>VERB</td>\n",
       "      <td>3.0</td>\n",
       "      <td>0.001513</td>\n",
       "    </tr>\n",
       "    <tr>\n",
       "      <th>38</th>\n",
       "      <td>CCONJ</td>\n",
       "      <td>ADV</td>\n",
       "      <td>2.0</td>\n",
       "      <td>0.001009</td>\n",
       "    </tr>\n",
       "    <tr>\n",
       "      <th>242</th>\n",
       "      <td>CCONJ</td>\n",
       "      <td>SYM</td>\n",
       "      <td>2.0</td>\n",
       "      <td>0.001009</td>\n",
       "    </tr>\n",
       "    <tr>\n",
       "      <th>287</th>\n",
       "      <td>VERB</td>\n",
       "      <td>X</td>\n",
       "      <td>2.0</td>\n",
       "      <td>0.001009</td>\n",
       "    </tr>\n",
       "    <tr>\n",
       "      <th>213</th>\n",
       "      <td>PART</td>\n",
       "      <td>PUNCT</td>\n",
       "      <td>2.0</td>\n",
       "      <td>0.001009</td>\n",
       "    </tr>\n",
       "    <tr>\n",
       "      <th>16</th>\n",
       "      <td>X</td>\n",
       "      <td>ADJ</td>\n",
       "      <td>2.0</td>\n",
       "      <td>0.001009</td>\n",
       "    </tr>\n",
       "    <tr>\n",
       "      <th>49</th>\n",
       "      <td>VERB</td>\n",
       "      <td>ADV</td>\n",
       "      <td>2.0</td>\n",
       "      <td>0.001009</td>\n",
       "    </tr>\n",
       "    <tr>\n",
       "      <th>136</th>\n",
       "      <td>ADJ</td>\n",
       "      <td>NUM</td>\n",
       "      <td>2.0</td>\n",
       "      <td>0.001009</td>\n",
       "    </tr>\n",
       "    <tr>\n",
       "      <th>231</th>\n",
       "      <td>PRON</td>\n",
       "      <td>SCONJ</td>\n",
       "      <td>2.0</td>\n",
       "      <td>0.001009</td>\n",
       "    </tr>\n",
       "    <tr>\n",
       "      <th>37</th>\n",
       "      <td>AUX</td>\n",
       "      <td>ADV</td>\n",
       "      <td>2.0</td>\n",
       "      <td>0.001009</td>\n",
       "    </tr>\n",
       "    <tr>\n",
       "      <th>195</th>\n",
       "      <td>NUM</td>\n",
       "      <td>PROPN</td>\n",
       "      <td>2.0</td>\n",
       "      <td>0.001009</td>\n",
       "    </tr>\n",
       "    <tr>\n",
       "      <th>276</th>\n",
       "      <td>CCONJ</td>\n",
       "      <td>X</td>\n",
       "      <td>2.0</td>\n",
       "      <td>0.001009</td>\n",
       "    </tr>\n",
       "    <tr>\n",
       "      <th>8</th>\n",
       "      <td>NUM</td>\n",
       "      <td>ADJ</td>\n",
       "      <td>2.0</td>\n",
       "      <td>0.001009</td>\n",
       "    </tr>\n",
       "    <tr>\n",
       "      <th>93</th>\n",
       "      <td>NUM</td>\n",
       "      <td>DET</td>\n",
       "      <td>2.0</td>\n",
       "      <td>0.001009</td>\n",
       "    </tr>\n",
       "    <tr>\n",
       "      <th>254</th>\n",
       "      <td>X</td>\n",
       "      <td>SYM</td>\n",
       "      <td>2.0</td>\n",
       "      <td>0.001009</td>\n",
       "    </tr>\n",
       "    <tr>\n",
       "      <th>185</th>\n",
       "      <td>VERB</td>\n",
       "      <td>PRON</td>\n",
       "      <td>2.0</td>\n",
       "      <td>0.001009</td>\n",
       "    </tr>\n",
       "    <tr>\n",
       "      <th>199</th>\n",
       "      <td>PUNCT</td>\n",
       "      <td>PROPN</td>\n",
       "      <td>1.0</td>\n",
       "      <td>0.000504</td>\n",
       "    </tr>\n",
       "    <tr>\n",
       "      <th>264</th>\n",
       "      <td>PART</td>\n",
       "      <td>VERB</td>\n",
       "      <td>1.0</td>\n",
       "      <td>0.000504</td>\n",
       "    </tr>\n",
       "    <tr>\n",
       "      <th>138</th>\n",
       "      <td>ADV</td>\n",
       "      <td>NUM</td>\n",
       "      <td>1.0</td>\n",
       "      <td>0.000504</td>\n",
       "    </tr>\n",
       "    <tr>\n",
       "      <th>106</th>\n",
       "      <td>CCONJ</td>\n",
       "      <td>INTJ</td>\n",
       "      <td>1.0</td>\n",
       "      <td>0.000504</td>\n",
       "    </tr>\n",
       "    <tr>\n",
       "      <th>282</th>\n",
       "      <td>PRON</td>\n",
       "      <td>X</td>\n",
       "      <td>1.0</td>\n",
       "      <td>0.000504</td>\n",
       "    </tr>\n",
       "    <tr>\n",
       "      <th>79</th>\n",
       "      <td>PROPN</td>\n",
       "      <td>CCONJ</td>\n",
       "      <td>1.0</td>\n",
       "      <td>0.000504</td>\n",
       "    </tr>\n",
       "    <tr>\n",
       "      <th>284</th>\n",
       "      <td>PUNCT</td>\n",
       "      <td>X</td>\n",
       "      <td>1.0</td>\n",
       "      <td>0.000504</td>\n",
       "    </tr>\n",
       "    <tr>\n",
       "      <th>1</th>\n",
       "      <td>ADP</td>\n",
       "      <td>ADJ</td>\n",
       "      <td>1.0</td>\n",
       "      <td>0.000504</td>\n",
       "    </tr>\n",
       "    <tr>\n",
       "      <th>24</th>\n",
       "      <td>NOUN</td>\n",
       "      <td>ADP</td>\n",
       "      <td>1.0</td>\n",
       "      <td>0.000504</td>\n",
       "    </tr>\n",
       "    <tr>\n",
       "      <th>94</th>\n",
       "      <td>PART</td>\n",
       "      <td>DET</td>\n",
       "      <td>1.0</td>\n",
       "      <td>0.000504</td>\n",
       "    </tr>\n",
       "    <tr>\n",
       "      <th>17</th>\n",
       "      <td>ADJ</td>\n",
       "      <td>ADP</td>\n",
       "      <td>1.0</td>\n",
       "      <td>0.000504</td>\n",
       "    </tr>\n",
       "    <tr>\n",
       "      <th>84</th>\n",
       "      <td>X</td>\n",
       "      <td>CCONJ</td>\n",
       "      <td>1.0</td>\n",
       "      <td>0.000504</td>\n",
       "    </tr>\n",
       "    <tr>\n",
       "      <th>6</th>\n",
       "      <td>INTJ</td>\n",
       "      <td>ADJ</td>\n",
       "      <td>1.0</td>\n",
       "      <td>0.000504</td>\n",
       "    </tr>\n",
       "    <tr>\n",
       "      <th>81</th>\n",
       "      <td>SCONJ</td>\n",
       "      <td>CCONJ</td>\n",
       "      <td>1.0</td>\n",
       "      <td>0.000504</td>\n",
       "    </tr>\n",
       "    <tr>\n",
       "      <th>271</th>\n",
       "      <td>X</td>\n",
       "      <td>VERB</td>\n",
       "      <td>1.0</td>\n",
       "      <td>0.000504</td>\n",
       "    </tr>\n",
       "    <tr>\n",
       "      <th>151</th>\n",
       "      <td>VERB</td>\n",
       "      <td>NUM</td>\n",
       "      <td>1.0</td>\n",
       "      <td>0.000504</td>\n",
       "    </tr>\n",
       "    <tr>\n",
       "      <th>223</th>\n",
       "      <td>ADV</td>\n",
       "      <td>SCONJ</td>\n",
       "      <td>1.0</td>\n",
       "      <td>0.000504</td>\n",
       "    </tr>\n",
       "    <tr>\n",
       "      <th>20</th>\n",
       "      <td>AUX</td>\n",
       "      <td>ADP</td>\n",
       "      <td>1.0</td>\n",
       "      <td>0.000504</td>\n",
       "    </tr>\n",
       "    <tr>\n",
       "      <th>5</th>\n",
       "      <td>DET</td>\n",
       "      <td>ADJ</td>\n",
       "      <td>1.0</td>\n",
       "      <td>0.000504</td>\n",
       "    </tr>\n",
       "    <tr>\n",
       "      <th>204</th>\n",
       "      <td>ADJ</td>\n",
       "      <td>PUNCT</td>\n",
       "      <td>0.0</td>\n",
       "      <td>0.000000</td>\n",
       "    </tr>\n",
       "    <tr>\n",
       "      <th>205</th>\n",
       "      <td>ADP</td>\n",
       "      <td>PUNCT</td>\n",
       "      <td>0.0</td>\n",
       "      <td>0.000000</td>\n",
       "    </tr>\n",
       "    <tr>\n",
       "      <th>182</th>\n",
       "      <td>PUNCT</td>\n",
       "      <td>PRON</td>\n",
       "      <td>0.0</td>\n",
       "      <td>0.000000</td>\n",
       "    </tr>\n",
       "    <tr>\n",
       "      <th>183</th>\n",
       "      <td>SCONJ</td>\n",
       "      <td>PRON</td>\n",
       "      <td>0.0</td>\n",
       "      <td>0.000000</td>\n",
       "    </tr>\n",
       "    <tr>\n",
       "      <th>184</th>\n",
       "      <td>SYM</td>\n",
       "      <td>PRON</td>\n",
       "      <td>0.0</td>\n",
       "      <td>0.000000</td>\n",
       "    </tr>\n",
       "    <tr>\n",
       "      <th>207</th>\n",
       "      <td>AUX</td>\n",
       "      <td>PUNCT</td>\n",
       "      <td>0.0</td>\n",
       "      <td>0.000000</td>\n",
       "    </tr>\n",
       "    <tr>\n",
       "      <th>180</th>\n",
       "      <td>PRON</td>\n",
       "      <td>PRON</td>\n",
       "      <td>0.0</td>\n",
       "      <td>0.000000</td>\n",
       "    </tr>\n",
       "    <tr>\n",
       "      <th>202</th>\n",
       "      <td>VERB</td>\n",
       "      <td>PROPN</td>\n",
       "      <td>0.0</td>\n",
       "      <td>0.000000</td>\n",
       "    </tr>\n",
       "    <tr>\n",
       "      <th>281</th>\n",
       "      <td>PART</td>\n",
       "      <td>X</td>\n",
       "      <td>0.0</td>\n",
       "      <td>0.000000</td>\n",
       "    </tr>\n",
       "    <tr>\n",
       "      <th>206</th>\n",
       "      <td>ADV</td>\n",
       "      <td>PUNCT</td>\n",
       "      <td>0.0</td>\n",
       "      <td>0.000000</td>\n",
       "    </tr>\n",
       "    <tr>\n",
       "      <th>190</th>\n",
       "      <td>AUX</td>\n",
       "      <td>PROPN</td>\n",
       "      <td>0.0</td>\n",
       "      <td>0.000000</td>\n",
       "    </tr>\n",
       "    <tr>\n",
       "      <th>286</th>\n",
       "      <td>SYM</td>\n",
       "      <td>X</td>\n",
       "      <td>0.0</td>\n",
       "      <td>0.000000</td>\n",
       "    </tr>\n",
       "    <tr>\n",
       "      <th>201</th>\n",
       "      <td>SYM</td>\n",
       "      <td>PROPN</td>\n",
       "      <td>0.0</td>\n",
       "      <td>0.000000</td>\n",
       "    </tr>\n",
       "    <tr>\n",
       "      <th>200</th>\n",
       "      <td>SCONJ</td>\n",
       "      <td>PROPN</td>\n",
       "      <td>0.0</td>\n",
       "      <td>0.000000</td>\n",
       "    </tr>\n",
       "    <tr>\n",
       "      <th>176</th>\n",
       "      <td>INTJ</td>\n",
       "      <td>PRON</td>\n",
       "      <td>0.0</td>\n",
       "      <td>0.000000</td>\n",
       "    </tr>\n",
       "    <tr>\n",
       "      <th>198</th>\n",
       "      <td>PROPN</td>\n",
       "      <td>PROPN</td>\n",
       "      <td>0.0</td>\n",
       "      <td>0.000000</td>\n",
       "    </tr>\n",
       "    <tr>\n",
       "      <th>186</th>\n",
       "      <td>X</td>\n",
       "      <td>PRON</td>\n",
       "      <td>0.0</td>\n",
       "      <td>0.000000</td>\n",
       "    </tr>\n",
       "    <tr>\n",
       "      <th>179</th>\n",
       "      <td>PART</td>\n",
       "      <td>PRON</td>\n",
       "      <td>0.0</td>\n",
       "      <td>0.000000</td>\n",
       "    </tr>\n",
       "    <tr>\n",
       "      <th>197</th>\n",
       "      <td>PRON</td>\n",
       "      <td>PROPN</td>\n",
       "      <td>0.0</td>\n",
       "      <td>0.000000</td>\n",
       "    </tr>\n",
       "    <tr>\n",
       "      <th>196</th>\n",
       "      <td>PART</td>\n",
       "      <td>PROPN</td>\n",
       "      <td>0.0</td>\n",
       "      <td>0.000000</td>\n",
       "    </tr>\n",
       "    <tr>\n",
       "      <th>178</th>\n",
       "      <td>NUM</td>\n",
       "      <td>PRON</td>\n",
       "      <td>0.0</td>\n",
       "      <td>0.000000</td>\n",
       "    </tr>\n",
       "    <tr>\n",
       "      <th>209</th>\n",
       "      <td>DET</td>\n",
       "      <td>PUNCT</td>\n",
       "      <td>0.0</td>\n",
       "      <td>0.000000</td>\n",
       "    </tr>\n",
       "    <tr>\n",
       "      <th>193</th>\n",
       "      <td>INTJ</td>\n",
       "      <td>PROPN</td>\n",
       "      <td>0.0</td>\n",
       "      <td>0.000000</td>\n",
       "    </tr>\n",
       "    <tr>\n",
       "      <th>285</th>\n",
       "      <td>SCONJ</td>\n",
       "      <td>X</td>\n",
       "      <td>0.0</td>\n",
       "      <td>0.000000</td>\n",
       "    </tr>\n",
       "    <tr>\n",
       "      <th>189</th>\n",
       "      <td>ADV</td>\n",
       "      <td>PROPN</td>\n",
       "      <td>0.0</td>\n",
       "      <td>0.000000</td>\n",
       "    </tr>\n",
       "    <tr>\n",
       "      <th>208</th>\n",
       "      <td>CCONJ</td>\n",
       "      <td>PUNCT</td>\n",
       "      <td>0.0</td>\n",
       "      <td>0.000000</td>\n",
       "    </tr>\n",
       "    <tr>\n",
       "      <th>280</th>\n",
       "      <td>NUM</td>\n",
       "      <td>X</td>\n",
       "      <td>0.0</td>\n",
       "      <td>0.000000</td>\n",
       "    </tr>\n",
       "    <tr>\n",
       "      <th>210</th>\n",
       "      <td>INTJ</td>\n",
       "      <td>PUNCT</td>\n",
       "      <td>0.0</td>\n",
       "      <td>0.000000</td>\n",
       "    </tr>\n",
       "    <tr>\n",
       "      <th>251</th>\n",
       "      <td>SCONJ</td>\n",
       "      <td>SYM</td>\n",
       "      <td>0.0</td>\n",
       "      <td>0.000000</td>\n",
       "    </tr>\n",
       "    <tr>\n",
       "      <th>238</th>\n",
       "      <td>ADJ</td>\n",
       "      <td>SYM</td>\n",
       "      <td>0.0</td>\n",
       "      <td>0.000000</td>\n",
       "    </tr>\n",
       "    <tr>\n",
       "      <th>239</th>\n",
       "      <td>ADP</td>\n",
       "      <td>SYM</td>\n",
       "      <td>0.0</td>\n",
       "      <td>0.000000</td>\n",
       "    </tr>\n",
       "    <tr>\n",
       "      <th>240</th>\n",
       "      <td>ADV</td>\n",
       "      <td>SYM</td>\n",
       "      <td>0.0</td>\n",
       "      <td>0.000000</td>\n",
       "    </tr>\n",
       "    <tr>\n",
       "      <th>241</th>\n",
       "      <td>AUX</td>\n",
       "      <td>SYM</td>\n",
       "      <td>0.0</td>\n",
       "      <td>0.000000</td>\n",
       "    </tr>\n",
       "    <tr>\n",
       "      <th>243</th>\n",
       "      <td>DET</td>\n",
       "      <td>SYM</td>\n",
       "      <td>0.0</td>\n",
       "      <td>0.000000</td>\n",
       "    </tr>\n",
       "    <tr>\n",
       "      <th>244</th>\n",
       "      <td>INTJ</td>\n",
       "      <td>SYM</td>\n",
       "      <td>0.0</td>\n",
       "      <td>0.000000</td>\n",
       "    </tr>\n",
       "    <tr>\n",
       "      <th>275</th>\n",
       "      <td>AUX</td>\n",
       "      <td>X</td>\n",
       "      <td>0.0</td>\n",
       "      <td>0.000000</td>\n",
       "    </tr>\n",
       "    <tr>\n",
       "      <th>247</th>\n",
       "      <td>PART</td>\n",
       "      <td>SYM</td>\n",
       "      <td>0.0</td>\n",
       "      <td>0.000000</td>\n",
       "    </tr>\n",
       "    <tr>\n",
       "      <th>248</th>\n",
       "      <td>PRON</td>\n",
       "      <td>SYM</td>\n",
       "      <td>0.0</td>\n",
       "      <td>0.000000</td>\n",
       "    </tr>\n",
       "    <tr>\n",
       "      <th>252</th>\n",
       "      <td>SYM</td>\n",
       "      <td>SYM</td>\n",
       "      <td>0.0</td>\n",
       "      <td>0.000000</td>\n",
       "    </tr>\n",
       "    <tr>\n",
       "      <th>237</th>\n",
       "      <td>X</td>\n",
       "      <td>SCONJ</td>\n",
       "      <td>0.0</td>\n",
       "      <td>0.000000</td>\n",
       "    </tr>\n",
       "    <tr>\n",
       "      <th>253</th>\n",
       "      <td>VERB</td>\n",
       "      <td>SYM</td>\n",
       "      <td>0.0</td>\n",
       "      <td>0.000000</td>\n",
       "    </tr>\n",
       "    <tr>\n",
       "      <th>256</th>\n",
       "      <td>ADP</td>\n",
       "      <td>VERB</td>\n",
       "      <td>0.0</td>\n",
       "      <td>0.000000</td>\n",
       "    </tr>\n",
       "    <tr>\n",
       "      <th>259</th>\n",
       "      <td>CCONJ</td>\n",
       "      <td>VERB</td>\n",
       "      <td>0.0</td>\n",
       "      <td>0.000000</td>\n",
       "    </tr>\n",
       "    <tr>\n",
       "      <th>261</th>\n",
       "      <td>INTJ</td>\n",
       "      <td>VERB</td>\n",
       "      <td>0.0</td>\n",
       "      <td>0.000000</td>\n",
       "    </tr>\n",
       "    <tr>\n",
       "      <th>263</th>\n",
       "      <td>NUM</td>\n",
       "      <td>VERB</td>\n",
       "      <td>0.0</td>\n",
       "      <td>0.000000</td>\n",
       "    </tr>\n",
       "    <tr>\n",
       "      <th>265</th>\n",
       "      <td>PRON</td>\n",
       "      <td>VERB</td>\n",
       "      <td>0.0</td>\n",
       "      <td>0.000000</td>\n",
       "    </tr>\n",
       "    <tr>\n",
       "      <th>267</th>\n",
       "      <td>PUNCT</td>\n",
       "      <td>VERB</td>\n",
       "      <td>0.0</td>\n",
       "      <td>0.000000</td>\n",
       "    </tr>\n",
       "    <tr>\n",
       "      <th>268</th>\n",
       "      <td>SCONJ</td>\n",
       "      <td>VERB</td>\n",
       "      <td>0.0</td>\n",
       "      <td>0.000000</td>\n",
       "    </tr>\n",
       "    <tr>\n",
       "      <th>269</th>\n",
       "      <td>SYM</td>\n",
       "      <td>VERB</td>\n",
       "      <td>0.0</td>\n",
       "      <td>0.000000</td>\n",
       "    </tr>\n",
       "    <tr>\n",
       "      <th>174</th>\n",
       "      <td>CCONJ</td>\n",
       "      <td>PRON</td>\n",
       "      <td>0.0</td>\n",
       "      <td>0.000000</td>\n",
       "    </tr>\n",
       "    <tr>\n",
       "      <th>236</th>\n",
       "      <td>VERB</td>\n",
       "      <td>SCONJ</td>\n",
       "      <td>0.0</td>\n",
       "      <td>0.000000</td>\n",
       "    </tr>\n",
       "    <tr>\n",
       "      <th>211</th>\n",
       "      <td>NOUN</td>\n",
       "      <td>PUNCT</td>\n",
       "      <td>0.0</td>\n",
       "      <td>0.000000</td>\n",
       "    </tr>\n",
       "    <tr>\n",
       "      <th>270</th>\n",
       "      <td>VERB</td>\n",
       "      <td>VERB</td>\n",
       "      <td>0.0</td>\n",
       "      <td>0.000000</td>\n",
       "    </tr>\n",
       "    <tr>\n",
       "      <th>212</th>\n",
       "      <td>NUM</td>\n",
       "      <td>PUNCT</td>\n",
       "      <td>0.0</td>\n",
       "      <td>0.000000</td>\n",
       "    </tr>\n",
       "    <tr>\n",
       "      <th>214</th>\n",
       "      <td>PRON</td>\n",
       "      <td>PUNCT</td>\n",
       "      <td>0.0</td>\n",
       "      <td>0.000000</td>\n",
       "    </tr>\n",
       "    <tr>\n",
       "      <th>215</th>\n",
       "      <td>PROPN</td>\n",
       "      <td>PUNCT</td>\n",
       "      <td>0.0</td>\n",
       "      <td>0.000000</td>\n",
       "    </tr>\n",
       "    <tr>\n",
       "      <th>216</th>\n",
       "      <td>PUNCT</td>\n",
       "      <td>PUNCT</td>\n",
       "      <td>0.0</td>\n",
       "      <td>0.000000</td>\n",
       "    </tr>\n",
       "    <tr>\n",
       "      <th>217</th>\n",
       "      <td>SCONJ</td>\n",
       "      <td>PUNCT</td>\n",
       "      <td>0.0</td>\n",
       "      <td>0.000000</td>\n",
       "    </tr>\n",
       "    <tr>\n",
       "      <th>218</th>\n",
       "      <td>SYM</td>\n",
       "      <td>PUNCT</td>\n",
       "      <td>0.0</td>\n",
       "      <td>0.000000</td>\n",
       "    </tr>\n",
       "    <tr>\n",
       "      <th>219</th>\n",
       "      <td>VERB</td>\n",
       "      <td>PUNCT</td>\n",
       "      <td>0.0</td>\n",
       "      <td>0.000000</td>\n",
       "    </tr>\n",
       "    <tr>\n",
       "      <th>220</th>\n",
       "      <td>X</td>\n",
       "      <td>PUNCT</td>\n",
       "      <td>0.0</td>\n",
       "      <td>0.000000</td>\n",
       "    </tr>\n",
       "    <tr>\n",
       "      <th>221</th>\n",
       "      <td>ADJ</td>\n",
       "      <td>SCONJ</td>\n",
       "      <td>0.0</td>\n",
       "      <td>0.000000</td>\n",
       "    </tr>\n",
       "    <tr>\n",
       "      <th>224</th>\n",
       "      <td>AUX</td>\n",
       "      <td>SCONJ</td>\n",
       "      <td>0.0</td>\n",
       "      <td>0.000000</td>\n",
       "    </tr>\n",
       "    <tr>\n",
       "      <th>235</th>\n",
       "      <td>SYM</td>\n",
       "      <td>SCONJ</td>\n",
       "      <td>0.0</td>\n",
       "      <td>0.000000</td>\n",
       "    </tr>\n",
       "    <tr>\n",
       "      <th>226</th>\n",
       "      <td>DET</td>\n",
       "      <td>SCONJ</td>\n",
       "      <td>0.0</td>\n",
       "      <td>0.000000</td>\n",
       "    </tr>\n",
       "    <tr>\n",
       "      <th>227</th>\n",
       "      <td>INTJ</td>\n",
       "      <td>SCONJ</td>\n",
       "      <td>0.0</td>\n",
       "      <td>0.000000</td>\n",
       "    </tr>\n",
       "    <tr>\n",
       "      <th>228</th>\n",
       "      <td>NOUN</td>\n",
       "      <td>SCONJ</td>\n",
       "      <td>0.0</td>\n",
       "      <td>0.000000</td>\n",
       "    </tr>\n",
       "    <tr>\n",
       "      <th>278</th>\n",
       "      <td>INTJ</td>\n",
       "      <td>X</td>\n",
       "      <td>0.0</td>\n",
       "      <td>0.000000</td>\n",
       "    </tr>\n",
       "    <tr>\n",
       "      <th>229</th>\n",
       "      <td>NUM</td>\n",
       "      <td>SCONJ</td>\n",
       "      <td>0.0</td>\n",
       "      <td>0.000000</td>\n",
       "    </tr>\n",
       "    <tr>\n",
       "      <th>230</th>\n",
       "      <td>PART</td>\n",
       "      <td>SCONJ</td>\n",
       "      <td>0.0</td>\n",
       "      <td>0.000000</td>\n",
       "    </tr>\n",
       "    <tr>\n",
       "      <th>232</th>\n",
       "      <td>PROPN</td>\n",
       "      <td>SCONJ</td>\n",
       "      <td>0.0</td>\n",
       "      <td>0.000000</td>\n",
       "    </tr>\n",
       "    <tr>\n",
       "      <th>233</th>\n",
       "      <td>PUNCT</td>\n",
       "      <td>SCONJ</td>\n",
       "      <td>0.0</td>\n",
       "      <td>0.000000</td>\n",
       "    </tr>\n",
       "    <tr>\n",
       "      <th>234</th>\n",
       "      <td>SCONJ</td>\n",
       "      <td>SCONJ</td>\n",
       "      <td>0.0</td>\n",
       "      <td>0.000000</td>\n",
       "    </tr>\n",
       "    <tr>\n",
       "      <th>0</th>\n",
       "      <td>ADJ</td>\n",
       "      <td>ADJ</td>\n",
       "      <td>0.0</td>\n",
       "      <td>0.000000</td>\n",
       "    </tr>\n",
       "    <tr>\n",
       "      <th>144</th>\n",
       "      <td>NUM</td>\n",
       "      <td>NUM</td>\n",
       "      <td>0.0</td>\n",
       "      <td>0.000000</td>\n",
       "    </tr>\n",
       "    <tr>\n",
       "      <th>173</th>\n",
       "      <td>AUX</td>\n",
       "      <td>PRON</td>\n",
       "      <td>0.0</td>\n",
       "      <td>0.000000</td>\n",
       "    </tr>\n",
       "    <tr>\n",
       "      <th>58</th>\n",
       "      <td>NOUN</td>\n",
       "      <td>AUX</td>\n",
       "      <td>0.0</td>\n",
       "      <td>0.000000</td>\n",
       "    </tr>\n",
       "    <tr>\n",
       "      <th>60</th>\n",
       "      <td>PART</td>\n",
       "      <td>AUX</td>\n",
       "      <td>0.0</td>\n",
       "      <td>0.000000</td>\n",
       "    </tr>\n",
       "    <tr>\n",
       "      <th>61</th>\n",
       "      <td>PRON</td>\n",
       "      <td>AUX</td>\n",
       "      <td>0.0</td>\n",
       "      <td>0.000000</td>\n",
       "    </tr>\n",
       "    <tr>\n",
       "      <th>62</th>\n",
       "      <td>PROPN</td>\n",
       "      <td>AUX</td>\n",
       "      <td>0.0</td>\n",
       "      <td>0.000000</td>\n",
       "    </tr>\n",
       "    <tr>\n",
       "      <th>63</th>\n",
       "      <td>PUNCT</td>\n",
       "      <td>AUX</td>\n",
       "      <td>0.0</td>\n",
       "      <td>0.000000</td>\n",
       "    </tr>\n",
       "    <tr>\n",
       "      <th>64</th>\n",
       "      <td>SCONJ</td>\n",
       "      <td>AUX</td>\n",
       "      <td>0.0</td>\n",
       "      <td>0.000000</td>\n",
       "    </tr>\n",
       "    <tr>\n",
       "      <th>65</th>\n",
       "      <td>SYM</td>\n",
       "      <td>AUX</td>\n",
       "      <td>0.0</td>\n",
       "      <td>0.000000</td>\n",
       "    </tr>\n",
       "    <tr>\n",
       "      <th>67</th>\n",
       "      <td>X</td>\n",
       "      <td>AUX</td>\n",
       "      <td>0.0</td>\n",
       "      <td>0.000000</td>\n",
       "    </tr>\n",
       "    <tr>\n",
       "      <th>68</th>\n",
       "      <td>ADJ</td>\n",
       "      <td>CCONJ</td>\n",
       "      <td>0.0</td>\n",
       "      <td>0.000000</td>\n",
       "    </tr>\n",
       "    <tr>\n",
       "      <th>69</th>\n",
       "      <td>ADP</td>\n",
       "      <td>CCONJ</td>\n",
       "      <td>0.0</td>\n",
       "      <td>0.000000</td>\n",
       "    </tr>\n",
       "    <tr>\n",
       "      <th>70</th>\n",
       "      <td>ADV</td>\n",
       "      <td>CCONJ</td>\n",
       "      <td>0.0</td>\n",
       "      <td>0.000000</td>\n",
       "    </tr>\n",
       "    <tr>\n",
       "      <th>71</th>\n",
       "      <td>AUX</td>\n",
       "      <td>CCONJ</td>\n",
       "      <td>0.0</td>\n",
       "      <td>0.000000</td>\n",
       "    </tr>\n",
       "    <tr>\n",
       "      <th>72</th>\n",
       "      <td>CCONJ</td>\n",
       "      <td>CCONJ</td>\n",
       "      <td>0.0</td>\n",
       "      <td>0.000000</td>\n",
       "    </tr>\n",
       "    <tr>\n",
       "      <th>73</th>\n",
       "      <td>DET</td>\n",
       "      <td>CCONJ</td>\n",
       "      <td>0.0</td>\n",
       "      <td>0.000000</td>\n",
       "    </tr>\n",
       "    <tr>\n",
       "      <th>74</th>\n",
       "      <td>INTJ</td>\n",
       "      <td>CCONJ</td>\n",
       "      <td>0.0</td>\n",
       "      <td>0.000000</td>\n",
       "    </tr>\n",
       "    <tr>\n",
       "      <th>75</th>\n",
       "      <td>NOUN</td>\n",
       "      <td>CCONJ</td>\n",
       "      <td>0.0</td>\n",
       "      <td>0.000000</td>\n",
       "    </tr>\n",
       "    <tr>\n",
       "      <th>76</th>\n",
       "      <td>NUM</td>\n",
       "      <td>CCONJ</td>\n",
       "      <td>0.0</td>\n",
       "      <td>0.000000</td>\n",
       "    </tr>\n",
       "    <tr>\n",
       "      <th>77</th>\n",
       "      <td>PART</td>\n",
       "      <td>CCONJ</td>\n",
       "      <td>0.0</td>\n",
       "      <td>0.000000</td>\n",
       "    </tr>\n",
       "    <tr>\n",
       "      <th>78</th>\n",
       "      <td>PRON</td>\n",
       "      <td>CCONJ</td>\n",
       "      <td>0.0</td>\n",
       "      <td>0.000000</td>\n",
       "    </tr>\n",
       "    <tr>\n",
       "      <th>80</th>\n",
       "      <td>PUNCT</td>\n",
       "      <td>CCONJ</td>\n",
       "      <td>0.0</td>\n",
       "      <td>0.000000</td>\n",
       "    </tr>\n",
       "    <tr>\n",
       "      <th>82</th>\n",
       "      <td>SYM</td>\n",
       "      <td>CCONJ</td>\n",
       "      <td>0.0</td>\n",
       "      <td>0.000000</td>\n",
       "    </tr>\n",
       "    <tr>\n",
       "      <th>83</th>\n",
       "      <td>VERB</td>\n",
       "      <td>CCONJ</td>\n",
       "      <td>0.0</td>\n",
       "      <td>0.000000</td>\n",
       "    </tr>\n",
       "    <tr>\n",
       "      <th>88</th>\n",
       "      <td>AUX</td>\n",
       "      <td>DET</td>\n",
       "      <td>0.0</td>\n",
       "      <td>0.000000</td>\n",
       "    </tr>\n",
       "    <tr>\n",
       "      <th>89</th>\n",
       "      <td>CCONJ</td>\n",
       "      <td>DET</td>\n",
       "      <td>0.0</td>\n",
       "      <td>0.000000</td>\n",
       "    </tr>\n",
       "    <tr>\n",
       "      <th>90</th>\n",
       "      <td>DET</td>\n",
       "      <td>DET</td>\n",
       "      <td>0.0</td>\n",
       "      <td>0.000000</td>\n",
       "    </tr>\n",
       "    <tr>\n",
       "      <th>91</th>\n",
       "      <td>INTJ</td>\n",
       "      <td>DET</td>\n",
       "      <td>0.0</td>\n",
       "      <td>0.000000</td>\n",
       "    </tr>\n",
       "    <tr>\n",
       "      <th>59</th>\n",
       "      <td>NUM</td>\n",
       "      <td>AUX</td>\n",
       "      <td>0.0</td>\n",
       "      <td>0.000000</td>\n",
       "    </tr>\n",
       "    <tr>\n",
       "      <th>57</th>\n",
       "      <td>INTJ</td>\n",
       "      <td>AUX</td>\n",
       "      <td>0.0</td>\n",
       "      <td>0.000000</td>\n",
       "    </tr>\n",
       "    <tr>\n",
       "      <th>97</th>\n",
       "      <td>PUNCT</td>\n",
       "      <td>DET</td>\n",
       "      <td>0.0</td>\n",
       "      <td>0.000000</td>\n",
       "    </tr>\n",
       "    <tr>\n",
       "      <th>56</th>\n",
       "      <td>DET</td>\n",
       "      <td>AUX</td>\n",
       "      <td>0.0</td>\n",
       "      <td>0.000000</td>\n",
       "    </tr>\n",
       "    <tr>\n",
       "      <th>3</th>\n",
       "      <td>AUX</td>\n",
       "      <td>ADJ</td>\n",
       "      <td>0.0</td>\n",
       "      <td>0.000000</td>\n",
       "    </tr>\n",
       "    <tr>\n",
       "      <th>4</th>\n",
       "      <td>CCONJ</td>\n",
       "      <td>ADJ</td>\n",
       "      <td>0.0</td>\n",
       "      <td>0.000000</td>\n",
       "    </tr>\n",
       "    <tr>\n",
       "      <th>9</th>\n",
       "      <td>PART</td>\n",
       "      <td>ADJ</td>\n",
       "      <td>0.0</td>\n",
       "      <td>0.000000</td>\n",
       "    </tr>\n",
       "    <tr>\n",
       "      <th>12</th>\n",
       "      <td>PUNCT</td>\n",
       "      <td>ADJ</td>\n",
       "      <td>0.0</td>\n",
       "      <td>0.000000</td>\n",
       "    </tr>\n",
       "    <tr>\n",
       "      <th>13</th>\n",
       "      <td>SCONJ</td>\n",
       "      <td>ADJ</td>\n",
       "      <td>0.0</td>\n",
       "      <td>0.000000</td>\n",
       "    </tr>\n",
       "    <tr>\n",
       "      <th>14</th>\n",
       "      <td>SYM</td>\n",
       "      <td>ADJ</td>\n",
       "      <td>0.0</td>\n",
       "      <td>0.000000</td>\n",
       "    </tr>\n",
       "    <tr>\n",
       "      <th>18</th>\n",
       "      <td>ADP</td>\n",
       "      <td>ADP</td>\n",
       "      <td>0.0</td>\n",
       "      <td>0.000000</td>\n",
       "    </tr>\n",
       "    <tr>\n",
       "      <th>21</th>\n",
       "      <td>CCONJ</td>\n",
       "      <td>ADP</td>\n",
       "      <td>0.0</td>\n",
       "      <td>0.000000</td>\n",
       "    </tr>\n",
       "    <tr>\n",
       "      <th>22</th>\n",
       "      <td>DET</td>\n",
       "      <td>ADP</td>\n",
       "      <td>0.0</td>\n",
       "      <td>0.000000</td>\n",
       "    </tr>\n",
       "    <tr>\n",
       "      <th>23</th>\n",
       "      <td>INTJ</td>\n",
       "      <td>ADP</td>\n",
       "      <td>0.0</td>\n",
       "      <td>0.000000</td>\n",
       "    </tr>\n",
       "    <tr>\n",
       "      <th>25</th>\n",
       "      <td>NUM</td>\n",
       "      <td>ADP</td>\n",
       "      <td>0.0</td>\n",
       "      <td>0.000000</td>\n",
       "    </tr>\n",
       "    <tr>\n",
       "      <th>27</th>\n",
       "      <td>PRON</td>\n",
       "      <td>ADP</td>\n",
       "      <td>0.0</td>\n",
       "      <td>0.000000</td>\n",
       "    </tr>\n",
       "    <tr>\n",
       "      <th>29</th>\n",
       "      <td>PUNCT</td>\n",
       "      <td>ADP</td>\n",
       "      <td>0.0</td>\n",
       "      <td>0.000000</td>\n",
       "    </tr>\n",
       "    <tr>\n",
       "      <th>31</th>\n",
       "      <td>SYM</td>\n",
       "      <td>ADP</td>\n",
       "      <td>0.0</td>\n",
       "      <td>0.000000</td>\n",
       "    </tr>\n",
       "    <tr>\n",
       "      <th>36</th>\n",
       "      <td>ADV</td>\n",
       "      <td>ADV</td>\n",
       "      <td>0.0</td>\n",
       "      <td>0.000000</td>\n",
       "    </tr>\n",
       "    <tr>\n",
       "      <th>40</th>\n",
       "      <td>INTJ</td>\n",
       "      <td>ADV</td>\n",
       "      <td>0.0</td>\n",
       "      <td>0.000000</td>\n",
       "    </tr>\n",
       "    <tr>\n",
       "      <th>42</th>\n",
       "      <td>NUM</td>\n",
       "      <td>ADV</td>\n",
       "      <td>0.0</td>\n",
       "      <td>0.000000</td>\n",
       "    </tr>\n",
       "    <tr>\n",
       "      <th>46</th>\n",
       "      <td>PUNCT</td>\n",
       "      <td>ADV</td>\n",
       "      <td>0.0</td>\n",
       "      <td>0.000000</td>\n",
       "    </tr>\n",
       "    <tr>\n",
       "      <th>48</th>\n",
       "      <td>SYM</td>\n",
       "      <td>ADV</td>\n",
       "      <td>0.0</td>\n",
       "      <td>0.000000</td>\n",
       "    </tr>\n",
       "    <tr>\n",
       "      <th>50</th>\n",
       "      <td>X</td>\n",
       "      <td>ADV</td>\n",
       "      <td>0.0</td>\n",
       "      <td>0.000000</td>\n",
       "    </tr>\n",
       "    <tr>\n",
       "      <th>51</th>\n",
       "      <td>ADJ</td>\n",
       "      <td>AUX</td>\n",
       "      <td>0.0</td>\n",
       "      <td>0.000000</td>\n",
       "    </tr>\n",
       "    <tr>\n",
       "      <th>52</th>\n",
       "      <td>ADP</td>\n",
       "      <td>AUX</td>\n",
       "      <td>0.0</td>\n",
       "      <td>0.000000</td>\n",
       "    </tr>\n",
       "    <tr>\n",
       "      <th>53</th>\n",
       "      <td>ADV</td>\n",
       "      <td>AUX</td>\n",
       "      <td>0.0</td>\n",
       "      <td>0.000000</td>\n",
       "    </tr>\n",
       "    <tr>\n",
       "      <th>54</th>\n",
       "      <td>AUX</td>\n",
       "      <td>AUX</td>\n",
       "      <td>0.0</td>\n",
       "      <td>0.000000</td>\n",
       "    </tr>\n",
       "    <tr>\n",
       "      <th>55</th>\n",
       "      <td>CCONJ</td>\n",
       "      <td>AUX</td>\n",
       "      <td>0.0</td>\n",
       "      <td>0.000000</td>\n",
       "    </tr>\n",
       "    <tr>\n",
       "      <th>92</th>\n",
       "      <td>NOUN</td>\n",
       "      <td>DET</td>\n",
       "      <td>0.0</td>\n",
       "      <td>0.000000</td>\n",
       "    </tr>\n",
       "    <tr>\n",
       "      <th>98</th>\n",
       "      <td>SCONJ</td>\n",
       "      <td>DET</td>\n",
       "      <td>0.0</td>\n",
       "      <td>0.000000</td>\n",
       "    </tr>\n",
       "    <tr>\n",
       "      <th>171</th>\n",
       "      <td>ADP</td>\n",
       "      <td>PRON</td>\n",
       "      <td>0.0</td>\n",
       "      <td>0.000000</td>\n",
       "    </tr>\n",
       "    <tr>\n",
       "      <th>137</th>\n",
       "      <td>ADP</td>\n",
       "      <td>NUM</td>\n",
       "      <td>0.0</td>\n",
       "      <td>0.000000</td>\n",
       "    </tr>\n",
       "    <tr>\n",
       "      <th>140</th>\n",
       "      <td>CCONJ</td>\n",
       "      <td>NUM</td>\n",
       "      <td>0.0</td>\n",
       "      <td>0.000000</td>\n",
       "    </tr>\n",
       "    <tr>\n",
       "      <th>142</th>\n",
       "      <td>INTJ</td>\n",
       "      <td>NUM</td>\n",
       "      <td>0.0</td>\n",
       "      <td>0.000000</td>\n",
       "    </tr>\n",
       "    <tr>\n",
       "      <th>145</th>\n",
       "      <td>PART</td>\n",
       "      <td>NUM</td>\n",
       "      <td>0.0</td>\n",
       "      <td>0.000000</td>\n",
       "    </tr>\n",
       "    <tr>\n",
       "      <th>147</th>\n",
       "      <td>PROPN</td>\n",
       "      <td>NUM</td>\n",
       "      <td>0.0</td>\n",
       "      <td>0.000000</td>\n",
       "    </tr>\n",
       "    <tr>\n",
       "      <th>148</th>\n",
       "      <td>PUNCT</td>\n",
       "      <td>NUM</td>\n",
       "      <td>0.0</td>\n",
       "      <td>0.000000</td>\n",
       "    </tr>\n",
       "    <tr>\n",
       "      <th>149</th>\n",
       "      <td>SCONJ</td>\n",
       "      <td>NUM</td>\n",
       "      <td>0.0</td>\n",
       "      <td>0.000000</td>\n",
       "    </tr>\n",
       "    <tr>\n",
       "      <th>150</th>\n",
       "      <td>SYM</td>\n",
       "      <td>NUM</td>\n",
       "      <td>0.0</td>\n",
       "      <td>0.000000</td>\n",
       "    </tr>\n",
       "    <tr>\n",
       "      <th>152</th>\n",
       "      <td>X</td>\n",
       "      <td>NUM</td>\n",
       "      <td>0.0</td>\n",
       "      <td>0.000000</td>\n",
       "    </tr>\n",
       "    <tr>\n",
       "      <th>153</th>\n",
       "      <td>ADJ</td>\n",
       "      <td>PART</td>\n",
       "      <td>0.0</td>\n",
       "      <td>0.000000</td>\n",
       "    </tr>\n",
       "    <tr>\n",
       "      <th>154</th>\n",
       "      <td>ADP</td>\n",
       "      <td>PART</td>\n",
       "      <td>0.0</td>\n",
       "      <td>0.000000</td>\n",
       "    </tr>\n",
       "    <tr>\n",
       "      <th>155</th>\n",
       "      <td>ADV</td>\n",
       "      <td>PART</td>\n",
       "      <td>0.0</td>\n",
       "      <td>0.000000</td>\n",
       "    </tr>\n",
       "    <tr>\n",
       "      <th>156</th>\n",
       "      <td>AUX</td>\n",
       "      <td>PART</td>\n",
       "      <td>0.0</td>\n",
       "      <td>0.000000</td>\n",
       "    </tr>\n",
       "    <tr>\n",
       "      <th>157</th>\n",
       "      <td>CCONJ</td>\n",
       "      <td>PART</td>\n",
       "      <td>0.0</td>\n",
       "      <td>0.000000</td>\n",
       "    </tr>\n",
       "    <tr>\n",
       "      <th>158</th>\n",
       "      <td>DET</td>\n",
       "      <td>PART</td>\n",
       "      <td>0.0</td>\n",
       "      <td>0.000000</td>\n",
       "    </tr>\n",
       "    <tr>\n",
       "      <th>159</th>\n",
       "      <td>INTJ</td>\n",
       "      <td>PART</td>\n",
       "      <td>0.0</td>\n",
       "      <td>0.000000</td>\n",
       "    </tr>\n",
       "    <tr>\n",
       "      <th>160</th>\n",
       "      <td>NOUN</td>\n",
       "      <td>PART</td>\n",
       "      <td>0.0</td>\n",
       "      <td>0.000000</td>\n",
       "    </tr>\n",
       "    <tr>\n",
       "      <th>161</th>\n",
       "      <td>NUM</td>\n",
       "      <td>PART</td>\n",
       "      <td>0.0</td>\n",
       "      <td>0.000000</td>\n",
       "    </tr>\n",
       "    <tr>\n",
       "      <th>162</th>\n",
       "      <td>PART</td>\n",
       "      <td>PART</td>\n",
       "      <td>0.0</td>\n",
       "      <td>0.000000</td>\n",
       "    </tr>\n",
       "    <tr>\n",
       "      <th>163</th>\n",
       "      <td>PRON</td>\n",
       "      <td>PART</td>\n",
       "      <td>0.0</td>\n",
       "      <td>0.000000</td>\n",
       "    </tr>\n",
       "    <tr>\n",
       "      <th>164</th>\n",
       "      <td>PROPN</td>\n",
       "      <td>PART</td>\n",
       "      <td>0.0</td>\n",
       "      <td>0.000000</td>\n",
       "    </tr>\n",
       "    <tr>\n",
       "      <th>165</th>\n",
       "      <td>PUNCT</td>\n",
       "      <td>PART</td>\n",
       "      <td>0.0</td>\n",
       "      <td>0.000000</td>\n",
       "    </tr>\n",
       "    <tr>\n",
       "      <th>166</th>\n",
       "      <td>SCONJ</td>\n",
       "      <td>PART</td>\n",
       "      <td>0.0</td>\n",
       "      <td>0.000000</td>\n",
       "    </tr>\n",
       "    <tr>\n",
       "      <th>167</th>\n",
       "      <td>SYM</td>\n",
       "      <td>PART</td>\n",
       "      <td>0.0</td>\n",
       "      <td>0.000000</td>\n",
       "    </tr>\n",
       "    <tr>\n",
       "      <th>168</th>\n",
       "      <td>VERB</td>\n",
       "      <td>PART</td>\n",
       "      <td>0.0</td>\n",
       "      <td>0.000000</td>\n",
       "    </tr>\n",
       "    <tr>\n",
       "      <th>169</th>\n",
       "      <td>X</td>\n",
       "      <td>PART</td>\n",
       "      <td>0.0</td>\n",
       "      <td>0.000000</td>\n",
       "    </tr>\n",
       "    <tr>\n",
       "      <th>139</th>\n",
       "      <td>AUX</td>\n",
       "      <td>NUM</td>\n",
       "      <td>0.0</td>\n",
       "      <td>0.000000</td>\n",
       "    </tr>\n",
       "    <tr>\n",
       "      <th>133</th>\n",
       "      <td>SYM</td>\n",
       "      <td>NOUN</td>\n",
       "      <td>0.0</td>\n",
       "      <td>0.000000</td>\n",
       "    </tr>\n",
       "    <tr>\n",
       "      <th>99</th>\n",
       "      <td>SYM</td>\n",
       "      <td>DET</td>\n",
       "      <td>0.0</td>\n",
       "      <td>0.000000</td>\n",
       "    </tr>\n",
       "    <tr>\n",
       "      <th>132</th>\n",
       "      <td>SCONJ</td>\n",
       "      <td>NOUN</td>\n",
       "      <td>0.0</td>\n",
       "      <td>0.000000</td>\n",
       "    </tr>\n",
       "    <tr>\n",
       "      <th>100</th>\n",
       "      <td>VERB</td>\n",
       "      <td>DET</td>\n",
       "      <td>0.0</td>\n",
       "      <td>0.000000</td>\n",
       "    </tr>\n",
       "    <tr>\n",
       "      <th>102</th>\n",
       "      <td>ADJ</td>\n",
       "      <td>INTJ</td>\n",
       "      <td>0.0</td>\n",
       "      <td>0.000000</td>\n",
       "    </tr>\n",
       "    <tr>\n",
       "      <th>103</th>\n",
       "      <td>ADP</td>\n",
       "      <td>INTJ</td>\n",
       "      <td>0.0</td>\n",
       "      <td>0.000000</td>\n",
       "    </tr>\n",
       "    <tr>\n",
       "      <th>104</th>\n",
       "      <td>ADV</td>\n",
       "      <td>INTJ</td>\n",
       "      <td>0.0</td>\n",
       "      <td>0.000000</td>\n",
       "    </tr>\n",
       "    <tr>\n",
       "      <th>105</th>\n",
       "      <td>AUX</td>\n",
       "      <td>INTJ</td>\n",
       "      <td>0.0</td>\n",
       "      <td>0.000000</td>\n",
       "    </tr>\n",
       "    <tr>\n",
       "      <th>107</th>\n",
       "      <td>DET</td>\n",
       "      <td>INTJ</td>\n",
       "      <td>0.0</td>\n",
       "      <td>0.000000</td>\n",
       "    </tr>\n",
       "    <tr>\n",
       "      <th>108</th>\n",
       "      <td>INTJ</td>\n",
       "      <td>INTJ</td>\n",
       "      <td>0.0</td>\n",
       "      <td>0.000000</td>\n",
       "    </tr>\n",
       "    <tr>\n",
       "      <th>109</th>\n",
       "      <td>NOUN</td>\n",
       "      <td>INTJ</td>\n",
       "      <td>0.0</td>\n",
       "      <td>0.000000</td>\n",
       "    </tr>\n",
       "    <tr>\n",
       "      <th>110</th>\n",
       "      <td>NUM</td>\n",
       "      <td>INTJ</td>\n",
       "      <td>0.0</td>\n",
       "      <td>0.000000</td>\n",
       "    </tr>\n",
       "    <tr>\n",
       "      <th>111</th>\n",
       "      <td>PART</td>\n",
       "      <td>INTJ</td>\n",
       "      <td>0.0</td>\n",
       "      <td>0.000000</td>\n",
       "    </tr>\n",
       "    <tr>\n",
       "      <th>112</th>\n",
       "      <td>PRON</td>\n",
       "      <td>INTJ</td>\n",
       "      <td>0.0</td>\n",
       "      <td>0.000000</td>\n",
       "    </tr>\n",
       "    <tr>\n",
       "      <th>113</th>\n",
       "      <td>PROPN</td>\n",
       "      <td>INTJ</td>\n",
       "      <td>0.0</td>\n",
       "      <td>0.000000</td>\n",
       "    </tr>\n",
       "    <tr>\n",
       "      <th>114</th>\n",
       "      <td>PUNCT</td>\n",
       "      <td>INTJ</td>\n",
       "      <td>0.0</td>\n",
       "      <td>0.000000</td>\n",
       "    </tr>\n",
       "    <tr>\n",
       "      <th>115</th>\n",
       "      <td>SCONJ</td>\n",
       "      <td>INTJ</td>\n",
       "      <td>0.0</td>\n",
       "      <td>0.000000</td>\n",
       "    </tr>\n",
       "    <tr>\n",
       "      <th>116</th>\n",
       "      <td>SYM</td>\n",
       "      <td>INTJ</td>\n",
       "      <td>0.0</td>\n",
       "      <td>0.000000</td>\n",
       "    </tr>\n",
       "    <tr>\n",
       "      <th>117</th>\n",
       "      <td>VERB</td>\n",
       "      <td>INTJ</td>\n",
       "      <td>0.0</td>\n",
       "      <td>0.000000</td>\n",
       "    </tr>\n",
       "    <tr>\n",
       "      <th>118</th>\n",
       "      <td>X</td>\n",
       "      <td>INTJ</td>\n",
       "      <td>0.0</td>\n",
       "      <td>0.000000</td>\n",
       "    </tr>\n",
       "    <tr>\n",
       "      <th>122</th>\n",
       "      <td>AUX</td>\n",
       "      <td>NOUN</td>\n",
       "      <td>0.0</td>\n",
       "      <td>0.000000</td>\n",
       "    </tr>\n",
       "    <tr>\n",
       "      <th>123</th>\n",
       "      <td>CCONJ</td>\n",
       "      <td>NOUN</td>\n",
       "      <td>0.0</td>\n",
       "      <td>0.000000</td>\n",
       "    </tr>\n",
       "    <tr>\n",
       "      <th>124</th>\n",
       "      <td>DET</td>\n",
       "      <td>NOUN</td>\n",
       "      <td>0.0</td>\n",
       "      <td>0.000000</td>\n",
       "    </tr>\n",
       "    <tr>\n",
       "      <th>125</th>\n",
       "      <td>INTJ</td>\n",
       "      <td>NOUN</td>\n",
       "      <td>0.0</td>\n",
       "      <td>0.000000</td>\n",
       "    </tr>\n",
       "    <tr>\n",
       "      <th>126</th>\n",
       "      <td>NOUN</td>\n",
       "      <td>NOUN</td>\n",
       "      <td>0.0</td>\n",
       "      <td>0.000000</td>\n",
       "    </tr>\n",
       "    <tr>\n",
       "      <th>128</th>\n",
       "      <td>PART</td>\n",
       "      <td>NOUN</td>\n",
       "      <td>0.0</td>\n",
       "      <td>0.000000</td>\n",
       "    </tr>\n",
       "    <tr>\n",
       "      <th>129</th>\n",
       "      <td>PRON</td>\n",
       "      <td>NOUN</td>\n",
       "      <td>0.0</td>\n",
       "      <td>0.000000</td>\n",
       "    </tr>\n",
       "    <tr>\n",
       "      <th>131</th>\n",
       "      <td>PUNCT</td>\n",
       "      <td>NOUN</td>\n",
       "      <td>0.0</td>\n",
       "      <td>0.000000</td>\n",
       "    </tr>\n",
       "    <tr>\n",
       "      <th>288</th>\n",
       "      <td>X</td>\n",
       "      <td>X</td>\n",
       "      <td>0.0</td>\n",
       "      <td>0.000000</td>\n",
       "    </tr>\n",
       "  </tbody>\n",
       "</table>\n",
       "</div>"
      ],
      "text/plain": [
       "      pred actual  count   percent\n",
       "2    ADV    ADJ    270.0  0.136157\n",
       "130  PROPN  NOUN   191.0  0.096319\n",
       "26   PART   ADP    143.0  0.072113\n",
       "44   PRON   ADV    100.0  0.050429\n",
       "255  ADJ    VERB   96.0   0.048411\n",
       "43   PART   ADV    81.0   0.040847\n",
       "258  AUX    VERB   80.0   0.040343\n",
       "19   ADV    ADP    75.0   0.037821\n",
       "11   PROPN  ADJ    66.0   0.033283\n",
       "30   SCONJ  ADP    61.0   0.030761\n",
       "222  ADP    SCONJ  48.0   0.024206\n",
       "85   ADJ    DET    44.0   0.022189\n",
       "194  NOUN   PROPN  43.0   0.021684\n",
       "7    NOUN   ADJ    40.0   0.020171\n",
       "250  PUNCT  SYM    38.0   0.019163\n",
       "175  DET    PRON   35.0   0.017650\n",
       "41   NOUN   ADV    30.0   0.015129\n",
       "262  NOUN   VERB   28.0   0.014120\n",
       "246  NUM    SYM    26.0   0.013111\n",
       "172  ADV    PRON   25.0   0.012607\n",
       "191  CCONJ  PROPN  24.0   0.012103\n",
       "47   SCONJ  ADV    23.0   0.011599\n",
       "170  ADJ    PRON   21.0   0.010590\n",
       "119  ADJ    NOUN   20.0   0.010086\n",
       "203  X      PROPN  20.0   0.010086\n",
       "96   PROPN  DET    19.0   0.009581\n",
       "283  PROPN  X      18.0   0.009077\n",
       "187  ADJ    PROPN  18.0   0.009077\n",
       "279  NOUN   X      16.0   0.008069\n",
       "66   VERB   AUX    15.0   0.007564\n",
       "257  ADV    VERB   14.0   0.007060\n",
       "245  NOUN   SYM    13.0   0.006556\n",
       "34   ADJ    ADV    13.0   0.006556\n",
       "35   ADP    ADV    13.0   0.006556\n",
       "15   VERB   ADJ    10.0   0.005043\n",
       "274  ADV    X      9.0    0.004539\n",
       "127  NUM    NOUN   9.0    0.004539\n",
       "135  X      NOUN   8.0    0.004034\n",
       "87   ADV    DET    8.0    0.004034\n",
       "188  ADP    PROPN  8.0    0.004034\n",
       "95   PRON   DET    8.0    0.004034\n",
       "101  X      DET    8.0    0.004034\n",
       "143  NOUN   NUM    8.0    0.004034\n",
       "192  DET    PROPN  7.0    0.003530\n",
       "86   ADP    DET    7.0    0.003530\n",
       "225  CCONJ  SCONJ  6.0    0.003026\n",
       "146  PRON   NUM    6.0    0.003026\n",
       "277  DET    X      5.0    0.002521\n",
       "45   PROPN  ADV    4.0    0.002017\n",
       "121  ADV    NOUN   4.0    0.002017\n",
       "120  ADP    NOUN   4.0    0.002017\n",
       "134  VERB   NOUN   4.0    0.002017\n",
       "141  DET    NUM    4.0    0.002017\n",
       "177  NOUN   PRON   4.0    0.002017\n",
       "272  ADJ    X      4.0    0.002017\n",
       "32   VERB   ADP    4.0    0.002017\n",
       "273  ADP    X      4.0    0.002017\n",
       "181  PROPN  PRON   3.0    0.001513\n",
       "10   PRON   ADJ    3.0    0.001513\n",
       "249  PROPN  SYM    3.0    0.001513\n",
       "33   X      ADP    3.0    0.001513\n",
       "28   PROPN  ADP    3.0    0.001513\n",
       "39   DET    ADV    3.0    0.001513\n",
       "260  DET    VERB   3.0    0.001513\n",
       "266  PROPN  VERB   3.0    0.001513\n",
       "38   CCONJ  ADV    2.0    0.001009\n",
       "242  CCONJ  SYM    2.0    0.001009\n",
       "287  VERB   X      2.0    0.001009\n",
       "213  PART   PUNCT  2.0    0.001009\n",
       "16   X      ADJ    2.0    0.001009\n",
       "49   VERB   ADV    2.0    0.001009\n",
       "136  ADJ    NUM    2.0    0.001009\n",
       "231  PRON   SCONJ  2.0    0.001009\n",
       "37   AUX    ADV    2.0    0.001009\n",
       "195  NUM    PROPN  2.0    0.001009\n",
       "276  CCONJ  X      2.0    0.001009\n",
       "8    NUM    ADJ    2.0    0.001009\n",
       "93   NUM    DET    2.0    0.001009\n",
       "254  X      SYM    2.0    0.001009\n",
       "185  VERB   PRON   2.0    0.001009\n",
       "199  PUNCT  PROPN  1.0    0.000504\n",
       "264  PART   VERB   1.0    0.000504\n",
       "138  ADV    NUM    1.0    0.000504\n",
       "106  CCONJ  INTJ   1.0    0.000504\n",
       "282  PRON   X      1.0    0.000504\n",
       "79   PROPN  CCONJ  1.0    0.000504\n",
       "284  PUNCT  X      1.0    0.000504\n",
       "1    ADP    ADJ    1.0    0.000504\n",
       "24   NOUN   ADP    1.0    0.000504\n",
       "94   PART   DET    1.0    0.000504\n",
       "17   ADJ    ADP    1.0    0.000504\n",
       "84   X      CCONJ  1.0    0.000504\n",
       "6    INTJ   ADJ    1.0    0.000504\n",
       "81   SCONJ  CCONJ  1.0    0.000504\n",
       "271  X      VERB   1.0    0.000504\n",
       "151  VERB   NUM    1.0    0.000504\n",
       "223  ADV    SCONJ  1.0    0.000504\n",
       "20   AUX    ADP    1.0    0.000504\n",
       "5    DET    ADJ    1.0    0.000504\n",
       "204  ADJ    PUNCT  0.0    0.000000\n",
       "205  ADP    PUNCT  0.0    0.000000\n",
       "182  PUNCT  PRON   0.0    0.000000\n",
       "183  SCONJ  PRON   0.0    0.000000\n",
       "184  SYM    PRON   0.0    0.000000\n",
       "207  AUX    PUNCT  0.0    0.000000\n",
       "180  PRON   PRON   0.0    0.000000\n",
       "202  VERB   PROPN  0.0    0.000000\n",
       "281  PART   X      0.0    0.000000\n",
       "206  ADV    PUNCT  0.0    0.000000\n",
       "190  AUX    PROPN  0.0    0.000000\n",
       "286  SYM    X      0.0    0.000000\n",
       "201  SYM    PROPN  0.0    0.000000\n",
       "200  SCONJ  PROPN  0.0    0.000000\n",
       "176  INTJ   PRON   0.0    0.000000\n",
       "198  PROPN  PROPN  0.0    0.000000\n",
       "186  X      PRON   0.0    0.000000\n",
       "179  PART   PRON   0.0    0.000000\n",
       "197  PRON   PROPN  0.0    0.000000\n",
       "196  PART   PROPN  0.0    0.000000\n",
       "178  NUM    PRON   0.0    0.000000\n",
       "209  DET    PUNCT  0.0    0.000000\n",
       "193  INTJ   PROPN  0.0    0.000000\n",
       "285  SCONJ  X      0.0    0.000000\n",
       "189  ADV    PROPN  0.0    0.000000\n",
       "208  CCONJ  PUNCT  0.0    0.000000\n",
       "280  NUM    X      0.0    0.000000\n",
       "210  INTJ   PUNCT  0.0    0.000000\n",
       "251  SCONJ  SYM    0.0    0.000000\n",
       "238  ADJ    SYM    0.0    0.000000\n",
       "239  ADP    SYM    0.0    0.000000\n",
       "240  ADV    SYM    0.0    0.000000\n",
       "241  AUX    SYM    0.0    0.000000\n",
       "243  DET    SYM    0.0    0.000000\n",
       "244  INTJ   SYM    0.0    0.000000\n",
       "275  AUX    X      0.0    0.000000\n",
       "247  PART   SYM    0.0    0.000000\n",
       "248  PRON   SYM    0.0    0.000000\n",
       "252  SYM    SYM    0.0    0.000000\n",
       "237  X      SCONJ  0.0    0.000000\n",
       "253  VERB   SYM    0.0    0.000000\n",
       "256  ADP    VERB   0.0    0.000000\n",
       "259  CCONJ  VERB   0.0    0.000000\n",
       "261  INTJ   VERB   0.0    0.000000\n",
       "263  NUM    VERB   0.0    0.000000\n",
       "265  PRON   VERB   0.0    0.000000\n",
       "267  PUNCT  VERB   0.0    0.000000\n",
       "268  SCONJ  VERB   0.0    0.000000\n",
       "269  SYM    VERB   0.0    0.000000\n",
       "174  CCONJ  PRON   0.0    0.000000\n",
       "236  VERB   SCONJ  0.0    0.000000\n",
       "211  NOUN   PUNCT  0.0    0.000000\n",
       "270  VERB   VERB   0.0    0.000000\n",
       "212  NUM    PUNCT  0.0    0.000000\n",
       "214  PRON   PUNCT  0.0    0.000000\n",
       "215  PROPN  PUNCT  0.0    0.000000\n",
       "216  PUNCT  PUNCT  0.0    0.000000\n",
       "217  SCONJ  PUNCT  0.0    0.000000\n",
       "218  SYM    PUNCT  0.0    0.000000\n",
       "219  VERB   PUNCT  0.0    0.000000\n",
       "220  X      PUNCT  0.0    0.000000\n",
       "221  ADJ    SCONJ  0.0    0.000000\n",
       "224  AUX    SCONJ  0.0    0.000000\n",
       "235  SYM    SCONJ  0.0    0.000000\n",
       "226  DET    SCONJ  0.0    0.000000\n",
       "227  INTJ   SCONJ  0.0    0.000000\n",
       "228  NOUN   SCONJ  0.0    0.000000\n",
       "278  INTJ   X      0.0    0.000000\n",
       "229  NUM    SCONJ  0.0    0.000000\n",
       "230  PART   SCONJ  0.0    0.000000\n",
       "232  PROPN  SCONJ  0.0    0.000000\n",
       "233  PUNCT  SCONJ  0.0    0.000000\n",
       "234  SCONJ  SCONJ  0.0    0.000000\n",
       "0    ADJ    ADJ    0.0    0.000000\n",
       "144  NUM    NUM    0.0    0.000000\n",
       "173  AUX    PRON   0.0    0.000000\n",
       "58   NOUN   AUX    0.0    0.000000\n",
       "60   PART   AUX    0.0    0.000000\n",
       "61   PRON   AUX    0.0    0.000000\n",
       "62   PROPN  AUX    0.0    0.000000\n",
       "63   PUNCT  AUX    0.0    0.000000\n",
       "64   SCONJ  AUX    0.0    0.000000\n",
       "65   SYM    AUX    0.0    0.000000\n",
       "67   X      AUX    0.0    0.000000\n",
       "68   ADJ    CCONJ  0.0    0.000000\n",
       "69   ADP    CCONJ  0.0    0.000000\n",
       "70   ADV    CCONJ  0.0    0.000000\n",
       "71   AUX    CCONJ  0.0    0.000000\n",
       "72   CCONJ  CCONJ  0.0    0.000000\n",
       "73   DET    CCONJ  0.0    0.000000\n",
       "74   INTJ   CCONJ  0.0    0.000000\n",
       "75   NOUN   CCONJ  0.0    0.000000\n",
       "76   NUM    CCONJ  0.0    0.000000\n",
       "77   PART   CCONJ  0.0    0.000000\n",
       "78   PRON   CCONJ  0.0    0.000000\n",
       "80   PUNCT  CCONJ  0.0    0.000000\n",
       "82   SYM    CCONJ  0.0    0.000000\n",
       "83   VERB   CCONJ  0.0    0.000000\n",
       "88   AUX    DET    0.0    0.000000\n",
       "89   CCONJ  DET    0.0    0.000000\n",
       "90   DET    DET    0.0    0.000000\n",
       "91   INTJ   DET    0.0    0.000000\n",
       "59   NUM    AUX    0.0    0.000000\n",
       "57   INTJ   AUX    0.0    0.000000\n",
       "97   PUNCT  DET    0.0    0.000000\n",
       "56   DET    AUX    0.0    0.000000\n",
       "3    AUX    ADJ    0.0    0.000000\n",
       "4    CCONJ  ADJ    0.0    0.000000\n",
       "9    PART   ADJ    0.0    0.000000\n",
       "12   PUNCT  ADJ    0.0    0.000000\n",
       "13   SCONJ  ADJ    0.0    0.000000\n",
       "14   SYM    ADJ    0.0    0.000000\n",
       "18   ADP    ADP    0.0    0.000000\n",
       "21   CCONJ  ADP    0.0    0.000000\n",
       "22   DET    ADP    0.0    0.000000\n",
       "23   INTJ   ADP    0.0    0.000000\n",
       "25   NUM    ADP    0.0    0.000000\n",
       "27   PRON   ADP    0.0    0.000000\n",
       "29   PUNCT  ADP    0.0    0.000000\n",
       "31   SYM    ADP    0.0    0.000000\n",
       "36   ADV    ADV    0.0    0.000000\n",
       "40   INTJ   ADV    0.0    0.000000\n",
       "42   NUM    ADV    0.0    0.000000\n",
       "46   PUNCT  ADV    0.0    0.000000\n",
       "48   SYM    ADV    0.0    0.000000\n",
       "50   X      ADV    0.0    0.000000\n",
       "51   ADJ    AUX    0.0    0.000000\n",
       "52   ADP    AUX    0.0    0.000000\n",
       "53   ADV    AUX    0.0    0.000000\n",
       "54   AUX    AUX    0.0    0.000000\n",
       "55   CCONJ  AUX    0.0    0.000000\n",
       "92   NOUN   DET    0.0    0.000000\n",
       "98   SCONJ  DET    0.0    0.000000\n",
       "171  ADP    PRON   0.0    0.000000\n",
       "137  ADP    NUM    0.0    0.000000\n",
       "140  CCONJ  NUM    0.0    0.000000\n",
       "142  INTJ   NUM    0.0    0.000000\n",
       "145  PART   NUM    0.0    0.000000\n",
       "147  PROPN  NUM    0.0    0.000000\n",
       "148  PUNCT  NUM    0.0    0.000000\n",
       "149  SCONJ  NUM    0.0    0.000000\n",
       "150  SYM    NUM    0.0    0.000000\n",
       "152  X      NUM    0.0    0.000000\n",
       "153  ADJ    PART   0.0    0.000000\n",
       "154  ADP    PART   0.0    0.000000\n",
       "155  ADV    PART   0.0    0.000000\n",
       "156  AUX    PART   0.0    0.000000\n",
       "157  CCONJ  PART   0.0    0.000000\n",
       "158  DET    PART   0.0    0.000000\n",
       "159  INTJ   PART   0.0    0.000000\n",
       "160  NOUN   PART   0.0    0.000000\n",
       "161  NUM    PART   0.0    0.000000\n",
       "162  PART   PART   0.0    0.000000\n",
       "163  PRON   PART   0.0    0.000000\n",
       "164  PROPN  PART   0.0    0.000000\n",
       "165  PUNCT  PART   0.0    0.000000\n",
       "166  SCONJ  PART   0.0    0.000000\n",
       "167  SYM    PART   0.0    0.000000\n",
       "168  VERB   PART   0.0    0.000000\n",
       "169  X      PART   0.0    0.000000\n",
       "139  AUX    NUM    0.0    0.000000\n",
       "133  SYM    NOUN   0.0    0.000000\n",
       "99   SYM    DET    0.0    0.000000\n",
       "132  SCONJ  NOUN   0.0    0.000000\n",
       "100  VERB   DET    0.0    0.000000\n",
       "102  ADJ    INTJ   0.0    0.000000\n",
       "103  ADP    INTJ   0.0    0.000000\n",
       "104  ADV    INTJ   0.0    0.000000\n",
       "105  AUX    INTJ   0.0    0.000000\n",
       "107  DET    INTJ   0.0    0.000000\n",
       "108  INTJ   INTJ   0.0    0.000000\n",
       "109  NOUN   INTJ   0.0    0.000000\n",
       "110  NUM    INTJ   0.0    0.000000\n",
       "111  PART   INTJ   0.0    0.000000\n",
       "112  PRON   INTJ   0.0    0.000000\n",
       "113  PROPN  INTJ   0.0    0.000000\n",
       "114  PUNCT  INTJ   0.0    0.000000\n",
       "115  SCONJ  INTJ   0.0    0.000000\n",
       "116  SYM    INTJ   0.0    0.000000\n",
       "117  VERB   INTJ   0.0    0.000000\n",
       "118  X      INTJ   0.0    0.000000\n",
       "122  AUX    NOUN   0.0    0.000000\n",
       "123  CCONJ  NOUN   0.0    0.000000\n",
       "124  DET    NOUN   0.0    0.000000\n",
       "125  INTJ   NOUN   0.0    0.000000\n",
       "126  NOUN   NOUN   0.0    0.000000\n",
       "128  PART   NOUN   0.0    0.000000\n",
       "129  PRON   NOUN   0.0    0.000000\n",
       "131  PUNCT  NOUN   0.0    0.000000\n",
       "288  X      X      0.0    0.000000"
      ]
     },
     "execution_count": 26,
     "metadata": {},
     "output_type": "execute_result"
    }
   ],
   "source": [
    "sparse_conf_df = conf_df.reset_index().melt(id_vars=\"index\",var_name=\"actual\",value_name=\"count\").rename(columns={\"index\":\"pred\"})\n",
    "sparse_conf_df[\"percent\"] = sparse_conf_df[\"count\"]/sparse_conf_df[\"count\"].sum()\n",
    "sparse_conf_df = sparse_conf_df.sort_values(by=\"count\",ascending=False); sparse_conf_df"
   ]
  },
  {
   "cell_type": "code",
   "execution_count": 27,
   "metadata": {
    "ExecuteTime": {
     "end_time": "2020-05-14T13:10:13.219202Z",
     "start_time": "2020-05-14T13:10:13.211163Z"
    }
   },
   "outputs": [],
   "source": [
    "sparse_conf_df.to_csv(\"conf_pairs_zeroshot.csv\",index=False)"
   ]
  },
  {
   "cell_type": "code",
   "execution_count": 19,
   "metadata": {
    "ExecuteTime": {
     "end_time": "2020-05-14T12:51:05.625488Z",
     "start_time": "2020-05-14T12:51:05.620489Z"
    }
   },
   "outputs": [
    {
     "data": {
      "text/plain": [
       "(22938, 1983)"
      ]
     },
     "execution_count": 19,
     "metadata": {},
     "output_type": "execute_result"
    }
   ],
   "source": [
    "total_tags, incorrect_tags"
   ]
  },
  {
   "cell_type": "code",
   "execution_count": 20,
   "metadata": {
    "ExecuteTime": {
     "end_time": "2020-05-14T12:51:05.632485Z",
     "start_time": "2020-05-14T12:51:05.627487Z"
    }
   },
   "outputs": [
    {
     "name": "stdout",
     "output_type": "stream",
     "text": [
      "Accuracy:  0.9135495684017787\n"
     ]
    }
   ],
   "source": [
    "print(\"Accuracy: \",(total_tags-incorrect_tags)/total_tags)"
   ]
  },
  {
   "cell_type": "code",
   "execution_count": 21,
   "metadata": {
    "ExecuteTime": {
     "end_time": "2020-05-14T12:51:05.645487Z",
     "start_time": "2020-05-14T12:51:05.634489Z"
    }
   },
   "outputs": [
    {
     "data": {
      "text/html": [
       "<div>\n",
       "<style scoped>\n",
       "    .dataframe tbody tr th:only-of-type {\n",
       "        vertical-align: middle;\n",
       "    }\n",
       "\n",
       "    .dataframe tbody tr th {\n",
       "        vertical-align: top;\n",
       "    }\n",
       "\n",
       "    .dataframe thead th {\n",
       "        text-align: right;\n",
       "    }\n",
       "</style>\n",
       "<table border=\"1\" class=\"dataframe\">\n",
       "  <thead>\n",
       "    <tr style=\"text-align: right;\">\n",
       "      <th></th>\n",
       "      <th>sentences</th>\n",
       "      <th>ground_truth</th>\n",
       "      <th>predictions</th>\n",
       "    </tr>\n",
       "  </thead>\n",
       "  <tbody>\n",
       "    <tr>\n",
       "      <th>1389</th>\n",
       "      <td>Vandersteen wekte de sympathie op van zijn collega's en afdelingschef en mocht het vakblad van de slagers illustreren .</td>\n",
       "      <td>PROPN VERB DET NOUN ADP ADP PRON NOUN CCONJ NOUN CCONJ AUX DET NOUN ADP DET NOUN VERB PUNCT</td>\n",
       "      <td>PROPN VERB DET NOUN ADP ADP PRON NOUN CCONJ NOUN CCONJ AUX DET NOUN ADP DET NOUN VERB PUNCT</td>\n",
       "    </tr>\n",
       "    <tr>\n",
       "      <th>1390</th>\n",
       "      <td>Ook de wachtkamer en de personeels- en vergaderzalen mocht hij onder handen nemen .</td>\n",
       "      <td>ADV DET NOUN CCONJ DET X CCONJ NOUN AUX PRON ADP NOUN VERB PUNCT</td>\n",
       "      <td>ADV DET NOUN CCONJ DET NOUN CCONJ NOUN AUX PRON ADP NOUN VERB PUNCT</td>\n",
       "    </tr>\n",
       "    <tr>\n",
       "      <th>1391</th>\n",
       "      <td>Zo kwam hij in contact met J. Meuwissen , een Nederlander die sinds 1936 het blad Bravo uitgaf en op zoek was naar Vlaams en Nederlands tekentalent nu er geen Amerikaanse strips meer mochten gepubliceerd worden .</td>\n",
       "      <td>ADV VERB PRON ADP NOUN ADP PROPN PROPN PUNCT DET PROPN PRON ADP NUM DET NOUN PROPN VERB CCONJ ADP NOUN AUX ADP ADJ CCONJ ADJ NOUN SCONJ ADV DET ADJ NOUN ADV AUX VERB AUX PUNCT</td>\n",
       "      <td>ADV VERB PRON ADP NOUN ADP PROPN PROPN PUNCT DET NOUN PRON ADP NUM DET NOUN PROPN VERB CCONJ ADP NOUN AUX ADP ADJ CCONJ ADJ NOUN SCONJ PRON DET ADJ NOUN ADV AUX VERB AUX PUNCT</td>\n",
       "    </tr>\n",
       "    <tr>\n",
       "      <th>1392</th>\n",
       "      <td>Vandersteen mocht nu wekelijks een pagina vol tekenen rond Â« Sindbad de zeerover Â» , Â« Thor de holbewoner Â» en Â« Lancelot Â» .</td>\n",
       "      <td>PROPN AUX ADV ADJ DET NOUN ADJ VERB ADP PUNCT PROPN DET NOUN PUNCT PUNCT PUNCT PROPN DET NOUN PUNCT CCONJ PUNCT PROPN PUNCT PUNCT</td>\n",
       "      <td>PROPN AUX ADV ADV DET NOUN ADP NOUN ADP PUNCT PROPN DET PROPN PUNCT PUNCT PUNCT PROPN DET NOUN PUNCT CCONJ PUNCT PROPN PUNCT PUNCT</td>\n",
       "    </tr>\n",
       "    <tr>\n",
       "      <th>1393</th>\n",
       "      <td>Het waren stuk voor stuk erg onbeholpen , maar charmante strips die de lezers wel op de lachspieren werkten .</td>\n",
       "      <td>PRON AUX NOUN ADP NOUN ADJ ADJ PUNCT CCONJ ADJ NOUN PRON DET NOUN ADV ADP DET NOUN VERB PUNCT</td>\n",
       "      <td>PRON AUX NOUN ADP NOUN ADV ADJ PUNCT CCONJ ADJ NOUN PRON DET NOUN ADV ADP DET NOUN VERB PUNCT</td>\n",
       "    </tr>\n",
       "  </tbody>\n",
       "</table>\n",
       "</div>"
      ],
      "text/plain": [
       "                                                                                                                                                                                                                 sentences  \\\n",
       "1389  Vandersteen wekte de sympathie op van zijn collega's en afdelingschef en mocht het vakblad van de slagers illustreren .                                                                                                \n",
       "1390  Ook de wachtkamer en de personeels- en vergaderzalen mocht hij onder handen nemen .                                                                                                                                    \n",
       "1391  Zo kwam hij in contact met J. Meuwissen , een Nederlander die sinds 1936 het blad Bravo uitgaf en op zoek was naar Vlaams en Nederlands tekentalent nu er geen Amerikaanse strips meer mochten gepubliceerd worden .   \n",
       "1392  Vandersteen mocht nu wekelijks een pagina vol tekenen rond Â« Sindbad de zeerover Â» , Â« Thor de holbewoner Â» en Â« Lancelot Â» .                                                                                    \n",
       "1393  Het waren stuk voor stuk erg onbeholpen , maar charmante strips die de lezers wel op de lachspieren werkten .                                                                                                          \n",
       "\n",
       "                                                                                                                                                                         ground_truth  \\\n",
       "1389  PROPN VERB DET NOUN ADP ADP PRON NOUN CCONJ NOUN CCONJ AUX DET NOUN ADP DET NOUN VERB PUNCT                                                                                       \n",
       "1390  ADV DET NOUN CCONJ DET X CCONJ NOUN AUX PRON ADP NOUN VERB PUNCT                                                                                                                  \n",
       "1391  ADV VERB PRON ADP NOUN ADP PROPN PROPN PUNCT DET PROPN PRON ADP NUM DET NOUN PROPN VERB CCONJ ADP NOUN AUX ADP ADJ CCONJ ADJ NOUN SCONJ ADV DET ADJ NOUN ADV AUX VERB AUX PUNCT   \n",
       "1392  PROPN AUX ADV ADJ DET NOUN ADJ VERB ADP PUNCT PROPN DET NOUN PUNCT PUNCT PUNCT PROPN DET NOUN PUNCT CCONJ PUNCT PROPN PUNCT PUNCT                                                 \n",
       "1393  PRON AUX NOUN ADP NOUN ADJ ADJ PUNCT CCONJ ADJ NOUN PRON DET NOUN ADV ADP DET NOUN VERB PUNCT                                                                                     \n",
       "\n",
       "                                                                                                                                                                          predictions  \n",
       "1389  PROPN VERB DET NOUN ADP ADP PRON NOUN CCONJ NOUN CCONJ AUX DET NOUN ADP DET NOUN VERB PUNCT                                                                                      \n",
       "1390  ADV DET NOUN CCONJ DET NOUN CCONJ NOUN AUX PRON ADP NOUN VERB PUNCT                                                                                                              \n",
       "1391  ADV VERB PRON ADP NOUN ADP PROPN PROPN PUNCT DET NOUN PRON ADP NUM DET NOUN PROPN VERB CCONJ ADP NOUN AUX ADP ADJ CCONJ ADJ NOUN SCONJ PRON DET ADJ NOUN ADV AUX VERB AUX PUNCT  \n",
       "1392  PROPN AUX ADV ADV DET NOUN ADP NOUN ADP PUNCT PROPN DET PROPN PUNCT PUNCT PUNCT PROPN DET NOUN PUNCT CCONJ PUNCT PROPN PUNCT PUNCT                                               \n",
       "1393  PRON AUX NOUN ADP NOUN ADV ADJ PUNCT CCONJ ADJ NOUN PRON DET NOUN ADV ADP DET NOUN VERB PUNCT                                                                                    "
      ]
     },
     "execution_count": 21,
     "metadata": {},
     "output_type": "execute_result"
    }
   ],
   "source": [
    "ud_pos.tail()"
   ]
  },
  {
   "cell_type": "code",
   "execution_count": null,
   "metadata": {},
   "outputs": [],
   "source": []
  }
 ],
 "metadata": {
  "kernelspec": {
   "display_name": "Python 3",
   "language": "python",
   "name": "python3"
  },
  "language_info": {
   "codemirror_mode": {
    "name": "ipython",
    "version": 3
   },
   "file_extension": ".py",
   "mimetype": "text/x-python",
   "name": "python",
   "nbconvert_exporter": "python",
   "pygments_lexer": "ipython3",
   "version": "3.7.3"
  }
 },
 "nbformat": 4,
 "nbformat_minor": 2
}
