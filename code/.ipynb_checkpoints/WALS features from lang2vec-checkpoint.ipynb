{
 "cells": [
  {
   "cell_type": "code",
   "execution_count": null,
   "metadata": {
    "ExecuteTime": {
     "end_time": "2020-04-23T17:20:04.482041Z",
     "start_time": "2020-04-23T17:20:04.063862Z"
    }
   },
   "outputs": [],
   "source": [
    "import lang2vec.lang2vec as l2v\n",
    "import pandas as pd, numpy as np\n",
    "\n",
    "\n",
    "features = l2v.get_features([\"eng\",'fr'],\"syntax_wals\",header=True)"
   ]
  },
  {
   "cell_type": "code",
   "execution_count": null,
   "metadata": {
    "ExecuteTime": {
     "end_time": "2020-04-23T17:20:04.482041Z",
     "start_time": "2020-04-23T17:20:04.361Z"
    }
   },
   "outputs": [],
   "source": [
    "features['eng'][:15]"
   ]
  },
  {
   "cell_type": "code",
   "execution_count": null,
   "metadata": {
    "ExecuteTime": {
     "end_time": "2020-04-23T17:20:04.690228Z",
     "start_time": "2020-04-23T17:20:04.678228Z"
    }
   },
   "outputs": [],
   "source": [
    "features['fr'][:15]"
   ]
  },
  {
   "cell_type": "code",
   "execution_count": null,
   "metadata": {},
   "outputs": [],
   "source": [
    "features_pd = pd.DataFrame(np.array([features['eng'],features['fr']]),columns=features[\"CODE\"])\n",
    "\n",
    "features_pd.head()"
   ]
  },
  {
   "cell_type": "code",
   "execution_count": null,
   "metadata": {},
   "outputs": [],
   "source": [
    "l2v.distance('syntactic','frr','dan')"
   ]
  },
  {
   "cell_type": "code",
   "execution_count": null,
   "metadata": {},
   "outputs": [],
   "source": [
    "frr"
   ]
  },
  {
   "cell_type": "code",
   "execution_count": null,
   "metadata": {},
   "outputs": [],
   "source": [
    "from scipy import spatial\n",
    "features = l2v.get_features([\"fr\",'dan'],\"syntax_wals\",header=True)\n",
    "frr, dan = features['fr'],features['dan']\n",
    "result = spatial.distance.cosine(np.array(frr),np.array(dan)); result"
   ]
  }
 ],
 "metadata": {
  "kernelspec": {
   "display_name": "Python 3",
   "language": "python",
   "name": "python3"
  },
  "language_info": {
   "codemirror_mode": {
    "name": "ipython",
    "version": 3
   },
   "file_extension": ".py",
   "mimetype": "text/x-python",
   "name": "python",
   "nbconvert_exporter": "python",
   "pygments_lexer": "ipython3",
   "version": "3.7.3"
  },
  "toc": {
   "base_numbering": 1,
   "nav_menu": {},
   "number_sections": false,
   "sideBar": true,
   "skip_h1_title": false,
   "title_cell": "Table of Contents",
   "title_sidebar": "Contents",
   "toc_cell": false,
   "toc_position": {},
   "toc_section_display": true,
   "toc_window_display": false
  }
 },
 "nbformat": 4,
 "nbformat_minor": 2
}
