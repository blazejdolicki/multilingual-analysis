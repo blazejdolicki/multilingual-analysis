{
 "cells": [
  {
   "cell_type": "code",
   "execution_count": 8,
   "metadata": {
    "ExecuteTime": {
     "end_time": "2020-05-18T16:43:43.621704Z",
     "start_time": "2020-05-18T16:43:43.618702Z"
    }
   },
   "outputs": [],
   "source": [
    "import os, pandas as pd"
   ]
  },
  {
   "cell_type": "code",
   "execution_count": 9,
   "metadata": {
    "ExecuteTime": {
     "end_time": "2020-05-18T16:43:43.898829Z",
     "start_time": "2020-05-18T16:43:43.875665Z"
    }
   },
   "outputs": [],
   "source": [
    "results = {\"train_lang\":[],\"test_lang\":[],\"acc\":[],\"f1\":[]}\n",
    "for file in os.listdir(\"results/\"):\n",
    "    if \"dev_results\" in file:\n",
    "        train_lang = file.split(\"_\")[2][:2]\n",
    "        with open(f\"results/{file}\") as f:\n",
    "            lines = f.read().split(\"\\n\")\n",
    "            f.close()\n",
    "\n",
    "        for line in lines:\n",
    "            if \"language\" in line:\n",
    "                language = line.split(\"=\")[1]\n",
    "                results[\"test_lang\"].append(language)\n",
    "                results[\"train_lang\"].append(train_lang)\n",
    "            elif \"accuracy\" in line:\n",
    "                accuracy = line.split()[2]\n",
    "                results[\"acc\"].append(float(accuracy))\n",
    "            elif \"f1\" in line:\n",
    "                f1 = line.split()[2]\n",
    "                results[\"f1\"].append(float(f1))\n",
    "            else:\n",
    "                continue\n",
    "results_df = pd.DataFrame.from_dict(results)"
   ]
  },
  {
   "cell_type": "code",
   "execution_count": 11,
   "metadata": {
    "ExecuteTime": {
     "end_time": "2020-05-18T16:43:44.641187Z",
     "start_time": "2020-05-18T16:43:44.610153Z"
    },
    "scrolled": true
   },
   "outputs": [
    {
     "data": {
      "text/html": [
       "<div>\n",
       "<style scoped>\n",
       "    .dataframe tbody tr th:only-of-type {\n",
       "        vertical-align: middle;\n",
       "    }\n",
       "\n",
       "    .dataframe tbody tr th {\n",
       "        vertical-align: top;\n",
       "    }\n",
       "\n",
       "    .dataframe thead th {\n",
       "        text-align: right;\n",
       "    }\n",
       "</style>\n",
       "<table border=\"1\" class=\"dataframe\">\n",
       "  <thead>\n",
       "    <tr style=\"text-align: right;\">\n",
       "      <th></th>\n",
       "      <th>train_lang</th>\n",
       "      <th>test_lang</th>\n",
       "      <th>acc</th>\n",
       "      <th>f1</th>\n",
       "    </tr>\n",
       "  </thead>\n",
       "  <tbody>\n",
       "    <tr>\n",
       "      <th>0</th>\n",
       "      <td>af</td>\n",
       "      <td>af</td>\n",
       "      <td>0.984390</td>\n",
       "      <td>0.982330</td>\n",
       "    </tr>\n",
       "    <tr>\n",
       "      <th>1</th>\n",
       "      <td>af</td>\n",
       "      <td>ar</td>\n",
       "      <td>0.587932</td>\n",
       "      <td>0.517718</td>\n",
       "    </tr>\n",
       "    <tr>\n",
       "      <th>2</th>\n",
       "      <td>af</td>\n",
       "      <td>bg</td>\n",
       "      <td>0.847598</td>\n",
       "      <td>0.834094</td>\n",
       "    </tr>\n",
       "    <tr>\n",
       "      <th>3</th>\n",
       "      <td>af</td>\n",
       "      <td>de</td>\n",
       "      <td>0.837953</td>\n",
       "      <td>0.828865</td>\n",
       "    </tr>\n",
       "    <tr>\n",
       "      <th>4</th>\n",
       "      <td>af</td>\n",
       "      <td>el</td>\n",
       "      <td>0.800967</td>\n",
       "      <td>0.779682</td>\n",
       "    </tr>\n",
       "  </tbody>\n",
       "</table>\n",
       "</div>"
      ],
      "text/plain": [
       "  train_lang test_lang       acc        f1\n",
       "0         af        af  0.984390  0.982330\n",
       "1         af        ar  0.587932  0.517718\n",
       "2         af        bg  0.847598  0.834094\n",
       "3         af        de  0.837953  0.828865\n",
       "4         af        el  0.800967  0.779682"
      ]
     },
     "execution_count": 11,
     "metadata": {},
     "output_type": "execute_result"
    }
   ],
   "source": [
    "results_df.head()"
   ]
  },
  {
   "cell_type": "code",
   "execution_count": 12,
   "metadata": {
    "ExecuteTime": {
     "end_time": "2020-05-18T16:46:44.897329Z",
     "start_time": "2020-05-18T16:46:44.874350Z"
    }
   },
   "outputs": [],
   "source": [
    "results_df.to_csv(\"lang_pair_scores.csv\",index=False)"
   ]
  }
 ],
 "metadata": {
  "kernelspec": {
   "display_name": "Python 3",
   "language": "python",
   "name": "python3"
  },
  "language_info": {
   "codemirror_mode": {
    "name": "ipython",
    "version": 3
   },
   "file_extension": ".py",
   "mimetype": "text/x-python",
   "name": "python",
   "nbconvert_exporter": "python",
   "pygments_lexer": "ipython3",
   "version": "3.7.3"
  }
 },
 "nbformat": 4,
 "nbformat_minor": 2
}
