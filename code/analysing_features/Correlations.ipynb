{
 "cells": [
  {
   "cell_type": "markdown",
   "metadata": {},
   "source": [
    "# Correlations between tasks and distances"
   ]
  },
  {
   "cell_type": "code",
   "execution_count": 40,
   "metadata": {
    "ExecuteTime": {
     "end_time": "2020-07-01T15:31:29.732986Z",
     "start_time": "2020-07-01T15:31:29.726979Z"
    }
   },
   "outputs": [],
   "source": [
    "import pandas as pd\n",
    "import lang2vec.lang2vec as l2v\n",
    "\n",
    "pd.set_option('display.max_columns', None)\n",
    "pd.set_option('display.max_rows', None)\n",
    "pd.set_option('display.max_colwidth',None)"
   ]
  },
  {
   "cell_type": "markdown",
   "metadata": {},
   "source": [
    "## Read scores for all tasks"
   ]
  },
  {
   "cell_type": "code",
   "execution_count": 41,
   "metadata": {
    "ExecuteTime": {
     "end_time": "2020-07-01T15:31:30.104939Z",
     "start_time": "2020-07-01T15:31:30.083904Z"
    }
   },
   "outputs": [],
   "source": [
    "udpos_scores = pd.read_csv(\"udpos/lang_pair_scores.csv\")[[\"train_lang\",\"test_lang\",\"acc\"]] \n",
    "ner_scores = pd.read_csv(\"ner/ner_lang_pair_scores.csv\")[[\"train_lang\",\"test_lang\",\"acc\"]]\n",
    "xnli_scores = pd.read_csv(\"xnli/xnli_lang_pair_scores.csv\").rename(columns={\"acc\":\"acc_xnli\"})"
   ]
  },
  {
   "cell_type": "code",
   "execution_count": 42,
   "metadata": {
    "ExecuteTime": {
     "end_time": "2020-07-01T15:31:30.464742Z",
     "start_time": "2020-07-01T15:31:30.446739Z"
    }
   },
   "outputs": [],
   "source": [
    "pos_ner = pd.merge(ner_scores, udpos_scores, on=[\"train_lang\",\"test_lang\"],suffixes=(\"_ner\", \"_pos\"),how=\"outer\")\n",
    "all_tasks = pd.merge(pos_ner,xnli_scores, on=[\"train_lang\",\"test_lang\"], how=\"outer\")"
   ]
  },
  {
   "cell_type": "code",
   "execution_count": 43,
   "metadata": {
    "ExecuteTime": {
     "end_time": "2020-07-01T15:31:30.779342Z",
     "start_time": "2020-07-01T15:31:30.765349Z"
    }
   },
   "outputs": [
    {
     "data": {
      "text/html": [
       "<div>\n",
       "<style scoped>\n",
       "    .dataframe tbody tr th:only-of-type {\n",
       "        vertical-align: middle;\n",
       "    }\n",
       "\n",
       "    .dataframe tbody tr th {\n",
       "        vertical-align: top;\n",
       "    }\n",
       "\n",
       "    .dataframe thead th {\n",
       "        text-align: right;\n",
       "    }\n",
       "</style>\n",
       "<table border=\"1\" class=\"dataframe\">\n",
       "  <thead>\n",
       "    <tr style=\"text-align: right;\">\n",
       "      <th></th>\n",
       "      <th>train_lang</th>\n",
       "      <th>test_lang</th>\n",
       "      <th>acc_ner</th>\n",
       "      <th>acc_pos</th>\n",
       "      <th>acc_xnli</th>\n",
       "    </tr>\n",
       "  </thead>\n",
       "  <tbody>\n",
       "    <tr>\n",
       "      <th>0</th>\n",
       "      <td>af</td>\n",
       "      <td>af</td>\n",
       "      <td>0.978337</td>\n",
       "      <td>0.984390</td>\n",
       "      <td>NaN</td>\n",
       "    </tr>\n",
       "    <tr>\n",
       "      <th>1</th>\n",
       "      <td>af</td>\n",
       "      <td>ar</td>\n",
       "      <td>0.793688</td>\n",
       "      <td>0.587932</td>\n",
       "      <td>NaN</td>\n",
       "    </tr>\n",
       "    <tr>\n",
       "      <th>2</th>\n",
       "      <td>af</td>\n",
       "      <td>bg</td>\n",
       "      <td>0.903963</td>\n",
       "      <td>0.847598</td>\n",
       "      <td>NaN</td>\n",
       "    </tr>\n",
       "    <tr>\n",
       "      <th>3</th>\n",
       "      <td>af</td>\n",
       "      <td>bn</td>\n",
       "      <td>0.709012</td>\n",
       "      <td>NaN</td>\n",
       "      <td>NaN</td>\n",
       "    </tr>\n",
       "    <tr>\n",
       "      <th>4</th>\n",
       "      <td>af</td>\n",
       "      <td>de</td>\n",
       "      <td>0.921272</td>\n",
       "      <td>0.837953</td>\n",
       "      <td>NaN</td>\n",
       "    </tr>\n",
       "  </tbody>\n",
       "</table>\n",
       "</div>"
      ],
      "text/plain": [
       "  train_lang test_lang   acc_ner   acc_pos  acc_xnli\n",
       "0         af        af  0.978337  0.984390       NaN\n",
       "1         af        ar  0.793688  0.587932       NaN\n",
       "2         af        bg  0.903963  0.847598       NaN\n",
       "3         af        bn  0.709012       NaN       NaN\n",
       "4         af        de  0.921272  0.837953       NaN"
      ]
     },
     "execution_count": 43,
     "metadata": {},
     "output_type": "execute_result"
    }
   ],
   "source": [
    "all_tasks.head()"
   ]
  },
  {
   "cell_type": "markdown",
   "metadata": {},
   "source": [
    "## Read files with language codes"
   ]
  },
  {
   "cell_type": "code",
   "execution_count": 44,
   "metadata": {
    "ExecuteTime": {
     "end_time": "2020-07-01T15:31:31.962221Z",
     "start_time": "2020-07-01T15:31:31.649183Z"
    }
   },
   "outputs": [],
   "source": [
    "lang_feats = pd.read_excel(\"../xtreme_langs_wals.xlsx\", index_col=0)\n",
    "lang_codes_2 = list(lang_feats['ISO 693-2'].values)\n",
    "lang_codes_2.remove(\"may\")\n",
    "lang_codes_1 = list(lang_feats.index)\n",
    "lang_codes_1.remove(\"ms\")"
   ]
  },
  {
   "cell_type": "markdown",
   "metadata": {},
   "source": [
    "Compute matrices with syntactic, geographic and genetic distances"
   ]
  },
  {
   "cell_type": "code",
   "execution_count": 45,
   "metadata": {
    "ExecuteTime": {
     "end_time": "2020-07-01T15:31:38.548183Z",
     "start_time": "2020-07-01T15:31:32.695995Z"
    }
   },
   "outputs": [],
   "source": [
    "synt_dist = pd.DataFrame(data=l2v.syntactic_distance(lang_codes_2),index=lang_codes_1,columns=lang_codes_1)\n",
    "geo_dist = pd.DataFrame(data=l2v.geographic_distance(lang_codes_2),index=lang_codes_1,columns=lang_codes_1)\n",
    "gen_dist = pd.DataFrame(data=l2v.genetic_distance(lang_codes_2),index=lang_codes_1,columns=lang_codes_1)"
   ]
  },
  {
   "cell_type": "markdown",
   "metadata": {},
   "source": [
    "Transform them into a single dataframe"
   ]
  },
  {
   "cell_type": "code",
   "execution_count": 46,
   "metadata": {
    "ExecuteTime": {
     "end_time": "2020-07-01T15:31:38.691067Z",
     "start_time": "2020-07-01T15:31:38.550152Z"
    },
    "scrolled": true
   },
   "outputs": [
    {
     "name": "stdout",
     "output_type": "stream",
     "text": [
      "Language not in URIEL af ms\n",
      "Language not in URIEL ar ms\n",
      "Language not in URIEL bg ms\n",
      "Language not in URIEL bn ms\n",
      "Language not in URIEL de ms\n",
      "Language not in URIEL el ms\n",
      "Language not in URIEL en ms\n",
      "Language not in URIEL es ms\n",
      "Language not in URIEL et ms\n",
      "Language not in URIEL eu ms\n",
      "Language not in URIEL fa ms\n",
      "Language not in URIEL fi ms\n",
      "Language not in URIEL fr ms\n",
      "Language not in URIEL he ms\n",
      "Language not in URIEL hi ms\n",
      "Language not in URIEL hu ms\n",
      "Language not in URIEL id ms\n",
      "Language not in URIEL it ms\n",
      "Language not in URIEL ja ms\n",
      "Language not in URIEL ka ms\n",
      "Language not in URIEL kk ms\n",
      "Language not in URIEL ko ms\n",
      "Language not in URIEL ml ms\n",
      "Language not in URIEL mr ms\n",
      "Language not in URIEL ms af\n",
      "Language not in URIEL ms ar\n",
      "Language not in URIEL ms bg\n",
      "Language not in URIEL ms bn\n",
      "Language not in URIEL ms de\n",
      "Language not in URIEL ms el\n",
      "Language not in URIEL ms en\n",
      "Language not in URIEL ms es\n",
      "Language not in URIEL ms et\n",
      "Language not in URIEL ms eu\n",
      "Language not in URIEL ms fa\n",
      "Language not in URIEL ms fi\n",
      "Language not in URIEL ms fr\n",
      "Language not in URIEL ms he\n",
      "Language not in URIEL ms hi\n",
      "Language not in URIEL ms hu\n",
      "Language not in URIEL ms id\n",
      "Language not in URIEL ms it\n",
      "Language not in URIEL ms ja\n",
      "Language not in URIEL ms jv\n",
      "Language not in URIEL ms ka\n",
      "Language not in URIEL ms kk\n",
      "Language not in URIEL ms ko\n",
      "Language not in URIEL ms ml\n",
      "Language not in URIEL ms mr\n",
      "Language not in URIEL ms ms\n",
      "Language not in URIEL ms my\n",
      "Language not in URIEL ms nl\n",
      "Language not in URIEL ms pt\n",
      "Language not in URIEL ms ru\n",
      "Language not in URIEL ms sw\n",
      "Language not in URIEL ms ta\n",
      "Language not in URIEL ms te\n",
      "Language not in URIEL ms th\n",
      "Language not in URIEL ms tl\n",
      "Language not in URIEL ms tr\n",
      "Language not in URIEL ms ur\n",
      "Language not in URIEL ms vi\n",
      "Language not in URIEL ms yo\n",
      "Language not in URIEL ms zh\n",
      "Language not in URIEL my ms\n",
      "Language not in URIEL nl ms\n",
      "Language not in URIEL pt ms\n",
      "Language not in URIEL ru ms\n",
      "Language not in URIEL sw ms\n",
      "Language not in URIEL ta ms\n",
      "Language not in URIEL te ms\n",
      "Language not in URIEL th ms\n",
      "Language not in URIEL tl ms\n",
      "Language not in URIEL ur ms\n",
      "Language not in URIEL vi ms\n",
      "Language not in URIEL zh ms\n"
     ]
    }
   ],
   "source": [
    "for i in all_tasks.index:\n",
    "        train_lang = all_tasks.at[i,\"train_lang\"]\n",
    "        test_lang = all_tasks.at[i,\"test_lang\"]\n",
    "        try:\n",
    "            all_tasks.at[i,\"syn_dist\"] =  synt_dist.at[train_lang, test_lang]\n",
    "            all_tasks.at[i,\"geo_dist\"] =  geo_dist.at[train_lang, test_lang]\n",
    "            all_tasks.at[i,\"gen_dist\"] =  gen_dist.at[train_lang, test_lang]\n",
    "        except:\n",
    "            print(\"Language not in URIEL\",train_lang, test_lang)\n",
    "            all_tasks.at[i,\"syn_dist\"] = -1\n",
    "            all_tasks.at[i,\"geo_dist\"] =  -1\n",
    "            all_tasks.at[i,\"gen_dist\"] =  -1"
   ]
  },
  {
   "cell_type": "code",
   "execution_count": 47,
   "metadata": {
    "ExecuteTime": {
     "end_time": "2020-07-01T15:31:38.709063Z",
     "start_time": "2020-07-01T15:31:38.694066Z"
    }
   },
   "outputs": [
    {
     "data": {
      "text/html": [
       "<div>\n",
       "<style scoped>\n",
       "    .dataframe tbody tr th:only-of-type {\n",
       "        vertical-align: middle;\n",
       "    }\n",
       "\n",
       "    .dataframe tbody tr th {\n",
       "        vertical-align: top;\n",
       "    }\n",
       "\n",
       "    .dataframe thead th {\n",
       "        text-align: right;\n",
       "    }\n",
       "</style>\n",
       "<table border=\"1\" class=\"dataframe\">\n",
       "  <thead>\n",
       "    <tr style=\"text-align: right;\">\n",
       "      <th></th>\n",
       "      <th>train_lang</th>\n",
       "      <th>test_lang</th>\n",
       "      <th>acc_ner</th>\n",
       "      <th>acc_pos</th>\n",
       "      <th>acc_xnli</th>\n",
       "      <th>syn_dist</th>\n",
       "      <th>geo_dist</th>\n",
       "      <th>gen_dist</th>\n",
       "    </tr>\n",
       "  </thead>\n",
       "  <tbody>\n",
       "    <tr>\n",
       "      <th>0</th>\n",
       "      <td>af</td>\n",
       "      <td>af</td>\n",
       "      <td>0.978337</td>\n",
       "      <td>0.984390</td>\n",
       "      <td>NaN</td>\n",
       "      <td>0.00</td>\n",
       "      <td>0.0</td>\n",
       "      <td>0.0000</td>\n",
       "    </tr>\n",
       "    <tr>\n",
       "      <th>1</th>\n",
       "      <td>af</td>\n",
       "      <td>ar</td>\n",
       "      <td>0.793688</td>\n",
       "      <td>0.587932</td>\n",
       "      <td>NaN</td>\n",
       "      <td>0.71</td>\n",
       "      <td>1.0</td>\n",
       "      <td>1.0000</td>\n",
       "    </tr>\n",
       "    <tr>\n",
       "      <th>2</th>\n",
       "      <td>af</td>\n",
       "      <td>bg</td>\n",
       "      <td>0.903963</td>\n",
       "      <td>0.847598</td>\n",
       "      <td>NaN</td>\n",
       "      <td>0.59</td>\n",
       "      <td>0.4</td>\n",
       "      <td>0.8571</td>\n",
       "    </tr>\n",
       "    <tr>\n",
       "      <th>3</th>\n",
       "      <td>af</td>\n",
       "      <td>bn</td>\n",
       "      <td>0.709012</td>\n",
       "      <td>NaN</td>\n",
       "      <td>NaN</td>\n",
       "      <td>0.58</td>\n",
       "      <td>0.4</td>\n",
       "      <td>0.8750</td>\n",
       "    </tr>\n",
       "    <tr>\n",
       "      <th>4</th>\n",
       "      <td>af</td>\n",
       "      <td>de</td>\n",
       "      <td>0.921272</td>\n",
       "      <td>0.837953</td>\n",
       "      <td>NaN</td>\n",
       "      <td>0.52</td>\n",
       "      <td>0.4</td>\n",
       "      <td>0.2857</td>\n",
       "    </tr>\n",
       "  </tbody>\n",
       "</table>\n",
       "</div>"
      ],
      "text/plain": [
       "  train_lang test_lang   acc_ner   acc_pos  acc_xnli  syn_dist  geo_dist  \\\n",
       "0         af        af  0.978337  0.984390       NaN      0.00       0.0   \n",
       "1         af        ar  0.793688  0.587932       NaN      0.71       1.0   \n",
       "2         af        bg  0.903963  0.847598       NaN      0.59       0.4   \n",
       "3         af        bn  0.709012       NaN       NaN      0.58       0.4   \n",
       "4         af        de  0.921272  0.837953       NaN      0.52       0.4   \n",
       "\n",
       "   gen_dist  \n",
       "0    0.0000  \n",
       "1    1.0000  \n",
       "2    0.8571  \n",
       "3    0.8750  \n",
       "4    0.2857  "
      ]
     },
     "execution_count": 47,
     "metadata": {},
     "output_type": "execute_result"
    }
   ],
   "source": [
    "all_tasks.head()"
   ]
  },
  {
   "cell_type": "code",
   "execution_count": 48,
   "metadata": {
    "ExecuteTime": {
     "end_time": "2020-07-01T15:31:39.970086Z",
     "start_time": "2020-07-01T15:31:39.962055Z"
    }
   },
   "outputs": [],
   "source": [
    "all_tasks = all_tasks[all_tasks.train_lang!=all_tasks.test_lang]\n",
    "all_tasks = all_tasks[(all_tasks.syn_dist!=-1)&(all_tasks.geo_dist!=-1)&(all_tasks.gen_dist!=-1)]"
   ]
  },
  {
   "cell_type": "code",
   "execution_count": 49,
   "metadata": {
    "ExecuteTime": {
     "end_time": "2020-07-01T15:31:41.082482Z",
     "start_time": "2020-07-01T15:31:40.575616Z"
    }
   },
   "outputs": [
    {
     "name": "stdout",
     "output_type": "stream",
     "text": [
      "Task ner\n",
      "Task pos\n",
      "Task xnli\n"
     ]
    }
   ],
   "source": [
    "from scipy import stats\n",
    "\n",
    "corrs = {\"task\":[],\"syn\":[],\"geo\":[],\"gen\":[]}\n",
    "for task in [\"ner\", \"pos\", \"xnli\"]:\n",
    "    print(\"Task\",task)\n",
    "    corrs[\"task\"].append(task)\n",
    "    for dist in [\"syn\",\"geo\",\"gen\"]:\n",
    "        drop_na = all_tasks.dropna(subset=['acc_'+task,dist+'_dist'])\n",
    "        corr = stats.pearsonr(drop_na['acc_'+task], drop_na[dist+'_dist'])\n",
    "        corrs[dist].append(corr[0])"
   ]
  },
  {
   "cell_type": "code",
   "execution_count": 50,
   "metadata": {
    "ExecuteTime": {
     "end_time": "2020-07-01T15:31:41.469930Z",
     "start_time": "2020-07-01T15:31:41.465956Z"
    }
   },
   "outputs": [],
   "source": [
    "corrs_table = pd.DataFrame.from_dict(corrs)"
   ]
  },
  {
   "cell_type": "code",
   "execution_count": 52,
   "metadata": {
    "ExecuteTime": {
     "end_time": "2020-07-01T15:31:45.651652Z",
     "start_time": "2020-07-01T15:31:45.639654Z"
    }
   },
   "outputs": [
    {
     "data": {
      "text/html": [
       "<div>\n",
       "<style scoped>\n",
       "    .dataframe tbody tr th:only-of-type {\n",
       "        vertical-align: middle;\n",
       "    }\n",
       "\n",
       "    .dataframe tbody tr th {\n",
       "        vertical-align: top;\n",
       "    }\n",
       "\n",
       "    .dataframe thead th {\n",
       "        text-align: right;\n",
       "    }\n",
       "</style>\n",
       "<table border=\"1\" class=\"dataframe\">\n",
       "  <thead>\n",
       "    <tr style=\"text-align: right;\">\n",
       "      <th></th>\n",
       "      <th>task</th>\n",
       "      <th>syn</th>\n",
       "      <th>geo</th>\n",
       "      <th>gen</th>\n",
       "    </tr>\n",
       "  </thead>\n",
       "  <tbody>\n",
       "    <tr>\n",
       "      <th>0</th>\n",
       "      <td>ner</td>\n",
       "      <td>-0.183454</td>\n",
       "      <td>-0.197949</td>\n",
       "      <td>-0.198537</td>\n",
       "    </tr>\n",
       "    <tr>\n",
       "      <th>1</th>\n",
       "      <td>pos</td>\n",
       "      <td>-0.292522</td>\n",
       "      <td>-0.378323</td>\n",
       "      <td>-0.319140</td>\n",
       "    </tr>\n",
       "    <tr>\n",
       "      <th>2</th>\n",
       "      <td>xnli</td>\n",
       "      <td>-0.157961</td>\n",
       "      <td>-0.274467</td>\n",
       "      <td>-0.100264</td>\n",
       "    </tr>\n",
       "  </tbody>\n",
       "</table>\n",
       "</div>"
      ],
      "text/plain": [
       "   task       syn       geo       gen\n",
       "0   ner -0.183454 -0.197949 -0.198537\n",
       "1   pos -0.292522 -0.378323 -0.319140\n",
       "2  xnli -0.157961 -0.274467 -0.100264"
      ]
     },
     "execution_count": 52,
     "metadata": {},
     "output_type": "execute_result"
    }
   ],
   "source": [
    "corrs_table"
   ]
  },
  {
   "cell_type": "code",
   "execution_count": 53,
   "metadata": {
    "ExecuteTime": {
     "end_time": "2020-07-01T15:31:49.470226Z",
     "start_time": "2020-07-01T15:31:49.467195Z"
    }
   },
   "outputs": [],
   "source": [
    "# print(corrs_table.to_latex())"
   ]
  },
  {
   "cell_type": "code",
   "execution_count": 54,
   "metadata": {
    "ExecuteTime": {
     "end_time": "2020-07-01T15:31:49.885219Z",
     "start_time": "2020-07-01T15:31:49.849213Z"
    }
   },
   "outputs": [
    {
     "name": "stdout",
     "output_type": "stream",
     "text": [
      "Task xnli\n",
      "Task xnli\n",
      "Task xnli\n"
     ]
    }
   ],
   "source": [
    "from scipy import stats\n",
    "\n",
    "corrs = {\"task\":[],\"ner\":[],\"pos\":[],\"xnli\":[]}\n",
    "for task1 in [\"ner\", \"pos\", \"xnli\"]:\n",
    "    print(\"Task\",task)\n",
    "    corrs[\"task\"].append(task1)\n",
    "    for task2 in [\"ner\", \"pos\", \"xnli\"]:\n",
    "        drop_na = all_tasks.dropna(subset=['acc_'+task1,'acc_'+task2])\n",
    "        corr = stats.pearsonr(drop_na['acc_'+task1], drop_na['acc_'+task2])\n",
    "        corrs[task2].append(corr[0])"
   ]
  },
  {
   "cell_type": "code",
   "execution_count": 55,
   "metadata": {
    "ExecuteTime": {
     "end_time": "2020-07-01T15:31:50.153573Z",
     "start_time": "2020-07-01T15:31:50.148569Z"
    }
   },
   "outputs": [],
   "source": [
    "corrs_table = pd.DataFrame.from_dict(corrs)"
   ]
  },
  {
   "cell_type": "code",
   "execution_count": 56,
   "metadata": {
    "ExecuteTime": {
     "end_time": "2020-07-01T15:31:52.075195Z",
     "start_time": "2020-07-01T15:31:52.065230Z"
    }
   },
   "outputs": [
    {
     "data": {
      "text/html": [
       "<div>\n",
       "<style scoped>\n",
       "    .dataframe tbody tr th:only-of-type {\n",
       "        vertical-align: middle;\n",
       "    }\n",
       "\n",
       "    .dataframe tbody tr th {\n",
       "        vertical-align: top;\n",
       "    }\n",
       "\n",
       "    .dataframe thead th {\n",
       "        text-align: right;\n",
       "    }\n",
       "</style>\n",
       "<table border=\"1\" class=\"dataframe\">\n",
       "  <thead>\n",
       "    <tr style=\"text-align: right;\">\n",
       "      <th></th>\n",
       "      <th>task</th>\n",
       "      <th>ner</th>\n",
       "      <th>pos</th>\n",
       "      <th>xnli</th>\n",
       "    </tr>\n",
       "  </thead>\n",
       "  <tbody>\n",
       "    <tr>\n",
       "      <th>0</th>\n",
       "      <td>ner</td>\n",
       "      <td>1.000000</td>\n",
       "      <td>0.495913</td>\n",
       "      <td>0.179361</td>\n",
       "    </tr>\n",
       "    <tr>\n",
       "      <th>1</th>\n",
       "      <td>pos</td>\n",
       "      <td>0.495913</td>\n",
       "      <td>1.000000</td>\n",
       "      <td>0.065942</td>\n",
       "    </tr>\n",
       "    <tr>\n",
       "      <th>2</th>\n",
       "      <td>xnli</td>\n",
       "      <td>0.179361</td>\n",
       "      <td>0.065942</td>\n",
       "      <td>1.000000</td>\n",
       "    </tr>\n",
       "  </tbody>\n",
       "</table>\n",
       "</div>"
      ],
      "text/plain": [
       "   task       ner       pos      xnli\n",
       "0   ner  1.000000  0.495913  0.179361\n",
       "1   pos  0.495913  1.000000  0.065942\n",
       "2  xnli  0.179361  0.065942  1.000000"
      ]
     },
     "execution_count": 56,
     "metadata": {},
     "output_type": "execute_result"
    }
   ],
   "source": [
    "corrs_table"
   ]
  },
  {
   "cell_type": "code",
   "execution_count": 57,
   "metadata": {
    "ExecuteTime": {
     "end_time": "2020-07-01T15:31:57.399293Z",
     "start_time": "2020-07-01T15:31:57.397291Z"
    }
   },
   "outputs": [],
   "source": [
    "# print(corrs_table.to_latex())"
   ]
  },
  {
   "cell_type": "markdown",
   "metadata": {},
   "source": [
    "## Show best source language for each target language and task"
   ]
  },
  {
   "cell_type": "code",
   "execution_count": 58,
   "metadata": {
    "ExecuteTime": {
     "end_time": "2020-07-01T15:31:57.850369Z",
     "start_time": "2020-07-01T15:31:57.776124Z"
    }
   },
   "outputs": [],
   "source": [
    "def get_best_lang_pos(x):\n",
    "    return x.at[x[\"acc_pos\"].idxmax(),\"train_lang\"]\n",
    "\n",
    "def get_best_lang_ner(x):\n",
    "    return x.at[x[\"acc_ner\"].idxmax(),\"train_lang\"]\n",
    "\n",
    "def get_best_lang_xnli(x):\n",
    "    return x.at[x[\"acc_xnli\"].idxmax(),\"train_lang\"]\n",
    "\n",
    "best_train_langs = pd.DataFrame()\n",
    "best_train_langs[\"ner\"] = all_tasks[all_tasks.train_lang!=all_tasks.test_lang].dropna(subset=[\"acc_ner\"]).groupby(by=\"test_lang\").apply(get_best_lang_ner)\n",
    "best_train_langs[\"pos\"] = all_tasks[all_tasks.train_lang!=all_tasks.test_lang].dropna(subset=[\"acc_pos\"]).groupby(by=\"test_lang\").apply(get_best_lang_pos)\n",
    "best_train_langs[\"xnli\"] = all_tasks[all_tasks.train_lang!=all_tasks.test_lang].dropna(subset=[\"acc_xnli\"]).groupby(by=\"test_lang\").apply(get_best_lang_xnli)"
   ]
  },
  {
   "cell_type": "code",
   "execution_count": 59,
   "metadata": {
    "ExecuteTime": {
     "end_time": "2020-07-01T15:32:13.524746Z",
     "start_time": "2020-07-01T15:32:13.509688Z"
    },
    "scrolled": true
   },
   "outputs": [
    {
     "data": {
      "text/html": [
       "<div>\n",
       "<style scoped>\n",
       "    .dataframe tbody tr th:only-of-type {\n",
       "        vertical-align: middle;\n",
       "    }\n",
       "\n",
       "    .dataframe tbody tr th {\n",
       "        vertical-align: top;\n",
       "    }\n",
       "\n",
       "    .dataframe thead th {\n",
       "        text-align: right;\n",
       "    }\n",
       "</style>\n",
       "<table border=\"1\" class=\"dataframe\">\n",
       "  <thead>\n",
       "    <tr style=\"text-align: right;\">\n",
       "      <th></th>\n",
       "      <th>ner</th>\n",
       "      <th>pos</th>\n",
       "      <th>xnli</th>\n",
       "    </tr>\n",
       "    <tr>\n",
       "      <th>test_lang</th>\n",
       "      <th></th>\n",
       "      <th></th>\n",
       "      <th></th>\n",
       "    </tr>\n",
       "  </thead>\n",
       "  <tbody>\n",
       "    <tr>\n",
       "      <th>af</th>\n",
       "      <td>nl</td>\n",
       "      <td>en</td>\n",
       "      <td>NaN</td>\n",
       "    </tr>\n",
       "    <tr>\n",
       "      <th>ar</th>\n",
       "      <td>fa</td>\n",
       "      <td>he</td>\n",
       "      <td>bg</td>\n",
       "    </tr>\n",
       "    <tr>\n",
       "      <th>bg</th>\n",
       "      <td>ru</td>\n",
       "      <td>fr</td>\n",
       "      <td>th</td>\n",
       "    </tr>\n",
       "    <tr>\n",
       "      <th>bn</th>\n",
       "      <td>ta</td>\n",
       "      <td>NaN</td>\n",
       "      <td>NaN</td>\n",
       "    </tr>\n",
       "    <tr>\n",
       "      <th>de</th>\n",
       "      <td>nl</td>\n",
       "      <td>nl</td>\n",
       "      <td>fr</td>\n",
       "    </tr>\n",
       "    <tr>\n",
       "      <th>el</th>\n",
       "      <td>it</td>\n",
       "      <td>de</td>\n",
       "      <td>de</td>\n",
       "    </tr>\n",
       "    <tr>\n",
       "      <th>en</th>\n",
       "      <td>id</td>\n",
       "      <td>it</td>\n",
       "      <td>de</td>\n",
       "    </tr>\n",
       "    <tr>\n",
       "      <th>es</th>\n",
       "      <td>fr</td>\n",
       "      <td>it</td>\n",
       "      <td>ru</td>\n",
       "    </tr>\n",
       "    <tr>\n",
       "      <th>et</th>\n",
       "      <td>fi</td>\n",
       "      <td>fi</td>\n",
       "      <td>NaN</td>\n",
       "    </tr>\n",
       "    <tr>\n",
       "      <th>eu</th>\n",
       "      <td>hu</td>\n",
       "      <td>ur</td>\n",
       "      <td>NaN</td>\n",
       "    </tr>\n",
       "    <tr>\n",
       "      <th>fa</th>\n",
       "      <td>fr</td>\n",
       "      <td>ru</td>\n",
       "      <td>NaN</td>\n",
       "    </tr>\n",
       "    <tr>\n",
       "      <th>fi</th>\n",
       "      <td>hu</td>\n",
       "      <td>et</td>\n",
       "      <td>NaN</td>\n",
       "    </tr>\n",
       "    <tr>\n",
       "      <th>fr</th>\n",
       "      <td>pt</td>\n",
       "      <td>es</td>\n",
       "      <td>el</td>\n",
       "    </tr>\n",
       "    <tr>\n",
       "      <th>he</th>\n",
       "      <td>ar</td>\n",
       "      <td>fi</td>\n",
       "      <td>NaN</td>\n",
       "    </tr>\n",
       "    <tr>\n",
       "      <th>hi</th>\n",
       "      <td>mr</td>\n",
       "      <td>ur</td>\n",
       "      <td>ru</td>\n",
       "    </tr>\n",
       "    <tr>\n",
       "      <th>hu</th>\n",
       "      <td>fi</td>\n",
       "      <td>nl</td>\n",
       "      <td>NaN</td>\n",
       "    </tr>\n",
       "    <tr>\n",
       "      <th>id</th>\n",
       "      <td>vi</td>\n",
       "      <td>en</td>\n",
       "      <td>NaN</td>\n",
       "    </tr>\n",
       "    <tr>\n",
       "      <th>it</th>\n",
       "      <td>nl</td>\n",
       "      <td>fr</td>\n",
       "      <td>NaN</td>\n",
       "    </tr>\n",
       "    <tr>\n",
       "      <th>ja</th>\n",
       "      <td>zh</td>\n",
       "      <td>zh</td>\n",
       "      <td>NaN</td>\n",
       "    </tr>\n",
       "    <tr>\n",
       "      <th>jv</th>\n",
       "      <td>id</td>\n",
       "      <td>NaN</td>\n",
       "      <td>NaN</td>\n",
       "    </tr>\n",
       "    <tr>\n",
       "      <th>ka</th>\n",
       "      <td>el</td>\n",
       "      <td>NaN</td>\n",
       "      <td>NaN</td>\n",
       "    </tr>\n",
       "    <tr>\n",
       "      <th>kk</th>\n",
       "      <td>af</td>\n",
       "      <td>NaN</td>\n",
       "      <td>NaN</td>\n",
       "    </tr>\n",
       "    <tr>\n",
       "      <th>ko</th>\n",
       "      <td>el</td>\n",
       "      <td>eu</td>\n",
       "      <td>NaN</td>\n",
       "    </tr>\n",
       "    <tr>\n",
       "      <th>ml</th>\n",
       "      <td>ta</td>\n",
       "      <td>NaN</td>\n",
       "      <td>NaN</td>\n",
       "    </tr>\n",
       "    <tr>\n",
       "      <th>mr</th>\n",
       "      <td>ka</td>\n",
       "      <td>de</td>\n",
       "      <td>NaN</td>\n",
       "    </tr>\n",
       "    <tr>\n",
       "      <th>my</th>\n",
       "      <td>ka</td>\n",
       "      <td>NaN</td>\n",
       "      <td>NaN</td>\n",
       "    </tr>\n",
       "    <tr>\n",
       "      <th>nl</th>\n",
       "      <td>it</td>\n",
       "      <td>en</td>\n",
       "      <td>NaN</td>\n",
       "    </tr>\n",
       "    <tr>\n",
       "      <th>pt</th>\n",
       "      <td>es</td>\n",
       "      <td>es</td>\n",
       "      <td>NaN</td>\n",
       "    </tr>\n",
       "    <tr>\n",
       "      <th>ru</th>\n",
       "      <td>bg</td>\n",
       "      <td>bg</td>\n",
       "      <td>vi</td>\n",
       "    </tr>\n",
       "    <tr>\n",
       "      <th>sw</th>\n",
       "      <td>tl</td>\n",
       "      <td>NaN</td>\n",
       "      <td>de</td>\n",
       "    </tr>\n",
       "    <tr>\n",
       "      <th>ta</th>\n",
       "      <td>ka</td>\n",
       "      <td>et</td>\n",
       "      <td>NaN</td>\n",
       "    </tr>\n",
       "    <tr>\n",
       "      <th>te</th>\n",
       "      <td>ta</td>\n",
       "      <td>en</td>\n",
       "      <td>NaN</td>\n",
       "    </tr>\n",
       "    <tr>\n",
       "      <th>th</th>\n",
       "      <td>zh</td>\n",
       "      <td>NaN</td>\n",
       "      <td>zh</td>\n",
       "    </tr>\n",
       "    <tr>\n",
       "      <th>tl</th>\n",
       "      <td>vi</td>\n",
       "      <td>NaN</td>\n",
       "      <td>NaN</td>\n",
       "    </tr>\n",
       "    <tr>\n",
       "      <th>tr</th>\n",
       "      <td>fi</td>\n",
       "      <td>hi</td>\n",
       "      <td>th</td>\n",
       "    </tr>\n",
       "    <tr>\n",
       "      <th>ur</th>\n",
       "      <td>ar</td>\n",
       "      <td>hi</td>\n",
       "      <td>zh</td>\n",
       "    </tr>\n",
       "    <tr>\n",
       "      <th>vi</th>\n",
       "      <td>id</td>\n",
       "      <td>fr</td>\n",
       "      <td>bg</td>\n",
       "    </tr>\n",
       "    <tr>\n",
       "      <th>yo</th>\n",
       "      <td>id</td>\n",
       "      <td>NaN</td>\n",
       "      <td>NaN</td>\n",
       "    </tr>\n",
       "    <tr>\n",
       "      <th>zh</th>\n",
       "      <td>ja</td>\n",
       "      <td>ja</td>\n",
       "      <td>th</td>\n",
       "    </tr>\n",
       "  </tbody>\n",
       "</table>\n",
       "</div>"
      ],
      "text/plain": [
       "          ner  pos xnli\n",
       "test_lang              \n",
       "af         nl   en  NaN\n",
       "ar         fa   he   bg\n",
       "bg         ru   fr   th\n",
       "bn         ta  NaN  NaN\n",
       "de         nl   nl   fr\n",
       "el         it   de   de\n",
       "en         id   it   de\n",
       "es         fr   it   ru\n",
       "et         fi   fi  NaN\n",
       "eu         hu   ur  NaN\n",
       "fa         fr   ru  NaN\n",
       "fi         hu   et  NaN\n",
       "fr         pt   es   el\n",
       "he         ar   fi  NaN\n",
       "hi         mr   ur   ru\n",
       "hu         fi   nl  NaN\n",
       "id         vi   en  NaN\n",
       "it         nl   fr  NaN\n",
       "ja         zh   zh  NaN\n",
       "jv         id  NaN  NaN\n",
       "ka         el  NaN  NaN\n",
       "kk         af  NaN  NaN\n",
       "ko         el   eu  NaN\n",
       "ml         ta  NaN  NaN\n",
       "mr         ka   de  NaN\n",
       "my         ka  NaN  NaN\n",
       "nl         it   en  NaN\n",
       "pt         es   es  NaN\n",
       "ru         bg   bg   vi\n",
       "sw         tl  NaN   de\n",
       "ta         ka   et  NaN\n",
       "te         ta   en  NaN\n",
       "th         zh  NaN   zh\n",
       "tl         vi  NaN  NaN\n",
       "tr         fi   hi   th\n",
       "ur         ar   hi   zh\n",
       "vi         id   fr   bg\n",
       "yo         id  NaN  NaN\n",
       "zh         ja   ja   th"
      ]
     },
     "execution_count": 59,
     "metadata": {},
     "output_type": "execute_result"
    }
   ],
   "source": [
    "best_train_langs"
   ]
  },
  {
   "cell_type": "code",
   "execution_count": 68,
   "metadata": {
    "ExecuteTime": {
     "end_time": "2020-07-01T15:34:49.919760Z",
     "start_time": "2020-07-01T15:34:49.912766Z"
    }
   },
   "outputs": [],
   "source": [
    "single_task = best_train_langs.count(axis=1)==1"
   ]
  },
  {
   "cell_type": "code",
   "execution_count": 70,
   "metadata": {
    "ExecuteTime": {
     "end_time": "2020-07-01T15:35:18.707108Z",
     "start_time": "2020-07-01T15:35:18.694108Z"
    },
    "scrolled": true
   },
   "outputs": [
    {
     "data": {
      "text/plain": [
       "2    18\n",
       "3     9\n",
       "1     4\n",
       "dtype: int64"
      ]
     },
     "execution_count": 70,
     "metadata": {},
     "output_type": "execute_result"
    }
   ],
   "source": [
    "best_train_langs[~single_task].nunique(axis=1).value_counts()"
   ]
  },
  {
   "cell_type": "markdown",
   "metadata": {},
   "source": [
    "We can see that out of 31 target languages that appeared in more than one task, only 4 have the same best source language for all tasks: Estonian, Portuguese, Japanese and Thai."
   ]
  }
 ],
 "metadata": {
  "kernelspec": {
   "display_name": "Python 3",
   "language": "python",
   "name": "python3"
  },
  "language_info": {
   "codemirror_mode": {
    "name": "ipython",
    "version": 3
   },
   "file_extension": ".py",
   "mimetype": "text/x-python",
   "name": "python",
   "nbconvert_exporter": "python",
   "pygments_lexer": "ipython3",
   "version": "3.7.3"
  },
  "toc": {
   "base_numbering": 1,
   "nav_menu": {},
   "number_sections": false,
   "sideBar": true,
   "skip_h1_title": false,
   "title_cell": "Table of Contents",
   "title_sidebar": "Contents",
   "toc_cell": false,
   "toc_position": {},
   "toc_section_display": true,
   "toc_window_display": true
  }
 },
 "nbformat": 4,
 "nbformat_minor": 4
}
