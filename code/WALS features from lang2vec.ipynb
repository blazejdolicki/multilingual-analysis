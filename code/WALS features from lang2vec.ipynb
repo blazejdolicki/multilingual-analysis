{
 "cells": [
  {
   "cell_type": "code",
   "execution_count": 22,
   "metadata": {
    "ExecuteTime": {
     "end_time": "2020-05-27T17:42:23.343548Z",
     "start_time": "2020-05-27T17:42:23.025932Z"
    },
    "scrolled": true
   },
   "outputs": [],
   "source": [
    "import lang2vec.lang2vec as l2v\n",
    "import pandas as pd, numpy as np\n",
    "\n",
    "features = l2v.get_features([\"eng\",'fr'],\"syntax_wals\",header=True)"
   ]
  },
  {
   "cell_type": "code",
   "execution_count": 8,
   "metadata": {
    "ExecuteTime": {
     "end_time": "2020-05-27T13:20:02.268813Z",
     "start_time": "2020-05-27T13:20:02.260808Z"
    }
   },
   "outputs": [
    {
     "data": {
      "text/plain": [
       "[1.0, 0.0, 0.0, 0.0, 0.0, 0.0, 1.0, 0.0, 1.0, 0.0, 1.0, 0.0, 1.0, 1.0, 0.0]"
      ]
     },
     "execution_count": 8,
     "metadata": {},
     "output_type": "execute_result"
    }
   ],
   "source": [
    "features['eng'][:15]"
   ]
  },
  {
   "cell_type": "code",
   "execution_count": 9,
   "metadata": {
    "ExecuteTime": {
     "end_time": "2020-05-27T13:20:02.345719Z",
     "start_time": "2020-05-27T13:20:02.339755Z"
    }
   },
   "outputs": [
    {
     "data": {
      "text/plain": [
       "[1.0, 0.0, 0.0, 0.0, 0.0, 0.0, 1.0, 0.0, 1.0, 0.0, 1.0, 0.0, 1.0, 1.0, 0.0]"
      ]
     },
     "execution_count": 9,
     "metadata": {},
     "output_type": "execute_result"
    }
   ],
   "source": [
    "features['fr'][:15]"
   ]
  },
  {
   "cell_type": "code",
   "execution_count": 10,
   "metadata": {
    "ExecuteTime": {
     "end_time": "2020-05-27T13:20:02.569678Z",
     "start_time": "2020-05-27T13:20:02.531704Z"
    }
   },
   "outputs": [
    {
     "data": {
      "text/html": [
       "<div>\n",
       "<style scoped>\n",
       "    .dataframe tbody tr th:only-of-type {\n",
       "        vertical-align: middle;\n",
       "    }\n",
       "\n",
       "    .dataframe tbody tr th {\n",
       "        vertical-align: top;\n",
       "    }\n",
       "\n",
       "    .dataframe thead th {\n",
       "        text-align: right;\n",
       "    }\n",
       "</style>\n",
       "<table border=\"1\" class=\"dataframe\">\n",
       "  <thead>\n",
       "    <tr style=\"text-align: right;\">\n",
       "      <th></th>\n",
       "      <th>S_SVO</th>\n",
       "      <th>S_SOV</th>\n",
       "      <th>S_VSO</th>\n",
       "      <th>S_VOS</th>\n",
       "      <th>S_OVS</th>\n",
       "      <th>S_OSV</th>\n",
       "      <th>S_SUBJECT_BEFORE_VERB</th>\n",
       "      <th>S_SUBJECT_AFTER_VERB</th>\n",
       "      <th>S_OBJECT_AFTER_VERB</th>\n",
       "      <th>S_OBJECT_BEFORE_VERB</th>\n",
       "      <th>...</th>\n",
       "      <th>S_XVO</th>\n",
       "      <th>S_XOV</th>\n",
       "      <th>S_OXV</th>\n",
       "      <th>S_OVX</th>\n",
       "      <th>S_OBLIQUE_AFTER_VERB</th>\n",
       "      <th>S_OBLIQUE_AFTER_OBJECT</th>\n",
       "      <th>S_OBLIQUE_BEFORE_VERB</th>\n",
       "      <th>S_OBLIQUE_BEFORE_OBJECT</th>\n",
       "      <th>S_ARTICLE_WORD_BEFORE_NOUN</th>\n",
       "      <th>S_ARTICLE_WORD_AFTER_NOUN</th>\n",
       "    </tr>\n",
       "  </thead>\n",
       "  <tbody>\n",
       "    <tr>\n",
       "      <th>0</th>\n",
       "      <td>1.0</td>\n",
       "      <td>0.0</td>\n",
       "      <td>0.0</td>\n",
       "      <td>0.0</td>\n",
       "      <td>0.0</td>\n",
       "      <td>0.0</td>\n",
       "      <td>1.0</td>\n",
       "      <td>0.0</td>\n",
       "      <td>1.0</td>\n",
       "      <td>0.0</td>\n",
       "      <td>...</td>\n",
       "      <td>0.0</td>\n",
       "      <td>0.0</td>\n",
       "      <td>0.0</td>\n",
       "      <td>0.0</td>\n",
       "      <td>1.0</td>\n",
       "      <td>1.0</td>\n",
       "      <td>0.0</td>\n",
       "      <td>0.0</td>\n",
       "      <td>--</td>\n",
       "      <td>--</td>\n",
       "    </tr>\n",
       "    <tr>\n",
       "      <th>1</th>\n",
       "      <td>1.0</td>\n",
       "      <td>0.0</td>\n",
       "      <td>0.0</td>\n",
       "      <td>0.0</td>\n",
       "      <td>0.0</td>\n",
       "      <td>0.0</td>\n",
       "      <td>1.0</td>\n",
       "      <td>0.0</td>\n",
       "      <td>1.0</td>\n",
       "      <td>0.0</td>\n",
       "      <td>...</td>\n",
       "      <td>0.0</td>\n",
       "      <td>0.0</td>\n",
       "      <td>0.0</td>\n",
       "      <td>0.0</td>\n",
       "      <td>1.0</td>\n",
       "      <td>1.0</td>\n",
       "      <td>0.0</td>\n",
       "      <td>0.0</td>\n",
       "      <td>--</td>\n",
       "      <td>--</td>\n",
       "    </tr>\n",
       "  </tbody>\n",
       "</table>\n",
       "<p>2 rows × 103 columns</p>\n",
       "</div>"
      ],
      "text/plain": [
       "  S_SVO S_SOV S_VSO S_VOS S_OVS S_OSV S_SUBJECT_BEFORE_VERB  \\\n",
       "0   1.0   0.0   0.0   0.0   0.0   0.0                   1.0   \n",
       "1   1.0   0.0   0.0   0.0   0.0   0.0                   1.0   \n",
       "\n",
       "  S_SUBJECT_AFTER_VERB S_OBJECT_AFTER_VERB S_OBJECT_BEFORE_VERB  ... S_XVO  \\\n",
       "0                  0.0                 1.0                  0.0  ...   0.0   \n",
       "1                  0.0                 1.0                  0.0  ...   0.0   \n",
       "\n",
       "  S_XOV S_OXV S_OVX S_OBLIQUE_AFTER_VERB S_OBLIQUE_AFTER_OBJECT  \\\n",
       "0   0.0   0.0   0.0                  1.0                    1.0   \n",
       "1   0.0   0.0   0.0                  1.0                    1.0   \n",
       "\n",
       "  S_OBLIQUE_BEFORE_VERB S_OBLIQUE_BEFORE_OBJECT S_ARTICLE_WORD_BEFORE_NOUN  \\\n",
       "0                   0.0                     0.0                         --   \n",
       "1                   0.0                     0.0                         --   \n",
       "\n",
       "  S_ARTICLE_WORD_AFTER_NOUN  \n",
       "0                        --  \n",
       "1                        --  \n",
       "\n",
       "[2 rows x 103 columns]"
      ]
     },
     "execution_count": 10,
     "metadata": {},
     "output_type": "execute_result"
    }
   ],
   "source": [
    "features_pd = pd.DataFrame(np.array([features['eng'],features['fr']]),columns=features[\"CODE\"])\n",
    "\n",
    "features_pd.head()"
   ]
  },
  {
   "cell_type": "code",
   "execution_count": 11,
   "metadata": {
    "ExecuteTime": {
     "end_time": "2020-05-27T13:20:04.533068Z",
     "start_time": "2020-05-27T13:20:02.747069Z"
    }
   },
   "outputs": [
    {
     "data": {
      "text/plain": [
       "0.66"
      ]
     },
     "execution_count": 11,
     "metadata": {},
     "output_type": "execute_result"
    }
   ],
   "source": [
    "l2v.distance('syntactic','frr','dan')"
   ]
  },
  {
   "cell_type": "code",
   "execution_count": 14,
   "metadata": {
    "ExecuteTime": {
     "end_time": "2020-05-27T13:20:12.942369Z",
     "start_time": "2020-05-27T13:20:12.939370Z"
    }
   },
   "outputs": [],
   "source": [
    "# from scipy import spatial\n",
    "# features = l2v.get_features([\"fr\",'dan'],\"syntax_wals\",header=True)\n",
    "# frr, dan = features['fr'],features['dan']\n",
    "# result = spatial.distance.cosine(np.array(frr),np.array(dan)); result"
   ]
  },
  {
   "cell_type": "code",
   "execution_count": 16,
   "metadata": {
    "ExecuteTime": {
     "end_time": "2020-05-27T13:38:39.564174Z",
     "start_time": "2020-05-27T13:38:37.843175Z"
    }
   },
   "outputs": [
    {
     "data": {
      "text/plain": [
       "array([[0.  , 0.66, 0.58],\n",
       "       [0.66, 0.  , 0.49],\n",
       "       [0.58, 0.49, 0.  ]])"
      ]
     },
     "execution_count": 16,
     "metadata": {},
     "output_type": "execute_result"
    }
   ],
   "source": [
    "l2v.syntactic_distance('ara','dan',\"deu\")"
   ]
  },
  {
   "cell_type": "code",
   "execution_count": null,
   "metadata": {},
   "outputs": [],
   "source": []
  }
 ],
 "metadata": {
  "kernelspec": {
   "display_name": "Python 3",
   "language": "python",
   "name": "python3"
  },
  "language_info": {
   "codemirror_mode": {
    "name": "ipython",
    "version": 3
   },
   "file_extension": ".py",
   "mimetype": "text/x-python",
   "name": "python",
   "nbconvert_exporter": "python",
   "pygments_lexer": "ipython3",
   "version": "3.7.3"
  },
  "toc": {
   "base_numbering": 1,
   "nav_menu": {},
   "number_sections": false,
   "sideBar": true,
   "skip_h1_title": false,
   "title_cell": "Table of Contents",
   "title_sidebar": "Contents",
   "toc_cell": false,
   "toc_position": {},
   "toc_section_display": true,
   "toc_window_display": false
  }
 },
 "nbformat": 4,
 "nbformat_minor": 2
}
